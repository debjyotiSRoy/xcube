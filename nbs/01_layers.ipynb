{
 "cells": [
  {
   "cell_type": "code",
   "execution_count": null,
   "id": "e69e757c-1d09-45b4-ba3f-8f6a360ab34b",
   "metadata": {},
   "outputs": [],
   "source": [
    "#| hide\n",
    "#| eval: false\n",
    "! [ -e /content ] && pip install -Uqq xcube  # upgrade fastai on colab"
   ]
  },
  {
   "cell_type": "code",
   "execution_count": null,
   "id": "9d7ece6e-cd30-465c-8e45-8e445a929440",
   "metadata": {},
   "outputs": [],
   "source": [
    "#| default_exp layers"
   ]
  },
  {
   "cell_type": "code",
   "execution_count": null,
   "id": "4da2b3c4-035c-4d68-b296-192587a74edd",
   "metadata": {},
   "outputs": [],
   "source": [
    "#| export\n",
    "from fastai.imports import *\n",
    "from fastai.torch_imports import *\n",
    "from fastai.torch_core import *\n",
    "from fastai.layers import *\n",
    "from fastai.text.models.awdlstm import EmbeddingDropout, RNNDropout\n",
    "\n",
    "from xcube.utils import *"
   ]
  },
  {
   "cell_type": "code",
   "execution_count": null,
   "id": "57c1482e-61fe-4214-81a6-f54f1bcc5339",
   "metadata": {},
   "outputs": [],
   "source": [
    "#| hide\n",
    "from nbdev.showdoc import *\n",
    "%load_ext autoreload\n",
    "%autoreload 2"
   ]
  },
  {
   "cell_type": "markdown",
   "id": "42a6c5e1-e381-4042-8a13-cdf71aab31b1",
   "metadata": {},
   "source": [
    "# Layers\n",
    "\n",
    ">Some layers which tops up the ones in [fastai](https://docs.fast.ai/layers.html)"
   ]
  },
  {
   "cell_type": "markdown",
   "id": "e50b5292-83d9-4d18-a79b-55c849925b41",
   "metadata": {},
   "source": [
    "## Basic manipulations and resizing"
   ]
  },
  {
   "cell_type": "markdown",
   "id": "182e3813-5eb7-4488-9560-73d7bb76ddfe",
   "metadata": {},
   "source": [
    "One can easily create a beautiful layer with minimum boilerplate using fastai utilities. We will show a few simple examples here. For details and extensive illustrations please refer to [decorated fastai layers](https://docs.fast.ai/layers.html#Basic-manipulations-and-resize)."
   ]
  },
  {
   "cell_type": "markdown",
   "id": "688ca1d5-0653-4aec-a169-501211001bc5",
   "metadata": {},
   "source": [
    "An easy way to create a pytorch layer for a simple `func`"
   ]
  },
  {
   "cell_type": "code",
   "execution_count": null,
   "id": "5a3ad71f-31a8-4d24-ad64-80e9d7b64f74",
   "metadata": {},
   "outputs": [
    {
     "data": {
      "text/markdown": [
       "---\n",
       "\n",
       "[source](https://github.com/fastai/fastai/blob/master/fastai/layers.py#LNone){target=\"_blank\" style=\"float:right; font-size:smaller\"}\n",
       "\n",
       "### Lambda\n",
       "\n",
       ">      Lambda (func)\n",
       "\n",
       "An easy way to create a pytorch layer for a simple `func`"
      ],
      "text/plain": [
       "---\n",
       "\n",
       "[source](https://github.com/fastai/fastai/blob/master/fastai/layers.py#LNone){target=\"_blank\" style=\"float:right; font-size:smaller\"}\n",
       "\n",
       "### Lambda\n",
       "\n",
       ">      Lambda (func)\n",
       "\n",
       "An easy way to create a pytorch layer for a simple `func`"
      ]
     },
     "execution_count": null,
     "metadata": {},
     "output_type": "execute_result"
    }
   ],
   "source": [
    "show_doc(Lambda)"
   ]
  },
  {
   "cell_type": "code",
   "execution_count": null,
   "id": "02a74e72-46fe-42d7-a0b5-af26895c7d50",
   "metadata": {},
   "outputs": [],
   "source": [
    "def _add2(x): return x+2\n",
    "tst = Lambda(_add2)\n",
    "x = torch.randn(10,20)\n",
    "test_eq(tst(x), x+2)\n",
    "tst2 = pickle.loads(pickle.dumps(tst))\n",
    "test_eq(tst2(x), x+2)"
   ]
  },
  {
   "cell_type": "code",
   "execution_count": null,
   "id": "f33ce3cc-388b-4bda-8271-df15e2215e23",
   "metadata": {},
   "outputs": [
    {
     "data": {
      "text/markdown": [
       "---\n",
       "\n",
       "[source](https://github.com/fastai/fastai/blob/master/fastai/layers.py#LNone){target=\"_blank\" style=\"float:right; font-size:smaller\"}\n",
       "\n",
       "### PartialLambda\n",
       "\n",
       ">      PartialLambda (func)\n",
       "\n",
       "Layer that applies `partial(func, **kwargs)`"
      ],
      "text/plain": [
       "---\n",
       "\n",
       "[source](https://github.com/fastai/fastai/blob/master/fastai/layers.py#LNone){target=\"_blank\" style=\"float:right; font-size:smaller\"}\n",
       "\n",
       "### PartialLambda\n",
       "\n",
       ">      PartialLambda (func)\n",
       "\n",
       "Layer that applies `partial(func, **kwargs)`"
      ]
     },
     "execution_count": null,
     "metadata": {},
     "output_type": "execute_result"
    }
   ],
   "source": [
    "show_doc(PartialLambda)"
   ]
  },
  {
   "cell_type": "code",
   "execution_count": null,
   "id": "b31b1570-1d92-44c7-ba01-d13a11cb4be4",
   "metadata": {},
   "outputs": [],
   "source": [
    "def test_func(a,b=2): return a+b\n",
    "tst = PartialLambda(test_func, b=5)\n",
    "test_eq(tst(x), x+5)"
   ]
  },
  {
   "cell_type": "markdown",
   "id": "20c267bc-2980-4b84-aa38-d57247e38236",
   "metadata": {},
   "source": [
    "## Linear"
   ]
  },
  {
   "cell_type": "code",
   "execution_count": null,
   "id": "854a8777-014f-4a2b-a34f-41f807c0b05f",
   "metadata": {},
   "outputs": [],
   "source": [
    "#| export\n",
    "def _create_bias(size, with_zeros=False):\n",
    "    if with_zeros: return nn.Parameter(torch.zeros(*size))\n",
    "    return nn.Parameter(torch.zeros(*size).uniform_(-0.1, 0.1))"
   ]
  },
  {
   "cell_type": "code",
   "execution_count": null,
   "id": "c4ce6199-c520-4a5a-90e0-e984c1b6e324",
   "metadata": {},
   "outputs": [],
   "source": [
    "#| export\n",
    "class ElemWiseLin(Module):\n",
    "    initrange=0.1\n",
    "    def __init__(self, dim0, dim1, add_bias=False, **kwargs):\n",
    "        store_attr()\n",
    "        self.lin = nn.Linear(dim1, dim0, **kwargs)\n",
    "        # init_default(self.lin, func=partial(torch.nn.init.uniform_, a=-self.initrange, b=self.initrange))\n",
    "        init_default(self.lin)\n",
    "        if self.add_bias: self.bias = _create_bias((1, ))\n",
    "        \n",
    "    def forward(self, x):\n",
    "        res = torch.addcmul(self.bias if self.add_bias else x.new_zeros(1), x, self.lin.weight)# * self.lin.weight\n",
    "        return res #+ self.bias if self.add_bias else res"
   ]
  },
  {
   "cell_type": "code",
   "execution_count": null,
   "id": "f39f8d3a-86fe-464c-87b1-8ce7a4a9977c",
   "metadata": {},
   "outputs": [],
   "source": [
    "bs, dim0, dim1 = 10, 1271, 400\n",
    "tst = ElemWiseLin(dim0, dim1)\n",
    "test_eq(tst.lin.weight.shape, (dim0, dim1))\n",
    "x = torch.randn(bs, dim0, dim1)\n",
    "test_eq(tst(x).shape, (bs, dim0, dim1))"
   ]
  },
  {
   "cell_type": "markdown",
   "id": "83c725aa-cd29-4bce-94bd-65f0bed0e682",
   "metadata": {},
   "source": [
    "## BatchNorm Layers"
   ]
  },
  {
   "cell_type": "code",
   "execution_count": null,
   "id": "b6b29a17-0e3f-4126-b8d7-984e638b5bf6",
   "metadata": {},
   "outputs": [],
   "source": [
    "#|export\n",
    "class LinBnFlatDrop(nn.Sequential):\n",
    "    \"Module grouping `BatchNorm1dFlat`, `Dropout` and `Linear` layers\"\n",
    "    def __init__(self, n_in, n_out, bn=True, p=0., act=None, lin_first=False):\n",
    "        layers = [BatchNorm1dFlat(n_out if lin_first else n_in)] if bn else []\n",
    "        if p != 0: layers.append(nn.Dropout(p))\n",
    "        lin = [nn.Linear(n_in, n_out, bias=not bn)]\n",
    "        if act is not None: lin.append(act)\n",
    "        layers = lin+layers if lin_first else layers+lin\n",
    "        super().__init__(*layers)"
   ]
  },
  {
   "cell_type": "code",
   "execution_count": null,
   "id": "fd9ab037-d625-44e8-a825-8d8675137a46",
   "metadata": {},
   "outputs": [],
   "source": [
    "#| export\n",
    "class LinBnDrop(nn.Sequential):\n",
    "    \"Module grouping `BatchNorm1d`, `Dropout` and `Linear` layers\"\n",
    "    def __init__(self, n_in, n_out=None, bn=True, ln=True, p=0., act=None, lin_first=False, ndim=1):\n",
    "        if not ln and lin_first: raise Exception(AssertionError)\n",
    "        layers = [BatchNorm(n_out if ln and lin_first else n_in, ndim=ndim)] if bn else []\n",
    "        if p != 0: layers.append(nn.Dropout(p))\n",
    "        lin = [nn.Linear(n_in, n_out, bias=not bn)] if ln else []\n",
    "        if ln and act is not None: lin.append(act)\n",
    "        layers = lin+layers if lin_first else layers+lin\n",
    "        super().__init__(*layers)"
   ]
  },
  {
   "cell_type": "markdown",
   "id": "9e4d5799-65f4-43d8-bce0-285b8f9e4222",
   "metadata": {},
   "source": [
    "`LinBnDrop` is just like [fastai's LinBnDrop](https://github.com/fastai/fastai/blob/master/fastai/layers.py#L174) with an extra modality `ln` which provides the option of skipping the linear layer. That is, `BatchNorm` or the `Linear` layer is skipped if `bn=False` or `ln=False`, as is the dropout if `p=0`. Optionally, you can add an activation for after the linear layer with act."
   ]
  },
  {
   "cell_type": "code",
   "execution_count": null,
   "id": "c9880666-3e6e-4700-8758-bca2b9a62b37",
   "metadata": {},
   "outputs": [],
   "source": [
    "tst = LinBnDrop(10, 20)\n",
    "mods = list(tst.children())\n",
    "assert isinstance(mods[0], nn.BatchNorm1d)\n",
    "assert isinstance(mods[1], nn.Linear)"
   ]
  },
  {
   "cell_type": "markdown",
   "id": "4fb3f9ff-e93b-4192-b90c-3bce1b259898",
   "metadata": {},
   "source": [
    "The `LinBnDrop` layer is not going to add an activation (even if provided) if `ln` is `False` but raise an error if `not ln and ln_first`: "
   ]
  },
  {
   "cell_type": "code",
   "execution_count": null,
   "id": "e2eceb17-dec3-442e-9076-5d399bc9a4f1",
   "metadata": {},
   "outputs": [],
   "source": [
    "tst = LinBnDrop(10, 20, ln=False, p=0.02, act=nn.ReLU(inplace=True))\n",
    "mods = list(tst.children())\n",
    "assert isinstance(mods[0], nn.BatchNorm1d)\n",
    "assert isinstance(mods[1], nn.Dropout)\n",
    "test_fail(lambda : LinBnDrop(10, 20, ln=False, lin_first=True), contains='AssertionError')"
   ]
  },
  {
   "cell_type": "markdown",
   "id": "9cb5eb5c-be53-4529-b84e-f9798002de72",
   "metadata": {},
   "source": [
    "## Embeddings"
   ]
  },
  {
   "cell_type": "code",
   "execution_count": null,
   "id": "6b3d817c-801e-4178-820b-080027f625e5",
   "metadata": {},
   "outputs": [],
   "source": [
    "#| export\n",
    "class Embedding(nn.Embedding):\n",
    "    \"Embedding layer with truncated normal initialization\"\n",
    "    def __init__(self, ni, nf, std=0.01, **kwargs):\n",
    "        super().__init__(ni, nf, **kwargs)\n",
    "        trunc_normal_(self.weight.data, std=std)"
   ]
  },
  {
   "cell_type": "markdown",
   "id": "ae54db6f-39fa-4a74-bbe8-4cd1ee991dc8",
   "metadata": {},
   "source": [
    "## Attention Layers for Extreme Multi-Label Classification"
   ]
  },
  {
   "cell_type": "code",
   "execution_count": null,
   "id": "9d9e4907-1f1e-4647-82fa-694428ba82fa",
   "metadata": {},
   "outputs": [],
   "source": [
    "#| export\n",
    "def _linear_attention(sentc:Tensor, # Sentence typically `(bs, bptt, nh)`\n",
    "                   based_on: Embedding|Module # xcube's `Embedding(n_lbs, nh)` layer holding the label embeddings or a full fledged model\n",
    "                  ):\n",
    "    return sentc @ based_on.weight.transpose(0,1)"
   ]
  },
  {
   "cell_type": "code",
   "execution_count": null,
   "id": "6b7dcfc9-9295-48d5-b12e-c74df1e8a0e1",
   "metadata": {},
   "outputs": [
    {
     "data": {
      "text/markdown": [
       "---\n",
       "\n",
       "[source](https://github.com/debjyotiSRoy/xcube/blob/main/xcube/layers.py#L66){target=\"_blank\" style=\"float:right; font-size:smaller\"}\n",
       "\n",
       "### _linear_attention\n",
       "\n",
       ">      _linear_attention (sentc:torch.Tensor,\n",
       ">                         based_on:__main__.Embedding|fastai.torch_core.Module)\n",
       "\n",
       "|    | **Type** | **Details** |\n",
       "| -- | -------- | ----------- |\n",
       "| sentc | Tensor | Sentence typically `(bs, bptt, nh)` |\n",
       "| based_on | __main__.Embedding \\| fastai.torch_core.Module | xcube's `Embedding(n_lbs, nh)` layer holding the label embeddings or a full fledged model |"
      ],
      "text/plain": [
       "---\n",
       "\n",
       "[source](https://github.com/debjyotiSRoy/xcube/blob/main/xcube/layers.py#L66){target=\"_blank\" style=\"float:right; font-size:smaller\"}\n",
       "\n",
       "### _linear_attention\n",
       "\n",
       ">      _linear_attention (sentc:torch.Tensor,\n",
       ">                         based_on:__main__.Embedding|fastai.torch_core.Module)\n",
       "\n",
       "|    | **Type** | **Details** |\n",
       "| -- | -------- | ----------- |\n",
       "| sentc | Tensor | Sentence typically `(bs, bptt, nh)` |\n",
       "| based_on | __main__.Embedding \\| fastai.torch_core.Module | xcube's `Embedding(n_lbs, nh)` layer holding the label embeddings or a full fledged model |"
      ]
     },
     "execution_count": null,
     "metadata": {},
     "output_type": "execute_result"
    }
   ],
   "source": [
    "show_doc(_linear_attention)"
   ]
  },
  {
   "cell_type": "code",
   "execution_count": null,
   "id": "c9ab3555-f42d-4049-9bf1-c9a16e7f7219",
   "metadata": {},
   "outputs": [],
   "source": [
    "#|export\n",
    "class _Pay_Attention:\n",
    "    def __init__(self, f, based_on): store_attr('f,based_on')\n",
    "    def __call__(self, sentc): return self.f(sentc, self.based_on)"
   ]
  },
  {
   "cell_type": "code",
   "execution_count": null,
   "id": "e89c0a3c-9394-4911-bc47-0d40d8f795d5",
   "metadata": {},
   "outputs": [],
   "source": [
    "#| export\n",
    "def Linear_Attention(based_on: Module): return _Pay_Attention(_linear_attention, based_on)"
   ]
  },
  {
   "cell_type": "code",
   "execution_count": null,
   "id": "06149a85-2cbe-4ab0-8794-8b4494d8542b",
   "metadata": {},
   "outputs": [],
   "source": [
    "#| export\n",
    "def Ranked_Attention(based_on: Module):\n",
    "    # TODO: Deb Create an architecture same as the Learning2Rank Model here, so that we can preload it just like fastai preloads LM encoder during text classification.\n",
    "    pass"
   ]
  },
  {
   "cell_type": "code",
   "execution_count": null,
   "id": "e49d52b8-f67f-435e-8d0e-e50f19005739",
   "metadata": {},
   "outputs": [],
   "source": [
    "bs, bptt, nh, n_lbs = 16, 72, 100, 10\n",
    "tst_lbs = Embedding(n_lbs, nh)\n",
    "tst_Lin_Attn = Linear_Attention(tst_lbs)\n",
    "attn_layer = Lambda(tst_Lin_Attn)\n",
    "sentc = torch.randn(bs, bptt, nh)\n",
    "test_eq(tst_Lin_Attn(sentc).shape , (bs, bptt, n_lbs))\n",
    "test_eqs(attn_layer(sentc), tst_Lin_Attn(sentc), sentc @ tst_lbs.weight.transpose(0,1))\n",
    "\n",
    "attn_layer2 = pickle.loads(pickle.dumps(attn_layer))\n",
    "test_eqs(attn_layer2(sentc), sentc @ tst_lbs.weight.transpose(0,1))"
   ]
  },
  {
   "cell_type": "code",
   "execution_count": null,
   "id": "638e4e59-8c7a-4ca9-a23f-65658b917e49",
   "metadata": {},
   "outputs": [],
   "source": [
    "#| export\n",
    "def lincomb(t, wgts=None):\n",
    "    \"returns the linear combination of the dim1 of a 3d tensor of `t` based on `wgts` (if `wgts` is `None` just adds the rows)\"\n",
    "    if wgts is None: wgts = t.new_ones(t.size(0), 1, t.size(1))\n",
    "    return torch.bmm(wgts, t) # wgts@t"
   ]
  },
  {
   "cell_type": "code",
   "execution_count": null,
   "id": "99494e2a-1766-4068-ade7-a749d8bd0afe",
   "metadata": {},
   "outputs": [],
   "source": [
    "t = torch.randn(16, 72, 100)\n",
    "wgts = t.new_ones(t.size(0), 1, t.size(1))\n",
    "test_eq(torch.bmm(wgts, t), lincomb(t))\n",
    "rand_wgts = t.new_empty(t.size(0), 15, t.size(1)).random_(10)\n",
    "# test_eq(lincomb(t, wgts=rand_wgts), torch.bmm(rand_wgts, t))\n",
    "tst_LinComb = PartialLambda(lincomb, wgts=rand_wgts)\n",
    "test_eq(tst_LinComb(t), torch.bmm(rand_wgts, t))"
   ]
  },
  {
   "cell_type": "code",
   "execution_count": null,
   "id": "b836be12-e82b-4b27-83bc-efbfcd1e5267",
   "metadata": {},
   "outputs": [],
   "source": [
    "#| export\n",
    "@torch.no_grad()\n",
    "def topkmax(x, k=None, dim=1):\n",
    "    \"\"\"\n",
    "    returns softmax of the 1th dim of 3d tensor x after zeroing out values in x smaller than `k`th largest.\n",
    "    If k is `None` behaves like `x.softmax(dim=dim). Intuitively, `topkmax` hedges more compared to `F.softmax``\n",
    "    \"\"\"\n",
    "    if dim!=1: raise NotImplementedError\n",
    "    k = min(k if k is not None else np.inf, x.size(dim)-1)\n",
    "    kth_largest = x.sort(dim=dim, descending=True).values[:,k,:][:,None,:].repeat(1, x.size(dim), 1)\n",
    "    x[x < kth_largest] = 0.\n",
    "    return x.softmax(dim=1)"
   ]
  },
  {
   "cell_type": "markdown",
   "id": "4604c57b-27fd-48e9-8864-be94de63446a",
   "metadata": {},
   "source": [
    "TODO: DEB \n",
    "- Make it work for other dims\n",
    "- Hyperparmam schedule the k in topkmax (start with high gradually decrease)"
   ]
  },
  {
   "cell_type": "code",
   "execution_count": null,
   "id": "bb2ba137-ae5c-4589-95b4-1bce6dce5448",
   "metadata": {},
   "outputs": [],
   "source": [
    "x = torch.randn((2, 7, 3))\n",
    "test_eq(topkmax(x, dim=1) , F.softmax(x, dim=1))\n",
    "test_fail(topkmax, args=(x, ), kwargs=dict(dim=-1)) # NotImplemented"
   ]
  },
  {
   "cell_type": "code",
   "execution_count": null,
   "id": "7b574784-04b0-4546-88cf-3441ea0a76f8",
   "metadata": {},
   "outputs": [],
   "source": [
    "#| export\n",
    "class XMLAttention(Module):\n",
    "    \"Compute label specific attention weights for each token in a sequence\"\n",
    "    def __init__(self, n_lbs, emb_sz, embed_p=0.0):\n",
    "        store_attr('n_lbs,emb_sz,embed_p')\n",
    "        self.lbs = Embedding(n_lbs, emb_sz)\n",
    "        # self.lbs_weight_dp = EmbeddingDropout(self.lbs_weight, embed_p)\n",
    "        self.LinAttn = Lambda(Linear_Attention(self.lbs))\n",
    "\n",
    "    def forward(self, sentc, mask):\n",
    "        # sent is the ouput of SentenceEncoder i.e., (bs, max_len tokens, nh)\n",
    "        attn_wgts = F.softmax(self.LinAttn(sentc), dim=1).masked_fill(mask[:,:,None], 0) # lbl specific wts for each token (bs, max_len, n_lbs)\n",
    "        return lincomb(sentc, wgts=attn_wgts.transpose(1,2)), attn_wgts # for each lbl do a linear combi of all the tokens based on attn_wgts (bs, num_lbs, nh)"
   ]
  },
  {
   "cell_type": "code",
   "execution_count": null,
   "id": "021aaed1-f1e3-482f-9d63-02be803f2e71",
   "metadata": {},
   "outputs": [],
   "source": [
    "sentc = torch.randn(bs, bptt, nh)\n",
    "mask = sentc.new_empty(sentc.size()[:-1]).random_(2).bool()\n",
    "test_eq(mask.unique(), tensor([0., 1.]))\n",
    "xml_attn = XMLAttention(n_lbs, nh)\n",
    "attn, *wgts = xml_attn(sentc, mask)\n",
    "test_eq(attn.shape, (bs, n_lbs, nh))\n",
    "tst_lbs = xml_attn.lbs\n",
    "tst_Lin_Attn = Linear_Attention(tst_lbs)\n",
    "attn_layer = Lambda(tst_Lin_Attn)\n",
    "attn_wgts = F.softmax(attn_layer(sentc), dim=1) # topkmax(attn_layer(sentc), dim=1)\n",
    "# test_eq(attn, torch.bmm(attn_wgts.transpose(1,2), sentc))\n",
    "test_eq(attn, torch.bmm(attn_wgts.masked_fill(mask[:, :, None], 0).transpose(1,2), sentc))"
   ]
  },
  {
   "cell_type": "markdown",
   "id": "b6e082a2-f073-4496-bd27-744ca9b12ac6",
   "metadata": {},
   "source": [
    "Test masking works:"
   ]
  },
  {
   "cell_type": "code",
   "execution_count": null,
   "id": "834a36b4-6e96-43dc-85e9-57f7175196c8",
   "metadata": {},
   "outputs": [],
   "source": [
    "sentc = torch.randn(bs, bptt, nh)\n",
    "sentc = sentc.masked_fill(mask[:, :, None], 0)\n",
    "assert sentc[mask].sum().item() == 0\n",
    "attn, *wgts = xml_attn(sentc, mask)\n",
    "assert sentc[mask].sum().item() == 0\n",
    "attn_wgts = F.softmax(attn_layer(sentc), dim=1) # topkmax(attn_layer(sentc), dim=1)\n",
    "test_eq(attn, torch.bmm(attn_wgts.transpose(1,2), sentc))"
   ]
  },
  {
   "cell_type": "markdown",
   "id": "16eac5df-a268-428e-9748-d335f38d8760",
   "metadata": {},
   "source": [
    "## Export -"
   ]
  },
  {
   "cell_type": "code",
   "execution_count": null,
   "id": "f68491dd-f9d6-4633-8ff1-9326a0b2ce5f",
   "metadata": {},
   "outputs": [],
   "source": [
    "#| hide\n",
    "import nbdev; nbdev.nbdev_export()"
   ]
  }
 ],
 "metadata": {
  "kernelspec": {
   "display_name": "deepK",
   "language": "python",
   "name": "deepk"
  }
 },
 "nbformat": 4,
 "nbformat_minor": 5
}
