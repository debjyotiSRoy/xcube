{
 "cells": [
  {
   "cell_type": "code",
   "execution_count": null,
   "id": "582ea85e-ff1d-4a10-ad00-71973e80f376",
   "metadata": {},
   "outputs": [],
   "source": [
    "#| hide\n",
    "#| eval: false\n",
    "! [ -e /content ] && pip install -Uqq xcube  # upgrade xcube on colab"
   ]
  },
  {
   "cell_type": "code",
   "execution_count": null,
   "id": "8044d63b-f379-48a3-8f2d-ecf589184b34",
   "metadata": {},
   "outputs": [],
   "source": [
    "#| default_exp data.transforms"
   ]
  },
  {
   "cell_type": "code",
   "execution_count": null,
   "id": "0b7f51dd-fd35-4bd2-9035-ed98247787c0",
   "metadata": {},
   "outputs": [],
   "source": [
    "#| export\n",
    "from fastai.torch_basics import *\n",
    "from fastai.data.core import *\n",
    "from fastai.data.load import *\n",
    "from fastai.data.all import *"
   ]
  },
  {
   "cell_type": "code",
   "execution_count": null,
   "id": "ccf7b836-d5f7-4e62-bc9a-4e521e2d1f06",
   "metadata": {},
   "outputs": [
    {
     "name": "stdout",
     "output_type": "stream",
     "text": [
      "The autoreload extension is already loaded. To reload it, use:\n",
      "  %reload_ext autoreload\n"
     ]
    }
   ],
   "source": [
    "#| hide\n",
    "from nbdev.showdoc import *\n",
    "%load_ext autoreload\n",
    "%autoreload 2"
   ]
  },
  {
   "cell_type": "markdown",
   "id": "62c8c648-fd6d-4fc3-b89e-8c21e45867f0",
   "metadata": {},
   "source": [
    "# Data Transformation\n",
    "\n",
    "> Some handy generic transformations "
   ]
  },
  {
   "cell_type": "code",
   "execution_count": null,
   "id": "2a33cfa3-2273-43d1-915f-21de483aa389",
   "metadata": {},
   "outputs": [],
   "source": [
    "#| export\n",
    "class ListToTensor(DisplayedTransform):\n",
    "    def encodes(self, x): return tensor(x).long()\n",
    "    def decodes(self, x): return L(x, use_list=True)"
   ]
  },
  {
   "cell_type": "code",
   "execution_count": null,
   "id": "a491c11d-0744-4ff9-9631-95f18cae4c89",
   "metadata": {},
   "outputs": [],
   "source": [
    "t = ListToTensor()\n",
    "x = [1, 2]\n",
    "test_eq(t(x), tensor([1, 2]))\n",
    "test_eq(t.decode(t(x)), [tensor(1),tensor(2)])"
   ]
  },
  {
   "cell_type": "markdown",
   "id": "85ad41dc-3b1e-4e9a-8c46-4717f0ed6412",
   "metadata": {},
   "source": [
    "## Export -"
   ]
  },
  {
   "cell_type": "code",
   "execution_count": null,
   "id": "93f19a7e-44a2-44fe-8c49-6036bb9d9bd8",
   "metadata": {},
   "outputs": [],
   "source": [
    "#| hide\n",
    "import nbdev; nbdev.nbdev_export()"
   ]
  }
 ],
 "metadata": {
  "kernelspec": {
   "display_name": "Python 3 (ipykernel)",
   "language": "python",
   "name": "python3"
  }
 },
 "nbformat": 4,
 "nbformat_minor": 5
}
