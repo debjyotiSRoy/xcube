{
 "cells": [
  {
   "cell_type": "code",
   "execution_count": null,
   "id": "d488bfb2-194f-4ee5-bc10-e174a54421a5",
   "metadata": {},
   "outputs": [],
   "source": [
    "#| eval: false\n",
    "! [ -e /content ] && pip install -Uqq xcube # upgrade xcube on colab"
   ]
  },
  {
   "cell_type": "code",
   "execution_count": null,
   "id": "a64cdf2d-31dc-489f-9e65-1f660ce61285",
   "metadata": {},
   "outputs": [],
   "source": [
    "#| default_exp l2r.data.boot"
   ]
  },
  {
   "cell_type": "code",
   "execution_count": null,
   "id": "710b7881-1b86-466f-816e-f95bccf4d812",
   "metadata": {},
   "outputs": [],
   "source": [
    "#| export\n",
    "# from fastai.torch_imports import *\n",
    "# from fastai.data.load import DataLoader\n",
    "# from xcube.imports import *"
   ]
  },
  {
   "cell_type": "code",
   "execution_count": null,
   "id": "2c762a07-0c49-4317-a3e9-9161bf2c52b1",
   "metadata": {},
   "outputs": [],
   "source": [
    "#| export\n",
    "from fastcore.basics import *\n",
    "from fastai.torch_core import *\n",
    "from fastai.data.core import *\n",
    "from fastai.data.transforms import *\n",
    "from fastai.text.core import *\n",
    "from fastai.text.data import *\n",
    "from xcube.imports import *"
   ]
  },
  {
   "cell_type": "code",
   "execution_count": null,
   "id": "358429e4-97df-483b-afe6-a33dc142962a",
   "metadata": {},
   "outputs": [
    {
     "name": "stdout",
     "output_type": "stream",
     "text": [
      "The autoreload extension is already loaded. To reload it, use:\n",
      "  %reload_ext autoreload\n"
     ]
    }
   ],
   "source": [
    "#| hide\n",
    "from nbdev.showdoc import *\n",
    "%load_ext autoreload\n",
    "%autoreload 2"
   ]
  },
  {
   "cell_type": "markdown",
   "id": "00877f46-6b01-410b-8cce-5b05f3ca7dae",
   "metadata": {},
   "source": [
    "# Boot L2R \n",
    "\n",
    "> Bootstrapping a learning-to-rank model"
   ]
  },
  {
   "cell_type": "markdown",
   "id": "2885474a-39cf-4f8a-981b-5ea302712cea",
   "metadata": {},
   "source": [
    "This module contains all the functions needed to bootstrap a L2R model from xml text data."
   ]
  },
  {
   "cell_type": "code",
   "execution_count": null,
   "id": "44247703-9a0f-453f-9ede-5c73f0ef55b4",
   "metadata": {},
   "outputs": [],
   "source": [
    "#| export\n",
    "def onehot_dsets(df):\n",
    "    x_tfms = [Tokenizer.from_df('text', n_workers=num_cpus()), attrgetter(\"text\"), Numericalize(), OneHotEncode()]\n",
    "    y_tfms = [ColReader('labels', label_delim=';'), MultiCategorize(), OneHotEncode()]\n",
    "    tfms = [x_tfms, y_tfms]\n",
    "    dsets = Datasets(df, tfms=[x_tfms, y_tfms])\n",
    "    return dsets"
   ]
  },
  {
   "cell_type": "code",
   "execution_count": null,
   "id": "53e7f27f-8c36-431e-8221-9d38536261f0",
   "metadata": {},
   "outputs": [],
   "source": [
    "#| export\n",
    "class BatchLbsChunkify(ItemTransform):\n",
    "    order = 100\n",
    "    def __init__(self, chnk_st, chnk_end): store_attr('chnk_st,chnk_end')\n",
    "    def encodes(self, x): \n",
    "        return (x[0], x[1][:, self.chnk_st:self.chnk_end])"
   ]
  },
  {
   "cell_type": "code",
   "execution_count": null,
   "id": "5ff31f2e-618b-436f-afa9-f9ff990edd66",
   "metadata": {},
   "outputs": [],
   "source": [
    "#| export\n",
    "def lbs_chunked(dsets, bs=8, chnk_sz=200, device=None):\n",
    "    lbs = dsets.vocab[1]\n",
    "    dls = []\n",
    "    for chnk_st in range(0, len(lbs), chnk_sz):\n",
    "        dls.append(TfmdDL(dsets, bs=bs, \n",
    "                          after_batch=[BatchLbsChunkify(chnk_st, min(chnk_st+chnk_sz, len(lbs)))], \n",
    "                          device=default_device() if device is None else device))\n",
    "    return dls"
   ]
  },
  {
   "cell_type": "markdown",
   "id": "9f009e81-e4d9-4b7f-99ca-4bdf506c823c",
   "metadata": {},
   "source": [
    "## Export -"
   ]
  },
  {
   "cell_type": "code",
   "execution_count": null,
   "id": "76bbd3f1-d655-4e48-acd8-041886ee97b0",
   "metadata": {},
   "outputs": [],
   "source": [
    "#| hide\n",
    "import nbdev; nbdev.nbdev_export()"
   ]
  }
 ],
 "metadata": {
  "kernelspec": {
   "display_name": "deepK",
   "language": "python",
   "name": "deepk"
  }
 },
 "nbformat": 4,
 "nbformat_minor": 5
}
