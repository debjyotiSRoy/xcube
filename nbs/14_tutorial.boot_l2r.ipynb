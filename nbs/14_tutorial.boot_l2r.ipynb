{
 "cells": [
  {
   "cell_type": "code",
   "execution_count": null,
   "id": "d488bfb2-194f-4ee5-bc10-e174a54421a5",
   "metadata": {},
   "outputs": [],
   "source": [
    "#| eval: false\n",
    "! [ -e /content ] && pip install -Uqq xcube # upgrade xcube on colab"
   ]
  },
  {
   "cell_type": "code",
   "execution_count": null,
   "id": "c93b20a4-5a7c-4fd5-814f-cb64921b4431",
   "metadata": {},
   "outputs": [],
   "source": [
    "from fastai.data.core import *\n",
    "from xcube.l2r.all import *"
   ]
  },
  {
   "cell_type": "code",
   "execution_count": null,
   "id": "8ce8aea4-abfa-4ab7-a98b-fbe0d7a38b61",
   "metadata": {},
   "outputs": [],
   "source": [
    "#| hide\n",
    "%load_ext autoreload\n",
    "%autoreload 2"
   ]
  },
  {
   "cell_type": "markdown",
   "id": "55be356e-7dc8-46fa-afa6-88268f035a91",
   "metadata": {},
   "source": [
    "# Boot L2R \n",
    "\n",
    "> Bootstrapping a learning-to-rank model"
   ]
  },
  {
   "cell_type": "markdown",
   "id": "1ed5e8d7-7262-49aa-8a85-c61eac2db1b8",
   "metadata": {},
   "source": [
    "In this tutorial we will find a needle in the haystack with mutual infomation gain:"
   ]
  },
  {
   "cell_type": "markdown",
   "id": "0ec6de06-8a50-47b7-8ca6-9a41e7b6d1b0",
   "metadata": {},
   "source": [
    "#### Mutual-Information Computation"
   ]
  },
  {
   "cell_type": "code",
   "execution_count": null,
   "id": "ec043320-083a-422b-9df4-ea7f1ee786fe",
   "metadata": {},
   "outputs": [
    {
     "data": {
      "text/plain": [
       "(#6) [Path('/home/deb/.xcube/data/mimic3_l2r/info.pkl'),Path('/home/deb/.xcube/data/mimic3_l2r/code_descriptions.csv'),Path('/home/deb/.xcube/data/mimic3_l2r/mimic3-9k_tok_lbl_info.pkl'),Path('/home/deb/.xcube/data/mimic3_l2r/code_desc.pkl'),Path('/home/deb/.xcube/data/mimic3_l2r/p_TL.pkl'),Path('/home/deb/.xcube/data/mimic3_l2r/mimic3-9k.csv')]"
      ]
     },
     "execution_count": null,
     "metadata": {},
     "output_type": "execute_result"
    }
   ],
   "source": [
    "source = untar_xxx(XURLs.MIMIC3_L2R)\n",
    "source.ls()"
   ]
  },
  {
   "cell_type": "code",
   "execution_count": null,
   "id": "ec423106-e384-49c7-b7e8-fe924b361f4e",
   "metadata": {},
   "outputs": [
    {
     "data": {
      "text/plain": [
       "52726"
      ]
     },
     "execution_count": null,
     "metadata": {},
     "output_type": "execute_result"
    }
   ],
   "source": [
    "data = source/'mimic3-9k.csv'\n",
    "df = pd.read_csv(data,\n",
    "                 header=0,\n",
    "                 names=['subject_id', 'hadm_id', 'text', 'labels', 'length', 'is_valid'],\n",
    "                 dtype={'subject_id': str, 'hadm_id': str, 'text': str, 'labels': str, 'length': np.int64, 'is_valid': bool})\n",
    "df[['text', 'labels']] = df[['text', 'labels']].astype(str)\n",
    "len(df)"
   ]
  },
  {
   "cell_type": "code",
   "execution_count": null,
   "id": "5ab32fe4-f8a8-4bf5-902e-129445c72fd4",
   "metadata": {},
   "outputs": [
    {
     "data": {
      "text/html": [
       "<div>\n",
       "<style scoped>\n",
       "    .dataframe tbody tr th:only-of-type {\n",
       "        vertical-align: middle;\n",
       "    }\n",
       "\n",
       "    .dataframe tbody tr th {\n",
       "        vertical-align: top;\n",
       "    }\n",
       "\n",
       "    .dataframe thead th {\n",
       "        text-align: right;\n",
       "    }\n",
       "</style>\n",
       "<table border=\"1\" class=\"dataframe\">\n",
       "  <thead>\n",
       "    <tr style=\"text-align: right;\">\n",
       "      <th></th>\n",
       "      <th>subject_id</th>\n",
       "      <th>hadm_id</th>\n",
       "      <th>text</th>\n",
       "      <th>labels</th>\n",
       "      <th>length</th>\n",
       "      <th>is_valid</th>\n",
       "    </tr>\n",
       "  </thead>\n",
       "  <tbody>\n",
       "    <tr>\n",
       "      <th>0</th>\n",
       "      <td>86006</td>\n",
       "      <td>111912</td>\n",
       "      <td>admission date discharge date date of birth sex f service surgery allergies patient recorded as having no known allergies to drugs attending first name3 lf chief complaint 60f on coumadin was found slightly drowsy tonight then fell down stairs paramedic found her unconscious and she was intubated w o any medication head ct shows multiple iph transferred to hospital1 for further eval major surgical or invasive procedure none past medical history her medical history is significant for hypertension osteoarthritis involving bilateral knee joints with a dependence on cane for ambulation chronic...</td>\n",
       "      <td>801.35;348.4;805.06;807.01;998.30;707.24;E880.9;427.31;414.01;401.9;V58.61;V43.64;707.00;E878.1;96.71</td>\n",
       "      <td>230</td>\n",
       "      <td>False</td>\n",
       "    </tr>\n",
       "    <tr>\n",
       "      <th>1</th>\n",
       "      <td>85950</td>\n",
       "      <td>189769</td>\n",
       "      <td>admission date discharge date service neurosurgery allergies sulfa sulfonamides attending first name3 lf chief complaint cc cc contact info major surgical or invasive procedure none history of present illness hpi 88m who lives with family had fall yesterday today had decline in mental status ems called pt was unresponsive on arrival went to osh head ct showed large r sdh pt was intubated at osh and transferred to hospital1 for further care past medical history cad s p mi in s p cabg in ventricular aneurysm at that time cath in with occluded rca unable to intervene chf reported ef 1st degre...</td>\n",
       "      <td>852.25;E888.9;403.90;585.9;250.00;414.00;V45.81;96.71</td>\n",
       "      <td>304</td>\n",
       "      <td>False</td>\n",
       "    </tr>\n",
       "    <tr>\n",
       "      <th>2</th>\n",
       "      <td>88025</td>\n",
       "      <td>180431</td>\n",
       "      <td>admission date discharge date date of birth sex f service surgery allergies no known allergies adverse drug reactions attending first name3 lf chief complaint s p fall major surgical or invasive procedure none history of present illness 45f etoh s p fall from window at feet found ambulating and slurring speech on scene intubated en route for declining mental status in the er the patient was found to be bradycardic to the s with bp of systolic she was given atropine dilantin and was started on saline past medical history unknown social history unknown family history unknown physical exam ex...</td>\n",
       "      <td>518.81;348.4;348.82;801.25;427.89;E882;V49.86;305.00;96.71;38.93</td>\n",
       "      <td>359</td>\n",
       "      <td>False</td>\n",
       "    </tr>\n",
       "  </tbody>\n",
       "</table>\n",
       "</div>"
      ],
      "text/plain": [
       "  subject_id hadm_id  \\\n",
       "0      86006  111912   \n",
       "1      85950  189769   \n",
       "2      88025  180431   \n",
       "\n",
       "                                                                                                                                                                                                                                                                                                                                                                                                                                                                                                                                                                                                                      text  \\\n",
       "0  admission date discharge date date of birth sex f service surgery allergies patient recorded as having no known allergies to drugs attending first name3 lf chief complaint 60f on coumadin was found slightly drowsy tonight then fell down stairs paramedic found her unconscious and she was intubated w o any medication head ct shows multiple iph transferred to hospital1 for further eval major surgical or invasive procedure none past medical history her medical history is significant for hypertension osteoarthritis involving bilateral knee joints with a dependence on cane for ambulation chronic...   \n",
       "1  admission date discharge date service neurosurgery allergies sulfa sulfonamides attending first name3 lf chief complaint cc cc contact info major surgical or invasive procedure none history of present illness hpi 88m who lives with family had fall yesterday today had decline in mental status ems called pt was unresponsive on arrival went to osh head ct showed large r sdh pt was intubated at osh and transferred to hospital1 for further care past medical history cad s p mi in s p cabg in ventricular aneurysm at that time cath in with occluded rca unable to intervene chf reported ef 1st degre...   \n",
       "2  admission date discharge date date of birth sex f service surgery allergies no known allergies adverse drug reactions attending first name3 lf chief complaint s p fall major surgical or invasive procedure none history of present illness 45f etoh s p fall from window at feet found ambulating and slurring speech on scene intubated en route for declining mental status in the er the patient was found to be bradycardic to the s with bp of systolic she was given atropine dilantin and was started on saline past medical history unknown social history unknown family history unknown physical exam ex...   \n",
       "\n",
       "                                                                                                  labels  \\\n",
       "0  801.35;348.4;805.06;807.01;998.30;707.24;E880.9;427.31;414.01;401.9;V58.61;V43.64;707.00;E878.1;96.71   \n",
       "1                                                  852.25;E888.9;403.90;585.9;250.00;414.00;V45.81;96.71   \n",
       "2                                       518.81;348.4;348.82;801.25;427.89;E882;V49.86;305.00;96.71;38.93   \n",
       "\n",
       "   length  is_valid  \n",
       "0     230     False  \n",
       "1     304     False  \n",
       "2     359     False  "
      ]
     },
     "execution_count": null,
     "metadata": {},
     "output_type": "execute_result"
    }
   ],
   "source": [
    "df.head(3)"
   ]
  },
  {
   "cell_type": "markdown",
   "id": "15f0a723-c3be-416b-b1c6-6d8acf9c25bc",
   "metadata": {},
   "source": [
    "The file `'code_desc.pkl'` contains a short description for the labels. "
   ]
  },
  {
   "cell_type": "code",
   "execution_count": null,
   "id": "2a120807-8779-4a59-8b02-517956fffc7f",
   "metadata": {},
   "outputs": [],
   "source": [
    "with open(source/'code_desc.pkl', 'rb') as f: lbs_desc = pickle.load(f)\n",
    "assert isinstance(lbs_desc, dict)\n",
    "test_eq(lbs_desc['427.31'], 'Atrial fibrillation')"
   ]
  },
  {
   "cell_type": "markdown",
   "id": "71d33f10-b020-4fc1-8526-2df9e94f508c",
   "metadata": {},
   "source": [
    "Note that performing some computations in this notebook on the full dataset is going to take a lot of time. But don't worry `untar_xxx` has already downloaded everything you need. But you can still run the following cells if you want to generate everything from scratch. Preferably, run the following cells on a sampled dataset for quick iterations. "
   ]
  },
  {
   "cell_type": "markdown",
   "id": "85bc7e09-64c8-4153-ac28-11aa668b78ab",
   "metadata": {},
   "source": [
    "**Run the cell below only if you want to sample from the full dataset to create a tiny dataset for the purpose of quick iterations.**"
   ]
  },
  {
   "cell_type": "markdown",
   "id": "95adc89c-6ec8-4155-8252-899edb598d4b",
   "metadata": {},
   "source": [
    "*Technical Point:* If we want to sample to perform quick iterations, we need to make sure the number of data points in the sample is a multiple of `bs`. So that we do not have to do a `drop_last=True` while creating the `Dataloaders`. This is because we are about to do some probability computations, and dropping data points is not a good idea as probabilities would not sum to 1."
   ]
  },
  {
   "cell_type": "code",
   "execution_count": null,
   "id": "d5544cdf-0934-4604-930d-e95822f323ea",
   "metadata": {},
   "outputs": [
    {
     "data": {
      "text/plain": [
       "52720"
      ]
     },
     "execution_count": null,
     "metadata": {},
     "output_type": "execute_result"
    }
   ],
   "source": [
    "bs = 8\n",
    "cut = len(df) - len(df)%bs\n",
    "df = df[:cut]\n",
    "len(df)"
   ]
  },
  {
   "cell_type": "code",
   "execution_count": null,
   "id": "a578abee-2f1c-4a36-babf-73c08b3a10a3",
   "metadata": {},
   "outputs": [
    {
     "data": {
      "text/plain": [
       "832"
      ]
     },
     "execution_count": null,
     "metadata": {},
     "output_type": "execute_result"
    }
   ],
   "source": [
    "_arr = np.arange(0, len(df), bs)\n",
    "# mask = (_arr > 4000) & (_arr < 5000)\n",
    "mask = (_arr > 500) & (_arr < 1000)\n",
    "_n = np.random.choice(_arr[mask], 1)\n",
    "df = df.sample(n=_n, random_state=89, ignore_index=True)\n",
    "len(df)"
   ]
  },
  {
   "cell_type": "code",
   "execution_count": null,
   "id": "0470a3bc-b554-4961-83e5-a0e106b6d1cc",
   "metadata": {},
   "outputs": [
    {
     "data": {
      "text/html": [
       "<div>\n",
       "<style scoped>\n",
       "    .dataframe tbody tr th:only-of-type {\n",
       "        vertical-align: middle;\n",
       "    }\n",
       "\n",
       "    .dataframe tbody tr th {\n",
       "        vertical-align: top;\n",
       "    }\n",
       "\n",
       "    .dataframe thead th {\n",
       "        text-align: right;\n",
       "    }\n",
       "</style>\n",
       "<table border=\"1\" class=\"dataframe\">\n",
       "  <thead>\n",
       "    <tr style=\"text-align: right;\">\n",
       "      <th></th>\n",
       "      <th>subject_id</th>\n",
       "      <th>hadm_id</th>\n",
       "      <th>text</th>\n",
       "      <th>labels</th>\n",
       "      <th>length</th>\n",
       "      <th>is_valid</th>\n",
       "    </tr>\n",
       "  </thead>\n",
       "  <tbody>\n",
       "    <tr>\n",
       "      <th>0</th>\n",
       "      <td>2258</td>\n",
       "      <td>139169</td>\n",
       "      <td>admission date discharge date date of birth sex m service cardiothoracic surgery history of present illness the patient is a year old male with a past medical history significant for poorly controlled diabetes mellitus and hypertension as well as known coronary disease and a previous non q myocardial infarction and right coronary artery stenting in he was admitted to an outside hospital on the day prior to admission with unstable angina and found to have borderline positive troponin hypertension and st depressions in the lateral lead he was given aspirin nitrates beta blockers morphine and...</td>\n",
       "      <td>414.01;998.31;411.1;599.0;412;V45.82;250.00;401.9;530.81;36.13;37.22;36.15;36.19;39.61;39.64;88.56;88.53;33.23;96.56;33.24;78.41</td>\n",
       "      <td>1271</td>\n",
       "      <td>False</td>\n",
       "    </tr>\n",
       "    <tr>\n",
       "      <th>1</th>\n",
       "      <td>41217</td>\n",
       "      <td>161582</td>\n",
       "      <td>admission date discharge date date of birth sex m service medicine allergies no known allergies adverse drug reactions attending first name3 lf chief complaint new diagnosis of scc of base of tongue major surgical or invasive procedure egd w biopsy history of present illness yo man with h o cad heavy smoking and new diagnosis of scc of base of tongue with lymph node involvement pt was referred to dr last name stitle ent in for a rt neck mass at that time a cm rt cervical lymph node was palpated and fiberoptic laryngoscopy showed a cm rt base of tongue mass a ct and biopsy were recommended ...</td>\n",
       "      <td>141.0;507.0;196.0;293.0;519.09;786.30;286.9;427.89;790.29;276.52;414.01;338.3;280.0;272.0;412;V69.4;V15.82;V45.82;V66.7;E879.8;E932.0;31.42;25.01;42.23;43.11;96.6;38.93;99.25;38.93</td>\n",
       "      <td>2743</td>\n",
       "      <td>False</td>\n",
       "    </tr>\n",
       "    <tr>\n",
       "      <th>2</th>\n",
       "      <td>30204</td>\n",
       "      <td>172114</td>\n",
       "      <td>admission date discharge date date of birth sex f service medicine allergies etomidate norpace quinidine demerol penicillins lipitor attending doctor first name chief complaint cardiac tamponade s p pulmonary vein isolation major surgical or invasive procedure attempted pulmonary vein isolation pericardiocentesis history of present illness year old woman with a long history of paroxysmal atrial fibrillation refractory to mulitple pharmacologic interventions and multiple cardioversions who presents to the ccu with cardiac tamponade s p pulmonary vein isolation procedure past medical history...</td>\n",
       "      <td>427.31;998.2;423.3;423.9;573.0;276.6;E878.8;37.34;37.27;37.0;37.21</td>\n",
       "      <td>1764</td>\n",
       "      <td>False</td>\n",
       "    </tr>\n",
       "  </tbody>\n",
       "</table>\n",
       "</div>"
      ],
      "text/plain": [
       "  subject_id hadm_id  \\\n",
       "0       2258  139169   \n",
       "1      41217  161582   \n",
       "2      30204  172114   \n",
       "\n",
       "                                                                                                                                                                                                                                                                                                                                                                                                                                                                                                                                                                                                                      text  \\\n",
       "0  admission date discharge date date of birth sex m service cardiothoracic surgery history of present illness the patient is a year old male with a past medical history significant for poorly controlled diabetes mellitus and hypertension as well as known coronary disease and a previous non q myocardial infarction and right coronary artery stenting in he was admitted to an outside hospital on the day prior to admission with unstable angina and found to have borderline positive troponin hypertension and st depressions in the lateral lead he was given aspirin nitrates beta blockers morphine and...   \n",
       "1  admission date discharge date date of birth sex m service medicine allergies no known allergies adverse drug reactions attending first name3 lf chief complaint new diagnosis of scc of base of tongue major surgical or invasive procedure egd w biopsy history of present illness yo man with h o cad heavy smoking and new diagnosis of scc of base of tongue with lymph node involvement pt was referred to dr last name stitle ent in for a rt neck mass at that time a cm rt cervical lymph node was palpated and fiberoptic laryngoscopy showed a cm rt base of tongue mass a ct and biopsy were recommended ...   \n",
       "2  admission date discharge date date of birth sex f service medicine allergies etomidate norpace quinidine demerol penicillins lipitor attending doctor first name chief complaint cardiac tamponade s p pulmonary vein isolation major surgical or invasive procedure attempted pulmonary vein isolation pericardiocentesis history of present illness year old woman with a long history of paroxysmal atrial fibrillation refractory to mulitple pharmacologic interventions and multiple cardioversions who presents to the ccu with cardiac tamponade s p pulmonary vein isolation procedure past medical history...   \n",
       "\n",
       "                                                                                                                                                                                 labels  \\\n",
       "0                                                      414.01;998.31;411.1;599.0;412;V45.82;250.00;401.9;530.81;36.13;37.22;36.15;36.19;39.61;39.64;88.56;88.53;33.23;96.56;33.24;78.41   \n",
       "1  141.0;507.0;196.0;293.0;519.09;786.30;286.9;427.89;790.29;276.52;414.01;338.3;280.0;272.0;412;V69.4;V15.82;V45.82;V66.7;E879.8;E932.0;31.42;25.01;42.23;43.11;96.6;38.93;99.25;38.93   \n",
       "2                                                                                                                    427.31;998.2;423.3;423.9;573.0;276.6;E878.8;37.34;37.27;37.0;37.21   \n",
       "\n",
       "   length  is_valid  \n",
       "0    1271     False  \n",
       "1    2743     False  \n",
       "2    1764     False  "
      ]
     },
     "execution_count": null,
     "metadata": {},
     "output_type": "execute_result"
    }
   ],
   "source": [
    "df.head(3)"
   ]
  },
  {
   "cell_type": "markdown",
   "id": "80b73953-378e-475b-abba-d4d15c10fb26",
   "metadata": {},
   "source": [
    "**[Mutual Information](https://en.wikipedia.org/wiki/Mutual_information#)**"
   ]
  },
  {
   "cell_type": "markdown",
   "id": "c8735be8-9113-4607-84fb-7af1df07e7f1",
   "metadata": {},
   "source": [
    "<img alt=\"Pictorial representation of simple neural network\" width=\"400\" src=\"info-gain.svg\" caption=\"Pictorial representation of a simple neural network\" id=\"img_mut_info\">"
   ]
  },
  {
   "cell_type": "markdown",
   "id": "c6311846-96bc-4809-99a5-8f538bb648a1",
   "metadata": {},
   "source": [
    "The mutual information of two jointly discrete random variables X and  Y is calculated as a double sum:\n",
    "\n",
    "$$I(T;L) = \\sum_{l \\in \\mathcal{L}} \\sum_{t in \\mathcal{T}} P_{(T,L)}(t,l) \\log \\Bigg(\\frac{P_{(T,L)}(t,l)}{P_T(t) P_L(l)} \\Bigg)$$\n",
    "\n",
    "where $P_{(T,L)}$ is the [joint probability mass function](https://en.wikipedia.org/wiki/Joint_distribution) of $T$ and $L$, and $P_T$ and $P_L$ are the [marginal probability mass fucntions](https://en.wikipedia.org/wiki/Marginal_probability) of $T$ and $L$ respectively. To compute $I$, the only quantity we need to compute is the joint pmf $P_{(T,L)}$, as the marginal pmfs can be computed from the joint pmf."
   ]
  },
  {
   "cell_type": "markdown",
   "id": "570b5995-6a9a-47ab-91f6-978eb9b703be",
   "metadata": {},
   "source": [
    "With regard to implementation, $P_{(T,L)}$ can be thought of as a 2x2 tensor as shown below:"
   ]
  },
  {
   "cell_type": "code",
   "execution_count": null,
   "id": "b37f4bae-f49f-48b4-a73c-a4b4d02f5b3f",
   "metadata": {},
   "outputs": [
    {
     "data": {
      "text/html": [
       "<div>\n",
       "<style scoped>\n",
       "    .dataframe tbody tr th:only-of-type {\n",
       "        vertical-align: middle;\n",
       "    }\n",
       "\n",
       "    .dataframe tbody tr th {\n",
       "        vertical-align: top;\n",
       "    }\n",
       "\n",
       "    .dataframe thead th {\n",
       "        text-align: right;\n",
       "    }\n",
       "</style>\n",
       "<table border=\"1\" class=\"dataframe\">\n",
       "  <thead>\n",
       "    <tr style=\"text-align: right;\">\n",
       "      <th></th>\n",
       "      <th>t</th>\n",
       "      <th>not t</th>\n",
       "    </tr>\n",
       "  </thead>\n",
       "  <tbody>\n",
       "    <tr>\n",
       "      <th>lbl</th>\n",
       "      <td>0</td>\n",
       "      <td>0</td>\n",
       "    </tr>\n",
       "    <tr>\n",
       "      <th>not lbl</th>\n",
       "      <td>0</td>\n",
       "      <td>0</td>\n",
       "    </tr>\n",
       "  </tbody>\n",
       "</table>\n",
       "</div>"
      ],
      "text/plain": [
       "         t  not t\n",
       "lbl      0      0\n",
       "not lbl  0      0"
      ]
     },
     "execution_count": null,
     "metadata": {},
     "output_type": "execute_result"
    }
   ],
   "source": [
    "p_TL = pd.DataFrame(0, columns=['t', 'not t'], index=['lbl', 'not lbl'])\n",
    "p_TL"
   ]
  },
  {
   "cell_type": "markdown",
   "id": "fe632b57-9870-4925-b0d2-919f9696995a",
   "metadata": {},
   "source": [
    "...and we need to compute this $P_{(T,L)}$ for every token-label pair. In other words, we need to fill in the `joint` dataframe shown below. Note that each cell in `joint` dataframe can be thought of to be further subdivided into a 2x2 grid containing the corresponding `p_TL`."
   ]
  },
  {
   "cell_type": "code",
   "execution_count": null,
   "id": "d4278c9e-4442-49c8-a49d-20b2914e2c0d",
   "metadata": {},
   "outputs": [],
   "source": [
    "bs, chnk_sz = 8, 200\n",
    "info = MutualInfoGain(df, bs=bs, chnk_sz=chnk_sz, lbs_desc=source/'code_desc.pkl') # provide lbs_desc if you have it"
   ]
  },
  {
   "cell_type": "code",
   "execution_count": null,
   "id": "dc9ecd54-bf7a-48a6-9d76-132f9b5fd985",
   "metadata": {},
   "outputs": [
    {
     "data": {
      "text/html": [
       "\n",
       "<style>\n",
       "    /* Turns off some styling */\n",
       "    progress {\n",
       "        /* gets rid of default border in Firefox and Opera. */\n",
       "        border: none;\n",
       "        /* Needs to be in here for Safari polyfill so background images work as expected. */\n",
       "        background-size: auto;\n",
       "    }\n",
       "    progress:not([value]), progress:not([value])::-webkit-progress-bar {\n",
       "        background: repeating-linear-gradient(45deg, #7e7e7e, #7e7e7e 10px, #5c5c5c 10px, #5c5c5c 20px);\n",
       "    }\n",
       "    .progress-bar-interrupted, .progress-bar-interrupted::-webkit-progress-bar {\n",
       "        background: #F44336;\n",
       "    }\n",
       "</style>\n"
      ],
      "text/plain": [
       "<IPython.core.display.HTML object>"
      ]
     },
     "metadata": {},
     "output_type": "display_data"
    },
    {
     "data": {
      "text/html": [],
      "text/plain": [
       "<IPython.core.display.HTML object>"
      ]
     },
     "metadata": {},
     "output_type": "display_data"
    },
    {
     "name": "stdout",
     "output_type": "stream",
     "text": [
      "CPU times: user 386 ms, sys: 151 ms, total: 538 ms\n",
      "Wall time: 2.09 s\n"
     ]
    }
   ],
   "source": [
    "%%time\n",
    "dsets = info.onehotify()"
   ]
  },
  {
   "cell_type": "code",
   "execution_count": null,
   "id": "1359e690-7ebd-4777-bc1c-7b6eed8f8ec5",
   "metadata": {},
   "outputs": [
    {
     "data": {
      "text/plain": [
       "((#11104) ['xxunk','xxpad','xxbos','xxeos','xxfld','xxrep','xxwrep','xxup','xxmaj','the'...],\n",
       " (#2244) ['008.45','008.8','009.0','009.1','031.0','031.2','038.0','038.10','038.11','038.19'...],\n",
       " 24917376)"
      ]
     },
     "execution_count": null,
     "metadata": {},
     "output_type": "execute_result"
    }
   ],
   "source": [
    "toks, lbs = dsets.vocab\n",
    "L(toks), L(lbs), len(toks)*len(lbs)"
   ]
  },
  {
   "cell_type": "code",
   "execution_count": null,
   "id": "00b7892c-6b09-459c-8185-bdb2d03a79ff",
   "metadata": {},
   "outputs": [
    {
     "data": {
      "text/html": [
       "<div>\n",
       "<style scoped>\n",
       "    .dataframe tbody tr th:only-of-type {\n",
       "        vertical-align: middle;\n",
       "    }\n",
       "\n",
       "    .dataframe tbody tr th {\n",
       "        vertical-align: top;\n",
       "    }\n",
       "\n",
       "    .dataframe thead th {\n",
       "        text-align: right;\n",
       "    }\n",
       "</style>\n",
       "<table border=\"1\" class=\"dataframe\">\n",
       "  <thead>\n",
       "    <tr style=\"text-align: right;\">\n",
       "      <th>lbs (L)</th>\n",
       "      <th>0</th>\n",
       "      <th>1</th>\n",
       "      <th>2</th>\n",
       "      <th>3</th>\n",
       "      <th>4</th>\n",
       "      <th>5</th>\n",
       "      <th>6</th>\n",
       "      <th>7</th>\n",
       "      <th>8</th>\n",
       "      <th>9</th>\n",
       "      <th>...</th>\n",
       "      <th>2234</th>\n",
       "      <th>2235</th>\n",
       "      <th>2236</th>\n",
       "      <th>2237</th>\n",
       "      <th>2238</th>\n",
       "      <th>2239</th>\n",
       "      <th>2240</th>\n",
       "      <th>2241</th>\n",
       "      <th>2242</th>\n",
       "      <th>2243</th>\n",
       "    </tr>\n",
       "    <tr>\n",
       "      <th>toks (T)</th>\n",
       "      <th></th>\n",
       "      <th></th>\n",
       "      <th></th>\n",
       "      <th></th>\n",
       "      <th></th>\n",
       "      <th></th>\n",
       "      <th></th>\n",
       "      <th></th>\n",
       "      <th></th>\n",
       "      <th></th>\n",
       "      <th></th>\n",
       "      <th></th>\n",
       "      <th></th>\n",
       "      <th></th>\n",
       "      <th></th>\n",
       "      <th></th>\n",
       "      <th></th>\n",
       "      <th></th>\n",
       "      <th></th>\n",
       "      <th></th>\n",
       "      <th></th>\n",
       "    </tr>\n",
       "  </thead>\n",
       "  <tbody>\n",
       "    <tr>\n",
       "      <th>0</th>\n",
       "      <td>0</td>\n",
       "      <td>0</td>\n",
       "      <td>0</td>\n",
       "      <td>0</td>\n",
       "      <td>0</td>\n",
       "      <td>0</td>\n",
       "      <td>0</td>\n",
       "      <td>0</td>\n",
       "      <td>0</td>\n",
       "      <td>0</td>\n",
       "      <td>...</td>\n",
       "      <td>0</td>\n",
       "      <td>0</td>\n",
       "      <td>0</td>\n",
       "      <td>0</td>\n",
       "      <td>0</td>\n",
       "      <td>0</td>\n",
       "      <td>0</td>\n",
       "      <td>0</td>\n",
       "      <td>0</td>\n",
       "      <td>0</td>\n",
       "    </tr>\n",
       "    <tr>\n",
       "      <th>1</th>\n",
       "      <td>0</td>\n",
       "      <td>0</td>\n",
       "      <td>0</td>\n",
       "      <td>0</td>\n",
       "      <td>0</td>\n",
       "      <td>0</td>\n",
       "      <td>0</td>\n",
       "      <td>0</td>\n",
       "      <td>0</td>\n",
       "      <td>0</td>\n",
       "      <td>...</td>\n",
       "      <td>0</td>\n",
       "      <td>0</td>\n",
       "      <td>0</td>\n",
       "      <td>0</td>\n",
       "      <td>0</td>\n",
       "      <td>0</td>\n",
       "      <td>0</td>\n",
       "      <td>0</td>\n",
       "      <td>0</td>\n",
       "      <td>0</td>\n",
       "    </tr>\n",
       "    <tr>\n",
       "      <th>2</th>\n",
       "      <td>0</td>\n",
       "      <td>0</td>\n",
       "      <td>0</td>\n",
       "      <td>0</td>\n",
       "      <td>0</td>\n",
       "      <td>0</td>\n",
       "      <td>0</td>\n",
       "      <td>0</td>\n",
       "      <td>0</td>\n",
       "      <td>0</td>\n",
       "      <td>...</td>\n",
       "      <td>0</td>\n",
       "      <td>0</td>\n",
       "      <td>0</td>\n",
       "      <td>0</td>\n",
       "      <td>0</td>\n",
       "      <td>0</td>\n",
       "      <td>0</td>\n",
       "      <td>0</td>\n",
       "      <td>0</td>\n",
       "      <td>0</td>\n",
       "    </tr>\n",
       "    <tr>\n",
       "      <th>3</th>\n",
       "      <td>0</td>\n",
       "      <td>0</td>\n",
       "      <td>0</td>\n",
       "      <td>0</td>\n",
       "      <td>0</td>\n",
       "      <td>0</td>\n",
       "      <td>0</td>\n",
       "      <td>0</td>\n",
       "      <td>0</td>\n",
       "      <td>0</td>\n",
       "      <td>...</td>\n",
       "      <td>0</td>\n",
       "      <td>0</td>\n",
       "      <td>0</td>\n",
       "      <td>0</td>\n",
       "      <td>0</td>\n",
       "      <td>0</td>\n",
       "      <td>0</td>\n",
       "      <td>0</td>\n",
       "      <td>0</td>\n",
       "      <td>0</td>\n",
       "    </tr>\n",
       "    <tr>\n",
       "      <th>4</th>\n",
       "      <td>0</td>\n",
       "      <td>0</td>\n",
       "      <td>0</td>\n",
       "      <td>0</td>\n",
       "      <td>0</td>\n",
       "      <td>0</td>\n",
       "      <td>0</td>\n",
       "      <td>0</td>\n",
       "      <td>0</td>\n",
       "      <td>0</td>\n",
       "      <td>...</td>\n",
       "      <td>0</td>\n",
       "      <td>0</td>\n",
       "      <td>0</td>\n",
       "      <td>0</td>\n",
       "      <td>0</td>\n",
       "      <td>0</td>\n",
       "      <td>0</td>\n",
       "      <td>0</td>\n",
       "      <td>0</td>\n",
       "      <td>0</td>\n",
       "    </tr>\n",
       "    <tr>\n",
       "      <th>...</th>\n",
       "      <td>...</td>\n",
       "      <td>...</td>\n",
       "      <td>...</td>\n",
       "      <td>...</td>\n",
       "      <td>...</td>\n",
       "      <td>...</td>\n",
       "      <td>...</td>\n",
       "      <td>...</td>\n",
       "      <td>...</td>\n",
       "      <td>...</td>\n",
       "      <td>...</td>\n",
       "      <td>...</td>\n",
       "      <td>...</td>\n",
       "      <td>...</td>\n",
       "      <td>...</td>\n",
       "      <td>...</td>\n",
       "      <td>...</td>\n",
       "      <td>...</td>\n",
       "      <td>...</td>\n",
       "      <td>...</td>\n",
       "      <td>...</td>\n",
       "    </tr>\n",
       "    <tr>\n",
       "      <th>11099</th>\n",
       "      <td>0</td>\n",
       "      <td>0</td>\n",
       "      <td>0</td>\n",
       "      <td>0</td>\n",
       "      <td>0</td>\n",
       "      <td>0</td>\n",
       "      <td>0</td>\n",
       "      <td>0</td>\n",
       "      <td>0</td>\n",
       "      <td>0</td>\n",
       "      <td>...</td>\n",
       "      <td>0</td>\n",
       "      <td>0</td>\n",
       "      <td>0</td>\n",
       "      <td>0</td>\n",
       "      <td>0</td>\n",
       "      <td>0</td>\n",
       "      <td>0</td>\n",
       "      <td>0</td>\n",
       "      <td>0</td>\n",
       "      <td>0</td>\n",
       "    </tr>\n",
       "    <tr>\n",
       "      <th>11100</th>\n",
       "      <td>0</td>\n",
       "      <td>0</td>\n",
       "      <td>0</td>\n",
       "      <td>0</td>\n",
       "      <td>0</td>\n",
       "      <td>0</td>\n",
       "      <td>0</td>\n",
       "      <td>0</td>\n",
       "      <td>0</td>\n",
       "      <td>0</td>\n",
       "      <td>...</td>\n",
       "      <td>0</td>\n",
       "      <td>0</td>\n",
       "      <td>0</td>\n",
       "      <td>0</td>\n",
       "      <td>0</td>\n",
       "      <td>0</td>\n",
       "      <td>0</td>\n",
       "      <td>0</td>\n",
       "      <td>0</td>\n",
       "      <td>0</td>\n",
       "    </tr>\n",
       "    <tr>\n",
       "      <th>11101</th>\n",
       "      <td>0</td>\n",
       "      <td>0</td>\n",
       "      <td>0</td>\n",
       "      <td>0</td>\n",
       "      <td>0</td>\n",
       "      <td>0</td>\n",
       "      <td>0</td>\n",
       "      <td>0</td>\n",
       "      <td>0</td>\n",
       "      <td>0</td>\n",
       "      <td>...</td>\n",
       "      <td>0</td>\n",
       "      <td>0</td>\n",
       "      <td>0</td>\n",
       "      <td>0</td>\n",
       "      <td>0</td>\n",
       "      <td>0</td>\n",
       "      <td>0</td>\n",
       "      <td>0</td>\n",
       "      <td>0</td>\n",
       "      <td>0</td>\n",
       "    </tr>\n",
       "    <tr>\n",
       "      <th>11102</th>\n",
       "      <td>0</td>\n",
       "      <td>0</td>\n",
       "      <td>0</td>\n",
       "      <td>0</td>\n",
       "      <td>0</td>\n",
       "      <td>0</td>\n",
       "      <td>0</td>\n",
       "      <td>0</td>\n",
       "      <td>0</td>\n",
       "      <td>0</td>\n",
       "      <td>...</td>\n",
       "      <td>0</td>\n",
       "      <td>0</td>\n",
       "      <td>0</td>\n",
       "      <td>0</td>\n",
       "      <td>0</td>\n",
       "      <td>0</td>\n",
       "      <td>0</td>\n",
       "      <td>0</td>\n",
       "      <td>0</td>\n",
       "      <td>0</td>\n",
       "    </tr>\n",
       "    <tr>\n",
       "      <th>11103</th>\n",
       "      <td>0</td>\n",
       "      <td>0</td>\n",
       "      <td>0</td>\n",
       "      <td>0</td>\n",
       "      <td>0</td>\n",
       "      <td>0</td>\n",
       "      <td>0</td>\n",
       "      <td>0</td>\n",
       "      <td>0</td>\n",
       "      <td>0</td>\n",
       "      <td>...</td>\n",
       "      <td>0</td>\n",
       "      <td>0</td>\n",
       "      <td>0</td>\n",
       "      <td>0</td>\n",
       "      <td>0</td>\n",
       "      <td>0</td>\n",
       "      <td>0</td>\n",
       "      <td>0</td>\n",
       "      <td>0</td>\n",
       "      <td>0</td>\n",
       "    </tr>\n",
       "  </tbody>\n",
       "</table>\n",
       "<p>11104 rows × 2244 columns</p>\n",
       "</div>"
      ],
      "text/plain": [
       "lbs (L)   0     1     2     3     4     5     6     7     8     9     ...  \\\n",
       "toks (T)                                                              ...   \n",
       "0            0     0     0     0     0     0     0     0     0     0  ...   \n",
       "1            0     0     0     0     0     0     0     0     0     0  ...   \n",
       "2            0     0     0     0     0     0     0     0     0     0  ...   \n",
       "3            0     0     0     0     0     0     0     0     0     0  ...   \n",
       "4            0     0     0     0     0     0     0     0     0     0  ...   \n",
       "...        ...   ...   ...   ...   ...   ...   ...   ...   ...   ...  ...   \n",
       "11099        0     0     0     0     0     0     0     0     0     0  ...   \n",
       "11100        0     0     0     0     0     0     0     0     0     0  ...   \n",
       "11101        0     0     0     0     0     0     0     0     0     0  ...   \n",
       "11102        0     0     0     0     0     0     0     0     0     0  ...   \n",
       "11103        0     0     0     0     0     0     0     0     0     0  ...   \n",
       "\n",
       "lbs (L)   2234  2235  2236  2237  2238  2239  2240  2241  2242  2243  \n",
       "toks (T)                                                              \n",
       "0            0     0     0     0     0     0     0     0     0     0  \n",
       "1            0     0     0     0     0     0     0     0     0     0  \n",
       "2            0     0     0     0     0     0     0     0     0     0  \n",
       "3            0     0     0     0     0     0     0     0     0     0  \n",
       "4            0     0     0     0     0     0     0     0     0     0  \n",
       "...        ...   ...   ...   ...   ...   ...   ...   ...   ...   ...  \n",
       "11099        0     0     0     0     0     0     0     0     0     0  \n",
       "11100        0     0     0     0     0     0     0     0     0     0  \n",
       "11101        0     0     0     0     0     0     0     0     0     0  \n",
       "11102        0     0     0     0     0     0     0     0     0     0  \n",
       "11103        0     0     0     0     0     0     0     0     0     0  \n",
       "\n",
       "[11104 rows x 2244 columns]"
      ]
     },
     "execution_count": null,
     "metadata": {},
     "output_type": "execute_result"
    }
   ],
   "source": [
    "joint = pd.DataFrame(0, columns=range(len(lbs)), index=range(len(toks)))\n",
    "joint.index.name = 'toks (T)'\n",
    "joint.columns.name = 'lbs (L)'\n",
    "joint"
   ]
  },
  {
   "cell_type": "markdown",
   "id": "51fcca13-1c3a-405d-bbed-2da74776ccb3",
   "metadata": {},
   "source": [
    "We can perform tensorized computation if we think of `p_TL` as a 4 dim tensor of size `(len(toks), len(lbs), 2, 2)`. Next, to be able to estimate `p_TL` we just need to iterate over the dataset and for each data point and each token-label pair record the `p_TL` information in the last two dimension of the tensor `p_TL`. And, at the end divide by size of the dataset. \n",
    "\n",
    "Some more implementation details (Skip this if not iterested): \n",
    "\n",
    "- We are going to one-hot encode the dataset (both `text` and `labels` field in the `df`). This is done by `onehot_dsets` \n",
    "- For efficieny, in reality we are not going to iterate over the dataset one by one, instead we are going to use a dataloader and perform `p_TL` computation on a mini-batch.\n",
    "- Unless you are doing this in 2035 you probably do not have enogh GPU-RAM to fit the entire `p_TL` tensor of dimension `(len(toks), len(lbs), 2, 2)`. So we are going to split the lbs dimension into chunks. (Why the `lbs` dimension and not the `toks`? Because in XML datsets `toks` are approximately 60000, but the number of `lbs` could be really large of the order of millions.) With reagrd to implementation this would mean that instead of one dataloader we would roll with multiple dataloaders. And each dataloader would load the dataset in a way that mini-batches would contain the full one-hot encoding of the `text` field but only a certain `chunk` of the one-hot encoded `labels` field in `df`. Another way to think about this is that each datapoint, specifically the `labels` are splitted across multiple dataloaders. This way once we are done iterating over one such dataloader we would have filled a ceratin chunk of the `joint` dataframe shown above. And we would fill the entire `joint` only once we are done iterating over all the dataloaders. "
   ]
  },
  {
   "cell_type": "code",
   "execution_count": null,
   "id": "dacc0923-4b3b-4e13-9796-010c03a163fe",
   "metadata": {},
   "outputs": [],
   "source": [
    "x, y = dsets[0]\n",
    "test_eq(tensor(dsets.tfms[1][2].decode(y)), torch.where(y==1)[0])\n",
    "test_eq(tensor(dsets.tfms[0][-1].decode(x)), torch.where(x==1)[0])"
   ]
  },
  {
   "cell_type": "code",
   "execution_count": null,
   "id": "b0c9f50d-32c1-400c-bbfc-268f9246cc8e",
   "metadata": {},
   "outputs": [
    {
     "data": {
      "text/plain": [
       "'xxunk xxbos the and of to was with a on in for mg no patient is he blood at name or discharge as day one his left history last were had right by this date admission that pain hospital an pt from p normal first has have which but medications up d chest o hours also well given status dr time care after stable stitle disease please follow course started x known continued two days service artery prior per showed m it without cardiac medical past glucose heart post q namepattern1 present unit physical weeks aortic i pulmonary transferred year allergies md edema pressure t due did surgery surgical condition number procedure b lower found remained prn fluid coronary admitted hypertension soft further non all diagnosis should rate placed increased three birth bilaterally sodium abdomen aspirin bilateral illness over social than old secondary sex primary however some following examination lung positive disposition significant moderate take floor room insulin namepattern4 bleeding extremities count use f lasix upper back regular therapy sinus intubated rhythm discharged underwent facility continue lungs alert off job felt heparin hematocrit sounds transfer anterior made distress contrast nausea four wound down pulses diabetes extended white very alcohol followed postoperative diet removed morning creatinine both do drip male stent hospital3 note drainage greater name11 previous carotid intensive worsening s1 oriented sent catheterization oral through office weaned bypass currently site control pattern1 albuterol extubated extremity incision lesion tolerated warm plavix controlled increase amiodarone patch strength dictated physician st issues difficulty night infarction next levofloxacin repair medquist36 minimal descending afebrile increasing dyspnea lesions hospital6 venous though beta morphine laboratory lateral operative peripheral later outside masses incisions inferior lopressor operating persistent cardiology go myocardial perfused denied bun went diuresis help murmurs mellitus occasional evening smoking lipitor colace began nontender cardiologist meds wheezing ap knee drain sternal cardiothoracic intermittent commands bruits wave intra nondistended ambulating lovenox pump rubs dependent troponin system despite bronchoscopy meq instructed main secretions came tubes nitroglycerin platelet aggressive obese ibuprofen pacing dilaudid palpable referred puffs decision stabilized balloon heavy exertion propofol neo many minute jugular seven leads wires waves put frequency follows stenting electrocardiogram paroxysmal attempt grafting begun half ten distention little treat index poorly diabetic orthopnea hepatosplenomegaly depressions coarse reflux borderline angina ready diameter diffusely quite transdermal zantac synephrine hemodynamic urinalysis dominant afternoon mobility lead gastroesophageal refer codeine occurred moved circumflex encouraged includes activities wire standpoint extremely coughing nocturnal toilet uneventful allergic incentive observation unstable blockers 1l stability nicotine pole enteric drips sternum coated weaning dobutamine pericarditis dye inhalers nexium kcl packs inversions burning participate serosanguinous complain spent spirometry noninsulin lyme exercises restenosis cks urination amaryl uncooperative isordil rhonchorous nitrates disabled build concurrently marginally'"
      ]
     },
     "execution_count": null,
     "metadata": {},
     "output_type": "execute_result"
    }
   ],
   "source": [
    "' '.join(L(toks)[torch.where(x==1)[0]])"
   ]
  },
  {
   "cell_type": "code",
   "execution_count": null,
   "id": "398d476b-0890-4549-93eb-b6ccf0af4958",
   "metadata": {},
   "outputs": [
    {
     "data": {
      "text/plain": [
       "(#21) ['250.00','33.23','33.24','36.13','36.15','36.19','37.22','39.61','39.64','401.9'...]"
      ]
     },
     "execution_count": null,
     "metadata": {},
     "output_type": "execute_result"
    }
   ],
   "source": [
    "lbs.map_ids(torch.where(y==1)[0])"
   ]
  },
  {
   "cell_type": "code",
   "execution_count": null,
   "id": "06bf911a-9d99-4f55-8e97-9971bcf2dedc",
   "metadata": {},
   "outputs": [],
   "source": [
    "#| hide\n",
    "#| eval: false\n",
    "from fastai.data.transforms import *\n",
    "from fastai.data.core import *\n",
    "from fastai.text.core import *"
   ]
  },
  {
   "cell_type": "code",
   "execution_count": null,
   "id": "5da5fa86-3381-4f0f-a73c-1de92b086f27",
   "metadata": {},
   "outputs": [],
   "source": [
    "#| hide\n",
    "#| eval: false\n",
    "splits = ColSplitter()(df)\n",
    "splits\n",
    "\n",
    "# lm_vocab = torch.load(dls_lm_vocab_path)\n",
    "\n",
    "@Transform\n",
    "def Cleanser(toks): return [o for o in toks if o in lm_vocab]\n",
    "\n",
    "class MyNumericalize(Transform):\n",
    "    \"Transform to remove tokens not present in `vocab`\"\n",
    "    def __init__(self, vocab=None, min_freq=3, max_vocab=60000, special_toks=None):\n",
    "        store_attr('vocab,min_freq,max_vocab,special_toks')\n",
    "        self.o2i = None if vocab is None else defaultdict(int, {v: i for i,v in enumerate(vocab)})\n",
    "    \n",
    "    def setups(self, dsets):\n",
    "        if dsets is None: return\n",
    "        if self.vocab is None:\n",
    "            count = dsets.counter if getattr(dsets, 'counter', None) is not None else Counter(p for o in dsets for p in o)\n",
    "            if self.special_toks is None and hasattr(dsets, 'special_toks'):\n",
    "                self.special_toks = dsets.special_toks\n",
    "            self.vocab = make_vocab(count, min_freq=self.min_freq, max_vocab=self.max_vocab, special_toks=self.special_toks)\n",
    "            self.o2i = defaultdict(int, {v:i for i,v in enumerate(self.vocab) if v != 'xxfake'})\n",
    "    \n",
    "    def encodes(self, o): return TensorText(tensor([self.o2i[o_] for o_ in o if o_ in self.vocab]))\n",
    "    def decodes(self, o): return L(self.vocab[o_] for o_ in o)\n",
    "\n",
    "# resort to this if anythiong goes wrong below\n",
    "x_tfms = [Tokenizer.from_df('text', n_workers=num_cpus()), attrgetter(\"text\"), Cleanser, MultiCategorize(vocab=lm_vocab), OneHotEncode()]\n",
    "y_tfms = [ColReader('labels', label_delim=';'), MultiCategorize(), OneHotEncode()]\n",
    "tfms = [x_tfms, y_tfms]\n",
    "\n",
    "class Chunkifize(Transform):\n",
    "    order = 4\n",
    "    def __init__(self, num_chunks=3): store_attr('num_chunks')\n",
    "    def encodes(self, o): \n",
    "        return list(torch.chunk(o, self.num_chunks))\n",
    "    def decodes(self, o): \n",
    "        return torch.cat(o)\n",
    "\n",
    "chnk_tfm = Chunkifize()\n",
    "chnks = chnk_tfm(torch.arange(10))\n",
    "test_eq(type(chnks), list)\n",
    "test_eq(chnks, [tensor([0, 1, 2, 3]), tensor([4, 5, 6, 7]), tensor([8, 9])])\n",
    "# test_fail(lambda: chnk_tfm.decode(chnks), tensor([0, 1, 2, 3, 4, 5, 6, 7, 8, 9]))\n",
    "test_eq(chnk_tfm.decode(chnks), tensor([0, 1, 2, 3, 4, 5, 6, 7, 8, 9]))\n",
    "\n",
    "# y_tfms = [ColReader('labels', label_delim=';'), MultiCategorize(), OneHotEncode(), Chunkifize()]\n",
    "# tfmd_y = TfmdLists(df, tfms=y_tfms)\n",
    "# tfmd_y.decode(tfmd_y[0])"
   ]
  },
  {
   "cell_type": "code",
   "execution_count": null,
   "id": "6824531b-e1eb-4236-92a6-379512ede829",
   "metadata": {},
   "outputs": [],
   "source": [
    "dls = info.lbs_chunked()"
   ]
  },
  {
   "cell_type": "code",
   "execution_count": null,
   "id": "dd4d435b-3ecf-4fbd-89dd-17a4c7f108b9",
   "metadata": {},
   "outputs": [],
   "source": [
    "assert isinstance(dls[0], TfmdDL)\n",
    "test_eq(len(dls),  np.ceil(len(lbs)/200))\n",
    "test_eq(len(dls[0]), np.ceil(len(dsets)/bs)) # drop_last is False\n",
    "# test to prove that the labels for each data point is split across multiple dataloaders\n",
    "lbs_0 = torch.cat([yb[0] for dl in dls for _,yb in itertools.islice(dl, 1)])\n",
    "y = y.to(default_device())\n",
    "test_eq(lbs_0, y)"
   ]
  },
  {
   "cell_type": "markdown",
   "id": "70cce0d4-dd21-4a15-9120-48d2d71e2e74",
   "metadata": {},
   "source": [
    "Now let's compute the `joint_pmf` table we had seen earlier. "
   ]
  },
  {
   "cell_type": "code",
   "execution_count": null,
   "id": "e447016a-eec2-46cb-9435-adba632be506",
   "metadata": {},
   "outputs": [
    {
     "data": {
      "text/html": [
       "\n",
       "<style>\n",
       "    /* Turns off some styling */\n",
       "    progress {\n",
       "        /* gets rid of default border in Firefox and Opera. */\n",
       "        border: none;\n",
       "        /* Needs to be in here for Safari polyfill so background images work as expected. */\n",
       "        background-size: auto;\n",
       "    }\n",
       "    progress:not([value]), progress:not([value])::-webkit-progress-bar {\n",
       "        background: repeating-linear-gradient(45deg, #7e7e7e, #7e7e7e 10px, #5c5c5c 10px, #5c5c5c 20px);\n",
       "    }\n",
       "    .progress-bar-interrupted, .progress-bar-interrupted::-webkit-progress-bar {\n",
       "        background: #F44336;\n",
       "    }\n",
       "</style>\n"
      ],
      "text/plain": [
       "<IPython.core.display.HTML object>"
      ]
     },
     "metadata": {},
     "output_type": "display_data"
    },
    {
     "data": {
      "text/html": [
       "\n",
       "    <div>\n",
       "      <progress value='12' class='' max='12' style='width:300px; height:20px; vertical-align: middle;'></progress>\n",
       "      100.00% [12/12 00:16&lt;00:00]\n",
       "    </div>\n",
       "    "
      ],
      "text/plain": [
       "<IPython.core.display.HTML object>"
      ]
     },
     "metadata": {},
     "output_type": "display_data"
    },
    {
     "name": "stdout",
     "output_type": "stream",
     "text": [
      "CPU times: user 10.8 s, sys: 2.94 s, total: 13.8 s\n",
      "Wall time: 16 s\n"
     ]
    }
   ],
   "source": [
    "%%time\n",
    "p_TL = info.joint_pmf()"
   ]
  },
  {
   "cell_type": "code",
   "execution_count": null,
   "id": "cf47aadb-5b33-4f8b-8ebb-1eab84a4b81c",
   "metadata": {},
   "outputs": [],
   "source": [
    "test_eq(p_TL.shape, (info.toksize, info.lblsize, 2, 2))"
   ]
  },
  {
   "cell_type": "markdown",
   "id": "4f98dd0b-3f0e-4444-b430-1e9953f8dd1a",
   "metadata": {},
   "source": [
    "Technicality: `p_TL` is not really the joint pmf (yes, I lied before!) but contains all the information needed to compute the joint pmf `p_TxL` and mutual info gain `I_TL`. This computation is going to be comnputed by `compute`:"
   ]
  },
  {
   "cell_type": "code",
   "execution_count": null,
   "id": "a9465c66-9e4b-4433-bfb3-b35ddfb01bc3",
   "metadata": {},
   "outputs": [
    {
     "name": "stdout",
     "output_type": "stream",
     "text": [
      "CPU times: user 708 ms, sys: 135 ms, total: 843 ms\n",
      "Wall time: 931 ms\n"
     ]
    }
   ],
   "source": [
    "%%time\n",
    "p_T, p_L, p_TxL, H_T, H_L, I_TL = info.compute()"
   ]
  },
  {
   "cell_type": "markdown",
   "id": "060fdfb4-33cf-4eb3-9ffc-99fc13d1cbe6",
   "metadata": {},
   "source": [
    "All this while if you have been working with the sampled dataset you can continue to do so for the rest of this notebook. But if you want a real feel of how things look, at this point you can load the pregenerated `p_TL` and `(p_T, p_L, p_TxL, H_T, H_L, I_TL)` for the full dataset which `untar_xxx` downloaded:"
   ]
  },
  {
   "cell_type": "code",
   "execution_count": null,
   "id": "11e5a7a7-b1ce-4bdc-b4e0-c3a22b7b4ba1",
   "metadata": {},
   "outputs": [
    {
     "data": {
      "text/plain": [
       "(#4) [Path('/home/deb/.xcube/data/mimic3_l2r/info.pkl'),Path('/home/deb/.xcube/data/mimic3_l2r/mimic3-9k_tok_lbl_info.pkl'),Path('/home/deb/.xcube/data/mimic3_l2r/code_desc.pkl'),Path('/home/deb/.xcube/data/mimic3_l2r/p_TL.pkl')]"
      ]
     },
     "execution_count": null,
     "metadata": {},
     "output_type": "execute_result"
    }
   ],
   "source": [
    "L(source.glob(\"**/*.pkl\"))"
   ]
  },
  {
   "cell_type": "code",
   "execution_count": null,
   "id": "056e855d-f01c-4fbe-b718-1ba45d4e8ea7",
   "metadata": {},
   "outputs": [
    {
     "name": "stdout",
     "output_type": "stream",
     "text": [
      "CPU times: user 0 ns, sys: 4.48 s, total: 4.48 s\n",
      "Wall time: 6.92 s\n"
     ]
    }
   ],
   "source": [
    "%%time \n",
    "p_TL = torch.load(source/'p_TL.pkl', map_location=torch.device('cpu'))\n",
    "p_T, p_L, p_TxL, H_T, H_L, I_TL = torch.load(source/'info.pkl', map_location=torch.device('cpu'))"
   ]
  },
  {
   "cell_type": "markdown",
   "id": "96cde5c5-02c5-47dd-a448-ba9812a5c853",
   "metadata": {},
   "source": [
    "Make sure that aren't any of those pesky nans or negs:"
   ]
  },
  {
   "cell_type": "code",
   "execution_count": null,
   "id": "e99ac023-b993-4573-8ff5-f3a87e1c0280",
   "metadata": {},
   "outputs": [],
   "source": [
    "def test_nanegs(*args):\n",
    "    for o in args:\n",
    "        has_nans = o.isnan().all() # check for nans\n",
    "        has_negs = not torch.where(o>=0, True, False).all()\n",
    "        if has_nans: raise Exception(f\"{namestr(o, globals())[0]} has nans\")\n",
    "        if has_negs: raise Exception(f\"{namestr(o, globals())[0]} has negs\")"
   ]
  },
  {
   "cell_type": "code",
   "execution_count": null,
   "id": "07f124f0-a1e0-4a35-932d-f14f3cb30e8c",
   "metadata": {},
   "outputs": [],
   "source": [
    "test_fail(test_nanegs, args=(p_T, p_L, p_TxL, H_T, H_L, I_TL), contains='I_TL has negs')"
   ]
  },
  {
   "cell_type": "markdown",
   "id": "3faae0b4-2d60-4a2c-af35-66e4ca37703e",
   "metadata": {},
   "source": [
    "Theoretically, Mutual-Info as defined [here](https://en.wikipedia.org/wiki/Mutual_information) is suposed to be non-negative (can be proved by tossing in [Jensen](https://en.wikipedia.org/wiki/Jensen%27s_inequality)). But, practically, it turns out `I_TL` has some negs because we distorted the `p_TL` and `p_TxL`  with `eps` in the `I_TL` computation."
   ]
  },
  {
   "cell_type": "code",
   "execution_count": null,
   "id": "6271f2b0-0af6-4a0c-808f-350195940361",
   "metadata": {},
   "outputs": [
    {
     "data": {
      "text/plain": [
       "torch.return_types.topk(\n",
       "values=TensorMultiCategory([-1.5736e-07, -1.5736e-07, -1.5736e-07, -1.5736e-07,\n",
       "                     -1.5736e-07, -1.5736e-07, -1.5736e-07, -1.5736e-07,\n",
       "                     -1.5736e-07, -1.5736e-07], device='cuda:0'),\n",
       "indices=TensorMultiCategory([1867682, 1867581, 1867490, 1867556, 1867114, 1867016,\n",
       "                     1867175, 1867278, 1867705, 1867872], device='cuda:0'))"
      ]
     },
     "execution_count": null,
     "metadata": {},
     "output_type": "execute_result"
    }
   ],
   "source": [
    "torch.topk(I_TL.flatten(), 10, largest=False)"
   ]
  },
  {
   "cell_type": "code",
   "execution_count": null,
   "id": "57cf9476-4bc1-40f4-9ff2-d32f86226833",
   "metadata": {},
   "outputs": [
    {
     "data": {
      "text/plain": [
       "TensorMultiCategory(-5.2029e-08, device='cuda:0')"
      ]
     },
     "execution_count": null,
     "metadata": {},
     "output_type": "execute_result"
    }
   ],
   "source": [
    "howmany = torch.where(I_TL < 0, True, False).sum().item()\n",
    "negs = torch.where(I_TL < 0, I_TL, I_TL.new_zeros(I_TL.shape))\n",
    "negs.sum()/howmany"
   ]
  },
  {
   "cell_type": "markdown",
   "id": "e1afd7d6-f0ff-4ac8-95c1-68516baa44fe",
   "metadata": {},
   "source": [
    "Those negs on an avg are pretty close to zero. So we need not worry. Let's roll!"
   ]
  },
  {
   "cell_type": "code",
   "execution_count": null,
   "id": "9eed0a1a-c281-47c7-a3d4-0c59fac95182",
   "metadata": {},
   "outputs": [],
   "source": [
    "test_eq(p_TL.shape, (info.toksize, info.lblsize, 2, 2))\n",
    "test_eq(p_T.shape, (info.toksize, 2, 1))\n",
    "test_eq(p_L.shape, (info.lblsize, 1, 2))\n",
    "test_eq(p_TxL.shape, (info.toksize, info.lblsize, 2, 2))\n",
    "test_eq(H_T.shape, [info.toksize])\n",
    "test_eq(H_L.shape, [info.lblsize])\n",
    "test_eq(I_TL.shape, (info.toksize, info.lblsize))"
   ]
  },
  {
   "cell_type": "code",
   "execution_count": null,
   "id": "f35e5372-14ea-4e0d-bb59-4568f2ef6576",
   "metadata": {},
   "outputs": [],
   "source": [
    "#| hide\n",
    "# r_t, r_l = random.randrange(0, len(toks)), random.randrange(0, len(lbs))\n",
    "# toks[r_t], lbs[r_l]\n",
    "\n",
    "# test_close(p_TL[r_t,r_l].sum(), 1, eps=1e-1)\n",
    "# test_eq(p_T[r_t].sum(), 1)\n",
    "# test_eq(p_L[r_l].sum(), 1)\n",
    "\n",
    "# p_TL[r_t,r_l].sum(-1), p_TL[r_t, 400].sum(-1) \n",
    "\n",
    "# p_T[r_t], p_L[r_l]\n",
    "# I_TL[r_t,r_l]"
   ]
  },
  {
   "cell_type": "code",
   "execution_count": null,
   "id": "05429dda-8ebd-441b-a69d-46ec898cfc5d",
   "metadata": {},
   "outputs": [],
   "source": [
    "eps = I_TL.new_empty(1).fill_(1e-15)\n",
    "info_lbl_entropy = I_TL/(H_L + eps)\n",
    "info_jaccard = I_TL/(H_T.unsqueeze(-1) + H_L.unsqueeze(0) - I_TL + eps)\n",
    "assert not info_lbl_entropy.isnan().all(); assert not info_jaccard.isnan().all()\n",
    "l2r_bootstrap = {'toks': toks, 'lbs': lbs, 'mut_info_lbl_entropy': info_lbl_entropy, 'mutual_info_jaccard': info_jaccard}"
   ]
  },
  {
   "cell_type": "markdown",
   "id": "b46bafa8-f145-4111-b6c6-b699cb4927b2",
   "metadata": {},
   "source": [
    "`l2r_bootstrap` for the full dataset was downloaded by `untar_xxx` in `boot_path`. You can load it up in the following cell. `l2r_bootstrap` will be used to bootstrap our learning-to-rank model."
   ]
  },
  {
   "cell_type": "code",
   "execution_count": null,
   "id": "fb709691-9929-4042-aa2b-58ca0bff9448",
   "metadata": {},
   "outputs": [],
   "source": [
    "boot_path = (source/'mimic3-9k_tok_lbl_info.pkl')\n",
    "assert boot_path.exists()"
   ]
  },
  {
   "cell_type": "markdown",
   "id": "5816a639-8592-4cb8-b1fe-5e08752082c4",
   "metadata": {},
   "source": [
    "#### Save those Mutual Information Gain values"
   ]
  },
  {
   "cell_type": "markdown",
   "id": "db898c6f-2338-4141-b7d4-3b634f7a85a1",
   "metadata": {},
   "source": [
    "Let's take a look at the *Mutual Information Gain* (`I_TL`) for each of the labels:"
   ]
  },
  {
   "cell_type": "code",
   "execution_count": null,
   "id": "a3085fc7-4ea7-4ee0-9206-4912523c62dd",
   "metadata": {},
   "outputs": [],
   "source": [
    "with tempfile.TemporaryDirectory() as tmpdir:\n",
    "    args = (p_TL, p_T, p_L, info_jaccard, H_T, H_L)\n",
    "    kwargs = {'k':10, 'save_as': Path(tmpdir)/'mut_info_jaccard.ft'}\n",
    "    df_info = info.show(*args, **kwargs)\n",
    "    assert (Path(tmpdir)/'mut_info_jaccard.ft').exists()"
   ]
  },
  {
   "cell_type": "code",
   "execution_count": null,
   "id": "d56acd2c-a8d1-406d-8f1f-534a60132325",
   "metadata": {},
   "outputs": [
    {
     "data": {
      "text/html": [
       "<div>\n",
       "<style scoped>\n",
       "    .dataframe tbody tr th:only-of-type {\n",
       "        vertical-align: middle;\n",
       "    }\n",
       "\n",
       "    .dataframe tbody tr th {\n",
       "        vertical-align: top;\n",
       "    }\n",
       "\n",
       "    .dataframe thead th {\n",
       "        text-align: right;\n",
       "    }\n",
       "</style>\n",
       "<table border=\"1\" class=\"dataframe\">\n",
       "  <thead>\n",
       "    <tr style=\"text-align: right;\">\n",
       "      <th></th>\n",
       "      <th>label</th>\n",
       "      <th>freq</th>\n",
       "      <th>prob</th>\n",
       "      <th>entropy</th>\n",
       "      <th>description</th>\n",
       "      <th>top-k (token, prob, entropy, joint, info)</th>\n",
       "    </tr>\n",
       "  </thead>\n",
       "  <tbody>\n",
       "    <tr>\n",
       "      <th>0</th>\n",
       "      <td>008.45</td>\n",
       "      <td>19</td>\n",
       "      <td>0.022837</td>\n",
       "      <td>0.108882</td>\n",
       "      <td>Intestinal infection due to clostridium difficile</td>\n",
       "      <td>[['difficile' '0.05048077' '0.19992837' '0.015625' '0.12893958']\\n ['cdiff' '0.010817308' '0.059724282' '0.0060096155' '0.10641697']\\n ['colitis' '0.056490384' '0.21719941' '0.014423078' '0.09652457']\\n ['loosely' '0.0024038462' '0.016897745' '0.0024038462' '0.07903936']\\n ['reformatted' '0.006009616' '0.036727034' '0.0036057695' '0.07314324']\\n ['flagyl' '0.16466346' '0.44732267' '0.021634616' '0.068708725']\\n ['clostridium' '0.028846156' '0.13070811' '0.007211539' '0.055680964']\\n ['rocephin' '0.008413462' '0.04857681' '0.0036057695' '0.055435326']\\n ['enteritis' '0.0036057695' '0.023882...</td>\n",
       "    </tr>\n",
       "    <tr>\n",
       "      <th>1</th>\n",
       "      <td>008.8</td>\n",
       "      <td>2</td>\n",
       "      <td>0.002404</td>\n",
       "      <td>0.016898</td>\n",
       "      <td>Intestinal infection due to other organism, not elsewhere classified</td>\n",
       "      <td>[['vasotec' '0.0024038462' '0.016897745' '0.0012019231' '0.21375288']\\n ['gastroenteritis' '0.009615385' '0.054226533' '0.0024038462'\\n  '0.19268773']\\n ['tachyarrhythmia' '0.0036057695' '0.023882464' '0.0012019231'\\n  '0.1501656']\\n ['probenecid' '0.0036057695' '0.023882464' '0.0012019231' '0.1501656']\\n ['electronics' '0.0036057695' '0.023882464' '0.0012019231' '0.1501656']\\n ['poles' '0.0036057695' '0.023882464' '0.0012019231' '0.1501656']\\n ['9th' '0.0036057695' '0.023882464' '0.0012019231' '0.1501656']\\n ['aborted' '0.0036057695' '0.023882464' '0.0012019231' '0.1501656']\\n ['tenting' ...</td>\n",
       "    </tr>\n",
       "    <tr>\n",
       "      <th>2</th>\n",
       "      <td>009.0</td>\n",
       "      <td>1</td>\n",
       "      <td>0.001202</td>\n",
       "      <td>0.009283</td>\n",
       "      <td>Infectious colitis, enteritis, and gastroenteritis</td>\n",
       "      <td>[['presacral' '0.0012019231' '0.009282676' '0.0012019231' '0.9999966']\\n ['vibrio' '0.0012019231' '0.009282676' '0.0012019231' '0.9999966']\\n ['yersinia' '0.0024038462' '0.016897745' '0.0012019231' '0.41028064']\\n ['ova' '0.0024038462' '0.016897745' '0.0012019231' '0.41028064']\\n ['parasites' '0.0036057695' '0.023882464' '0.0012019231' '0.26692808']\\n ['resucitation' '0.0036057695' '0.023882464' '0.0012019231' '0.26692808']\\n ['exlap' '0.0036057695' '0.023882464' '0.0012019231' '0.26692808']\\n ['tenting' '0.0036057695' '0.023882464' '0.0012019231' '0.26692808']\\n ['adhesiolysis' '0.0036057...</td>\n",
       "    </tr>\n",
       "    <tr>\n",
       "      <th>3</th>\n",
       "      <td>009.1</td>\n",
       "      <td>2</td>\n",
       "      <td>0.002404</td>\n",
       "      <td>0.016898</td>\n",
       "      <td>Colitis, enteritis, and gastroenteritis of presumed infectious origin</td>\n",
       "      <td>[['44yf' '0.0012019231' '0.009282676' '0.0012019231' '0.41028064']\\n ['ischioanal' '0.0012019231' '0.009282676' '0.0012019231' '0.41028064']\\n ['perianal' '0.0012019231' '0.009282676' '0.0012019231' '0.41028064']\\n ['paraplegia' '0.0024038462' '0.016897745' '0.0012019231' '0.21375288']\\n ['paraplegic' '0.0024038462' '0.016897745' '0.0012019231' '0.21375288']\\n ['vicarious' '0.0024038462' '0.016897745' '0.0012019231' '0.21375288']\\n ['spasticity' '0.0024038462' '0.016897745' '0.0012019231' '0.21375288']\\n ['tuberosity' '0.0024038462' '0.016897745' '0.0012019231' '0.21375288']\\n ['comp' '0.0...</td>\n",
       "    </tr>\n",
       "    <tr>\n",
       "      <th>4</th>\n",
       "      <td>031.0</td>\n",
       "      <td>1</td>\n",
       "      <td>0.001202</td>\n",
       "      <td>0.009283</td>\n",
       "      <td>Pulmonary diseases due to other mycobacteria</td>\n",
       "      <td>[['gist' '0.0024038462' '0.016897745' '0.0012019231' '0.41028064']\\n ['disrupted' '0.0024038462' '0.016897745' '0.0012019231' '0.41028064']\\n ['eroding' '0.0024038462' '0.016897745' '0.0012019231' '0.41028064']\\n ['vaginitis' '0.0024038462' '0.016897745' '0.0012019231' '0.41028064']\\n ['circumscribed' '0.0024038462' '0.016897745' '0.0012019231'\\n  '0.41028064']\\n ['discern' '0.0024038462' '0.016897745' '0.0012019231' '0.41028064']\\n ['inseparable' '0.0024038462' '0.016897745' '0.0012019231' '0.41028064']\\n ['pearls' '0.0024038462' '0.016897745' '0.0012019231' '0.41028064']\\n ['ileocecal' '...</td>\n",
       "    </tr>\n",
       "  </tbody>\n",
       "</table>\n",
       "</div>"
      ],
      "text/plain": [
       "    label  freq      prob   entropy  \\\n",
       "0  008.45    19  0.022837  0.108882   \n",
       "1   008.8     2  0.002404  0.016898   \n",
       "2   009.0     1  0.001202  0.009283   \n",
       "3   009.1     2  0.002404  0.016898   \n",
       "4   031.0     1  0.001202  0.009283   \n",
       "\n",
       "                                                             description  \\\n",
       "0                      Intestinal infection due to clostridium difficile   \n",
       "1   Intestinal infection due to other organism, not elsewhere classified   \n",
       "2                     Infectious colitis, enteritis, and gastroenteritis   \n",
       "3  Colitis, enteritis, and gastroenteritis of presumed infectious origin   \n",
       "4                           Pulmonary diseases due to other mycobacteria   \n",
       "\n",
       "                                                                                                                                                                                                                                                                                                                                                                                                                                                                                                                                                                                 top-k (token, prob, entropy, joint, info)  \n",
       "0  [['difficile' '0.05048077' '0.19992837' '0.015625' '0.12893958']\\n ['cdiff' '0.010817308' '0.059724282' '0.0060096155' '0.10641697']\\n ['colitis' '0.056490384' '0.21719941' '0.014423078' '0.09652457']\\n ['loosely' '0.0024038462' '0.016897745' '0.0024038462' '0.07903936']\\n ['reformatted' '0.006009616' '0.036727034' '0.0036057695' '0.07314324']\\n ['flagyl' '0.16466346' '0.44732267' '0.021634616' '0.068708725']\\n ['clostridium' '0.028846156' '0.13070811' '0.007211539' '0.055680964']\\n ['rocephin' '0.008413462' '0.04857681' '0.0036057695' '0.055435326']\\n ['enteritis' '0.0036057695' '0.023882...  \n",
       "1  [['vasotec' '0.0024038462' '0.016897745' '0.0012019231' '0.21375288']\\n ['gastroenteritis' '0.009615385' '0.054226533' '0.0024038462'\\n  '0.19268773']\\n ['tachyarrhythmia' '0.0036057695' '0.023882464' '0.0012019231'\\n  '0.1501656']\\n ['probenecid' '0.0036057695' '0.023882464' '0.0012019231' '0.1501656']\\n ['electronics' '0.0036057695' '0.023882464' '0.0012019231' '0.1501656']\\n ['poles' '0.0036057695' '0.023882464' '0.0012019231' '0.1501656']\\n ['9th' '0.0036057695' '0.023882464' '0.0012019231' '0.1501656']\\n ['aborted' '0.0036057695' '0.023882464' '0.0012019231' '0.1501656']\\n ['tenting' ...  \n",
       "2  [['presacral' '0.0012019231' '0.009282676' '0.0012019231' '0.9999966']\\n ['vibrio' '0.0012019231' '0.009282676' '0.0012019231' '0.9999966']\\n ['yersinia' '0.0024038462' '0.016897745' '0.0012019231' '0.41028064']\\n ['ova' '0.0024038462' '0.016897745' '0.0012019231' '0.41028064']\\n ['parasites' '0.0036057695' '0.023882464' '0.0012019231' '0.26692808']\\n ['resucitation' '0.0036057695' '0.023882464' '0.0012019231' '0.26692808']\\n ['exlap' '0.0036057695' '0.023882464' '0.0012019231' '0.26692808']\\n ['tenting' '0.0036057695' '0.023882464' '0.0012019231' '0.26692808']\\n ['adhesiolysis' '0.0036057...  \n",
       "3  [['44yf' '0.0012019231' '0.009282676' '0.0012019231' '0.41028064']\\n ['ischioanal' '0.0012019231' '0.009282676' '0.0012019231' '0.41028064']\\n ['perianal' '0.0012019231' '0.009282676' '0.0012019231' '0.41028064']\\n ['paraplegia' '0.0024038462' '0.016897745' '0.0012019231' '0.21375288']\\n ['paraplegic' '0.0024038462' '0.016897745' '0.0012019231' '0.21375288']\\n ['vicarious' '0.0024038462' '0.016897745' '0.0012019231' '0.21375288']\\n ['spasticity' '0.0024038462' '0.016897745' '0.0012019231' '0.21375288']\\n ['tuberosity' '0.0024038462' '0.016897745' '0.0012019231' '0.21375288']\\n ['comp' '0.0...  \n",
       "4  [['gist' '0.0024038462' '0.016897745' '0.0012019231' '0.41028064']\\n ['disrupted' '0.0024038462' '0.016897745' '0.0012019231' '0.41028064']\\n ['eroding' '0.0024038462' '0.016897745' '0.0012019231' '0.41028064']\\n ['vaginitis' '0.0024038462' '0.016897745' '0.0012019231' '0.41028064']\\n ['circumscribed' '0.0024038462' '0.016897745' '0.0012019231'\\n  '0.41028064']\\n ['discern' '0.0024038462' '0.016897745' '0.0012019231' '0.41028064']\\n ['inseparable' '0.0024038462' '0.016897745' '0.0012019231' '0.41028064']\\n ['pearls' '0.0024038462' '0.016897745' '0.0012019231' '0.41028064']\\n ['ileocecal' '...  "
      ]
     },
     "execution_count": null,
     "metadata": {},
     "output_type": "execute_result"
    }
   ],
   "source": [
    "df_info.head()"
   ]
  },
  {
   "cell_type": "markdown",
   "id": "87e629ea-7672-44ac-b875-7c5b663740d6",
   "metadata": {},
   "source": [
    "#### Let's look at those Mutual-Information Gain values:"
   ]
  },
  {
   "cell_type": "code",
   "execution_count": null,
   "id": "d99678fb-4db4-407f-becc-efbb43e38dcc",
   "metadata": {},
   "outputs": [
    {
     "data": {
      "text/plain": [
       "33"
      ]
     },
     "execution_count": null,
     "metadata": {},
     "output_type": "execute_result"
    }
   ],
   "source": [
    "mask = (df_info.freq>50) & (df_info.freq<150)\n",
    "# with pd.option_context('display.max_colwidth', 100):\n",
    "# pd.reset_option('all')\n",
    "df_info = df_info[mask].reset_index(drop=True)\n",
    "len(df_info)"
   ]
  },
  {
   "cell_type": "markdown",
   "id": "c3419778-0f78-483c-a6c6-8b7be8771399",
   "metadata": {},
   "source": [
    "The dataframe below shows the top 10 tokens (based on the mutual-info-gain values) for labels are rare (freq between 50 and 150). Feel free to ChatGPT the label descriptions and the tokens to find out if we're able to find the needle in a haystack. "
   ]
  },
  {
   "cell_type": "code",
   "execution_count": null,
   "id": "86a77e6e-073f-4bee-8b25-b2cfa69e6eff",
   "metadata": {},
   "outputs": [
    {
     "data": {
      "text/html": [
       "<div>\n",
       "<style scoped>\n",
       "    .dataframe tbody tr th:only-of-type {\n",
       "        vertical-align: middle;\n",
       "    }\n",
       "\n",
       "    .dataframe tbody tr th {\n",
       "        vertical-align: top;\n",
       "    }\n",
       "\n",
       "    .dataframe thead th {\n",
       "        text-align: right;\n",
       "    }\n",
       "</style>\n",
       "<table border=\"1\" class=\"dataframe\">\n",
       "  <thead>\n",
       "    <tr style=\"text-align: right;\">\n",
       "      <th></th>\n",
       "      <th>label</th>\n",
       "      <th>freq</th>\n",
       "      <th>prob</th>\n",
       "      <th>entropy</th>\n",
       "      <th>description</th>\n",
       "      <th>top-k (token, prob, entropy, joint, info)</th>\n",
       "    </tr>\n",
       "  </thead>\n",
       "  <tbody>\n",
       "    <tr>\n",
       "      <th>0</th>\n",
       "      <td>038.9</td>\n",
       "      <td>60</td>\n",
       "      <td>0.072115</td>\n",
       "      <td>0.259077</td>\n",
       "      <td>Unspecified septicemia</td>\n",
       "      <td>[['expired' '0.10336539' '0.33241516' '0.037259616' '0.08065721']\\n ['pressors' '0.13100962' '0.38830143' '0.042067308' '0.076888874']\\n ['septic' '0.066105776' '0.24344721' '0.025240386' '0.06168491']\\n ['spectrum' '0.06129808' '0.23052433' '0.02283654' '0.05475075']\\n ['levophed' '0.07692308' '0.27118933' '0.025240386' '0.04954973']\\n ['tpn' '0.04567308' '0.18557212' '0.018028846' '0.04873537']\\n ['antifungal' '0.0048076925' '0.030457318' '0.0048076925' '0.04623133']\\n ['broad' '0.070913464' '0.2559954' '0.02283654' '0.04429924']\\n ['lactate' '0.265625' '0.5788586' '0.051682696' '0.04339258']\\n ['sepsis' '0.18750001' '0.48257756' '0.042067308' '0.043172438']]</td>\n",
       "    </tr>\n",
       "    <tr>\n",
       "      <th>1</th>\n",
       "      <td>244.9</td>\n",
       "      <td>81</td>\n",
       "      <td>0.097356</td>\n",
       "      <td>0.319234</td>\n",
       "      <td>Unspecified hypothyroidism</td>\n",
       "      <td>[['hypothyroidism' '0.10576923' '0.33757737' '0.081730776' '0.3886398']\\n ['levothyroxine' '0.11057693' '0.3477198' '0.078125' '0.3144576']\\n ['synthroid' '0.046875004' '0.18920892' '0.032451924' '0.11703823']\\n ['hypothyroid' '0.01923077' '0.09503007' '0.015625' '0.07425124']\\n ['levoxyl' '0.018028848' '0.09026522' '0.014423078' '0.06755623']\\n ['mcg' '0.3641827' '0.6557869' '0.08052885' '0.05304037']\\n ['88mcg' '0.0060096155' '0.03672703' '0.0060096155' '0.041458126']\\n ['cystitis' '0.0036057695' '0.023882464' '0.0036057695' '0.02528072']\\n ['kyphotic' '0.0036057695' '0.023882464' '0.0036057695' '0.02528072']\\n ['cvat' '0.0036057695' '0.023882464' '0.0036057695' '0.02528072']]</td>\n",
       "    </tr>\n",
       "    <tr>\n",
       "      <th>2</th>\n",
       "      <td>250.00</td>\n",
       "      <td>133</td>\n",
       "      <td>0.159856</td>\n",
       "      <td>0.439431</td>\n",
       "      <td>type II diabetes mellitus [non-insulin dependent type] [NIDDM type] [adult-onset type] or unspecified type, not stated as uncontrolled, without mention of complication</td>\n",
       "      <td>[['metformin' '0.073317304' '0.2621364' '0.05048077' '0.08942482']\\n ['diabetes' '0.28846157' '0.6007684' '0.11538462' '0.0821224']\\n ['glyburide' '0.03846154' '0.16302359' '0.028846156' '0.061709817']\\n ['dm' '0.15264423' '0.42726845' '0.067307696' '0.05150881']\\n ['mellitus' '0.15264425' '0.42726848' '0.0625' '0.040773362']\\n ['noninsulin' '0.010817308' '0.059724223' '0.009615385' '0.029499378']\\n ['dm2' '0.044471156' '0.18190216' '0.02283654' '0.026129907']\\n ['glipizide' '0.02283654' '0.10888202' '0.014423078' '0.024919808']\\n ['insulin' '0.28245193' '0.5952542' '0.082932696' '0.023776595']\\n ['avandia' '0.013221154' '0.07032718' '0.009615385' '0.0214933']]</td>\n",
       "    </tr>\n",
       "    <tr>\n",
       "      <th>3</th>\n",
       "      <td>272.0</td>\n",
       "      <td>98</td>\n",
       "      <td>0.117788</td>\n",
       "      <td>0.362495</td>\n",
       "      <td>Pure hypercholesterolemia</td>\n",
       "      <td>[['hypercholesterolemia' '0.13822116' '0.40172112' '0.07331731'\\n  '0.13655801']\\n ['lipitor' '0.16826923' '0.45313114' '0.04567308' '0.023694605']\\n ['crestor' '0.016826924' '0.08541869' '0.009615385' '0.023464732']\\n ['aspirin' '0.546875' '0.6887462' '0.097355776' '0.022431085']\\n ['ceased' '0.0036057695' '0.023882464' '0.0036057695' '0.020499693']\\n ['carotids' '0.027644232' '0.12645534' '0.012019231' '0.019025374']\\n ['nonreactive' '0.086538464' '0.29445505' '0.0' '0.017625172']\\n ['palate' '0.085336536' '0.29161334' '0.0' '0.017440615']\\n ['mrs' '0.03846154' '0.16302359' '0.014423078' '0.01726563']\\n ['crossclamp' '0.009615385' '0.054226533' '0.0060096155' '0.017237019']]</td>\n",
       "    </tr>\n",
       "    <tr>\n",
       "      <th>4</th>\n",
       "      <td>276.2</td>\n",
       "      <td>80</td>\n",
       "      <td>0.096154</td>\n",
       "      <td>0.316549</td>\n",
       "      <td>Acidosis</td>\n",
       "      <td>[['acidosis' '0.07572116' '0.26819247' '0.049278848' '0.16342042']\\n ['metabolic' '0.086538464' '0.29445505' '0.036057692' '0.06290171']\\n ['lactic' '0.013221154' '0.07032718' '0.009615385' '0.041882366']\\n ['unclear' '0.18509617' '0.4790337' '0.048076924' '0.036246117']\\n ['volumes' '0.0625' '0.2337916' '0.02283654' '0.03440499']\\n ['cvvh' '0.02283654' '0.10888202' '0.012019231' '0.034102257']\\n ['acidemia' '0.0048076925' '0.030457318' '0.0048076925' '0.03387371']\\n ['hypercarbia' '0.013221154' '0.07032718' '0.008413462' '0.031534124']\\n ['ascites' '0.082932696' '0.2858742' '0.026442308' '0.030813422']\\n ['hapto' '0.028846156' '0.13070805' '0.013221154' '0.030686395']]</td>\n",
       "    </tr>\n",
       "  </tbody>\n",
       "</table>\n",
       "</div>"
      ],
      "text/plain": [
       "    label  freq      prob   entropy  \\\n",
       "0   038.9    60  0.072115  0.259077   \n",
       "1   244.9    81  0.097356  0.319234   \n",
       "2  250.00   133  0.159856  0.439431   \n",
       "3   272.0    98  0.117788  0.362495   \n",
       "4   276.2    80  0.096154  0.316549   \n",
       "\n",
       "                                                                                                                                                               description  \\\n",
       "0                                                                                                                                                   Unspecified septicemia   \n",
       "1                                                                                                                                               Unspecified hypothyroidism   \n",
       "2  type II diabetes mellitus [non-insulin dependent type] [NIDDM type] [adult-onset type] or unspecified type, not stated as uncontrolled, without mention of complication   \n",
       "3                                                                                                                                                Pure hypercholesterolemia   \n",
       "4                                                                                                                                                                 Acidosis   \n",
       "\n",
       "                                                                                                                                                                                                                                                                                                                                                                                                                                                                                                                                                                                                                                                                         top-k (token, prob, entropy, joint, info)  \n",
       "0                    [['expired' '0.10336539' '0.33241516' '0.037259616' '0.08065721']\\n ['pressors' '0.13100962' '0.38830143' '0.042067308' '0.076888874']\\n ['septic' '0.066105776' '0.24344721' '0.025240386' '0.06168491']\\n ['spectrum' '0.06129808' '0.23052433' '0.02283654' '0.05475075']\\n ['levophed' '0.07692308' '0.27118933' '0.025240386' '0.04954973']\\n ['tpn' '0.04567308' '0.18557212' '0.018028846' '0.04873537']\\n ['antifungal' '0.0048076925' '0.030457318' '0.0048076925' '0.04623133']\\n ['broad' '0.070913464' '0.2559954' '0.02283654' '0.04429924']\\n ['lactate' '0.265625' '0.5788586' '0.051682696' '0.04339258']\\n ['sepsis' '0.18750001' '0.48257756' '0.042067308' '0.043172438']]  \n",
       "1  [['hypothyroidism' '0.10576923' '0.33757737' '0.081730776' '0.3886398']\\n ['levothyroxine' '0.11057693' '0.3477198' '0.078125' '0.3144576']\\n ['synthroid' '0.046875004' '0.18920892' '0.032451924' '0.11703823']\\n ['hypothyroid' '0.01923077' '0.09503007' '0.015625' '0.07425124']\\n ['levoxyl' '0.018028848' '0.09026522' '0.014423078' '0.06755623']\\n ['mcg' '0.3641827' '0.6557869' '0.08052885' '0.05304037']\\n ['88mcg' '0.0060096155' '0.03672703' '0.0060096155' '0.041458126']\\n ['cystitis' '0.0036057695' '0.023882464' '0.0036057695' '0.02528072']\\n ['kyphotic' '0.0036057695' '0.023882464' '0.0036057695' '0.02528072']\\n ['cvat' '0.0036057695' '0.023882464' '0.0036057695' '0.02528072']]  \n",
       "2                    [['metformin' '0.073317304' '0.2621364' '0.05048077' '0.08942482']\\n ['diabetes' '0.28846157' '0.6007684' '0.11538462' '0.0821224']\\n ['glyburide' '0.03846154' '0.16302359' '0.028846156' '0.061709817']\\n ['dm' '0.15264423' '0.42726845' '0.067307696' '0.05150881']\\n ['mellitus' '0.15264425' '0.42726848' '0.0625' '0.040773362']\\n ['noninsulin' '0.010817308' '0.059724223' '0.009615385' '0.029499378']\\n ['dm2' '0.044471156' '0.18190216' '0.02283654' '0.026129907']\\n ['glipizide' '0.02283654' '0.10888202' '0.014423078' '0.024919808']\\n ['insulin' '0.28245193' '0.5952542' '0.082932696' '0.023776595']\\n ['avandia' '0.013221154' '0.07032718' '0.009615385' '0.0214933']]  \n",
       "3    [['hypercholesterolemia' '0.13822116' '0.40172112' '0.07331731'\\n  '0.13655801']\\n ['lipitor' '0.16826923' '0.45313114' '0.04567308' '0.023694605']\\n ['crestor' '0.016826924' '0.08541869' '0.009615385' '0.023464732']\\n ['aspirin' '0.546875' '0.6887462' '0.097355776' '0.022431085']\\n ['ceased' '0.0036057695' '0.023882464' '0.0036057695' '0.020499693']\\n ['carotids' '0.027644232' '0.12645534' '0.012019231' '0.019025374']\\n ['nonreactive' '0.086538464' '0.29445505' '0.0' '0.017625172']\\n ['palate' '0.085336536' '0.29161334' '0.0' '0.017440615']\\n ['mrs' '0.03846154' '0.16302359' '0.014423078' '0.01726563']\\n ['crossclamp' '0.009615385' '0.054226533' '0.0060096155' '0.017237019']]  \n",
       "4           [['acidosis' '0.07572116' '0.26819247' '0.049278848' '0.16342042']\\n ['metabolic' '0.086538464' '0.29445505' '0.036057692' '0.06290171']\\n ['lactic' '0.013221154' '0.07032718' '0.009615385' '0.041882366']\\n ['unclear' '0.18509617' '0.4790337' '0.048076924' '0.036246117']\\n ['volumes' '0.0625' '0.2337916' '0.02283654' '0.03440499']\\n ['cvvh' '0.02283654' '0.10888202' '0.012019231' '0.034102257']\\n ['acidemia' '0.0048076925' '0.030457318' '0.0048076925' '0.03387371']\\n ['hypercarbia' '0.013221154' '0.07032718' '0.008413462' '0.031534124']\\n ['ascites' '0.082932696' '0.2858742' '0.026442308' '0.030813422']\\n ['hapto' '0.028846156' '0.13070805' '0.013221154' '0.030686395']]  "
      ]
     },
     "execution_count": null,
     "metadata": {},
     "output_type": "execute_result"
    }
   ],
   "source": [
    "pd.set_option('display.max_colwidth', None)\n",
    "df_info.head()"
   ]
  },
  {
   "cell_type": "code",
   "execution_count": null,
   "id": "194081a7-7a51-4d61-93b6-5dbcae4a4a98",
   "metadata": {},
   "outputs": [],
   "source": [
    "pd.reset_option('all')"
   ]
  },
  {
   "cell_type": "code",
   "execution_count": null,
   "id": "01ff381c-cc78-4417-92d5-e8871cc64b5f",
   "metadata": {},
   "outputs": [],
   "source": [
    "# df_info.to_excel('jaccard.xls', index=False)"
   ]
  }
 ],
 "metadata": {
  "kernelspec": {
   "display_name": "deepK",
   "language": "python",
   "name": "deepk"
  }
 },
 "nbformat": 4,
 "nbformat_minor": 5
}
