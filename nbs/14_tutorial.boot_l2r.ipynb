{
 "cells": [
  {
   "cell_type": "code",
   "execution_count": null,
   "id": "d488bfb2-194f-4ee5-bc10-e174a54421a5",
   "metadata": {},
   "outputs": [],
   "source": [
    "#| eval: false\n",
    "! [ -e /content ] && pip install -Uqq xcube # upgrade xcube on colab"
   ]
  },
  {
   "cell_type": "code",
   "execution_count": null,
   "id": "be354e98-3b79-4b47-bf77-afced8ada311",
   "metadata": {},
   "outputs": [],
   "source": [
    "from xcube.l2r.all import *"
   ]
  },
  {
   "cell_type": "code",
   "execution_count": null,
   "id": "8ce8aea4-abfa-4ab7-a98b-fbe0d7a38b61",
   "metadata": {},
   "outputs": [],
   "source": [
    "%load_ext autoreload\n",
    "%autoreload 2"
   ]
  },
  {
   "cell_type": "code",
   "execution_count": null,
   "id": "3711ea4d-4cc8-477b-b7e3-af2739b510b3",
   "metadata": {},
   "outputs": [],
   "source": [
    "from fastai.data.core import *\n",
    "# from fastai.data.transforms import *\n",
    "# from fastai.text.core import *\n",
    "# from fastai.text.data import *"
   ]
  },
  {
   "cell_type": "markdown",
   "id": "55be356e-7dc8-46fa-afa6-88268f035a91",
   "metadata": {},
   "source": [
    "# Boot L2R \n",
    "\n",
    "> Bootstrapping a learning-to-rank model"
   ]
  },
  {
   "cell_type": "markdown",
   "id": "1ed5e8d7-7262-49aa-8a85-c61eac2db1b8",
   "metadata": {},
   "source": [
    "In this tutorial we will find a needle in the haystack with mutual infomation gain:"
   ]
  },
  {
   "cell_type": "code",
   "execution_count": null,
   "id": "49de5907-9dbb-45a9-938a-c9f0935ae74a",
   "metadata": {},
   "outputs": [],
   "source": [
    "paths = make_paths(Path.cwd(), 'mimic3-9k')"
   ]
  },
  {
   "cell_type": "markdown",
   "id": "0ec6de06-8a50-47b7-8ca6-9a41e7b6d1b0",
   "metadata": {},
   "source": [
    "#### Mutual-Information Computation"
   ]
  },
  {
   "cell_type": "code",
   "execution_count": null,
   "id": "983ae32d-3022-4191-a412-9c95d6be0c10",
   "metadata": {},
   "outputs": [
    {
     "data": {
      "text/plain": [
       "Path('/home/deb/.xcube/data/mimic3_l2r/mimic3-9k.csv')"
      ]
     },
     "execution_count": null,
     "metadata": {},
     "output_type": "execute_result"
    }
   ],
   "source": [
    "source = untar_xxx(XURLs.MIMIC3_L2R)\n",
    "data = source/'mimic3-9k.csv'\n",
    "data"
   ]
  },
  {
   "cell_type": "code",
   "execution_count": null,
   "id": "3076b02e-71fc-4447-bec8-63355d640cb2",
   "metadata": {},
   "outputs": [
    {
     "data": {
      "text/plain": [
       "52726"
      ]
     },
     "execution_count": null,
     "metadata": {},
     "output_type": "execute_result"
    }
   ],
   "source": [
    "df = pd.read_csv(data,\n",
    "                 header=0,\n",
    "                 names=['subject_id', 'hadm_id', 'text', 'labels', 'length', 'is_valid'],\n",
    "                 dtype={'subject_id': str, 'hadm_id': str, 'text': str, 'labels': str, 'length': np.int64, 'is_valid': bool})\n",
    "df[['text', 'labels']] = df[['text', 'labels']].astype(str)\n",
    "len(df)"
   ]
  },
  {
   "cell_type": "code",
   "execution_count": null,
   "id": "5ab32fe4-f8a8-4bf5-902e-129445c72fd4",
   "metadata": {},
   "outputs": [
    {
     "data": {
      "text/html": [
       "<div>\n",
       "<style scoped>\n",
       "    .dataframe tbody tr th:only-of-type {\n",
       "        vertical-align: middle;\n",
       "    }\n",
       "\n",
       "    .dataframe tbody tr th {\n",
       "        vertical-align: top;\n",
       "    }\n",
       "\n",
       "    .dataframe thead th {\n",
       "        text-align: right;\n",
       "    }\n",
       "</style>\n",
       "<table border=\"1\" class=\"dataframe\">\n",
       "  <thead>\n",
       "    <tr style=\"text-align: right;\">\n",
       "      <th></th>\n",
       "      <th>subject_id</th>\n",
       "      <th>hadm_id</th>\n",
       "      <th>text</th>\n",
       "      <th>labels</th>\n",
       "      <th>length</th>\n",
       "      <th>is_valid</th>\n",
       "    </tr>\n",
       "  </thead>\n",
       "  <tbody>\n",
       "    <tr>\n",
       "      <th>0</th>\n",
       "      <td>86006</td>\n",
       "      <td>111912</td>\n",
       "      <td>admission date discharge date date of birth sex f service surgery allergies patient recorded as having no known allergies to drugs attending first name3 lf chief complaint 60f on coumadin was found slightly drowsy tonight then fell down stairs paramedic found her unconscious and she was intubated w o any medication head ct shows multiple iph transferred to hospital1 for further eval major surgical or invasive procedure none past medical history her medical history is significant for hypertension osteoarthritis involving bilateral knee joints with a dependence on cane for ambulation chronic...</td>\n",
       "      <td>801.35;348.4;805.06;807.01;998.30;707.24;E880.9;427.31;414.01;401.9;V58.61;V43.64;707.00;E878.1;96.71</td>\n",
       "      <td>230</td>\n",
       "      <td>False</td>\n",
       "    </tr>\n",
       "    <tr>\n",
       "      <th>1</th>\n",
       "      <td>85950</td>\n",
       "      <td>189769</td>\n",
       "      <td>admission date discharge date service neurosurgery allergies sulfa sulfonamides attending first name3 lf chief complaint cc cc contact info major surgical or invasive procedure none history of present illness hpi 88m who lives with family had fall yesterday today had decline in mental status ems called pt was unresponsive on arrival went to osh head ct showed large r sdh pt was intubated at osh and transferred to hospital1 for further care past medical history cad s p mi in s p cabg in ventricular aneurysm at that time cath in with occluded rca unable to intervene chf reported ef 1st degre...</td>\n",
       "      <td>852.25;E888.9;403.90;585.9;250.00;414.00;V45.81;96.71</td>\n",
       "      <td>304</td>\n",
       "      <td>False</td>\n",
       "    </tr>\n",
       "    <tr>\n",
       "      <th>2</th>\n",
       "      <td>88025</td>\n",
       "      <td>180431</td>\n",
       "      <td>admission date discharge date date of birth sex f service surgery allergies no known allergies adverse drug reactions attending first name3 lf chief complaint s p fall major surgical or invasive procedure none history of present illness 45f etoh s p fall from window at feet found ambulating and slurring speech on scene intubated en route for declining mental status in the er the patient was found to be bradycardic to the s with bp of systolic she was given atropine dilantin and was started on saline past medical history unknown social history unknown family history unknown physical exam ex...</td>\n",
       "      <td>518.81;348.4;348.82;801.25;427.89;E882;V49.86;305.00;96.71;38.93</td>\n",
       "      <td>359</td>\n",
       "      <td>False</td>\n",
       "    </tr>\n",
       "  </tbody>\n",
       "</table>\n",
       "</div>"
      ],
      "text/plain": [
       "  subject_id hadm_id  \\\n",
       "0      86006  111912   \n",
       "1      85950  189769   \n",
       "2      88025  180431   \n",
       "\n",
       "                                                                                                                                                                                                                                                                                                                                                                                                                                                                                                                                                                                                                      text  \\\n",
       "0  admission date discharge date date of birth sex f service surgery allergies patient recorded as having no known allergies to drugs attending first name3 lf chief complaint 60f on coumadin was found slightly drowsy tonight then fell down stairs paramedic found her unconscious and she was intubated w o any medication head ct shows multiple iph transferred to hospital1 for further eval major surgical or invasive procedure none past medical history her medical history is significant for hypertension osteoarthritis involving bilateral knee joints with a dependence on cane for ambulation chronic...   \n",
       "1  admission date discharge date service neurosurgery allergies sulfa sulfonamides attending first name3 lf chief complaint cc cc contact info major surgical or invasive procedure none history of present illness hpi 88m who lives with family had fall yesterday today had decline in mental status ems called pt was unresponsive on arrival went to osh head ct showed large r sdh pt was intubated at osh and transferred to hospital1 for further care past medical history cad s p mi in s p cabg in ventricular aneurysm at that time cath in with occluded rca unable to intervene chf reported ef 1st degre...   \n",
       "2  admission date discharge date date of birth sex f service surgery allergies no known allergies adverse drug reactions attending first name3 lf chief complaint s p fall major surgical or invasive procedure none history of present illness 45f etoh s p fall from window at feet found ambulating and slurring speech on scene intubated en route for declining mental status in the er the patient was found to be bradycardic to the s with bp of systolic she was given atropine dilantin and was started on saline past medical history unknown social history unknown family history unknown physical exam ex...   \n",
       "\n",
       "                                                                                                  labels  \\\n",
       "0  801.35;348.4;805.06;807.01;998.30;707.24;E880.9;427.31;414.01;401.9;V58.61;V43.64;707.00;E878.1;96.71   \n",
       "1                                                  852.25;E888.9;403.90;585.9;250.00;414.00;V45.81;96.71   \n",
       "2                                       518.81;348.4;348.82;801.25;427.89;E882;V49.86;305.00;96.71;38.93   \n",
       "\n",
       "   length  is_valid  \n",
       "0     230     False  \n",
       "1     304     False  \n",
       "2     359     False  "
      ]
     },
     "execution_count": null,
     "metadata": {},
     "output_type": "execute_result"
    }
   ],
   "source": [
    "df.head(3)"
   ]
  },
  {
   "cell_type": "markdown",
   "id": "5dc10d96-0a45-4149-a159-a6bc78d63017",
   "metadata": {},
   "source": [
    "*Technical Point:* If we want to sample do perform quick iterations, we need to make sure the number of data points in the sample is a multiple of `bs`. So that we do not have to do a `drop_last=True` while creating the `Dataloaders`. This is because we are about to do some probability computations, and dropping data points is not a good idea as probabilities would not sum to 1."
   ]
  },
  {
   "cell_type": "code",
   "execution_count": null,
   "id": "d5544cdf-0934-4604-930d-e95822f323ea",
   "metadata": {},
   "outputs": [
    {
     "data": {
      "text/plain": [
       "52720"
      ]
     },
     "execution_count": null,
     "metadata": {},
     "output_type": "execute_result"
    }
   ],
   "source": [
    "cut = len(df) - len(df)%8\n",
    "df = df[:cut]\n",
    "len(df)"
   ]
  },
  {
   "cell_type": "markdown",
   "id": "11e0acbb-b128-4890-844b-973b067cfba9",
   "metadata": {},
   "source": [
    "**Run the cell below only if you want to sample from the full dataset to create a tiny dataset for the purpose of quick iterations.**"
   ]
  },
  {
   "cell_type": "code",
   "execution_count": null,
   "id": "ecfac811-91d6-425b-bf49-5a0ffedabc65",
   "metadata": {},
   "outputs": [
    {
     "data": {
      "text/plain": [
       "4840"
      ]
     },
     "execution_count": null,
     "metadata": {},
     "output_type": "execute_result"
    }
   ],
   "source": [
    "bs = 8\n",
    "_arr = np.arange(0, len(df), bs)\n",
    "mask = (_arr > 4000) & (_arr < 5000)\n",
    "_n = np.random.choice(_arr[mask], 1)\n",
    "df = df.sample(n=_n, random_state=89, ignore_index=True)\n",
    "len(df)"
   ]
  },
  {
   "cell_type": "code",
   "execution_count": null,
   "id": "1814cff6-5281-47ef-bc44-0f908dff12de",
   "metadata": {},
   "outputs": [
    {
     "data": {
      "text/plain": [
       "((#4503) [0,1,2,3,5,6,9,10,11,12...],\n",
       " (#337) [4,7,8,51,64,74,120,125,132,141...])"
      ]
     },
     "execution_count": null,
     "metadata": {},
     "output_type": "execute_result"
    }
   ],
   "source": [
    "splits = ColSplitter()(df)\n",
    "splits"
   ]
  },
  {
   "cell_type": "code",
   "execution_count": null,
   "id": "949b7f2c-da57-4d95-924d-fcd0c94c0355",
   "metadata": {},
   "outputs": [],
   "source": [
    "lm_vocab = torch.load(dls_lm_vocab_path)"
   ]
  },
  {
   "cell_type": "code",
   "execution_count": null,
   "id": "0d822636-519d-40ac-aee7-7ef8edade513",
   "metadata": {},
   "outputs": [],
   "source": [
    "@Transform\n",
    "def Cleanser(toks): return [o for o in toks if o in lm_vocab]"
   ]
  },
  {
   "cell_type": "code",
   "execution_count": null,
   "id": "a85e8481-7ce5-44af-8427-21bc4549b03f",
   "metadata": {},
   "outputs": [],
   "source": [
    "class MyNumericalize(Transform):\n",
    "    \"Transform to remove tokens not present in `vocab`\"\n",
    "    def __init__(self, vocab=None, min_freq=3, max_vocab=60000, special_toks=None):\n",
    "        store_attr('vocab,min_freq,max_vocab,special_toks')\n",
    "        self.o2i = None if vocab is None else defaultdict(int, {v: i for i,v in enumerate(vocab)})\n",
    "    \n",
    "    def setups(self, dsets):\n",
    "        if dsets is None: return\n",
    "        if self.vocab is None:\n",
    "            count = dsets.counter if getattr(dsets, 'counter', None) is not None else Counter(p for o in dsets for p in o)\n",
    "            if self.special_toks is None and hasattr(dsets, 'special_toks'):\n",
    "                self.special_toks = dsets.special_toks\n",
    "            self.vocab = make_vocab(count, min_freq=self.min_freq, max_vocab=self.max_vocab, special_toks=self.special_toks)\n",
    "            self.o2i = defaultdict(int, {v:i for i,v in enumerate(self.vocab) if v != 'xxfake'})\n",
    "    \n",
    "    def encodes(self, o): return TensorText(tensor([self.o2i[o_] for o_ in o if o_ in self.vocab]))\n",
    "    def decodes(self, o): return L(self.vocab[o_] for o_ in o)"
   ]
  },
  {
   "cell_type": "code",
   "execution_count": null,
   "id": "8461b924-c5ad-4578-aba7-560fe24c751e",
   "metadata": {},
   "outputs": [],
   "source": [
    "# resort to this if anythiong goes wrong below\n",
    "x_tfms = [Tokenizer.from_df('text', n_workers=num_cpus()), attrgetter(\"text\"), Cleanser, MultiCategorize(vocab=lm_vocab), OneHotEncode()]\n",
    "y_tfms = [ColReader('labels', label_delim=';'), MultiCategorize(), OneHotEncode()]\n",
    "tfms = [x_tfms, y_tfms]"
   ]
  },
  {
   "cell_type": "code",
   "execution_count": null,
   "id": "827e9ed4-7fe7-412c-a032-000a997817d5",
   "metadata": {},
   "outputs": [],
   "source": [
    "class Chunkifize(Transform):\n",
    "    order = 4\n",
    "    def __init__(self, num_chunks=3): store_attr('num_chunks')\n",
    "    def encodes(self, o): \n",
    "        return list(torch.chunk(o, self.num_chunks))\n",
    "    def decodes(self, o): \n",
    "        return torch.cat(o)"
   ]
  },
  {
   "cell_type": "code",
   "execution_count": null,
   "id": "06529945-b17f-4e5f-a937-2f9edb826afb",
   "metadata": {},
   "outputs": [],
   "source": [
    "chnk_tfm = Chunkifize()\n",
    "chnks = chnk_tfm(torch.arange(10))\n",
    "test_eq(type(chnks), list)\n",
    "test_eq(chnks, [tensor([0, 1, 2, 3]), tensor([4, 5, 6, 7]), tensor([8, 9])])\n",
    "# test_fail(lambda: chnk_tfm.decode(chnks), tensor([0, 1, 2, 3, 4, 5, 6, 7, 8, 9]))\n",
    "test_eq(chnk_tfm.decode(chnks), tensor([0, 1, 2, 3, 4, 5, 6, 7, 8, 9]))"
   ]
  },
  {
   "cell_type": "code",
   "execution_count": null,
   "id": "a0da9195-6129-4436-af9a-6a4753fde730",
   "metadata": {},
   "outputs": [],
   "source": [
    "# y_tfms = [ColReader('labels', label_delim=';'), MultiCategorize(), OneHotEncode(), Chunkifize()]\n",
    "# tfmd_y = TfmdLists(df, tfms=y_tfms)\n",
    "# tfmd_y.decode(tfmd_y[0])"
   ]
  },
  {
   "cell_type": "code",
   "execution_count": null,
   "id": "1c1cd613-5eef-4b6c-a154-957dfa4e2614",
   "metadata": {},
   "outputs": [],
   "source": [
    "x_tfms = [Tokenizer.from_df('text', n_workers=num_cpus()), attrgetter(\"text\"), Numericalize(), OneHotEncode()]\n",
    "y_tfms = [ColReader('labels', label_delim=';'), MultiCategorize(), OneHotEncode()]\n",
    "tfms = [x_tfms, y_tfms]"
   ]
  },
  {
   "cell_type": "code",
   "execution_count": null,
   "id": "d5eb21a5-ac7d-4099-b1ac-26401e5c179e",
   "metadata": {},
   "outputs": [
    {
     "data": {
      "text/html": [
       "\n",
       "<style>\n",
       "    /* Turns off some styling */\n",
       "    progress {\n",
       "        /* gets rid of default border in Firefox and Opera. */\n",
       "        border: none;\n",
       "        /* Needs to be in here for Safari polyfill so background images work as expected. */\n",
       "        background-size: auto;\n",
       "    }\n",
       "    progress:not([value]), progress:not([value])::-webkit-progress-bar {\n",
       "        background: repeating-linear-gradient(45deg, #7e7e7e, #7e7e7e 10px, #5c5c5c 10px, #5c5c5c 20px);\n",
       "    }\n",
       "    .progress-bar-interrupted, .progress-bar-interrupted::-webkit-progress-bar {\n",
       "        background: #F44336;\n",
       "    }\n",
       "</style>\n"
      ],
      "text/plain": [
       "<IPython.core.display.HTML object>"
      ]
     },
     "metadata": {},
     "output_type": "display_data"
    },
    {
     "data": {
      "text/html": [],
      "text/plain": [
       "<IPython.core.display.HTML object>"
      ]
     },
     "metadata": {},
     "output_type": "display_data"
    }
   ],
   "source": [
    "dsets = Datasets(df, tfms=[x_tfms, y_tfms])"
   ]
  },
  {
   "cell_type": "code",
   "execution_count": null,
   "id": "90ed45ad-f716-43e7-97b2-a89eae44f94a",
   "metadata": {},
   "outputs": [
    {
     "data": {
      "text/html": [
       "\n",
       "<style>\n",
       "    /* Turns off some styling */\n",
       "    progress {\n",
       "        /* gets rid of default border in Firefox and Opera. */\n",
       "        border: none;\n",
       "        /* Needs to be in here for Safari polyfill so background images work as expected. */\n",
       "        background-size: auto;\n",
       "    }\n",
       "    progress:not([value]), progress:not([value])::-webkit-progress-bar {\n",
       "        background: repeating-linear-gradient(45deg, #7e7e7e, #7e7e7e 10px, #5c5c5c 10px, #5c5c5c 20px);\n",
       "    }\n",
       "    .progress-bar-interrupted, .progress-bar-interrupted::-webkit-progress-bar {\n",
       "        background: #F44336;\n",
       "    }\n",
       "</style>\n"
      ],
      "text/plain": [
       "<IPython.core.display.HTML object>"
      ]
     },
     "metadata": {},
     "output_type": "display_data"
    },
    {
     "data": {
      "text/html": [],
      "text/plain": [
       "<IPython.core.display.HTML object>"
      ]
     },
     "metadata": {},
     "output_type": "display_data"
    }
   ],
   "source": [
    "dsets = onehot_dsets(df)"
   ]
  },
  {
   "cell_type": "code",
   "execution_count": null,
   "id": "25630387-15fc-418f-8df2-2cb2f8b2612b",
   "metadata": {},
   "outputs": [],
   "source": [
    "torch.save(dsets, 'dsets.pkl')"
   ]
  },
  {
   "cell_type": "code",
   "execution_count": null,
   "id": "4a0151a0-c200-4513-bc14-914bc14b469a",
   "metadata": {},
   "outputs": [],
   "source": [
    "dsets = torch.load('dsets.pkl')"
   ]
  },
  {
   "cell_type": "code",
   "execution_count": null,
   "id": "1359e690-7ebd-4777-bc1c-7b6eed8f8ec5",
   "metadata": {},
   "outputs": [
    {
     "data": {
      "text/plain": [
       "((#57352) ['xxunk','xxpad','xxbos','xxeos','xxfld','xxrep','xxwrep','xxup','xxmaj','the'...],\n",
       " (#8922) ['003.0','003.1','003.8','003.9','004.1','004.8','004.9','005.1','005.81','005.9'...],\n",
       " 511694544)"
      ]
     },
     "execution_count": null,
     "metadata": {},
     "output_type": "execute_result"
    }
   ],
   "source": [
    "toks, lbs = dsets.vocab\n",
    "L(toks), L(lbs), len(toks)*len(lbs)"
   ]
  },
  {
   "cell_type": "code",
   "execution_count": null,
   "id": "ddaf5ce4-3cd0-4aca-bef8-d36852078847",
   "metadata": {},
   "outputs": [],
   "source": [
    "x, y = dsets[0]"
   ]
  },
  {
   "cell_type": "code",
   "execution_count": null,
   "id": "b0c9f50d-32c1-400c-bbfc-268f9246cc8e",
   "metadata": {},
   "outputs": [
    {
     "data": {
      "text/plain": [
       "'xxbos and to of was with a on in for no patient is name she discharge or as last history her right by admission date pain hospital first has ct medications hospital1 o well also given course after known service any medical past instructions exam md physical family allergies transferred condition then number procedure surgery surgical head chronic further w hypertension diagnosis non birth lf found social received sex bilateral followup name3 namepattern4 disposition lung back revealed severe attending complaint mm major invasive brief coumadin f chief significant multiple since intubated none completed medication down having made cancer name11 both scan very pattern1 drugs poor arrival requiring slightly recorded nc pupils unknown expired reactive knee eye considered le sedated withdrawal involving min toes shows bilat eval fell shortly stairs cane osteoarthritis ambulation prognosis cmo ue fixed recovered pupil metastasis flexion opening rt triple lobectomy extends corneal upgoing lt dependence stim drowsy joints posturing iph tonight unconscious paralytic 60f cured paramedic'"
      ]
     },
     "execution_count": null,
     "metadata": {},
     "output_type": "execute_result"
    }
   ],
   "source": [
    "' '.join(L(toks)[torch.where(x==1)[0]])"
   ]
  },
  {
   "cell_type": "code",
   "execution_count": null,
   "id": "398d476b-0890-4549-93eb-b6ccf0af4958",
   "metadata": {},
   "outputs": [
    {
     "data": {
      "text/plain": [
       "(#15) ['348.4','401.9','414.01','427.31','707.00','707.24','801.35','805.06','807.01','96.71'...]"
      ]
     },
     "execution_count": null,
     "metadata": {},
     "output_type": "execute_result"
    }
   ],
   "source": [
    "lbs.map_ids(torch.where(y==1)[0])"
   ]
  },
  {
   "cell_type": "code",
   "execution_count": null,
   "id": "53e7f27f-8c36-431e-8221-9d38536261f0",
   "metadata": {},
   "outputs": [],
   "source": [
    "class BatchLbsChunkify(ItemTransform):\n",
    "    order = 100\n",
    "    def __init__(self, chnk_st, chnk_end): store_attr('chnk_st,chnk_end')\n",
    "    def encodes(self, x): \n",
    "        return (x[0], x[1][:, self.chnk_st:self.chnk_end])"
   ]
  },
  {
   "cell_type": "code",
   "execution_count": null,
   "id": "9ab64988-104a-4f62-9f67-194eab7e05c5",
   "metadata": {},
   "outputs": [],
   "source": [
    "dls = lbs_chunked(dsets, chnk_sz=len(lbs))"
   ]
  },
  {
   "cell_type": "code",
   "execution_count": null,
   "id": "c8f97e6f-eb75-467f-97f9-77b0e6e9875a",
   "metadata": {},
   "outputs": [
    {
     "data": {
      "text/plain": [
       "1"
      ]
     },
     "execution_count": null,
     "metadata": {},
     "output_type": "execute_result"
    }
   ],
   "source": [
    "len(dls)"
   ]
  },
  {
   "cell_type": "code",
   "execution_count": null,
   "id": "0c27d980-27b1-4da9-bb97-c96853c4c04d",
   "metadata": {},
   "outputs": [
    {
     "data": {
      "text/plain": [
       "(6590, 6590)"
      ]
     },
     "execution_count": null,
     "metadata": {},
     "output_type": "execute_result"
    }
   ],
   "source": [
    "bs = 8\n",
    "len(dls[0]), len(dsets)//bs"
   ]
  },
  {
   "cell_type": "code",
   "execution_count": null,
   "id": "4ebe423c-fdb2-4dde-ba75-b421aa4a1137",
   "metadata": {},
   "outputs": [
    {
     "name": "stdout",
     "output_type": "stream",
     "text": [
      "x.shape = torch.Size([8, 57352]), y.shape =torch.Size([8, 8922])\n",
      "x.shape = torch.Size([8, 57352]), y.shape =torch.Size([8, 8922])\n",
      "x.shape = torch.Size([8, 57352]), y.shape =torch.Size([8, 8922])\n",
      "x.shape = torch.Size([8, 57352]), y.shape =torch.Size([8, 8922])\n",
      "x.shape = torch.Size([8, 57352]), y.shape =torch.Size([8, 8922])\n"
     ]
    }
   ],
   "source": [
    "for x, y in itertools.islice(dls[0], 5):\n",
    "    print(f'{x.shape = }, {y.shape =}' )"
   ]
  },
  {
   "cell_type": "code",
   "execution_count": null,
   "id": "6824531b-e1eb-4236-92a6-379512ede829",
   "metadata": {},
   "outputs": [],
   "source": [
    "dls = lbs_chunked(dsets)"
   ]
  },
  {
   "cell_type": "code",
   "execution_count": null,
   "id": "b77efa79-0312-4175-b50c-387588003ee3",
   "metadata": {},
   "outputs": [],
   "source": [
    "assert isinstance(dls[0], TfmdDL)\n",
    "test_eq(len(dls),  np.ceil(len(lbs)/200))\n",
    "test_eq(len(dls[0]), len(dsets)//bs)"
   ]
  },
  {
   "cell_type": "code",
   "execution_count": null,
   "id": "cec19193-36c6-4921-8943-14d984018c58",
   "metadata": {},
   "outputs": [
    {
     "name": "stdout",
     "output_type": "stream",
     "text": [
      "x.shape = torch.Size([8, 57352]), y.shape =torch.Size([8, 200])\n",
      "x.shape = torch.Size([8, 57352]), y.shape =torch.Size([8, 200])\n",
      "x.shape = torch.Size([8, 57352]), y.shape =torch.Size([8, 200])\n",
      "x.shape = torch.Size([8, 57352]), y.shape =torch.Size([8, 200])\n",
      "x.shape = torch.Size([8, 57352]), y.shape =torch.Size([8, 200])\n"
     ]
    }
   ],
   "source": [
    "for x, y in itertools.islice(dls[0], 5):\n",
    "    print(f'{x.shape = }, {y.shape =}' )"
   ]
  },
  {
   "cell_type": "code",
   "execution_count": null,
   "id": "850a7845-316b-45fd-b58a-c6025a3c2059",
   "metadata": {},
   "outputs": [
    {
     "data": {
      "text/plain": [
       "45"
      ]
     },
     "execution_count": null,
     "metadata": {},
     "output_type": "execute_result"
    }
   ],
   "source": [
    "bs, chnk_sz = 8, 200\n",
    "dls = []\n",
    "for chnk_st in range(0, len(lbs), chnk_sz):\n",
    "    dls.append(TfmdDL(dsets, bs=bs, after_batch=[BatchLbsChunkify(chnk_st, min(chnk_st+chnk_sz, len(lbs)))], device=default_device()))\n",
    "len(dls)"
   ]
  },
  {
   "cell_type": "code",
   "execution_count": null,
   "id": "e09b117b-ece1-4cb0-bcf9-0cfa8d943848",
   "metadata": {},
   "outputs": [],
   "source": [
    "# x, y = dsets[0]"
   ]
  },
  {
   "cell_type": "code",
   "execution_count": null,
   "id": "1ae2bdda-97cf-48fe-9fa6-a554a53605c1",
   "metadata": {},
   "outputs": [],
   "source": [
    "# test_eq(tensor(dsets.tfms[1][2].decode(y)), torch.where(y==1)[0])"
   ]
  },
  {
   "cell_type": "code",
   "execution_count": null,
   "id": "0ed0ba3a-4369-404e-9ede-386ce02934c2",
   "metadata": {},
   "outputs": [],
   "source": [
    "# test_eq(tensor(dsets.tfms[0][-1].decode(x)), torch.where(x==1)[0])"
   ]
  },
  {
   "cell_type": "markdown",
   "id": "80b73953-378e-475b-abba-d4d15c10fb26",
   "metadata": {},
   "source": [
    "**[Mutual Information](https://en.wikipedia.org/wiki/Mutual_information#)**"
   ]
  },
  {
   "cell_type": "markdown",
   "id": "c8735be8-9113-4607-84fb-7af1df07e7f1",
   "metadata": {},
   "source": [
    "<img alt=\"Pictorial representation of simple neural network\" width=\"400\" src=\"info-gain.svg\" caption=\"Pictorial representation of a simple neural network\" id=\"img_simple_nn\">"
   ]
  },
  {
   "cell_type": "code",
   "execution_count": null,
   "id": "5b28734f-5842-4286-81b5-59912f5e6861",
   "metadata": {},
   "outputs": [],
   "source": [
    "def mutual_info_gain(dl):\n",
    "    \"\"\"\n",
    "    Computes [mutual information gain](https://en.wikipedia.org/wiki/Mutual_information) for each token label pair\n",
    "    `dl` is (bag-of-words text, one-hot encoded targets)\n",
    "    \"\"\"\n",
    "    xb, yb = dl.one_batch() \n",
    "    toksize, lblsize = xb.size(1), yb.size(1)\n",
    "    p_TL = torch.zeros(toksize, lblsize, 4, dtype=torch.float, device=default_device())\n",
    "    eps = p_TL.new_empty(1).fill_(1e-8)\n",
    "    for x,y in dl:\n",
    "        test_eq(x.shape, (dl.bs, toksize)); test_eq(y.shape, (dl.bs, lblsize))\n",
    "        t = x.unsqueeze(-1).expand(-1, -1, lblsize) ; test_eq(t.shape, (dl.bs, toksize, lblsize))\n",
    "        l = y.unsqueeze(1).expand(-1, toksize, -1) ; test_eq(l.shape, (dl.bs, toksize, lblsize))\n",
    "        tl = torch.stack((t,l), dim=-1) ; test_eq(tl.shape, (dl.bs, toksize, lblsize, 2)) \n",
    "        p_TL_tt = tl[...,0].logical_and(tl[...,1]) ; test_eq(p_TL_tt.shape, (dl.bs, toksize, lblsize)) \n",
    "        p_TL_tf = tl[...,0].logical_and(tl[...,1].logical_not()) ; test_eq(p_TL_tf.shape, (dl.bs, toksize, lblsize)) \n",
    "        p_TL_ft = tl[...,0].logical_not().logical_and(tl[...,1]) ; test_eq(p_TL_ft.shape, (dl.bs, toksize, lblsize))\n",
    "        p_TL_ff = tl[...,0].logical_not().logical_and(tl[...,1].logical_not()) ; test_eq(p_TL_ff.shape, (dl.bs, toksize, lblsize)) \n",
    "        p_TL = p_TL + torch.stack((p_TL_tt, p_TL_tf, p_TL_ft, p_TL_ff), dim=-1).float().sum(dim=0)\n",
    "    p_TL = p_TL / tensor(len(dsets)).float()\n",
    "    p_TL = p_TL.view(toksize, lblsize, 2, 2) ; test_eq(p_TL.shape, (toksize, lblsize, 2, 2))# last axis: lbl axis, 2nd last axis: token axis\n",
    "    return p_TL"
   ]
  },
  {
   "cell_type": "code",
   "execution_count": null,
   "id": "f598f952-736d-479e-8f52-ed1798a7a66c",
   "metadata": {},
   "outputs": [
    {
     "data": {
      "text/html": [
       "\n",
       "<style>\n",
       "    /* Turns off some styling */\n",
       "    progress {\n",
       "        /* gets rid of default border in Firefox and Opera. */\n",
       "        border: none;\n",
       "        /* Needs to be in here for Safari polyfill so background images work as expected. */\n",
       "        background-size: auto;\n",
       "    }\n",
       "    .progress-bar-interrupted, .progress-bar-interrupted::-webkit-progress-bar {\n",
       "        background: #F44336;\n",
       "    }\n",
       "</style>\n"
      ],
      "text/plain": [
       "<IPython.core.display.HTML object>"
      ]
     },
     "metadata": {},
     "output_type": "display_data"
    },
    {
     "data": {
      "text/html": [
       "\n",
       "    <div>\n",
       "      <progress value='45' class='' max='45' style='width:300px; height:20px; vertical-align: middle;'></progress>\n",
       "      100.00% [45/45 3:13:47<00:00]\n",
       "    </div>\n",
       "    "
      ],
      "text/plain": [
       "<IPython.core.display.HTML object>"
      ]
     },
     "metadata": {},
     "output_type": "display_data"
    },
    {
     "name": "stdout",
     "output_type": "stream",
     "text": [
      "CPU times: user 3h 10min 23s, sys: 3min 22s, total: 3h 13min 46s\n",
      "Wall time: 3h 13min 58s\n"
     ]
    }
   ],
   "source": [
    "%%time\n",
    "p_TL_full = [] \n",
    "for dl in progress_bar(dls):\n",
    "    p_TL = mutual_info_gain(dl)\n",
    "    p_TL_full.append(p_TL)\n",
    "    del p_TL; del p_T; del p_L; del p_TxL; del I_TL; torch.cuda.empty_cache()\n",
    "p_TL_full = torch.cat(p_TL_full, dim=1); test_eq(p_TL_full.shape, (len(toks), len(lbs), 2, 2))\n",
    "# torch.save(p_TL_full, 'p_TL.pkl')"
   ]
  },
  {
   "cell_type": "code",
   "execution_count": null,
   "id": "1b0a6895-f34d-455a-b722-1ea9afe85871",
   "metadata": {},
   "outputs": [],
   "source": [
    "def _compute(p_TL):\n",
    "    eps = p_TL.new_empty(1).fill_(1e-15)\n",
    "    toksize, lblsize = p_TL.size(0), p_TL.size(1)\n",
    "    p_T = p_TL[:,0].sum(-1, keepdim=True); test_eq(p_T.shape, (toksize, 2, 1))# 0 because we can pick any label and apply total prob law\n",
    "    p_L = p_TL[0,:].sum(-2, keepdim=True); test_eq(p_L.shape, (lblsize, 1, 2)) # 0 becuase we can pick any token and apply total prob law\n",
    "    p_TxL = p_TL.sum(-1, keepdim=True) @ p_TL.sum(-2, keepdim=True); test_eq(p_TxL.shape, (toksize, lblsize, 2, 2))\n",
    "    H_T = -(p_T * torch.log(p_T+eps)).sum(-2).squeeze(); test_eq(H_T.shape, [toksize])\n",
    "    H_L = -(p_L * torch.log(p_L+eps)).sum(-1).squeeze(); test_eq(H_L.shape, [lblsize])\n",
    "    I_TL = (p_TL * torch.log((p_TL + eps)/(p_TxL + eps))).flatten(start_dim=-2).sum(-1); test_eq(I_TL.shape, (toksize, lblsize))\n",
    "    return p_T, p_L, p_TxL, H_T, H_L, I_TL"
   ]
  },
  {
   "cell_type": "code",
   "execution_count": null,
   "id": "a206750a-b41f-4f70-a5ad-5f74f2a62f22",
   "metadata": {},
   "outputs": [
    {
     "name": "stdout",
     "output_type": "stream",
     "text": [
      "CPU times: user 12.5 s, sys: 11.5 s, total: 24 s\n",
      "Wall time: 30 s\n"
     ]
    }
   ],
   "source": [
    "%%time\n",
    "p_TL = torch.load('p_TL.pkl')\n",
    "p_T, p_L, p_TxL, H_T, H_L, I_TL = _compute(p_TL)\n",
    "torch.save((p_T, p_L, p_TxL, H_T, H_L, I_TL), 'info.pkl')"
   ]
  },
  {
   "cell_type": "code",
   "execution_count": null,
   "id": "056e855d-f01c-4fbe-b718-1ba45d4e8ea7",
   "metadata": {},
   "outputs": [
    {
     "name": "stdout",
     "output_type": "stream",
     "text": [
      "CPU times: user 8.61 s, sys: 3.62 s, total: 12.2 s\n",
      "Wall time: 13.3 s\n"
     ]
    }
   ],
   "source": [
    "%%time \n",
    "p_TL = torch.load('p_TL.pkl')\n",
    "p_T, p_L, p_TxL, H_T, H_L, I_TL = torch.load('info.pkl')"
   ]
  },
  {
   "cell_type": "markdown",
   "id": "96cde5c5-02c5-47dd-a448-ba9812a5c853",
   "metadata": {},
   "source": [
    "Make sure that aren't any of those pesky nans or negs:"
   ]
  },
  {
   "cell_type": "code",
   "execution_count": null,
   "id": "e99ac023-b993-4573-8ff5-f3a87e1c0280",
   "metadata": {},
   "outputs": [
    {
     "name": "stdout",
     "output_type": "stream",
     "text": [
      "I_TL failed\n"
     ]
    }
   ],
   "source": [
    "for o in (p_TL, p_T, p_L, p_TxL, H_T, H_L, I_TL):\n",
    "    try:\n",
    "        assert not o.isnan().all() # check for nans\n",
    "        test_eq(torch.where(o>=0, True, False).all(), True) # check for negs\n",
    "    except AssertionError:\n",
    "        print(f\"{namestr(o, globals())[0]} failed\")"
   ]
  },
  {
   "cell_type": "markdown",
   "id": "3faae0b4-2d60-4a2c-af35-66e4ca37703e",
   "metadata": {},
   "source": [
    "Theoretically, Mutual-Info as defined [here](https://en.wikipedia.org/wiki/Mutual_information) is suposed to be non-negative (can be proved by tossing in [Jensen](https://en.wikipedia.org/wiki/Jensen%27s_inequality)). But, practically, it turns out `I_TL` has some negs because we distorted the `p_TL` and `p_TxL`  with `eps` in the `I_TL` computation."
   ]
  },
  {
   "cell_type": "code",
   "execution_count": null,
   "id": "6271f2b0-0af6-4a0c-808f-350195940361",
   "metadata": {},
   "outputs": [
    {
     "data": {
      "text/plain": [
       "torch.return_types.topk(\n",
       "values=TensorMultiCategory([-1.9016e-07, -1.8314e-07, -1.8314e-07, -1.7385e-07, -1.7277e-07, -1.7277e-07, -1.6798e-07, -1.6798e-07, -1.6798e-07, -1.6767e-07], device='cuda:0'),\n",
       "indices=TensorMultiCategory([22423614,  2731838,  2735913,  1911099,  6389159,  6393113,  6693073,  6695018,  6695355, 32253137], device='cuda:0'))"
      ]
     },
     "execution_count": null,
     "metadata": {},
     "output_type": "execute_result"
    }
   ],
   "source": [
    "torch.topk(I_TL.flatten(), 10, largest=False)"
   ]
  },
  {
   "cell_type": "code",
   "execution_count": null,
   "id": "57cf9476-4bc1-40f4-9ff2-d32f86226833",
   "metadata": {},
   "outputs": [
    {
     "data": {
      "text/plain": [
       "TensorMultiCategory(-3.9054e-08, device='cuda:0')"
      ]
     },
     "execution_count": null,
     "metadata": {},
     "output_type": "execute_result"
    }
   ],
   "source": [
    "howmany = torch.where(I_TL < 0, True, False).sum().item()\n",
    "negs = torch.where(I_TL < 0, I_TL, I_TL.new_zeros(I_TL.shape))\n",
    "negs.sum()/howmany"
   ]
  },
  {
   "cell_type": "markdown",
   "id": "e1afd7d6-f0ff-4ac8-95c1-68516baa44fe",
   "metadata": {},
   "source": [
    "Those negs on an avg are pretty close to zero. So we need not worry. Let's roll!"
   ]
  },
  {
   "cell_type": "code",
   "execution_count": null,
   "id": "9eed0a1a-c281-47c7-a3d4-0c59fac95182",
   "metadata": {},
   "outputs": [],
   "source": [
    "test_eq(p_TL.shape, (len(toks), len(lbs), 2, 2))\n",
    "test_eq(p_T.shape, (len(toks), 2, 1))\n",
    "test_eq(p_L.shape, (len(lbs), 1, 2))\n",
    "test_eq(p_TxL.shape, (len(toks), len(lbs), 2, 2))\n",
    "test_eq(H_T.shape, [len(toks)])\n",
    "test_eq(H_L.shape, [len(lbs)])\n",
    "test_eq(I_TL.shape, (len(toks), len(lbs)))"
   ]
  },
  {
   "cell_type": "code",
   "execution_count": null,
   "id": "cb08c0e9-8f9d-4341-ba93-e525751a9ad6",
   "metadata": {},
   "outputs": [],
   "source": [
    "# r_t, r_l = random.randrange(0, len(toks)), random.randrange(0, len(lbs))\n",
    "# toks[r_t], lbs[r_l]"
   ]
  },
  {
   "cell_type": "code",
   "execution_count": null,
   "id": "f084cfa4-42ac-40bd-a7a7-192593756de1",
   "metadata": {},
   "outputs": [],
   "source": [
    "# test_close(p_TL[r_t,r_l].sum(), 1, eps=1e-1)\n",
    "# test_eq(p_T[r_t].sum(), 1)\n",
    "# test_eq(p_L[r_l].sum(), 1)"
   ]
  },
  {
   "cell_type": "code",
   "execution_count": null,
   "id": "a56ec5da-c02d-40e3-a8cb-1ba44047c3dd",
   "metadata": {},
   "outputs": [],
   "source": [
    "# p_TL[r_t,r_l].sum(-1), p_TL[r_t, 400].sum(-1) "
   ]
  },
  {
   "cell_type": "code",
   "execution_count": null,
   "id": "684d3f32-acf5-4a0f-a84a-7950b9aee280",
   "metadata": {},
   "outputs": [],
   "source": [
    "# p_T[r_t], p_L[r_l]\n",
    "# I_TL[r_t,r_l]"
   ]
  },
  {
   "cell_type": "markdown",
   "id": "976b382a-27c2-4346-af81-3686994e0143",
   "metadata": {},
   "source": [
    "Let's save the `info`, we will use this bootstrap the collab model:"
   ]
  },
  {
   "cell_type": "code",
   "execution_count": null,
   "id": "05429dda-8ebd-441b-a69d-46ec898cfc5d",
   "metadata": {},
   "outputs": [],
   "source": [
    "eps = I_TL.new_empty(1).fill_(1e-15)\n",
    "info_lbl_entropy = I_TL/(H_L + eps)\n",
    "info_jaccard = I_TL/(H_T.unsqueeze(-1) + H_L.unsqueeze(0) - I_TL + eps)\n",
    "assert not info_lbl_entropy.isnan().all(); assert not info_jaccard.isnan().all()\n",
    "collab_bootstrap = {'toks': toks, 'lbs': lbs, 'mut_info_lbl_entropy': info_lbl_entropy, 'mutual_info_jaccard': info_jaccard}"
   ]
  },
  {
   "cell_type": "code",
   "execution_count": null,
   "id": "60e56290-ba80-4240-a5ef-3bcdcb39644d",
   "metadata": {},
   "outputs": [],
   "source": [
    "torch.save(collab_bootstrap, collab_bootst_path)\n",
    "assert collab_bootst_path.exists()"
   ]
  },
  {
   "cell_type": "markdown",
   "id": "5816a639-8592-4cb8-b1fe-5e08752082c4",
   "metadata": {},
   "source": [
    "#### Save those Mutual Information Gain values"
   ]
  },
  {
   "cell_type": "markdown",
   "id": "db898c6f-2338-4141-b7d4-3b634f7a85a1",
   "metadata": {},
   "source": [
    "Let's take a look at the *Mutual Information Gain* (`I_TL`) for each of the labels:"
   ]
  },
  {
   "cell_type": "code",
   "execution_count": null,
   "id": "e5c340cb-2dcc-4087-a289-485486e33344",
   "metadata": {},
   "outputs": [],
   "source": [
    "f = ColReader('labels', label_delim=';')\n",
    "lbs_frqs = Counter()\n",
    "for o in df.itertuples(): lbs_frqs.update(f(o))\n",
    "with open(path.parent/'data'/'code_desc.pkl', 'rb') as f: lbs_desc = pickle.load(f)"
   ]
  },
  {
   "cell_type": "code",
   "execution_count": null,
   "id": "ee477c75-dc14-495e-a429-4bcd88265c99",
   "metadata": {},
   "outputs": [],
   "source": [
    "def _gen(toks, lbs, lbs_frqs, lbs_desc, p_TL, p_T, p_L, info, H_T, H_L, k=5):\n",
    "    sorted_by_tok, tok_idxs = torch.sort(info, dim=0, descending=True) \n",
    "    for i,o in enumerate(lbs):\n",
    "        topk_tok_idxs = tok_idxs[:k, i].cpu()\n",
    "        topk_toks = toks[topk_tok_idxs]\n",
    "        topk_toks_probs = p_T.squeeze()[:,0][topk_tok_idxs].cpu().numpy()\n",
    "        topk_info_gains = sorted_by_tok[:k, i].cpu().numpy()\n",
    "        topk_jnt_probs = p_TL[topk_tok_idxs, [i]][:,0,0].cpu().numpy()\n",
    "        lbl_entropy = H_L[i].cpu().numpy()\n",
    "        topk_tok_entrops = H_T[topk_tok_idxs].cpu().numpy()\n",
    "        yield (o, lbs_frqs[o], p_L[i][0,0].cpu().numpy(), lbl_entropy, lbs_desc.get(o, 'Not Found'), \n",
    "               array(list(zip(topk_toks, topk_toks_probs, topk_tok_entrops, topk_jnt_probs, topk_info_gains))))"
   ]
  },
  {
   "cell_type": "code",
   "execution_count": null,
   "id": "f318809c-f3dd-4189-834b-f2d3cb32cb97",
   "metadata": {},
   "outputs": [],
   "source": [
    "def show_infogain(data, save_as=None):\n",
    "    df = pd.DataFrame(data, columns=['label', 'freq', 'prob', 'entropy', 'description', 'top-k (token, prob, entropy, joint, info)'],)\n",
    "    df[['prob', 'entropy',]] = df[['prob', 'entropy']].astype(np.float)\n",
    "    df[['top-k (token, prob, entropy, joint, info)']] = df[['top-k (token, prob, entropy, joint, info)']].astype(np.str_) \n",
    "    if save_as is not None: df.to_feather(save_as)"
   ]
  },
  {
   "cell_type": "code",
   "execution_count": null,
   "id": "77d69602-796f-4645-a527-3b0901f8ac16",
   "metadata": {},
   "outputs": [
    {
     "name": "stdout",
     "output_type": "stream",
     "text": [
      "CPU times: user 14.5 s, sys: 593 ms, total: 15.1 s\n",
      "Wall time: 17.3 s\n"
     ]
    }
   ],
   "source": [
    "%%time\n",
    "eps = I_TL.new_empty(1).fill_(1e-15)\n",
    "# info = I_TL/H_L\n",
    "info = I_TL/(H_T.unsqueeze(-1) + H_L.unsqueeze(0) - I_TL + eps)\n",
    "_data = _gen(array(toks), lbs, lbs_frqs, lbs_desc, p_TL, p_T, p_L, info, H_T, H_L, k=10)\n",
    "show_infogain(_data, save_as='mut_info_jaccard.ft')"
   ]
  },
  {
   "cell_type": "markdown",
   "id": "87e629ea-7672-44ac-b875-7c5b663740d6",
   "metadata": {},
   "source": [
    "#### Let's look at those Mutual-Information Gain values:"
   ]
  },
  {
   "cell_type": "code",
   "execution_count": null,
   "id": "71d02274-5eb9-4650-8fb9-444d6aa616b4",
   "metadata": {},
   "outputs": [],
   "source": [
    "df_jc = pd.read_feather('mut_info_jaccard.ft')\n",
    "df_le = pd.read_feather('mut_info_lbl_entropy.ft')"
   ]
  },
  {
   "cell_type": "code",
   "execution_count": null,
   "id": "e90c7ea5-a2e6-4dfe-b92f-60231ccf2468",
   "metadata": {},
   "outputs": [],
   "source": [
    "# df_lbs.sort_values(by='freq', ascending=False).head(20)"
   ]
  },
  {
   "cell_type": "code",
   "execution_count": null,
   "id": "5ed83f23-789e-480e-81b5-545e8e3cbd54",
   "metadata": {},
   "outputs": [],
   "source": [
    "pd.options.display.max_colwidth = None\n",
    "df_jc[df_jc.label == '032.9']"
   ]
  },
  {
   "cell_type": "code",
   "execution_count": null,
   "id": "d99678fb-4db4-407f-becc-efbb43e38dcc",
   "metadata": {},
   "outputs": [
    {
     "data": {
      "text/plain": [
       "(822, 822)"
      ]
     },
     "execution_count": null,
     "metadata": {},
     "output_type": "execute_result"
    }
   ],
   "source": [
    "mask = (df_le.freq>50) & (df_le.freq<150)\n",
    "# with pd.option_context('display.max_colwidth', 100):\n",
    "# pd.reset_option('all')\n",
    "_df_jc = df_jc[mask].reset_index(drop=True)\n",
    "_df_le = df_le[mask].reset_index(drop=True)\n",
    "len(_df_jc), len(_df_le)"
   ]
  },
  {
   "cell_type": "code",
   "execution_count": null,
   "id": "d4cb31ac-fddd-4624-b9fd-dd273ceccb1a",
   "metadata": {},
   "outputs": [],
   "source": [
    "pd.set_option('display.max_colwidth', None)"
   ]
  },
  {
   "cell_type": "code",
   "execution_count": null,
   "id": "911f7513-1a69-446e-84d5-f9ec68eb7006",
   "metadata": {},
   "outputs": [
    {
     "data": {
      "text/html": [
       "<div>\n",
       "<style scoped>\n",
       "    .dataframe tbody tr th:only-of-type {\n",
       "        vertical-align: middle;\n",
       "    }\n",
       "\n",
       "    .dataframe tbody tr th {\n",
       "        vertical-align: top;\n",
       "    }\n",
       "\n",
       "    .dataframe thead th {\n",
       "        text-align: right;\n",
       "    }\n",
       "</style>\n",
       "<table border=\"1\" class=\"dataframe\">\n",
       "  <thead>\n",
       "    <tr style=\"text-align: right;\">\n",
       "      <th></th>\n",
       "      <th>label</th>\n",
       "      <th>freq</th>\n",
       "      <th>prob</th>\n",
       "      <th>entropy</th>\n",
       "      <th>description</th>\n",
       "      <th>top-k (token, prob, entropy, joint, info)</th>\n",
       "    </tr>\n",
       "  </thead>\n",
       "  <tbody>\n",
       "    <tr>\n",
       "      <th>0</th>\n",
       "      <td>008.8</td>\n",
       "      <td>132</td>\n",
       "      <td>0.002504</td>\n",
       "      <td>0.017498</td>\n",
       "      <td>Intestinal infection due to other organism, not elsewhere classified</td>\n",
       "      <td>[['gastroenteritis' '0.008327011' '0.048164062' '0.0018778453' '0.135108']\\n ['gasteroenteritis' '0.000113808805' '0.0011472754' '7.587254e-05' '0.020989483']\\n ['viral' '0.06646434' '0.24439576' '0.002124431' '0.018479552']\\n ['norovirus' '0.0006259484' '0.0052429195' '0.000113808805' '0.017389983']\\n ['watery' '0.013770865' '0.07268653' '0.00056904403' '0.01273447']\\n ['monobasic' '5.6904402e-05' '0.00061311224' '3.793627e-05' '0.010679064']\\n ['profuse' '0.006866465' '0.041045412' '0.00026555388' '0.008544236']\\n ['gestures' '0.0008345979' '0.0067503336' '7.587254e-05' '0.00845181']\\n ['virally' '0.000113808805' '0.0011472754' '3.793627e-05' '0.008393114']\\n ['ksb' '0.000113808805' '0.0011472754' '3.793627e-05' '0.008393114']]</td>\n",
       "    </tr>\n",
       "    <tr>\n",
       "      <th>1</th>\n",
       "      <td>038.12</td>\n",
       "      <td>116</td>\n",
       "      <td>0.002200</td>\n",
       "      <td>0.015662</td>\n",
       "      <td>Not Found</td>\n",
       "      <td>[['carbacephems' '0.0061836117' '0.037613403' '0.0006638847' '0.040515352']\\n ['carbapenems' '0.0064491658' '0.038956657' '0.0006638847' '0.03890332']\\n ['staphylococci' '0.0067336876' '0.04038363' '0.0006828528' '0.038864423']\\n ['combinations' '0.006904401' '0.041234046' '0.0006638847' '0.036400057']\\n ['consultations' '0.0042109257' '0.027236082' '0.00041729896' '0.029816346']\\n ['rifampin' '0.013694993' '0.072362244' '0.00092943857' '0.029683795']\\n ['lactamase' '0.010944613' '0.060298413' '0.0006638847' '0.022703482']\\n ['protochol' '0.001972686' '0.014257325' '0.00018968133' '0.018664824']\\n ['dysthesia' '9.484067e-05' '0.0009733652' '5.6904402e-05' '0.017445711']\\n ['fungi' '0.0027883158' '0.019186173' '0.00020864948' '0.016050713']]</td>\n",
       "    </tr>\n",
       "    <tr>\n",
       "      <th>2</th>\n",
       "      <td>038.19</td>\n",
       "      <td>148</td>\n",
       "      <td>0.002807</td>\n",
       "      <td>0.019298</td>\n",
       "      <td>Other staphylococcal septicemia</td>\n",
       "      <td>[['epidermidis' '0.0024279212' '0.01704282' '0.00024658575' '0.0187256']\\n ['coagulase' '0.02348255' '0.111299396' '0.0011001518' '0.018020378']\\n ['coag' '0.04516313' '0.18401921' '0.0015174507' '0.014196403']\\n ['staph' '0.06320182' '0.23568806' '0.0018778453' '0.013870501']\\n ['staphylococcus' '0.041388467' '0.17233191' '0.0011191199' '0.0092715']\\n ['staphlococcus' '0.0003414264' '0.003066752' '5.6904402e-05' '0.008194677']\\n ['surveillance' '0.021509863' '0.103858486' '0.0006259484' '0.007927067']\\n ['mrse' '0.0008156298' '0.006615689' '7.587254e-05' '0.0076404638']\\n ['rvg' '0.00013277694' '0.0013180688' '3.793627e-05' '0.007032873']\\n ['oxacillin' '0.028414264' '0.12918602' '0.00070182094' '0.0067001204']]</td>\n",
       "    </tr>\n",
       "    <tr>\n",
       "      <th>3</th>\n",
       "      <td>038.2</td>\n",
       "      <td>85</td>\n",
       "      <td>0.001612</td>\n",
       "      <td>0.011978</td>\n",
       "      <td>Pneumococcal septicemia [Streptococcus pneumoniae septicemia]</td>\n",
       "      <td>[['pneumococcus' '0.0013277694' '0.010122354' '0.00030349015' '0.060944773']\\n ['streptococcal' '0.0020675266' '0.014845582' '0.00030349015' '0.043650616']\\n ['pneumo' '0.0066767833' '0.040099256' '0.0006259484' '0.041905276']\\n ['pneumococcal' '0.008421851' '0.048616834' '0.0006828528' '0.03765242']\\n ['pneumoniae' '0.013808802' '0.0728485' '0.00091047044' '0.03456903']\\n ['breakpoints' '0.00036039454' '0.0032176247' '9.484067e-05' '0.027405556']\\n ['asplenia' '0.00037936267' '0.0033675581' '7.587254e-05' '0.019955589']\\n ['streptococcus' '0.018209409' '0.09098615' '0.0007397572' '0.018613825']\\n ['mus' '5.6904402e-05' '0.00061311224' '3.793627e-05' '0.016812751']\\n ['mucousa' '5.6904402e-05' '0.00061311224' '3.793627e-05' '0.016812751']]</td>\n",
       "    </tr>\n",
       "    <tr>\n",
       "      <th>4</th>\n",
       "      <td>038.3</td>\n",
       "      <td>108</td>\n",
       "      <td>0.002049</td>\n",
       "      <td>0.014728</td>\n",
       "      <td>Septicemia due to anaerobes</td>\n",
       "      <td>[['septicum' '0.00085356605' '0.006884547' '0.000113808805' '0.017611679']\\n ['perfringens' '0.00142261' '0.010747153' '0.00013277694' '0.015447679']\\n ['megacolon' '0.0030728378' '0.020844972' '0.00018968133' '0.013581591']\\n ['bacteroides' '0.0023141124' '0.01635513' '0.00013277694' '0.010470199']\\n ['ulitmately' '0.000113808805' '0.0011472754' '3.793627e-05' '0.010368616']\\n ['pancolitis' '0.0023520486' '0.016584992' '0.00013277694' '0.010324825']\\n ['klebisella' '0.00013277694' '0.0013180688' '3.793627e-05' '0.009809668']\\n ['clostridial' '0.00013277694' '0.0013180688' '3.793627e-05' '0.009809668']\\n ['citracel' '0.00015174507' '0.0014860831' '3.793627e-05' '0.0093412995']\\n ['culutures' '0.0001707132' '0.0016517199' '3.793627e-05' '0.008926498']]</td>\n",
       "    </tr>\n",
       "  </tbody>\n",
       "</table>\n",
       "</div>"
      ],
      "text/plain": [
       "    label  freq      prob   entropy  \\\n",
       "0   008.8   132  0.002504  0.017498   \n",
       "1  038.12   116  0.002200  0.015662   \n",
       "2  038.19   148  0.002807  0.019298   \n",
       "3   038.2    85  0.001612  0.011978   \n",
       "4   038.3   108  0.002049  0.014728   \n",
       "\n",
       "                                                            description  \\\n",
       "0  Intestinal infection due to other organism, not elsewhere classified   \n",
       "1                                                             Not Found   \n",
       "2                                       Other staphylococcal septicemia   \n",
       "3         Pneumococcal septicemia [Streptococcus pneumoniae septicemia]   \n",
       "4                                           Septicemia due to anaerobes   \n",
       "\n",
       "                                                                                                                                                                                                                                                                                                                                                                                                                                                                                                                                                                                                                                                                                                                                                   top-k (token, prob, entropy, joint, info)  \n",
       "0                        [['gastroenteritis' '0.008327011' '0.048164062' '0.0018778453' '0.135108']\\n ['gasteroenteritis' '0.000113808805' '0.0011472754' '7.587254e-05' '0.020989483']\\n ['viral' '0.06646434' '0.24439576' '0.002124431' '0.018479552']\\n ['norovirus' '0.0006259484' '0.0052429195' '0.000113808805' '0.017389983']\\n ['watery' '0.013770865' '0.07268653' '0.00056904403' '0.01273447']\\n ['monobasic' '5.6904402e-05' '0.00061311224' '3.793627e-05' '0.010679064']\\n ['profuse' '0.006866465' '0.041045412' '0.00026555388' '0.008544236']\\n ['gestures' '0.0008345979' '0.0067503336' '7.587254e-05' '0.00845181']\\n ['virally' '0.000113808805' '0.0011472754' '3.793627e-05' '0.008393114']\\n ['ksb' '0.000113808805' '0.0011472754' '3.793627e-05' '0.008393114']]  \n",
       "1             [['carbacephems' '0.0061836117' '0.037613403' '0.0006638847' '0.040515352']\\n ['carbapenems' '0.0064491658' '0.038956657' '0.0006638847' '0.03890332']\\n ['staphylococci' '0.0067336876' '0.04038363' '0.0006828528' '0.038864423']\\n ['combinations' '0.006904401' '0.041234046' '0.0006638847' '0.036400057']\\n ['consultations' '0.0042109257' '0.027236082' '0.00041729896' '0.029816346']\\n ['rifampin' '0.013694993' '0.072362244' '0.00092943857' '0.029683795']\\n ['lactamase' '0.010944613' '0.060298413' '0.0006638847' '0.022703482']\\n ['protochol' '0.001972686' '0.014257325' '0.00018968133' '0.018664824']\\n ['dysthesia' '9.484067e-05' '0.0009733652' '5.6904402e-05' '0.017445711']\\n ['fungi' '0.0027883158' '0.019186173' '0.00020864948' '0.016050713']]  \n",
       "2                                         [['epidermidis' '0.0024279212' '0.01704282' '0.00024658575' '0.0187256']\\n ['coagulase' '0.02348255' '0.111299396' '0.0011001518' '0.018020378']\\n ['coag' '0.04516313' '0.18401921' '0.0015174507' '0.014196403']\\n ['staph' '0.06320182' '0.23568806' '0.0018778453' '0.013870501']\\n ['staphylococcus' '0.041388467' '0.17233191' '0.0011191199' '0.0092715']\\n ['staphlococcus' '0.0003414264' '0.003066752' '5.6904402e-05' '0.008194677']\\n ['surveillance' '0.021509863' '0.103858486' '0.0006259484' '0.007927067']\\n ['mrse' '0.0008156298' '0.006615689' '7.587254e-05' '0.0076404638']\\n ['rvg' '0.00013277694' '0.0013180688' '3.793627e-05' '0.007032873']\\n ['oxacillin' '0.028414264' '0.12918602' '0.00070182094' '0.0067001204']]  \n",
       "3              [['pneumococcus' '0.0013277694' '0.010122354' '0.00030349015' '0.060944773']\\n ['streptococcal' '0.0020675266' '0.014845582' '0.00030349015' '0.043650616']\\n ['pneumo' '0.0066767833' '0.040099256' '0.0006259484' '0.041905276']\\n ['pneumococcal' '0.008421851' '0.048616834' '0.0006828528' '0.03765242']\\n ['pneumoniae' '0.013808802' '0.0728485' '0.00091047044' '0.03456903']\\n ['breakpoints' '0.00036039454' '0.0032176247' '9.484067e-05' '0.027405556']\\n ['asplenia' '0.00037936267' '0.0033675581' '7.587254e-05' '0.019955589']\\n ['streptococcus' '0.018209409' '0.09098615' '0.0007397572' '0.018613825']\\n ['mus' '5.6904402e-05' '0.00061311224' '3.793627e-05' '0.016812751']\\n ['mucousa' '5.6904402e-05' '0.00061311224' '3.793627e-05' '0.016812751']]  \n",
       "4  [['septicum' '0.00085356605' '0.006884547' '0.000113808805' '0.017611679']\\n ['perfringens' '0.00142261' '0.010747153' '0.00013277694' '0.015447679']\\n ['megacolon' '0.0030728378' '0.020844972' '0.00018968133' '0.013581591']\\n ['bacteroides' '0.0023141124' '0.01635513' '0.00013277694' '0.010470199']\\n ['ulitmately' '0.000113808805' '0.0011472754' '3.793627e-05' '0.010368616']\\n ['pancolitis' '0.0023520486' '0.016584992' '0.00013277694' '0.010324825']\\n ['klebisella' '0.00013277694' '0.0013180688' '3.793627e-05' '0.009809668']\\n ['clostridial' '0.00013277694' '0.0013180688' '3.793627e-05' '0.009809668']\\n ['citracel' '0.00015174507' '0.0014860831' '3.793627e-05' '0.0093412995']\\n ['culutures' '0.0001707132' '0.0016517199' '3.793627e-05' '0.008926498']]  "
      ]
     },
     "execution_count": null,
     "metadata": {},
     "output_type": "execute_result"
    }
   ],
   "source": [
    "_df_jc.head()"
   ]
  },
  {
   "cell_type": "code",
   "execution_count": null,
   "id": "588768e1-331d-44f7-9d4d-f2188246aaf9",
   "metadata": {},
   "outputs": [
    {
     "data": {
      "text/html": [
       "<div>\n",
       "<style scoped>\n",
       "    .dataframe tbody tr th:only-of-type {\n",
       "        vertical-align: middle;\n",
       "    }\n",
       "\n",
       "    .dataframe tbody tr th {\n",
       "        vertical-align: top;\n",
       "    }\n",
       "\n",
       "    .dataframe thead th {\n",
       "        text-align: right;\n",
       "    }\n",
       "</style>\n",
       "<table border=\"1\" class=\"dataframe\">\n",
       "  <thead>\n",
       "    <tr style=\"text-align: right;\">\n",
       "      <th></th>\n",
       "      <th>label</th>\n",
       "      <th>freq</th>\n",
       "      <th>prob</th>\n",
       "      <th>entropy</th>\n",
       "      <th>description</th>\n",
       "      <th>top-k (token, prob, entropy, joint, info)</th>\n",
       "    </tr>\n",
       "  </thead>\n",
       "  <tbody>\n",
       "    <tr>\n",
       "      <th>0</th>\n",
       "      <td>008.8</td>\n",
       "      <td>132</td>\n",
       "      <td>0.002504</td>\n",
       "      <td>0.017498</td>\n",
       "      <td>Intestinal infection due to other organism, not elsewhere classified</td>\n",
       "      <td>[['gastroenteritis' '0.008327011' '0.048164062' '0.0018778453' '0.44664875']\\n ['viral' '0.06646434' '0.24439576' '0.002124431' '0.2715633']\\n ['diarrhea' '0.23753795' '0.5482253' '0.0020295903' '0.10494876']\\n ['vomiting' '0.31278452' '0.62131053' '0.002143399' '0.09137799']\\n ['nausea' '0.3579097' '0.652206' '0.0021054628' '0.07120143']\\n ['watery' '0.013770865' '0.07268653' '0.00056904403' '0.064807415']\\n ['medicine' '0.47397572' '0.691792' '0.0022382399' '0.056979857']\\n ['sick' '0.049734447' '0.19773257' '0.0008156298' '0.054789137']\\n ['emesis' '0.06274659' '0.23445892' '0.0008725342' '0.051838394']\\n ['ns' '0.12010623' '0.3671366' '0.0011191199' '0.047479752']]</td>\n",
       "    </tr>\n",
       "    <tr>\n",
       "      <th>1</th>\n",
       "      <td>038.12</td>\n",
       "      <td>116</td>\n",
       "      <td>0.002200</td>\n",
       "      <td>0.015662</td>\n",
       "      <td>Not Found</td>\n",
       "      <td>[['mrsa' '0.09195752' '0.30704355' '0.0019347497' '0.24584907']\\n ['bacteremia' '0.068304256' '0.24923033' '0.0014984825' '0.17290637']\\n ['rifampin' '0.013694993' '0.072362244' '0.00092943857' '0.16202216']\\n ['vancomycin' '0.2591047' '0.5721184' '0.0020864948' '0.15388577']\\n ['aureus' '0.05064492' '0.20040981' '0.001270865' '0.15034734']\\n ['staph' '0.06320182' '0.23568806' '0.0013467375' '0.14798154']\\n ['vegetations' '0.032720033' '0.14407371' '0.0011001518' '0.14625418']\\n ['staphylococci' '0.0067336876' '0.04038363' '0.0006828528' '0.13387245']\\n ['carbacephems' '0.0061836117' '0.037613403' '0.0006638847' '0.13245058']\\n ['carbapenems' '0.0064491658' '0.038956657' '0.0006638847' '0.1305896']]</td>\n",
       "    </tr>\n",
       "    <tr>\n",
       "      <th>2</th>\n",
       "      <td>038.19</td>\n",
       "      <td>148</td>\n",
       "      <td>0.002807</td>\n",
       "      <td>0.019298</td>\n",
       "      <td>Other staphylococcal septicemia</td>\n",
       "      <td>[['staph' '0.06320182' '0.23568806' '0.0018778453' '0.18076809']\\n ['coag' '0.04516313' '0.18401921' '0.0015174507' '0.14747754']\\n ['vancomycin' '0.2591047' '0.5721184' '0.0024658574' '0.124441765']\\n ['coagulase' '0.02348255' '0.111299396' '0.0011001518' '0.11979452']\\n ['grew' '0.11272762' '0.3521803' '0.0016312596' '0.09334226']\\n ['staphylococcus' '0.041388467' '0.17233191' '0.0011191199' '0.09122223']\\n ['cultures' '0.28729135' '0.59970856' '0.0023141124' '0.09089726']\\n ['line' '0.30273142' '0.61316085' '0.002143399' '0.06575568']\\n ['bacteremia' '0.068304256' '0.24923033' '0.0010811837' '0.060057342']\\n ['sepsis' '0.18167679' '0.4739266' '0.0016502277' '0.059517227']]</td>\n",
       "    </tr>\n",
       "    <tr>\n",
       "      <th>3</th>\n",
       "      <td>038.2</td>\n",
       "      <td>85</td>\n",
       "      <td>0.001612</td>\n",
       "      <td>0.011978</td>\n",
       "      <td>Pneumococcal septicemia [Streptococcus pneumoniae septicemia]</td>\n",
       "      <td>[['pneumoniae' '0.013808802' '0.0728485' '0.00091047044' '0.23663042']\\n ['strep' '0.048691202' '0.19464338' '0.0010811837' '0.19061059']\\n ['pneumococcal' '0.008421851' '0.048616834' '0.0006828528' '0.1835643']\\n ['pneumo' '0.0066767833' '0.040099256' '0.0006259484' '0.174864']\\n ['ceftriaxone' '0.122742794' '0.3723544' '0.001270865' '0.1572411']\\n ['streptococcus' '0.018209409' '0.09098615' '0.0007397572' '0.15708087']\\n ['sepsis' '0.18167679' '0.4739266' '0.0012329287' '0.10871605']\\n ['pneumococcus' '0.0013277694' '0.010122354' '0.00030349015' '0.1059879']\\n ['pneumonia' '0.29294384' '0.60476655' '0.0014036419' '0.09822925']\\n ['vancomycin' '0.2591047' '0.5721184' '0.0013277694' '0.09428377']]</td>\n",
       "    </tr>\n",
       "    <tr>\n",
       "      <th>4</th>\n",
       "      <td>038.3</td>\n",
       "      <td>108</td>\n",
       "      <td>0.002049</td>\n",
       "      <td>0.014728</td>\n",
       "      <td>Septicemia due to anaerobes</td>\n",
       "      <td>[['sepsis' '0.18167679' '0.4739266' '0.0014036419' '0.084921986']\\n ['septic' '0.06329666' '0.23594368' '0.00092943857' '0.08369133']\\n ['diff' '0.08988999' '0.3022832' '0.0010432474' '0.08100143']\\n ['colitis' '0.05694234' '0.21847004' '0.00085356605' '0.07671062']\\n ['flagyl' '0.14711685' '0.4176752' '0.0012329287' '0.07597934']\\n ['clostridium' '0.034427166' '0.14980963' '0.0006828528' '0.07129074']\\n ['difficile' '0.050929442' '0.20124286' '0.0007397572' '0.06350024']\\n ['metronidazole' '0.051915783' '0.20411795' '0.00064491655' '0.048172895']\\n ['vancomycin' '0.2591047' '0.5721184' '0.0013277694' '0.046320684']\\n ['shock' '0.06874052' '0.25036877' '0.0006638847' '0.039911266']]</td>\n",
       "    </tr>\n",
       "  </tbody>\n",
       "</table>\n",
       "</div>"
      ],
      "text/plain": [
       "    label  freq      prob   entropy  \\\n",
       "0   008.8   132  0.002504  0.017498   \n",
       "1  038.12   116  0.002200  0.015662   \n",
       "2  038.19   148  0.002807  0.019298   \n",
       "3   038.2    85  0.001612  0.011978   \n",
       "4   038.3   108  0.002049  0.014728   \n",
       "\n",
       "                                                            description  \\\n",
       "0  Intestinal infection due to other organism, not elsewhere classified   \n",
       "1                                                             Not Found   \n",
       "2                                       Other staphylococcal septicemia   \n",
       "3         Pneumococcal septicemia [Streptococcus pneumoniae septicemia]   \n",
       "4                                           Septicemia due to anaerobes   \n",
       "\n",
       "                                                                                                                                                                                                                                                                                                                                                                                                                                                                                                                                                                                                                                                                                              top-k (token, prob, entropy, joint, info)  \n",
       "0                                 [['gastroenteritis' '0.008327011' '0.048164062' '0.0018778453' '0.44664875']\\n ['viral' '0.06646434' '0.24439576' '0.002124431' '0.2715633']\\n ['diarrhea' '0.23753795' '0.5482253' '0.0020295903' '0.10494876']\\n ['vomiting' '0.31278452' '0.62131053' '0.002143399' '0.09137799']\\n ['nausea' '0.3579097' '0.652206' '0.0021054628' '0.07120143']\\n ['watery' '0.013770865' '0.07268653' '0.00056904403' '0.064807415']\\n ['medicine' '0.47397572' '0.691792' '0.0022382399' '0.056979857']\\n ['sick' '0.049734447' '0.19773257' '0.0008156298' '0.054789137']\\n ['emesis' '0.06274659' '0.23445892' '0.0008725342' '0.051838394']\\n ['ns' '0.12010623' '0.3671366' '0.0011191199' '0.047479752']]  \n",
       "1  [['mrsa' '0.09195752' '0.30704355' '0.0019347497' '0.24584907']\\n ['bacteremia' '0.068304256' '0.24923033' '0.0014984825' '0.17290637']\\n ['rifampin' '0.013694993' '0.072362244' '0.00092943857' '0.16202216']\\n ['vancomycin' '0.2591047' '0.5721184' '0.0020864948' '0.15388577']\\n ['aureus' '0.05064492' '0.20040981' '0.001270865' '0.15034734']\\n ['staph' '0.06320182' '0.23568806' '0.0013467375' '0.14798154']\\n ['vegetations' '0.032720033' '0.14407371' '0.0011001518' '0.14625418']\\n ['staphylococci' '0.0067336876' '0.04038363' '0.0006828528' '0.13387245']\\n ['carbacephems' '0.0061836117' '0.037613403' '0.0006638847' '0.13245058']\\n ['carbapenems' '0.0064491658' '0.038956657' '0.0006638847' '0.1305896']]  \n",
       "2                          [['staph' '0.06320182' '0.23568806' '0.0018778453' '0.18076809']\\n ['coag' '0.04516313' '0.18401921' '0.0015174507' '0.14747754']\\n ['vancomycin' '0.2591047' '0.5721184' '0.0024658574' '0.124441765']\\n ['coagulase' '0.02348255' '0.111299396' '0.0011001518' '0.11979452']\\n ['grew' '0.11272762' '0.3521803' '0.0016312596' '0.09334226']\\n ['staphylococcus' '0.041388467' '0.17233191' '0.0011191199' '0.09122223']\\n ['cultures' '0.28729135' '0.59970856' '0.0023141124' '0.09089726']\\n ['line' '0.30273142' '0.61316085' '0.002143399' '0.06575568']\\n ['bacteremia' '0.068304256' '0.24923033' '0.0010811837' '0.060057342']\\n ['sepsis' '0.18167679' '0.4739266' '0.0016502277' '0.059517227']]  \n",
       "3    [['pneumoniae' '0.013808802' '0.0728485' '0.00091047044' '0.23663042']\\n ['strep' '0.048691202' '0.19464338' '0.0010811837' '0.19061059']\\n ['pneumococcal' '0.008421851' '0.048616834' '0.0006828528' '0.1835643']\\n ['pneumo' '0.0066767833' '0.040099256' '0.0006259484' '0.174864']\\n ['ceftriaxone' '0.122742794' '0.3723544' '0.001270865' '0.1572411']\\n ['streptococcus' '0.018209409' '0.09098615' '0.0007397572' '0.15708087']\\n ['sepsis' '0.18167679' '0.4739266' '0.0012329287' '0.10871605']\\n ['pneumococcus' '0.0013277694' '0.010122354' '0.00030349015' '0.1059879']\\n ['pneumonia' '0.29294384' '0.60476655' '0.0014036419' '0.09822925']\\n ['vancomycin' '0.2591047' '0.5721184' '0.0013277694' '0.09428377']]  \n",
       "4                   [['sepsis' '0.18167679' '0.4739266' '0.0014036419' '0.084921986']\\n ['septic' '0.06329666' '0.23594368' '0.00092943857' '0.08369133']\\n ['diff' '0.08988999' '0.3022832' '0.0010432474' '0.08100143']\\n ['colitis' '0.05694234' '0.21847004' '0.00085356605' '0.07671062']\\n ['flagyl' '0.14711685' '0.4176752' '0.0012329287' '0.07597934']\\n ['clostridium' '0.034427166' '0.14980963' '0.0006828528' '0.07129074']\\n ['difficile' '0.050929442' '0.20124286' '0.0007397572' '0.06350024']\\n ['metronidazole' '0.051915783' '0.20411795' '0.00064491655' '0.048172895']\\n ['vancomycin' '0.2591047' '0.5721184' '0.0013277694' '0.046320684']\\n ['shock' '0.06874052' '0.25036877' '0.0006638847' '0.039911266']]  "
      ]
     },
     "execution_count": null,
     "metadata": {},
     "output_type": "execute_result"
    }
   ],
   "source": [
    "_df_le.head()"
   ]
  },
  {
   "cell_type": "code",
   "execution_count": null,
   "id": "cec9aaf3-3906-4b7e-b3f2-265ebc8942fc",
   "metadata": {},
   "outputs": [],
   "source": [
    "pd.reset_option('all')"
   ]
  },
  {
   "cell_type": "code",
   "execution_count": null,
   "id": "01ff381c-cc78-4417-92d5-e8871cc64b5f",
   "metadata": {},
   "outputs": [],
   "source": [
    "_df_jc.to_excel('jaccard.xls', index=False)\n",
    "_df_le.to_excel('label-entropy.xls', index=False)"
   ]
  }
 ],
 "metadata": {
  "kernelspec": {
   "display_name": "deepK",
   "language": "python",
   "name": "deepk"
  }
 },
 "nbformat": 4,
 "nbformat_minor": 5
}
