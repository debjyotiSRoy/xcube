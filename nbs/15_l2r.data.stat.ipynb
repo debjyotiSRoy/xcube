{
 "cells": [
  {
   "cell_type": "code",
   "execution_count": null,
   "id": "55120fcb-6ed6-4fcb-89d2-cdfc342501d0",
   "metadata": {},
   "outputs": [],
   "source": [
    "#| eval: false\n",
    "! [ -e /content ] && pip install -Uqq xcube # upgrade xcube on colab"
   ]
  },
  {
   "cell_type": "code",
   "execution_count": null,
   "id": "93dc4dba-6a33-43ed-ad00-e2892d3cddc0",
   "metadata": {},
   "outputs": [],
   "source": [
    "#| default_exp l2r.data.stat"
   ]
  },
  {
   "cell_type": "code",
   "execution_count": null,
   "id": "28da644b-f9bd-4626-92d0-e192d4c8fc54",
   "metadata": {},
   "outputs": [],
   "source": [
    "#| export\n",
    "# from fastcore.basics import *\n",
    "# from fastai.torch_core import *\n",
    "# from fastai.data.core import *\n",
    "# from fastai.data.transforms import *\n",
    "# from fastai.text.core import *\n",
    "# from fastai.text.data import *\n",
    "# from xcube.imports import *\n",
    "# from xcube.torch_imports import *"
   ]
  },
  {
   "cell_type": "code",
   "execution_count": null,
   "id": "ee92218c-068e-48ba-aa5e-735bbeee3fed",
   "metadata": {},
   "outputs": [
    {
     "name": "stdout",
     "output_type": "stream",
     "text": [
      "The autoreload extension is already loaded. To reload it, use:\n",
      "  %reload_ext autoreload\n"
     ]
    }
   ],
   "source": [
    "#| hide\n",
    "from nbdev.showdoc import *\n",
    "%load_ext autoreload\n",
    "%autoreload 2"
   ]
  },
  {
   "cell_type": "markdown",
   "id": "d6ef54c1-66e5-4108-a355-4f7e44898fbf",
   "metadata": {},
   "source": [
    "# Stat\n",
    "\n",
    "> Statistical analysis of mutual information"
   ]
  },
  {
   "cell_type": "markdown",
   "id": "cd54d840-18ce-4de8-83c1-4891d6d92358",
   "metadata": {},
   "source": [
    "This module contains all the classes and functions to perform statistical analysis on the [mutual information gain](https://en.wikipedia.org/wiki/Mutual_information#) computed in module [Mutual Information](13_l2r.data.info_gain.ipynb). To understand how the functionalities here get used follow along the tutorial [training L2R](17_tutorial.train_l2r.ipynb)"
   ]
  },
  {
   "cell_type": "markdown",
   "id": "f4092fb5-b954-4d5d-a4aa-7dcefcc4279a",
   "metadata": {},
   "source": [
    "## Export -"
   ]
  },
  {
   "cell_type": "code",
   "execution_count": null,
   "id": "76bbd3f1-d655-4e48-acd8-041886ee97b0",
   "metadata": {},
   "outputs": [],
   "source": [
    "#| hide\n",
    "import nbdev; nbdev.nbdev_export()"
   ]
  },
  {
   "cell_type": "code",
   "execution_count": null,
   "id": "49cd45fe-2a58-4e9d-8771-c81d585a6f47",
   "metadata": {},
   "outputs": [],
   "source": []
  }
 ],
 "metadata": {
  "kernelspec": {
   "display_name": "deepK",
   "language": "python",
   "name": "deepk"
  }
 },
 "nbformat": 4,
 "nbformat_minor": 5
}
