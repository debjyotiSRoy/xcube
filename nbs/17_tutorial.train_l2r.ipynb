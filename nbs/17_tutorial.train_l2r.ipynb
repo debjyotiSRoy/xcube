{
 "cells": [
  {
   "cell_type": "code",
   "execution_count": null,
   "id": "e250b634-6386-4092-8cd7-6a061998ee99",
   "metadata": {},
   "outputs": [],
   "source": [
    "#| eval: false\n",
    "! [ -e /content ] && pip install -Uqq xcube # upgrade xcube on colab"
   ]
  },
  {
   "cell_type": "code",
   "execution_count": null,
   "id": "900fde3d-895d-4701-8c56-d91e5bc3d581",
   "metadata": {},
   "outputs": [],
   "source": [
    "from xcube.l2r.all import *"
   ]
  },
  {
   "cell_type": "code",
   "execution_count": null,
   "id": "d6c7c456-ca6e-4e26-8391-3912fe2f401d",
   "metadata": {},
   "outputs": [],
   "source": [
    "#| hide\n",
    "%load_ext autoreload\n",
    "%autoreload 2"
   ]
  },
  {
   "cell_type": "markdown",
   "id": "f89deb3e-5ac5-43ee-8c91-3f11147b6fcf",
   "metadata": {},
   "source": [
    "Make sure we have that GPU:"
   ]
  },
  {
   "cell_type": "code",
   "execution_count": null,
   "id": "8c80a95a-b472-4b1e-aed3-9b51f66794fc",
   "metadata": {},
   "outputs": [
    {
     "name": "stderr",
     "output_type": "stream",
     "text": [
      "ic| torch.cuda.get_device_name(default_device()): 'NVIDIA GeForce RTX 3060 Laptop GPU'\n"
     ]
    },
    {
     "name": "stdout",
     "output_type": "stream",
     "text": [
      "GPU memory = 5.99951171875GB\n"
     ]
    }
   ],
   "source": [
    "ic(torch.cuda.get_device_name(default_device()));\n",
    "test_eq(torch.cuda.get_device_name(0), torch.cuda.get_device_name(default_device()))\n",
    "test_eq(default_device(), torch.device(0))\n",
    "print(f\"GPU memory = {torch.cuda.get_device_properties(default_device()).total_memory/1024**3}GB\")"
   ]
  },
  {
   "cell_type": "markdown",
   "id": "9f0bd96f-9315-4746-84ee-8ed5ac643d45",
   "metadata": {},
   "source": [
    "Setting some environment variables:"
   ]
  },
  {
   "cell_type": "code",
   "execution_count": null,
   "id": "aad35ab3-ce3d-44be-9f12-a679bc7770b8",
   "metadata": {},
   "outputs": [],
   "source": [
    "# os.environ['CUDA_LAUNCH_BLOCKING'] = \"1\""
   ]
  },
  {
   "cell_type": "markdown",
   "id": "c32dbb09-2578-46ac-8c99-6449d4ae8320",
   "metadata": {},
   "source": [
    "# L2R Training\n",
    "\n",
    "> Training a learning-to-rank model"
   ]
  },
  {
   "cell_type": "markdown",
   "id": "3f4f5a0a-6618-48c6-9bf6-6a394c6c1953",
   "metadata": {},
   "source": [
    "In this tutorial we will train a l2r model. We will bootstrap the model using the data we prepared in tutorial [booting L2R](14_tutorial.boot_l2r.ipynb)"
   ]
  },
  {
   "cell_type": "markdown",
   "id": "739e4121-7903-495d-95df-610af53a42ad",
   "metadata": {},
   "source": [
    "## Getting ready"
   ]
  },
  {
   "cell_type": "markdown",
   "id": "e52d88be-94e7-4dac-a69e-72d0eb02ca0e",
   "metadata": {},
   "source": [
    "Prepping l2r data for xcube's `L2RDataLoader`"
   ]
  },
  {
   "cell_type": "code",
   "execution_count": null,
   "id": "e6f8dc37-55f6-46ed-9ab7-d0092f715421",
   "metadata": {},
   "outputs": [
    {
     "data": {
      "text/plain": [
       "(#11) [Path('/home/deb/.xcube/data/mimic3_l2r/info.pkl'),Path('/home/deb/.xcube/data/mimic3_l2r/code_descriptions.csv'),Path('/home/deb/.xcube/data/mimic3_l2r/mimic3-9k_tok_lbl_info.pkl'),Path('/home/deb/.xcube/data/mimic3_l2r/code_desc.pkl'),Path('/home/deb/.xcube/data/mimic3_l2r/p_TL.pkl'),Path('/home/deb/.xcube/data/mimic3_l2r/trn_val_split.pkl'),Path('/home/deb/.xcube/data/mimic3_l2r/mimic3-9k_tok.ft'),Path('/home/deb/.xcube/data/mimic3_l2r/mimic3-9k_lbl.ft'),Path('/home/deb/.xcube/data/mimic3_l2r/mimic3-9k.csv'),Path('/home/deb/.xcube/data/mimic3_l2r/scored_tokens.pth')...]"
      ]
     },
     "execution_count": null,
     "metadata": {},
     "output_type": "execute_result"
    }
   ],
   "source": [
    "source = untar_xxx(XURLs.MIMIC3_L2R)\n",
    "source.ls()"
   ]
  },
  {
   "cell_type": "markdown",
   "id": "d6cd9a41-dec1-47f5-959d-1198d6beedf6",
   "metadata": {},
   "source": [
    "Note: If you don't have enough GPU/CPU memory just run the last cell of this section to load the pregenerated ones."
   ]
  },
  {
   "cell_type": "markdown",
   "id": "6a78d710-aee4-48ac-a628-aec26002488f",
   "metadata": {},
   "source": [
    "Here we can just load the file which contains the relevant information about the tokens, labels and their mutual-information-gain:"
   ]
  },
  {
   "cell_type": "code",
   "execution_count": null,
   "id": "36c40d00-979b-4b2b-ab25-a6b6344fd15a",
   "metadata": {},
   "outputs": [],
   "source": [
    "# Cheking if you have enough memory to set device\n",
    "cuda_memory = torch.cuda.get_device_properties(torch.cuda.current_device()).total_memory/1024**3\n",
    "if cuda_memory < 10.: print(f\"Not Enough GPU Memory (just {cuda_memory} GB), we'll use {default_device(use=False)}\")\n",
    "l2r_bootstrap = torch.load(source/'mimic3-9k_tok_lbl_info.pkl', map_location=default_device())"
   ]
  },
  {
   "cell_type": "code",
   "execution_count": null,
   "id": "3332f1ff-6a23-4ad6-bc42-d52b4e9bc38b",
   "metadata": {},
   "outputs": [],
   "source": [
    "test_eq(l2r_bootstrap.keys(), ['toks', 'lbs', 'mut_info_lbl_entropy', 'mutual_info_jaccard'])\n",
    "toks = l2r_bootstrap.get('toks', None)\n",
    "lbs = l2r_bootstrap.get('lbs', None)\n",
    "info = l2r_bootstrap.get('mutual_info_jaccard', None)\n",
    "for o in (toks, lbs, info): assert o is not None\n",
    "test_eq(info.shape, (len(toks), len(lbs)))"
   ]
  },
  {
   "cell_type": "markdown",
   "id": "e019c3e2-f092-43f2-8f6a-31c58e4fddf6",
   "metadata": {},
   "source": [
    "`info` contains the mutual-information-gain values for the tokens and labels. In what follows we'll toss in some pandas to take a good hard look at the data before we proceed towards making xcube's `L2RDataLoader`: "
   ]
  },
  {
   "cell_type": "markdown",
   "id": "d3321d66-0f78-4a81-9807-b218a872a440",
   "metadata": {},
   "source": [
    "*Note:* Storing the tokens and the labels in a dataframe as `object` will take up a lot of RAM space when we prepare that `DataLoader`. So we are going to store the corresponding token and label indices instead in a dataframe called `df_l2r`. We are also going to store the tokens and the labels with their corresponding indices in seperate dataframes (this will help in quick merging for analysis)."
   ]
  },
  {
   "cell_type": "markdown",
   "id": "23d63c53-d5f0-4d79-9536-fcbec6f35f9e",
   "metadata": {},
   "source": [
    "Here we will rank the tokens for each label based on the decreasing values of the mutual-info and stack them up with mutual-info."
   ]
  },
  {
   "cell_type": "code",
   "execution_count": null,
   "id": "8c28fb66-3532-456d-b702-b528e3165d8c",
   "metadata": {},
   "outputs": [],
   "source": [
    "ranked = info.argsort(descending=True, dim=0).argsort(dim=0)\n",
    "info_ranked =torch.stack((info, ranked), dim=2).flatten(start_dim=1)"
   ]
  },
  {
   "cell_type": "code",
   "execution_count": null,
   "id": "5020a427-05b5-47ff-b018-405384ef5362",
   "metadata": {},
   "outputs": [],
   "source": [
    "cols = pd.MultiIndex.from_product([range(len(lbs)), ['mutual_info', 'rank']], names=['label', 'key2'])\n",
    "df_l2r = pd.DataFrame(info_ranked, index=range(len(toks)), columns=cols)\n",
    "df_l2r.index.name='token'"
   ]
  },
  {
   "cell_type": "code",
   "execution_count": null,
   "id": "894efcff-9187-4620-9778-bfc827851e75",
   "metadata": {},
   "outputs": [
    {
     "data": {
      "text/html": [
       "<div>\n",
       "<style scoped>\n",
       "    .dataframe tbody tr th:only-of-type {\n",
       "        vertical-align: middle;\n",
       "    }\n",
       "\n",
       "    .dataframe tbody tr th {\n",
       "        vertical-align: top;\n",
       "    }\n",
       "\n",
       "    .dataframe thead tr th {\n",
       "        text-align: left;\n",
       "    }\n",
       "\n",
       "    .dataframe thead tr:last-of-type th {\n",
       "        text-align: right;\n",
       "    }\n",
       "</style>\n",
       "<table border=\"1\" class=\"dataframe\">\n",
       "  <thead>\n",
       "    <tr>\n",
       "      <th>label</th>\n",
       "      <th colspan=\"2\" halign=\"left\">0</th>\n",
       "      <th colspan=\"2\" halign=\"left\">1</th>\n",
       "      <th colspan=\"2\" halign=\"left\">2</th>\n",
       "      <th colspan=\"2\" halign=\"left\">3</th>\n",
       "      <th colspan=\"2\" halign=\"left\">4</th>\n",
       "      <th>...</th>\n",
       "      <th colspan=\"2\" halign=\"left\">8917</th>\n",
       "      <th colspan=\"2\" halign=\"left\">8918</th>\n",
       "      <th colspan=\"2\" halign=\"left\">8919</th>\n",
       "      <th colspan=\"2\" halign=\"left\">8920</th>\n",
       "      <th colspan=\"2\" halign=\"left\">8921</th>\n",
       "    </tr>\n",
       "    <tr>\n",
       "      <th>key2</th>\n",
       "      <th>mutual_info</th>\n",
       "      <th>rank</th>\n",
       "      <th>mutual_info</th>\n",
       "      <th>rank</th>\n",
       "      <th>mutual_info</th>\n",
       "      <th>rank</th>\n",
       "      <th>mutual_info</th>\n",
       "      <th>rank</th>\n",
       "      <th>mutual_info</th>\n",
       "      <th>rank</th>\n",
       "      <th>...</th>\n",
       "      <th>mutual_info</th>\n",
       "      <th>rank</th>\n",
       "      <th>mutual_info</th>\n",
       "      <th>rank</th>\n",
       "      <th>mutual_info</th>\n",
       "      <th>rank</th>\n",
       "      <th>mutual_info</th>\n",
       "      <th>rank</th>\n",
       "      <th>mutual_info</th>\n",
       "      <th>rank</th>\n",
       "    </tr>\n",
       "    <tr>\n",
       "      <th>token</th>\n",
       "      <th></th>\n",
       "      <th></th>\n",
       "      <th></th>\n",
       "      <th></th>\n",
       "      <th></th>\n",
       "      <th></th>\n",
       "      <th></th>\n",
       "      <th></th>\n",
       "      <th></th>\n",
       "      <th></th>\n",
       "      <th></th>\n",
       "      <th></th>\n",
       "      <th></th>\n",
       "      <th></th>\n",
       "      <th></th>\n",
       "      <th></th>\n",
       "      <th></th>\n",
       "      <th></th>\n",
       "      <th></th>\n",
       "      <th></th>\n",
       "      <th></th>\n",
       "    </tr>\n",
       "  </thead>\n",
       "  <tbody>\n",
       "    <tr>\n",
       "      <th>0</th>\n",
       "      <td>0.000022</td>\n",
       "      <td>866.0</td>\n",
       "      <td>0.000011</td>\n",
       "      <td>1022.0</td>\n",
       "      <td>0.000022</td>\n",
       "      <td>1156.0</td>\n",
       "      <td>0.000011</td>\n",
       "      <td>823.0</td>\n",
       "      <td>0.000033</td>\n",
       "      <td>984.0</td>\n",
       "      <td>...</td>\n",
       "      <td>0.000011</td>\n",
       "      <td>850.0</td>\n",
       "      <td>0.000033</td>\n",
       "      <td>944.0</td>\n",
       "      <td>0.000011</td>\n",
       "      <td>960.0</td>\n",
       "      <td>0.000011</td>\n",
       "      <td>771.0</td>\n",
       "      <td>6.888287e-07</td>\n",
       "      <td>31821.0</td>\n",
       "    </tr>\n",
       "    <tr>\n",
       "      <th>1</th>\n",
       "      <td>0.000000</td>\n",
       "      <td>56856.0</td>\n",
       "      <td>0.000000</td>\n",
       "      <td>41420.0</td>\n",
       "      <td>0.000000</td>\n",
       "      <td>56855.0</td>\n",
       "      <td>0.000000</td>\n",
       "      <td>41412.0</td>\n",
       "      <td>0.000000</td>\n",
       "      <td>22838.0</td>\n",
       "      <td>...</td>\n",
       "      <td>0.000000</td>\n",
       "      <td>41423.0</td>\n",
       "      <td>0.000000</td>\n",
       "      <td>22863.0</td>\n",
       "      <td>0.000000</td>\n",
       "      <td>41425.0</td>\n",
       "      <td>0.000000</td>\n",
       "      <td>41414.0</td>\n",
       "      <td>0.000000e+00</td>\n",
       "      <td>32387.0</td>\n",
       "    </tr>\n",
       "    <tr>\n",
       "      <th>2</th>\n",
       "      <td>0.000000</td>\n",
       "      <td>56857.0</td>\n",
       "      <td>0.000000</td>\n",
       "      <td>41427.0</td>\n",
       "      <td>0.000000</td>\n",
       "      <td>56856.0</td>\n",
       "      <td>0.000000</td>\n",
       "      <td>41413.0</td>\n",
       "      <td>0.000000</td>\n",
       "      <td>22843.0</td>\n",
       "      <td>...</td>\n",
       "      <td>0.000000</td>\n",
       "      <td>41430.0</td>\n",
       "      <td>0.000000</td>\n",
       "      <td>22870.0</td>\n",
       "      <td>0.000000</td>\n",
       "      <td>41432.0</td>\n",
       "      <td>0.000000</td>\n",
       "      <td>41421.0</td>\n",
       "      <td>0.000000e+00</td>\n",
       "      <td>32390.0</td>\n",
       "    </tr>\n",
       "  </tbody>\n",
       "</table>\n",
       "<p>3 rows × 17844 columns</p>\n",
       "</div>"
      ],
      "text/plain": [
       "label        0                    1                    2              \\\n",
       "key2  mutual_info     rank mutual_info     rank mutual_info     rank   \n",
       "token                                                                  \n",
       "0        0.000022    866.0    0.000011   1022.0    0.000022   1156.0   \n",
       "1        0.000000  56856.0    0.000000  41420.0    0.000000  56855.0   \n",
       "2        0.000000  56857.0    0.000000  41427.0    0.000000  56856.0   \n",
       "\n",
       "label        3                    4              ...        8917           \\\n",
       "key2  mutual_info     rank mutual_info     rank  ... mutual_info     rank   \n",
       "token                                            ...                        \n",
       "0        0.000011    823.0    0.000033    984.0  ...    0.000011    850.0   \n",
       "1        0.000000  41412.0    0.000000  22838.0  ...    0.000000  41423.0   \n",
       "2        0.000000  41413.0    0.000000  22843.0  ...    0.000000  41430.0   \n",
       "\n",
       "label        8918                 8919                 8920           \\\n",
       "key2  mutual_info     rank mutual_info     rank mutual_info     rank   \n",
       "token                                                                  \n",
       "0        0.000033    944.0    0.000011    960.0    0.000011    771.0   \n",
       "1        0.000000  22863.0    0.000000  41425.0    0.000000  41414.0   \n",
       "2        0.000000  22870.0    0.000000  41432.0    0.000000  41421.0   \n",
       "\n",
       "label          8921           \n",
       "key2    mutual_info     rank  \n",
       "token                         \n",
       "0      6.888287e-07  31821.0  \n",
       "1      0.000000e+00  32387.0  \n",
       "2      0.000000e+00  32390.0  \n",
       "\n",
       "[3 rows x 17844 columns]"
      ]
     },
     "execution_count": null,
     "metadata": {},
     "output_type": "execute_result"
    }
   ],
   "source": [
    "df_l2r.head(3)"
   ]
  },
  {
   "cell_type": "code",
   "execution_count": null,
   "id": "a799b04c-a6ab-4349-9f13-cf5af76e3e19",
   "metadata": {},
   "outputs": [],
   "source": [
    "df_l2r = df_l2r.stack(level=0).reset_index().rename_axis(None, axis=1)\n",
    "# the above pandas trick can be simulated using numpy as follows\n",
    "# n = df_l2r.to_numpy()\n",
    "# n_toks, n_lbs = len(df_l2r.index), len(df_l2r.columns.levels[0])\n",
    "# n = n.reshape(-1, 2)\n",
    "# tok_lbs_idxs = np.mgrid[slice(0,n_toks), slice(0,n_lbs)].reshape(2,-1).T\n",
    "# n = np.concatenate((tok_lbs_idxs,n), axis=-1)\n",
    "# df_l2r = pd.DataFrame(n, columns=['token', 'label', 'mutual_info', 'rank'])\n",
    "df_l2r[['token', 'label']] = df_l2r[['token', 'label']].astype(np.int32) \n",
    "test_eq(len(df_l2r), len(toks) * len(lbs))"
   ]
  },
  {
   "cell_type": "code",
   "execution_count": null,
   "id": "ecf93bf9-dd9c-42fd-ab0b-4e8ea0ae2f7b",
   "metadata": {},
   "outputs": [
    {
     "data": {
      "text/html": [
       "<div>\n",
       "<style scoped>\n",
       "    .dataframe tbody tr th:only-of-type {\n",
       "        vertical-align: middle;\n",
       "    }\n",
       "\n",
       "    .dataframe tbody tr th {\n",
       "        vertical-align: top;\n",
       "    }\n",
       "\n",
       "    .dataframe thead th {\n",
       "        text-align: right;\n",
       "    }\n",
       "</style>\n",
       "<table border=\"1\" class=\"dataframe\">\n",
       "  <thead>\n",
       "    <tr style=\"text-align: right;\">\n",
       "      <th></th>\n",
       "      <th>token</th>\n",
       "      <th>label</th>\n",
       "      <th>mutual_info</th>\n",
       "      <th>rank</th>\n",
       "    </tr>\n",
       "  </thead>\n",
       "  <tbody>\n",
       "    <tr>\n",
       "      <th>0</th>\n",
       "      <td>0</td>\n",
       "      <td>0</td>\n",
       "      <td>0.000022</td>\n",
       "      <td>866.0</td>\n",
       "    </tr>\n",
       "    <tr>\n",
       "      <th>1</th>\n",
       "      <td>0</td>\n",
       "      <td>1</td>\n",
       "      <td>0.000011</td>\n",
       "      <td>1022.0</td>\n",
       "    </tr>\n",
       "    <tr>\n",
       "      <th>2</th>\n",
       "      <td>0</td>\n",
       "      <td>2</td>\n",
       "      <td>0.000022</td>\n",
       "      <td>1156.0</td>\n",
       "    </tr>\n",
       "  </tbody>\n",
       "</table>\n",
       "</div>"
      ],
      "text/plain": [
       "   token  label  mutual_info    rank\n",
       "0      0      0     0.000022   866.0\n",
       "1      0      1     0.000011  1022.0\n",
       "2      0      2     0.000022  1156.0"
      ]
     },
     "execution_count": null,
     "metadata": {},
     "output_type": "execute_result"
    }
   ],
   "source": [
    "df_l2r.head(3)"
   ]
  },
  {
   "cell_type": "code",
   "execution_count": null,
   "id": "560a3bc4-159b-4cf4-a43b-dd5d7cf8d133",
   "metadata": {},
   "outputs": [
    {
     "data": {
      "text/plain": [
       "Index          1.192093e-07\n",
       "token          1.906211e+00\n",
       "label          1.906211e+00\n",
       "mutual_info    1.906211e+00\n",
       "rank           1.906211e+00\n",
       "dtype: float64"
      ]
     },
     "execution_count": null,
     "metadata": {},
     "output_type": "execute_result"
    }
   ],
   "source": [
    "df_l2r.memory_usage()/1024**3"
   ]
  },
  {
   "cell_type": "code",
   "execution_count": null,
   "id": "e49baf2b-ada3-4638-ade9-e9e3ba9fbb6c",
   "metadata": {},
   "outputs": [],
   "source": [
    "df_toks = pd.DataFrame([(i, w) for i,w in enumerate(toks)], columns=['token', 'tok_val'])\n",
    "df_lbs = pd.DataFrame([(i,w) for i, w in enumerate(lbs)], columns=['lbl', 'lbl_val'])"
   ]
  },
  {
   "cell_type": "code",
   "execution_count": null,
   "id": "cb455422-8e1e-4921-b1d1-e998b6bed63a",
   "metadata": {},
   "outputs": [
    {
     "data": {
      "text/html": [
       "<div>\n",
       "<style scoped>\n",
       "    .dataframe tbody tr th:only-of-type {\n",
       "        vertical-align: middle;\n",
       "    }\n",
       "\n",
       "    .dataframe tbody tr th {\n",
       "        vertical-align: top;\n",
       "    }\n",
       "\n",
       "    .dataframe thead th {\n",
       "        text-align: right;\n",
       "    }\n",
       "</style>\n",
       "<table border=\"1\" class=\"dataframe\">\n",
       "  <thead>\n",
       "    <tr style=\"text-align: right;\">\n",
       "      <th></th>\n",
       "      <th>token</th>\n",
       "      <th>tok_val</th>\n",
       "    </tr>\n",
       "  </thead>\n",
       "  <tbody>\n",
       "    <tr>\n",
       "      <th>0</th>\n",
       "      <td>0</td>\n",
       "      <td>xxunk</td>\n",
       "    </tr>\n",
       "    <tr>\n",
       "      <th>1</th>\n",
       "      <td>1</td>\n",
       "      <td>xxpad</td>\n",
       "    </tr>\n",
       "    <tr>\n",
       "      <th>2</th>\n",
       "      <td>2</td>\n",
       "      <td>xxbos</td>\n",
       "    </tr>\n",
       "  </tbody>\n",
       "</table>\n",
       "</div>"
      ],
      "text/plain": [
       "   token tok_val\n",
       "0      0   xxunk\n",
       "1      1   xxpad\n",
       "2      2   xxbos"
      ]
     },
     "execution_count": null,
     "metadata": {},
     "output_type": "execute_result"
    }
   ],
   "source": [
    "df_toks.head(3)"
   ]
  },
  {
   "cell_type": "code",
   "execution_count": null,
   "id": "991db1e5-20ce-4593-8766-11acd6450db8",
   "metadata": {},
   "outputs": [
    {
     "data": {
      "text/html": [
       "<div>\n",
       "<style scoped>\n",
       "    .dataframe tbody tr th:only-of-type {\n",
       "        vertical-align: middle;\n",
       "    }\n",
       "\n",
       "    .dataframe tbody tr th {\n",
       "        vertical-align: top;\n",
       "    }\n",
       "\n",
       "    .dataframe thead th {\n",
       "        text-align: right;\n",
       "    }\n",
       "</style>\n",
       "<table border=\"1\" class=\"dataframe\">\n",
       "  <thead>\n",
       "    <tr style=\"text-align: right;\">\n",
       "      <th></th>\n",
       "      <th>lbl</th>\n",
       "      <th>lbl_val</th>\n",
       "    </tr>\n",
       "  </thead>\n",
       "  <tbody>\n",
       "    <tr>\n",
       "      <th>0</th>\n",
       "      <td>0</td>\n",
       "      <td>003.0</td>\n",
       "    </tr>\n",
       "    <tr>\n",
       "      <th>1</th>\n",
       "      <td>1</td>\n",
       "      <td>003.1</td>\n",
       "    </tr>\n",
       "    <tr>\n",
       "      <th>2</th>\n",
       "      <td>2</td>\n",
       "      <td>003.8</td>\n",
       "    </tr>\n",
       "  </tbody>\n",
       "</table>\n",
       "</div>"
      ],
      "text/plain": [
       "   lbl lbl_val\n",
       "0    0   003.0\n",
       "1    1   003.1\n",
       "2    2   003.8"
      ]
     },
     "execution_count": null,
     "metadata": {},
     "output_type": "execute_result"
    }
   ],
   "source": [
    "df_lbs.head(3)"
   ]
  },
  {
   "cell_type": "markdown",
   "id": "a5d03d0e-7844-428c-b1f1-298c437a5ade",
   "metadata": {},
   "source": [
    "You can save `df_l2r`, `df_toks` and `df_lbs` if you are working on your own dataset. In this case though `untar_xxx` has already downloaded those for you."
   ]
  },
  {
   "cell_type": "code",
   "execution_count": null,
   "id": "8f8929b4-3d64-40ca-95ad-98d47a6579f4",
   "metadata": {},
   "outputs": [
    {
     "data": {
      "text/plain": [
       "(#3) [Path('/home/deb/.xcube/data/mimic3_l2r/mimic3-9k_tok.ft'),Path('/home/deb/.xcube/data/mimic3_l2r/mimic3-9k_lbl.ft'),Path('/home/deb/.xcube/data/mimic3_l2r/mimic3-9k_tok_lbl.ft')]"
      ]
     },
     "execution_count": null,
     "metadata": {},
     "output_type": "execute_result"
    }
   ],
   "source": [
    "L(source.glob(\"**/*.ft\"))"
   ]
  },
  {
   "cell_type": "markdown",
   "id": "df8e5c61-8cd9-4611-ad82-f2449bb94d6b",
   "metadata": {},
   "source": [
    "## Statistical Analysis"
   ]
  },
  {
   "cell_type": "code",
   "execution_count": null,
   "id": "f851bd31-4a56-4e36-a537-31399294c017",
   "metadata": {},
   "outputs": [],
   "source": [
    "#| eval: false\n",
    "df_l2r = pd.read_feather(source/'mimic3-9k_tok_lbl.ft')\n",
    "test_eq(df_l2r.dtypes.mutual_info, np.float32)"
   ]
  },
  {
   "cell_type": "code",
   "execution_count": null,
   "id": "7492acac-37c7-4952-b3d4-9de1b74d8cb9",
   "metadata": {},
   "outputs": [
    {
     "data": {
      "text/html": [
       "<div>\n",
       "<style scoped>\n",
       "    .dataframe tbody tr th:only-of-type {\n",
       "        vertical-align: middle;\n",
       "    }\n",
       "\n",
       "    .dataframe tbody tr th {\n",
       "        vertical-align: top;\n",
       "    }\n",
       "\n",
       "    .dataframe thead th {\n",
       "        text-align: right;\n",
       "    }\n",
       "</style>\n",
       "<table border=\"1\" class=\"dataframe\">\n",
       "  <thead>\n",
       "    <tr style=\"text-align: right;\">\n",
       "      <th></th>\n",
       "      <th>token</th>\n",
       "      <th>label</th>\n",
       "      <th>mutual_info</th>\n",
       "      <th>rank</th>\n",
       "      <th>bcx_mutual_info</th>\n",
       "    </tr>\n",
       "  </thead>\n",
       "  <tbody>\n",
       "    <tr>\n",
       "      <th>0</th>\n",
       "      <td>0</td>\n",
       "      <td>0</td>\n",
       "      <td>0.000022</td>\n",
       "      <td>866.0</td>\n",
       "      <td>-6.530356</td>\n",
       "    </tr>\n",
       "    <tr>\n",
       "      <th>1</th>\n",
       "      <td>0</td>\n",
       "      <td>1</td>\n",
       "      <td>0.000011</td>\n",
       "      <td>1022.0</td>\n",
       "      <td>-6.753679</td>\n",
       "    </tr>\n",
       "    <tr>\n",
       "      <th>2</th>\n",
       "      <td>0</td>\n",
       "      <td>2</td>\n",
       "      <td>0.000022</td>\n",
       "      <td>1156.0</td>\n",
       "      <td>-6.530356</td>\n",
       "    </tr>\n",
       "  </tbody>\n",
       "</table>\n",
       "</div>"
      ],
      "text/plain": [
       "   token  label  mutual_info    rank  bcx_mutual_info\n",
       "0      0      0     0.000022   866.0        -6.530356\n",
       "1      0      1     0.000011  1022.0        -6.753679\n",
       "2      0      2     0.000022  1156.0        -6.530356"
      ]
     },
     "execution_count": null,
     "metadata": {},
     "output_type": "execute_result"
    }
   ],
   "source": [
    "df_l2r.head(3)"
   ]
  },
  {
   "cell_type": "markdown",
   "id": "ff35265b-d65c-4293-ad7c-7ff3fec82f9e",
   "metadata": {},
   "source": [
    "If you loaded the pregenerated `df_l2r` then you will see the column \"bcx_mutual_info\". It is a box-cox transformation of the \"mutual-info\". In this section we'll justify that transformation. So let's perform some statistical analysis of that `mutual_info` column before we build the `L2RDataLoader` in the next section."
   ]
  },
  {
   "cell_type": "code",
   "execution_count": null,
   "id": "f9ea16e4-c03c-4bee-a005-5bf02e15c902",
   "metadata": {},
   "outputs": [],
   "source": [
    "# import gc; gc.collect()\n",
    "# df_l2r.info()\n",
    "# ic(df_l2r.memory_usage().sum()/1024**3)\n",
    "# ic(sys.getsizeof(df_l2r)/1024**3);\n",
    "# df_collab.token.nunique()"
   ]
  },
  {
   "cell_type": "code",
   "execution_count": null,
   "id": "06b1e6d3-1d9e-4ba6-a311-3a7fda646896",
   "metadata": {},
   "outputs": [],
   "source": [
    "mut_infos = df_l2r['mutual_info'].to_numpy()"
   ]
  },
  {
   "cell_type": "code",
   "execution_count": null,
   "id": "69637d68-eeeb-4976-aa0c-23bc5e09479f",
   "metadata": {},
   "outputs": [
    {
     "data": {
      "text/plain": [
       "(-6.852321e-05, 0.99999636, 7.175153e-05)"
      ]
     },
     "execution_count": null,
     "metadata": {},
     "output_type": "execute_result"
    }
   ],
   "source": [
    "mut_infos.min(), mut_infos.max(), mut_infos.mean()"
   ]
  },
  {
   "cell_type": "code",
   "execution_count": null,
   "id": "b72b9869-841f-4b84-ad3b-2d4dbec36f0f",
   "metadata": {},
   "outputs": [
    {
     "name": "stdout",
     "output_type": "stream",
     "text": [
      "CPU times: user 2.31 s, sys: 940 ms, total: 3.25 s\n",
      "Wall time: 3.25 s\n"
     ]
    },
    {
     "data": {
      "text/plain": [
       "142.75660007849734"
      ]
     },
     "execution_count": null,
     "metadata": {},
     "output_type": "execute_result"
    }
   ],
   "source": [
    "%%time\n",
    "skew(mut_infos)"
   ]
  },
  {
   "cell_type": "markdown",
   "id": "f2ba4636-48af-49af-8932-2bd2d1dfc84c",
   "metadata": {},
   "source": [
    "The mutual-info values are incredibly skewed. So we need to apply some transformation. Sometimes `mut_infos` might contain negs, we need to convert those to eps."
   ]
  },
  {
   "cell_type": "code",
   "execution_count": null,
   "id": "82fc5dee-26ff-4ff5-b23e-a877faf23860",
   "metadata": {},
   "outputs": [
    {
     "name": "stderr",
     "output_type": "stream",
     "text": [
      "ic| np.sum(where_negs): 111226814\n",
      "ic| np.min(mut_infos): 0.0\n",
      "    np.max(mut_infos): 0.99999636\n",
      "    np.mean(mut_infos): 7.697003e-05\n"
     ]
    }
   ],
   "source": [
    "# np.where(mut_infos<0, 1, 0).sum() # or, better yet\n",
    "where_negs = mut_infos < 0\n",
    "ic(np.sum(where_negs))\n",
    "eps = np.float32(1e-20)\n",
    "mut_infos[where_negs] = eps\n",
    "test_eq(np.sum(mut_infos<0), 0)\n",
    "ic(np.min(mut_infos), np.max(mut_infos), np.mean(mut_infos));"
   ]
  },
  {
   "cell_type": "code",
   "execution_count": null,
   "id": "79078145-b16f-4ebe-8cc4-3f2661e6e3e2",
   "metadata": {},
   "outputs": [
    {
     "data": {
      "image/png": "[encoded data removed]",
      "text/plain": [
       "<Figure size 640x480 with 1 Axes>"
      ]
     },
     "metadata": {},
     "output_type": "display_data"
    }
   ],
   "source": [
    "hist, bins, _ = plt.hist(mut_infos, bins=50)\n",
    "# plt.yscale('log')"
   ]
  },
  {
   "cell_type": "markdown",
   "id": "6b6faa68-092f-43f5-9ef5-789f89f3812f",
   "metadata": {},
   "source": [
    "**Applying log transform:**"
   ]
  },
  {
   "cell_type": "code",
   "execution_count": null,
   "id": "1d57c44a-86a5-47e5-8fe5-604f66ded5df",
   "metadata": {},
   "outputs": [],
   "source": [
    "log_mut_infos = np.log(mut_infos + eps)"
   ]
  },
  {
   "cell_type": "code",
   "execution_count": null,
   "id": "353df9c8-f6dd-4dcf-a6a0-d00887d25eda",
   "metadata": {},
   "outputs": [
    {
     "data": {
      "text/plain": [
       "(0, 0, 0)"
      ]
     },
     "execution_count": null,
     "metadata": {},
     "output_type": "execute_result"
    }
   ],
   "source": [
    "np.isnan(log_mut_infos).sum(), np.isneginf(log_mut_infos).sum(), np.isinf(log_mut_infos).sum()"
   ]
  },
  {
   "cell_type": "code",
   "execution_count": null,
   "id": "94dd795e-95ae-42e1-a995-c16ffd1b5d0c",
   "metadata": {},
   "outputs": [
    {
     "name": "stdout",
     "output_type": "stream",
     "text": [
      "CPU times: user 2.37 s, sys: 900 ms, total: 3.27 s\n",
      "Wall time: 3.27 s\n"
     ]
    },
    {
     "data": {
      "text/plain": [
       "-1.3383214188674972"
      ]
     },
     "execution_count": null,
     "metadata": {},
     "output_type": "execute_result"
    }
   ],
   "source": [
    "%time skew(log_mut_infos)"
   ]
  },
  {
   "cell_type": "markdown",
   "id": "44bfc376-1324-425c-b165-a18ee3569cbf",
   "metadata": {},
   "source": [
    "A little better skewness than before!"
   ]
  },
  {
   "cell_type": "code",
   "execution_count": null,
   "id": "09f112b0-3eb5-45ae-8590-bb8a7ff6d8f3",
   "metadata": {},
   "outputs": [
    {
     "data": {
      "image/png": "[encoded data removed]",
      "text/plain": [
       "<Figure size 640x480 with 1 Axes>"
      ]
     },
     "metadata": {},
     "output_type": "display_data"
    }
   ],
   "source": [
    "hist, bins, _ = plt.hist(log_mut_infos, bins=50,)"
   ]
  },
  {
   "cell_type": "markdown",
   "id": "8c711dfb-a826-4128-82c8-38f9a4fc63e1",
   "metadata": {},
   "source": [
    "**Applying sqrt transform:**"
   ]
  },
  {
   "cell_type": "code",
   "execution_count": null,
   "id": "87a3976b-bcc4-4428-84ba-ea8f17e48318",
   "metadata": {},
   "outputs": [],
   "source": [
    "sqrt_mut_infos = np.sqrt(mut_infos)"
   ]
  },
  {
   "cell_type": "code",
   "execution_count": null,
   "id": "ace595e8-365c-451e-8590-f367a87b5c22",
   "metadata": {},
   "outputs": [
    {
     "data": {
      "text/plain": [
       "(0, 0, 0)"
      ]
     },
     "execution_count": null,
     "metadata": {},
     "output_type": "execute_result"
    }
   ],
   "source": [
    "np.isnan(sqrt_mut_infos).sum(), np.isinf(sqrt_mut_infos).sum(), np.isneginf(sqrt_mut_infos).sum()"
   ]
  },
  {
   "cell_type": "code",
   "execution_count": null,
   "id": "c31d6551-876b-4846-bedf-a34d41e09660",
   "metadata": {},
   "outputs": [
    {
     "name": "stdout",
     "output_type": "stream",
     "text": [
      "CPU times: user 2.28 s, sys: 1.19 s, total: 3.47 s\n",
      "Wall time: 3.47 s\n"
     ]
    },
    {
     "data": {
      "text/plain": [
       "16.40865608826817"
      ]
     },
     "execution_count": null,
     "metadata": {},
     "output_type": "execute_result"
    }
   ],
   "source": [
    "%time skew(sqrt_mut_infos)"
   ]
  },
  {
   "cell_type": "markdown",
   "id": "18750bdc-4806-4330-8aaf-8db703868953",
   "metadata": {},
   "source": [
    "Worse than log transform!"
   ]
  },
  {
   "cell_type": "code",
   "execution_count": null,
   "id": "2f977fa6-d197-4838-b135-5cd45bb9c6d1",
   "metadata": {},
   "outputs": [
    {
     "data": {
      "image/png": "[encoded data removed]",
      "text/plain": [
       "<Figure size 640x480 with 1 Axes>"
      ]
     },
     "metadata": {},
     "output_type": "display_data"
    }
   ],
   "source": [
    "hist, bins, _ = plt.hist(sqrt_mut_infos, bins=50)"
   ]
  },
  {
   "cell_type": "markdown",
   "id": "170762c1-7839-45ac-8e39-573ff29efd05",
   "metadata": {},
   "source": [
    "**Apply box-cox transfrom:**"
   ]
  },
  {
   "cell_type": "code",
   "execution_count": null,
   "id": "8d6a39ff-7560-445d-8fb8-47f59ea3510c",
   "metadata": {},
   "outputs": [
    {
     "name": "stderr",
     "output_type": "stream",
     "text": [
      "/home/deb/miniconda3/envs/deep/lib/python3.10/site-packages/scipy/stats/_morestats.py:933: RuntimeWarning: overflow encountered in power\n",
      "  variance = np.var(data**lmb / lmb, axis=0)\n",
      "/home/deb/miniconda3/envs/deep/lib/python3.10/site-packages/numpy/core/_methods.py:233: RuntimeWarning: invalid value encountered in subtract\n",
      "  x = asanyarray(arr - arrmean)\n"
     ]
    }
   ],
   "source": [
    "bcx_mut_infos, *_ = boxcox(mut_infos+eps)"
   ]
  },
  {
   "cell_type": "code",
   "execution_count": null,
   "id": "4f2154ec-607f-4ae6-b66a-f1464cc0aab3",
   "metadata": {},
   "outputs": [
    {
     "data": {
      "text/plain": [
       "(0, 0, 0)"
      ]
     },
     "execution_count": null,
     "metadata": {},
     "output_type": "execute_result"
    }
   ],
   "source": [
    "np.isnan(bcx_mut_infos).sum(), np.isinf(bcx_mut_infos).sum(), np.isneginf(bcx_mut_infos).sum()"
   ]
  },
  {
   "cell_type": "code",
   "execution_count": null,
   "id": "514afd2e-baa1-4b7f-9b2a-245724e00924",
   "metadata": {},
   "outputs": [
    {
     "name": "stdout",
     "output_type": "stream",
     "text": [
      "CPU times: user 2.43 s, sys: 830 ms, total: 3.26 s\n",
      "Wall time: 3.26 s\n"
     ]
    },
    {
     "data": {
      "text/plain": [
       "-0.885981418331696"
      ]
     },
     "execution_count": null,
     "metadata": {},
     "output_type": "execute_result"
    }
   ],
   "source": [
    "%time skew(bcx_mut_infos)"
   ]
  },
  {
   "cell_type": "markdown",
   "id": "be9aa969-ae69-4a91-b3ba-2b0c7e31a7f5",
   "metadata": {},
   "source": [
    "This is the best skew so we'll go with boxcox."
   ]
  },
  {
   "cell_type": "code",
   "execution_count": null,
   "id": "56efcffe-dde6-44db-a9fc-420bbe909b46",
   "metadata": {},
   "outputs": [],
   "source": [
    "df_l2r['bcx_mutual_info'] = bcx_mut_infos"
   ]
  },
  {
   "cell_type": "code",
   "execution_count": null,
   "id": "fd640f46-f7d4-41e2-867f-3dbd89d4a7ad",
   "metadata": {},
   "outputs": [
    {
     "data": {
      "image/png": "[encoded data removed]",
      "text/plain": [
       "<Figure size 640x480 with 1 Axes>"
      ]
     },
     "metadata": {},
     "output_type": "display_data"
    }
   ],
   "source": [
    "#| eval: false\n",
    "hist, bins, _ = plt.hist(bcx_mut_infos, bins=50)"
   ]
  },
  {
   "cell_type": "code",
   "execution_count": null,
   "id": "b6696f8e-f7d9-4f1f-89a1-5497e2f09559",
   "metadata": {},
   "outputs": [
    {
     "data": {
      "text/plain": [
       "(-9.734209, -3.6358892e-06, -7.381837, -6.9605794)"
      ]
     },
     "execution_count": null,
     "metadata": {},
     "output_type": "execute_result"
    }
   ],
   "source": [
    "#| eval: false\n",
    "np.min(bcx_mut_infos), np.max(bcx_mut_infos), np.mean(bcx_mut_infos), np.median(bcx_mut_infos)"
   ]
  },
  {
   "cell_type": "code",
   "execution_count": null,
   "id": "b46b4204-0109-4ccf-b37d-147ef65ede6f",
   "metadata": {},
   "outputs": [],
   "source": [
    "# from IPython.display import clear_output\n",
    "\n",
    "# clear_output(wait=True)\n",
    "\n",
    "# from tqdm import tqdm\n",
    "# from time import sleep\n",
    "# import psutil\n",
    "\n",
    "# with tqdm(total=100, desc='cpu%', position=1) as cpubar, tqdm(total=100, desc='ram%', position=0) as rambar:\n",
    "#     while True:\n",
    "#         rambar.n=psutil.virtual_memory().percent\n",
    "#         cpubar.n=psutil.cpu_percent()\n",
    "#         rambar.refresh()\n",
    "#         cpubar.refresh()\n",
    "#         sleep(0.5)\n",
    "#         clear_output(wait=True)"
   ]
  },
  {
   "cell_type": "markdown",
   "id": "3ede15bd-422e-4e92-a8f7-45a9480832f6",
   "metadata": {},
   "source": [
    "Box plots using matplotlib"
   ]
  },
  {
   "cell_type": "code",
   "execution_count": null,
   "id": "a663d859-53c1-4d60-9a53-fe57fda8ffe7",
   "metadata": {},
   "outputs": [
    {
     "data": {
      "image/png": "[encoded data removed]",
      "text/plain": [
       "<Figure size 1200x500 with 4 Axes>"
      ]
     },
     "metadata": {},
     "output_type": "display_data"
    },
    {
     "name": "stdout",
     "output_type": "stream",
     "text": [
      "CPU times: user 1min 35s, sys: 9.16 s, total: 1min 44s\n",
      "Wall time: 1min 44s\n"
     ]
    }
   ],
   "source": [
    "#| eval: false\n",
    "%%time\n",
    "fig, (ax1, ax2) = plt.subplots(1, 2, figsize=(12, 5))\n",
    "ax1 = fig.add_subplot(1, 2, 1)\n",
    "ax2 = fig.add_subplot(1, 2, 2)\n",
    "\n",
    "ax1.boxplot(mut_infos, vert=0, notch=True, patch_artist=True)\n",
    "ax1.set_xscale('log')\n",
    "ax1.set_xlabel('Mutual Information')\n",
    "\n",
    "ax2.boxplot(bcx_mut_infos, vert=0, notch=True, patch_artist=True)\n",
    "# ax2.set_xscale('symlog')\n",
    "ax2.set_xlabel('Box-Cox Mutual Information')\n",
    "\n",
    "plt.show()"
   ]
  },
  {
   "cell_type": "markdown",
   "id": "4baa4e24-53b1-43c4-ac33-80baadb270ec",
   "metadata": {},
   "source": [
    "Histograms and kde using matplotlib:"
   ]
  },
  {
   "cell_type": "code",
   "execution_count": null,
   "id": "5237212a-21ff-40ff-a0f9-5fc3270420ae",
   "metadata": {},
   "outputs": [
    {
     "data": {
      "image/png": "[encoded data removed]",
      "text/plain": [
       "<Figure size 1200x500 with 2 Axes>"
      ]
     },
     "metadata": {},
     "output_type": "display_data"
    }
   ],
   "source": [
    "#| eval: false\n",
    "fig, (ax1, ax2) = plt.subplots(1, 2, figsize=(12, 5))\n",
    "\n",
    "# hist, bins, pathches = ax1.hist(df_l2r['mutual_info'])\n",
    "hist, bins, pathches = ax1.hist(mut_infos)\n",
    "ax1.set_xlabel('Mutual Information')\n",
    "ax1.set_ylabel('frequency')\n",
    "ax1.grid(axis='y', color='black')\n",
    "ax1.set_yscale('log')\n",
    "\n",
    "# ax2.hist(df_l2r['bcx_mutual_info'])\n",
    "ax2.hist(bcx_mut_infos)\n",
    "ax2.set_xlabel('Boxcox Mutual Information')\n",
    "ax2.set_ylabel('frequency')\n",
    "ax2.grid(axis='y', color='black')\n",
    "ax2.set_yscale('log')\n",
    "\n",
    "fig.suptitle('Histograms of with and without BoxCox of Mutual Information')\n",
    "plt.show()"
   ]
  },
  {
   "cell_type": "code",
   "execution_count": null,
   "id": "197837b6-6e3e-4bee-a92c-463e2c81e567",
   "metadata": {},
   "outputs": [
    {
     "data": {
      "text/html": [
       "<div>\n",
       "<style scoped>\n",
       "    .dataframe tbody tr th:only-of-type {\n",
       "        vertical-align: middle;\n",
       "    }\n",
       "\n",
       "    .dataframe tbody tr th {\n",
       "        vertical-align: top;\n",
       "    }\n",
       "\n",
       "    .dataframe thead th {\n",
       "        text-align: right;\n",
       "    }\n",
       "</style>\n",
       "<table border=\"1\" class=\"dataframe\">\n",
       "  <thead>\n",
       "    <tr style=\"text-align: right;\">\n",
       "      <th></th>\n",
       "      <th>mut_infos bdrs</th>\n",
       "      <th>counts</th>\n",
       "    </tr>\n",
       "  </thead>\n",
       "  <tbody>\n",
       "    <tr>\n",
       "      <th>0</th>\n",
       "      <td>[0.0, 0.09999963641166687]</td>\n",
       "      <td>511675599.0</td>\n",
       "    </tr>\n",
       "    <tr>\n",
       "      <th>1</th>\n",
       "      <td>[0.09999963641166687, 0.19999927282333374]</td>\n",
       "      <td>14848.0</td>\n",
       "    </tr>\n",
       "    <tr>\n",
       "      <th>2</th>\n",
       "      <td>[0.19999927282333374, 0.2999989092350006]</td>\n",
       "      <td>3323.0</td>\n",
       "    </tr>\n",
       "    <tr>\n",
       "      <th>3</th>\n",
       "      <td>[0.2999989092350006, 0.3999985456466675]</td>\n",
       "      <td>191.0</td>\n",
       "    </tr>\n",
       "    <tr>\n",
       "      <th>4</th>\n",
       "      <td>[0.3999985456466675, 0.49999818205833435]</td>\n",
       "      <td>454.0</td>\n",
       "    </tr>\n",
       "    <tr>\n",
       "      <th>5</th>\n",
       "      <td>[0.49999818205833435, 0.5999978184700012]</td>\n",
       "      <td>30.0</td>\n",
       "    </tr>\n",
       "    <tr>\n",
       "      <th>6</th>\n",
       "      <td>[0.5999978184700012, 0.6999974250793457]</td>\n",
       "      <td>5.0</td>\n",
       "    </tr>\n",
       "    <tr>\n",
       "      <th>7</th>\n",
       "      <td>[0.6999974250793457, 0.799997091293335]</td>\n",
       "      <td>0.0</td>\n",
       "    </tr>\n",
       "    <tr>\n",
       "      <th>8</th>\n",
       "      <td>[0.799997091293335, 0.8999967575073242]</td>\n",
       "      <td>0.0</td>\n",
       "    </tr>\n",
       "    <tr>\n",
       "      <th>9</th>\n",
       "      <td>[0.8999967575073242, 0.9999963641166687]</td>\n",
       "      <td>94.0</td>\n",
       "    </tr>\n",
       "  </tbody>\n",
       "</table>\n",
       "</div>"
      ],
      "text/plain": [
       "                               mut_infos bdrs       counts\n",
       "0                  [0.0, 0.09999963641166687]  511675599.0\n",
       "1  [0.09999963641166687, 0.19999927282333374]      14848.0\n",
       "2   [0.19999927282333374, 0.2999989092350006]       3323.0\n",
       "3    [0.2999989092350006, 0.3999985456466675]        191.0\n",
       "4   [0.3999985456466675, 0.49999818205833435]        454.0\n",
       "5   [0.49999818205833435, 0.5999978184700012]         30.0\n",
       "6    [0.5999978184700012, 0.6999974250793457]          5.0\n",
       "7     [0.6999974250793457, 0.799997091293335]          0.0\n",
       "8     [0.799997091293335, 0.8999967575073242]          0.0\n",
       "9    [0.8999967575073242, 0.9999963641166687]         94.0"
      ]
     },
     "execution_count": null,
     "metadata": {},
     "output_type": "execute_result"
    }
   ],
   "source": [
    "#| eval:false\n",
    "bdrs = [bins[i:i+2] for i in range(0, len(bins)-1)]\n",
    "pd.DataFrame({'mut_infos bdrs': bdrs, 'counts': hist})"
   ]
  },
  {
   "cell_type": "code",
   "execution_count": null,
   "id": "76920535-91bd-4dac-8c5b-7878b640c227",
   "metadata": {},
   "outputs": [],
   "source": [
    "# from scipy.stats import gaussian_kde\n",
    "# density = gaussian_kde(df_l2r['mutual_info'])\n",
    "# xs = np.linspace(0, 1, 200)\n",
    "# density.covariance_factor = lambda : .25\n",
    "# density._compute_covariance()\n",
    "# plt.plot(xs, density(xs))\n",
    "# plt.show()"
   ]
  },
  {
   "cell_type": "markdown",
   "id": "719e2f38-bbb6-4a17-a5f3-97e79bc68c2d",
   "metadata": {},
   "source": [
    "We can now build the `Dataloaders` object from this dataframe `df_collab`, by defaultit takes the first column as the user (in our case the token) and the second column as the item (in our case the label), and the third column as the ratings (in our case the frequency):"
   ]
  },
  {
   "cell_type": "markdown",
   "id": "b1b2b499-7ee9-4fd5-9070-0ce6a419507d",
   "metadata": {},
   "source": [
    "## Build `L2RDataloader` "
   ]
  },
  {
   "cell_type": "markdown",
   "id": "480117ba-1933-4f56-bf0a-9929013c5fa1",
   "metadata": {},
   "source": [
    "In this section we'll build `L2RDataLoader` for [Learning to Rank (L2R)](https://www.microsoft.com/en-us/research/wp-content/uploads/2016/02/MSR-TR-2010-82.pdf)"
   ]
  },
  {
   "cell_type": "code",
   "execution_count": null,
   "id": "34f6cb58-1a48-49c1-a3a2-1e5ce46f2de4",
   "metadata": {},
   "outputs": [],
   "source": [
    "#| eval: false\n",
    "df_l2r = pd.read_feather(source/'mimic3-9k_tok_lbl.ft')"
   ]
  },
  {
   "cell_type": "code",
   "execution_count": null,
   "id": "9ab9f517-27c3-4990-a644-ff7483cc1d02",
   "metadata": {},
   "outputs": [
    {
     "data": {
      "text/html": [
       "<div>\n",
       "<style scoped>\n",
       "    .dataframe tbody tr th:only-of-type {\n",
       "        vertical-align: middle;\n",
       "    }\n",
       "\n",
       "    .dataframe tbody tr th {\n",
       "        vertical-align: top;\n",
       "    }\n",
       "\n",
       "    .dataframe thead th {\n",
       "        text-align: right;\n",
       "    }\n",
       "</style>\n",
       "<table border=\"1\" class=\"dataframe\">\n",
       "  <thead>\n",
       "    <tr style=\"text-align: right;\">\n",
       "      <th></th>\n",
       "      <th>token</th>\n",
       "      <th>label</th>\n",
       "      <th>rank</th>\n",
       "    </tr>\n",
       "  </thead>\n",
       "  <tbody>\n",
       "    <tr>\n",
       "      <th>0</th>\n",
       "      <td>0</td>\n",
       "      <td>0</td>\n",
       "      <td>866.0</td>\n",
       "    </tr>\n",
       "    <tr>\n",
       "      <th>1</th>\n",
       "      <td>0</td>\n",
       "      <td>1</td>\n",
       "      <td>1022.0</td>\n",
       "    </tr>\n",
       "    <tr>\n",
       "      <th>2</th>\n",
       "      <td>0</td>\n",
       "      <td>2</td>\n",
       "      <td>1156.0</td>\n",
       "    </tr>\n",
       "  </tbody>\n",
       "</table>\n",
       "</div>"
      ],
      "text/plain": [
       "   token  label    rank\n",
       "0      0      0   866.0\n",
       "1      0      1  1022.0\n",
       "2      0      2  1156.0"
      ]
     },
     "execution_count": null,
     "metadata": {},
     "output_type": "execute_result"
    }
   ],
   "source": [
    "df_l2r = df_l2r.drop(['mutual_info', 'bcx_mutual_info'], axis=1)\n",
    "df_l2r.token.nunique(), df_l2r.label.nunique()\n",
    "df_l2r.head(3)"
   ]
  },
  {
   "cell_type": "markdown",
   "id": "e839c71e-8e37-430d-91a3-2b5e0ee59bff",
   "metadata": {},
   "source": [
    "**`df_tiny`**: If we need a smaller dataset for quick iterations\n",
    "\n",
    "Note: For technical reasons behind building a `L2RDataloader` the number of tokens should be $x (mod 64) \\equiv 8$."
   ]
  },
  {
   "cell_type": "code",
   "execution_count": null,
   "id": "74270936-6e31-4136-8544-54cd300a8d16",
   "metadata": {},
   "outputs": [],
   "source": [
    "num_toks, num_lbs = 8 + 5*64, 104"
   ]
  },
  {
   "cell_type": "code",
   "execution_count": null,
   "id": "e953f105-a959-4ad4-9c64-3f2dbbf433af",
   "metadata": {},
   "outputs": [],
   "source": [
    "# might have to repeat this a few times until the cell asserst true\n",
    "np.random.seed(101)\n",
    "rnd_toks = np.random.randint(0, len(df_l2r.token.unique()), size=(num_toks,) )\n",
    "np.random.seed(101)\n",
    "rnd_lbs = np.random.randint(0, len(df_l2r.label.unique()), size=(num_lbs,) )\n",
    "mask = df_l2r.token.isin(rnd_toks) & df_l2r.label.isin(rnd_lbs)\n",
    "df_tiny = df_l2r[mask].reset_index(drop=True)\n",
    "test_eq(df_tiny.token.nunique(), num_toks) \n",
    "test_eq(df_tiny.label.nunique(), num_lbs) \n",
    "# df_tiny.apply(lambda x: x.nunique())"
   ]
  },
  {
   "cell_type": "code",
   "execution_count": null,
   "id": "4e492de0-8ddd-423a-aafb-301ba954b13b",
   "metadata": {},
   "outputs": [
    {
     "data": {
      "text/html": [
       "<div>\n",
       "<style scoped>\n",
       "    .dataframe tbody tr th:only-of-type {\n",
       "        vertical-align: middle;\n",
       "    }\n",
       "\n",
       "    .dataframe tbody tr th {\n",
       "        vertical-align: top;\n",
       "    }\n",
       "\n",
       "    .dataframe thead th {\n",
       "        text-align: right;\n",
       "    }\n",
       "</style>\n",
       "<table border=\"1\" class=\"dataframe\">\n",
       "  <thead>\n",
       "    <tr style=\"text-align: right;\">\n",
       "      <th></th>\n",
       "      <th>token</th>\n",
       "      <th>label</th>\n",
       "      <th>rank</th>\n",
       "    </tr>\n",
       "  </thead>\n",
       "  <tbody>\n",
       "    <tr>\n",
       "      <th>0</th>\n",
       "      <td>22</td>\n",
       "      <td>49</td>\n",
       "      <td>1877.0</td>\n",
       "    </tr>\n",
       "    <tr>\n",
       "      <th>1</th>\n",
       "      <td>22</td>\n",
       "      <td>239</td>\n",
       "      <td>21308.0</td>\n",
       "    </tr>\n",
       "    <tr>\n",
       "      <th>2</th>\n",
       "      <td>22</td>\n",
       "      <td>394</td>\n",
       "      <td>39854.0</td>\n",
       "    </tr>\n",
       "    <tr>\n",
       "      <th>3</th>\n",
       "      <td>22</td>\n",
       "      <td>436</td>\n",
       "      <td>8618.0</td>\n",
       "    </tr>\n",
       "    <tr>\n",
       "      <th>4</th>\n",
       "      <td>22</td>\n",
       "      <td>561</td>\n",
       "      <td>1646.0</td>\n",
       "    </tr>\n",
       "  </tbody>\n",
       "</table>\n",
       "</div>"
      ],
      "text/plain": [
       "   token  label     rank\n",
       "0     22     49   1877.0\n",
       "1     22    239  21308.0\n",
       "2     22    394  39854.0\n",
       "3     22    436   8618.0\n",
       "4     22    561   1646.0"
      ]
     },
     "execution_count": null,
     "metadata": {},
     "output_type": "execute_result"
    }
   ],
   "source": [
    "df_tiny.head()"
   ]
  },
  {
   "cell_type": "markdown",
   "id": "d946375e-1cfb-4b6b-a26d-983e398b66dc",
   "metadata": {},
   "source": [
    "Let's just delete the `df_l2r` to free up RAM:"
   ]
  },
  {
   "cell_type": "code",
   "execution_count": null,
   "id": "eed7e13c-0c14-45e3-aae8-7d8fa7bba6f0",
   "metadata": {},
   "outputs": [],
   "source": [
    "# df_l2r = pd.DataFrame()\n",
    "# lst = [df_l2r]\n",
    "# del lst\n",
    "# del df_l2r\n",
    "# import gc; gc.collect()"
   ]
  },
  {
   "cell_type": "markdown",
   "id": "b28fe0a7-7c34-4f2c-bfc9-d6a8df861da8",
   "metadata": {},
   "source": [
    "**Only for `df_tiny`**:\n",
    "\n",
    "Due to random sampling the rankings are not uniform i.e., not from 0 to `num_toks`. A litte preprocessing to make sure that we have uniform rankings for all labels. "
   ]
  },
  {
   "cell_type": "code",
   "execution_count": null,
   "id": "a204ef0c-5417-4fce-a634-5e8eeeccad98",
   "metadata": {},
   "outputs": [],
   "source": [
    "grouped = df_tiny.groupby('label', group_keys=False)"
   ]
  },
  {
   "cell_type": "code",
   "execution_count": null,
   "id": "eef6dd9c-6748-40b2-9f44-aaa28301a81b",
   "metadata": {},
   "outputs": [],
   "source": [
    "def sort_rerank(df, column='rank'):\n",
    "    df = df.sort_values(by=column)\n",
    "    df['rank'] = range(len(df))\n",
    "    return df"
   ]
  },
  {
   "cell_type": "code",
   "execution_count": null,
   "id": "d90c6aed-0c97-494c-8dc9-b8e48826c87c",
   "metadata": {},
   "outputs": [],
   "source": [
    "df_tiny = grouped.apply(sort_rerank)\n",
    "dict_grouped = dict(list(df_tiny.groupby('label')))\n",
    "# checking a random label has ranks 0 thru `num_toks`\n",
    "a_lbl = random.choice(list(dict_grouped.keys()))\n",
    "test_eq(range(num_toks), dict_grouped[a_lbl]['rank'].values)"
   ]
  },
  {
   "cell_type": "code",
   "execution_count": null,
   "id": "a566e771-9e4e-4f5d-81b0-8f421dcf4dbd",
   "metadata": {},
   "outputs": [
    {
     "data": {
      "text/html": [
       "<div>\n",
       "<style scoped>\n",
       "    .dataframe tbody tr th:only-of-type {\n",
       "        vertical-align: middle;\n",
       "    }\n",
       "\n",
       "    .dataframe tbody tr th {\n",
       "        vertical-align: top;\n",
       "    }\n",
       "\n",
       "    .dataframe thead th {\n",
       "        text-align: right;\n",
       "    }\n",
       "</style>\n",
       "<table border=\"1\" class=\"dataframe\">\n",
       "  <thead>\n",
       "    <tr style=\"text-align: right;\">\n",
       "      <th></th>\n",
       "      <th>token</th>\n",
       "      <th>label</th>\n",
       "      <th>rank</th>\n",
       "    </tr>\n",
       "  </thead>\n",
       "  <tbody>\n",
       "    <tr>\n",
       "      <th>11896</th>\n",
       "      <td>21311</td>\n",
       "      <td>3182</td>\n",
       "      <td>0</td>\n",
       "    </tr>\n",
       "    <tr>\n",
       "      <th>25520</th>\n",
       "      <td>43543</td>\n",
       "      <td>3182</td>\n",
       "      <td>1</td>\n",
       "    </tr>\n",
       "    <tr>\n",
       "      <th>19488</th>\n",
       "      <td>36047</td>\n",
       "      <td>3182</td>\n",
       "      <td>2</td>\n",
       "    </tr>\n",
       "    <tr>\n",
       "      <th>10960</th>\n",
       "      <td>18491</td>\n",
       "      <td>3182</td>\n",
       "      <td>3</td>\n",
       "    </tr>\n",
       "    <tr>\n",
       "      <th>6592</th>\n",
       "      <td>11782</td>\n",
       "      <td>3182</td>\n",
       "      <td>4</td>\n",
       "    </tr>\n",
       "  </tbody>\n",
       "</table>\n",
       "</div>"
      ],
      "text/plain": [
       "       token  label  rank\n",
       "11896  21311   3182     0\n",
       "25520  43543   3182     1\n",
       "19488  36047   3182     2\n",
       "10960  18491   3182     3\n",
       "6592   11782   3182     4"
      ]
     },
     "execution_count": null,
     "metadata": {},
     "output_type": "execute_result"
    }
   ],
   "source": [
    "dict_grouped[a_lbl].head()"
   ]
  },
  {
   "cell_type": "markdown",
   "id": "48faa4c9-7182-4ca1-9435-f6d55089c79b",
   "metadata": {},
   "source": [
    "Using Pandas `groupby` to add quantized *relevance scores* to each token-label pair based on the corresponding ranks:"
   ]
  },
  {
   "cell_type": "code",
   "execution_count": null,
   "id": "a00071b3-00b1-4619-b53d-688f0727a8db",
   "metadata": {},
   "outputs": [],
   "source": [
    "grouped = df_tiny.groupby('label')"
   ]
  },
  {
   "cell_type": "code",
   "execution_count": null,
   "id": "2f113934-8854-4d27-9280-61ec9413ecc5",
   "metadata": {},
   "outputs": [],
   "source": [
    "# dict_grouped = dict(list(grouped))\n",
    "# _tmp = dict_grouped[16].copy()\n",
    "# _tmp.head()"
   ]
  },
  {
   "cell_type": "code",
   "execution_count": null,
   "id": "9794f044-e72c-4c89-9fc2-dd5158a2bf57",
   "metadata": {},
   "outputs": [],
   "source": [
    "def cut(df, qnts, column='rank'):\n",
    "    num = df.to_numpy()\n",
    "    bins = np.quantile(num[:, -1], qnts)\n",
    "    num[:, -1] = len(bins) - np.digitize(num[:, -1], bins)\n",
    "    # bins = np.quantile(df['rank'], qnts)\n",
    "    # df[column] = len(bins) - np.digitize(df['rank'], bins)\n",
    "    # df[column] = pd.qcut(df[column], qnts, labels=labels)\n",
    "    return num"
   ]
  },
  {
   "cell_type": "code",
   "execution_count": null,
   "id": "e08133b4-0397-48ea-b604-6b1bc186090e",
   "metadata": {},
   "outputs": [
    {
     "name": "stdout",
     "output_type": "stream",
     "text": [
      "11.7 ms ± 154 µs per loop (mean ± std. dev. of 15 runs, 50 loops each)\n"
     ]
    }
   ],
   "source": [
    "%%timeit -n 50 -r 15\n",
    "qnts = np.concatenate([array([0]), np.geomspace(1e-2, 1, 10)])\n",
    "scored = grouped.apply(cut, qnts) "
   ]
  },
  {
   "cell_type": "markdown",
   "id": "303eac1f-fc7f-4420-aef4-28d6d84be453",
   "metadata": {},
   "source": [
    "Pandas `groupby` was just to ellucidate how we do the scoring. It ain't all that good when dealing with big datasets. So in reality we are going to use tensorized implemnetation. Follow along:"
   ]
  },
  {
   "cell_type": "code",
   "execution_count": null,
   "id": "3d340d8b-241f-4551-ae92-7623f65e210a",
   "metadata": {},
   "outputs": [],
   "source": [
    "pdl = PreLoadTrans(df_tiny, device=torch.device('cpu'))"
   ]
  },
  {
   "cell_type": "markdown",
   "id": "abdeba64-1ba7-45a9-90ea-80dcd00ccb43",
   "metadata": {},
   "source": [
    "If interested please read sourcecode of [`PreLoadTrans.quantized_score`](10_l2r.data.load):"
   ]
  },
  {
   "cell_type": "code",
   "execution_count": null,
   "id": "22fc2838-93cb-4400-b119-e4d0d609f0e3",
   "metadata": {},
   "outputs": [
    {
     "name": "stdout",
     "output_type": "stream",
     "text": [
      "CPU times: user 1 µs, sys: 0 ns, total: 1 µs\n",
      "Wall time: 3.1 µs\n"
     ]
    },
    {
     "name": "stderr",
     "output_type": "stream",
     "text": [
      "/home/deb/xcube/xcube/l2r/data/load.py:56: UserWarning: torch.searchsorted(): input value tensor is non-contiguous, this will lower the performance due to extra data copy when converting non-contiguous tensor to contiguous, please use contiguous input value tensor if possible. This message will only appear once per program. (Triggered internally at /opt/conda/conda-bld/pytorch_1670525541990/work/aten/src/ATen/native/BucketizationUtils.h:33.)\n",
      "  relv_scores = bins.shape[0] - torch.searchsorted(bins.T, data[:, :, -1], right=False) # shape (8922, 57352)\n"
     ]
    }
   ],
   "source": [
    "# %%timeit -n 50 -r 15\n",
    "%time\n",
    "scored_toks = pdl.quantized_score()"
   ]
  },
  {
   "cell_type": "code",
   "execution_count": null,
   "id": "3a5eaf8d-212b-4ac8-962f-e0fae9ee8950",
   "metadata": {},
   "outputs": [],
   "source": [
    "test_eqs(scored_toks.shape, \n",
    "         (df_tiny.label.nunique(), df_tiny.token.nunique(), 4), \n",
    "         (pdl.num_lbs, pdl.num_toks, 4))"
   ]
  },
  {
   "cell_type": "markdown",
   "id": "9be0be51-5ee4-4895-b45c-c39981bbe386",
   "metadata": {},
   "source": [
    "Save if you want to! BTW `untar_xxx` has got the one for the full dataset:"
   ]
  },
  {
   "cell_type": "code",
   "execution_count": null,
   "id": "bf5ea9e8-adc0-4375-a87a-b08749b505ba",
   "metadata": {},
   "outputs": [
    {
     "data": {
      "text/plain": [
       "(#1) [Path('/home/deb/.xcube/data/mimic3_l2r/scored_tokens.pth')]"
      ]
     },
     "execution_count": null,
     "metadata": {},
     "output_type": "execute_result"
    }
   ],
   "source": [
    "L(source.glob(\"**/*scored*.pth\"))"
   ]
  },
  {
   "cell_type": "markdown",
   "id": "04ac7e45-0957-4904-9811-e7dcaa1cb53e",
   "metadata": {},
   "source": [
    "Create training and validation split:"
   ]
  },
  {
   "cell_type": "markdown",
   "id": "a7e07c50-c3e9-4f44-a147-5d68a443558c",
   "metadata": {},
   "source": [
    "**Remember**: In `scored_toks` dim 0: labels, dim 1: 4 tuple (token, label, rank, score). Below is an example:"
   ]
  },
  {
   "cell_type": "code",
   "execution_count": null,
   "id": "23f72833-c73a-4c24-bc8d-1d02c174003c",
   "metadata": {},
   "outputs": [
    {
     "name": "stderr",
     "output_type": "stream",
     "text": [
      "ic| tok: 41514.0, lbl: 8124.0, rank: 234.0, score: 4.0\n"
     ]
    }
   ],
   "source": [
    "tok, lbl, rank, score = L(scored_toks[97, 32], use_list=True).map(Tensor.item)\n",
    "ic(tok, lbl, rank, score);"
   ]
  },
  {
   "cell_type": "code",
   "execution_count": null,
   "id": "4984e8d3-852f-4935-92fa-15b4b3df4ea3",
   "metadata": {},
   "outputs": [
    {
     "data": {
      "text/html": [
       "<div>\n",
       "<style scoped>\n",
       "    .dataframe tbody tr th:only-of-type {\n",
       "        vertical-align: middle;\n",
       "    }\n",
       "\n",
       "    .dataframe tbody tr th {\n",
       "        vertical-align: top;\n",
       "    }\n",
       "\n",
       "    .dataframe thead th {\n",
       "        text-align: right;\n",
       "    }\n",
       "</style>\n",
       "<table border=\"1\" class=\"dataframe\">\n",
       "  <thead>\n",
       "    <tr style=\"text-align: right;\">\n",
       "      <th></th>\n",
       "      <th>token</th>\n",
       "      <th>label</th>\n",
       "      <th>rank</th>\n",
       "    </tr>\n",
       "  </thead>\n",
       "  <tbody>\n",
       "    <tr>\n",
       "      <th>23393</th>\n",
       "      <td>41514</td>\n",
       "      <td>8124</td>\n",
       "      <td>234</td>\n",
       "    </tr>\n",
       "  </tbody>\n",
       "</table>\n",
       "</div>"
      ],
      "text/plain": [
       "       token  label  rank\n",
       "23393  41514   8124   234"
      ]
     },
     "execution_count": null,
     "metadata": {},
     "output_type": "execute_result"
    }
   ],
   "source": [
    "df_tiny[(df_tiny.token == tok)  & (df_tiny.label == lbl)]"
   ]
  },
  {
   "cell_type": "markdown",
   "id": "27c122b8-9a4d-4672-b782-e173329c7e44",
   "metadata": {},
   "source": [
    "**Remember:** For each label the tokens are ranked 0 through `num_toks`"
   ]
  },
  {
   "cell_type": "code",
   "execution_count": null,
   "id": "80e9d519-683f-45b9-b0d6-62e5e53de67c",
   "metadata": {},
   "outputs": [],
   "source": [
    "ranks = scored_toks[:, :, 2].unique(dim=1).sort(-1).values\n",
    "ranks_shouldbe = torch.arange(scored_toks.shape[1], dtype=torch.float).expand(scored_toks.shape[0], -1)\n",
    "test_eq(ranks, ranks_shouldbe)"
   ]
  },
  {
   "cell_type": "markdown",
   "id": "692b20ce-f8bb-4b0b-b1b6-2daa06217949",
   "metadata": {},
   "source": [
    "**Remember:** For each label `quantized_score` scores the tokens on a log scale based on their ranks. The score scale is 1-101: 101 being the highest score (assigned to most relevant  token), and 1 is the lowest score (assigned to least relevant tokens)."
   ]
  },
  {
   "cell_type": "code",
   "execution_count": null,
   "id": "564d1b8a-3b5c-45aa-aa29-a081104b6566",
   "metadata": {},
   "outputs": [
    {
     "data": {
      "text/plain": [
       "tensor([  1.,   1.,   1.,   1.,   2.,   2.,   2.,   2.,   2.,   2.,   3.,   3.,\n",
       "          3.,   3.,   4.,   4.,   4.,   4.,   4.,   4.,   5.,   5.,   5.,   6.,\n",
       "          6.,   6.,   6.,   6.,   6.,   7.,   7.,   7.,   7.,   7.,   8.,   8.,\n",
       "          8.,   8.,   8.,   8.,   8.,   8.,   9.,   9.,   9.,   9.,   9.,   9.,\n",
       "         10.,  10.,  10.,  10.,  11.,  11.,  11.,  11.,  11.,  11.,  12.,  12.,\n",
       "         12.,  12.,  12.,  13.,  13.,  13.,  13.,  13.,  13.,  14.,  14.,  14.,\n",
       "         14.,  15.,  15.,  15.,  16.,  16.,  16.,  17.,  17.,  17.,  17.,  17.,\n",
       "         18.,  18.,  18.,  19.,  19.,  19.,  19.,  20.,  20.,  20.,  20.,  21.,\n",
       "         21.,  21.,  21.,  22.,  22.,  22.,  22.,  23.,  23.,  23.,  23.,  24.,\n",
       "         24.,  24.,  25.,  25.,  25.,  26.,  26.,  27.,  27.,  27.,  28.,  28.,\n",
       "         29.,  29.,  30.,  30.,  31.,  31.,  32.,  32.,  33.,  34.,  34.,  35.,\n",
       "         36.,  37.,  38.,  39.,  40.,  42.,  43.,  45.,  48.,  51.,  55.,  63.,\n",
       "        101.])"
      ]
     },
     "execution_count": null,
     "metadata": {},
     "output_type": "execute_result"
    }
   ],
   "source": [
    "scores = scored_toks[:, :, -1].unique(dim=1).sort(-1).values\n",
    "scores[0]"
   ]
  },
  {
   "cell_type": "code",
   "execution_count": null,
   "id": "101c67f1-f803-47f6-b0a9-fa2abc01ed74",
   "metadata": {},
   "outputs": [
    {
     "name": "stdout",
     "output_type": "stream",
     "text": [
      "CPU times: user 12.4 ms, sys: 0 ns, total: 12.4 ms\n",
      "Wall time: 2.31 ms\n"
     ]
    }
   ],
   "source": [
    "%%time\n",
    "scored_toks, binned_toks, probs, is_valid, bin_size, bin_bds = pdl.train_val_split()"
   ]
  },
  {
   "cell_type": "code",
   "execution_count": null,
   "id": "0337e514-b221-4c8f-9095-0c85e2d97399",
   "metadata": {},
   "outputs": [
    {
     "name": "stdout",
     "output_type": "stream",
     "text": [
      "val_sl=16\n",
      "CPU times: user 93.5 ms, sys: 3.97 ms, total: 97.5 ms\n",
      "Wall time: 12.4 ms\n"
     ]
    }
   ],
   "source": [
    "%%time\n",
    "val_sl = pdl.pad_split()\n",
    "test_eq(is_valid.sum(dim=-1).unique().item(), val_sl)\n",
    "print(f\"{val_sl=}\")"
   ]
  },
  {
   "cell_type": "markdown",
   "id": "efc53aa7-cbd3-4537-940d-567ccbe0bc51",
   "metadata": {},
   "source": [
    "Taking a look at the train/valid split for some labels (just to make sure we ticked all boxes!):"
   ]
  },
  {
   "cell_type": "code",
   "execution_count": null,
   "id": "e7e17d8d-64d8-4c0c-a28b-656311154cdb",
   "metadata": {},
   "outputs": [
    {
     "data": {
      "text/html": [
       "<div>\n",
       "<style scoped>\n",
       "    .dataframe tbody tr th:only-of-type {\n",
       "        vertical-align: middle;\n",
       "    }\n",
       "\n",
       "    .dataframe tbody tr th {\n",
       "        vertical-align: top;\n",
       "    }\n",
       "\n",
       "    .dataframe thead th {\n",
       "        text-align: right;\n",
       "    }\n",
       "</style>\n",
       "<table border=\"1\" class=\"dataframe\">\n",
       "  <thead>\n",
       "    <tr style=\"text-align: right;\">\n",
       "      <th></th>\n",
       "      <th>token</th>\n",
       "      <th>label</th>\n",
       "      <th>rank</th>\n",
       "      <th>score</th>\n",
       "    </tr>\n",
       "  </thead>\n",
       "  <tbody>\n",
       "    <tr>\n",
       "      <th>226</th>\n",
       "      <td>28488.0</td>\n",
       "      <td>6820.0</td>\n",
       "      <td>0.0</td>\n",
       "      <td>101.0</td>\n",
       "    </tr>\n",
       "    <tr>\n",
       "      <th>225</th>\n",
       "      <td>2274.0</td>\n",
       "      <td>6820.0</td>\n",
       "      <td>1.0</td>\n",
       "      <td>63.0</td>\n",
       "    </tr>\n",
       "    <tr>\n",
       "      <th>224</th>\n",
       "      <td>50503.0</td>\n",
       "      <td>6820.0</td>\n",
       "      <td>2.0</td>\n",
       "      <td>55.0</td>\n",
       "    </tr>\n",
       "    <tr>\n",
       "      <th>223</th>\n",
       "      <td>56935.0</td>\n",
       "      <td>6820.0</td>\n",
       "      <td>3.0</td>\n",
       "      <td>51.0</td>\n",
       "    </tr>\n",
       "    <tr>\n",
       "      <th>222</th>\n",
       "      <td>20945.0</td>\n",
       "      <td>6820.0</td>\n",
       "      <td>4.0</td>\n",
       "      <td>48.0</td>\n",
       "    </tr>\n",
       "    <tr>\n",
       "      <th>...</th>\n",
       "      <td>...</td>\n",
       "      <td>...</td>\n",
       "      <td>...</td>\n",
       "      <td>...</td>\n",
       "    </tr>\n",
       "    <tr>\n",
       "      <th>112</th>\n",
       "      <td>57124.0</td>\n",
       "      <td>6820.0</td>\n",
       "      <td>320.0</td>\n",
       "      <td>1.0</td>\n",
       "    </tr>\n",
       "    <tr>\n",
       "      <th>114</th>\n",
       "      <td>9772.0</td>\n",
       "      <td>6820.0</td>\n",
       "      <td>318.0</td>\n",
       "      <td>1.0</td>\n",
       "    </tr>\n",
       "    <tr>\n",
       "      <th>115</th>\n",
       "      <td>907.0</td>\n",
       "      <td>6820.0</td>\n",
       "      <td>317.0</td>\n",
       "      <td>1.0</td>\n",
       "    </tr>\n",
       "    <tr>\n",
       "      <th>116</th>\n",
       "      <td>4924.0</td>\n",
       "      <td>6820.0</td>\n",
       "      <td>316.0</td>\n",
       "      <td>1.0</td>\n",
       "    </tr>\n",
       "    <tr>\n",
       "      <th>118</th>\n",
       "      <td>56756.0</td>\n",
       "      <td>6820.0</td>\n",
       "      <td>314.0</td>\n",
       "      <td>1.0</td>\n",
       "    </tr>\n",
       "  </tbody>\n",
       "</table>\n",
       "<p>328 rows × 4 columns</p>\n",
       "</div>"
      ],
      "text/plain": [
       "       token   label   rank  score\n",
       "226  28488.0  6820.0    0.0  101.0\n",
       "225   2274.0  6820.0    1.0   63.0\n",
       "224  50503.0  6820.0    2.0   55.0\n",
       "223  56935.0  6820.0    3.0   51.0\n",
       "222  20945.0  6820.0    4.0   48.0\n",
       "..       ...     ...    ...    ...\n",
       "112  57124.0  6820.0  320.0    1.0\n",
       "114   9772.0  6820.0  318.0    1.0\n",
       "115    907.0  6820.0  317.0    1.0\n",
       "116   4924.0  6820.0  316.0    1.0\n",
       "118  56756.0  6820.0  314.0    1.0\n",
       "\n",
       "[328 rows x 4 columns]"
      ]
     },
     "execution_count": null,
     "metadata": {},
     "output_type": "execute_result"
    }
   ],
   "source": [
    "df1 = pd.DataFrame(scored_toks[89], columns=['token', 'label', 'rank', 'score']).sort_values(by='score', ascending=False)\n",
    "df1"
   ]
  },
  {
   "cell_type": "code",
   "execution_count": null,
   "id": "3b7951e3-9197-46e3-85bd-36c5660b3cae",
   "metadata": {},
   "outputs": [
    {
     "data": {
      "text/html": [
       "<div>\n",
       "<style scoped>\n",
       "    .dataframe tbody tr th:only-of-type {\n",
       "        vertical-align: middle;\n",
       "    }\n",
       "\n",
       "    .dataframe tbody tr th {\n",
       "        vertical-align: top;\n",
       "    }\n",
       "\n",
       "    .dataframe thead th {\n",
       "        text-align: right;\n",
       "    }\n",
       "</style>\n",
       "<table border=\"1\" class=\"dataframe\">\n",
       "  <thead>\n",
       "    <tr style=\"text-align: right;\">\n",
       "      <th></th>\n",
       "      <th>shape</th>\n",
       "    </tr>\n",
       "  </thead>\n",
       "  <tbody>\n",
       "    <tr>\n",
       "      <th>scored_toks</th>\n",
       "      <td>(104, 328, 4)</td>\n",
       "    </tr>\n",
       "    <tr>\n",
       "      <th>binned_toks</th>\n",
       "      <td>(104, 328)</td>\n",
       "    </tr>\n",
       "    <tr>\n",
       "      <th>probs</th>\n",
       "      <td>(104, 328)</td>\n",
       "    </tr>\n",
       "    <tr>\n",
       "      <th>is_valid</th>\n",
       "      <td>(104, 328)</td>\n",
       "    </tr>\n",
       "    <tr>\n",
       "      <th>bin_size</th>\n",
       "      <td>(11,)</td>\n",
       "    </tr>\n",
       "    <tr>\n",
       "      <th>bin_bds</th>\n",
       "      <td>(8, 2)</td>\n",
       "    </tr>\n",
       "  </tbody>\n",
       "</table>\n",
       "</div>"
      ],
      "text/plain": [
       "                     shape\n",
       "scored_toks  (104, 328, 4)\n",
       "binned_toks     (104, 328)\n",
       "probs           (104, 328)\n",
       "is_valid        (104, 328)\n",
       "bin_size             (11,)\n",
       "bin_bds             (8, 2)"
      ]
     },
     "execution_count": null,
     "metadata": {},
     "output_type": "execute_result"
    }
   ],
   "source": [
    "name = partial(namestr, namespace=globals())\n",
    "row_vals = apply(torch.Tensor.size, (scored_toks, binned_toks, probs, is_valid, bin_size, bin_bds))\n",
    "pd.DataFrame(index = list(itertools.chain.from_iterable(apply(name, [scored_toks, binned_toks, probs, is_valid, bin_size, bin_bds]))), columns=['shape'], data={'shape': row_vals})"
   ]
  },
  {
   "cell_type": "markdown",
   "id": "5eb14e95-6969-41db-a38e-6b2d4a74c03d",
   "metadata": {},
   "source": [
    "Lowest numbered bin contains irrelevant tokens for a label, and the highest numbered bin contains most relevant tokens:"
   ]
  },
  {
   "cell_type": "code",
   "execution_count": null,
   "id": "6f36a730-4635-45ef-8bc2-73c456f2b8ad",
   "metadata": {},
   "outputs": [
    {
     "data": {
      "text/html": [
       "<div>\n",
       "<style scoped>\n",
       "    .dataframe tbody tr th:only-of-type {\n",
       "        vertical-align: middle;\n",
       "    }\n",
       "\n",
       "    .dataframe tbody tr th {\n",
       "        vertical-align: top;\n",
       "    }\n",
       "\n",
       "    .dataframe thead th {\n",
       "        text-align: right;\n",
       "    }\n",
       "</style>\n",
       "<table border=\"1\" class=\"dataframe\">\n",
       "  <thead>\n",
       "    <tr style=\"text-align: right;\">\n",
       "      <th></th>\n",
       "      <th>bin #</th>\n",
       "      <th>bin_size</th>\n",
       "    </tr>\n",
       "  </thead>\n",
       "  <tbody>\n",
       "    <tr>\n",
       "      <th>0</th>\n",
       "      <td>0</td>\n",
       "      <td>30</td>\n",
       "    </tr>\n",
       "    <tr>\n",
       "      <th>1</th>\n",
       "      <td>1</td>\n",
       "      <td>180</td>\n",
       "    </tr>\n",
       "    <tr>\n",
       "      <th>2</th>\n",
       "      <td>2</td>\n",
       "      <td>75</td>\n",
       "    </tr>\n",
       "    <tr>\n",
       "      <th>3</th>\n",
       "      <td>3</td>\n",
       "      <td>27</td>\n",
       "    </tr>\n",
       "    <tr>\n",
       "      <th>4</th>\n",
       "      <td>4</td>\n",
       "      <td>10</td>\n",
       "    </tr>\n",
       "    <tr>\n",
       "      <th>5</th>\n",
       "      <td>5</td>\n",
       "      <td>4</td>\n",
       "    </tr>\n",
       "    <tr>\n",
       "      <th>6</th>\n",
       "      <td>6</td>\n",
       "      <td>1</td>\n",
       "    </tr>\n",
       "    <tr>\n",
       "      <th>7</th>\n",
       "      <td>7</td>\n",
       "      <td>0</td>\n",
       "    </tr>\n",
       "    <tr>\n",
       "      <th>8</th>\n",
       "      <td>8</td>\n",
       "      <td>0</td>\n",
       "    </tr>\n",
       "    <tr>\n",
       "      <th>9</th>\n",
       "      <td>9</td>\n",
       "      <td>0</td>\n",
       "    </tr>\n",
       "    <tr>\n",
       "      <th>10</th>\n",
       "      <td>10</td>\n",
       "      <td>1</td>\n",
       "    </tr>\n",
       "  </tbody>\n",
       "</table>\n",
       "</div>"
      ],
      "text/plain": [
       "    bin #  bin_size\n",
       "0       0        30\n",
       "1       1       180\n",
       "2       2        75\n",
       "3       3        27\n",
       "4       4        10\n",
       "5       5         4\n",
       "6       6         1\n",
       "7       7         0\n",
       "8       8         0\n",
       "9       9         0\n",
       "10     10         1"
      ]
     },
     "execution_count": null,
     "metadata": {},
     "output_type": "execute_result"
    }
   ],
   "source": [
    "df2 = pd.DataFrame({'bin #': range(len(bin_size)), \n",
    "                    #'bin_bds': list(bin_bds.numpy()), \n",
    "                    'bin_size': bin_size})\n",
    "df2"
   ]
  },
  {
   "cell_type": "code",
   "execution_count": null,
   "id": "7f6a647f-8d27-424c-b60c-1f6f368381e4",
   "metadata": {},
   "outputs": [
    {
     "data": {
      "text/html": [
       "<div>\n",
       "<style scoped>\n",
       "    .dataframe tbody tr th:only-of-type {\n",
       "        vertical-align: middle;\n",
       "    }\n",
       "\n",
       "    .dataframe tbody tr th {\n",
       "        vertical-align: top;\n",
       "    }\n",
       "\n",
       "    .dataframe thead th {\n",
       "        text-align: right;\n",
       "    }\n",
       "</style>\n",
       "<table border=\"1\" class=\"dataframe\">\n",
       "  <thead>\n",
       "    <tr style=\"text-align: right;\">\n",
       "      <th></th>\n",
       "      <th>lbl</th>\n",
       "      <th>lbl_val</th>\n",
       "    </tr>\n",
       "  </thead>\n",
       "  <tbody>\n",
       "    <tr>\n",
       "      <th>52</th>\n",
       "      <td>52</td>\n",
       "      <td>018.95</td>\n",
       "    </tr>\n",
       "  </tbody>\n",
       "</table>\n",
       "</div>"
      ],
      "text/plain": [
       "    lbl lbl_val\n",
       "52   52  018.95"
      ]
     },
     "execution_count": null,
     "metadata": {},
     "output_type": "execute_result"
    }
   ],
   "source": [
    "df_toks = pd.read_feather(source/'mimic3-9k_tok.ft')\n",
    "df_lbs = pd.read_feather(source/'mimic3-9k_lbl.ft')\n",
    "\n",
    "a_lbl = np.random.choice(pdl.num_lbs)\n",
    "df_lbs.iloc[[a_lbl]]\n",
    "# df_lbs.loc[[a_lbl]]"
   ]
  },
  {
   "cell_type": "code",
   "execution_count": null,
   "id": "41768f8a-0052-4bc0-9fa9-92f77783c472",
   "metadata": {},
   "outputs": [
    {
     "data": {
      "text/html": [
       "<div>\n",
       "<style scoped>\n",
       "    .dataframe tbody tr th:only-of-type {\n",
       "        vertical-align: middle;\n",
       "    }\n",
       "\n",
       "    .dataframe tbody tr th {\n",
       "        vertical-align: top;\n",
       "    }\n",
       "\n",
       "    .dataframe thead th {\n",
       "        text-align: right;\n",
       "    }\n",
       "</style>\n",
       "<table border=\"1\" class=\"dataframe\">\n",
       "  <thead>\n",
       "    <tr style=\"text-align: right;\">\n",
       "      <th></th>\n",
       "      <th>token</th>\n",
       "      <th>tok_val</th>\n",
       "      <th>score</th>\n",
       "      <th>probs</th>\n",
       "      <th>binned_toks</th>\n",
       "      <th>size</th>\n",
       "      <th>is_valid</th>\n",
       "    </tr>\n",
       "  </thead>\n",
       "  <tbody>\n",
       "    <tr>\n",
       "      <th>30</th>\n",
       "      <td>4924</td>\n",
       "      <td>distance</td>\n",
       "      <td>101.0</td>\n",
       "      <td>0.333333</td>\n",
       "      <td>10</td>\n",
       "      <td>1</td>\n",
       "      <td>0.0</td>\n",
       "    </tr>\n",
       "    <tr>\n",
       "      <th>25</th>\n",
       "      <td>4056</td>\n",
       "      <td>defined</td>\n",
       "      <td>63.0</td>\n",
       "      <td>0.333333</td>\n",
       "      <td>6</td>\n",
       "      <td>1</td>\n",
       "      <td>0.0</td>\n",
       "    </tr>\n",
       "    <tr>\n",
       "      <th>10</th>\n",
       "      <td>2100</td>\n",
       "      <td>wnl</td>\n",
       "      <td>55.0</td>\n",
       "      <td>0.166667</td>\n",
       "      <td>5</td>\n",
       "      <td>4</td>\n",
       "      <td>1.0</td>\n",
       "    </tr>\n",
       "    <tr>\n",
       "      <th>2</th>\n",
       "      <td>436</td>\n",
       "      <td>change</td>\n",
       "      <td>51.0</td>\n",
       "      <td>0.166667</td>\n",
       "      <td>5</td>\n",
       "      <td>4</td>\n",
       "      <td>0.0</td>\n",
       "    </tr>\n",
       "    <tr>\n",
       "      <th>3</th>\n",
       "      <td>591</td>\n",
       "      <td>motion</td>\n",
       "      <td>48.0</td>\n",
       "      <td>0.166667</td>\n",
       "      <td>5</td>\n",
       "      <td>4</td>\n",
       "      <td>0.0</td>\n",
       "    </tr>\n",
       "    <tr>\n",
       "      <th>5</th>\n",
       "      <td>1327</td>\n",
       "      <td>residual</td>\n",
       "      <td>45.0</td>\n",
       "      <td>0.166667</td>\n",
       "      <td>5</td>\n",
       "      <td>4</td>\n",
       "      <td>0.0</td>\n",
       "    </tr>\n",
       "    <tr>\n",
       "      <th>0</th>\n",
       "      <td>22</td>\n",
       "      <td>patient</td>\n",
       "      <td>43.0</td>\n",
       "      <td>0.066667</td>\n",
       "      <td>4</td>\n",
       "      <td>10</td>\n",
       "      <td>0.0</td>\n",
       "    </tr>\n",
       "    <tr>\n",
       "      <th>7</th>\n",
       "      <td>1788</td>\n",
       "      <td>thursday</td>\n",
       "      <td>42.0</td>\n",
       "      <td>0.066667</td>\n",
       "      <td>4</td>\n",
       "      <td>10</td>\n",
       "      <td>0.0</td>\n",
       "    </tr>\n",
       "    <tr>\n",
       "      <th>6</th>\n",
       "      <td>1699</td>\n",
       "      <td>clopidogrel</td>\n",
       "      <td>40.0</td>\n",
       "      <td>0.066667</td>\n",
       "      <td>4</td>\n",
       "      <td>10</td>\n",
       "      <td>0.0</td>\n",
       "    </tr>\n",
       "    <tr>\n",
       "      <th>9</th>\n",
       "      <td>2021</td>\n",
       "      <td>saturations</td>\n",
       "      <td>39.0</td>\n",
       "      <td>0.066667</td>\n",
       "      <td>4</td>\n",
       "      <td>10</td>\n",
       "      <td>0.0</td>\n",
       "    </tr>\n",
       "    <tr>\n",
       "      <th>8</th>\n",
       "      <td>1944</td>\n",
       "      <td>4l</td>\n",
       "      <td>38.0</td>\n",
       "      <td>0.066667</td>\n",
       "      <td>4</td>\n",
       "      <td>10</td>\n",
       "      <td>0.0</td>\n",
       "    </tr>\n",
       "    <tr>\n",
       "      <th>11</th>\n",
       "      <td>2265</td>\n",
       "      <td>hemodynamics</td>\n",
       "      <td>37.0</td>\n",
       "      <td>0.066667</td>\n",
       "      <td>4</td>\n",
       "      <td>10</td>\n",
       "      <td>0.0</td>\n",
       "    </tr>\n",
       "    <tr>\n",
       "      <th>13</th>\n",
       "      <td>2467</td>\n",
       "      <td>according</td>\n",
       "      <td>36.0</td>\n",
       "      <td>0.066667</td>\n",
       "      <td>4</td>\n",
       "      <td>10</td>\n",
       "      <td>0.0</td>\n",
       "    </tr>\n",
       "    <tr>\n",
       "      <th>12</th>\n",
       "      <td>2274</td>\n",
       "      <td>medial</td>\n",
       "      <td>35.0</td>\n",
       "      <td>0.066667</td>\n",
       "      <td>4</td>\n",
       "      <td>10</td>\n",
       "      <td>0.0</td>\n",
       "    </tr>\n",
       "    <tr>\n",
       "      <th>14</th>\n",
       "      <td>2998</td>\n",
       "      <td>synagis</td>\n",
       "      <td>34.0</td>\n",
       "      <td>0.066667</td>\n",
       "      <td>4</td>\n",
       "      <td>10</td>\n",
       "      <td>0.0</td>\n",
       "    </tr>\n",
       "    <tr>\n",
       "      <th>15</th>\n",
       "      <td>3159</td>\n",
       "      <td>film</td>\n",
       "      <td>34.0</td>\n",
       "      <td>0.066667</td>\n",
       "      <td>4</td>\n",
       "      <td>10</td>\n",
       "      <td>0.0</td>\n",
       "    </tr>\n",
       "    <tr>\n",
       "      <th>20</th>\n",
       "      <td>3748</td>\n",
       "      <td>dispo</td>\n",
       "      <td>33.0</td>\n",
       "      <td>0.024691</td>\n",
       "      <td>3</td>\n",
       "      <td>27</td>\n",
       "      <td>0.0</td>\n",
       "    </tr>\n",
       "    <tr>\n",
       "      <th>16</th>\n",
       "      <td>3401</td>\n",
       "      <td>twenty</td>\n",
       "      <td>32.0</td>\n",
       "      <td>0.024691</td>\n",
       "      <td>3</td>\n",
       "      <td>27</td>\n",
       "      <td>0.0</td>\n",
       "    </tr>\n",
       "    <tr>\n",
       "      <th>18</th>\n",
       "      <td>3575</td>\n",
       "      <td>attached</td>\n",
       "      <td>32.0</td>\n",
       "      <td>0.024691</td>\n",
       "      <td>3</td>\n",
       "      <td>27</td>\n",
       "      <td>0.0</td>\n",
       "    </tr>\n",
       "    <tr>\n",
       "      <th>27</th>\n",
       "      <td>4598</td>\n",
       "      <td>stopping</td>\n",
       "      <td>31.0</td>\n",
       "      <td>0.024691</td>\n",
       "      <td>3</td>\n",
       "      <td>27</td>\n",
       "      <td>0.0</td>\n",
       "    </tr>\n",
       "  </tbody>\n",
       "</table>\n",
       "</div>"
      ],
      "text/plain": [
       "    token       tok_val  score     probs  binned_toks  size  is_valid\n",
       "30   4924      distance  101.0  0.333333           10     1       0.0\n",
       "25   4056       defined   63.0  0.333333            6     1       0.0\n",
       "10   2100           wnl   55.0  0.166667            5     4       1.0\n",
       "2     436        change   51.0  0.166667            5     4       0.0\n",
       "3     591        motion   48.0  0.166667            5     4       0.0\n",
       "5    1327      residual   45.0  0.166667            5     4       0.0\n",
       "0      22       patient   43.0  0.066667            4    10       0.0\n",
       "7    1788      thursday   42.0  0.066667            4    10       0.0\n",
       "6    1699   clopidogrel   40.0  0.066667            4    10       0.0\n",
       "9    2021   saturations   39.0  0.066667            4    10       0.0\n",
       "8    1944            4l   38.0  0.066667            4    10       0.0\n",
       "11   2265  hemodynamics   37.0  0.066667            4    10       0.0\n",
       "13   2467     according   36.0  0.066667            4    10       0.0\n",
       "12   2274        medial   35.0  0.066667            4    10       0.0\n",
       "14   2998       synagis   34.0  0.066667            4    10       0.0\n",
       "15   3159          film   34.0  0.066667            4    10       0.0\n",
       "20   3748         dispo   33.0  0.024691            3    27       0.0\n",
       "16   3401        twenty   32.0  0.024691            3    27       0.0\n",
       "18   3575      attached   32.0  0.024691            3    27       0.0\n",
       "27   4598      stopping   31.0  0.024691            3    27       0.0"
      ]
     },
     "execution_count": null,
     "metadata": {},
     "output_type": "execute_result"
    }
   ],
   "source": [
    "df3 = pd.DataFrame({'token': scored_toks[a_lbl, :, 0] ,'score': scored_toks[a_lbl, :, -1], 'probs': probs[a_lbl], \n",
    "                    'binned_toks': binned_toks[a_lbl], \n",
    "                    #'bds': list(bin_bds[binned_toks[a_lbl]].numpy()), \n",
    "                    'size': bin_size[binned_toks[a_lbl]], \n",
    "                    'is_valid': is_valid[a_lbl]})\n",
    "df3 = df_toks.merge(df3, on='token')\n",
    "df3.sort_values(by='score', ascending=False).head(20)"
   ]
  },
  {
   "cell_type": "code",
   "execution_count": null,
   "id": "9c2f27a3-5b48-40d7-9f68-ce28234dc0b3",
   "metadata": {},
   "outputs": [],
   "source": [
    "test_eqs(is_valid[a_lbl].sum(), df3['is_valid'].sum(), pdl.val_sl)"
   ]
  },
  {
   "cell_type": "code",
   "execution_count": null,
   "id": "62528572-38e2-426f-b7f4-aa048eac6705",
   "metadata": {},
   "outputs": [
    {
     "data": {
      "text/html": [
       "<div>\n",
       "<style scoped>\n",
       "    .dataframe tbody tr th:only-of-type {\n",
       "        vertical-align: middle;\n",
       "    }\n",
       "\n",
       "    .dataframe tbody tr th {\n",
       "        vertical-align: top;\n",
       "    }\n",
       "\n",
       "    .dataframe thead th {\n",
       "        text-align: right;\n",
       "    }\n",
       "</style>\n",
       "<table border=\"1\" class=\"dataframe\">\n",
       "  <thead>\n",
       "    <tr style=\"text-align: right;\">\n",
       "      <th></th>\n",
       "      <th>token</th>\n",
       "      <th>tok_val</th>\n",
       "      <th>score</th>\n",
       "      <th>probs</th>\n",
       "      <th>binned_toks</th>\n",
       "      <th>size</th>\n",
       "      <th>is_valid</th>\n",
       "    </tr>\n",
       "  </thead>\n",
       "  <tbody>\n",
       "    <tr>\n",
       "      <th>10</th>\n",
       "      <td>2100</td>\n",
       "      <td>wnl</td>\n",
       "      <td>55.0</td>\n",
       "      <td>0.166667</td>\n",
       "      <td>5</td>\n",
       "      <td>4</td>\n",
       "      <td>1.0</td>\n",
       "    </tr>\n",
       "    <tr>\n",
       "      <th>19</th>\n",
       "      <td>3621</td>\n",
       "      <td>cortisol</td>\n",
       "      <td>30.0</td>\n",
       "      <td>0.024691</td>\n",
       "      <td>3</td>\n",
       "      <td>27</td>\n",
       "      <td>1.0</td>\n",
       "    </tr>\n",
       "    <tr>\n",
       "      <th>154</th>\n",
       "      <td>29405</td>\n",
       "      <td>angigraphy</td>\n",
       "      <td>22.0</td>\n",
       "      <td>0.008889</td>\n",
       "      <td>2</td>\n",
       "      <td>75</td>\n",
       "      <td>1.0</td>\n",
       "    </tr>\n",
       "    <tr>\n",
       "      <th>179</th>\n",
       "      <td>34435</td>\n",
       "      <td>x21</td>\n",
       "      <td>19.0</td>\n",
       "      <td>0.008889</td>\n",
       "      <td>2</td>\n",
       "      <td>75</td>\n",
       "      <td>1.0</td>\n",
       "    </tr>\n",
       "    <tr>\n",
       "      <th>221</th>\n",
       "      <td>41317</td>\n",
       "      <td>boric</td>\n",
       "      <td>14.0</td>\n",
       "      <td>0.008889</td>\n",
       "      <td>2</td>\n",
       "      <td>75</td>\n",
       "      <td>1.0</td>\n",
       "    </tr>\n",
       "    <tr>\n",
       "      <th>50</th>\n",
       "      <td>9139</td>\n",
       "      <td>ug</td>\n",
       "      <td>11.0</td>\n",
       "      <td>0.003704</td>\n",
       "      <td>1</td>\n",
       "      <td>180</td>\n",
       "      <td>1.0</td>\n",
       "    </tr>\n",
       "    <tr>\n",
       "      <th>139</th>\n",
       "      <td>26556</td>\n",
       "      <td>manangement</td>\n",
       "      <td>7.0</td>\n",
       "      <td>0.003704</td>\n",
       "      <td>1</td>\n",
       "      <td>180</td>\n",
       "      <td>1.0</td>\n",
       "    </tr>\n",
       "    <tr>\n",
       "      <th>149</th>\n",
       "      <td>28488</td>\n",
       "      <td>closures</td>\n",
       "      <td>7.0</td>\n",
       "      <td>0.003704</td>\n",
       "      <td>1</td>\n",
       "      <td>180</td>\n",
       "      <td>1.0</td>\n",
       "    </tr>\n",
       "    <tr>\n",
       "      <th>175</th>\n",
       "      <td>33793</td>\n",
       "      <td>bibas</td>\n",
       "      <td>6.0</td>\n",
       "      <td>0.003704</td>\n",
       "      <td>1</td>\n",
       "      <td>180</td>\n",
       "      <td>1.0</td>\n",
       "    </tr>\n",
       "    <tr>\n",
       "      <th>183</th>\n",
       "      <td>35391</td>\n",
       "      <td>bender</td>\n",
       "      <td>5.0</td>\n",
       "      <td>0.003704</td>\n",
       "      <td>1</td>\n",
       "      <td>180</td>\n",
       "      <td>1.0</td>\n",
       "    </tr>\n",
       "    <tr>\n",
       "      <th>192</th>\n",
       "      <td>36487</td>\n",
       "      <td>sage</td>\n",
       "      <td>5.0</td>\n",
       "      <td>0.003704</td>\n",
       "      <td>1</td>\n",
       "      <td>180</td>\n",
       "      <td>1.0</td>\n",
       "    </tr>\n",
       "    <tr>\n",
       "      <th>252</th>\n",
       "      <td>44873</td>\n",
       "      <td>enterococcous</td>\n",
       "      <td>3.0</td>\n",
       "      <td>0.003704</td>\n",
       "      <td>1</td>\n",
       "      <td>180</td>\n",
       "      <td>1.0</td>\n",
       "    </tr>\n",
       "    <tr>\n",
       "      <th>224</th>\n",
       "      <td>41514</td>\n",
       "      <td>urol</td>\n",
       "      <td>2.0</td>\n",
       "      <td>0.003704</td>\n",
       "      <td>1</td>\n",
       "      <td>180</td>\n",
       "      <td>1.0</td>\n",
       "    </tr>\n",
       "    <tr>\n",
       "      <th>296</th>\n",
       "      <td>52607</td>\n",
       "      <td>cardioloyg</td>\n",
       "      <td>1.0</td>\n",
       "      <td>0.022222</td>\n",
       "      <td>0</td>\n",
       "      <td>30</td>\n",
       "      <td>1.0</td>\n",
       "    </tr>\n",
       "    <tr>\n",
       "      <th>301</th>\n",
       "      <td>53330</td>\n",
       "      <td>tropic</td>\n",
       "      <td>1.0</td>\n",
       "      <td>0.022222</td>\n",
       "      <td>0</td>\n",
       "      <td>30</td>\n",
       "      <td>1.0</td>\n",
       "    </tr>\n",
       "    <tr>\n",
       "      <th>326</th>\n",
       "      <td>57215</td>\n",
       "      <td>amoxil</td>\n",
       "      <td>1.0</td>\n",
       "      <td>0.022222</td>\n",
       "      <td>0</td>\n",
       "      <td>30</td>\n",
       "      <td>1.0</td>\n",
       "    </tr>\n",
       "  </tbody>\n",
       "</table>\n",
       "</div>"
      ],
      "text/plain": [
       "     token        tok_val  score     probs  binned_toks  size  is_valid\n",
       "10    2100            wnl   55.0  0.166667            5     4       1.0\n",
       "19    3621       cortisol   30.0  0.024691            3    27       1.0\n",
       "154  29405     angigraphy   22.0  0.008889            2    75       1.0\n",
       "179  34435            x21   19.0  0.008889            2    75       1.0\n",
       "221  41317          boric   14.0  0.008889            2    75       1.0\n",
       "50    9139             ug   11.0  0.003704            1   180       1.0\n",
       "139  26556    manangement    7.0  0.003704            1   180       1.0\n",
       "149  28488       closures    7.0  0.003704            1   180       1.0\n",
       "175  33793          bibas    6.0  0.003704            1   180       1.0\n",
       "183  35391         bender    5.0  0.003704            1   180       1.0\n",
       "192  36487           sage    5.0  0.003704            1   180       1.0\n",
       "252  44873  enterococcous    3.0  0.003704            1   180       1.0\n",
       "224  41514           urol    2.0  0.003704            1   180       1.0\n",
       "296  52607     cardioloyg    1.0  0.022222            0    30       1.0\n",
       "301  53330         tropic    1.0  0.022222            0    30       1.0\n",
       "326  57215         amoxil    1.0  0.022222            0    30       1.0"
      ]
     },
     "execution_count": null,
     "metadata": {},
     "output_type": "execute_result"
    }
   ],
   "source": [
    "df3[df3['is_valid'] == 1].sort_values(by='score', ascending=False)#.groupby('binned_toks').size()"
   ]
  },
  {
   "cell_type": "code",
   "execution_count": null,
   "id": "85b89591-dff1-4f7e-8c72-13981ba6fbbb",
   "metadata": {},
   "outputs": [
    {
     "name": "stdout",
     "output_type": "stream",
     "text": [
      "For 71 labels out of total 104, in the validation set we have at least one top 2 bin\n"
     ]
    }
   ],
   "source": [
    "top_lens = pdl.count_topbins()\n",
    "test_eq(top_lens.shape, [pdl.num_lbs])\n",
    "print(f\"For {torch.where(top_lens >= 1)[0].numel()} labels out of total {pdl.num_lbs}, in the validation set we have at least one top 2 bin\")"
   ]
  },
  {
   "cell_type": "markdown",
   "id": "33897661-b022-4031-97c7-6532c01783a1",
   "metadata": {},
   "source": [
    "Prepare the train/val dataset:"
   ]
  },
  {
   "cell_type": "code",
   "execution_count": null,
   "id": "81c071e1-57fe-4f11-89d0-4ba4418ea461",
   "metadata": {},
   "outputs": [],
   "source": [
    "trn_dset, val_dset = pdl.datasets()"
   ]
  },
  {
   "cell_type": "code",
   "execution_count": null,
   "id": "3dd95cfb-1b40-4711-acbd-336b16931114",
   "metadata": {},
   "outputs": [
    {
     "name": "stderr",
     "output_type": "stream",
     "text": [
      "ic| trn_dset.shape: torch.Size([104, 328, 4])\n",
      "    val_dset.shape: torch.Size([104, 16, 4])\n"
     ]
    }
   ],
   "source": [
    "test_eq(val_dset.shape, (scored_toks.shape[0], val_sl, scored_toks.shape[2]))\n",
    "test_eq(trn_dset.shape, scored_toks.shape) \n",
    "ic(trn_dset.shape, val_dset.shape);"
   ]
  },
  {
   "cell_type": "markdown",
   "id": "27ab10db-03fe-4d9a-814d-7f635521075e",
   "metadata": {},
   "source": [
    "Again, `untar_xxx` has got the trn/val split for the full dataset:"
   ]
  },
  {
   "cell_type": "code",
   "execution_count": null,
   "id": "f2a8a4b1-0f79-46a7-92e7-ef390d64dfea",
   "metadata": {},
   "outputs": [
    {
     "data": {
      "text/plain": [
       "(#1) [Path('/home/deb/.xcube/data/mimic3_l2r/trn_val_split.pkl')]"
      ]
     },
     "execution_count": null,
     "metadata": {},
     "output_type": "execute_result"
    }
   ],
   "source": [
    "L(source.glob(\"**/*split*.pkl\"))"
   ]
  },
  {
   "cell_type": "code",
   "execution_count": null,
   "id": "58782273-bd9e-4e8e-91f9-81b3d45403af",
   "metadata": {},
   "outputs": [
    {
     "name": "stderr",
     "output_type": "stream",
     "text": [
      "ic| trn_dset.shape: torch.Size([8922, 57352, 4])\n",
      "    val_dset.shape: torch.Size([8922, 32, 4])\n"
     ]
    }
   ],
   "source": [
    "trn_dset, val_dset = torch.load(source/'trn_val_split.pkl')\n",
    "ic(trn_dset.shape, val_dset.shape);"
   ]
  },
  {
   "cell_type": "markdown",
   "id": "4da52ccb-9d48-416f-94fe-f3ab17aaa024",
   "metadata": {},
   "source": [
    "Now we are ready to create the train/valid `DataLoaders`:"
   ]
  },
  {
   "cell_type": "markdown",
   "id": "1b32405b-ff8e-4dea-a638-8560cafa64bd",
   "metadata": {},
   "source": [
    "**Implementation note:** We have written the training dataloader which we call `L2RDataLoader`. It ofcourse inherits from fastai's incredibly hackable [`DataLoader`](https://docs.fast.ai/data.load.html#dataloader) class. In a little more technical terms, another way to say this is that `L2RDataLoader` provides different implementation of the callbacks `before_iter` and `create_batches`. However for the validation dataloader we directly use fastai's `DataLoader`. Lastly, we store the training and validation dataloder objects using fastai's [`DataLoaders`](https://docs.fast.ai/data.core.html#dataloaders) class."
   ]
  },
  {
   "cell_type": "code",
   "execution_count": null,
   "id": "ed0d0367-1032-4184-bb26-4b97b503c943",
   "metadata": {},
   "outputs": [],
   "source": [
    "bs_full = 32\n",
    "bs_tiny = 8\n",
    "sl = 64\n",
    "lbs_chunks_full = 4\n",
    "lbs_chunks_tiny = 32\n",
    "trn_dl = L2RDataLoader(dataset=trn_dset, sl=sl, bs=bs_full, lbs_chunks=lbs_chunks_full, shuffle=False, after_batch=partial(to_device, device=default_device(use=True)), num_workers=0)"
   ]
  },
  {
   "cell_type": "markdown",
   "id": "a1c69264-0018-4cbe-95f9-a88a026d68bc",
   "metadata": {},
   "source": [
    "Don't forget to check the length"
   ]
  },
  {
   "cell_type": "code",
   "execution_count": null,
   "id": "c23b6088-e120-4e47-a526-6559e8febc76",
   "metadata": {},
   "outputs": [
    {
     "data": {
      "text/plain": [
       "113"
      ]
     },
     "execution_count": null,
     "metadata": {},
     "output_type": "execute_result"
    }
   ],
   "source": [
    "len(trn_dl)"
   ]
  },
  {
   "cell_type": "code",
   "execution_count": null,
   "id": "a85cc802-3456-4113-bb10-82a55a98f372",
   "metadata": {},
   "outputs": [
    {
     "name": "stderr",
     "output_type": "stream",
     "text": [
      "ic| trn_dl.num_workers: 1, trn_dl.fake_l.num_workers: 0\n"
     ]
    }
   ],
   "source": [
    "ic(trn_dl.num_workers, trn_dl.fake_l.num_workers);"
   ]
  },
  {
   "cell_type": "code",
   "execution_count": null,
   "id": "3432f5d3-cf81-45a2-81ae-c96a4b0cf4f8",
   "metadata": {},
   "outputs": [
    {
     "name": "stderr",
     "output_type": "stream",
     "text": [
      "ic| xb.shape: torch.Size([32, 2231, 64, 4])\n",
      "    xb.device: device(type='cuda', index=0)\n"
     ]
    }
   ],
   "source": [
    "xb = trn_dl.one_batch()\n",
    "ic(xb.shape, xb.device);"
   ]
  },
  {
   "cell_type": "code",
   "execution_count": null,
   "id": "30566a96-1115-41f8-a43b-d4c3c0759f68",
   "metadata": {},
   "outputs": [
    {
     "data": {
      "text/html": [
       "\n",
       "<style>\n",
       "    /* Turns off some styling */\n",
       "    progress {\n",
       "        /* gets rid of default border in Firefox and Opera. */\n",
       "        border: none;\n",
       "        /* Needs to be in here for Safari polyfill so background images work as expected. */\n",
       "        background-size: auto;\n",
       "    }\n",
       "    progress:not([value]), progress:not([value])::-webkit-progress-bar {\n",
       "        background: repeating-linear-gradient(45deg, #7e7e7e, #7e7e7e 10px, #5c5c5c 10px, #5c5c5c 20px);\n",
       "    }\n",
       "    .progress-bar-interrupted, .progress-bar-interrupted::-webkit-progress-bar {\n",
       "        background: #F44336;\n",
       "    }\n",
       "</style>\n"
      ],
      "text/plain": [
       "<IPython.core.display.HTML object>"
      ]
     },
     "metadata": {},
     "output_type": "display_data"
    },
    {
     "data": {
      "text/html": [
       "\n",
       "    <div>\n",
       "      <progress value='113' class='' max='113' style='width:300px; height:20px; vertical-align: middle;'></progress>\n",
       "      100.00% [113/113 00:09&lt;00:00]\n",
       "    </div>\n",
       "    "
      ],
      "text/plain": [
       "<IPython.core.display.HTML object>"
      ]
     },
     "metadata": {},
     "output_type": "display_data"
    },
    {
     "name": "stdout",
     "output_type": "stream",
     "text": [
      "CPU times: user 1min 6s, sys: 10.3 s, total: 1min 16s\n",
      "Wall time: 9.76 s\n"
     ]
    }
   ],
   "source": [
    "%%time\n",
    "for xb in progress_bar(trn_dl):\n",
    "    time.sleep(0.01)"
   ]
  },
  {
   "cell_type": "code",
   "execution_count": null,
   "id": "012f7e66-47f3-4a04-b2f3-2e4960c780c8",
   "metadata": {},
   "outputs": [],
   "source": [
    "from fastai.data.load import DataLoader\n",
    "from fastai.data.core import DataLoaders"
   ]
  },
  {
   "cell_type": "code",
   "execution_count": null,
   "id": "d897214c-2a42-4c5e-b986-ff21cb43729f",
   "metadata": {},
   "outputs": [
    {
     "name": "stderr",
     "output_type": "stream",
     "text": [
      "ic| val_dl.num_workers: 1, val_dl.fake_l.num_workers: 0\n"
     ]
    }
   ],
   "source": [
    "val_dset = val_dset.unsqueeze(0)\n",
    "val_dl = DataLoader(val_dset, bs=1, shuffle=False, after_batch=partial(to_device, device=default_device()), num_workers=0)\n",
    "ic(val_dl.num_workers, val_dl.fake_l.num_workers);"
   ]
  },
  {
   "cell_type": "code",
   "execution_count": null,
   "id": "b74e0a70-1925-4906-9ff9-589691b35fcf",
   "metadata": {},
   "outputs": [
    {
     "name": "stderr",
     "output_type": "stream",
     "text": [
      "ic| xb.shape: torch.Size([1, 8922, 32, 4])\n",
      "    xb.device: device(type='cuda', index=0)\n"
     ]
    }
   ],
   "source": [
    "xb = val_dl.one_batch()\n",
    "ic(xb.shape, xb.device);"
   ]
  },
  {
   "cell_type": "code",
   "execution_count": null,
   "id": "def96b13-c243-4d2c-ad0a-160691e66bac",
   "metadata": {},
   "outputs": [
    {
     "data": {
      "text/html": [
       "\n",
       "<style>\n",
       "    /* Turns off some styling */\n",
       "    progress {\n",
       "        /* gets rid of default border in Firefox and Opera. */\n",
       "        border: none;\n",
       "        /* Needs to be in here for Safari polyfill so background images work as expected. */\n",
       "        background-size: auto;\n",
       "    }\n",
       "    progress:not([value]), progress:not([value])::-webkit-progress-bar {\n",
       "        background: repeating-linear-gradient(45deg, #7e7e7e, #7e7e7e 10px, #5c5c5c 10px, #5c5c5c 20px);\n",
       "    }\n",
       "    .progress-bar-interrupted, .progress-bar-interrupted::-webkit-progress-bar {\n",
       "        background: #F44336;\n",
       "    }\n",
       "</style>\n"
      ],
      "text/plain": [
       "<IPython.core.display.HTML object>"
      ]
     },
     "metadata": {},
     "output_type": "display_data"
    },
    {
     "data": {
      "text/html": [
       "\n",
       "    <div>\n",
       "      <progress value='1' class='' max='1' style='width:300px; height:20px; vertical-align: middle;'></progress>\n",
       "      100.00% [1/1 00:00&lt;00:00]\n",
       "    </div>\n",
       "    "
      ],
      "text/plain": [
       "<IPython.core.display.HTML object>"
      ]
     },
     "metadata": {},
     "output_type": "display_data"
    },
    {
     "name": "stdout",
     "output_type": "stream",
     "text": [
      "CPU times: user 157 ms, sys: 1.14 ms, total: 158 ms\n",
      "Wall time: 24.4 ms\n"
     ]
    }
   ],
   "source": [
    "%%time\n",
    "for xb in progress_bar(val_dl):\n",
    "    time.sleep(0.01)"
   ]
  },
  {
   "cell_type": "code",
   "execution_count": null,
   "id": "664b7352-7fe2-4dad-8066-cc98af0518e5",
   "metadata": {},
   "outputs": [],
   "source": [
    "dls = DataLoaders(trn_dl, val_dl)"
   ]
  },
  {
   "cell_type": "markdown",
   "id": "1001e884-f747-4c3b-bedd-22280d11a550",
   "metadata": {},
   "source": [
    "## Training"
   ]
  },
  {
   "cell_type": "markdown",
   "id": "d1024366-1cf6-4454-9ecf-91b936d2cc97",
   "metadata": {},
   "source": [
    "...yes, finally!"
   ]
  },
  {
   "cell_type": "markdown",
   "id": "0426335b-cb7e-4379-8354-090e2dd8f963",
   "metadata": {},
   "source": [
    "#### **Keeping records:**"
   ]
  },
  {
   "cell_type": "code",
   "execution_count": null,
   "id": "aefe3431-e73d-448c-b5fb-bcb1091e0ab5",
   "metadata": {},
   "outputs": [],
   "source": [
    "m = ['lin', 'nn']\n",
    "algos = ['ranknet', 'lambda-rank']\n",
    "idx = pd.Index(['mimic-tiny', 'mimic-full'], name='dataset')\n",
    "cols = pd.MultiIndex.from_product([m, algos], names = ['model', 'algo'])\n",
    "\n",
    "df = pd.DataFrame(columns=cols, index=idx)\n",
    "df[:] = 'TBD'\n",
    "\n",
    "df.loc['mimic-tiny']['nn']['ranknet'] = \"{'grad_func': functools.partial(<function rank_loss3 at 0x7f6f87e800d0>, gain_fn='exp', k=6), 'opt_func': functools.partial(<function RMSProp at 0x7f6f87e31870>, mom=0.9, wd=0.2), 'opt': None, 'lr': 0.001, 'loss_func': <function loss_fn2 at 0x7f6f7cdb1990>, 'num_factors': 200, 'n_act': 100, 'num_lbs': 105, 'num_toks': 329, 'seed': 877979, 'epochs': 15, 'best': 75.66}\"\n",
    "df.loc['mimic-tiny']['lin']['ranknet'] = \"{'grad_func': functools.partial(<function rank_loss3 at 0x7f6f87e800d0>, gain_fn='exp', k=6), 'opt_func': functools.partial(<function SGD at 0x7f6f87e31750>, mom=0.9), 'opt': None, 'lr': 0.0001, 'loss_func': <function loss_fn2 at 0x7f6f73f748b0>, 'num_factors': 200, 'num_lbs': 105, 'num_toks': 329, 'seed': 877979, 'epochs': 15, 'best': 75}\"\n",
    "df.loc['mimic-tiny']['nn']['lambda-rank'] = {'lr': [1e-2, 1e-3, 1e-4], 'opt': 'partial(Adam, mom=0.9, wd=0.4)', 'best': 62.75, 'epochs': [15, 15], 'seed': [1, str(8667)+' (L2RDataLoader)'], 'gain': 'exp', 'factors': 200}\n",
    "df.loc['mimic-tiny']['lin']['lambda-rank'] = {'lr': [7e-3, 7e-4], 'opt': 'partial(SGD, mom=0.9, wd=0.0)', 'best': 61.7, 'epochs': [15, 15], 'seed': 1, 'gain': 'exp', 'factors': 200}\n",
    "\n",
    "df.loc['mimic-full']['nn']['ranknet'] = 'TBD'\n",
    "df.loc['mimic-full']['lin']['ranknet'] = {'lr': 1e-5, 'opt': 'partial(SGD, mom=0.9, wd=0.0)', 'best': 63.73, 'epochs': 3, 'seed': 1, 'gain': 'cubic', 'factors': 100}\n",
    "df.loc['mimic-full']['nn']['lambda-rank'] = 'TBD'\n",
    "df.loc['mimic-full']['lin']['lambda-rank'] = {'lr': [7e-4, 7e-4, 7e-4], 'opt': 'partial(RMSProp, mom=0.9, wd=0.0)', 'best': 12.85, 'epochs': [4, 2, 4, 4], 'seed': 1, 'gain': 'exp', 'factors': 200}"
   ]
  },
  {
   "cell_type": "code",
   "execution_count": null,
   "id": "01b01acf-4d87-4fb2-ac26-1f4fb81494e9",
   "metadata": {},
   "outputs": [
    {
     "data": {
      "text/html": [
       "<div>\n",
       "<style scoped>\n",
       "    .dataframe tbody tr th:only-of-type {\n",
       "        vertical-align: middle;\n",
       "    }\n",
       "\n",
       "    .dataframe tbody tr th {\n",
       "        vertical-align: top;\n",
       "    }\n",
       "\n",
       "    .dataframe thead tr th {\n",
       "        text-align: left;\n",
       "    }\n",
       "\n",
       "    .dataframe thead tr:last-of-type th {\n",
       "        text-align: right;\n",
       "    }\n",
       "</style>\n",
       "<table border=\"1\" class=\"dataframe\">\n",
       "  <thead>\n",
       "    <tr>\n",
       "      <th>model</th>\n",
       "      <th colspan=\"2\" halign=\"left\">lin</th>\n",
       "      <th colspan=\"2\" halign=\"left\">nn</th>\n",
       "    </tr>\n",
       "    <tr>\n",
       "      <th>algo</th>\n",
       "      <th>ranknet</th>\n",
       "      <th>lambda-rank</th>\n",
       "      <th>ranknet</th>\n",
       "      <th>lambda-rank</th>\n",
       "    </tr>\n",
       "    <tr>\n",
       "      <th>dataset</th>\n",
       "      <th></th>\n",
       "      <th></th>\n",
       "      <th></th>\n",
       "      <th></th>\n",
       "    </tr>\n",
       "  </thead>\n",
       "  <tbody>\n",
       "    <tr>\n",
       "      <th>mimic-tiny</th>\n",
       "      <td>{'grad_func': functools.partial(&lt;function rank_loss3 at 0x7f6f87e800d0&gt;, gain_fn='exp', k=6), 'opt_func': functools.partial(&lt;function SGD at 0x7f6f87e31750&gt;, mom=0.9), 'opt': None, 'lr': 0.0001, 'loss_func': &lt;function loss_fn2 at 0x7f6f73f748b0&gt;, 'num_factors': 200, 'num_lbs': 105, 'num_toks': 329, 'seed': 877979, 'epochs': 15, 'best': 75}</td>\n",
       "      <td>{'lr': [0.007, 0.0007], 'opt': 'partial(SGD, mom=0.9, wd=0.0)', 'best': 61.7, 'epochs': [15, 15], 'seed': 1, 'gain': 'exp', 'factors': 200}</td>\n",
       "      <td>{'grad_func': functools.partial(&lt;function rank_loss3 at 0x7f6f87e800d0&gt;, gain_fn='exp', k=6), 'opt_func': functools.partial(&lt;function RMSProp at 0x7f6f87e31870&gt;, mom=0.9, wd=0.2), 'opt': None, 'lr': 0.001, 'loss_func': &lt;function loss_fn2 at 0x7f6f7cdb1990&gt;, 'num_factors': 200, 'n_act': 100, 'num_lbs': 105, 'num_toks': 329, 'seed': 877979, 'epochs': 15, 'best': 75.66}</td>\n",
       "      <td>{'lr': [0.01, 0.001, 0.0001], 'opt': 'partial(Adam, mom=0.9, wd=0.4)', 'best': 62.75, 'epochs': [15, 15], 'seed': [1, '8667 (L2RDataLoader)'], 'gain': 'exp', 'factors': 200}</td>\n",
       "    </tr>\n",
       "    <tr>\n",
       "      <th>mimic-full</th>\n",
       "      <td>{'lr': 1e-05, 'opt': 'partial(SGD, mom=0.9, wd=0.0)', 'best': 63.73, 'epochs': 3, 'seed': 1, 'gain': 'cubic', 'factors': 100}</td>\n",
       "      <td>{'lr': [0.0007, 0.0007, 0.0007], 'opt': 'partial(RMSProp, mom=0.9, wd=0.0)', 'best': 12.85, 'epochs': [4, 2, 4, 4], 'seed': 1, 'gain': 'exp', 'factors': 200}</td>\n",
       "      <td>TBD</td>\n",
       "      <td>TBD</td>\n",
       "    </tr>\n",
       "  </tbody>\n",
       "</table>\n",
       "</div>"
      ],
      "text/plain": [
       "model                                                                                                                                                                                                                                                                                                                                                         lin  \\\n",
       "algo                                                                                                                                                                                                                                                                                                                                                      ranknet   \n",
       "dataset                                                                                                                                                                                                                                                                                                                                                             \n",
       "mimic-tiny  {'grad_func': functools.partial(<function rank_loss3>, gain_fn='exp', k=6), 'opt_func': functools.partial(<function SGD>, mom=0.9), 'opt': None, 'lr': 0.0001, 'loss_func': <function loss_fn2>, 'num_factors': 200, 'num_lbs': 105, 'num_toks': 329, 'seed': 877979, 'epochs': 15, 'best': 75}   \n",
       "mimic-full                                                                                                                                                                                                                          {'lr': 1e-05, 'opt': 'partial(SGD, mom=0.9, wd=0.0)', 'best': 63.73, 'epochs': 3, 'seed': 1, 'gain': 'cubic', 'factors': 100}   \n",
       "\n",
       "model                                                                                                                                                                      \\\n",
       "algo                                                                                                                                                          lambda-rank   \n",
       "dataset                                                                                                                                                                     \n",
       "mimic-tiny                    {'lr': [0.007, 0.0007], 'opt': 'partial(SGD, mom=0.9, wd=0.0)', 'best': 61.7, 'epochs': [15, 15], 'seed': 1, 'gain': 'exp', 'factors': 200}   \n",
       "mimic-full  {'lr': [0.0007, 0.0007, 0.0007], 'opt': 'partial(RMSProp, mom=0.9, wd=0.0)', 'best': 12.85, 'epochs': [4, 2, 4, 4], 'seed': 1, 'gain': 'exp', 'factors': 200}   \n",
       "\n",
       "model                                                                                                                                                                                                                                                                                                                                                                                      nn  \\\n",
       "algo                                                                                                                                                                                                                                                                                                                                                                                  ranknet   \n",
       "dataset                                                                                                                                                                                                                                                                                                                                                                                         \n",
       "mimic-tiny  {'grad_func': functools.partial(<function rank_loss3>, gain_fn='exp', k=6), 'opt_func': functools.partial(<function RMSProp>, mom=0.9, wd=0.2), 'opt': None, 'lr': 0.001, 'loss_func': <function loss_fn2>, 'num_factors': 200, 'n_act': 100, 'num_lbs': 105, 'num_toks': 329, 'seed': 877979, 'epochs': 15, 'best': 75.66}   \n",
       "mimic-full                                                                                                                                                                                                                                                                                                                                                                                TBD   \n",
       "\n",
       "model                                                                                                                                                                                      \n",
       "algo                                                                                                                                                                          lambda-rank  \n",
       "dataset                                                                                                                                                                                    \n",
       "mimic-tiny  {'lr': [0.01, 0.001, 0.0001], 'opt': 'partial(Adam, mom=0.9, wd=0.4)', 'best': 62.75, 'epochs': [15, 15], 'seed': [1, '8667 (L2RDataLoader)'], 'gain': 'exp', 'factors': 200}  \n",
       "mimic-full                                                                                                                                                                            TBD  "
      ]
     },
     "execution_count": null,
     "metadata": {},
     "output_type": "execute_result"
    }
   ],
   "source": [
    "df"
   ]
  },
  {
   "cell_type": "markdown",
   "id": "f28a6492-b9e2-4ed9-8235-7f36a1a90f7e",
   "metadata": {},
   "source": [
    "#### **Get the `DataLoaders`:**"
   ]
  },
  {
   "cell_type": "code",
   "execution_count": null,
   "id": "ab9e72d0-8833-4edd-84f6-5df0efeab2ac",
   "metadata": {},
   "outputs": [
    {
     "name": "stdout",
     "output_type": "stream",
     "text": [
      "tmp/\n",
      "    lambdarank-full.pth\n",
      "    dls_full.pkl\n",
      "    dls_tiny.pkl\n",
      "    lambdarank-tiny.pth\n",
      "    dls_clas.pkl\n",
      "    ranknet-tiny.pth\n"
     ]
    }
   ],
   "source": [
    "#| eval: false\n",
    "tmp = Path.cwd()/'tmp'\n",
    "tmp.mkdir(exist_ok=True)\n",
    "list_files(str(tmp))"
   ]
  },
  {
   "cell_type": "code",
   "execution_count": null,
   "id": "8d2d9fbb-e2c9-4f4f-894f-a312de288f63",
   "metadata": {},
   "outputs": [
    {
     "data": {
      "text/plain": [
       "877979"
      ]
     },
     "execution_count": null,
     "metadata": {},
     "output_type": "execute_result"
    }
   ],
   "source": [
    "torch.manual_seed(877979)\n",
    "# torch.manual_seed(39)\n",
    "torch.initial_seed()"
   ]
  },
  {
   "cell_type": "code",
   "execution_count": null,
   "id": "4c6508c9-1ed9-4f01-90a0-1b7a9819450d",
   "metadata": {},
   "outputs": [
    {
     "name": "stdout",
     "output_type": "stream",
     "text": [
      "CPU times: user 1.96 ms, sys: 81 µs, total: 2.05 ms\n",
      "Wall time: 1.89 ms\n"
     ]
    }
   ],
   "source": [
    "#| eval: false\n",
    "# torch.save(dls, tmp/'dls_full.pkl', pickle_protocol=4)\n",
    "%time dls = torch.load(tmp/'dls_tiny.pkl')#, map_location=default_device())"
   ]
  },
  {
   "cell_type": "markdown",
   "id": "029e84d8-f175-4254-a7a7-ff7750c1b379",
   "metadata": {},
   "source": [
    "#### **Make the Model:**"
   ]
  },
  {
   "cell_type": "markdown",
   "id": "3e14d24b-85ac-4374-9316-1ab42dd4224a",
   "metadata": {},
   "source": [
    "Based on the dataset:"
   ]
  },
  {
   "cell_type": "code",
   "execution_count": null,
   "id": "aa65abe5-d5b3-492b-9de7-c5648e98c3f5",
   "metadata": {},
   "outputs": [
    {
     "name": "stderr",
     "output_type": "stream",
     "text": [
      "ic| num_lbs: 104, num_toks: 328, num_factors: 200\n"
     ]
    }
   ],
   "source": [
    "num_lbs, num_toks, num_factors = *dls.dataset.shape[:-1], 200\n",
    "# num_lbs, num_toks, num_factors = pdl.num_lbs, pdl.num_toks, 100\n",
    "ic(num_lbs, num_toks, num_factors);"
   ]
  },
  {
   "cell_type": "code",
   "execution_count": null,
   "id": "15fe1ef4-7b00-4f1b-8e6b-dc5fff0bb07a",
   "metadata": {},
   "outputs": [],
   "source": [
    "# model = L2R_DotProductBias(num_lbs, num_toks, num_factors, y_range=None).to(default_device())\n",
    "model = L2R_NN(num_lbs, num_toks, num_factors, n_act=100, y_range=None).to(default_device())"
   ]
  },
  {
   "cell_type": "markdown",
   "id": "770252a4-f881-4cd3-802d-d96d25ba4ddc",
   "metadata": {},
   "source": [
    "**Create the `Learner` and train:**"
   ]
  },
  {
   "cell_type": "code",
   "execution_count": null,
   "id": "57965a1e-dded-4709-9276-92c2133c3ba2",
   "metadata": {},
   "outputs": [],
   "source": [
    "from fastai.callback.schedule import *"
   ]
  },
  {
   "cell_type": "code",
   "execution_count": null,
   "id": "86783dd0-b7c5-4585-99a9-1b53e9811677",
   "metadata": {},
   "outputs": [],
   "source": [
    "sched = {'lr': SchedLin(1e-3, 4e-3)}"
   ]
  },
  {
   "cell_type": "code",
   "execution_count": null,
   "id": "f8e157ec-1e88-4f86-8622-59237bf98334",
   "metadata": {},
   "outputs": [],
   "source": [
    "# cbs = [TrainEval(), TrackResults(train_metrics=True), ProgressBarCallback(), Monitor(), SaveCallBack('lambdarank-full', monitor='ndcg_at_6')]\n",
    "cbs = [TrainEval(), TrackResults(train_metrics=True), ProgressBarCallback(), Monitor(), SaveCallBack('ranknet-tiny', monitor='acc'),\n",
    "      XParamScheduler(sched)]"
   ]
  },
  {
   "cell_type": "code",
   "execution_count": null,
   "id": "f58e8918-99a1-4a6a-bf0e-9dcd9f18c85c",
   "metadata": {},
   "outputs": [
    {
     "data": {
      "image/png": "[encoded data removed]",
      "text/plain": [
       "<Figure size 640x480 with 1 Axes>"
      ]
     },
     "metadata": {},
     "output_type": "display_data"
    }
   ],
   "source": [
    "p = torch.linspace(0.,1,100)\n",
    "f = combined_cos(0.25,0.5,1.,0.)\n",
    "plt.plot(p, [f(o) for o in p]);"
   ]
  },
  {
   "cell_type": "code",
   "execution_count": null,
   "id": "11cf7b45-fdb4-4dd7-a331-64b6039c75fb",
   "metadata": {},
   "outputs": [],
   "source": [
    "from fastai.optimizer import *"
   ]
  },
  {
   "cell_type": "code",
   "execution_count": null,
   "id": "cb917a46-0561-499c-9c7b-dce068894566",
   "metadata": {},
   "outputs": [],
   "source": [
    "grad_fn = partial(rank_loss3, gain_fn='exp', k=6)\n",
    "# learner = get_learner(model, dls, lr=1e-5) # lin # ranknet # full\n",
    "# learner = get_learner(model, dls, grad_fn=grad_fn, opt_func=partial(RMSProp, mom=0.9, wd=0.0), lambrank=True, lr=7e-3, cbs=cbs) # lin # lambdarank # full\n",
    "learner = get_learner(model, dls, lr=1e-3, grad_fn=grad_fn, opt_func=partial(RMSProp, mom=0.9, wd=0.2), cbs=cbs) # nn ranknet tiny\n",
    "# learner = get_learner(model, dls, lr=1e-3, grad_fn=grad_fn, lambrank=True, opt_func=partial(Adam, mom=0.9, wd=0.4), cbs=cbs)  # nn lambdarank tiny\n",
    "# learner = get_learner(model, dls, lr=1e-2, grad_fn=grad_fn, lambrank=True, opt_func=partial(Adam, mom=0.9, wd=0.1))  # nn lambdarank full\n",
    "# learner = get_learner(model, dls, grad_fn=grad_fn, lr=1e-4, cbs=cbs) #lin #ranknet #tiny\n",
    "# learner = get_learner(model, dls, grad_fn=grad_fn, opt_func=partial(SGD, mom=0.9, wd=0.0), lambrank=True, lr=7e-3, cbs=cbs) #lin #lambdarank #tiny"
   ]
  },
  {
   "cell_type": "code",
   "execution_count": null,
   "id": "e9e58564-fa76-44bf-9fd3-2db8a51ffe66",
   "metadata": {},
   "outputs": [],
   "source": [
    "#| eval:false\n",
    "learner.path = tmp"
   ]
  },
  {
   "cell_type": "markdown",
   "id": "a12c7578-b7d0-4564-9e8e-8022c6d4743d",
   "metadata": {},
   "source": [
    "Let's record some useful hyperparameters in a record dict which we can store in the dataframe in the record keeping section:"
   ]
  },
  {
   "cell_type": "code",
   "execution_count": null,
   "id": "f6f5fd05-eea9-4bbf-b3ec-014e69759c2a",
   "metadata": {},
   "outputs": [],
   "source": [
    "learner_attrs = ['grad_func', 'opt_func', 'opt', 'lr', 'loss_func']\n",
    "model_attrs = ['num_factors', 'n_act', 'num_lbs', 'num_toks']\n",
    "record = dict(zip(learner_attrs + model_attrs, getattrs(learner, *learner_attrs) + getattrs(learner.model, *model_attrs)))\n",
    "record['seed'] = torch.initial_seed()\n",
    "record['epochs'] = 15\n",
    "record['best'] = 75.66\n",
    "str(record)"
   ]
  },
  {
   "cell_type": "code",
   "execution_count": null,
   "id": "4f35cca6-b432-47c1-a057-c5ddafdad776",
   "metadata": {},
   "outputs": [
    {
     "data": {
      "text/html": [
       "\n",
       "<style>\n",
       "    /* Turns off some styling */\n",
       "    progress {\n",
       "        /* gets rid of default border in Firefox and Opera. */\n",
       "        border: none;\n",
       "        /* Needs to be in here for Safari polyfill so background images work as expected. */\n",
       "        background-size: auto;\n",
       "    }\n",
       "    progress:not([value]), progress:not([value])::-webkit-progress-bar {\n",
       "        background: repeating-linear-gradient(45deg, #7e7e7e, #7e7e7e 10px, #5c5c5c 10px, #5c5c5c 20px);\n",
       "    }\n",
       "    .progress-bar-interrupted, .progress-bar-interrupted::-webkit-progress-bar {\n",
       "        background: #F44336;\n",
       "    }\n",
       "</style>\n"
      ],
      "text/plain": [
       "<IPython.core.display.HTML object>"
      ]
     },
     "metadata": {},
     "output_type": "display_data"
    },
    {
     "data": {
      "text/html": [],
      "text/plain": [
       "<IPython.core.display.HTML object>"
      ]
     },
     "metadata": {},
     "output_type": "display_data"
    },
    {
     "name": "stdout",
     "output_type": "stream",
     "text": [
      "0 True 0.6105 0.4966 0.342 0.5738\n",
      "0 False 0.5929 0.5281 0.4377 0.7119\n",
      "Better model found at epoch 0 with acc value: 0.7119.\n",
      "1 True 0.5895 0.5192 0.3619 0.581\n",
      "1 False 0.5645 0.5183 0.4292 0.7274\n",
      "Better model found at epoch 1 with acc value: 0.7274.\n",
      "2 True 0.5751 0.5213 0.3773 0.588\n",
      "2 False 0.5349 0.5404 0.4451 0.7303\n",
      "Better model found at epoch 2 with acc value: 0.7303.\n",
      "3 True 0.5644 0.5457 0.396 0.5941\n",
      "3 False 0.5491 0.5299 0.4232 0.7281\n",
      "4 True 0.5644 0.555 0.4199 0.5933\n",
      "4 False 0.5536 0.5323 0.4404 0.7362\n",
      "Better model found at epoch 4 with acc value: 0.7362.\n"
     ]
    }
   ],
   "source": [
    "learner.fit(5)"
   ]
  },
  {
   "cell_type": "code",
   "execution_count": null,
   "id": "4e62cdd4-9179-4c11-b5cb-5be8b566c517",
   "metadata": {},
   "outputs": [
    {
     "data": {
      "image/png": "[encoded data removed]",
      "text/plain": [
       "<Figure size 600x400 with 1 Axes>"
      ]
     },
     "metadata": {},
     "output_type": "display_data"
    }
   ],
   "source": [
    "learner.track_results.plot_sched()"
   ]
  },
  {
   "cell_type": "code",
   "execution_count": null,
   "id": "a7f8f9e8-b0fc-40f5-b7ba-9859a7f54b9c",
   "metadata": {},
   "outputs": [],
   "source": [
    "# len(learner.cbs[1].grads_full['token_factors.weight'])\n",
    "# learner.cbs\n",
    "# learner.track_results\n",
    "# learner.opt.hypers[-1]"
   ]
  },
  {
   "cell_type": "code",
   "execution_count": null,
   "id": "1bbdab59-0135-47d7-8581-ccd8ff4a218b",
   "metadata": {},
   "outputs": [],
   "source": [
    "learner = learner.load('ranknet-tiny', device=default_device())"
   ]
  },
  {
   "cell_type": "code",
   "execution_count": null,
   "id": "6f780c3e-b9ca-4731-94ee-430a57ab4644",
   "metadata": {},
   "outputs": [
    {
     "data": {
      "text/html": [
       "\n",
       "<style>\n",
       "    /* Turns off some styling */\n",
       "    progress {\n",
       "        /* gets rid of default border in Firefox and Opera. */\n",
       "        border: none;\n",
       "        /* Needs to be in here for Safari polyfill so background images work as expected. */\n",
       "        background-size: auto;\n",
       "    }\n",
       "    progress:not([value]), progress:not([value])::-webkit-progress-bar {\n",
       "        background: repeating-linear-gradient(45deg, #7e7e7e, #7e7e7e 10px, #5c5c5c 10px, #5c5c5c 20px);\n",
       "    }\n",
       "    .progress-bar-interrupted, .progress-bar-interrupted::-webkit-progress-bar {\n",
       "        background: #F44336;\n",
       "    }\n",
       "</style>\n"
      ],
      "text/plain": [
       "<IPython.core.display.HTML object>"
      ]
     },
     "metadata": {},
     "output_type": "display_data"
    },
    {
     "data": {
      "text/html": [],
      "text/plain": [
       "<IPython.core.display.HTML object>"
      ]
     },
     "metadata": {},
     "output_type": "display_data"
    },
    {
     "name": "stdout",
     "output_type": "stream",
     "text": [
      "14 False 0.482 0.5596 0.4777 0.7639\n"
     ]
    }
   ],
   "source": [
    "learner.validate()"
   ]
  },
  {
   "cell_type": "code",
   "execution_count": null,
   "id": "91be6248-0894-4122-83c7-c32ea5a3b9b2",
   "metadata": {},
   "outputs": [],
   "source": [
    "learner.cbs[-1].best = 0.7653"
   ]
  },
  {
   "cell_type": "markdown",
   "id": "fde1768a-e203-4258-97ee-d1c2fa63633d",
   "metadata": {},
   "source": [
    "#### Plots"
   ]
  },
  {
   "cell_type": "markdown",
   "id": "59b022a7-625f-4b22-b9f1-5385951d7334",
   "metadata": {},
   "source": [
    "**Plotting losses and metrics:**"
   ]
  },
  {
   "cell_type": "code",
   "execution_count": null,
   "id": "080bfbaa-9bf3-48e5-90a6-d7c222ce6fd2",
   "metadata": {},
   "outputs": [],
   "source": [
    "#| eval: false\n",
    "fig, axes = plt.subplots(2, 2, figsize=(15,8))\n",
    "loss = L(loss_logger).map(torch.Tensor.item)\n",
    "val_loss = L(metric_logger).itemgot(0)\n",
    "val_acc = L(metric_logger).itemgot(-1)\n",
    "val_ndcg = L(metric_logger).itemgot(2)\n",
    "\n",
    "# axes[0,0].scatter(range(len(loss)), loss)\n",
    "axes[0,0].plot(range(len(loss)), loss)\n",
    "axes[0,0].set_xlabel('batches*epochs')\n",
    "axes[0,0].set_ylabel('train loss')\n",
    "\n",
    "axes[0,1].plot(val_loss)\n",
    "axes[0,1].set_xlabel('epochs')\n",
    "axes[0,1].set_ylabel('val loss')\n",
    "\n",
    "axes[1, 0].plot(val_acc)\n",
    "axes[1,0].set_xlabel('epochs')\n",
    "axes[1,0].set_ylabel('val accuracy')\n",
    "\n",
    "axes[1,1].plot(val_ndcg)\n",
    "axes[1,1].set_xlabel('epochs')\n",
    "axes[1,1].set_ylabel('val ndcg@6 (candidate 16)')\n",
    "\n",
    "plt.show()"
   ]
  },
  {
   "cell_type": "markdown",
   "id": "edc266c9-f06c-477f-894b-94e7793b9942",
   "metadata": {},
   "source": [
    "**Plotting Statistics of the Model Parameters**"
   ]
  },
  {
   "cell_type": "code",
   "execution_count": null,
   "id": "aa77b789-c482-4543-b5d1-c26f3f5ecfe9",
   "metadata": {},
   "outputs": [],
   "source": [
    "#| eval: false\n",
    "fig, axes = plt.subplots(2,2, figsize=(15,8), sharex=True)\n",
    "for (k,v), ax in zip(grad_logger.items(), axes.flatten()):\n",
    "    mean_grads = L(v).map(compose(torch.Tensor.square, torch.Tensor.mean, torch.Tensor.sqrt, torch.Tensor.item))\n",
    "    # sparsity = L(v).map(sparsity)\n",
    "    ax.plot(mean_grads, color='r', label='mean')\n",
    "    ax.set_ylabel(k)\n",
    "    # ax_a = ax.twinx()\n",
    "    # ax_a.plot(sparsity, color='b', label='sparsity')\n",
    "    ax.legend(loc='best')\n",
    "    # ax_a.legend(loc='best')\n",
    "fig.suptitle('RMS of the Gradients of Model Parameters')\n",
    "plt.show()"
   ]
  },
  {
   "cell_type": "code",
   "execution_count": null,
   "id": "04955c8f-7e51-4a13-aa14-da92dff6955a",
   "metadata": {},
   "outputs": [],
   "source": [
    "def sparsity(t): \n",
    "    return 1 - (torch.count_nonzero(t)/t.numel()).item()"
   ]
  },
  {
   "cell_type": "code",
   "execution_count": null,
   "id": "435d0316-4f9d-427f-a9f6-2b6afe5dac46",
   "metadata": {},
   "outputs": [],
   "source": [
    "#| eval: false\n",
    "fig, axes = plt.subplots(2,2, figsize=(15,8), sharex=True)\n",
    "for (k,v), ax in zip(grad_logger.items(), axes.flatten()):\n",
    "    sp = L(v).map(sparsity)\n",
    "    ax.scatter(range(len(sp)), sp, color='r', label='sparsity')\n",
    "    ax.set_ylabel(k)\n",
    "    # ax_a = ax.twinx()\n",
    "    # ax_a.plot(sparsity, color='b', label='sparsity')\n",
    "    ax.legend(loc='best')\n",
    "    # ax_a.legend(loc='best')\n",
    "fig.suptitle('Sparsity of the Model Parameters')\n",
    "plt.show()"
   ]
  },
  {
   "cell_type": "markdown",
   "id": "5d2a1022-5b8f-4e28-8413-d15e40ce2cc3",
   "metadata": {},
   "source": [
    "#### Analysis to find out what the L2R model is upto:"
   ]
  },
  {
   "cell_type": "code",
   "execution_count": null,
   "id": "c252b4c5-3e3e-4d30-8b29-43ece95c393d",
   "metadata": {},
   "outputs": [],
   "source": [
    "dataset = to_device(learner.dls.train.dataset)"
   ]
  },
  {
   "cell_type": "code",
   "execution_count": null,
   "id": "fda60ba7-1478-4d30-b72f-e3aff49e5548",
   "metadata": {},
   "outputs": [],
   "source": [
    "%%time\n",
    "_ndcg_at_k = ndcg_at_k(dataset, learner.model, k=20)"
   ]
  },
  {
   "cell_type": "code",
   "execution_count": null,
   "id": "2a0da4ad-3ff6-4c93-aba5-e111ca76f619",
   "metadata": {},
   "outputs": [],
   "source": [
    "ic(_ndcg_at_k.shape, _ndcg_at_k.min(), _ndcg_at_k.mean(), _ndcg_at_k.max(), _ndcg_at_k.median(), _ndcg_at_k.std());"
   ]
  },
  {
   "cell_type": "code",
   "execution_count": null,
   "id": "5d5d0da2-33c6-4835-8eba-749f82d2c125",
   "metadata": {},
   "outputs": [
    {
     "name": "stdout",
     "output_type": "stream",
     "text": [
      "CPU times: user 276 ms, sys: 0 ns, total: 276 ms\n",
      "Wall time: 286 ms\n"
     ]
    }
   ],
   "source": [
    "%%time\n",
    "acc = accuracy(dataset, learner.model)"
   ]
  },
  {
   "cell_type": "code",
   "execution_count": null,
   "id": "a9cc759c-d59d-4ab4-8dcb-e13adeca94ac",
   "metadata": {},
   "outputs": [
    {
     "name": "stderr",
     "output_type": "stream",
     "text": [
      "ic| acc.shape: torch.Size([1, 104])\n",
      "    acc.min(): tensor(0.6281, device='cuda:0')\n",
      "    acc.mean(): tensor(0.7566, device='cuda:0')\n",
      "    acc.max(): tensor(0.7964, device='cuda:0')\n",
      "    acc.median(): tensor(0.7626, device='cuda:0')\n",
      "    acc.std(): tensor(0.0296, device='cuda:0')\n"
     ]
    }
   ],
   "source": [
    "ic(acc.shape, acc.min(), acc.mean(), acc.max(), acc.median(), acc.std());"
   ]
  },
  {
   "cell_type": "markdown",
   "id": "411ba8bf-7a5f-424e-8799-5144f88c55f8",
   "metadata": {},
   "source": [
    "Let's pick a label and see the rankings produced by the model:"
   ]
  },
  {
   "cell_type": "code",
   "execution_count": null,
   "id": "f3aad1e5-3ec6-4786-a244-c145b82f4311",
   "metadata": {},
   "outputs": [],
   "source": [
    "df_res, df_ndcg= learner.show_results(k=20)"
   ]
  },
  {
   "cell_type": "code",
   "execution_count": null,
   "id": "dd2c4777-d38b-4f82-9075-7c712f8c882f",
   "metadata": {},
   "outputs": [
    {
     "data": {
      "text/html": [
       "<div>\n",
       "<style scoped>\n",
       "    .dataframe tbody tr th:only-of-type {\n",
       "        vertical-align: middle;\n",
       "    }\n",
       "\n",
       "    .dataframe tbody tr th {\n",
       "        vertical-align: top;\n",
       "    }\n",
       "\n",
       "    .dataframe thead th {\n",
       "        text-align: right;\n",
       "    }\n",
       "</style>\n",
       "<table border=\"1\" class=\"dataframe\">\n",
       "  <thead>\n",
       "    <tr style=\"text-align: right;\">\n",
       "      <th></th>\n",
       "      <th>labels</th>\n",
       "      <th>ndcg_at_k</th>\n",
       "    </tr>\n",
       "  </thead>\n",
       "  <tbody>\n",
       "    <tr>\n",
       "      <th>0</th>\n",
       "      <td>34.0</td>\n",
       "      <td>4.370729e-15</td>\n",
       "    </tr>\n",
       "    <tr>\n",
       "      <th>1</th>\n",
       "      <td>35.0</td>\n",
       "      <td>4.659684e-16</td>\n",
       "    </tr>\n",
       "    <tr>\n",
       "      <th>2</th>\n",
       "      <td>36.0</td>\n",
       "      <td>1.345715e-14</td>\n",
       "    </tr>\n",
       "    <tr>\n",
       "      <th>3</th>\n",
       "      <td>37.0</td>\n",
       "      <td>5.298676e-14</td>\n",
       "    </tr>\n",
       "    <tr>\n",
       "      <th>4</th>\n",
       "      <td>38.0</td>\n",
       "      <td>1.790378e-15</td>\n",
       "    </tr>\n",
       "  </tbody>\n",
       "</table>\n",
       "</div>"
      ],
      "text/plain": [
       "   labels     ndcg_at_k\n",
       "0    34.0  4.370729e-15\n",
       "1    35.0  4.659684e-16\n",
       "2    36.0  1.345715e-14\n",
       "3    37.0  5.298676e-14\n",
       "4    38.0  1.790378e-15"
      ]
     },
     "execution_count": null,
     "metadata": {},
     "output_type": "execute_result"
    }
   ],
   "source": [
    "df_ndcg.head()"
   ]
  },
  {
   "cell_type": "code",
   "execution_count": null,
   "id": "07f5e6e7-0158-4da5-aaa8-57aa3744c3fa",
   "metadata": {},
   "outputs": [
    {
     "data": {
      "text/html": [
       "<div>\n",
       "<style scoped>\n",
       "    .dataframe tbody tr th:only-of-type {\n",
       "        vertical-align: middle;\n",
       "    }\n",
       "\n",
       "    .dataframe tbody tr th {\n",
       "        vertical-align: top;\n",
       "    }\n",
       "\n",
       "    .dataframe thead tr th {\n",
       "        text-align: left;\n",
       "    }\n",
       "\n",
       "    .dataframe thead tr:last-of-type th {\n",
       "        text-align: right;\n",
       "    }\n",
       "</style>\n",
       "<table border=\"1\" class=\"dataframe\">\n",
       "  <thead>\n",
       "    <tr>\n",
       "      <th>label</th>\n",
       "      <th colspan=\"6\" halign=\"left\">34.0</th>\n",
       "      <th colspan=\"4\" halign=\"left\">35.0</th>\n",
       "      <th>...</th>\n",
       "      <th colspan=\"4\" halign=\"left\">76.0</th>\n",
       "      <th colspan=\"6\" halign=\"left\">77.0</th>\n",
       "    </tr>\n",
       "    <tr>\n",
       "      <th>key2</th>\n",
       "      <th>tok</th>\n",
       "      <th>lbl</th>\n",
       "      <th>rank</th>\n",
       "      <th>score</th>\n",
       "      <th>preds</th>\n",
       "      <th>model_rank</th>\n",
       "      <th>tok</th>\n",
       "      <th>lbl</th>\n",
       "      <th>rank</th>\n",
       "      <th>score</th>\n",
       "      <th>...</th>\n",
       "      <th>rank</th>\n",
       "      <th>score</th>\n",
       "      <th>preds</th>\n",
       "      <th>model_rank</th>\n",
       "      <th>tok</th>\n",
       "      <th>lbl</th>\n",
       "      <th>rank</th>\n",
       "      <th>score</th>\n",
       "      <th>preds</th>\n",
       "      <th>model_rank</th>\n",
       "    </tr>\n",
       "    <tr>\n",
       "      <th>toks</th>\n",
       "      <th></th>\n",
       "      <th></th>\n",
       "      <th></th>\n",
       "      <th></th>\n",
       "      <th></th>\n",
       "      <th></th>\n",
       "      <th></th>\n",
       "      <th></th>\n",
       "      <th></th>\n",
       "      <th></th>\n",
       "      <th></th>\n",
       "      <th></th>\n",
       "      <th></th>\n",
       "      <th></th>\n",
       "      <th></th>\n",
       "      <th></th>\n",
       "      <th></th>\n",
       "      <th></th>\n",
       "      <th></th>\n",
       "      <th></th>\n",
       "      <th></th>\n",
       "    </tr>\n",
       "  </thead>\n",
       "  <tbody>\n",
       "    <tr>\n",
       "      <th>0</th>\n",
       "      <td>4623.0</td>\n",
       "      <td>34.0</td>\n",
       "      <td>12580.0</td>\n",
       "      <td>17.0</td>\n",
       "      <td>-4.908477</td>\n",
       "      <td>7127.0</td>\n",
       "      <td>4623.0</td>\n",
       "      <td>35.0</td>\n",
       "      <td>25056.0</td>\n",
       "      <td>9.0</td>\n",
       "      <td>...</td>\n",
       "      <td>12997.0</td>\n",
       "      <td>16.0</td>\n",
       "      <td>-1.228925</td>\n",
       "      <td>3833.0</td>\n",
       "      <td>4623.0</td>\n",
       "      <td>77.0</td>\n",
       "      <td>1882.0</td>\n",
       "      <td>37.0</td>\n",
       "      <td>2.242677</td>\n",
       "      <td>22698.0</td>\n",
       "    </tr>\n",
       "    <tr>\n",
       "      <th>1</th>\n",
       "      <td>29916.0</td>\n",
       "      <td>34.0</td>\n",
       "      <td>21145.0</td>\n",
       "      <td>11.0</td>\n",
       "      <td>-10.928745</td>\n",
       "      <td>22540.0</td>\n",
       "      <td>29916.0</td>\n",
       "      <td>35.0</td>\n",
       "      <td>18750.0</td>\n",
       "      <td>13.0</td>\n",
       "      <td>...</td>\n",
       "      <td>27484.0</td>\n",
       "      <td>8.0</td>\n",
       "      <td>-6.305350</td>\n",
       "      <td>20288.0</td>\n",
       "      <td>29916.0</td>\n",
       "      <td>77.0</td>\n",
       "      <td>27407.0</td>\n",
       "      <td>8.0</td>\n",
       "      <td>11.420921</td>\n",
       "      <td>173.0</td>\n",
       "    </tr>\n",
       "    <tr>\n",
       "      <th>2</th>\n",
       "      <td>46404.0</td>\n",
       "      <td>34.0</td>\n",
       "      <td>42890.0</td>\n",
       "      <td>4.0</td>\n",
       "      <td>-12.651776</td>\n",
       "      <td>31200.0</td>\n",
       "      <td>46404.0</td>\n",
       "      <td>35.0</td>\n",
       "      <td>50082.0</td>\n",
       "      <td>2.0</td>\n",
       "      <td>...</td>\n",
       "      <td>45374.0</td>\n",
       "      <td>3.0</td>\n",
       "      <td>-7.774199</td>\n",
       "      <td>27936.0</td>\n",
       "      <td>46404.0</td>\n",
       "      <td>77.0</td>\n",
       "      <td>48656.0</td>\n",
       "      <td>2.0</td>\n",
       "      <td>2.436358</td>\n",
       "      <td>21525.0</td>\n",
       "    </tr>\n",
       "    <tr>\n",
       "      <th>3</th>\n",
       "      <td>7413.0</td>\n",
       "      <td>34.0</td>\n",
       "      <td>112.0</td>\n",
       "      <td>68.0</td>\n",
       "      <td>-6.016405</td>\n",
       "      <td>8796.0</td>\n",
       "      <td>7413.0</td>\n",
       "      <td>35.0</td>\n",
       "      <td>21927.0</td>\n",
       "      <td>11.0</td>\n",
       "      <td>...</td>\n",
       "      <td>10840.0</td>\n",
       "      <td>18.0</td>\n",
       "      <td>-1.055362</td>\n",
       "      <td>3555.0</td>\n",
       "      <td>7413.0</td>\n",
       "      <td>77.0</td>\n",
       "      <td>39764.0</td>\n",
       "      <td>4.0</td>\n",
       "      <td>4.104465</td>\n",
       "      <td>12253.0</td>\n",
       "    </tr>\n",
       "    <tr>\n",
       "      <th>4</th>\n",
       "      <td>43400.0</td>\n",
       "      <td>34.0</td>\n",
       "      <td>51305.0</td>\n",
       "      <td>2.0</td>\n",
       "      <td>-15.984903</td>\n",
       "      <td>48779.0</td>\n",
       "      <td>43400.0</td>\n",
       "      <td>35.0</td>\n",
       "      <td>36036.0</td>\n",
       "      <td>5.0</td>\n",
       "      <td>...</td>\n",
       "      <td>52783.0</td>\n",
       "      <td>1.0</td>\n",
       "      <td>-7.921857</td>\n",
       "      <td>28702.0</td>\n",
       "      <td>43400.0</td>\n",
       "      <td>77.0</td>\n",
       "      <td>40235.0</td>\n",
       "      <td>4.0</td>\n",
       "      <td>9.622473</td>\n",
       "      <td>600.0</td>\n",
       "    </tr>\n",
       "    <tr>\n",
       "      <th>...</th>\n",
       "      <td>...</td>\n",
       "      <td>...</td>\n",
       "      <td>...</td>\n",
       "      <td>...</td>\n",
       "      <td>...</td>\n",
       "      <td>...</td>\n",
       "      <td>...</td>\n",
       "      <td>...</td>\n",
       "      <td>...</td>\n",
       "      <td>...</td>\n",
       "      <td>...</td>\n",
       "      <td>...</td>\n",
       "      <td>...</td>\n",
       "      <td>...</td>\n",
       "      <td>...</td>\n",
       "      <td>...</td>\n",
       "      <td>...</td>\n",
       "      <td>...</td>\n",
       "      <td>...</td>\n",
       "      <td>...</td>\n",
       "      <td>...</td>\n",
       "    </tr>\n",
       "    <tr>\n",
       "      <th>57347</th>\n",
       "      <td>33610.0</td>\n",
       "      <td>34.0</td>\n",
       "      <td>35774.0</td>\n",
       "      <td>6.0</td>\n",
       "      <td>-11.654976</td>\n",
       "      <td>25859.0</td>\n",
       "      <td>33610.0</td>\n",
       "      <td>35.0</td>\n",
       "      <td>29496.0</td>\n",
       "      <td>8.0</td>\n",
       "      <td>...</td>\n",
       "      <td>39043.0</td>\n",
       "      <td>5.0</td>\n",
       "      <td>-9.197426</td>\n",
       "      <td>35804.0</td>\n",
       "      <td>33610.0</td>\n",
       "      <td>77.0</td>\n",
       "      <td>42365.0</td>\n",
       "      <td>4.0</td>\n",
       "      <td>-4.229078</td>\n",
       "      <td>53474.0</td>\n",
       "    </tr>\n",
       "    <tr>\n",
       "      <th>57348</th>\n",
       "      <td>37566.0</td>\n",
       "      <td>34.0</td>\n",
       "      <td>32077.0</td>\n",
       "      <td>7.0</td>\n",
       "      <td>-12.682952</td>\n",
       "      <td>31399.0</td>\n",
       "      <td>37566.0</td>\n",
       "      <td>35.0</td>\n",
       "      <td>26141.0</td>\n",
       "      <td>9.0</td>\n",
       "      <td>...</td>\n",
       "      <td>35903.0</td>\n",
       "      <td>6.0</td>\n",
       "      <td>-12.149956</td>\n",
       "      <td>49447.0</td>\n",
       "      <td>37566.0</td>\n",
       "      <td>77.0</td>\n",
       "      <td>36955.0</td>\n",
       "      <td>5.0</td>\n",
       "      <td>-2.791658</td>\n",
       "      <td>49904.0</td>\n",
       "    </tr>\n",
       "    <tr>\n",
       "      <th>57349</th>\n",
       "      <td>34744.0</td>\n",
       "      <td>34.0</td>\n",
       "      <td>26310.0</td>\n",
       "      <td>9.0</td>\n",
       "      <td>-14.898348</td>\n",
       "      <td>43659.0</td>\n",
       "      <td>34744.0</td>\n",
       "      <td>35.0</td>\n",
       "      <td>47965.0</td>\n",
       "      <td>2.0</td>\n",
       "      <td>...</td>\n",
       "      <td>31472.0</td>\n",
       "      <td>7.0</td>\n",
       "      <td>-5.826773</td>\n",
       "      <td>18011.0</td>\n",
       "      <td>34744.0</td>\n",
       "      <td>77.0</td>\n",
       "      <td>35202.0</td>\n",
       "      <td>6.0</td>\n",
       "      <td>2.038452</td>\n",
       "      <td>23983.0</td>\n",
       "    </tr>\n",
       "    <tr>\n",
       "      <th>57350</th>\n",
       "      <td>51857.0</td>\n",
       "      <td>34.0</td>\n",
       "      <td>46216.0</td>\n",
       "      <td>3.0</td>\n",
       "      <td>-12.054335</td>\n",
       "      <td>27922.0</td>\n",
       "      <td>51857.0</td>\n",
       "      <td>35.0</td>\n",
       "      <td>53408.0</td>\n",
       "      <td>1.0</td>\n",
       "      <td>...</td>\n",
       "      <td>48576.0</td>\n",
       "      <td>2.0</td>\n",
       "      <td>-9.454979</td>\n",
       "      <td>37171.0</td>\n",
       "      <td>51857.0</td>\n",
       "      <td>77.0</td>\n",
       "      <td>51934.0</td>\n",
       "      <td>2.0</td>\n",
       "      <td>1.524752</td>\n",
       "      <td>27358.0</td>\n",
       "    </tr>\n",
       "    <tr>\n",
       "      <th>57351</th>\n",
       "      <td>37478.0</td>\n",
       "      <td>34.0</td>\n",
       "      <td>29542.0</td>\n",
       "      <td>8.0</td>\n",
       "      <td>-10.593185</td>\n",
       "      <td>21127.0</td>\n",
       "      <td>37478.0</td>\n",
       "      <td>35.0</td>\n",
       "      <td>23966.0</td>\n",
       "      <td>10.0</td>\n",
       "      <td>...</td>\n",
       "      <td>33960.0</td>\n",
       "      <td>6.0</td>\n",
       "      <td>-11.869783</td>\n",
       "      <td>48448.0</td>\n",
       "      <td>37478.0</td>\n",
       "      <td>77.0</td>\n",
       "      <td>31272.0</td>\n",
       "      <td>7.0</td>\n",
       "      <td>-0.927950</td>\n",
       "      <td>42211.0</td>\n",
       "    </tr>\n",
       "  </tbody>\n",
       "</table>\n",
       "<p>57352 rows × 264 columns</p>\n",
       "</div>"
      ],
      "text/plain": [
       "label     34.0                                                35.0        \\\n",
       "key2       tok   lbl     rank score      preds model_rank      tok   lbl   \n",
       "toks                                                                       \n",
       "0       4623.0  34.0  12580.0  17.0  -4.908477     7127.0   4623.0  35.0   \n",
       "1      29916.0  34.0  21145.0  11.0 -10.928745    22540.0  29916.0  35.0   \n",
       "2      46404.0  34.0  42890.0   4.0 -12.651776    31200.0  46404.0  35.0   \n",
       "3       7413.0  34.0    112.0  68.0  -6.016405     8796.0   7413.0  35.0   \n",
       "4      43400.0  34.0  51305.0   2.0 -15.984903    48779.0  43400.0  35.0   \n",
       "...        ...   ...      ...   ...        ...        ...      ...   ...   \n",
       "57347  33610.0  34.0  35774.0   6.0 -11.654976    25859.0  33610.0  35.0   \n",
       "57348  37566.0  34.0  32077.0   7.0 -12.682952    31399.0  37566.0  35.0   \n",
       "57349  34744.0  34.0  26310.0   9.0 -14.898348    43659.0  34744.0  35.0   \n",
       "57350  51857.0  34.0  46216.0   3.0 -12.054335    27922.0  51857.0  35.0   \n",
       "57351  37478.0  34.0  29542.0   8.0 -10.593185    21127.0  37478.0  35.0   \n",
       "\n",
       "label                 ...     76.0                                 77.0        \\\n",
       "key2      rank score  ...     rank score      preds model_rank      tok   lbl   \n",
       "toks                  ...                                                       \n",
       "0      25056.0   9.0  ...  12997.0  16.0  -1.228925     3833.0   4623.0  77.0   \n",
       "1      18750.0  13.0  ...  27484.0   8.0  -6.305350    20288.0  29916.0  77.0   \n",
       "2      50082.0   2.0  ...  45374.0   3.0  -7.774199    27936.0  46404.0  77.0   \n",
       "3      21927.0  11.0  ...  10840.0  18.0  -1.055362     3555.0   7413.0  77.0   \n",
       "4      36036.0   5.0  ...  52783.0   1.0  -7.921857    28702.0  43400.0  77.0   \n",
       "...        ...   ...  ...      ...   ...        ...        ...      ...   ...   \n",
       "57347  29496.0   8.0  ...  39043.0   5.0  -9.197426    35804.0  33610.0  77.0   \n",
       "57348  26141.0   9.0  ...  35903.0   6.0 -12.149956    49447.0  37566.0  77.0   \n",
       "57349  47965.0   2.0  ...  31472.0   7.0  -5.826773    18011.0  34744.0  77.0   \n",
       "57350  53408.0   1.0  ...  48576.0   2.0  -9.454979    37171.0  51857.0  77.0   \n",
       "57351  23966.0  10.0  ...  33960.0   6.0 -11.869783    48448.0  37478.0  77.0   \n",
       "\n",
       "label                                       \n",
       "key2      rank score      preds model_rank  \n",
       "toks                                        \n",
       "0       1882.0  37.0   2.242677    22698.0  \n",
       "1      27407.0   8.0  11.420921      173.0  \n",
       "2      48656.0   2.0   2.436358    21525.0  \n",
       "3      39764.0   4.0   4.104465    12253.0  \n",
       "4      40235.0   4.0   9.622473      600.0  \n",
       "...        ...   ...        ...        ...  \n",
       "57347  42365.0   4.0  -4.229078    53474.0  \n",
       "57348  36955.0   5.0  -2.791658    49904.0  \n",
       "57349  35202.0   6.0   2.038452    23983.0  \n",
       "57350  51934.0   2.0   1.524752    27358.0  \n",
       "57351  31272.0   7.0  -0.927950    42211.0  \n",
       "\n",
       "[57352 rows x 264 columns]"
      ]
     },
     "execution_count": null,
     "metadata": {},
     "output_type": "execute_result"
    }
   ],
   "source": [
    "df_res"
   ]
  },
  {
   "cell_type": "code",
   "execution_count": null,
   "id": "fad51197-79f1-4b2c-b3c1-bdd8edd765d7",
   "metadata": {},
   "outputs": [
    {
     "data": {
      "text/html": [
       "<div>\n",
       "<style scoped>\n",
       "    .dataframe tbody tr th:only-of-type {\n",
       "        vertical-align: middle;\n",
       "    }\n",
       "\n",
       "    .dataframe tbody tr th {\n",
       "        vertical-align: top;\n",
       "    }\n",
       "\n",
       "    .dataframe thead th {\n",
       "        text-align: right;\n",
       "    }\n",
       "</style>\n",
       "<table border=\"1\" class=\"dataframe\">\n",
       "  <thead>\n",
       "    <tr style=\"text-align: right;\">\n",
       "      <th>key2</th>\n",
       "      <th>tok</th>\n",
       "      <th>lbl</th>\n",
       "      <th>rank</th>\n",
       "      <th>score</th>\n",
       "      <th>preds</th>\n",
       "      <th>model_rank</th>\n",
       "    </tr>\n",
       "    <tr>\n",
       "      <th>toks</th>\n",
       "      <th></th>\n",
       "      <th></th>\n",
       "      <th></th>\n",
       "      <th></th>\n",
       "      <th></th>\n",
       "      <th></th>\n",
       "    </tr>\n",
       "  </thead>\n",
       "  <tbody>\n",
       "    <tr>\n",
       "      <th>0</th>\n",
       "      <td>4623.0</td>\n",
       "      <td>36.0</td>\n",
       "      <td>25060.0</td>\n",
       "      <td>9.0</td>\n",
       "      <td>-4.433844</td>\n",
       "      <td>5288.0</td>\n",
       "    </tr>\n",
       "    <tr>\n",
       "      <th>1</th>\n",
       "      <td>29916.0</td>\n",
       "      <td>36.0</td>\n",
       "      <td>18746.0</td>\n",
       "      <td>13.0</td>\n",
       "      <td>-12.894358</td>\n",
       "      <td>23062.0</td>\n",
       "    </tr>\n",
       "    <tr>\n",
       "      <th>2</th>\n",
       "      <td>46404.0</td>\n",
       "      <td>36.0</td>\n",
       "      <td>50083.0</td>\n",
       "      <td>2.0</td>\n",
       "      <td>-17.777464</td>\n",
       "      <td>44740.0</td>\n",
       "    </tr>\n",
       "    <tr>\n",
       "      <th>3</th>\n",
       "      <td>7413.0</td>\n",
       "      <td>36.0</td>\n",
       "      <td>21925.0</td>\n",
       "      <td>11.0</td>\n",
       "      <td>-7.355096</td>\n",
       "      <td>9150.0</td>\n",
       "    </tr>\n",
       "    <tr>\n",
       "      <th>4</th>\n",
       "      <td>43400.0</td>\n",
       "      <td>36.0</td>\n",
       "      <td>36039.0</td>\n",
       "      <td>5.0</td>\n",
       "      <td>-19.488859</td>\n",
       "      <td>50814.0</td>\n",
       "    </tr>\n",
       "    <tr>\n",
       "      <th>...</th>\n",
       "      <td>...</td>\n",
       "      <td>...</td>\n",
       "      <td>...</td>\n",
       "      <td>...</td>\n",
       "      <td>...</td>\n",
       "      <td>...</td>\n",
       "    </tr>\n",
       "    <tr>\n",
       "      <th>57347</th>\n",
       "      <td>33610.0</td>\n",
       "      <td>36.0</td>\n",
       "      <td>29499.0</td>\n",
       "      <td>8.0</td>\n",
       "      <td>-15.476891</td>\n",
       "      <td>34167.0</td>\n",
       "    </tr>\n",
       "    <tr>\n",
       "      <th>57348</th>\n",
       "      <td>37566.0</td>\n",
       "      <td>36.0</td>\n",
       "      <td>26146.0</td>\n",
       "      <td>9.0</td>\n",
       "      <td>-14.835495</td>\n",
       "      <td>31220.0</td>\n",
       "    </tr>\n",
       "    <tr>\n",
       "      <th>57349</th>\n",
       "      <td>34744.0</td>\n",
       "      <td>36.0</td>\n",
       "      <td>47968.0</td>\n",
       "      <td>2.0</td>\n",
       "      <td>-17.363693</td>\n",
       "      <td>42999.0</td>\n",
       "    </tr>\n",
       "    <tr>\n",
       "      <th>57350</th>\n",
       "      <td>51857.0</td>\n",
       "      <td>36.0</td>\n",
       "      <td>53408.0</td>\n",
       "      <td>1.0</td>\n",
       "      <td>-13.301474</td>\n",
       "      <td>24602.0</td>\n",
       "    </tr>\n",
       "    <tr>\n",
       "      <th>57351</th>\n",
       "      <td>37478.0</td>\n",
       "      <td>36.0</td>\n",
       "      <td>23967.0</td>\n",
       "      <td>10.0</td>\n",
       "      <td>-16.702396</td>\n",
       "      <td>39953.0</td>\n",
       "    </tr>\n",
       "  </tbody>\n",
       "</table>\n",
       "<p>57352 rows × 6 columns</p>\n",
       "</div>"
      ],
      "text/plain": [
       "key2       tok   lbl     rank  score      preds  model_rank\n",
       "toks                                                       \n",
       "0       4623.0  36.0  25060.0    9.0  -4.433844      5288.0\n",
       "1      29916.0  36.0  18746.0   13.0 -12.894358     23062.0\n",
       "2      46404.0  36.0  50083.0    2.0 -17.777464     44740.0\n",
       "3       7413.0  36.0  21925.0   11.0  -7.355096      9150.0\n",
       "4      43400.0  36.0  36039.0    5.0 -19.488859     50814.0\n",
       "...        ...   ...      ...    ...        ...         ...\n",
       "57347  33610.0  36.0  29499.0    8.0 -15.476891     34167.0\n",
       "57348  37566.0  36.0  26146.0    9.0 -14.835495     31220.0\n",
       "57349  34744.0  36.0  47968.0    2.0 -17.363693     42999.0\n",
       "57350  51857.0  36.0  53408.0    1.0 -13.301474     24602.0\n",
       "57351  37478.0  36.0  23967.0   10.0 -16.702396     39953.0\n",
       "\n",
       "[57352 rows x 6 columns]"
      ]
     },
     "execution_count": null,
     "metadata": {},
     "output_type": "execute_result"
    }
   ],
   "source": [
    "df_lbl = df_res.loc[:, 36]\n",
    "df_lbl"
   ]
  },
  {
   "cell_type": "code",
   "execution_count": null,
   "id": "47678a2c-dc86-44d2-9fec-641e8c3c4961",
   "metadata": {},
   "outputs": [
    {
     "data": {
      "text/html": [
       "<div>\n",
       "<style scoped>\n",
       "    .dataframe tbody tr th:only-of-type {\n",
       "        vertical-align: middle;\n",
       "    }\n",
       "\n",
       "    .dataframe tbody tr th {\n",
       "        vertical-align: top;\n",
       "    }\n",
       "\n",
       "    .dataframe thead th {\n",
       "        text-align: right;\n",
       "    }\n",
       "</style>\n",
       "<table border=\"1\" class=\"dataframe\">\n",
       "  <thead>\n",
       "    <tr style=\"text-align: right;\">\n",
       "      <th>key2</th>\n",
       "      <th>tok</th>\n",
       "      <th>lbl</th>\n",
       "      <th>rank</th>\n",
       "      <th>score</th>\n",
       "      <th>preds</th>\n",
       "      <th>model_rank</th>\n",
       "    </tr>\n",
       "    <tr>\n",
       "      <th>toks</th>\n",
       "      <th></th>\n",
       "      <th></th>\n",
       "      <th></th>\n",
       "      <th></th>\n",
       "      <th></th>\n",
       "      <th></th>\n",
       "    </tr>\n",
       "  </thead>\n",
       "  <tbody>\n",
       "    <tr>\n",
       "      <th>18473</th>\n",
       "      <td>48627.0</td>\n",
       "      <td>36.0</td>\n",
       "      <td>0.0</td>\n",
       "      <td>101.0</td>\n",
       "      <td>-15.639397</td>\n",
       "      <td>34922.0</td>\n",
       "    </tr>\n",
       "    <tr>\n",
       "      <th>20731</th>\n",
       "      <td>44501.0</td>\n",
       "      <td>36.0</td>\n",
       "      <td>1.0</td>\n",
       "      <td>100.0</td>\n",
       "      <td>-13.256718</td>\n",
       "      <td>24450.0</td>\n",
       "    </tr>\n",
       "    <tr>\n",
       "      <th>23687</th>\n",
       "      <td>40729.0</td>\n",
       "      <td>36.0</td>\n",
       "      <td>2.0</td>\n",
       "      <td>100.0</td>\n",
       "      <td>-15.214401</td>\n",
       "      <td>32969.0</td>\n",
       "    </tr>\n",
       "    <tr>\n",
       "      <th>10706</th>\n",
       "      <td>33072.0</td>\n",
       "      <td>36.0</td>\n",
       "      <td>3.0</td>\n",
       "      <td>100.0</td>\n",
       "      <td>-5.480627</td>\n",
       "      <td>6497.0</td>\n",
       "    </tr>\n",
       "    <tr>\n",
       "      <th>47842</th>\n",
       "      <td>34935.0</td>\n",
       "      <td>36.0</td>\n",
       "      <td>4.0</td>\n",
       "      <td>100.0</td>\n",
       "      <td>-13.774936</td>\n",
       "      <td>26524.0</td>\n",
       "    </tr>\n",
       "    <tr>\n",
       "      <th>13967</th>\n",
       "      <td>35927.0</td>\n",
       "      <td>36.0</td>\n",
       "      <td>5.0</td>\n",
       "      <td>100.0</td>\n",
       "      <td>-10.850170</td>\n",
       "      <td>16654.0</td>\n",
       "    </tr>\n",
       "    <tr>\n",
       "      <th>5256</th>\n",
       "      <td>31647.0</td>\n",
       "      <td>36.0</td>\n",
       "      <td>6.0</td>\n",
       "      <td>99.0</td>\n",
       "      <td>-10.090065</td>\n",
       "      <td>14685.0</td>\n",
       "    </tr>\n",
       "    <tr>\n",
       "      <th>13072</th>\n",
       "      <td>33815.0</td>\n",
       "      <td>36.0</td>\n",
       "      <td>7.0</td>\n",
       "      <td>97.0</td>\n",
       "      <td>-14.215682</td>\n",
       "      <td>28456.0</td>\n",
       "    </tr>\n",
       "    <tr>\n",
       "      <th>32146</th>\n",
       "      <td>28861.0</td>\n",
       "      <td>36.0</td>\n",
       "      <td>8.0</td>\n",
       "      <td>96.0</td>\n",
       "      <td>-9.310374</td>\n",
       "      <td>12905.0</td>\n",
       "    </tr>\n",
       "    <tr>\n",
       "      <th>27696</th>\n",
       "      <td>27913.0</td>\n",
       "      <td>36.0</td>\n",
       "      <td>9.0</td>\n",
       "      <td>95.0</td>\n",
       "      <td>-14.602877</td>\n",
       "      <td>30185.0</td>\n",
       "    </tr>\n",
       "  </tbody>\n",
       "</table>\n",
       "</div>"
      ],
      "text/plain": [
       "key2       tok   lbl  rank  score      preds  model_rank\n",
       "toks                                                    \n",
       "18473  48627.0  36.0   0.0  101.0 -15.639397     34922.0\n",
       "20731  44501.0  36.0   1.0  100.0 -13.256718     24450.0\n",
       "23687  40729.0  36.0   2.0  100.0 -15.214401     32969.0\n",
       "10706  33072.0  36.0   3.0  100.0  -5.480627      6497.0\n",
       "47842  34935.0  36.0   4.0  100.0 -13.774936     26524.0\n",
       "13967  35927.0  36.0   5.0  100.0 -10.850170     16654.0\n",
       "5256   31647.0  36.0   6.0   99.0 -10.090065     14685.0\n",
       "13072  33815.0  36.0   7.0   97.0 -14.215682     28456.0\n",
       "32146  28861.0  36.0   8.0   96.0  -9.310374     12905.0\n",
       "27696  27913.0  36.0   9.0   95.0 -14.602877     30185.0"
      ]
     },
     "execution_count": null,
     "metadata": {},
     "output_type": "execute_result"
    }
   ],
   "source": [
    "df2 = df_lbl.sort_values(by='rank').head(10)\n",
    "df2"
   ]
  },
  {
   "cell_type": "code",
   "execution_count": null,
   "id": "291a80e6-a34c-4502-a66b-a8f7ade95975",
   "metadata": {},
   "outputs": [],
   "source": [
    "# idcg_at_k = pow(2, df2['score']) * (1 / np.log2(df2['rank']+2)  )\n",
    "# idcg_at_k\n",
    "\n",
    "# df3 = df_lbl.sort_values(by='model_rank').head(10)\n",
    "# df3\n",
    "\n",
    "# dcg_at_k = pow(2, df3['score'])  *(1/np.log2(df3['model_rank']+2))\n",
    "# dcg_at_k\n",
    "\n",
    "# dcg_at_k.sum()/idcg_at_k.sum()"
   ]
  }
 ],
 "metadata": {
  "kernelspec": {
   "display_name": "deepK",
   "language": "python",
   "name": "deepk"
  }
 },
 "nbformat": 4,
 "nbformat_minor": 5
}
