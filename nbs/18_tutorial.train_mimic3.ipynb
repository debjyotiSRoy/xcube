{
 "cells": [
  {
   "cell_type": "code",
   "execution_count": null,
   "id": "1c279662-f179-4a07-8b42-87d4ed1687d1",
   "metadata": {},
   "outputs": [],
   "source": [
    "#| eval: false\n",
    "! [ -e /content ] && pip install -Uqq xcube # upgrade xcube on colab"
   ]
  },
  {
   "cell_type": "code",
   "execution_count": null,
   "id": "0017265f-827d-4e0e-8c55-5c323563ebd8",
   "metadata": {},
   "outputs": [],
   "source": [
    "from fastai.text.all import *\n",
    "from xcube.text.all import *\n",
    "from fastai.metrics import accuracy # there's an 'accuracy' metric in xcube as well (Deb fix name conflict later)  "
   ]
  },
  {
   "cell_type": "markdown",
   "id": "6e29ed6c-4be3-4e78-883e-5fb180ba98ae",
   "metadata": {},
   "source": [
    "Make sure we have that \"beast\":"
   ]
  },
  {
   "cell_type": "code",
   "execution_count": null,
   "id": "d1161176-8152-4577-83f2-4f01aa2ec753",
   "metadata": {},
   "outputs": [
    {
     "name": "stderr",
     "output_type": "stream",
     "text": [
      "ic| torch.cuda.get_device_name(default_device()): 'Quadro RTX 8000'\n"
     ]
    },
    {
     "name": "stdout",
     "output_type": "stream",
     "text": [
      "GPU memory = 44.99969482421875GB\n"
     ]
    }
   ],
   "source": [
    "ic(torch.cuda.get_device_name(default_device()));\n",
    "test_eq(torch.cuda.get_device_name(0), torch.cuda.get_device_name(default_device()))\n",
    "test_eq(default_device(), torch.device(0))\n",
    "print(f\"GPU memory = {torch.cuda.get_device_properties(default_device()).total_memory/1024**3}GB\")"
   ]
  },
  {
   "cell_type": "code",
   "execution_count": null,
   "id": "581ae160-5921-4d81-9c2c-e5308965b661",
   "metadata": {},
   "outputs": [],
   "source": [
    "#| hide\n",
    "%load_ext autoreload\n",
    "%autoreload 2"
   ]
  },
  {
   "cell_type": "code",
   "execution_count": null,
   "id": "41a21167-c402-4bbc-bdfa-7cf68ce5db39",
   "metadata": {},
   "outputs": [
    {
     "data": {
      "text/html": [
       "\n",
       "<style>\n",
       "    /* Turns off some styling */\n",
       "    progress {\n",
       "        /* gets rid of default border in Firefox and Opera. */\n",
       "        border: none;\n",
       "        /* Needs to be in here for Safari polyfill so background images work as expected. */\n",
       "        background-size: auto;\n",
       "    }\n",
       "    progress:not([value]), progress:not([value])::-webkit-progress-bar {\n",
       "        background: repeating-linear-gradient(45deg, #7e7e7e, #7e7e7e 10px, #5c5c5c 10px, #5c5c5c 20px);\n",
       "    }\n",
       "    .progress-bar-interrupted, .progress-bar-interrupted::-webkit-progress-bar {\n",
       "        background: #F44336;\n",
       "    }\n",
       "</style>\n"
      ],
      "text/plain": [
       "<IPython.core.display.HTML object>"
      ]
     },
     "metadata": {},
     "output_type": "display_data"
    },
    {
     "data": {
      "text/html": [
       "\n",
       "    <div>\n",
       "      <progress value='3504545792' class='' max='3504539029' style='width:300px; height:20px; vertical-align: middle;'></progress>\n",
       "      100.00% [3504545792/3504539029 01:02&lt;00:00]\n",
       "    </div>\n",
       "    "
      ],
      "text/plain": [
       "<IPython.core.display.HTML object>"
      ]
     },
     "metadata": {},
     "output_type": "display_data"
    }
   ],
   "source": [
    "source = untar_xxx(XURLs.MIMIC3)\n",
    "# source.ls()"
   ]
  },
  {
   "cell_type": "markdown",
   "id": "1468c9af-7201-4c5c-ad42-220f24c228fc",
   "metadata": {},
   "source": [
    "Setting some environment variables:"
   ]
  },
  {
   "cell_type": "code",
   "execution_count": null,
   "id": "9ec8bb49-f679-4161-8bab-a8881878c6f6",
   "metadata": {},
   "outputs": [],
   "source": [
    "# os.environ['CUDA_LAUNCH_BLOCKING'] = \"1\""
   ]
  },
  {
   "cell_type": "markdown",
   "id": "0cc57476-00ef-4954-b3fa-119f4bcaf3a8",
   "metadata": {},
   "source": [
    "Setting defaults for pandas and matplotlib:"
   ]
  },
  {
   "cell_type": "code",
   "execution_count": null,
   "id": "10efe8ae-a5b8-466c-b7f9-bebe3a2cc138",
   "metadata": {},
   "outputs": [],
   "source": [
    "# Set the default figure size\n",
    "plt.rcParams[\"figure.figsize\"] = (8, 4)"
   ]
  },
  {
   "cell_type": "markdown",
   "id": "a48fac5d-c946-4158-9117-b6a121b91b5c",
   "metadata": {},
   "source": [
    "Altering some default jupyter settings:"
   ]
  },
  {
   "cell_type": "code",
   "execution_count": null,
   "id": "57637c3c-ec69-4dc3-986d-4bc4b31605e4",
   "metadata": {},
   "outputs": [],
   "source": [
    "from IPython.core.interactiveshell import InteractiveShell\n",
    "# InteractiveShell.ast_node_interactivity = \"last\" # \"all\""
   ]
  },
  {
   "cell_type": "markdown",
   "id": "785f5121-462b-405b-af5e-8e9da8d99a2b",
   "metadata": {},
   "source": [
    "# Training an XML Text Classifier"
   ]
  },
  {
   "cell_type": "markdown",
   "id": "d404adef-ce2e-49aa-8f1f-f1fc2a448787",
   "metadata": {},
   "source": [
    "## `DataLoaders` for the Language Model"
   ]
  },
  {
   "cell_type": "markdown",
   "id": "2f344003-5256-4207-9957-4959cad59a1b",
   "metadata": {},
   "source": [
    "To be able to use Transfer Learning, first we need to fine-tune our Language Model (which we pretrained on Wikipedia) on the corpus of Wiki-500k (the one we downloaded). Here we will build the `DataLoaders` object using fastai's `DataBlock` API:"
   ]
  },
  {
   "cell_type": "code",
   "execution_count": null,
   "id": "0baa879a-0eca-4a82-9926-35658762db08",
   "metadata": {},
   "outputs": [
    {
     "name": "stdout",
     "output_type": "stream",
     "text": [
      "subject_id,hadm_id,text,labels,length,is_valid\n"
     ]
    }
   ],
   "source": [
    "data = source/'mimic3-9k.csv'\n",
    "!head -n 1 {data}"
   ]
  },
  {
   "cell_type": "code",
   "execution_count": null,
   "id": "c15a2fca-bf86-4a13-ba60-1bcfe8f41762",
   "metadata": {},
   "outputs": [
    {
     "data": {
      "text/plain": [
       "52726"
      ]
     },
     "execution_count": null,
     "metadata": {},
     "output_type": "execute_result"
    }
   ],
   "source": [
    "df = pd.read_csv(data,\n",
    "                 header=0,\n",
    "                 names=['subject_id', 'hadm_id', 'text', 'labels', 'length', 'is_valid'],\n",
    "                 dtype={'subject_id': str, 'hadm_id': str, 'text': str, 'labels': str, 'length': np.int64, 'is_valid': bool})\n",
    "len(df)"
   ]
  },
  {
   "cell_type": "code",
   "execution_count": null,
   "id": "3cbe3d5e-f89d-4bc3-948c-0b0b207daa7c",
   "metadata": {},
   "outputs": [],
   "source": [
    "df[['text', 'labels']] = df[['text', 'labels']].astype(str)"
   ]
  },
  {
   "cell_type": "markdown",
   "id": "89ae1a47-dc09-42ab-93e4-7520455ed8b9",
   "metadata": {},
   "source": [
    "Let's take a look at the data:"
   ]
  },
  {
   "cell_type": "code",
   "execution_count": null,
   "id": "01c248e5-774b-46f1-8dca-64bab545f716",
   "metadata": {},
   "outputs": [
    {
     "data": {
      "text/html": [
       "<div>\n",
       "<style scoped>\n",
       "    .dataframe tbody tr th:only-of-type {\n",
       "        vertical-align: middle;\n",
       "    }\n",
       "\n",
       "    .dataframe tbody tr th {\n",
       "        vertical-align: top;\n",
       "    }\n",
       "\n",
       "    .dataframe thead th {\n",
       "        text-align: right;\n",
       "    }\n",
       "</style>\n",
       "<table border=\"1\" class=\"dataframe\">\n",
       "  <thead>\n",
       "    <tr style=\"text-align: right;\">\n",
       "      <th></th>\n",
       "      <th>subject_id</th>\n",
       "      <th>hadm_id</th>\n",
       "      <th>text</th>\n",
       "      <th>labels</th>\n",
       "      <th>length</th>\n",
       "      <th>is_valid</th>\n",
       "    </tr>\n",
       "  </thead>\n",
       "  <tbody>\n",
       "    <tr>\n",
       "      <th>0</th>\n",
       "      <td>86006</td>\n",
       "      <td>111912</td>\n",
       "      <td>admission date discharge date date of birth sex f service surgery allergies patient recorded as having no known allergies to drugs attending first name3 lf chief complaint 60f on coumadin was found slightly drowsy tonight then fell down stairs paramedic found her unconscious and she was intubated w o any medication head ct shows multiple iph transferred to hospital1 for further eval major surgical or invasive procedure none past medical history her medical history is significant for hypertension osteoarthritis involving bilateral knee joints with a dependence on cane for ambulation chronic...</td>\n",
       "      <td>801.35;348.4;805.06;807.01;998.30;707.24;E880.9;427.31;414.01;401.9;V58.61;V43.64;707.00;E878.1;96.71</td>\n",
       "      <td>230</td>\n",
       "      <td>False</td>\n",
       "    </tr>\n",
       "    <tr>\n",
       "      <th>1</th>\n",
       "      <td>85950</td>\n",
       "      <td>189769</td>\n",
       "      <td>admission date discharge date service neurosurgery allergies sulfa sulfonamides attending first name3 lf chief complaint cc cc contact info major surgical or invasive procedure none history of present illness hpi 88m who lives with family had fall yesterday today had decline in mental status ems called pt was unresponsive on arrival went to osh head ct showed large r sdh pt was intubated at osh and transferred to hospital1 for further care past medical history cad s p mi in s p cabg in ventricular aneurysm at that time cath in with occluded rca unable to intervene chf reported ef 1st degre...</td>\n",
       "      <td>852.25;E888.9;403.90;585.9;250.00;414.00;V45.81;96.71</td>\n",
       "      <td>304</td>\n",
       "      <td>False</td>\n",
       "    </tr>\n",
       "    <tr>\n",
       "      <th>2</th>\n",
       "      <td>88025</td>\n",
       "      <td>180431</td>\n",
       "      <td>admission date discharge date date of birth sex f service surgery allergies no known allergies adverse drug reactions attending first name3 lf chief complaint s p fall major surgical or invasive procedure none history of present illness 45f etoh s p fall from window at feet found ambulating and slurring speech on scene intubated en route for declining mental status in the er the patient was found to be bradycardic to the s with bp of systolic she was given atropine dilantin and was started on saline past medical history unknown social history unknown family history unknown physical exam ex...</td>\n",
       "      <td>518.81;348.4;348.82;801.25;427.89;E882;V49.86;305.00;96.71;38.93</td>\n",
       "      <td>359</td>\n",
       "      <td>False</td>\n",
       "    </tr>\n",
       "  </tbody>\n",
       "</table>\n",
       "</div>"
      ],
      "text/plain": [
       "  subject_id hadm_id  \\\n",
       "0      86006  111912   \n",
       "1      85950  189769   \n",
       "2      88025  180431   \n",
       "\n",
       "                                                                                                                                                                                                                                                                                                                                                                                                                                                                                                                                                                                                                      text  \\\n",
       "0  admission date discharge date date of birth sex f service surgery allergies patient recorded as having no known allergies to drugs attending first name3 lf chief complaint 60f on coumadin was found slightly drowsy tonight then fell down stairs paramedic found her unconscious and she was intubated w o any medication head ct shows multiple iph transferred to hospital1 for further eval major surgical or invasive procedure none past medical history her medical history is significant for hypertension osteoarthritis involving bilateral knee joints with a dependence on cane for ambulation chronic...   \n",
       "1  admission date discharge date service neurosurgery allergies sulfa sulfonamides attending first name3 lf chief complaint cc cc contact info major surgical or invasive procedure none history of present illness hpi 88m who lives with family had fall yesterday today had decline in mental status ems called pt was unresponsive on arrival went to osh head ct showed large r sdh pt was intubated at osh and transferred to hospital1 for further care past medical history cad s p mi in s p cabg in ventricular aneurysm at that time cath in with occluded rca unable to intervene chf reported ef 1st degre...   \n",
       "2  admission date discharge date date of birth sex f service surgery allergies no known allergies adverse drug reactions attending first name3 lf chief complaint s p fall major surgical or invasive procedure none history of present illness 45f etoh s p fall from window at feet found ambulating and slurring speech on scene intubated en route for declining mental status in the er the patient was found to be bradycardic to the s with bp of systolic she was given atropine dilantin and was started on saline past medical history unknown social history unknown family history unknown physical exam ex...   \n",
       "\n",
       "                                                                                                  labels  \\\n",
       "0  801.35;348.4;805.06;807.01;998.30;707.24;E880.9;427.31;414.01;401.9;V58.61;V43.64;707.00;E878.1;96.71   \n",
       "1                                                  852.25;E888.9;403.90;585.9;250.00;414.00;V45.81;96.71   \n",
       "2                                       518.81;348.4;348.82;801.25;427.89;E882;V49.86;305.00;96.71;38.93   \n",
       "\n",
       "   length  is_valid  \n",
       "0     230     False  \n",
       "1     304     False  \n",
       "2     359     False  "
      ]
     },
     "execution_count": null,
     "metadata": {},
     "output_type": "execute_result"
    }
   ],
   "source": [
    "df.head(3)"
   ]
  },
  {
   "cell_type": "markdown",
   "id": "4e4b459b-c4f1-4357-afbe-b6b81b3b8cec",
   "metadata": {},
   "source": [
    "We will now create the `DataLoaders` using `DataBlock` API:"
   ]
  },
  {
   "cell_type": "code",
   "execution_count": null,
   "id": "a888ae1e-3c7e-4394-876d-ff79f8679411",
   "metadata": {},
   "outputs": [
    {
     "data": {
      "text/html": [
       "\n",
       "<style>\n",
       "    /* Turns off some styling */\n",
       "    progress {\n",
       "        /* gets rid of default border in Firefox and Opera. */\n",
       "        border: none;\n",
       "        /* Needs to be in here for Safari polyfill so background images work as expected. */\n",
       "        background-size: auto;\n",
       "    }\n",
       "    progress:not([value]), progress:not([value])::-webkit-progress-bar {\n",
       "        background: repeating-linear-gradient(45deg, #7e7e7e, #7e7e7e 10px, #5c5c5c 10px, #5c5c5c 20px);\n",
       "    }\n",
       "    .progress-bar-interrupted, .progress-bar-interrupted::-webkit-progress-bar {\n",
       "        background: #F44336;\n",
       "    }\n",
       "</style>\n"
      ],
      "text/plain": [
       "<IPython.core.display.HTML object>"
      ]
     },
     "metadata": {},
     "output_type": "display_data"
    },
    {
     "data": {
      "text/html": [],
      "text/plain": [
       "<IPython.core.display.HTML object>"
      ]
     },
     "metadata": {},
     "output_type": "display_data"
    }
   ],
   "source": [
    "dls_lm = DataBlock(\n",
    "    blocks   = TextBlock.from_df('text', is_lm=True),\n",
    "    get_x    = ColReader('text'),\n",
    "    splitter = RandomSplitter(0.1)\n",
    ").dataloaders(df, bs=384, seq_len=80)"
   ]
  },
  {
   "cell_type": "markdown",
   "id": "29e43541-0a47-4a18-940d-7473bf91a37e",
   "metadata": {},
   "source": [
    "For the backward LM:"
   ]
  },
  {
   "cell_type": "code",
   "execution_count": null,
   "id": "cb622cc4-1ec5-43a4-94d2-3a8b8b3bb8f1",
   "metadata": {},
   "outputs": [
    {
     "data": {
      "text/html": [
       "\n",
       "<style>\n",
       "    /* Turns off some styling */\n",
       "    progress {\n",
       "        /* gets rid of default border in Firefox and Opera. */\n",
       "        border: none;\n",
       "        /* Needs to be in here for Safari polyfill so background images work as expected. */\n",
       "        background-size: auto;\n",
       "    }\n",
       "    progress:not([value]), progress:not([value])::-webkit-progress-bar {\n",
       "        background: repeating-linear-gradient(45deg, #7e7e7e, #7e7e7e 10px, #5c5c5c 10px, #5c5c5c 20px);\n",
       "    }\n",
       "    .progress-bar-interrupted, .progress-bar-interrupted::-webkit-progress-bar {\n",
       "        background: #F44336;\n",
       "    }\n",
       "</style>\n"
      ],
      "text/plain": [
       "<IPython.core.display.HTML object>"
      ]
     },
     "metadata": {},
     "output_type": "display_data"
    },
    {
     "data": {
      "text/html": [],
      "text/plain": [
       "<IPython.core.display.HTML object>"
      ]
     },
     "metadata": {},
     "output_type": "display_data"
    }
   ],
   "source": [
    "dls_lm_r = DataBlock(\n",
    "    blocks   = TextBlock.from_df('text', is_lm=True, backwards=True),\n",
    "    get_x    = ColReader('text'),\n",
    "    splitter = RandomSplitter(0.1)\n",
    ").dataloaders(df, bs=384, seq_len=80)"
   ]
  },
  {
   "cell_type": "markdown",
   "id": "9360e9b7-968c-4d63-a7c8-47b894f9d368",
   "metadata": {},
   "source": [
    "Let's take a look at the batches:"
   ]
  },
  {
   "cell_type": "code",
   "execution_count": null,
   "id": "fb5eb28e-94a7-4448-a4e3-0151959e16ba",
   "metadata": {},
   "outputs": [
    {
     "data": {
      "text/html": [
       "<table border=\"1\" class=\"dataframe\">\n",
       "  <thead>\n",
       "    <tr style=\"text-align: right;\">\n",
       "      <th></th>\n",
       "      <th>text</th>\n",
       "      <th>text_</th>\n",
       "    </tr>\n",
       "  </thead>\n",
       "  <tbody>\n",
       "    <tr>\n",
       "      <th>0</th>\n",
       "      <td>xxbos admission date discharge date date of birth sex m service cardiothoracic allergies percocet attending first name3 lf chief complaint recent onset angina and doe major surgical or invasive procedure redo coronary artery bypass graft saphavenous graft posterior descending artery saphavenous graft obtuse marginal saphavenous diagonal atrial septal defect closure biventricular lead placement history of present illness yo male with history of cad and prior cabg x4 in his angina has been relatively stable and resolves with rest he has</td>\n",
       "      <td>admission date discharge date date of birth sex m service cardiothoracic allergies percocet attending first name3 lf chief complaint recent onset angina and doe major surgical or invasive procedure redo coronary artery bypass graft saphavenous graft posterior descending artery saphavenous graft obtuse marginal saphavenous diagonal atrial septal defect closure biventricular lead placement history of present illness yo male with history of cad and prior cabg x4 in his angina has been relatively stable and resolves with rest he has had</td>\n",
       "    </tr>\n",
       "    <tr>\n",
       "      <th>1</th>\n",
       "      <td>lft s and re checking ekg tox screen was only pos for amphetamines past medical history depression no previous psychiatric admission pcp last name namepattern4 last name stitle prescribes paxil adhd social history lives with roommate in location un plays piano gives lessons sister died months ago from crack overdose no etoh or drug use family history bipolar disorder physical exam pe hr bp rr os sat on vent ac 500x18 peep fio2 genl intubated sedated heent pupils sluggish mm</td>\n",
       "      <td>s and re checking ekg tox screen was only pos for amphetamines past medical history depression no previous psychiatric admission pcp last name namepattern4 last name stitle prescribes paxil adhd social history lives with roommate in location un plays piano gives lessons sister died months ago from crack overdose no etoh or drug use family history bipolar disorder physical exam pe hr bp rr os sat on vent ac 500x18 peep fio2 genl intubated sedated heent pupils sluggish mm no</td>\n",
       "    </tr>\n",
       "  </tbody>\n",
       "</table>"
      ],
      "text/plain": [
       "<IPython.core.display.HTML object>"
      ]
     },
     "metadata": {},
     "output_type": "display_data"
    }
   ],
   "source": [
    "dls_lm.show_batch(max_n=2)"
   ]
  },
  {
   "cell_type": "code",
   "execution_count": null,
   "id": "93b899f4-5914-4100-923f-2abb43b12272",
   "metadata": {},
   "outputs": [
    {
     "data": {
      "text/html": [
       "<table border=\"1\" class=\"dataframe\">\n",
       "  <thead>\n",
       "    <tr style=\"text-align: right;\">\n",
       "      <th></th>\n",
       "      <th>text</th>\n",
       "      <th>text_</th>\n",
       "    </tr>\n",
       "  </thead>\n",
       "  <tbody>\n",
       "    <tr>\n",
       "      <th>0</th>\n",
       "      <td>number job job t d medquist36 md name8 by dictated number md d m md name8 md name6 inhalers atrovent inhalers albuterol d q o p atenolol d i t o p tabs two sinemet d i b o p effexor d i q o p mg baclofen d i t o p mg xanax until continued be to d i t o p mg flagyl until continued be to d q o p mg levofloxacin medications discharge hypertension s</td>\n",
       "      <td>job job t d medquist36 md name8 by dictated number md d m md name8 md name6 inhalers atrovent inhalers albuterol d q o p atenolol d i t o p tabs two sinemet d i b o p effexor d i q o p mg baclofen d i t o p mg xanax until continued be to d i t o p mg flagyl until continued be to d q o p mg levofloxacin medications discharge hypertension s parkinson</td>\n",
       "    </tr>\n",
       "    <tr>\n",
       "      <th>1</th>\n",
       "      <td>les bilateral in present edema trace cyanosis or clubbing no ext nabs distended non soft panus large abdomen obese abd appreciated g r m no rhythm regular tachycardic cor chest across papules crusted round chest wheezes expiratory and inspiratory with bilaterally sounds breath coarse lung jvp visualize not could supple thick and short neck membranes mucous moist bilaterally reactive and mm 2 pupils heent stimuli painful to responsive minimally sedated and intubated man obese morbidly gen peep 600x18 ac on</td>\n",
       "      <td>bilateral in present edema trace cyanosis or clubbing no ext nabs distended non soft panus large abdomen obese abd appreciated g r m no rhythm regular tachycardic cor chest across papules crusted round chest wheezes expiratory and inspiratory with bilaterally sounds breath coarse lung jvp visualize not could supple thick and short neck membranes mucous moist bilaterally reactive and mm 2 pupils heent stimuli painful to responsive minimally sedated and intubated man obese morbidly gen peep 600x18 ac on hr</td>\n",
       "    </tr>\n",
       "  </tbody>\n",
       "</table>"
      ],
      "text/plain": [
       "<IPython.core.display.HTML object>"
      ]
     },
     "metadata": {},
     "output_type": "display_data"
    }
   ],
   "source": [
    "dls_lm_r.show_batch(max_n=2)"
   ]
  },
  {
   "cell_type": "markdown",
   "id": "756652a3-c791-4942-ba82-c95793229173",
   "metadata": {},
   "source": [
    "The length of our vocabulary is:"
   ]
  },
  {
   "cell_type": "code",
   "execution_count": null,
   "id": "ff8eff9f-2e0b-49bd-a831-98c1152ffbeb",
   "metadata": {},
   "outputs": [
    {
     "data": {
      "text/plain": [
       "57376"
      ]
     },
     "execution_count": null,
     "metadata": {},
     "output_type": "execute_result"
    }
   ],
   "source": [
    "len(dls_lm.vocab)"
   ]
  },
  {
   "cell_type": "markdown",
   "id": "506bf184-dca6-4b80-b61f-b8957a7da626",
   "metadata": {},
   "source": [
    "Let's take a look at some words of the vocab:"
   ]
  },
  {
   "cell_type": "code",
   "execution_count": null,
   "id": "6e968ac3-7892-44cd-a5cf-a393faed199f",
   "metadata": {},
   "outputs": [
    {
     "name": "stdout",
     "output_type": "stream",
     "text": [
      "(#57376) ['xxunk','xxpad','xxbos','xxeos','xxfld','xxrep','xxwrep','xxup','xxmaj','the','and','to','of','was','with','a','on','in','for','mg','no','tablet','patient','is','he','at','blood','name','po','she'...]\n"
     ]
    }
   ],
   "source": [
    "print(coll_repr(L(dls_lm.vocab), 30))"
   ]
  },
  {
   "cell_type": "markdown",
   "id": "f5020af3-ee21-463f-9b23-af8f975a12f7",
   "metadata": {},
   "source": [
    "Creating the `DataLaoders` takes some time, so smash that *save* button (also a good idea to save the `dls_lm.vocab` for later use) if you are working on your own dataset. In this case though `untar_xxx` has got it for you:"
   ]
  },
  {
   "cell_type": "code",
   "execution_count": null,
   "id": "6e2049d8-f68f-421d-bfb3-1c8a900f9fab",
   "metadata": {},
   "outputs": [
    {
     "name": "stdout",
     "output_type": "stream",
     "text": [
      "/home/deb/.xcube/data/mimic3/mimic3-9k_dls_lm.pkl\n",
      "/home/deb/.xcube/data/mimic3/mimic3-9k_dls_lm_vocab_r.pkl\n",
      "/home/deb/.xcube/data/mimic3/mimic3-9k_dls_lm_vocab.pkl\n",
      "/home/deb/.xcube/data/mimic3/mimic3-9k_dls_lm_r.pkl\n",
      "/home/deb/.xcube/data/mimic3/mimic3-9k_dls_lm_old.pkl\n"
     ]
    }
   ],
   "source": [
    "print(\"\\n\".join(L(source.glob(\"**/*dls*lm*.pkl\")).map(str))) # the ones with _r are for the reverse language model"
   ]
  },
  {
   "cell_type": "markdown",
   "id": "d134f443-6c45-4033-b1cd-77fad51716ac",
   "metadata": {},
   "source": [
    "To load back the `dls_lm` later on:"
   ]
  },
  {
   "cell_type": "code",
   "execution_count": null,
   "id": "aef4e101-6045-4ccb-8719-8bf6ccf2133c",
   "metadata": {},
   "outputs": [],
   "source": [
    "dls_lm = torch.load(source/'mimic3-9k_dls_lm.pkl')"
   ]
  },
  {
   "cell_type": "code",
   "execution_count": null,
   "id": "6007c555-6526-409e-a7b7-a004ac2dc859",
   "metadata": {},
   "outputs": [],
   "source": [
    "dls_lm_r = torch.load(source/'mimic3-9k_dls_lm_r.pkl')"
   ]
  },
  {
   "cell_type": "markdown",
   "id": "35fb57d8-c761-448e-ad94-1543100ea4d5",
   "metadata": {},
   "source": [
    "## `Learner` for the Language Model Fine-Tuning:"
   ]
  },
  {
   "cell_type": "code",
   "execution_count": null,
   "id": "066b8008-c451-488b-bcd5-c2c56e520fd7",
   "metadata": {},
   "outputs": [],
   "source": [
    "learn = language_model_learner(\n",
    "    dls_lm, AWD_LSTM, drop_mult=0.3,\n",
    "    metrics=[accuracy, Perplexity()]).to_fp16()"
   ]
  },
  {
   "cell_type": "markdown",
   "id": "cdc2c307-e617-4a2d-9d5b-f92742a04f61",
   "metadata": {},
   "source": [
    "And, one more for the reverse:"
   ]
  },
  {
   "cell_type": "code",
   "execution_count": null,
   "id": "0b87d7c8-14d7-4bdd-99bc-cb7537bbafe5",
   "metadata": {},
   "outputs": [],
   "source": [
    "learn_r = language_model_learner(\n",
    "    dls_lm_r, AWD_LSTM, drop_mult=0.3, backwards=True,\n",
    "    metrics=[accuracy, Perplexity()]).to_fp16()"
   ]
  },
  {
   "cell_type": "markdown",
   "id": "bd082375-1f59-4e9c-9f11-adb3b0fd444f",
   "metadata": {},
   "source": [
    "Training a language model on the full datset takes a lot of time. So you can train one on a tiny dataset for illustration. Or you can skip the training and just load up the one that's pretrained and downloaded by `untar_xxx` and just do the validation."
   ]
  },
  {
   "cell_type": "markdown",
   "id": "ee482e95-7900-43e2-a52f-060259ca4fcc",
   "metadata": {},
   "source": [
    "Let's compute the learning rate using the `lr_find`:"
   ]
  },
  {
   "cell_type": "code",
   "execution_count": null,
   "id": "8a6ce819-c842-4e63-bde1-0e4782e4ac2c",
   "metadata": {},
   "outputs": [],
   "source": [
    "lr_min, lr_steep, lr_valley, lr_slide = learn.lr_find(suggest_funcs=(minimum, steep, valley, slide))\n",
    "lr_min, lr_steep, lr_valley, lr_slide"
   ]
  },
  {
   "cell_type": "code",
   "execution_count": null,
   "id": "25870a9c-b75b-4f9b-a64a-6e761aba62d9",
   "metadata": {},
   "outputs": [
    {
     "data": {
      "text/html": [
       "\n",
       "<style>\n",
       "    /* Turns off some styling */\n",
       "    progress {\n",
       "        /* gets rid of default border in Firefox and Opera. */\n",
       "        border: none;\n",
       "        /* Needs to be in here for Safari polyfill so background images work as expected. */\n",
       "        background-size: auto;\n",
       "    }\n",
       "    .progress-bar-interrupted, .progress-bar-interrupted::-webkit-progress-bar {\n",
       "        background: #F44336;\n",
       "    }\n",
       "</style>\n"
      ],
      "text/plain": [
       "<IPython.core.display.HTML object>"
      ]
     },
     "metadata": {},
     "output_type": "display_data"
    },
    {
     "data": {
      "text/html": [
       "<table border=\"1\" class=\"dataframe\">\n",
       "  <thead>\n",
       "    <tr style=\"text-align: left;\">\n",
       "      <th>epoch</th>\n",
       "      <th>train_loss</th>\n",
       "      <th>valid_loss</th>\n",
       "      <th>accuracy</th>\n",
       "      <th>perplexity</th>\n",
       "      <th>time</th>\n",
       "    </tr>\n",
       "  </thead>\n",
       "  <tbody>\n",
       "    <tr>\n",
       "      <td>0</td>\n",
       "      <td>3.646323</td>\n",
       "      <td>3.512013</td>\n",
       "      <td>0.382642</td>\n",
       "      <td>33.515659</td>\n",
       "      <td>2:27:57</td>\n",
       "    </tr>\n",
       "  </tbody>\n",
       "</table>"
      ],
      "text/plain": [
       "<IPython.core.display.HTML object>"
      ]
     },
     "metadata": {},
     "output_type": "display_data"
    }
   ],
   "source": [
    "learn.fit_one_cycle(1, lr_min)"
   ]
  },
  {
   "cell_type": "markdown",
   "id": "4db84baa-0d8e-4942-90c0-2ff957e618e4",
   "metadata": {},
   "source": [
    "It takes quite a while to train each epoch, so we'll be saving the intermediate model results during the training process:"
   ]
  },
  {
   "cell_type": "markdown",
   "id": "15433f16-257e-4355-87dc-4862fb3d1159",
   "metadata": {},
   "source": [
    "Since we have completed the initial training, we will now continue fine-tuning the model after unfreezing:"
   ]
  },
  {
   "cell_type": "code",
   "execution_count": null,
   "id": "ba11c6fe-524a-4d72-bc37-dc3508e7f598",
   "metadata": {},
   "outputs": [],
   "source": [
    "learn.unfreeze()"
   ]
  },
  {
   "cell_type": "markdown",
   "id": "afe943cf-b563-4964-92e0-1a255ead2215",
   "metadata": {},
   "source": [
    "and run `lr_find` again, because we now have more layers to train, and the last layers weight have already been trained for one epoch:"
   ]
  },
  {
   "cell_type": "code",
   "execution_count": null,
   "id": "dd9d5c54-7199-4364-9aee-b5b9c0467108",
   "metadata": {},
   "outputs": [],
   "source": [
    "lr_min, lr_steep, lr_valley, lr_slide = learn.lr_find(suggest_funcs=(minimum, steep, valley, slide))\n",
    "lr_min, lr_steep, lr_valley, lr_slide"
   ]
  },
  {
   "cell_type": "markdown",
   "id": "7dbcc029-1fd3-43dd-adad-bfdcec531d7e",
   "metadata": {},
   "source": [
    "Let's now traing with a suitable learning rate:"
   ]
  },
  {
   "cell_type": "code",
   "execution_count": null,
   "id": "039fb4f9-0b5d-4a26-9330-6a72a2bc02a5",
   "metadata": {},
   "outputs": [],
   "source": [
    "learn.fit_one_cycle(10, lr_max=2e-3, cbs=SaveModelCallback(fname='lm'))"
   ]
  },
  {
   "cell_type": "markdown",
   "id": "a01da06f-fd61-4e5d-8124-703a5a06a6a4",
   "metadata": {},
   "source": [
    "Note: Make sure if you have trained the most recent language model `Learner` for more epochs (then you need to save that version)"
   ]
  },
  {
   "cell_type": "markdown",
   "id": "7afe37a6-dad4-4802-aebf-457003b70c28",
   "metadata": {},
   "source": [
    "Here you can load the pretrained language model which `untar_xxx` downloaded:"
   ]
  },
  {
   "cell_type": "code",
   "execution_count": null,
   "id": "f4a613dc-43fc-4604-b4e5-31575bc97e3c",
   "metadata": {},
   "outputs": [],
   "source": [
    "learn = learn.load(source/'mimic3-9k_lm')"
   ]
  },
  {
   "cell_type": "code",
   "execution_count": null,
   "id": "9d138c22-76ea-4e43-919f-3b739084cf39",
   "metadata": {},
   "outputs": [],
   "source": [
    "learn_r = learn_r.load(source/'mimic3-9k_lm_r')"
   ]
  },
  {
   "cell_type": "markdown",
   "id": "dd261c86-e337-483d-b4aa-c84abed27095",
   "metadata": {},
   "source": [
    "Let's validate the `Learner` to make sure we loaded the correct version:"
   ]
  },
  {
   "cell_type": "code",
   "execution_count": null,
   "id": "6c76a133-14b9-449e-b3e7-77bad2d38778",
   "metadata": {},
   "outputs": [
    {
     "data": {
      "text/html": [
       "\n",
       "<style>\n",
       "    /* Turns off some styling */\n",
       "    progress {\n",
       "        /* gets rid of default border in Firefox and Opera. */\n",
       "        border: none;\n",
       "        /* Needs to be in here for Safari polyfill so background images work as expected. */\n",
       "        background-size: auto;\n",
       "    }\n",
       "    progress:not([value]), progress:not([value])::-webkit-progress-bar {\n",
       "        background: repeating-linear-gradient(45deg, #7e7e7e, #7e7e7e 10px, #5c5c5c 10px, #5c5c5c 20px);\n",
       "    }\n",
       "    .progress-bar-interrupted, .progress-bar-interrupted::-webkit-progress-bar {\n",
       "        background: #F44336;\n",
       "    }\n",
       "</style>\n"
      ],
      "text/plain": [
       "<IPython.core.display.HTML object>"
      ]
     },
     "metadata": {},
     "output_type": "display_data"
    },
    {
     "data": {
      "text/html": [],
      "text/plain": [
       "<IPython.core.display.HTML object>"
      ]
     },
     "metadata": {},
     "output_type": "display_data"
    },
    {
     "data": {
      "text/plain": [
       "(#3) [2.050518035888672,0.5703166723251343,7.771926403045654]"
      ]
     },
     "execution_count": null,
     "metadata": {},
     "output_type": "execute_result"
    }
   ],
   "source": [
    "learn.validate()"
   ]
  },
  {
   "cell_type": "markdown",
   "id": "9b12edff-7dde-4d25-a27c-30c968ef58f0",
   "metadata": {},
   "source": [
    "and the reverse..."
   ]
  },
  {
   "cell_type": "code",
   "execution_count": null,
   "id": "13fdaa5e-3e8b-4afc-b739-cbe8502cb34f",
   "metadata": {},
   "outputs": [
    {
     "data": {
      "text/html": [
       "\n",
       "<style>\n",
       "    /* Turns off some styling */\n",
       "    progress {\n",
       "        /* gets rid of default border in Firefox and Opera. */\n",
       "        border: none;\n",
       "        /* Needs to be in here for Safari polyfill so background images work as expected. */\n",
       "        background-size: auto;\n",
       "    }\n",
       "    progress:not([value]), progress:not([value])::-webkit-progress-bar {\n",
       "        background: repeating-linear-gradient(45deg, #7e7e7e, #7e7e7e 10px, #5c5c5c 10px, #5c5c5c 20px);\n",
       "    }\n",
       "    .progress-bar-interrupted, .progress-bar-interrupted::-webkit-progress-bar {\n",
       "        background: #F44336;\n",
       "    }\n",
       "</style>\n"
      ],
      "text/plain": [
       "<IPython.core.display.HTML object>"
      ]
     },
     "metadata": {},
     "output_type": "display_data"
    },
    {
     "data": {
      "text/html": [],
      "text/plain": [
       "<IPython.core.display.HTML object>"
      ]
     },
     "metadata": {},
     "output_type": "display_data"
    },
    {
     "data": {
      "text/plain": [
       "(#3) [2.099604845046997,0.569995641708374,8.162943840026855]"
      ]
     },
     "execution_count": null,
     "metadata": {},
     "output_type": "execute_result"
    }
   ],
   "source": [
    "learn_r.validate()"
   ]
  },
  {
   "cell_type": "markdown",
   "id": "32da5a8e-6051-4c95-9fcd-71afd2d9180d",
   "metadata": {},
   "source": [
    "### Saving the encoder of the Language Model"
   ]
  },
  {
   "cell_type": "markdown",
   "id": "988f8a01-8cab-4b86-aba1-e471ae2d37f0",
   "metadata": {},
   "source": [
    "**Crucial:** Once we have trained our LM we will save all of our model except the final layer that converts activation to probabilities of picking each token in our vocabulary. The model not including the final layer has a sexy name - *encoder*. We will save it using `save_encoder` method of the `Learner`:"
   ]
  },
  {
   "cell_type": "code",
   "execution_count": null,
   "id": "76595155-9573-459e-8372-a89657661122",
   "metadata": {},
   "outputs": [],
   "source": [
    "# learn.save_encoder('lm_finetuned')\n",
    "# learn_r.save_encoder('lm_finetuned_r')"
   ]
  },
  {
   "cell_type": "markdown",
   "id": "e1c5c24d-0296-4500-b0e7-951227ce6dc4",
   "metadata": {},
   "source": [
    "This completes the second stage of the text classification process - fine-tuning the Language Model pretrained on Wikipedia corpus. We will now use it to fine-tune a text multi-label text classifier."
   ]
  },
  {
   "cell_type": "markdown",
   "id": "8a52cca7-912c-4da4-9a7a-712869660003",
   "metadata": {},
   "source": [
    "## `DataLoaders` for the Multi-Label Classifier (using fastai's Mid-Level Data API)"
   ]
  },
  {
   "cell_type": "markdown",
   "id": "7cadd63b-272e-48f4-b2bd-abd6a0f79d80",
   "metadata": {},
   "source": [
    "### Loading Raw Data"
   ]
  },
  {
   "cell_type": "code",
   "execution_count": null,
   "id": "0457ecb8-d66a-4b4f-bff4-76eeaaf746d0",
   "metadata": {},
   "outputs": [
    {
     "name": "stdout",
     "output_type": "stream",
     "text": [
      "subject_id,hadm_id,text,labels,length,is_valid\n"
     ]
    }
   ],
   "source": [
    "data = source/'mimic3-9k.csv'\n",
    "!head -n 1 {data}"
   ]
  },
  {
   "cell_type": "code",
   "execution_count": null,
   "id": "574f199b-8ed2-43ef-8c58-d2183e2d6d64",
   "metadata": {},
   "outputs": [],
   "source": [
    "# !shuf -n 200000 {data} > {data_sample} "
   ]
  },
  {
   "cell_type": "code",
   "execution_count": null,
   "id": "7ab9994b",
   "metadata": {},
   "outputs": [],
   "source": [
    "df = pd.read_csv(data,\n",
    "                 header=0,\n",
    "                 names=['subject_id', 'hadm_id', 'text', 'labels', 'length', 'is_valid'],\n",
    "                 dtype={'subject_id': str, 'hadm_id': str, 'text': str, 'labels': str, 'length': np.int64, 'is_valid': bool})"
   ]
  },
  {
   "cell_type": "code",
   "execution_count": null,
   "id": "e4cdde99",
   "metadata": {},
   "outputs": [],
   "source": [
    "df[['text', 'labels']] = df[['text', 'labels']].astype(str)"
   ]
  },
  {
   "cell_type": "code",
   "execution_count": null,
   "id": "9d4d9e9f-c915-487d-941d-4f65b2175c94",
   "metadata": {},
   "outputs": [
    {
     "data": {
      "text/html": [
       "<div>\n",
       "<style scoped>\n",
       "    .dataframe tbody tr th:only-of-type {\n",
       "        vertical-align: middle;\n",
       "    }\n",
       "\n",
       "    .dataframe tbody tr th {\n",
       "        vertical-align: top;\n",
       "    }\n",
       "\n",
       "    .dataframe thead th {\n",
       "        text-align: right;\n",
       "    }\n",
       "</style>\n",
       "<table border=\"1\" class=\"dataframe\">\n",
       "  <thead>\n",
       "    <tr style=\"text-align: right;\">\n",
       "      <th></th>\n",
       "      <th>subject_id</th>\n",
       "      <th>hadm_id</th>\n",
       "      <th>text</th>\n",
       "      <th>labels</th>\n",
       "      <th>length</th>\n",
       "      <th>is_valid</th>\n",
       "    </tr>\n",
       "  </thead>\n",
       "  <tbody>\n",
       "    <tr>\n",
       "      <th>0</th>\n",
       "      <td>86006</td>\n",
       "      <td>111912</td>\n",
       "      <td>admission date discharge date date of birth sex f service surgery allergies patient recorded as having no known allergies to drugs attending first name3 lf chief complaint 60f on coumadin was found slightly drowsy tonight then fell down stairs paramedic found her unconscious and she was intubated w o any medication head ct shows multiple iph transferred to hospital1 for further eval major surgical or invasive procedure none past medical history her medical history is significant for hypertension osteoarthritis involving bilateral knee joints with a dependence on cane for ambulation chronic...</td>\n",
       "      <td>801.35;348.4;805.06;807.01;998.30;707.24;E880.9;427.31;414.01;401.9;V58.61;V43.64;707.00;E878.1;96.71</td>\n",
       "      <td>230</td>\n",
       "      <td>False</td>\n",
       "    </tr>\n",
       "    <tr>\n",
       "      <th>1</th>\n",
       "      <td>85950</td>\n",
       "      <td>189769</td>\n",
       "      <td>admission date discharge date service neurosurgery allergies sulfa sulfonamides attending first name3 lf chief complaint cc cc contact info major surgical or invasive procedure none history of present illness hpi 88m who lives with family had fall yesterday today had decline in mental status ems called pt was unresponsive on arrival went to osh head ct showed large r sdh pt was intubated at osh and transferred to hospital1 for further care past medical history cad s p mi in s p cabg in ventricular aneurysm at that time cath in with occluded rca unable to intervene chf reported ef 1st degre...</td>\n",
       "      <td>852.25;E888.9;403.90;585.9;250.00;414.00;V45.81;96.71</td>\n",
       "      <td>304</td>\n",
       "      <td>False</td>\n",
       "    </tr>\n",
       "    <tr>\n",
       "      <th>2</th>\n",
       "      <td>88025</td>\n",
       "      <td>180431</td>\n",
       "      <td>admission date discharge date date of birth sex f service surgery allergies no known allergies adverse drug reactions attending first name3 lf chief complaint s p fall major surgical or invasive procedure none history of present illness 45f etoh s p fall from window at feet found ambulating and slurring speech on scene intubated en route for declining mental status in the er the patient was found to be bradycardic to the s with bp of systolic she was given atropine dilantin and was started on saline past medical history unknown social history unknown family history unknown physical exam ex...</td>\n",
       "      <td>518.81;348.4;348.82;801.25;427.89;E882;V49.86;305.00;96.71;38.93</td>\n",
       "      <td>359</td>\n",
       "      <td>False</td>\n",
       "    </tr>\n",
       "  </tbody>\n",
       "</table>\n",
       "</div>"
      ],
      "text/plain": [
       "  subject_id hadm_id  \\\n",
       "0      86006  111912   \n",
       "1      85950  189769   \n",
       "2      88025  180431   \n",
       "\n",
       "                                                                                                                                                                                                                                                                                                                                                                                                                                                                                                                                                                                                                      text  \\\n",
       "0  admission date discharge date date of birth sex f service surgery allergies patient recorded as having no known allergies to drugs attending first name3 lf chief complaint 60f on coumadin was found slightly drowsy tonight then fell down stairs paramedic found her unconscious and she was intubated w o any medication head ct shows multiple iph transferred to hospital1 for further eval major surgical or invasive procedure none past medical history her medical history is significant for hypertension osteoarthritis involving bilateral knee joints with a dependence on cane for ambulation chronic...   \n",
       "1  admission date discharge date service neurosurgery allergies sulfa sulfonamides attending first name3 lf chief complaint cc cc contact info major surgical or invasive procedure none history of present illness hpi 88m who lives with family had fall yesterday today had decline in mental status ems called pt was unresponsive on arrival went to osh head ct showed large r sdh pt was intubated at osh and transferred to hospital1 for further care past medical history cad s p mi in s p cabg in ventricular aneurysm at that time cath in with occluded rca unable to intervene chf reported ef 1st degre...   \n",
       "2  admission date discharge date date of birth sex f service surgery allergies no known allergies adverse drug reactions attending first name3 lf chief complaint s p fall major surgical or invasive procedure none history of present illness 45f etoh s p fall from window at feet found ambulating and slurring speech on scene intubated en route for declining mental status in the er the patient was found to be bradycardic to the s with bp of systolic she was given atropine dilantin and was started on saline past medical history unknown social history unknown family history unknown physical exam ex...   \n",
       "\n",
       "                                                                                                  labels  \\\n",
       "0  801.35;348.4;805.06;807.01;998.30;707.24;E880.9;427.31;414.01;401.9;V58.61;V43.64;707.00;E878.1;96.71   \n",
       "1                                                  852.25;E888.9;403.90;585.9;250.00;414.00;V45.81;96.71   \n",
       "2                                       518.81;348.4;348.82;801.25;427.89;E882;V49.86;305.00;96.71;38.93   \n",
       "\n",
       "   length  is_valid  \n",
       "0     230     False  \n",
       "1     304     False  \n",
       "2     359     False  "
      ]
     },
     "execution_count": null,
     "metadata": {},
     "output_type": "execute_result"
    }
   ],
   "source": [
    "df.head(3)"
   ]
  },
  {
   "cell_type": "markdown",
   "id": "2bf53109-8887-49e0-9c95-85f65f36353e",
   "metadata": {},
   "source": [
    "Sample a small fraction of the dataset to ensure quick iteration (Skip this if you want to do this on the full dataset)"
   ]
  },
  {
   "cell_type": "code",
   "execution_count": null,
   "id": "f47678ad-0888-44c8-9398-7f6e4ec5c57a",
   "metadata": {},
   "outputs": [
    {
     "data": {
      "text/plain": [
       "264"
      ]
     },
     "execution_count": null,
     "metadata": {},
     "output_type": "execute_result"
    }
   ],
   "source": [
    "# df = df.sample(frac=0.3, random_state=89, ignore_index=True)\n",
    "# df = df.sample(frac=0.025, random_state=89, ignore_index=True)\n",
    "df = df.sample(frac=0.005, random_state=89, ignore_index=True)\n",
    "len(df)"
   ]
  },
  {
   "cell_type": "markdown",
   "id": "43104d70-6c0e-4883-8225-6aba29d4a67a",
   "metadata": {},
   "source": [
    "Let's now gather the labels from the 'labels' columns of the df:"
   ]
  },
  {
   "cell_type": "code",
   "execution_count": null,
   "id": "f9740030-1cec-405b-939b-845a7b92b2fd",
   "metadata": {},
   "outputs": [],
   "source": [
    "lbl_freqs = Counter()\n",
    "for labels in df.labels: lbl_freqs.update(labels.split(';'))"
   ]
  },
  {
   "cell_type": "markdown",
   "id": "eb4e5ba6-ae1a-42ea-8baf-01fcb7fffd8c",
   "metadata": {},
   "source": [
    "The total number of labels are:"
   ]
  },
  {
   "cell_type": "code",
   "execution_count": null,
   "id": "0e816938-b66f-4565-9871-e9465f712d1e",
   "metadata": {},
   "outputs": [
    {
     "data": {
      "text/plain": [
       "1271"
      ]
     },
     "execution_count": null,
     "metadata": {},
     "output_type": "execute_result"
    }
   ],
   "source": [
    "len(lbl_freqs)"
   ]
  },
  {
   "cell_type": "markdown",
   "id": "738db2eb-71dd-4433-95bd-302ad5e02f37",
   "metadata": {},
   "source": [
    "Let's take a look at the most common labels:"
   ]
  },
  {
   "cell_type": "code",
   "execution_count": null,
   "id": "3b77e405-3f4c-46d2-a73f-ebce63fa2a15",
   "metadata": {},
   "outputs": [
    {
     "data": {
      "text/html": [
       "<div>\n",
       "<style scoped>\n",
       "    .dataframe tbody tr th:only-of-type {\n",
       "        vertical-align: middle;\n",
       "    }\n",
       "\n",
       "    .dataframe tbody tr th {\n",
       "        vertical-align: top;\n",
       "    }\n",
       "\n",
       "    .dataframe thead th {\n",
       "        text-align: right;\n",
       "    }\n",
       "</style>\n",
       "<table border=\"1\" class=\"dataframe\">\n",
       "  <thead>\n",
       "    <tr style=\"text-align: right;\">\n",
       "      <th></th>\n",
       "      <th>label</th>\n",
       "      <th>frequency</th>\n",
       "    </tr>\n",
       "  </thead>\n",
       "  <tbody>\n",
       "    <tr>\n",
       "      <th>0</th>\n",
       "      <td>401.9</td>\n",
       "      <td>84</td>\n",
       "    </tr>\n",
       "    <tr>\n",
       "      <th>1</th>\n",
       "      <td>38.93</td>\n",
       "      <td>77</td>\n",
       "    </tr>\n",
       "    <tr>\n",
       "      <th>2</th>\n",
       "      <td>428.0</td>\n",
       "      <td>61</td>\n",
       "    </tr>\n",
       "    <tr>\n",
       "      <th>3</th>\n",
       "      <td>272.4</td>\n",
       "      <td>60</td>\n",
       "    </tr>\n",
       "    <tr>\n",
       "      <th>4</th>\n",
       "      <td>427.31</td>\n",
       "      <td>56</td>\n",
       "    </tr>\n",
       "    <tr>\n",
       "      <th>5</th>\n",
       "      <td>414.01</td>\n",
       "      <td>56</td>\n",
       "    </tr>\n",
       "    <tr>\n",
       "      <th>6</th>\n",
       "      <td>584.9</td>\n",
       "      <td>49</td>\n",
       "    </tr>\n",
       "    <tr>\n",
       "      <th>7</th>\n",
       "      <td>96.04</td>\n",
       "      <td>48</td>\n",
       "    </tr>\n",
       "    <tr>\n",
       "      <th>8</th>\n",
       "      <td>250.00</td>\n",
       "      <td>45</td>\n",
       "    </tr>\n",
       "    <tr>\n",
       "      <th>9</th>\n",
       "      <td>518.81</td>\n",
       "      <td>42</td>\n",
       "    </tr>\n",
       "    <tr>\n",
       "      <th>10</th>\n",
       "      <td>96.6</td>\n",
       "      <td>42</td>\n",
       "    </tr>\n",
       "    <tr>\n",
       "      <th>11</th>\n",
       "      <td>530.81</td>\n",
       "      <td>37</td>\n",
       "    </tr>\n",
       "    <tr>\n",
       "      <th>12</th>\n",
       "      <td>96.72</td>\n",
       "      <td>35</td>\n",
       "    </tr>\n",
       "    <tr>\n",
       "      <th>13</th>\n",
       "      <td>96.71</td>\n",
       "      <td>33</td>\n",
       "    </tr>\n",
       "    <tr>\n",
       "      <th>14</th>\n",
       "      <td>599.0</td>\n",
       "      <td>33</td>\n",
       "    </tr>\n",
       "    <tr>\n",
       "      <th>15</th>\n",
       "      <td>99.04</td>\n",
       "      <td>32</td>\n",
       "    </tr>\n",
       "    <tr>\n",
       "      <th>16</th>\n",
       "      <td>285.9</td>\n",
       "      <td>32</td>\n",
       "    </tr>\n",
       "    <tr>\n",
       "      <th>17</th>\n",
       "      <td>39.61</td>\n",
       "      <td>30</td>\n",
       "    </tr>\n",
       "    <tr>\n",
       "      <th>18</th>\n",
       "      <td>285.1</td>\n",
       "      <td>28</td>\n",
       "    </tr>\n",
       "    <tr>\n",
       "      <th>19</th>\n",
       "      <td>38.91</td>\n",
       "      <td>27</td>\n",
       "    </tr>\n",
       "  </tbody>\n",
       "</table>\n",
       "</div>"
      ],
      "text/plain": [
       "     label  frequency\n",
       "0    401.9         84\n",
       "1    38.93         77\n",
       "2    428.0         61\n",
       "3    272.4         60\n",
       "4   427.31         56\n",
       "5   414.01         56\n",
       "6    584.9         49\n",
       "7    96.04         48\n",
       "8   250.00         45\n",
       "9   518.81         42\n",
       "10    96.6         42\n",
       "11  530.81         37\n",
       "12   96.72         35\n",
       "13   96.71         33\n",
       "14   599.0         33\n",
       "15   99.04         32\n",
       "16   285.9         32\n",
       "17   39.61         30\n",
       "18   285.1         28\n",
       "19   38.91         27"
      ]
     },
     "execution_count": null,
     "metadata": {},
     "output_type": "execute_result"
    }
   ],
   "source": [
    "pd.DataFrame(lbl_freqs.most_common(20), columns=['label', 'frequency'])"
   ]
  },
  {
   "cell_type": "markdown",
   "id": "e477b55b-d597-4f72-acab-51ba0e8b3003",
   "metadata": {},
   "source": [
    "Let's make a list of all labels (We will use it later while creating the `DataLoader`)"
   ]
  },
  {
   "cell_type": "code",
   "execution_count": null,
   "id": "08fadbd0-f498-4dae-87b4-74129b48fa6b",
   "metadata": {},
   "outputs": [],
   "source": [
    "lbls = list(lbl_freqs.keys())"
   ]
  },
  {
   "cell_type": "markdown",
   "id": "201b0f93-49f4-459e-8b06-3d48529f7e7f",
   "metadata": {},
   "source": [
    "### Dataset Statistics (Optional) \n",
    "> Let's try to understand what captures the hardness of an xml dataset"
   ]
  },
  {
   "cell_type": "markdown",
   "id": "997c284f-a09f-432b-8b5f-869a1acea032",
   "metadata": {},
   "source": [
    "#### Check #1: Number of instances (train/valid split)"
   ]
  },
  {
   "cell_type": "code",
   "execution_count": null,
   "id": "b383fe50-3a03-4fc1-a2ef-d0d410f068c6",
   "metadata": {},
   "outputs": [
    {
     "data": {
      "text/plain": [
       "(244, 20)"
      ]
     },
     "execution_count": null,
     "metadata": {},
     "output_type": "execute_result"
    }
   ],
   "source": [
    "train, valid = df.index[~df['is_valid']], df.index[df['is_valid']]\n",
    "len(train), len(valid)"
   ]
  },
  {
   "cell_type": "markdown",
   "id": "43c326e2-984a-4ba6-a44b-d3fd1601b6cf",
   "metadata": {},
   "source": [
    "#### Check #2: Avg number of instances per label"
   ]
  },
  {
   "cell_type": "code",
   "execution_count": null,
   "id": "6d98df47-4cc2-44a4-8ee9-b9b890c22f9b",
   "metadata": {},
   "outputs": [
    {
     "data": {
      "text/plain": [
       "3.341463414634146"
      ]
     },
     "execution_count": null,
     "metadata": {},
     "output_type": "execute_result"
    }
   ],
   "source": [
    "array(list(lbl_freqs.values())).mean()"
   ]
  },
  {
   "cell_type": "markdown",
   "id": "ffa74d1c-b7dd-4ae7-832f-cef10cfdd43d",
   "metadata": {},
   "source": [
    "#### Check #3: Plotting the label distribution"
   ]
  },
  {
   "cell_type": "code",
   "execution_count": null,
   "id": "278a4b53-2032-4d54-aa87-9c54f97cd741",
   "metadata": {},
   "outputs": [],
   "source": [
    "lbl_count = []\n",
    "for lbls in df.labels: lbl_count.append(len(lbls.split(',')))"
   ]
  },
  {
   "cell_type": "code",
   "execution_count": null,
   "id": "1bb0982e-9548-4321-9d16-de6b21f8daf7",
   "metadata": {},
   "outputs": [],
   "source": [
    "df_copy = df.copy()\n",
    "df_copy['label_count'] = lbl_count"
   ]
  },
  {
   "cell_type": "code",
   "execution_count": null,
   "id": "2b00d3bf-4102-4f19-afba-1e1079e9f36d",
   "metadata": {},
   "outputs": [
    {
     "data": {
      "text/html": [
       "<div>\n",
       "<style scoped>\n",
       "    .dataframe tbody tr th:only-of-type {\n",
       "        vertical-align: middle;\n",
       "    }\n",
       "\n",
       "    .dataframe tbody tr th {\n",
       "        vertical-align: top;\n",
       "    }\n",
       "\n",
       "    .dataframe thead th {\n",
       "        text-align: right;\n",
       "    }\n",
       "</style>\n",
       "<table border=\"1\" class=\"dataframe\">\n",
       "  <thead>\n",
       "    <tr style=\"text-align: right;\">\n",
       "      <th></th>\n",
       "      <th>text</th>\n",
       "      <th>labels</th>\n",
       "      <th>is_valid</th>\n",
       "      <th>label_count</th>\n",
       "    </tr>\n",
       "  </thead>\n",
       "  <tbody>\n",
       "    <tr>\n",
       "      <th>0</th>\n",
       "      <td>Methodical Bible study: A new approach to hermeneutics /SEP/ Methodical Bible study: A new approach to hermeneutics. Inductive study compares related Bible texts in order to let the Bible interpret itself, rather than approaching Scripture with predetermined notions of what it will say.  Dr. Trainas Methodical Bible Study was not intended to be the last word in inductive Bible study; but since its first publication in 1952, it has become a foundational text in this field.  Christian colleges and seminaries have made it required reading for beginning Bible students, while many churches have...</td>\n",
       "      <td>34141,119299,126600,128716,187372,218742</td>\n",
       "      <td>False</td>\n",
       "      <td>6</td>\n",
       "    </tr>\n",
       "    <tr>\n",
       "      <th>1</th>\n",
       "      <td>Southeastern Mills Roast Beef Gravy Mix, 4.5-Ounce Packages (Pack of 24) /SEP/ Southeastern Mills Roast Beef Gravy Mix, 4.5-Ounce Packages (Pack of 24). Makes 3-1/2 cups. Down home taste. Makes hearty beef stew base.</td>\n",
       "      <td>465536,465553,615429</td>\n",
       "      <td>False</td>\n",
       "      <td>3</td>\n",
       "    </tr>\n",
       "  </tbody>\n",
       "</table>\n",
       "</div>"
      ],
      "text/plain": [
       "                                                                                                                                                                                                                                                                                                                                                                                                                                                                                                                                                                                                                      text  \\\n",
       "0  Methodical Bible study: A new approach to hermeneutics /SEP/ Methodical Bible study: A new approach to hermeneutics. Inductive study compares related Bible texts in order to let the Bible interpret itself, rather than approaching Scripture with predetermined notions of what it will say.  Dr. Trainas Methodical Bible Study was not intended to be the last word in inductive Bible study; but since its first publication in 1952, it has become a foundational text in this field.  Christian colleges and seminaries have made it required reading for beginning Bible students, while many churches have...   \n",
       "1                                                                                                                                                                                                                                                                                                                                                                                                 Southeastern Mills Roast Beef Gravy Mix, 4.5-Ounce Packages (Pack of 24) /SEP/ Southeastern Mills Roast Beef Gravy Mix, 4.5-Ounce Packages (Pack of 24). Makes 3-1/2 cups. Down home taste. Makes hearty beef stew base.   \n",
       "\n",
       "                                     labels  is_valid  label_count  \n",
       "0  34141,119299,126600,128716,187372,218742     False            6  \n",
       "1                      465536,465553,615429     False            3  "
      ]
     },
     "execution_count": null,
     "metadata": {},
     "output_type": "execute_result"
    }
   ],
   "source": [
    "df_copy.head(2)"
   ]
  },
  {
   "cell_type": "markdown",
   "id": "eea29cb1-e148-49ae-9755-fc20282eba34",
   "metadata": {},
   "source": [
    "The average number of labels per instance is:"
   ]
  },
  {
   "cell_type": "code",
   "execution_count": null,
   "id": "8b26ea81-4843-4ce9-bb73-b840968b0f27",
   "metadata": {},
   "outputs": [
    {
     "data": {
      "text/plain": [
       "5.385563363865518"
      ]
     },
     "execution_count": null,
     "metadata": {},
     "output_type": "execute_result"
    }
   ],
   "source": [
    "df_copy.label_count.mean()"
   ]
  },
  {
   "cell_type": "code",
   "execution_count": null,
   "id": "b06e5fc2-8107-47e3-9d2b-7564f42c08d9",
   "metadata": {},
   "outputs": [
    {
     "name": "stderr",
     "output_type": "stream",
     "text": [
      "/home/deb/miniconda3/lib/python3.9/site-packages/seaborn/distributions.py:2619: FutureWarning: `distplot` is a deprecated function and will be removed in a future version. Please adapt your code to use either `displot` (a figure-level function with similar flexibility) or `histplot` (an axes-level function for histograms).\n",
      "  warnings.warn(msg, FutureWarning)\n"
     ]
    },
    {
     "data": {
      "image/png": "[encoded data removed]",
      "text/plain": [
       "<Figure size 432x288 with 1 Axes>"
      ]
     },
     "metadata": {
      "needs_background": "light"
     },
     "output_type": "display_data"
    }
   ],
   "source": [
    "import seaborn as sns\n",
    "sns.distplot(df_copy.label_count, bins=10, color='b');"
   ]
  },
  {
   "cell_type": "code",
   "execution_count": null,
   "id": "ff9fbd91-d26c-450a-9728-aca6bff42128",
   "metadata": {},
   "outputs": [],
   "source": [
    "lbls_sorted = sorted(lbl_freqs.items(), key=lambda item: item[1], reverse=True)"
   ]
  },
  {
   "cell_type": "code",
   "execution_count": null,
   "id": "d85de31d-f8cf-405d-95b6-eafa7df6f0fc",
   "metadata": {},
   "outputs": [
    {
     "data": {
      "text/plain": [
       "[('455619', 2258),\n",
       " ('455662', 2176),\n",
       " ('547041', 2160),\n",
       " ('516790', 1214),\n",
       " ('455712', 1203),\n",
       " ('455620', 1133),\n",
       " ('632786', 1132),\n",
       " ('632789', 1132),\n",
       " ('632785', 1030),\n",
       " ('632788', 1030),\n",
       " ('492255', 938),\n",
       " ('455014', 872),\n",
       " ('670034', 850),\n",
       " ('427871', 815),\n",
       " ('599701', 803),\n",
       " ('308331', 801),\n",
       " ('581325', 801),\n",
       " ('649272', 799),\n",
       " ('455704', 762),\n",
       " ('666760', 733)]"
      ]
     },
     "execution_count": null,
     "metadata": {},
     "output_type": "execute_result"
    }
   ],
   "source": [
    "lbls_sorted[:20]"
   ]
  },
  {
   "cell_type": "code",
   "execution_count": null,
   "id": "bd338026-7583-4cba-9519-fa7ed9626996",
   "metadata": {},
   "outputs": [
    {
     "data": {
      "text/plain": [
       "((#670091) ['455619','455662','547041','516790','455712','455620','632786','632789','632785','632788'...],\n",
       " (#670091) [2258,2176,2160,1214,1203,1133,1132,1132,1030,1030...])"
      ]
     },
     "execution_count": null,
     "metadata": {},
     "output_type": "execute_result"
    }
   ],
   "source": [
    "ranked_lbls = L(lbls_sorted).itemgot(0)\n",
    "ranked_freqs = L(lbls_sorted).itemgot(1)\n",
    "ranked_lbls, ranked_freqs"
   ]
  },
  {
   "cell_type": "code",
   "execution_count": null,
   "id": "ca4caa8d-9494-4923-be64-d1a54311c7f5",
   "metadata": {},
   "outputs": [
    {
     "data": {
      "image/png": "[encoded data removed]",
      "text/plain": [
       "<Figure size 720x360 with 1 Axes>"
      ]
     },
     "metadata": {
      "needs_background": "light"
     },
     "output_type": "display_data"
    }
   ],
   "source": [
    "fig = plt.figure(figsize=(10,5))\n",
    "ax = fig.add_subplot(1,1,1)\n",
    "ax.plot(ranked_freqs)\n",
    "ax.set_xlabel('Labels ranked by frequency')\n",
    "ax.set_ylabel('Text Count')\n",
    "ax.set_yscale('log');"
   ]
  },
  {
   "cell_type": "markdown",
   "id": "74280a9a-d9cf-4639-afa6-6c46a9bebaca",
   "metadata": {},
   "source": [
    "#### Check #4: Computing the min label freq for each text"
   ]
  },
  {
   "cell_type": "code",
   "execution_count": null,
   "id": "52d4ede1-b78f-4d80-961d-a247aa3bc609",
   "metadata": {},
   "outputs": [
    {
     "data": {
      "text/html": [
       "<div>\n",
       "<style scoped>\n",
       "    .dataframe tbody tr th:only-of-type {\n",
       "        vertical-align: middle;\n",
       "    }\n",
       "\n",
       "    .dataframe tbody tr th {\n",
       "        vertical-align: top;\n",
       "    }\n",
       "\n",
       "    .dataframe thead th {\n",
       "        text-align: right;\n",
       "    }\n",
       "</style>\n",
       "<table border=\"1\" class=\"dataframe\">\n",
       "  <thead>\n",
       "    <tr style=\"text-align: right;\">\n",
       "      <th></th>\n",
       "      <th>text</th>\n",
       "      <th>labels</th>\n",
       "      <th>is_valid</th>\n",
       "      <th>label_count</th>\n",
       "      <th>min_code_freq</th>\n",
       "      <th>max_code_freq</th>\n",
       "      <th>90pct_code_freq</th>\n",
       "    </tr>\n",
       "  </thead>\n",
       "  <tbody>\n",
       "    <tr>\n",
       "      <th>0</th>\n",
       "      <td>Methodical Bible study: A new approach to hermeneutics /SEP/ Methodical Bible study: A new approach to hermeneutics. Inductive study compares related Bible texts in order to let the Bible interpret itself, rather than approaching Scripture with predetermined notions of what it will say.  Dr. Trainas Methodical Bible Study was not intended to be the last word in inductive Bible study; but since its first publication in 1952, it has become a foundational text in this field.  Christian colleges and seminaries have made it required reading for beginning Bible students, while many churches have...</td>\n",
       "      <td>34141,119299,126600,128716,187372,218742</td>\n",
       "      <td>False</td>\n",
       "      <td>6</td>\n",
       "      <td>2</td>\n",
       "      <td>29</td>\n",
       "      <td>25.5</td>\n",
       "    </tr>\n",
       "    <tr>\n",
       "      <th>1</th>\n",
       "      <td>Southeastern Mills Roast Beef Gravy Mix, 4.5-Ounce Packages (Pack of 24) /SEP/ Southeastern Mills Roast Beef Gravy Mix, 4.5-Ounce Packages (Pack of 24). Makes 3-1/2 cups. Down home taste. Makes hearty beef stew base.</td>\n",
       "      <td>465536,465553,615429</td>\n",
       "      <td>False</td>\n",
       "      <td>3</td>\n",
       "      <td>2</td>\n",
       "      <td>3</td>\n",
       "      <td>3.0</td>\n",
       "    </tr>\n",
       "    <tr>\n",
       "      <th>2</th>\n",
       "      <td>MMF Industries 24-Key Portable Zippered Key Case (201502417) /SEP/ MMF Industries 24-Key Portable Zippered Key Case (201502417). The MMF Industries 201502417 24-Key Portable Zippered Key Case is an attractive burgundy-colored leather-like vinyl case with brass corners and looks like a portfolio. Its easy-slide zipper keeps keys enclosed, and a hook-and-loop fastener strips keep keys securely in place. Key tags are included.\\tZippered key case offers a portable alternative to metal wall key cabinets. Included key tags are backed by hook-and-loop closures. Easy slide zipper keeps keys enclos...</td>\n",
       "      <td>393828</td>\n",
       "      <td>False</td>\n",
       "      <td>1</td>\n",
       "      <td>2</td>\n",
       "      <td>2</td>\n",
       "      <td>2.0</td>\n",
       "    </tr>\n",
       "    <tr>\n",
       "      <th>3</th>\n",
       "      <td>Hoover the Fishing President /SEP/ Hoover the Fishing President. Hal Elliott Wert has spent years researching Herbert Hoover, Franklin Roosevelt, and Harry Truman. He holds a Ph.D. from the University of Kansas and currently teaches at the Kansas City Art Institute.</td>\n",
       "      <td>167614,223686</td>\n",
       "      <td>False</td>\n",
       "      <td>2</td>\n",
       "      <td>4</td>\n",
       "      <td>4</td>\n",
       "      <td>4.0</td>\n",
       "    </tr>\n",
       "    <tr>\n",
       "      <th>4</th>\n",
       "      <td>GeoPuzzle U.S.A. and Canada - Educational Geography Jigsaw Puzzle (69 pcs) /SEP/ GeoPuzzle U.S.A. and Canada - Educational Geography Jigsaw Puzzle (69 pcs). GeoPuzzles are jigsaw puzzles that make learning world geography fun. The pieces of a GeoPuzzle are shaped like individual countries, so children learn as they put the puzzle together. Award-winning Geopuzzles help to build fine motor, cognitive, language, and problem-solving skills, and are a great introduction to world geography for children 4 and up. Designed by an art professor, jumbo sized and brightly colored GeoPuzzles are avail...</td>\n",
       "      <td>480528,480530,480532,485144,485146,598793</td>\n",
       "      <td>False</td>\n",
       "      <td>6</td>\n",
       "      <td>5</td>\n",
       "      <td>10</td>\n",
       "      <td>8.5</td>\n",
       "    </tr>\n",
       "    <tr>\n",
       "      <th>5</th>\n",
       "      <td>Amazon.com: Paul Fredrick Men's Cotton Pinpoint Oxford Straight Collar Dress Shirt: Clothing /SEP/ Amazon.com: Paul Fredrick Men's Cotton Pinpoint Oxford Straight Collar Dress Shirt: Clothing. Pinpoint Oxford Cotton. Traditional Straight Collar, 1/4 Topstitched. Button Cuffs, 1/4 Topstitched. Embedded Collar Stay. Regular, Big and Tall. Top Center Placket. Split Yoke. Single Front Rounded Pocket. Machine Wash Or Dry Clean. Imported. * Big and Tall Sizes - addl $5.00</td>\n",
       "      <td>516790,567615,670034</td>\n",
       "      <td>False</td>\n",
       "      <td>3</td>\n",
       "      <td>256</td>\n",
       "      <td>1214</td>\n",
       "      <td>1141.2</td>\n",
       "    </tr>\n",
       "    <tr>\n",
       "      <th>6</th>\n",
       "      <td>Darkest Fear : A Myron Bolitar Novel /SEP/ Darkest Fear : A Myron Bolitar Novel. Myron Bolitar's father's recent heart attack brings Myron smack into a midlife encounter with issues of adulthood and mortality. And if that's not enough to turn his life upside down, the reappearance of his first serious girlfriend is. The basketball star turned sports agent, who does a little detecting when business is slow, is saddened by the news that Emily Downing's 13-year-old son is dying and desperately needs a bone marrow transplant; even if she did leave him for the man who destroyed his basketball c...</td>\n",
       "      <td>50442,50516,50647,50672,50680,662538</td>\n",
       "      <td>False</td>\n",
       "      <td>6</td>\n",
       "      <td>2</td>\n",
       "      <td>3</td>\n",
       "      <td>2.5</td>\n",
       "    </tr>\n",
       "    <tr>\n",
       "      <th>7</th>\n",
       "      <td>In Debt We Trust (2007) /SEP/ In Debt We Trust (2007). Just a few decades ago, owing more money than you had in your  bank account was the exception, not the rule.  Yet, in the last 10 years,  consumer debt has doubled and, for the first time, Americans are spending  more than they're saving -- or making.  This April, award-winning former  ABC News and CNN producer Danny Schechter investigates America's mounting  debt crisis in his latest hard-hitting expose, IN DEBT WE TRUST.   While many Americans are \"maxing out\" on credit cards, there is a  much deeper story: power is shifting into few...</td>\n",
       "      <td>493095,499382,560691,589867,591343,611615,619231</td>\n",
       "      <td>False</td>\n",
       "      <td>7</td>\n",
       "      <td>4</td>\n",
       "      <td>50</td>\n",
       "      <td>47.0</td>\n",
       "    </tr>\n",
       "    <tr>\n",
       "      <th>8</th>\n",
       "      <td>Craftsman 9-34740 32 Piece 1/4-3/8 Drive Standard/Metric Socket Wrench Set /SEP/ Craftsman 9-34740 32 Piece 1/4-3/8 Drive Standard/Metric Socket Wrench Set. Craftsman 9-34740 32 Pc. 1/4-3/8 Drive Standard/Metric Socket Wrench Set. The Craftsman 9-34740 32 Pc. 1/4-3/8 Drive Standard/Metric Socket Wrench Set includes 1/4 Inch Drive Sockets; 8 Six-Point Standard Sockets:9-43492 7/32-Inch, 9-43496 11/32,9-43493 1/4-Inch, 9-43497 3/8-Inch, 9-43494 9/32-Inch, 9-43498 7/16-Inch,9-43495 5/16-Inch, 9-43499 1/2-Inch; 7 Six-Point Metric Sockets:9-43505 4mm, 9-43504 8mm, 9-43501 5mm, 9-43507 9mm,9-435...</td>\n",
       "      <td>590298,609038</td>\n",
       "      <td>False</td>\n",
       "      <td>2</td>\n",
       "      <td>2</td>\n",
       "      <td>2</td>\n",
       "      <td>2.0</td>\n",
       "    </tr>\n",
       "    <tr>\n",
       "      <th>9</th>\n",
       "      <td>2013 Hammer Nutrition Complex Carbohydrate Energy Gel - 12-Pack /SEP/ 2013 Hammer Nutrition Complex Carbohydrate Energy Gel - 12-Pack. Hammer Nutrition made the Complex Carbohydrate Energy Gel with natural ingredients and real fruit, so you won't have those unhealthy insulin-spike sugar highs. Instead, you get prolonged energy levels from the complex carbohydrates and amino acids in this Hammer Gel. The syrup-like consistency makes it easy to drink straight or add to your water. Unlike nutrition bars that freeze on your winter treks or melt during hot adventure races, the Complex Carbohydr...</td>\n",
       "      <td>453268,453277,510450,516828,520780,542684,634756</td>\n",
       "      <td>False</td>\n",
       "      <td>7</td>\n",
       "      <td>3</td>\n",
       "      <td>11</td>\n",
       "      <td>9.2</td>\n",
       "    </tr>\n",
       "  </tbody>\n",
       "</table>\n",
       "</div>"
      ],
      "text/plain": [
       "                                                                                                                                                                                                                                                                                                                                                                                                                                                                                                                                                                                                                      text  \\\n",
       "0  Methodical Bible study: A new approach to hermeneutics /SEP/ Methodical Bible study: A new approach to hermeneutics. Inductive study compares related Bible texts in order to let the Bible interpret itself, rather than approaching Scripture with predetermined notions of what it will say.  Dr. Trainas Methodical Bible Study was not intended to be the last word in inductive Bible study; but since its first publication in 1952, it has become a foundational text in this field.  Christian colleges and seminaries have made it required reading for beginning Bible students, while many churches have...   \n",
       "1                                                                                                                                                                                                                                                                                                                                                                                                 Southeastern Mills Roast Beef Gravy Mix, 4.5-Ounce Packages (Pack of 24) /SEP/ Southeastern Mills Roast Beef Gravy Mix, 4.5-Ounce Packages (Pack of 24). Makes 3-1/2 cups. Down home taste. Makes hearty beef stew base.   \n",
       "2  MMF Industries 24-Key Portable Zippered Key Case (201502417) /SEP/ MMF Industries 24-Key Portable Zippered Key Case (201502417). The MMF Industries 201502417 24-Key Portable Zippered Key Case is an attractive burgundy-colored leather-like vinyl case with brass corners and looks like a portfolio. Its easy-slide zipper keeps keys enclosed, and a hook-and-loop fastener strips keep keys securely in place. Key tags are included.\\tZippered key case offers a portable alternative to metal wall key cabinets. Included key tags are backed by hook-and-loop closures. Easy slide zipper keeps keys enclos...   \n",
       "3                                                                                                                                                                                                                                                                                                                                               Hoover the Fishing President /SEP/ Hoover the Fishing President. Hal Elliott Wert has spent years researching Herbert Hoover, Franklin Roosevelt, and Harry Truman. He holds a Ph.D. from the University of Kansas and currently teaches at the Kansas City Art Institute.   \n",
       "4  GeoPuzzle U.S.A. and Canada - Educational Geography Jigsaw Puzzle (69 pcs) /SEP/ GeoPuzzle U.S.A. and Canada - Educational Geography Jigsaw Puzzle (69 pcs). GeoPuzzles are jigsaw puzzles that make learning world geography fun. The pieces of a GeoPuzzle are shaped like individual countries, so children learn as they put the puzzle together. Award-winning Geopuzzles help to build fine motor, cognitive, language, and problem-solving skills, and are a great introduction to world geography for children 4 and up. Designed by an art professor, jumbo sized and brightly colored GeoPuzzles are avail...   \n",
       "5                                                                                                                                   Amazon.com: Paul Fredrick Men's Cotton Pinpoint Oxford Straight Collar Dress Shirt: Clothing /SEP/ Amazon.com: Paul Fredrick Men's Cotton Pinpoint Oxford Straight Collar Dress Shirt: Clothing. Pinpoint Oxford Cotton. Traditional Straight Collar, 1/4 Topstitched. Button Cuffs, 1/4 Topstitched. Embedded Collar Stay. Regular, Big and Tall. Top Center Placket. Split Yoke. Single Front Rounded Pocket. Machine Wash Or Dry Clean. Imported. * Big and Tall Sizes - addl $5.00   \n",
       "6  Darkest Fear : A Myron Bolitar Novel /SEP/ Darkest Fear : A Myron Bolitar Novel. Myron Bolitar's father's recent heart attack brings Myron smack into a midlife encounter with issues of adulthood and mortality. And if that's not enough to turn his life upside down, the reappearance of his first serious girlfriend is. The basketball star turned sports agent, who does a little detecting when business is slow, is saddened by the news that Emily Downing's 13-year-old son is dying and desperately needs a bone marrow transplant; even if she did leave him for the man who destroyed his basketball c...   \n",
       "7  In Debt We Trust (2007) /SEP/ In Debt We Trust (2007). Just a few decades ago, owing more money than you had in your  bank account was the exception, not the rule.  Yet, in the last 10 years,  consumer debt has doubled and, for the first time, Americans are spending  more than they're saving -- or making.  This April, award-winning former  ABC News and CNN producer Danny Schechter investigates America's mounting  debt crisis in his latest hard-hitting expose, IN DEBT WE TRUST.   While many Americans are \"maxing out\" on credit cards, there is a  much deeper story: power is shifting into few...   \n",
       "8  Craftsman 9-34740 32 Piece 1/4-3/8 Drive Standard/Metric Socket Wrench Set /SEP/ Craftsman 9-34740 32 Piece 1/4-3/8 Drive Standard/Metric Socket Wrench Set. Craftsman 9-34740 32 Pc. 1/4-3/8 Drive Standard/Metric Socket Wrench Set. The Craftsman 9-34740 32 Pc. 1/4-3/8 Drive Standard/Metric Socket Wrench Set includes 1/4 Inch Drive Sockets; 8 Six-Point Standard Sockets:9-43492 7/32-Inch, 9-43496 11/32,9-43493 1/4-Inch, 9-43497 3/8-Inch, 9-43494 9/32-Inch, 9-43498 7/16-Inch,9-43495 5/16-Inch, 9-43499 1/2-Inch; 7 Six-Point Metric Sockets:9-43505 4mm, 9-43504 8mm, 9-43501 5mm, 9-43507 9mm,9-435...   \n",
       "9  2013 Hammer Nutrition Complex Carbohydrate Energy Gel - 12-Pack /SEP/ 2013 Hammer Nutrition Complex Carbohydrate Energy Gel - 12-Pack. Hammer Nutrition made the Complex Carbohydrate Energy Gel with natural ingredients and real fruit, so you won't have those unhealthy insulin-spike sugar highs. Instead, you get prolonged energy levels from the complex carbohydrates and amino acids in this Hammer Gel. The syrup-like consistency makes it easy to drink straight or add to your water. Unlike nutrition bars that freeze on your winter treks or melt during hot adventure races, the Complex Carbohydr...   \n",
       "\n",
       "                                             labels  is_valid  label_count  \\\n",
       "0          34141,119299,126600,128716,187372,218742     False            6   \n",
       "1                              465536,465553,615429     False            3   \n",
       "2                                            393828     False            1   \n",
       "3                                     167614,223686     False            2   \n",
       "4         480528,480530,480532,485144,485146,598793     False            6   \n",
       "5                              516790,567615,670034     False            3   \n",
       "6              50442,50516,50647,50672,50680,662538     False            6   \n",
       "7  493095,499382,560691,589867,591343,611615,619231     False            7   \n",
       "8                                     590298,609038     False            2   \n",
       "9  453268,453277,510450,516828,520780,542684,634756     False            7   \n",
       "\n",
       "   min_code_freq  max_code_freq  90pct_code_freq  \n",
       "0              2             29             25.5  \n",
       "1              2              3              3.0  \n",
       "2              2              2              2.0  \n",
       "3              4              4              4.0  \n",
       "4              5             10              8.5  \n",
       "5            256           1214           1141.2  \n",
       "6              2              3              2.5  \n",
       "7              4             50             47.0  \n",
       "8              2              2              2.0  \n",
       "9              3             11              9.2  "
      ]
     },
     "execution_count": null,
     "metadata": {},
     "output_type": "execute_result"
    }
   ],
   "source": [
    "df_copy.head(10)"
   ]
  },
  {
   "cell_type": "code",
   "execution_count": null,
   "id": "63b368d8-9b78-44b7-83b1-55b9350c30c1",
   "metadata": {},
   "outputs": [],
   "source": [
    "df_copy['min_code_freq'] = df_copy.apply(\n",
    "    lambda row: min([lbl_freqs[lbl] for lbl in row.labels.split(',')]), axis=1)"
   ]
  },
  {
   "cell_type": "code",
   "execution_count": null,
   "id": "5dfda215-baea-40f5-aaa6-365cc2c12816",
   "metadata": {},
   "outputs": [],
   "source": [
    "df_copy['max_code_freq'] = df_copy.apply(\n",
    "    lambda row: max([lbl_freqs[lbl] for lbl in row.labels.split(',')]), axis=1)"
   ]
  },
  {
   "cell_type": "code",
   "execution_count": null,
   "id": "59f37236-c1b0-459e-9fa4-23ab9a520ee0",
   "metadata": {},
   "outputs": [],
   "source": [
    "df_copy['90pct_code_freq'] = df_copy.apply(\n",
    "    lambda row: np.percentile([lbl_freqs[lbl] for lbl in row.labels.split(',')], 90), axis=1)"
   ]
  },
  {
   "cell_type": "code",
   "execution_count": null,
   "id": "8f0f2290-0a71-45ab-b378-019699a02a4e",
   "metadata": {},
   "outputs": [
    {
     "data": {
      "image/png": "[encoded data removed]",
      "text/plain": [
       "<Figure size 1440x1440 with 6 Axes>"
      ]
     },
     "metadata": {
      "needs_background": "light"
     },
     "output_type": "display_data"
    }
   ],
   "source": [
    "fig, axes = plt.subplots(nrows=3, ncols=2, figsize=(20,20))\n",
    "\n",
    "for freq, axis in zip(['min_code_freq', 'max_code_freq', '90pct_code_freq'], axes):\n",
    "    df_copy[freq].hist(ax=axis[0], bins=25)\n",
    "    axis[0].set_xlabel(freq)\n",
    "    axis[0].set_ylabel('Text Count')\n",
    "    df_copy[freq].plot.density(ax=axis[1])\n",
    "    axis[1].set_xlabel(freq)\n",
    "    "
   ]
  },
  {
   "cell_type": "code",
   "execution_count": null,
   "id": "56145d70-0f65-499f-ace7-36c1a8e21b32",
   "metadata": {},
   "outputs": [],
   "source": [
    "min_code_freqs = Counter(df_copy['min_code_freq'])\n",
    "max_code_freqs = Counter(df_copy['max_code_freq'])\n",
    "nintypct_code_freqs = Counter(df_copy['90pct_code_freq'])"
   ]
  },
  {
   "cell_type": "code",
   "execution_count": null,
   "id": "edafb421-df2e-48e2-a376-b20e5830143a",
   "metadata": {},
   "outputs": [
    {
     "data": {
      "text/plain": [
       "643474"
      ]
     },
     "execution_count": null,
     "metadata": {},
     "output_type": "execute_result"
    }
   ],
   "source": [
    "total_notes = L(min_code_freqs.values()).sum()\n",
    "total_notes"
   ]
  },
  {
   "cell_type": "code",
   "execution_count": null,
   "id": "8611757d-d58d-47a5-b9d7-166b09dadb89",
   "metadata": {},
   "outputs": [],
   "source": [
    "for kmin in min_code_freqs:\n",
    "    min_code_freqs[kmin] = (min_code_freqs[kmin]/total_notes) * 100\n",
    "    \n",
    "for kmax in max_code_freqs:\n",
    "    max_code_freqs[kmax] = (max_code_freqs[kmax]/total_notes) * 100\n",
    "    \n",
    "for k90pct in nintypct_code_freqs:\n",
    "    nintypct_code_freqs[k90pct] = (nintypct_code_freqs[k90pct]/total_notes) * 100"
   ]
  },
  {
   "cell_type": "code",
   "execution_count": null,
   "id": "76c88c72-faef-4579-915d-fda715410952",
   "metadata": {},
   "outputs": [],
   "source": [
    "min_code_freqs = dict(sorted(min_code_freqs.items(), key=lambda item: item[0]))\n",
    "max_code_freqs = dict(sorted(max_code_freqs.items(), key=lambda item: item[0]))\n",
    "nintypct_code_freqs = dict(sorted(nintypct_code_freqs.items(), key=lambda item: item[0]))"
   ]
  },
  {
   "cell_type": "code",
   "execution_count": null,
   "id": "d3642c3a-3e8a-4791-83b6-61d8a2dae5cf",
   "metadata": {},
   "outputs": [
    {
     "data": {
      "image/png": "[encoded data removed]",
      "text/plain": [
       "<Figure size 1440x1440 with 6 Axes>"
      ]
     },
     "metadata": {
      "needs_background": "light"
     },
     "output_type": "display_data"
    }
   ],
   "source": [
    "fig, axes = plt.subplots(nrows=3, ncols=2, figsize=(20,20))\n",
    "\n",
    "for axis, freq_dict, label in zip(axes, (min_code_freqs, max_code_freqs, nintypct_code_freqs), ('min', 'max', '90pct')):\n",
    "    axis[0].plot(freq_dict.keys(), freq_dict.values())\n",
    "    axis[0].set_xlabel(f\"{label} label freq (f)\")\n",
    "    axis[0].set_ylabel(\"% of texts (P[f])\");\n",
    "    \n",
    "    axis[1].plot(freq_dict.keys(), np.cumsum(list(freq_dict.values())))\n",
    "    axis[1].set_xlabel(f\"{label} code freq (f)\")\n",
    "    axis[1].set_ylabel(\"P[f<=t]\");"
   ]
  },
  {
   "cell_type": "markdown",
   "id": "e11b847f-867f-4e5f-9d20-7dc0a382b74e",
   "metadata": {},
   "source": [
    "### Steps for creating the classifier `DataLoaders` using fastai's `Transforms`:"
   ]
  },
  {
   "cell_type": "markdown",
   "id": "b49bf489-dd91-4ff0-973d-10e7fa3be0de",
   "metadata": {},
   "source": [
    "#### 1. train/valid `splitter`:"
   ]
  },
  {
   "cell_type": "markdown",
   "id": "6aa36a99-519b-4620-80c8-3001e8ac2b47",
   "metadata": {},
   "source": [
    "Okay, based on the `is_valid` column of our Dataframe, let's create a splitter:"
   ]
  },
  {
   "cell_type": "code",
   "execution_count": null,
   "id": "75d5f107-0dd9-488a-97ac-44fd174b4cae",
   "metadata": {},
   "outputs": [],
   "source": [
    "def splitter(df):\n",
    "    train = df.index[~df['is_valid']].tolist()\n",
    "    valid = df.index[df['is_valid']].to_list()\n",
    "    return train, valid"
   ]
  },
  {
   "cell_type": "markdown",
   "id": "e70d2775-134e-46c7-996b-80392db74ba4",
   "metadata": {},
   "source": [
    "Let's check the train/valid split"
   ]
  },
  {
   "cell_type": "code",
   "execution_count": null,
   "id": "2ae731a4-7874-46c4-a504-926fd6c3ca4d",
   "metadata": {},
   "outputs": [
    {
     "data": {
      "text/plain": [
       "((#244) [0,1,2,3,4,5,6,7,8,9...],\n",
       " (#20) [26,44,60,77,82,108,115,124,154,159...])"
      ]
     },
     "execution_count": null,
     "metadata": {},
     "output_type": "execute_result"
    }
   ],
   "source": [
    "splits = [train, valid] = splitter(df)\n",
    "L(splits[0]), L(splits[1])"
   ]
  },
  {
   "cell_type": "markdown",
   "id": "44e72a33-f165-4cb3-805a-9a94b0965334",
   "metadata": {},
   "source": [
    "#### 2. Making the `Datasets` object:"
   ]
  },
  {
   "cell_type": "markdown",
   "id": "e6b44d71-7cd9-464e-abbf-5ffb7432dcc6",
   "metadata": {},
   "source": [
    "**Crucial:** We need the vocab of the language model so that we can make sure we use the same correspondence of token to index. Otherwise, the embeddings we learned in our fine-tuned language model won't make any sense to our classifier model, and the fine-tuning won't be of any use. So we need to pass the `lm_vocab` to the `Numericalize` transform:"
   ]
  },
  {
   "cell_type": "markdown",
   "id": "fd3c99dd-b798-461c-8737-08e4293e4015",
   "metadata": {},
   "source": [
    "So let's load the vocab of the language model:"
   ]
  },
  {
   "cell_type": "code",
   "execution_count": null,
   "id": "e98ea891-3938-4144-b905-07e7154c4593",
   "metadata": {},
   "outputs": [],
   "source": [
    "lm_vocab = torch.load(source/'mimic3-9k_dls_lm_vocab.pkl')\n",
    "lm_vocab_r = torch.load(source/'mimic3-9k_dls_lm_vocab_r.pkl')"
   ]
  },
  {
   "cell_type": "code",
   "execution_count": null,
   "id": "1082cdb8-3e15-4d4f-bc9a-ebdb5324bfa2",
   "metadata": {},
   "outputs": [
    {
     "data": {
      "text/plain": [
       "(#57376) ['xxunk','xxpad','xxbos','xxeos','xxfld','xxrep','xxwrep','xxup','xxmaj','the'...]"
      ]
     },
     "execution_count": null,
     "metadata": {},
     "output_type": "execute_result"
    }
   ],
   "source": [
    "all_equal(lm_vocab, lm_vocab_r)\n",
    "L(lm_vocab)"
   ]
  },
  {
   "cell_type": "code",
   "execution_count": null,
   "id": "74eb28bc-bd5e-423f-b339-62a7e2c7caf9",
   "metadata": {},
   "outputs": [],
   "source": [
    "x_tfms = [Tokenizer.from_df('text'), attrgetter(\"text\"), Numericalize(vocab=lm_vocab)]\n",
    "x_tfms_r = [Tokenizer.from_df('text', ), attrgetter(\"text\"), Numericalize(vocab=lm_vocab), reverse_text]\n",
    "y_tfms = [ColReader('labels', label_delim=';'), MultiCategorize(vocab=lbls), OneHotEncode()]\n",
    "tfms = [x_tfms, y_tfms]\n",
    "tfms_r = [x_tfms_r, y_tfms]"
   ]
  },
  {
   "cell_type": "code",
   "execution_count": null,
   "id": "f5f6569a-29af-40a9-945c-d8bb94f569e4",
   "metadata": {},
   "outputs": [
    {
     "data": {
      "text/html": [
       "\n",
       "<style>\n",
       "    /* Turns off some styling */\n",
       "    progress {\n",
       "        /* gets rid of default border in Firefox and Opera. */\n",
       "        border: none;\n",
       "        /* Needs to be in here for Safari polyfill so background images work as expected. */\n",
       "        background-size: auto;\n",
       "    }\n",
       "    progress:not([value]), progress:not([value])::-webkit-progress-bar {\n",
       "        background: repeating-linear-gradient(45deg, #7e7e7e, #7e7e7e 10px, #5c5c5c 10px, #5c5c5c 20px);\n",
       "    }\n",
       "    .progress-bar-interrupted, .progress-bar-interrupted::-webkit-progress-bar {\n",
       "        background: #F44336;\n",
       "    }\n",
       "</style>\n"
      ],
      "text/plain": [
       "<IPython.core.display.HTML object>"
      ]
     },
     "metadata": {},
     "output_type": "display_data"
    },
    {
     "data": {
      "text/html": [],
      "text/plain": [
       "<IPython.core.display.HTML object>"
      ]
     },
     "metadata": {},
     "output_type": "display_data"
    },
    {
     "name": "stdout",
     "output_type": "stream",
     "text": [
      "CPU times: user 73.8 ms, sys: 326 ms, total: 400 ms\n",
      "Wall time: 865 ms\n"
     ]
    }
   ],
   "source": [
    "%%time\n",
    "dsets = Datasets(df, tfms, splits=splits)"
   ]
  },
  {
   "cell_type": "code",
   "execution_count": null,
   "id": "ae9c7377-af18-4a5b-b4b4-56ab5eb2eb64",
   "metadata": {},
   "outputs": [
    {
     "data": {
      "text/html": [
       "\n",
       "<style>\n",
       "    /* Turns off some styling */\n",
       "    progress {\n",
       "        /* gets rid of default border in Firefox and Opera. */\n",
       "        border: none;\n",
       "        /* Needs to be in here for Safari polyfill so background images work as expected. */\n",
       "        background-size: auto;\n",
       "    }\n",
       "    progress:not([value]), progress:not([value])::-webkit-progress-bar {\n",
       "        background: repeating-linear-gradient(45deg, #7e7e7e, #7e7e7e 10px, #5c5c5c 10px, #5c5c5c 20px);\n",
       "    }\n",
       "    .progress-bar-interrupted, .progress-bar-interrupted::-webkit-progress-bar {\n",
       "        background: #F44336;\n",
       "    }\n",
       "</style>\n"
      ],
      "text/plain": [
       "<IPython.core.display.HTML object>"
      ]
     },
     "metadata": {},
     "output_type": "display_data"
    },
    {
     "data": {
      "text/html": [],
      "text/plain": [
       "<IPython.core.display.HTML object>"
      ]
     },
     "metadata": {},
     "output_type": "display_data"
    },
    {
     "name": "stdout",
     "output_type": "stream",
     "text": [
      "CPU times: user 99.4 ms, sys: 137 ms, total: 236 ms\n",
      "Wall time: 917 ms\n"
     ]
    }
   ],
   "source": [
    "%%time\n",
    "dsets_r = Datasets(df, tfms_r, splits=splits)"
   ]
  },
  {
   "cell_type": "markdown",
   "id": "0c59d3c2-94b6-4df7-9d86-3c951073f211",
   "metadata": {},
   "source": [
    "Let's now check if our `Datasets` got created alright:"
   ]
  },
  {
   "cell_type": "code",
   "execution_count": null,
   "id": "e44ebc4e-6176-4020-aad5-c1124e86a901",
   "metadata": {},
   "outputs": [
    {
     "data": {
      "text/plain": [
       "(244, 20)"
      ]
     },
     "execution_count": null,
     "metadata": {},
     "output_type": "execute_result"
    }
   ],
   "source": [
    "len(dsets.train), len(dsets.valid)"
   ]
  },
  {
   "cell_type": "markdown",
   "id": "6880fbf8-f8ca-4ab0-83b2-ffff4bd3a564",
   "metadata": {},
   "source": [
    "Let's check a random data point:"
   ]
  },
  {
   "cell_type": "code",
   "execution_count": null,
   "id": "9c4aa877-eb40-46e2-9d42-3e465918f85d",
   "metadata": {},
   "outputs": [],
   "source": [
    "idx = random.randint(0, len(dsets))\n",
    "x = dsets.train[idx]\n",
    "assert isinstance(x, tuple) # tuple if independent and dependent variable\n",
    "x_r = dsets_r.train[idx]"
   ]
  },
  {
   "cell_type": "code",
   "execution_count": null,
   "id": "5a868865-af74-4f90-81dd-d9c8edf68783",
   "metadata": {},
   "outputs": [
    {
     "data": {
      "text/plain": [
       "('xxbos admission date discharge date date of birth sex m service medicine allergies accupril naprosyn quinapril attending last name namepattern4 chief complaint hematemesis major surgical or invasive procedure egd history of present illness mr name14 stitle is a 57 m with a pmh of advanced metastatic pancreatic cancer s p gastric and biliary bypass chemo xrt and s p recent palliative small bowel bypass procedure for an sbo in this morning the patient reports sudden vomiting of 500cc of bright red blood with some dark clot about an hour after waking up he denies having had nausea abdominal pain lightheadness syncope shortness or breath or chest pain he was taken to hospital6 where he had a hematocrit of which is his baseline he recieved two liters of ns one unit of prbcs iv pantoprazole and was transferred to hospital1 in the ed his presenting vitals were bp hr rr o2sat ra he refused an ngt both gi and surgery were made aware of his admission one peripheral iv was placed in addition to his existing portacath he currently complains only of low energy and mild abdominal discomfort both present for the past month he has had no recurrent hematemesis he reports that he was guiac negative in the ed and denies any melena or blood per rectum of note he reports taking about ibuprofen over the past week for shoulder pain of note he has had one similar episode of hematemesis in days after his small bowel bypass procedure past medical history pancreatic cancer status post double bypass roux en y choledochojejunostomy and gastro enterostomy diabetes mellitus dm type on insulin chronic pancreatitis oa knees gastroesophageal reflux disease gerd hole in heart at age status post tonsillectomy status post shoulder surgery hydrocele s p drainage status post vasectomy status post cholecystectomy oncologic history mr name14 stitle is a year old gentleman with a history of diabetes who originally presented on with a chief complaint of jaundice weight loss erratic blood glucose measurements early satiety increasing foul smelling flatulence variations in his stool and gerd symptoms he then underwent an ercp with stent placement at hospital1 on and was noted to have a stricture in the distal bile duct as well as a tortuous pancreatic duct and calcification in the pancreatic head his jaundice resolved after ercp and he felt generally well for three weeks after the procedure however after returning from his vacation around he began to experience gradually worsening upper abdominal pain and fevers and was treated for cholangitis he was transferred to hospital1 on and successfully underwent an ercp showing a single mm long stricture in the distal third of the common bile duct brushings were obtained but were negative for malignancy he recovered well from his ercp with a fall in total bilirubin eus and needle biopsy showed an ill defined mass in the head of the pancreas and surgery was consulted for the possibility of a local procedure which was planned for the patient underwent surgery on but due to the operative findings of tumor invasion of the smv and sma the procedure was converted to a palliative bypass with roux en y choledochojejunostomy gastroenterostomy and cholecystectomy due to the locally advanced nature of the disease three core biopsies were obtained of the pancreatic mass with the pathology revealing chronic pancreatitis with atypical glands suspicious for adenocarcinoma this surgery was complicated by wound infection with gram positive cocci in pairs and chains on culture the wound was reopened at the bedside and he was restarted on zosyn a vac dressing was placed to help with wound healing he was discharged home with a wound vac since then the patient has completed clinical trial where he was randomized to the tnferade plus soc arm which consists of five local injections of tnferade biologic via eus approach combined with continuous infusion of fu monday through friday along with radiation week consisted of fu and radiation therapy only the clinical trial ended in early and following this the patient began chemotherapy with gemcitabine on as standard of care treatment with gemcitabine has been complicated by neutropenia and abdominal pain and fever due to a closed loop bowel obstruction secondary to tumor for which the patient underwent an ex lap with by pass of a dilated pancreaticobiliary drainage limb on social history patient lives at with his wife and children no alcohol tobacco or illicit drug use family history mother melanoma dm breast cancer father and uncle abdominal aneurysm physical exam vital signs t bp hr rr o2 physical exam general appears pale and fatigued but in no acute distress heent normocephalic atraumatic pale conjunctiva no scleral icterus perrla eomi moist mucous membranes with sublingual pooling op clear no lymphadenopathy no thyromegaly cardiac regular rhythm normal rate normal s1 s2 no murmurs rubs or last name un jvp 7 cm lungs ctab good air movement biaterally abdomen bowel sounds nondistended mild tenderness to deep palpation on the r otherwise non tender no guarding or rebound no hepatosplenomegaly liver span 7 cm extremities trace bilateral pitting edema good capillary refill and skin turgor no calf pain dorsalis pedis posterior tibial pulses skin pale no rashes lesions ecchymoses portacath in place clean dry no erythema neuro a ox3 appropriate cn grossly intact preserved sensation throughout strength throughout reflexes equal bl normal coordination no tremor or asterixis psych listens and responds to questions appropriately pleasant pertinent results 51pm hct 30pm lactate 57pm glucose urea n creat sodium potassium chloride total co2 anion gap 57pm alt sgpt ast sgot ld ldh alk phos tot bili dir bili indir bil 57pm albumin calcium phosphate magnesium 57pm wbc rbc hgb hct mcv mch mchc rdw 57pm neuts lymphs monos eos basos 57pm plt count 57pm pt ptt inr pt 58pm comments green top 58pm lactate 58pm hgb calchct 50pm glucose urea n creat sodium potassium chloride total co2 anion gap 50pm estgfr using this 50pm wbc rbc hgb hct mcv mch mchc rdw 50pm neuts lymphs monos eos basos 50pm plt count 50pm pt ptt inr pt egd not official read gastritis no active bleed brief hospital course mr known lastname is a 57yo with metastatic pancreatic cancer admitted with one episode of 500cc hematemeis he has remained hemodynaically stable with no signs of ongoing bleeding hematemesis resolved spontaneously thought to tumor locally invasive into the upper gi tract leading to bleed or xxunk nsaids patient showed no signs of bleeding while inpt hct remained stable started on protonix gtt then transitioned to po protonix egd performed by gi signs of gastritis and radiation enteritis no signs of active bleed discharged with protonix and zofran gastroenterology recommendations given increasing biliary last name lf first name3 lf benefit from palliative stent placement should have laboratory checks within next week for further evaluation abnormal liver function tests elevated inr elevated bilirubin alk phos alt and ast these are consistent with poor synthetic function and liver injury this is likely secondary to known invasion of tumor into his liver given ongoing bleeding correction of coagulopathy is warranted was given xxunk k po outpt oncologist and pcp f u needed for lab checks if indicated with goc pancreatic cancer patient has metastatic pancreatic cancer dr last name stitle name stitle pt while inpatient with tentative plan for no additional chemotherapy pain chronic abdominal pain secondary to tumor morhpine sr 15 mg hospital1 morphine 30 mg po q4h prn odansetron 8 mg po q8h prn prochlorperazine mg po iv q6h prn insulin dependent diabetes continued on lantus half dose and iss code status dnr dni transitioning to home hospice as per pt wishes hospice arranged by case management emergency contact name ni name ni is primary hcp ph telephone fax wife is secondary telephone fax cell telephone fax home medications on admission amylase lipase protease mg unit unit number unit unit number unit capsule capsule with meals insulin glargine units at bedtime insulin lispro sliding scale ms contin 15 mg hospital1 ms ir 30 mg q4h prn ondansetron mg q8h prn pantoprazole mg daily prochlorperazine 10 mg q6h prn docusate sodium 100 mg hospital1 discharge medications morphine mg tablet sustained release sig one tablet sustained release po q12h every hours disp tablet sustained release s refills docusate sodium mg capsule sig one capsule po bid times a day amylase lipase protease unit capsule delayed release e c sig one cap po tid w meals times a day with meals disp refills morphine mg ml solution sig one po q4h every hours as needed ondansetron mg tablet rapid dissolve sig two tablet rapid dissolve po q8h every hours as needed disp tablet rapid dissolve s refills prochlorperazine maleate mg tablet sig one tablet po q6h every hours as needed acetaminophen mg tablet sig one tablet po q6h every hours as needed for fever pain lantus unit ml cartridge sig 12u subcutaneous at bedtime as per regular routine lispro sig sliding scale with meals as needed for high glucose as per regular routine sliding scale protonix mg tablet delayed release e c sig one tablet delayed release e c po twice a day disp tablet delayed release e c s refills lancets for glucose checks please provide quantity sufficient for month discharge disposition home with service facility hospital3 vna discharge diagnosis primary ugib unknown source gastritis secondary metastatic unresectable pancreatic cancer dx in s p xxunk whipple converted to palliative roux en y hepaticojejunostomy gastroenterostomy cholecystectomy in s p cyberknife radiation on a clinical trial for tnferade plus standard of care gemcitabine 5fu last recently admitted in with a closed loop sbo secondary to tumor metastatic to omentum s p pallative small bowel bypass procedure discharged on had self limited hematemesis on post op day not worked up currently in the process of discussing hospice with or without second line chemotherapy with capcitabine and oxaliplatin oncologist dr last name stitle name stitle dr last name stitle insulin dependent diabetes for years gerd osteoarthritis s p shoulder surgery years ago hypercholesterolemia pfo s p tonsillectomy discharge condition patient discharged to home in stable condition ambulating tolerating po feeds discharge instructions patient was admitted for upper gib which was stable throughout his hospital course egd did not show active signs of bleed and his blood counts were stable patient is advised to seek medical attention if he acquires chest pain sob nausea vomiting or any other concern that is out of the ordinary for him patient is advised to keep all of his outpatient appointments followup instructions please keep you outpt f u with your xxunk and pcp initials namepattern4 last name namepattern4 name8 xxwrep 3 md number',\n",
       " (#10) ['99.04','530.81','272.0','578.9','250.00','45.13','535.50','157.9','569.84','790.6'])"
      ]
     },
     "execution_count": null,
     "metadata": {},
     "output_type": "execute_result"
    }
   ],
   "source": [
    "dsets.decode(x)"
   ]
  },
  {
   "cell_type": "code",
   "execution_count": null,
   "id": "a6e9d8e2-d506-44cd-860b-1b6f95dcce6c",
   "metadata": {},
   "outputs": [
    {
     "name": "stdout",
     "output_type": "stream",
     "text": [
      "xxbos admission date discharge date date of birth sex m service medicine allergies accupril naprosyn quinapril attending last name namepattern4 chief complaint hematemesis major surgical or invasive procedure egd history of present illness mr name14 stitle is a 57 m with a pmh of advanced metastatic pancreatic cancer s p gastric and biliary bypass chemo xrt and s p recent palliative small bowel bypass procedure for an sbo in this morning the patient reports sudden vomiting of 500cc of bright red blood with some dark clot about an hour after waking up he denies having had nausea abdominal pain lightheadness syncope shortness or breath or chest pain he was taken to hospital6 where he had a hematocrit of which is his baseline he recieved two liters of ns one unit of prbcs iv pantoprazole and was transferred to hospital1 in the ed his presenting vitals were bp hr rr o2sat ra he refused an ngt both gi and surgery were made aware of his admission one peripheral iv was placed in addition to his existing portacath he currently complains only of low energy and mild abdominal discomfort both present for the past month he has had no recurrent hematemesis he reports that he was guiac negative in the ed and denies any melena or blood per rectum of note he reports taking about ibuprofen over the past week for shoulder pain of note he has had one similar episode of hematemesis in days after his small bowel bypass procedure past medical history pancreatic cancer status post double bypass roux en y choledochojejunostomy and gastro enterostomy diabetes mellitus dm type on insulin chronic pancreatitis oa knees gastroesophageal reflux disease gerd hole in heart at age status post tonsillectomy status post shoulder surgery hydrocele s p drainage status post vasectomy status post cholecystectomy oncologic history mr name14 stitle is a year old gentleman with a history of diabetes who originally presented on with a chief complaint of jaundice weight loss erratic blood glucose measurements early satiety increasing foul smelling flatulence variations in his stool and gerd symptoms he then underwent an ercp with stent placement at hospital1 on and was noted to have a stricture in the distal bile duct as well as a tortuous pancreatic duct and calcification in the pancreatic head his jaundice resolved after ercp and he felt generally well for three weeks after the procedure however after returning from his vacation around he began to experience gradually worsening upper abdominal pain and fevers and was treated for cholangitis he was transferred to hospital1 on and successfully underwent an ercp showing a single mm long stricture in the distal third of the common bile duct brushings were obtained but were negative for malignancy he recovered well from his ercp with a fall in total bilirubin eus and needle biopsy showed an ill defined mass in the head of the pancreas and surgery was consulted for the possibility of a local procedure which was planned for the patient underwent surgery on but due to the operative findings of tumor invasion of the smv and sma the procedure was converted to a palliative bypass with roux en y choledochojejunostomy gastroenterostomy and cholecystectomy due to the locally advanced nature of the disease three core biopsies were obtained of the pancreatic mass with the pathology revealing chronic pancreatitis with atypical glands suspicious for adenocarcinoma this surgery was complicated by wound infection with gram positive cocci in pairs and chains on culture the wound was reopened at the bedside and he was restarted on zosyn a vac dressing was placed to help with wound healing he was discharged home with a wound vac since then the patient has completed clinical trial where he was randomized to the tnferade plus soc arm which consists of five local injections of tnferade biologic via eus approach combined with continuous infusion of fu monday through friday along with radiation week consisted of fu and radiation therapy only the clinical trial ended in early and following this the patient began chemotherapy with gemcitabine on as standard of care treatment with gemcitabine has been complicated by neutropenia and abdominal pain and fever due to a closed loop bowel obstruction secondary to tumor for which the patient underwent an ex lap with by pass of a dilated pancreaticobiliary drainage limb on social history patient lives at with his wife and children no alcohol tobacco or illicit drug use family history mother melanoma dm breast cancer father and uncle abdominal aneurysm physical exam vital signs t bp hr rr o2 physical exam general appears pale and fatigued but in no acute distress heent normocephalic atraumatic pale conjunctiva no scleral icterus perrla eomi moist mucous membranes with sublingual pooling op clear no lymphadenopathy no thyromegaly cardiac regular rhythm normal rate normal s1 s2 no murmurs rubs or last name un jvp 7 cm lungs ctab good air movement biaterally abdomen bowel sounds nondistended mild tenderness to deep palpation on the r otherwise non tender no guarding or rebound no hepatosplenomegaly liver span 7 cm extremities trace bilateral pitting edema good capillary refill and skin turgor no calf pain dorsalis pedis posterior tibial pulses skin pale no rashes lesions ecchymoses portacath in place clean dry no erythema neuro a ox3 appropriate cn grossly intact preserved sensation throughout strength throughout reflexes equal bl normal coordination no tremor or asterixis psych listens and responds to questions appropriately pleasant pertinent results 51pm hct 30pm lactate 57pm glucose urea n creat sodium potassium chloride total co2 anion gap 57pm alt sgpt ast sgot ld ldh alk phos tot bili dir bili indir bil 57pm albumin calcium phosphate magnesium 57pm wbc rbc hgb hct mcv mch mchc rdw 57pm neuts lymphs monos eos basos 57pm plt count 57pm pt ptt inr pt 58pm comments green top 58pm lactate 58pm hgb calchct 50pm glucose urea n creat sodium potassium chloride total co2 anion gap 50pm estgfr using this 50pm wbc rbc hgb hct mcv mch mchc rdw 50pm neuts lymphs monos eos basos 50pm plt count 50pm pt ptt inr pt egd not official read gastritis no active bleed brief hospital course mr known lastname is a 57yo with metastatic pancreatic cancer admitted with one episode of 500cc hematemeis he has remained hemodynaically stable with no signs of ongoing bleeding hematemesis resolved spontaneously thought to tumor locally invasive into the upper gi tract leading to bleed or xxunk nsaids patient showed no signs of bleeding while inpt hct remained stable started on protonix gtt then transitioned to po protonix egd performed by gi signs of gastritis and radiation enteritis no signs of active bleed discharged with protonix and zofran gastroenterology recommendations given increasing biliary last name lf first name3 lf benefit from palliative stent placement should have laboratory checks within next week for further evaluation abnormal liver function tests elevated inr elevated bilirubin alk phos alt and ast these are consistent with poor synthetic function and liver injury this is likely secondary to known invasion of tumor into his liver given ongoing bleeding correction of coagulopathy is warranted was given xxunk k po outpt oncologist and pcp f u needed for lab checks if indicated with goc pancreatic cancer patient has metastatic pancreatic cancer dr last name stitle name stitle pt while inpatient with tentative plan for no additional chemotherapy pain chronic abdominal pain secondary to tumor morhpine sr 15 mg hospital1 morphine 30 mg po q4h prn odansetron 8 mg po q8h prn prochlorperazine mg po iv q6h prn insulin dependent diabetes continued on lantus half dose and iss code status dnr dni transitioning to home hospice as per pt wishes hospice arranged by case management emergency contact name ni name ni is primary hcp ph telephone fax wife is secondary telephone fax cell telephone fax home medications on admission amylase lipase protease mg unit unit number unit unit number unit capsule capsule with meals insulin glargine units at bedtime insulin lispro sliding scale ms contin 15 mg hospital1 ms ir 30 mg q4h prn ondansetron mg q8h prn pantoprazole mg daily prochlorperazine 10 mg q6h prn docusate sodium 100 mg hospital1 discharge medications morphine mg tablet sustained release sig one tablet sustained release po q12h every hours disp tablet sustained release s refills docusate sodium mg capsule sig one capsule po bid times a day amylase lipase protease unit capsule delayed release e c sig one cap po tid w meals times a day with meals disp refills morphine mg ml solution sig one po q4h every hours as needed ondansetron mg tablet rapid dissolve sig two tablet rapid dissolve po q8h every hours as needed disp tablet rapid dissolve s refills prochlorperazine maleate mg tablet sig one tablet po q6h every hours as needed acetaminophen mg tablet sig one tablet po q6h every hours as needed for fever pain lantus unit ml cartridge sig 12u subcutaneous at bedtime as per regular routine lispro sig sliding scale with meals as needed for high glucose as per regular routine sliding scale protonix mg tablet delayed release e c sig one tablet delayed release e c po twice a day disp tablet delayed release e c s refills lancets for glucose checks please provide quantity sufficient for month discharge disposition home with service facility hospital3 vna discharge diagnosis primary ugib unknown source gastritis secondary metastatic unresectable pancreatic cancer dx in s p xxunk whipple converted to palliative roux en y hepaticojejunostomy gastroenterostomy cholecystectomy in s p cyberknife radiation on a clinical trial for tnferade plus standard of care gemcitabine 5fu last recently admitted in with a closed loop sbo secondary to tumor metastatic to omentum s p pallative small bowel bypass procedure discharged on had self limited hematemesis on post op day not worked up currently in the process of discussing hospice with or without second line chemotherapy with capcitabine and oxaliplatin oncologist dr last name stitle name stitle dr last name stitle insulin dependent diabetes for years gerd osteoarthritis s p shoulder surgery years ago hypercholesterolemia pfo s p tonsillectomy discharge condition patient discharged to home in stable condition ambulating tolerating po feeds discharge instructions patient was admitted for upper gib which was stable throughout his hospital course egd did not show active signs of bleed and his blood counts were stable patient is advised to seek medical attention if he acquires chest pain sob nausea vomiting or any other concern that is out of the ordinary for him patient is advised to keep all of his outpatient appointments followup instructions please keep you outpt f u with your xxunk and pcp initials namepattern4 last name namepattern4 name8 xxwrep 3 md number\n",
      "99.04;530.81;272.0;578.9;250.00;45.13;535.50;157.9;569.84;790.6\n"
     ]
    }
   ],
   "source": [
    "dsets.show(x)"
   ]
  },
  {
   "cell_type": "code",
   "execution_count": null,
   "id": "92bf6ef3-0597-4286-975f-11673a32546d",
   "metadata": {},
   "outputs": [],
   "source": [
    "assert isinstance(dsets.tfms[0], Pipeline) # `Pipeline` of the `x_tfms`\n",
    "assert isinstance(dsets.tfms[0][0], Tokenizer)\n",
    "assert isinstance(dsets.tfms[0][1], Transform)\n",
    "assert isinstance(dsets.tfms[0][2], Numericalize)"
   ]
  },
  {
   "cell_type": "markdown",
   "id": "c03e9104-f748-4110-a20f-5350671d4428",
   "metadata": {},
   "source": [
    "If we just want to decode the one-hot encoded dependent variable:"
   ]
  },
  {
   "cell_type": "code",
   "execution_count": null,
   "id": "261768e2-7e8b-44a7-868e-e453937a52ab",
   "metadata": {},
   "outputs": [],
   "source": [
    "_ind, _dep = x\n",
    "_lbl = dsets.tfms[1].decode(_dep)\n",
    "test_eq(_lbl, array(lbls)[_dep.nonzero().flatten().int().numpy()])"
   ]
  },
  {
   "cell_type": "markdown",
   "id": "47b4856b-249a-41db-9d73-8b0924e5adcb",
   "metadata": {},
   "source": [
    "Let's extract the `MultiCategorize` transform applied by `dsets` on the dependent variable so that we can apply it ourselves:"
   ]
  },
  {
   "cell_type": "code",
   "execution_count": null,
   "id": "d844625b-9773-4a02-87f2-cd828ba17d2a",
   "metadata": {},
   "outputs": [],
   "source": [
    "tfm_cat = dsets.tfms[1][1]\n",
    "test_eq(str(tfm_cat.__class__), \"<class 'fastai.data.transforms.MultiCategorize'>\")"
   ]
  },
  {
   "cell_type": "markdown",
   "id": "afade557-6b6c-4df5-b67b-c08edf7099e8",
   "metadata": {},
   "source": [
    "`vocab` attribute of the `MultiCategorize` transform stores the category vocabulary. If it was specified from outside (in this case it was) then the `MultiCategorize` transform will not sort the vocabulary otherwise it will."
   ]
  },
  {
   "cell_type": "code",
   "execution_count": null,
   "id": "22d95f34-fcd9-4bd0-8a6e-c28b190ff2de",
   "metadata": {},
   "outputs": [],
   "source": [
    "test_eq(lbls, tfm_cat.vocab)\n",
    "test_ne(lbls, sorted(tfm_cat.vocab))"
   ]
  },
  {
   "cell_type": "code",
   "execution_count": null,
   "id": "5a92ee55-edb5-48fc-a0eb-1a80975af18d",
   "metadata": {},
   "outputs": [],
   "source": [
    "test_eq(str(_lbl.__class__), \"<class 'fastai.data.transforms.MultiCategory'>\")\n",
    "test_eq(tfm_cat(_lbl), TensorMultiCategory([lbls.index(o) for o in _lbl]))\n",
    "test_eq(tfm_cat.decode(tfm_cat(_lbl)), _lbl)"
   ]
  },
  {
   "cell_type": "markdown",
   "id": "c1248674-a710-4608-80ff-7a39f0c47aea",
   "metadata": {},
   "source": [
    "Let's check the reverse:"
   ]
  },
  {
   "cell_type": "code",
   "execution_count": null,
   "id": "c0ea9ef3-4d2a-4869-82bc-9f1059cc169a",
   "metadata": {},
   "outputs": [],
   "source": [
    "# dsets_r.decode(x_r)"
   ]
  },
  {
   "cell_type": "code",
   "execution_count": null,
   "id": "e0b95ad3-6a2e-47f3-b3a1-3e71f4e15a13",
   "metadata": {},
   "outputs": [],
   "source": [
    "# dsets_r.show(x_r)"
   ]
  },
  {
   "cell_type": "markdown",
   "id": "1e29b520-6af2-4fea-b8bc-09fbab94fb41",
   "metadata": {},
   "source": [
    "Looks pretty good!"
   ]
  },
  {
   "cell_type": "markdown",
   "id": "63192242-d27e-4ac9-bc16-67e51f2f9adc",
   "metadata": {},
   "source": [
    "#### 3. Making the `DataLoaders` object:"
   ]
  },
  {
   "cell_type": "markdown",
   "id": "f39893db-a4d7-4c8f-8ba1-9d3cc9e8f5dd",
   "metadata": {},
   "source": [
    "We need to pick the sequence length and the batch size (you might have to adjust this depending on you GPU size)"
   ]
  },
  {
   "cell_type": "code",
   "execution_count": null,
   "id": "c35799df-306f-4378-9142-5bc088696b4b",
   "metadata": {},
   "outputs": [],
   "source": [
    "bs, sl = 16, 72"
   ]
  },
  {
   "cell_type": "markdown",
   "id": "5eb22f68-6975-4218-b609-2e48ff8034a6",
   "metadata": {},
   "source": [
    "We will use the `dl_type` argument of the `DataLoaders`. The purpose is to tell `DataLoaders` to use `SortedDL` class of the `DataLoader`, and not the usual one. `SortedDL` constructs batches by putting samples of roughly the same lengths into batches."
   ]
  },
  {
   "cell_type": "code",
   "execution_count": null,
   "id": "bb267f33-0791-4e92-a6f3-af010850a4d8",
   "metadata": {},
   "outputs": [],
   "source": [
    "dl_type = partial(SortedDL, shuffle=True)"
   ]
  },
  {
   "cell_type": "markdown",
   "id": "d1fcce95-769f-4866-aed7-c4b2fd30c6e9",
   "metadata": {},
   "source": [
    "**Crucial:** \n",
    "- We will use **`pad_input_chunk`** because our encoder `AWD_LSTM` will be wrapped inside `SentenceEncoder`. \n",
    "- A `SenetenceEncoder` expects that all the documents are padded, \n",
    "- with most of the padding at the beginning of the document, with each sequence beginning at a round multiple of bptt\n",
    "- and the rest of the padding at the end."
   ]
  },
  {
   "cell_type": "code",
   "execution_count": null,
   "id": "236e0d09-1b02-464b-9c73-b667ca1cda42",
   "metadata": {},
   "outputs": [],
   "source": [
    "dls_clas = dsets.dataloaders(bs=bs, seq_len=sl, \n",
    "                             dl_type=dl_type,\n",
    "                             before_batch=pad_input_chunk)"
   ]
  },
  {
   "cell_type": "markdown",
   "id": "caab3d1c-a62b-4fd2-8363-a18fa053e90b",
   "metadata": {},
   "source": [
    "For the reverse:"
   ]
  },
  {
   "cell_type": "code",
   "execution_count": null,
   "id": "5cb67c6a-bf02-4365-8d82-965cf8d50321",
   "metadata": {},
   "outputs": [],
   "source": [
    "dls_clas_r = dsets_r.dataloaders(bs=bs, seq_len=sl,\n",
    "                                 dl_type=dl_type,\n",
    "                                 before_batch=pad_input_chunk)"
   ]
  },
  {
   "cell_type": "markdown",
   "id": "5320ded3-4b24-43d1-9984-9a64cbc0aad7",
   "metadata": {},
   "source": [
    "Creating the `DataLoaders` object takes considerable amount of time, so do save it when working on your dataset. In this though, (as always) `untar_xxx` downloaded it for you:"
   ]
  },
  {
   "cell_type": "code",
   "execution_count": null,
   "id": "39626687-d254-4903-8aaa-8de03f5fe162",
   "metadata": {},
   "outputs": [
    {
     "name": "stdout",
     "output_type": "stream",
     "text": [
      "\u001b[01;34m/home/deb/.xcube/data/mimic3\u001b[00m\n",
      "├── [192M May  1  2022]  mimic3-9k_clas.pth\n",
      "├── [192M May  1  2022]  mimic3-9k_clas2.pth\n",
      "├── [1.6G Feb 20 15:55]  mimic3-9k_dls_clas.pkl\n",
      "└── [1.6G Apr 22  2022]  mimic3-9k_dls_clas_old.pkl\n",
      "\n",
      "0 directories, 4 files\n"
     ]
    }
   ],
   "source": [
    "!tree -shLD 1 {source} -P *clas*\n",
    "# or using glob\n",
    "# L(source.glob(\"**/*clas*\"))"
   ]
  },
  {
   "cell_type": "markdown",
   "id": "dc64f99e-6109-4a71-a048-f6f2c52f6fdf",
   "metadata": {},
   "source": [
    "Aside: Some handy linux find tricks:\n",
    "1. https://stackoverflow.com/questions/18312935/find-file-in-linux-then-report-the-size-of-file-searched\n",
    "2. https://stackoverflow.com/questions/4210042/how-to-exclude-a-directory-in-find-command"
   ]
  },
  {
   "cell_type": "code",
   "execution_count": null,
   "id": "9fe278c3-d9d2-45a4-afa8-bc95decf079c",
   "metadata": {},
   "outputs": [],
   "source": [
    "# !find -path ./models -prune -o -type f -name \"*caml*\" -exec du -sh {} \\;\n",
    "# !find -not -path \"./data/*\" -type f -name \"*caml*\" -exec du -sh {} \\;\n",
    "# !find {path_data} -type f -name \"*caml*\" | xargs du -sh"
   ]
  },
  {
   "cell_type": "markdown",
   "id": "27156ee7-1b7e-4f46-9149-fb664e0c2cc6",
   "metadata": {},
   "source": [
    "If you want to load the dls for the full dataset:"
   ]
  },
  {
   "cell_type": "code",
   "execution_count": null,
   "id": "8643f59c-199c-4534-a3d5-d90eef1a716f",
   "metadata": {},
   "outputs": [
    {
     "name": "stdout",
     "output_type": "stream",
     "text": [
      "CPU times: user 13.1 s, sys: 3.16 s, total: 16.2 s\n",
      "Wall time: 16.6 s\n"
     ]
    }
   ],
   "source": [
    "%%time\n",
    "dls_clas = torch.load(source/'mimic3-9k_dls_clas.pkl')"
   ]
  },
  {
   "cell_type": "markdown",
   "id": "1b563fa8-d3c6-4a17-85e9-6174e7562e60",
   "metadata": {},
   "source": [
    "Let's take a look at the data:"
   ]
  },
  {
   "cell_type": "code",
   "execution_count": null,
   "id": "9f8365e5-7b0f-461f-bc21-90014c81e3b7",
   "metadata": {},
   "outputs": [],
   "source": [
    "# dls_clas.show_batch(max_n=3)"
   ]
  },
  {
   "cell_type": "code",
   "execution_count": null,
   "id": "17128d9b-3795-4864-b13b-4e519b522f60",
   "metadata": {},
   "outputs": [],
   "source": [
    "# dls_clas_r.show_batch(max_n=3)"
   ]
  },
  {
   "cell_type": "markdown",
   "id": "523b68db-eae8-4785-9e31-763c73581d1b",
   "metadata": {},
   "source": [
    "#### 4. (Optional) Making the `DataLoaders` using fastai's `DataBlock` API:"
   ]
  },
  {
   "cell_type": "markdown",
   "id": "42c225d1-9c23-48d6-8ae6-ff876c101cf6",
   "metadata": {},
   "source": [
    "It's worth mentioning here that all the steps we performed to create the `DataLoaders` can be packaged together using fastai's `DataBlock` API. "
   ]
  },
  {
   "cell_type": "code",
   "execution_count": null,
   "id": "ed9d265a-0ca3-42d8-bcb5-21e26218a521",
   "metadata": {},
   "outputs": [],
   "source": [
    "dblock = DataBlock(\n",
    "        blocks = (TextBlock.from_df('text', seq_len=sl, vocab=lm_vocab), MultiCategoryBlock(vocab=lbls)),\n",
    "        get_x = ColReader('text'),\n",
    "        get_y = ColReader('labels', label_delim=';'),\n",
    "        splitter = splitter,\n",
    "        dl_type = dl_type,\n",
    ")"
   ]
  },
  {
   "cell_type": "code",
   "execution_count": null,
   "id": "21b31b12-c296-4725-9bbe-5a4882033b20",
   "metadata": {},
   "outputs": [
    {
     "data": {
      "text/html": [
       "\n",
       "<style>\n",
       "    /* Turns off some styling */\n",
       "    progress {\n",
       "        /* gets rid of default border in Firefox and Opera. */\n",
       "        border: none;\n",
       "        /* Needs to be in here for Safari polyfill so background images work as expected. */\n",
       "        background-size: auto;\n",
       "    }\n",
       "    .progress-bar-interrupted, .progress-bar-interrupted::-webkit-progress-bar {\n",
       "        background: #F44336;\n",
       "    }\n",
       "</style>\n"
      ],
      "text/plain": [
       "<IPython.core.display.HTML object>"
      ]
     },
     "metadata": {},
     "output_type": "display_data"
    },
    {
     "data": {
      "text/html": [],
      "text/plain": [
       "<IPython.core.display.HTML object>"
      ]
     },
     "metadata": {},
     "output_type": "display_data"
    }
   ],
   "source": [
    "dls_clas = dblock.dataloaders(df, bs=bs, before_batch=pad_input_chunk)"
   ]
  },
  {
   "cell_type": "code",
   "execution_count": null,
   "id": "b7edf132-e005-427a-8d9f-5bb211686d88",
   "metadata": {},
   "outputs": [],
   "source": [
    "dls_clas.show_batch(max_n=5)"
   ]
  },
  {
   "cell_type": "markdown",
   "id": "6a929435-5a3d-457f-ada0-6214749fdd8c",
   "metadata": {},
   "source": [
    "## `Learner` for Multi-Label Classifier Fine-Tuning "
   ]
  },
  {
   "cell_type": "code",
   "execution_count": null,
   "id": "cb3a736f-ecdb-4add-bd2d-db1ff3a64171",
   "metadata": {},
   "outputs": [],
   "source": [
    "set_seed(897997989, reproducible=True)"
   ]
  },
  {
   "cell_type": "markdown",
   "id": "92d027d8-c031-4668-9a78-5cc3773272e2",
   "metadata": {},
   "source": [
    "This is where we have `dls_clas`(for the full dataset) we made in the previous section:"
   ]
  },
  {
   "cell_type": "code",
   "execution_count": null,
   "id": "e9ebec02-f429-4a0e-8274-94b5ea22cc8b",
   "metadata": {},
   "outputs": [
    {
     "name": "stdout",
     "output_type": "stream",
     "text": [
      "\u001b[01;34m/home/deb/.xcube/data/mimic3\u001b[00m\n",
      "├── [192M]  mimic3-9k_clas.pth\n",
      "├── [192M]  mimic3-9k_clas2.pth\n",
      "├── [1.6G]  mimic3-9k_dls_clas.pkl\n",
      "└── [1.6G]  mimic3-9k_dls_clas_old.pkl\n",
      "\n",
      "0 directories, 4 files\n"
     ]
    }
   ],
   "source": [
    "!tree -shL 1 {source} -P \"*clas*\"\n",
    "# or using glob\n",
    "# L(source.glob(\"**/*clas*\"))"
   ]
  },
  {
   "cell_type": "markdown",
   "id": "78f2d461-bad7-425c-815b-b10b5618a68b",
   "metadata": {},
   "source": [
    "And this is where we have the finetuned language model:"
   ]
  },
  {
   "cell_type": "code",
   "execution_count": null,
   "id": "67d1ca98-5434-4499-a3ba-75a279df892c",
   "metadata": {},
   "outputs": [
    {
     "name": "stdout",
     "output_type": "stream",
     "text": [
      "\u001b[01;34m/home/deb/.xcube/data/mimic3\u001b[00m\n",
      "├── [165M Apr 30  2022]  mimic3-9k_lm_finetuned.pth\n",
      "└── [165M May  7  2022]  mimic3-9k_lm_finetuned_r.pth\n",
      "\n",
      "0 directories, 2 files\n"
     ]
    }
   ],
   "source": [
    "!tree -shDL 1 {source} -P '*fine*'"
   ]
  },
  {
   "cell_type": "markdown",
   "id": "7255e48d-f5ac-4b95-a0c5-45e27d38db80",
   "metadata": {},
   "source": [
    "Next we'll create a tmp directory to store results. In order for our learner to have access to the finetuned language model we need to symlink to it."
   ]
  },
  {
   "cell_type": "code",
   "execution_count": null,
   "id": "29a1f833-c561-40c8-b017-683d9837129d",
   "metadata": {},
   "outputs": [
    {
     "name": "stdout",
     "output_type": "stream",
     "text": [
      "\u001b[01;34m/home/deb/xcube/nbs/tmp\u001b[00m\n",
      "├── [ 23G Feb 21 13:27]  dls_full.pkl\n",
      "├── [1.7M Feb 10 16:40]  dls_tiny.pkl\n",
      "├── [152M Mar  8 00:28]  lin_lambdarank_full.pth\n",
      "├── [1.0M Mar  7 16:52]  lin_lambdarank_tiny.pth\n",
      "├── [ 10M Feb 20 16:22]  mimic3-9k_dls_clas_tiny.pkl\n",
      "├── [ 10M Mar 19 19:16]  mimic3-9k_dls_clas_tiny_r.pkl\n",
      "├── [4.0K Mar 19 19:50]  \u001b[01;34mmodels\u001b[00m\n",
      "│   ├── [277M Mar 19 20:02]  mimic3-9k_clas_tiny.pth\n",
      "│   ├── [277M Mar 19 20:06]  mimic3-9k_clas_tiny_r.pth\n",
      "│   ├── [635K Mar 19 20:06]  mimic3-9k_clas_tiny_r_vocab.pkl\n",
      "│   ├── [635K Mar 19 20:02]  mimic3-9k_clas_tiny_vocab.pkl\n",
      "│   ├── [  55 Mar  8 16:09]  \u001b[01;36mmimic3-9k_lm_finetuned.pth\u001b[00m -> /home/deb/.xcube/data/mimic3/mimic3-9k_lm_finetuned.pth\n",
      "│   └── [  57 Mar 19 19:27]  \u001b[01;36mmimic3-9k_lm_finetuned_r.pth\u001b[00m -> /home/deb/.xcube/data/mimic3/mimic3-9k_lm_finetuned_r.pth\n",
      "└── [1.2M Mar  7 16:46]  nn_lambdarank_tiny.pth\n",
      "\n",
      "1 directory, 13 files\n"
     ]
    }
   ],
   "source": [
    "#| eval: false\n",
    "tmp = Path.cwd()/'tmp/models'\n",
    "tmp.mkdir(exist_ok=True, parents=True)\n",
    "tmp = tmp.parent\n",
    "# (tmp/'models'/'mimic3-9k_lm_finetuned.pth').symlink_to(source/'mimic3-9k_lm_finetuned.pth') # run this just once\n",
    "# (tmp/'models'/'mimic3-9k_lm_finetuned_r.pth').symlink_to(source/'mimic3-9k_lm_finetuned_r.pth') # run this just once\n",
    "# list_files(tmp)\n",
    "!tree -shD {tmp}"
   ]
  },
  {
   "cell_type": "markdown",
   "id": "2020de11-498b-4823-853c-de076de8d093",
   "metadata": {},
   "source": [
    "Let's now get the dataloaders for the classifier"
   ]
  },
  {
   "cell_type": "code",
   "execution_count": null,
   "id": "7e33faf5-f416-4954-8848-9ea1ebbc323c",
   "metadata": {},
   "outputs": [],
   "source": [
    "dls_clas = torch.load(tmp/'mimic3-9k_dls_clas_tiny.pkl')\n",
    "dls_clas_r = torch.load(tmp/'mimic3-9k_dls_clas_tiny_r.pkl')\n",
    "# dls_clas.show_batch(max_n=5)"
   ]
  },
  {
   "cell_type": "markdown",
   "id": "3ac6fc13-42f9-4701-b03d-3ef6c46be0ee",
   "metadata": {},
   "source": [
    "Or if you want to load the one for the full dataset:"
   ]
  },
  {
   "cell_type": "code",
   "execution_count": null,
   "id": "12b28efe-e655-4446-92b1-23e422484287",
   "metadata": {},
   "outputs": [],
   "source": [
    "# dls_clas = torch.load(source/'mimic3-9k_dls_clas.pkl')\n",
    "# dls_clas_r = torch.load(source/'mimic3-9k_dls_clas_r.pkl')"
   ]
  },
  {
   "cell_type": "markdown",
   "id": "fc360a01-6553-490d-8698-e63c0b979692",
   "metadata": {},
   "source": [
    "We'll save the classifier with `fname` so let's create the callback upfront:"
   ]
  },
  {
   "cell_type": "code",
   "execution_count": null,
   "id": "6580ffe2-c2e7-4031-bbf7-5786040a3c44",
   "metadata": {},
   "outputs": [],
   "source": [
    "fname = 'mimic3-9k_clas_tiny'\n",
    "fname_r = fname+'_r'\n",
    "cbs=SaveModelCallback(monitor='precision_at_k', fname=fname, with_opt=True, reset_on_fit=True)\n",
    "cbs_r=SaveModelCallback(monitor='precision_at_k', fname=fname_r, with_opt=True, reset_on_fit=True)"
   ]
  },
  {
   "cell_type": "markdown",
   "id": "f0a5b3fa-a043-46d4-b765-119543c3a79b",
   "metadata": {},
   "source": [
    "We will make the `TextLearner` (Here you can use `pretrained=Fasle` to save time beacuse we are anyway going to `load_encoder` later which will replace the encoder wgts with the ones we that we have in the fine-tuned LM):"
   ]
  },
  {
   "cell_type": "code",
   "execution_count": null,
   "id": "6d994bc9-7c8d-41a4-92af-c0ba094ee247",
   "metadata": {},
   "outputs": [],
   "source": [
    "# %%debug\n",
    "learn = xmltext_classifier_learner(dls_clas, AWD_LSTM, drop_mult=0.1, max_len=72*40, \n",
    "                                   metrics=partial(precision_at_k, k=15), path=tmp, cbs=cbs,\n",
    "                                   pretrained=False).to_fp16()\n",
    "learn_r = xmltext_classifier_learner(dls_clas_r, AWD_LSTM, drop_mult=0.1, max_len=72*40, \n",
    "                                   metrics=partial(precision_at_k, k=15), path=tmp, cbs=cbs_r,\n",
    "                                   pretrained=False).to_fp16()  "
   ]
  },
  {
   "cell_type": "code",
   "execution_count": null,
   "id": "05c3492b-d986-48fe-aa3b-653fc2e6e2ce",
   "metadata": {},
   "outputs": [],
   "source": [
    "#| hide\n",
    "# learn.model[0]\n",
    "# learn.model[1].__class__??\n",
    "# learn.model[1].pay_attn.__class__??"
   ]
  },
  {
   "cell_type": "markdown",
   "id": "0d2fb9ae-d59f-4089-9965-15ce56019fe3",
   "metadata": {},
   "source": [
    "The following line essentially captures the magic of [ULMFit's](https://arxiv.org/pdf/1801.06146.pdf) transfer learning:"
   ]
  },
  {
   "cell_type": "code",
   "execution_count": null,
   "id": "a4b52a51-1f0a-480c-8b5a-bd516a9a9e46",
   "metadata": {},
   "outputs": [],
   "source": [
    "learn = learn.load_encoder('mimic3-9k_lm_finetuned')\n",
    "learn_r = learn_r.load_encoder('mimic3-9k_lm_finetuned_r')"
   ]
  },
  {
   "cell_type": "markdown",
   "id": "0cfea4dd-aff2-425e-9f95-5b602f783ead",
   "metadata": {},
   "source": [
    "## Fine-Tuning the Classifier "
   ]
  },
  {
   "cell_type": "markdown",
   "id": "3a497340-b543-4b08-b763-794a2a596ad1",
   "metadata": {},
   "source": [
    "The last step (yes, the madness will end soon) is to train with:\n",
    "- *discriminative learning rates*: define here\n",
    "- *gradual unfreezing*: define here\n",
    "\n",
    "as defined here in [ULMFit](https://arxiv.org/pdf/1801.06146.pdf)"
   ]
  },
  {
   "cell_type": "code",
   "execution_count": null,
   "id": "0ceeb609-682f-40db-8ae4-dbc9c803efd0",
   "metadata": {},
   "outputs": [
    {
     "data": {
      "text/html": [
       "\n",
       "<style>\n",
       "    /* Turns off some styling */\n",
       "    progress {\n",
       "        /* gets rid of default border in Firefox and Opera. */\n",
       "        border: none;\n",
       "        /* Needs to be in here for Safari polyfill so background images work as expected. */\n",
       "        background-size: auto;\n",
       "    }\n",
       "    progress:not([value]), progress:not([value])::-webkit-progress-bar {\n",
       "        background: repeating-linear-gradient(45deg, #7e7e7e, #7e7e7e 10px, #5c5c5c 10px, #5c5c5c 20px);\n",
       "    }\n",
       "    .progress-bar-interrupted, .progress-bar-interrupted::-webkit-progress-bar {\n",
       "        background: #F44336;\n",
       "    }\n",
       "</style>\n"
      ],
      "text/plain": [
       "<IPython.core.display.HTML object>"
      ]
     },
     "metadata": {},
     "output_type": "display_data"
    },
    {
     "data": {
      "text/html": [],
      "text/plain": [
       "<IPython.core.display.HTML object>"
      ]
     },
     "metadata": {},
     "output_type": "display_data"
    },
    {
     "data": {
      "text/plain": [
       "(0.13182567358016967,\n",
       " 0.033113110810518265,\n",
       " 0.004365158267319202,\n",
       " 0.033113110810518265)"
      ]
     },
     "execution_count": null,
     "metadata": {},
     "output_type": "execute_result"
    },
    {
     "data": {
      "image/png": "[encoded data removed]",
      "text/plain": [
       "<Figure size 800x400 with 1 Axes>"
      ]
     },
     "metadata": {},
     "output_type": "display_data"
    }
   ],
   "source": [
    "lr_min, lr_steep, lr_valley, lr_slide = learn.lr_find(suggest_funcs=(minimum, steep, valley, slide))\n",
    "lr_min, lr_steep, lr_valley, lr_slide"
   ]
  },
  {
   "cell_type": "code",
   "execution_count": null,
   "id": "753289e1-13c7-4b1d-96f4-88e967ce0d6a",
   "metadata": {},
   "outputs": [
    {
     "data": {
      "text/html": [
       "\n",
       "<style>\n",
       "    /* Turns off some styling */\n",
       "    progress {\n",
       "        /* gets rid of default border in Firefox and Opera. */\n",
       "        border: none;\n",
       "        /* Needs to be in here for Safari polyfill so background images work as expected. */\n",
       "        background-size: auto;\n",
       "    }\n",
       "    progress:not([value]), progress:not([value])::-webkit-progress-bar {\n",
       "        background: repeating-linear-gradient(45deg, #7e7e7e, #7e7e7e 10px, #5c5c5c 10px, #5c5c5c 20px);\n",
       "    }\n",
       "    .progress-bar-interrupted, .progress-bar-interrupted::-webkit-progress-bar {\n",
       "        background: #F44336;\n",
       "    }\n",
       "</style>\n"
      ],
      "text/plain": [
       "<IPython.core.display.HTML object>"
      ]
     },
     "metadata": {},
     "output_type": "display_data"
    },
    {
     "data": {
      "text/html": [
       "<table border=\"1\" class=\"dataframe\">\n",
       "  <thead>\n",
       "    <tr style=\"text-align: left;\">\n",
       "      <th>epoch</th>\n",
       "      <th>train_loss</th>\n",
       "      <th>valid_loss</th>\n",
       "      <th>precision_at_k</th>\n",
       "      <th>time</th>\n",
       "    </tr>\n",
       "  </thead>\n",
       "  <tbody>\n",
       "    <tr>\n",
       "      <td>0</td>\n",
       "      <td>0.283788</td>\n",
       "      <td>0.078786</td>\n",
       "      <td>0.250000</td>\n",
       "      <td>00:09</td>\n",
       "    </tr>\n",
       "    <tr>\n",
       "      <td>1</td>\n",
       "      <td>0.152918</td>\n",
       "      <td>0.077159</td>\n",
       "      <td>0.256667</td>\n",
       "      <td>00:05</td>\n",
       "    </tr>\n",
       "    <tr>\n",
       "      <td>2</td>\n",
       "      <td>0.105759</td>\n",
       "      <td>0.071583</td>\n",
       "      <td>0.313333</td>\n",
       "      <td>00:05</td>\n",
       "    </tr>\n",
       "    <tr>\n",
       "      <td>3</td>\n",
       "      <td>0.079341</td>\n",
       "      <td>0.068789</td>\n",
       "      <td>0.306667</td>\n",
       "      <td>00:05</td>\n",
       "    </tr>\n",
       "    <tr>\n",
       "      <td>4</td>\n",
       "      <td>0.061920</td>\n",
       "      <td>0.067525</td>\n",
       "      <td>0.326667</td>\n",
       "      <td>00:05</td>\n",
       "    </tr>\n",
       "  </tbody>\n",
       "</table>"
      ],
      "text/plain": [
       "<IPython.core.display.HTML object>"
      ]
     },
     "metadata": {},
     "output_type": "display_data"
    },
    {
     "name": "stdout",
     "output_type": "stream",
     "text": [
      "Better model found at epoch 0 with precision_at_k value: 0.25000000000000006.\n",
      "Better model found at epoch 1 with precision_at_k value: 0.2566666666666667.\n",
      "Better model found at epoch 2 with precision_at_k value: 0.31333333333333335.\n",
      "Better model found at epoch 4 with precision_at_k value: 0.32666666666666666.\n"
     ]
    }
   ],
   "source": [
    "learn.fit_one_cycle(5, lr_max=0.13182567358016967, moms=(0.8,0.7,0.8), wd=0.1)"
   ]
  },
  {
   "cell_type": "code",
   "execution_count": null,
   "id": "593d11a1-6ead-4ba8-9dcd-d666b84fcf0f",
   "metadata": {},
   "outputs": [
    {
     "name": "stdout",
     "output_type": "stream",
     "text": [
      "best so far = 0.3166666666666667\n"
     ]
    },
    {
     "data": {
      "text/html": [
       "\n",
       "<style>\n",
       "    /* Turns off some styling */\n",
       "    progress {\n",
       "        /* gets rid of default border in Firefox and Opera. */\n",
       "        border: none;\n",
       "        /* Needs to be in here for Safari polyfill so background images work as expected. */\n",
       "        background-size: auto;\n",
       "    }\n",
       "    progress:not([value]), progress:not([value])::-webkit-progress-bar {\n",
       "        background: repeating-linear-gradient(45deg, #7e7e7e, #7e7e7e 10px, #5c5c5c 10px, #5c5c5c 20px);\n",
       "    }\n",
       "    .progress-bar-interrupted, .progress-bar-interrupted::-webkit-progress-bar {\n",
       "        background: #F44336;\n",
       "    }\n",
       "</style>\n"
      ],
      "text/plain": [
       "<IPython.core.display.HTML object>"
      ]
     },
     "metadata": {},
     "output_type": "display_data"
    },
    {
     "data": {
      "text/html": [],
      "text/plain": [
       "<IPython.core.display.HTML object>"
      ]
     },
     "metadata": {},
     "output_type": "display_data"
    },
    {
     "name": "stdout",
     "output_type": "stream",
     "text": [
      "[0.06839973479509354, 0.3166666666666667]\n",
      "best so far = 0.3166666666666667\n"
     ]
    }
   ],
   "source": [
    "validate(learn)"
   ]
  },
  {
   "cell_type": "markdown",
   "id": "addb7056-c4d2-4dbe-bbfc-d5d0dc421efb",
   "metadata": {},
   "source": [
    "This was the result after just three epochs. Now let's unfreeze the last two layers and do discriminative training:  \n",
    "\n",
    "Now we will pass -2 to `freeze_to` to freeze all except the last two parameter groups:"
   ]
  },
  {
   "cell_type": "code",
   "execution_count": null,
   "id": "c5fbf999-320c-4a19-8712-cb3568526144",
   "metadata": {},
   "outputs": [],
   "source": [
    "learn.freeze_to(-2)"
   ]
  },
  {
   "cell_type": "code",
   "execution_count": null,
   "id": "62b43c80-f5cd-4423-9a88-1e79d2973811",
   "metadata": {},
   "outputs": [
    {
     "data": {
      "text/html": [
       "\n",
       "<style>\n",
       "    /* Turns off some styling */\n",
       "    progress {\n",
       "        /* gets rid of default border in Firefox and Opera. */\n",
       "        border: none;\n",
       "        /* Needs to be in here for Safari polyfill so background images work as expected. */\n",
       "        background-size: auto;\n",
       "    }\n",
       "    progress:not([value]), progress:not([value])::-webkit-progress-bar {\n",
       "        background: repeating-linear-gradient(45deg, #7e7e7e, #7e7e7e 10px, #5c5c5c 10px, #5c5c5c 20px);\n",
       "    }\n",
       "    .progress-bar-interrupted, .progress-bar-interrupted::-webkit-progress-bar {\n",
       "        background: #F44336;\n",
       "    }\n",
       "</style>\n"
      ],
      "text/plain": [
       "<IPython.core.display.HTML object>"
      ]
     },
     "metadata": {},
     "output_type": "display_data"
    },
    {
     "data": {
      "text/html": [
       "<table border=\"1\" class=\"dataframe\">\n",
       "  <thead>\n",
       "    <tr style=\"text-align: left;\">\n",
       "      <th>epoch</th>\n",
       "      <th>train_loss</th>\n",
       "      <th>valid_loss</th>\n",
       "      <th>precision_at_k</th>\n",
       "      <th>time</th>\n",
       "    </tr>\n",
       "  </thead>\n",
       "  <tbody>\n",
       "    <tr>\n",
       "      <td>0</td>\n",
       "      <td>0.025797</td>\n",
       "      <td>0.069248</td>\n",
       "      <td>0.336667</td>\n",
       "      <td>00:07</td>\n",
       "    </tr>\n",
       "    <tr>\n",
       "      <td>1</td>\n",
       "      <td>0.025143</td>\n",
       "      <td>0.069551</td>\n",
       "      <td>0.340000</td>\n",
       "      <td>00:07</td>\n",
       "    </tr>\n",
       "    <tr>\n",
       "      <td>2</td>\n",
       "      <td>0.024290</td>\n",
       "      <td>0.070238</td>\n",
       "      <td>0.340000</td>\n",
       "      <td>00:06</td>\n",
       "    </tr>\n",
       "    <tr>\n",
       "      <td>3</td>\n",
       "      <td>0.023541</td>\n",
       "      <td>0.070796</td>\n",
       "      <td>0.336667</td>\n",
       "      <td>00:06</td>\n",
       "    </tr>\n",
       "    <tr>\n",
       "      <td>4</td>\n",
       "      <td>0.022962</td>\n",
       "      <td>0.070888</td>\n",
       "      <td>0.336667</td>\n",
       "      <td>00:07</td>\n",
       "    </tr>\n",
       "  </tbody>\n",
       "</table>"
      ],
      "text/plain": [
       "<IPython.core.display.HTML object>"
      ]
     },
     "metadata": {},
     "output_type": "display_data"
    },
    {
     "name": "stdout",
     "output_type": "stream",
     "text": [
      "Better model found at epoch 0 with precision_at_k value: 0.33666666666666667.\n",
      "Better model found at epoch 1 with precision_at_k value: 0.34.\n"
     ]
    }
   ],
   "source": [
    "learn.fit_one_cycle(5, lr_max=1e-3, moms=(0.8,0.7,0.8), wd=0.1)"
   ]
  },
  {
   "cell_type": "code",
   "execution_count": null,
   "id": "741b7910-a3bc-4b35-92c8-ab7539e3ab2d",
   "metadata": {},
   "outputs": [
    {
     "name": "stdout",
     "output_type": "stream",
     "text": [
      "best so far = 0.34\n"
     ]
    },
    {
     "data": {
      "text/html": [
       "\n",
       "<style>\n",
       "    /* Turns off some styling */\n",
       "    progress {\n",
       "        /* gets rid of default border in Firefox and Opera. */\n",
       "        border: none;\n",
       "        /* Needs to be in here for Safari polyfill so background images work as expected. */\n",
       "        background-size: auto;\n",
       "    }\n",
       "    progress:not([value]), progress:not([value])::-webkit-progress-bar {\n",
       "        background: repeating-linear-gradient(45deg, #7e7e7e, #7e7e7e 10px, #5c5c5c 10px, #5c5c5c 20px);\n",
       "    }\n",
       "    .progress-bar-interrupted, .progress-bar-interrupted::-webkit-progress-bar {\n",
       "        background: #F44336;\n",
       "    }\n",
       "</style>\n"
      ],
      "text/plain": [
       "<IPython.core.display.HTML object>"
      ]
     },
     "metadata": {},
     "output_type": "display_data"
    },
    {
     "data": {
      "text/html": [],
      "text/plain": [
       "<IPython.core.display.HTML object>"
      ]
     },
     "metadata": {},
     "output_type": "display_data"
    },
    {
     "name": "stdout",
     "output_type": "stream",
     "text": [
      "[0.06955067813396454, 0.34]\n",
      "best so far = 0.34\n"
     ]
    }
   ],
   "source": [
    "validate(learn)"
   ]
  },
  {
   "cell_type": "markdown",
   "id": "b44b237b-bb8c-47c2-811f-36811fbe94dd",
   "metadata": {},
   "source": [
    "Now we will unfreeze a bit more, recompute learning rate and continue training:"
   ]
  },
  {
   "cell_type": "code",
   "execution_count": null,
   "id": "1b97b70a-3c41-442e-a797-edc07caef292",
   "metadata": {},
   "outputs": [],
   "source": [
    "learn.freeze_to(-3)"
   ]
  },
  {
   "cell_type": "code",
   "execution_count": null,
   "id": "86b8f87a-b626-4d39-93d5-1989a9b279a8",
   "metadata": {},
   "outputs": [
    {
     "data": {
      "text/html": [
       "\n",
       "<style>\n",
       "    /* Turns off some styling */\n",
       "    progress {\n",
       "        /* gets rid of default border in Firefox and Opera. */\n",
       "        border: none;\n",
       "        /* Needs to be in here for Safari polyfill so background images work as expected. */\n",
       "        background-size: auto;\n",
       "    }\n",
       "    progress:not([value]), progress:not([value])::-webkit-progress-bar {\n",
       "        background: repeating-linear-gradient(45deg, #7e7e7e, #7e7e7e 10px, #5c5c5c 10px, #5c5c5c 20px);\n",
       "    }\n",
       "    .progress-bar-interrupted, .progress-bar-interrupted::-webkit-progress-bar {\n",
       "        background: #F44336;\n",
       "    }\n",
       "</style>\n"
      ],
      "text/plain": [
       "<IPython.core.display.HTML object>"
      ]
     },
     "metadata": {},
     "output_type": "display_data"
    },
    {
     "data": {
      "text/html": [
       "<table border=\"1\" class=\"dataframe\">\n",
       "  <thead>\n",
       "    <tr style=\"text-align: left;\">\n",
       "      <th>epoch</th>\n",
       "      <th>train_loss</th>\n",
       "      <th>valid_loss</th>\n",
       "      <th>precision_at_k</th>\n",
       "      <th>time</th>\n",
       "    </tr>\n",
       "  </thead>\n",
       "  <tbody>\n",
       "    <tr>\n",
       "      <td>0</td>\n",
       "      <td>0.022775</td>\n",
       "      <td>0.071446</td>\n",
       "      <td>0.343333</td>\n",
       "      <td>00:09</td>\n",
       "    </tr>\n",
       "    <tr>\n",
       "      <td>1</td>\n",
       "      <td>0.021751</td>\n",
       "      <td>0.071979</td>\n",
       "      <td>0.340000</td>\n",
       "      <td>00:08</td>\n",
       "    </tr>\n",
       "    <tr>\n",
       "      <td>2</td>\n",
       "      <td>0.020887</td>\n",
       "      <td>0.072488</td>\n",
       "      <td>0.336667</td>\n",
       "      <td>00:08</td>\n",
       "    </tr>\n",
       "  </tbody>\n",
       "</table>"
      ],
      "text/plain": [
       "<IPython.core.display.HTML object>"
      ]
     },
     "metadata": {},
     "output_type": "display_data"
    },
    {
     "name": "stdout",
     "output_type": "stream",
     "text": [
      "Better model found at epoch 0 with precision_at_k value: 0.3433333333333334.\n"
     ]
    }
   ],
   "source": [
    "learn.fit_one_cycle(3, lr_max=1e-3, moms=(0.8,0.7,0.8), wd=0.2)"
   ]
  },
  {
   "cell_type": "code",
   "execution_count": null,
   "id": "2f686bd9-a5d6-4fe1-8208-eb1963912b20",
   "metadata": {},
   "outputs": [
    {
     "name": "stdout",
     "output_type": "stream",
     "text": [
      "best so far = 0.23000000000000004\n"
     ]
    },
    {
     "data": {
      "text/html": [
       "\n",
       "<style>\n",
       "    /* Turns off some styling */\n",
       "    progress {\n",
       "        /* gets rid of default border in Firefox and Opera. */\n",
       "        border: none;\n",
       "        /* Needs to be in here for Safari polyfill so background images work as expected. */\n",
       "        background-size: auto;\n",
       "    }\n",
       "    progress:not([value]), progress:not([value])::-webkit-progress-bar {\n",
       "        background: repeating-linear-gradient(45deg, #7e7e7e, #7e7e7e 10px, #5c5c5c 10px, #5c5c5c 20px);\n",
       "    }\n",
       "    .progress-bar-interrupted, .progress-bar-interrupted::-webkit-progress-bar {\n",
       "        background: #F44336;\n",
       "    }\n",
       "</style>\n"
      ],
      "text/plain": [
       "<IPython.core.display.HTML object>"
      ]
     },
     "metadata": {},
     "output_type": "display_data"
    },
    {
     "data": {
      "text/html": [],
      "text/plain": [
       "<IPython.core.display.HTML object>"
      ]
     },
     "metadata": {},
     "output_type": "display_data"
    },
    {
     "name": "stdout",
     "output_type": "stream",
     "text": [
      "[0.13937118649482727, 0.23000000000000004]\n",
      "best so far = 0.23000000000000004\n"
     ]
    }
   ],
   "source": [
    "validate(learn)"
   ]
  },
  {
   "cell_type": "markdown",
   "id": "cf427d1d-778e-48a7-8623-127505131549",
   "metadata": {},
   "source": [
    "Finally, we will unfreeze the whole model and perform training: (Caution: Check if you got enough memory left!)"
   ]
  },
  {
   "cell_type": "code",
   "execution_count": null,
   "id": "2663bd5b-c8cc-4304-afab-389fef45b065",
   "metadata": {},
   "outputs": [
    {
     "name": "stdout",
     "output_type": "stream",
     "text": [
      "GPU: Quadro RTX 8000\n",
      "You are using 3.8515625 GB\n",
      "Total GPU memory = 44.99969482421875 GB\n"
     ]
    }
   ],
   "source": [
    "cudamem()"
   ]
  },
  {
   "cell_type": "code",
   "execution_count": null,
   "id": "07a5d109-8001-4d34-9f4c-82fcf5444843",
   "metadata": {},
   "outputs": [],
   "source": [
    "learn.unfreeze()"
   ]
  },
  {
   "cell_type": "markdown",
   "id": "48101786-58a9-4b31-8b5e-3466fe178ea9",
   "metadata": {},
   "source": [
    "At this point, it starts overfitting too soon so either progressively increase `bs` or increase `wd` or decrease `lr_max`. Another way would be to drop out label embeddings, but for this one needs to carefully adjust the dropout prob. Same concept regarding dropping out the seqs nh."
   ]
  },
  {
   "cell_type": "code",
   "execution_count": null,
   "id": "2ffe2e3c-b49e-4216-aa8f-265f1822c5c2",
   "metadata": {},
   "outputs": [
    {
     "data": {
      "text/html": [
       "\n",
       "<style>\n",
       "    /* Turns off some styling */\n",
       "    progress {\n",
       "        /* gets rid of default border in Firefox and Opera. */\n",
       "        border: none;\n",
       "        /* Needs to be in here for Safari polyfill so background images work as expected. */\n",
       "        background-size: auto;\n",
       "    }\n",
       "    progress:not([value]), progress:not([value])::-webkit-progress-bar {\n",
       "        background: repeating-linear-gradient(45deg, #7e7e7e, #7e7e7e 10px, #5c5c5c 10px, #5c5c5c 20px);\n",
       "    }\n",
       "    .progress-bar-interrupted, .progress-bar-interrupted::-webkit-progress-bar {\n",
       "        background: #F44336;\n",
       "    }\n",
       "</style>\n"
      ],
      "text/plain": [
       "<IPython.core.display.HTML object>"
      ]
     },
     "metadata": {},
     "output_type": "display_data"
    },
    {
     "data": {
      "text/html": [],
      "text/plain": [
       "<IPython.core.display.HTML object>"
      ]
     },
     "metadata": {},
     "output_type": "display_data"
    },
    {
     "data": {
      "image/png": "[encoded data removed]",
      "text/plain": [
       "<Figure size 800x400 with 1 Axes>"
      ]
     },
     "metadata": {},
     "output_type": "display_data"
    }
   ],
   "source": [
    "lr_min, lr_steep, lr_valley, lr_slide = learn.lr_find(suggest_funcs=(minimum,steep,valley,slide), num_it=100)"
   ]
  },
  {
   "cell_type": "code",
   "execution_count": null,
   "id": "48615644-1599-4c84-8fc0-23b55febc89c",
   "metadata": {},
   "outputs": [
    {
     "data": {
      "text/plain": [
       "(0.00043651582673192023,\n",
       " 0.00015848931798245758,\n",
       " 0.0002290867705596611,\n",
       " 0.0010000000474974513)"
      ]
     },
     "execution_count": null,
     "metadata": {},
     "output_type": "execute_result"
    }
   ],
   "source": [
    "lr_min, lr_steep, lr_valley, lr_slide"
   ]
  },
  {
   "cell_type": "code",
   "execution_count": null,
   "id": "90298ed7-db24-491b-bfd9-a321abe4ee58",
   "metadata": {},
   "outputs": [
    {
     "data": {
      "text/html": [
       "\n",
       "<style>\n",
       "    /* Turns off some styling */\n",
       "    progress {\n",
       "        /* gets rid of default border in Firefox and Opera. */\n",
       "        border: none;\n",
       "        /* Needs to be in here for Safari polyfill so background images work as expected. */\n",
       "        background-size: auto;\n",
       "    }\n",
       "    progress:not([value]), progress:not([value])::-webkit-progress-bar {\n",
       "        background: repeating-linear-gradient(45deg, #7e7e7e, #7e7e7e 10px, #5c5c5c 10px, #5c5c5c 20px);\n",
       "    }\n",
       "    .progress-bar-interrupted, .progress-bar-interrupted::-webkit-progress-bar {\n",
       "        background: #F44336;\n",
       "    }\n",
       "</style>\n"
      ],
      "text/plain": [
       "<IPython.core.display.HTML object>"
      ]
     },
     "metadata": {},
     "output_type": "display_data"
    },
    {
     "data": {
      "text/html": [
       "<table border=\"1\" class=\"dataframe\">\n",
       "  <thead>\n",
       "    <tr style=\"text-align: left;\">\n",
       "      <th>epoch</th>\n",
       "      <th>train_loss</th>\n",
       "      <th>valid_loss</th>\n",
       "      <th>PrecisionK</th>\n",
       "      <th>time</th>\n",
       "    </tr>\n",
       "  </thead>\n",
       "  <tbody>\n",
       "    <tr>\n",
       "      <td>0</td>\n",
       "      <td>0.023388</td>\n",
       "      <td>0.076940</td>\n",
       "      <td>0.313333</td>\n",
       "      <td>00:11</td>\n",
       "    </tr>\n",
       "    <tr>\n",
       "      <td>1</td>\n",
       "      <td>0.022592</td>\n",
       "      <td>0.077525</td>\n",
       "      <td>0.296667</td>\n",
       "      <td>00:10</td>\n",
       "    </tr>\n",
       "    <tr>\n",
       "      <td>2</td>\n",
       "      <td>0.021248</td>\n",
       "      <td>0.080719</td>\n",
       "      <td>0.293333</td>\n",
       "      <td>00:10</td>\n",
       "    </tr>\n",
       "    <tr>\n",
       "      <td>3</td>\n",
       "      <td>0.020152</td>\n",
       "      <td>0.081039</td>\n",
       "      <td>0.296667</td>\n",
       "      <td>00:10</td>\n",
       "    </tr>\n",
       "    <tr>\n",
       "      <td>4</td>\n",
       "      <td>0.019301</td>\n",
       "      <td>0.081064</td>\n",
       "      <td>0.293333</td>\n",
       "      <td>00:10</td>\n",
       "    </tr>\n",
       "  </tbody>\n",
       "</table>"
      ],
      "text/plain": [
       "<IPython.core.display.HTML object>"
      ]
     },
     "metadata": {},
     "output_type": "display_data"
    },
    {
     "name": "stdout",
     "output_type": "stream",
     "text": [
      "Better model found at epoch 0 with PrecisionK value: 0.31333333333333335.\n"
     ]
    }
   ],
   "source": [
    "learn.fit_one_cycle(5, lr_max=9e-4, moms=(0.8,0.7,0.8), wd=0.1)"
   ]
  },
  {
   "cell_type": "code",
   "execution_count": null,
   "id": "90551fe8-dedd-44bf-82fe-78829db5e8b1",
   "metadata": {},
   "outputs": [
    {
     "name": "stdout",
     "output_type": "stream",
     "text": [
      "best so far = 0.29333333333333333\n"
     ]
    },
    {
     "data": {
      "text/html": [
       "\n",
       "<style>\n",
       "    /* Turns off some styling */\n",
       "    progress {\n",
       "        /* gets rid of default border in Firefox and Opera. */\n",
       "        border: none;\n",
       "        /* Needs to be in here for Safari polyfill so background images work as expected. */\n",
       "        background-size: auto;\n",
       "    }\n",
       "    progress:not([value]), progress:not([value])::-webkit-progress-bar {\n",
       "        background: repeating-linear-gradient(45deg, #7e7e7e, #7e7e7e 10px, #5c5c5c 10px, #5c5c5c 20px);\n",
       "    }\n",
       "    .progress-bar-interrupted, .progress-bar-interrupted::-webkit-progress-bar {\n",
       "        background: #F44336;\n",
       "    }\n",
       "</style>\n"
      ],
      "text/plain": [
       "<IPython.core.display.HTML object>"
      ]
     },
     "metadata": {},
     "output_type": "display_data"
    },
    {
     "data": {
      "text/html": [],
      "text/plain": [
       "<IPython.core.display.HTML object>"
      ]
     },
     "metadata": {},
     "output_type": "display_data"
    },
    {
     "name": "stdout",
     "output_type": "stream",
     "text": [
      "[0.07909457385540009, 0.29333333333333333]\n",
      "best so far = 0.29333333333333333\n"
     ]
    }
   ],
   "source": [
    "validate(learn)"
   ]
  },
  {
   "cell_type": "markdown",
   "id": "2ed92bee-837c-4601-b49e-41a5664b359d",
   "metadata": {},
   "source": [
    "## Fine-Tuning the Bwd Classifier "
   ]
  },
  {
   "cell_type": "code",
   "execution_count": null,
   "id": "28da7e94-2210-48fa-9d6b-3d8961a891eb",
   "metadata": {},
   "outputs": [],
   "source": [
    "set_seed(897997989, reproducible=True)"
   ]
  },
  {
   "cell_type": "code",
   "execution_count": null,
   "id": "b79892e6-acf1-445a-b796-830da8b1483d",
   "metadata": {},
   "outputs": [
    {
     "data": {
      "text/html": [
       "\n",
       "<style>\n",
       "    /* Turns off some styling */\n",
       "    progress {\n",
       "        /* gets rid of default border in Firefox and Opera. */\n",
       "        border: none;\n",
       "        /* Needs to be in here for Safari polyfill so background images work as expected. */\n",
       "        background-size: auto;\n",
       "    }\n",
       "    progress:not([value]), progress:not([value])::-webkit-progress-bar {\n",
       "        background: repeating-linear-gradient(45deg, #7e7e7e, #7e7e7e 10px, #5c5c5c 10px, #5c5c5c 20px);\n",
       "    }\n",
       "    .progress-bar-interrupted, .progress-bar-interrupted::-webkit-progress-bar {\n",
       "        background: #F44336;\n",
       "    }\n",
       "</style>\n"
      ],
      "text/plain": [
       "<IPython.core.display.HTML object>"
      ]
     },
     "metadata": {},
     "output_type": "display_data"
    },
    {
     "data": {
      "text/html": [],
      "text/plain": [
       "<IPython.core.display.HTML object>"
      ]
     },
     "metadata": {},
     "output_type": "display_data"
    },
    {
     "data": {
      "text/plain": [
       "(0.2754228591918945,\n",
       " 0.033113110810518265,\n",
       " 0.002511886414140463,\n",
       " 0.033113110810518265)"
      ]
     },
     "execution_count": null,
     "metadata": {},
     "output_type": "execute_result"
    },
    {
     "data": {
      "image/png": "[encoded data removed]",
      "text/plain": [
       "<Figure size 800x400 with 1 Axes>"
      ]
     },
     "metadata": {},
     "output_type": "display_data"
    }
   ],
   "source": [
    "lr_min, lr_steep, lr_valley, lr_slide = learn_r.lr_find(suggest_funcs=(minimum, steep, valley, slide))\n",
    "lr_min, lr_steep, lr_valley, lr_slide"
   ]
  },
  {
   "cell_type": "code",
   "execution_count": null,
   "id": "da51239f-ff73-4092-ac58-69bc9e15312c",
   "metadata": {},
   "outputs": [
    {
     "data": {
      "text/html": [
       "\n",
       "<style>\n",
       "    /* Turns off some styling */\n",
       "    progress {\n",
       "        /* gets rid of default border in Firefox and Opera. */\n",
       "        border: none;\n",
       "        /* Needs to be in here for Safari polyfill so background images work as expected. */\n",
       "        background-size: auto;\n",
       "    }\n",
       "    progress:not([value]), progress:not([value])::-webkit-progress-bar {\n",
       "        background: repeating-linear-gradient(45deg, #7e7e7e, #7e7e7e 10px, #5c5c5c 10px, #5c5c5c 20px);\n",
       "    }\n",
       "    .progress-bar-interrupted, .progress-bar-interrupted::-webkit-progress-bar {\n",
       "        background: #F44336;\n",
       "    }\n",
       "</style>\n"
      ],
      "text/plain": [
       "<IPython.core.display.HTML object>"
      ]
     },
     "metadata": {},
     "output_type": "display_data"
    },
    {
     "data": {
      "text/html": [
       "<table border=\"1\" class=\"dataframe\">\n",
       "  <thead>\n",
       "    <tr style=\"text-align: left;\">\n",
       "      <th>epoch</th>\n",
       "      <th>train_loss</th>\n",
       "      <th>valid_loss</th>\n",
       "      <th>precision_at_k</th>\n",
       "      <th>time</th>\n",
       "    </tr>\n",
       "  </thead>\n",
       "  <tbody>\n",
       "    <tr>\n",
       "      <td>0</td>\n",
       "      <td>0.304615</td>\n",
       "      <td>0.080443</td>\n",
       "      <td>0.253333</td>\n",
       "      <td>00:05</td>\n",
       "    </tr>\n",
       "    <tr>\n",
       "      <td>1</td>\n",
       "      <td>0.165811</td>\n",
       "      <td>0.085069</td>\n",
       "      <td>0.246667</td>\n",
       "      <td>00:05</td>\n",
       "    </tr>\n",
       "    <tr>\n",
       "      <td>2</td>\n",
       "      <td>0.117112</td>\n",
       "      <td>0.079809</td>\n",
       "      <td>0.280000</td>\n",
       "      <td>00:05</td>\n",
       "    </tr>\n",
       "    <tr>\n",
       "      <td>3</td>\n",
       "      <td>0.090329</td>\n",
       "      <td>0.076496</td>\n",
       "      <td>0.293333</td>\n",
       "      <td>00:06</td>\n",
       "    </tr>\n",
       "    <tr>\n",
       "      <td>4</td>\n",
       "      <td>0.073235</td>\n",
       "      <td>0.075704</td>\n",
       "      <td>0.306667</td>\n",
       "      <td>00:05</td>\n",
       "    </tr>\n",
       "  </tbody>\n",
       "</table>"
      ],
      "text/plain": [
       "<IPython.core.display.HTML object>"
      ]
     },
     "metadata": {},
     "output_type": "display_data"
    },
    {
     "name": "stdout",
     "output_type": "stream",
     "text": [
      "Better model found at epoch 0 with precision_at_k value: 0.2533333333333333.\n",
      "Better model found at epoch 2 with precision_at_k value: 0.28.\n",
      "Better model found at epoch 3 with precision_at_k value: 0.29333333333333333.\n",
      "Better model found at epoch 4 with precision_at_k value: 0.3066666666666667.\n"
     ]
    }
   ],
   "source": [
    "learn_r.fit_one_cycle(5, lr_max=0.13182567358016967, moms=(0.8,0.7,0.8), wd=0.1)"
   ]
  },
  {
   "cell_type": "code",
   "execution_count": null,
   "id": "98a3e420-9219-4875-8124-19e0103a1c26",
   "metadata": {},
   "outputs": [
    {
     "name": "stdout",
     "output_type": "stream",
     "text": [
      "best so far = 0.3166666666666667\n"
     ]
    },
    {
     "data": {
      "text/html": [
       "\n",
       "<style>\n",
       "    /* Turns off some styling */\n",
       "    progress {\n",
       "        /* gets rid of default border in Firefox and Opera. */\n",
       "        border: none;\n",
       "        /* Needs to be in here for Safari polyfill so background images work as expected. */\n",
       "        background-size: auto;\n",
       "    }\n",
       "    progress:not([value]), progress:not([value])::-webkit-progress-bar {\n",
       "        background: repeating-linear-gradient(45deg, #7e7e7e, #7e7e7e 10px, #5c5c5c 10px, #5c5c5c 20px);\n",
       "    }\n",
       "    .progress-bar-interrupted, .progress-bar-interrupted::-webkit-progress-bar {\n",
       "        background: #F44336;\n",
       "    }\n",
       "</style>\n"
      ],
      "text/plain": [
       "<IPython.core.display.HTML object>"
      ]
     },
     "metadata": {},
     "output_type": "display_data"
    },
    {
     "data": {
      "text/html": [],
      "text/plain": [
       "<IPython.core.display.HTML object>"
      ]
     },
     "metadata": {},
     "output_type": "display_data"
    },
    {
     "name": "stdout",
     "output_type": "stream",
     "text": [
      "[0.06839973479509354, 0.3166666666666667]\n",
      "best so far = 0.3166666666666667\n"
     ]
    }
   ],
   "source": [
    "validate(learn_r)"
   ]
  },
  {
   "cell_type": "markdown",
   "id": "53dfb390-1165-4a09-92fa-d147e762ff73",
   "metadata": {},
   "source": [
    "This was the result after just three epochs. Now let's unfreeze the last two layers and do discriminative training:  \n",
    "\n",
    "Now we will pass -2 to `freeze_to` to freeze all except the last two parameter groups:"
   ]
  },
  {
   "cell_type": "code",
   "execution_count": null,
   "id": "d35ae70a-6bc5-41d8-a5db-827888d39927",
   "metadata": {},
   "outputs": [],
   "source": [
    "learn_r.freeze_to(-2)"
   ]
  },
  {
   "cell_type": "code",
   "execution_count": null,
   "id": "52c5e089-0316-40a3-b8b1-89cd222fbdb4",
   "metadata": {},
   "outputs": [
    {
     "data": {
      "text/html": [
       "\n",
       "<style>\n",
       "    /* Turns off some styling */\n",
       "    progress {\n",
       "        /* gets rid of default border in Firefox and Opera. */\n",
       "        border: none;\n",
       "        /* Needs to be in here for Safari polyfill so background images work as expected. */\n",
       "        background-size: auto;\n",
       "    }\n",
       "    progress:not([value]), progress:not([value])::-webkit-progress-bar {\n",
       "        background: repeating-linear-gradient(45deg, #7e7e7e, #7e7e7e 10px, #5c5c5c 10px, #5c5c5c 20px);\n",
       "    }\n",
       "    .progress-bar-interrupted, .progress-bar-interrupted::-webkit-progress-bar {\n",
       "        background: #F44336;\n",
       "    }\n",
       "</style>\n"
      ],
      "text/plain": [
       "<IPython.core.display.HTML object>"
      ]
     },
     "metadata": {},
     "output_type": "display_data"
    },
    {
     "data": {
      "text/html": [
       "<table border=\"1\" class=\"dataframe\">\n",
       "  <thead>\n",
       "    <tr style=\"text-align: left;\">\n",
       "      <th>epoch</th>\n",
       "      <th>train_loss</th>\n",
       "      <th>valid_loss</th>\n",
       "      <th>precision_at_k</th>\n",
       "      <th>time</th>\n",
       "    </tr>\n",
       "  </thead>\n",
       "  <tbody>\n",
       "    <tr>\n",
       "      <td>0</td>\n",
       "      <td>0.037727</td>\n",
       "      <td>0.073268</td>\n",
       "      <td>0.313333</td>\n",
       "      <td>00:07</td>\n",
       "    </tr>\n",
       "    <tr>\n",
       "      <td>1</td>\n",
       "      <td>0.036942</td>\n",
       "      <td>0.075085</td>\n",
       "      <td>0.320000</td>\n",
       "      <td>00:06</td>\n",
       "    </tr>\n",
       "    <tr>\n",
       "      <td>2</td>\n",
       "      <td>0.036229</td>\n",
       "      <td>0.077231</td>\n",
       "      <td>0.326667</td>\n",
       "      <td>00:06</td>\n",
       "    </tr>\n",
       "    <tr>\n",
       "      <td>3</td>\n",
       "      <td>0.035498</td>\n",
       "      <td>0.077060</td>\n",
       "      <td>0.320000</td>\n",
       "      <td>00:06</td>\n",
       "    </tr>\n",
       "    <tr>\n",
       "      <td>4</td>\n",
       "      <td>0.034928</td>\n",
       "      <td>0.076482</td>\n",
       "      <td>0.320000</td>\n",
       "      <td>00:07</td>\n",
       "    </tr>\n",
       "  </tbody>\n",
       "</table>"
      ],
      "text/plain": [
       "<IPython.core.display.HTML object>"
      ]
     },
     "metadata": {},
     "output_type": "display_data"
    },
    {
     "name": "stdout",
     "output_type": "stream",
     "text": [
      "Better model found at epoch 0 with precision_at_k value: 0.31333333333333335.\n",
      "Better model found at epoch 1 with precision_at_k value: 0.32.\n",
      "Better model found at epoch 2 with precision_at_k value: 0.3266666666666667.\n"
     ]
    }
   ],
   "source": [
    "learn_r.fit_one_cycle(5, lr_max=1e-3, moms=(0.8,0.7,0.8), wd=0.1)"
   ]
  },
  {
   "cell_type": "code",
   "execution_count": null,
   "id": "e8f9eea3-e43b-4eac-bf20-197a1c2bcd18",
   "metadata": {},
   "outputs": [
    {
     "name": "stdout",
     "output_type": "stream",
     "text": [
      "best so far = 0.29000000000000004\n"
     ]
    },
    {
     "data": {
      "text/html": [
       "\n",
       "<style>\n",
       "    /* Turns off some styling */\n",
       "    progress {\n",
       "        /* gets rid of default border in Firefox and Opera. */\n",
       "        border: none;\n",
       "        /* Needs to be in here for Safari polyfill so background images work as expected. */\n",
       "        background-size: auto;\n",
       "    }\n",
       "    progress:not([value]), progress:not([value])::-webkit-progress-bar {\n",
       "        background: repeating-linear-gradient(45deg, #7e7e7e, #7e7e7e 10px, #5c5c5c 10px, #5c5c5c 20px);\n",
       "    }\n",
       "    .progress-bar-interrupted, .progress-bar-interrupted::-webkit-progress-bar {\n",
       "        background: #F44336;\n",
       "    }\n",
       "</style>\n"
      ],
      "text/plain": [
       "<IPython.core.display.HTML object>"
      ]
     },
     "metadata": {},
     "output_type": "display_data"
    },
    {
     "data": {
      "text/html": [],
      "text/plain": [
       "<IPython.core.display.HTML object>"
      ]
     },
     "metadata": {},
     "output_type": "display_data"
    },
    {
     "name": "stdout",
     "output_type": "stream",
     "text": [
      "[0.08007880300283432, 0.29000000000000004]\n",
      "best so far = 0.29000000000000004\n"
     ]
    }
   ],
   "source": [
    "validate(learn_r)"
   ]
  },
  {
   "cell_type": "markdown",
   "id": "4d13cada-c26d-4e59-bde1-2bd9467b5ac0",
   "metadata": {},
   "source": [
    "Now we will unfreeze a bit more, recompute learning rate and continue training:"
   ]
  },
  {
   "cell_type": "code",
   "execution_count": null,
   "id": "fac740ab-c62d-4b5d-88ea-304429da090c",
   "metadata": {},
   "outputs": [],
   "source": [
    "learn_r.freeze_to(-3)"
   ]
  },
  {
   "cell_type": "code",
   "execution_count": null,
   "id": "132d92a2-b276-4269-8678-4a2f1ee1caa8",
   "metadata": {},
   "outputs": [
    {
     "data": {
      "text/html": [
       "\n",
       "<style>\n",
       "    /* Turns off some styling */\n",
       "    progress {\n",
       "        /* gets rid of default border in Firefox and Opera. */\n",
       "        border: none;\n",
       "        /* Needs to be in here for Safari polyfill so background images work as expected. */\n",
       "        background-size: auto;\n",
       "    }\n",
       "    progress:not([value]), progress:not([value])::-webkit-progress-bar {\n",
       "        background: repeating-linear-gradient(45deg, #7e7e7e, #7e7e7e 10px, #5c5c5c 10px, #5c5c5c 20px);\n",
       "    }\n",
       "    .progress-bar-interrupted, .progress-bar-interrupted::-webkit-progress-bar {\n",
       "        background: #F44336;\n",
       "    }\n",
       "</style>\n"
      ],
      "text/plain": [
       "<IPython.core.display.HTML object>"
      ]
     },
     "metadata": {},
     "output_type": "display_data"
    },
    {
     "data": {
      "text/html": [
       "<table border=\"1\" class=\"dataframe\">\n",
       "  <thead>\n",
       "    <tr style=\"text-align: left;\">\n",
       "      <th>epoch</th>\n",
       "      <th>train_loss</th>\n",
       "      <th>valid_loss</th>\n",
       "      <th>precision_at_k</th>\n",
       "      <th>time</th>\n",
       "    </tr>\n",
       "  </thead>\n",
       "  <tbody>\n",
       "    <tr>\n",
       "      <td>0</td>\n",
       "      <td>0.033879</td>\n",
       "      <td>0.077494</td>\n",
       "      <td>0.323333</td>\n",
       "      <td>00:08</td>\n",
       "    </tr>\n",
       "    <tr>\n",
       "      <td>1</td>\n",
       "      <td>0.033036</td>\n",
       "      <td>0.078230</td>\n",
       "      <td>0.323333</td>\n",
       "      <td>00:08</td>\n",
       "    </tr>\n",
       "    <tr>\n",
       "      <td>2</td>\n",
       "      <td>0.032178</td>\n",
       "      <td>0.079076</td>\n",
       "      <td>0.316667</td>\n",
       "      <td>00:08</td>\n",
       "    </tr>\n",
       "  </tbody>\n",
       "</table>"
      ],
      "text/plain": [
       "<IPython.core.display.HTML object>"
      ]
     },
     "metadata": {},
     "output_type": "display_data"
    },
    {
     "name": "stdout",
     "output_type": "stream",
     "text": [
      "Better model found at epoch 0 with precision_at_k value: 0.32333333333333336.\n"
     ]
    }
   ],
   "source": [
    "learn_r.fit_one_cycle(3, lr_max=1e-3, moms=(0.8,0.7,0.8), wd=0.2)"
   ]
  },
  {
   "cell_type": "code",
   "execution_count": null,
   "id": "aad5ee24-6f38-4452-b59e-b225d65e8b30",
   "metadata": {},
   "outputs": [
    {
     "name": "stdout",
     "output_type": "stream",
     "text": [
      "best so far = 0.2966666666666667\n"
     ]
    },
    {
     "data": {
      "text/html": [
       "\n",
       "<style>\n",
       "    /* Turns off some styling */\n",
       "    progress {\n",
       "        /* gets rid of default border in Firefox and Opera. */\n",
       "        border: none;\n",
       "        /* Needs to be in here for Safari polyfill so background images work as expected. */\n",
       "        background-size: auto;\n",
       "    }\n",
       "    progress:not([value]), progress:not([value])::-webkit-progress-bar {\n",
       "        background: repeating-linear-gradient(45deg, #7e7e7e, #7e7e7e 10px, #5c5c5c 10px, #5c5c5c 20px);\n",
       "    }\n",
       "    .progress-bar-interrupted, .progress-bar-interrupted::-webkit-progress-bar {\n",
       "        background: #F44336;\n",
       "    }\n",
       "</style>\n"
      ],
      "text/plain": [
       "<IPython.core.display.HTML object>"
      ]
     },
     "metadata": {},
     "output_type": "display_data"
    },
    {
     "data": {
      "text/html": [],
      "text/plain": [
       "<IPython.core.display.HTML object>"
      ]
     },
     "metadata": {},
     "output_type": "display_data"
    },
    {
     "name": "stdout",
     "output_type": "stream",
     "text": [
      "[0.08150946348905563, 0.2966666666666667]\n",
      "best so far = 0.2966666666666667\n"
     ]
    }
   ],
   "source": [
    "validate(learn_r)"
   ]
  },
  {
   "cell_type": "markdown",
   "id": "be4f2005-4dbf-4f95-8bfe-a035e7d8432b",
   "metadata": {},
   "source": [
    "Finally, we will unfreeze the whole model and perform training: (Caution: Check if you got enough memory left!)"
   ]
  },
  {
   "cell_type": "code",
   "execution_count": null,
   "id": "9069b6c8-858e-4384-852d-6905116bc8e1",
   "metadata": {},
   "outputs": [
    {
     "name": "stdout",
     "output_type": "stream",
     "text": [
      "GPU: Quadro RTX 8000\n",
      "You are using 4.1015625 GB\n",
      "Total GPU memory = 44.99969482421875 GB\n"
     ]
    }
   ],
   "source": [
    "cudamem()"
   ]
  },
  {
   "cell_type": "code",
   "execution_count": null,
   "id": "2f620f3c-8996-485d-a206-939d9be7a85b",
   "metadata": {},
   "outputs": [],
   "source": [
    "learn_r.unfreeze()"
   ]
  },
  {
   "cell_type": "markdown",
   "id": "d4c7eff7-90c1-43bb-aece-ab4f7778c2f5",
   "metadata": {},
   "source": [
    "At this point, it starts overfitting too soon so either progressively increase `bs` or increase `wd` or decrease `lr_max`. Another way would be to drop out label embeddings, but for this one needs to carefully adjust the dropout prob. Same concept regarding dropping out the seqs nh."
   ]
  },
  {
   "cell_type": "code",
   "execution_count": null,
   "id": "109f1125-c970-4257-8347-f7b991b82c36",
   "metadata": {},
   "outputs": [
    {
     "data": {
      "text/html": [
       "\n",
       "<style>\n",
       "    /* Turns off some styling */\n",
       "    progress {\n",
       "        /* gets rid of default border in Firefox and Opera. */\n",
       "        border: none;\n",
       "        /* Needs to be in here for Safari polyfill so background images work as expected. */\n",
       "        background-size: auto;\n",
       "    }\n",
       "    progress:not([value]), progress:not([value])::-webkit-progress-bar {\n",
       "        background: repeating-linear-gradient(45deg, #7e7e7e, #7e7e7e 10px, #5c5c5c 10px, #5c5c5c 20px);\n",
       "    }\n",
       "    .progress-bar-interrupted, .progress-bar-interrupted::-webkit-progress-bar {\n",
       "        background: #F44336;\n",
       "    }\n",
       "</style>\n"
      ],
      "text/plain": [
       "<IPython.core.display.HTML object>"
      ]
     },
     "metadata": {},
     "output_type": "display_data"
    },
    {
     "data": {
      "text/html": [],
      "text/plain": [
       "<IPython.core.display.HTML object>"
      ]
     },
     "metadata": {},
     "output_type": "display_data"
    },
    {
     "data": {
      "image/png": "[encoded data removed]",
      "text/plain": [
       "<Figure size 800x400 with 1 Axes>"
      ]
     },
     "metadata": {},
     "output_type": "display_data"
    }
   ],
   "source": [
    "lr_min, lr_steep, lr_valley, lr_slide = learn_r.lr_find(suggest_funcs=(minimum,steep,valley,slide), num_it=100)"
   ]
  },
  {
   "cell_type": "code",
   "execution_count": null,
   "id": "d4779bf2-0e9d-447d-8d8c-d73e93ad89db",
   "metadata": {},
   "outputs": [
    {
     "data": {
      "text/plain": [
       "(0.0003019951749593019,\n",
       " 6.309573450380412e-07,\n",
       " 0.0003981071640737355,\n",
       " 0.009120108559727669)"
      ]
     },
     "execution_count": null,
     "metadata": {},
     "output_type": "execute_result"
    }
   ],
   "source": [
    "lr_min, lr_steep, lr_valley, lr_slide"
   ]
  },
  {
   "cell_type": "code",
   "execution_count": null,
   "id": "5f2695df-6d0b-4b08-b1a3-8ae88531e992",
   "metadata": {},
   "outputs": [
    {
     "data": {
      "text/html": [
       "\n",
       "<style>\n",
       "    /* Turns off some styling */\n",
       "    progress {\n",
       "        /* gets rid of default border in Firefox and Opera. */\n",
       "        border: none;\n",
       "        /* Needs to be in here for Safari polyfill so background images work as expected. */\n",
       "        background-size: auto;\n",
       "    }\n",
       "    progress:not([value]), progress:not([value])::-webkit-progress-bar {\n",
       "        background: repeating-linear-gradient(45deg, #7e7e7e, #7e7e7e 10px, #5c5c5c 10px, #5c5c5c 20px);\n",
       "    }\n",
       "    .progress-bar-interrupted, .progress-bar-interrupted::-webkit-progress-bar {\n",
       "        background: #F44336;\n",
       "    }\n",
       "</style>\n"
      ],
      "text/plain": [
       "<IPython.core.display.HTML object>"
      ]
     },
     "metadata": {},
     "output_type": "display_data"
    },
    {
     "data": {
      "text/html": [
       "<table border=\"1\" class=\"dataframe\">\n",
       "  <thead>\n",
       "    <tr style=\"text-align: left;\">\n",
       "      <th>epoch</th>\n",
       "      <th>train_loss</th>\n",
       "      <th>valid_loss</th>\n",
       "      <th>precision_at_k</th>\n",
       "      <th>time</th>\n",
       "    </tr>\n",
       "  </thead>\n",
       "  <tbody>\n",
       "    <tr>\n",
       "      <td>0</td>\n",
       "      <td>0.027183</td>\n",
       "      <td>0.083828</td>\n",
       "      <td>0.286667</td>\n",
       "      <td>00:11</td>\n",
       "    </tr>\n",
       "    <tr>\n",
       "      <td>1</td>\n",
       "      <td>0.025912</td>\n",
       "      <td>0.086615</td>\n",
       "      <td>0.280000</td>\n",
       "      <td>00:11</td>\n",
       "    </tr>\n",
       "    <tr>\n",
       "      <td>2</td>\n",
       "      <td>0.024331</td>\n",
       "      <td>0.085969</td>\n",
       "      <td>0.286667</td>\n",
       "      <td>00:11</td>\n",
       "    </tr>\n",
       "    <tr>\n",
       "      <td>3</td>\n",
       "      <td>0.022754</td>\n",
       "      <td>0.086919</td>\n",
       "      <td>0.276667</td>\n",
       "      <td>00:10</td>\n",
       "    </tr>\n",
       "    <tr>\n",
       "      <td>4</td>\n",
       "      <td>0.021566</td>\n",
       "      <td>0.087298</td>\n",
       "      <td>0.280000</td>\n",
       "      <td>00:11</td>\n",
       "    </tr>\n",
       "  </tbody>\n",
       "</table>"
      ],
      "text/plain": [
       "<IPython.core.display.HTML object>"
      ]
     },
     "metadata": {},
     "output_type": "display_data"
    },
    {
     "name": "stdout",
     "output_type": "stream",
     "text": [
      "Better model found at epoch 0 with precision_at_k value: 0.2866666666666667.\n"
     ]
    }
   ],
   "source": [
    "learn_r.fit_one_cycle(5, lr_max=9e-4, moms=(0.8,0.7,0.8), wd=0.1)"
   ]
  },
  {
   "cell_type": "code",
   "execution_count": null,
   "id": "4e77b151-80f1-4f9f-b0b7-347495f77cbb",
   "metadata": {},
   "outputs": [
    {
     "name": "stdout",
     "output_type": "stream",
     "text": [
      "best so far = 0.2866666666666667\n"
     ]
    },
    {
     "data": {
      "text/html": [
       "\n",
       "<style>\n",
       "    /* Turns off some styling */\n",
       "    progress {\n",
       "        /* gets rid of default border in Firefox and Opera. */\n",
       "        border: none;\n",
       "        /* Needs to be in here for Safari polyfill so background images work as expected. */\n",
       "        background-size: auto;\n",
       "    }\n",
       "    progress:not([value]), progress:not([value])::-webkit-progress-bar {\n",
       "        background: repeating-linear-gradient(45deg, #7e7e7e, #7e7e7e 10px, #5c5c5c 10px, #5c5c5c 20px);\n",
       "    }\n",
       "    .progress-bar-interrupted, .progress-bar-interrupted::-webkit-progress-bar {\n",
       "        background: #F44336;\n",
       "    }\n",
       "</style>\n"
      ],
      "text/plain": [
       "<IPython.core.display.HTML object>"
      ]
     },
     "metadata": {},
     "output_type": "display_data"
    },
    {
     "data": {
      "text/html": [],
      "text/plain": [
       "<IPython.core.display.HTML object>"
      ]
     },
     "metadata": {},
     "output_type": "display_data"
    },
    {
     "name": "stdout",
     "output_type": "stream",
     "text": [
      "[0.08382819592952728, 0.2866666666666667]\n",
      "best so far = 0.2866666666666667\n"
     ]
    }
   ],
   "source": [
    "validate(learn_r)"
   ]
  },
  {
   "cell_type": "markdown",
   "id": "70beffd0-25ff-4bba-b857-26f5b8edce6f",
   "metadata": {},
   "source": [
    "Ensemble of fwd+bwd:"
   ]
  },
  {
   "cell_type": "code",
   "execution_count": null,
   "id": "50290fc7-6ac2-4564-9415-da16bb9eda5b",
   "metadata": {},
   "outputs": [
    {
     "data": {
      "text/html": [
       "\n",
       "<style>\n",
       "    /* Turns off some styling */\n",
       "    progress {\n",
       "        /* gets rid of default border in Firefox and Opera. */\n",
       "        border: none;\n",
       "        /* Needs to be in here for Safari polyfill so background images work as expected. */\n",
       "        background-size: auto;\n",
       "    }\n",
       "    progress:not([value]), progress:not([value])::-webkit-progress-bar {\n",
       "        background: repeating-linear-gradient(45deg, #7e7e7e, #7e7e7e 10px, #5c5c5c 10px, #5c5c5c 20px);\n",
       "    }\n",
       "    .progress-bar-interrupted, .progress-bar-interrupted::-webkit-progress-bar {\n",
       "        background: #F44336;\n",
       "    }\n",
       "</style>\n"
      ],
      "text/plain": [
       "<IPython.core.display.HTML object>"
      ]
     },
     "metadata": {},
     "output_type": "display_data"
    },
    {
     "data": {
      "text/html": [],
      "text/plain": [
       "<IPython.core.display.HTML object>"
      ]
     },
     "metadata": {},
     "output_type": "display_data"
    },
    {
     "data": {
      "text/html": [
       "\n",
       "<style>\n",
       "    /* Turns off some styling */\n",
       "    progress {\n",
       "        /* gets rid of default border in Firefox and Opera. */\n",
       "        border: none;\n",
       "        /* Needs to be in here for Safari polyfill so background images work as expected. */\n",
       "        background-size: auto;\n",
       "    }\n",
       "    progress:not([value]), progress:not([value])::-webkit-progress-bar {\n",
       "        background: repeating-linear-gradient(45deg, #7e7e7e, #7e7e7e 10px, #5c5c5c 10px, #5c5c5c 20px);\n",
       "    }\n",
       "    .progress-bar-interrupted, .progress-bar-interrupted::-webkit-progress-bar {\n",
       "        background: #F44336;\n",
       "    }\n",
       "</style>\n"
      ],
      "text/plain": [
       "<IPython.core.display.HTML object>"
      ]
     },
     "metadata": {},
     "output_type": "display_data"
    },
    {
     "data": {
      "text/html": [],
      "text/plain": [
       "<IPython.core.display.HTML object>"
      ]
     },
     "metadata": {},
     "output_type": "display_data"
    },
    {
     "data": {
      "text/plain": [
       "0.35"
      ]
     },
     "execution_count": null,
     "metadata": {},
     "output_type": "execute_result"
    }
   ],
   "source": [
    "preds, targs = learn.get_preds()\n",
    "preds_r, targs = learn_r.get_preds()\n",
    "precision_at_k(preds+preds_r, targs)"
   ]
  },
  {
   "cell_type": "markdown",
   "id": "b8d44945-0493-407b-b37f-caf5314f25be",
   "metadata": {},
   "source": [
    "## Plotting the Label Embeddings\n",
    "\n",
    "> To know if the model learned embeddings which are meaningful"
   ]
  },
  {
   "cell_type": "code",
   "execution_count": null,
   "id": "a36d287a-43fa-41a3-8c7d-312d0dcc5d04",
   "metadata": {},
   "outputs": [],
   "source": [
    "lbs_emb = learn.model[-1].pay_attn.lbs.weight\n",
    "X = to_np(lbs_emb)"
   ]
  },
  {
   "cell_type": "markdown",
   "id": "39d3a0e1-36c7-4eab-8fc9-66098dab7101",
   "metadata": {},
   "source": [
    "Now let's do a PCA and t-SNE on the labels embedding. Before doing PCA though we need to standardize `X`:"
   ]
  },
  {
   "cell_type": "code",
   "execution_count": null,
   "id": "caa62ede-1a1d-4f7e-8a1c-faf2629b14ad",
   "metadata": {},
   "outputs": [],
   "source": [
    "from sklearn.preprocessing import StandardScaler"
   ]
  },
  {
   "cell_type": "code",
   "execution_count": null,
   "id": "16f765f7-472c-47da-9ab5-9e686accfe62",
   "metadata": {},
   "outputs": [],
   "source": [
    "X_stand = StandardScaler().fit_transform(X)"
   ]
  },
  {
   "cell_type": "code",
   "execution_count": null,
   "id": "2826a40e-633d-4120-a512-7bdbd233d508",
   "metadata": {},
   "outputs": [
    {
     "data": {
      "image/png": "[encoded data removed]",
      "text/plain": [
       "<Figure size 600x400 with 1 Axes>"
      ]
     },
     "metadata": {},
     "output_type": "display_data"
    }
   ],
   "source": [
    "X_reduced, _vars = plot_reduction(X, tSNE=True) \n",
    "# X_random, _vars_rnd = plot_reduction(np.random.normal(size=(X.shape[0], 400)), tSNE=True) # to compare with a random embeddings"
   ]
  },
  {
   "cell_type": "code",
   "execution_count": null,
   "id": "f332bcf3-31b7-4b0d-b10d-bddef214aa5f",
   "metadata": {},
   "outputs": [
    {
     "data": {
      "text/html": [
       "<div>\n",
       "<style scoped>\n",
       "    .dataframe tbody tr th:only-of-type {\n",
       "        vertical-align: middle;\n",
       "    }\n",
       "\n",
       "    .dataframe tbody tr th {\n",
       "        vertical-align: top;\n",
       "    }\n",
       "\n",
       "    .dataframe thead th {\n",
       "        text-align: right;\n",
       "    }\n",
       "</style>\n",
       "<table border=\"1\" class=\"dataframe\">\n",
       "  <thead>\n",
       "    <tr style=\"text-align: right;\">\n",
       "      <th></th>\n",
       "      <th>label</th>\n",
       "      <th>description</th>\n",
       "      <th>frequency</th>\n",
       "    </tr>\n",
       "  </thead>\n",
       "  <tbody>\n",
       "    <tr>\n",
       "      <th>0</th>\n",
       "      <td>401.9</td>\n",
       "      <td>Unspecified essential hypertension</td>\n",
       "      <td>84</td>\n",
       "    </tr>\n",
       "    <tr>\n",
       "      <th>1</th>\n",
       "      <td>38.93</td>\n",
       "      <td>Venous catheterization, not elsewhere classified</td>\n",
       "      <td>77</td>\n",
       "    </tr>\n",
       "    <tr>\n",
       "      <th>2</th>\n",
       "      <td>428.0</td>\n",
       "      <td>Congestive heart failure, unspecified</td>\n",
       "      <td>61</td>\n",
       "    </tr>\n",
       "    <tr>\n",
       "      <th>3</th>\n",
       "      <td>272.4</td>\n",
       "      <td>Other and unspecified hyperlipidemia</td>\n",
       "      <td>60</td>\n",
       "    </tr>\n",
       "    <tr>\n",
       "      <th>4</th>\n",
       "      <td>427.31</td>\n",
       "      <td>Atrial fibrillation</td>\n",
       "      <td>56</td>\n",
       "    </tr>\n",
       "  </tbody>\n",
       "</table>\n",
       "</div>"
      ],
      "text/plain": [
       "    label                                       description  frequency\n",
       "0   401.9                Unspecified essential hypertension         84\n",
       "1   38.93  Venous catheterization, not elsewhere classified         77\n",
       "2   428.0             Congestive heart failure, unspecified         61\n",
       "3   272.4              Other and unspecified hyperlipidemia         60\n",
       "4  427.31                               Atrial fibrillation         56"
      ]
     },
     "execution_count": null,
     "metadata": {},
     "output_type": "execute_result"
    }
   ],
   "source": [
    "# print('\\n'.join(L(source.glob('**/*desc*')).map(str)))\n",
    "codes = load_pickle(source/'code_desc.pkl')\n",
    "df_lbl = pd.DataFrame([(lbl, codes.get(lbl, \"not found\"), freq) for lbl, freq in lbl_freqs.items()], columns=['label', 'description', 'frequency'])\n",
    "df_lbl = df_lbl.sort_values(by='frequency', ascending=False, ignore_index=True)\n",
    "df_lbl.head()"
   ]
  },
  {
   "cell_type": "markdown",
   "id": "074a0306-74d0-495d-adc7-d4bc3b160ead",
   "metadata": {},
   "source": [
    "Instead of doing a PCA on all the labels, let's do it on the `top` most frequent labels:"
   ]
  },
  {
   "cell_type": "code",
   "execution_count": null,
   "id": "09b934fe-0b7c-44c4-ae1d-146b62ed2bcf",
   "metadata": {},
   "outputs": [],
   "source": [
    "top = 100\n",
    "top_lbs = [k for k, v in lbl_freqs.most_common(top)]\n",
    "tfm_cat = dls_clas.tfms[1][1]\n",
    "top_lbs_emb = lbs_emb[tfm_cat(top_lbs)]\n",
    "topX = to_np(top_lbs_emb)"
   ]
  },
  {
   "cell_type": "code",
   "execution_count": null,
   "id": "f1a737ff-c069-4aa1-a90b-99c411bae736",
   "metadata": {},
   "outputs": [],
   "source": [
    "from sklearn.manifold import TSNE"
   ]
  },
  {
   "cell_type": "code",
   "execution_count": null,
   "id": "5691409d-ae33-4aea-a0d9-b85e5c2687f4",
   "metadata": {},
   "outputs": [],
   "source": [
    "topX_tsne = TSNE(n_components=2, perplexity=40).fit_transform(topX)"
   ]
  },
  {
   "cell_type": "code",
   "execution_count": null,
   "id": "062710b3-b93d-43db-9949-2bca134d8c5b",
   "metadata": {},
   "outputs": [
    {
     "data": {
      "image/png": "[encoded data removed]",
      "text/plain": [
       "<Figure size 1000x800 with 1 Axes>"
      ]
     },
     "metadata": {},
     "output_type": "display_data"
    }
   ],
   "source": [
    "fig = plt.figure(figsize=(10,8))\n",
    "ax = fig.add_subplot(1, 1, 1)\n",
    "plt.scatter(topX_tsne[:, 0], topX_tsne[:, 1], marker='x', s=5)\n",
    "for lbl, x, y in zip(top_lbs, topX_tsne[:, 0], topX_tsne[:, 1]):\n",
    "    plt.annotate(lbl,\n",
    "                xy=(x,y),\n",
    "                xytext=(5,-5),\n",
    "                textcoords='offset points',\n",
    "                size=7)\n",
    "plt.show()"
   ]
  },
  {
   "cell_type": "markdown",
   "id": "8df3c62b-cb8d-4414-9bfb-c1b7e4c2baef",
   "metadata": {},
   "source": [
    "Take a look at some of the closely clustered labels to see if they have the same meaning. This will tell us if the model learned meaningful label embeddings:"
   ]
  },
  {
   "cell_type": "code",
   "execution_count": null,
   "id": "ef6deafd-a41d-4faa-b0ec-7f3b1b2f58fc",
   "metadata": {},
   "outputs": [
    {
     "data": {
      "text/html": [
       "<div>\n",
       "<style scoped>\n",
       "    .dataframe tbody tr th:only-of-type {\n",
       "        vertical-align: middle;\n",
       "    }\n",
       "\n",
       "    .dataframe tbody tr th {\n",
       "        vertical-align: top;\n",
       "    }\n",
       "\n",
       "    .dataframe thead th {\n",
       "        text-align: right;\n",
       "    }\n",
       "</style>\n",
       "<table border=\"1\" class=\"dataframe\">\n",
       "  <thead>\n",
       "    <tr style=\"text-align: right;\">\n",
       "      <th></th>\n",
       "      <th>label</th>\n",
       "      <th>description</th>\n",
       "      <th>frequency</th>\n",
       "    </tr>\n",
       "  </thead>\n",
       "  <tbody>\n",
       "    <tr>\n",
       "      <th>48</th>\n",
       "      <td>88.72</td>\n",
       "      <td>Diagnostic ultrasound of heart</td>\n",
       "      <td>14</td>\n",
       "    </tr>\n",
       "    <tr>\n",
       "      <th>56</th>\n",
       "      <td>37.22</td>\n",
       "      <td>Left heart cardiac catheterization</td>\n",
       "      <td>13</td>\n",
       "    </tr>\n",
       "    <tr>\n",
       "      <th>64</th>\n",
       "      <td>995.91</td>\n",
       "      <td>Sepsis</td>\n",
       "      <td>11</td>\n",
       "    </tr>\n",
       "    <tr>\n",
       "      <th>70</th>\n",
       "      <td>36.13</td>\n",
       "      <td>(Aorto)coronary bypass of three coronary arteries</td>\n",
       "      <td>10</td>\n",
       "    </tr>\n",
       "  </tbody>\n",
       "</table>\n",
       "</div>"
      ],
      "text/plain": [
       "     label                                        description  frequency\n",
       "48   88.72                     Diagnostic ultrasound of heart         14\n",
       "56   37.22                 Left heart cardiac catheterization         13\n",
       "64  995.91                                             Sepsis         11\n",
       "70   36.13  (Aorto)coronary bypass of three coronary arteries         10"
      ]
     },
     "execution_count": null,
     "metadata": {},
     "output_type": "execute_result"
    }
   ],
   "source": [
    "df_lbl[df_lbl.label.isin(['36.13', '995.91', '88.72', '37.22'])]"
   ]
  },
  {
   "cell_type": "markdown",
   "id": "00789038-0059-4f4f-a762-33c199bcceae",
   "metadata": {},
   "source": [
    "Looks like it did!"
   ]
  }
 ],
 "metadata": {
  "kernelspec": {
   "display_name": "deepK",
   "language": "python",
   "name": "deepk"
  }
 },
 "nbformat": 4,
 "nbformat_minor": 5
}
