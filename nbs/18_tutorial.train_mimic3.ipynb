{
 "cells": [
  {
   "cell_type": "code",
   "execution_count": null,
   "id": "1c279662-f179-4a07-8b42-87d4ed1687d1",
   "metadata": {},
   "outputs": [],
   "source": [
    "#| eval: false\n",
    "! [ -e /content ] && pip install -Uqq xcube # upgrade xcube on colab"
   ]
  },
  {
   "cell_type": "code",
   "execution_count": null,
   "id": "b92af281-a07c-495b-a7c8-47f676b9117b",
   "metadata": {},
   "outputs": [],
   "source": [
    "from fastai.text.all import *\n",
    "from xcube.text.all import *\n",
    "from fastai.metrics import accuracy # there's an 'accuracy' metric in xcube as well (Deb fix name conflict later)  "
   ]
  },
  {
   "cell_type": "markdown",
   "id": "6e29ed6c-4be3-4e78-883e-5fb180ba98ae",
   "metadata": {},
   "source": [
    "Make sure we have that \"beast\":"
   ]
  },
  {
   "cell_type": "code",
   "execution_count": null,
   "id": "d1161176-8152-4577-83f2-4f01aa2ec753",
   "metadata": {},
   "outputs": [
    {
     "name": "stderr",
     "output_type": "stream",
     "text": [
      "ic| torch.cuda.get_device_name(default_device()): 'Quadro RTX 8000'\n"
     ]
    },
    {
     "name": "stdout",
     "output_type": "stream",
     "text": [
      "GPU memory = 44.99969482421875GB\n"
     ]
    }
   ],
   "source": [
    "#| eval: false\n",
    "ic(torch.cuda.get_device_name(default_device()));\n",
    "test_eq(torch.cuda.get_device_name(0), torch.cuda.get_device_name(default_device()))\n",
    "test_eq(default_device(), torch.device(0))\n",
    "print(f\"GPU memory = {torch.cuda.get_device_properties(default_device()).total_memory/1024**3}GB\")"
   ]
  },
  {
   "cell_type": "code",
   "execution_count": null,
   "id": "581ae160-5921-4d81-9c2c-e5308965b661",
   "metadata": {},
   "outputs": [],
   "source": [
    "#| hide\n",
    "%load_ext autoreload\n",
    "%autoreload 2"
   ]
  },
  {
   "cell_type": "code",
   "execution_count": null,
   "id": "2a799041-b7c9-4355-8073-150cf76dc797",
   "metadata": {},
   "outputs": [],
   "source": [
    "source = untar_xxx(XURLs.MIMIC3)\n",
    "source_l2r = untar_xxx(XURLs.MIMIC3_L2R)"
   ]
  },
  {
   "cell_type": "markdown",
   "id": "1468c9af-7201-4c5c-ad42-220f24c228fc",
   "metadata": {},
   "source": [
    "Setting some environment variables:"
   ]
  },
  {
   "cell_type": "code",
   "execution_count": null,
   "id": "9ec8bb49-f679-4161-8bab-a8881878c6f6",
   "metadata": {},
   "outputs": [],
   "source": [
    "os.environ['CUDA_LAUNCH_BLOCKING'] = \"1\""
   ]
  },
  {
   "cell_type": "markdown",
   "id": "0cc57476-00ef-4954-b3fa-119f4bcaf3a8",
   "metadata": {},
   "source": [
    "Setting defaults for pandas and matplotlib:"
   ]
  },
  {
   "cell_type": "code",
   "execution_count": null,
   "id": "10efe8ae-a5b8-466c-b7f9-bebe3a2cc138",
   "metadata": {},
   "outputs": [],
   "source": [
    "# Set the default figure size\n",
    "plt.rcParams[\"figure.figsize\"] = (8, 4)"
   ]
  },
  {
   "cell_type": "markdown",
   "id": "a48fac5d-c946-4158-9117-b6a121b91b5c",
   "metadata": {},
   "source": [
    "Altering some default jupyter settings:"
   ]
  },
  {
   "cell_type": "code",
   "execution_count": null,
   "id": "57637c3c-ec69-4dc3-986d-4bc4b31605e4",
   "metadata": {},
   "outputs": [],
   "source": [
    "from IPython.core.interactiveshell import InteractiveShell\n",
    "# InteractiveShell.ast_node_interactivity = \"last\" # \"all\""
   ]
  },
  {
   "cell_type": "markdown",
   "id": "785f5121-462b-405b-af5e-8e9da8d99a2b",
   "metadata": {},
   "source": [
    "# Training an XML Text Classifier"
   ]
  },
  {
   "cell_type": "markdown",
   "id": "d404adef-ce2e-49aa-8f1f-f1fc2a448787",
   "metadata": {},
   "source": [
    "## `DataLoaders` for the Language Model"
   ]
  },
  {
   "cell_type": "markdown",
   "id": "2f344003-5256-4207-9957-4959cad59a1b",
   "metadata": {},
   "source": [
    "To be able to use Transfer Learning, first we need to fine-tune our Language Model (which we pretrained on Wikipedia) on the corpus of Wiki-500k (the one we downloaded). Here we will build the `DataLoaders` object using fastai's `DataBlock` API:"
   ]
  },
  {
   "cell_type": "code",
   "execution_count": null,
   "id": "0baa879a-0eca-4a82-9926-35658762db08",
   "metadata": {},
   "outputs": [
    {
     "name": "stdout",
     "output_type": "stream",
     "text": [
      "subject_id,hadm_id,text,labels,length,is_valid\n"
     ]
    }
   ],
   "source": [
    "data = source/'mimic3-9k.csv'\n",
    "!head -n 1 {data}"
   ]
  },
  {
   "cell_type": "code",
   "execution_count": null,
   "id": "c15a2fca-bf86-4a13-ba60-1bcfe8f41762",
   "metadata": {},
   "outputs": [
    {
     "data": {
      "text/plain": [
       "52726"
      ]
     },
     "execution_count": null,
     "metadata": {},
     "output_type": "execute_result"
    }
   ],
   "source": [
    "df = pd.read_csv(data,\n",
    "                 header=0,\n",
    "                 names=['subject_id', 'hadm_id', 'text', 'labels', 'length', 'is_valid'],\n",
    "                 dtype={'subject_id': str, 'hadm_id': str, 'text': str, 'labels': str, 'length': np.int64, 'is_valid': bool})\n",
    "len(df)"
   ]
  },
  {
   "cell_type": "code",
   "execution_count": null,
   "id": "3cbe3d5e-f89d-4bc3-948c-0b0b207daa7c",
   "metadata": {},
   "outputs": [],
   "source": [
    "df[['text', 'labels']] = df[['text', 'labels']].astype(str)"
   ]
  },
  {
   "cell_type": "markdown",
   "id": "89ae1a47-dc09-42ab-93e4-7520455ed8b9",
   "metadata": {},
   "source": [
    "Let's take a look at the data:"
   ]
  },
  {
   "cell_type": "code",
   "execution_count": null,
   "id": "01c248e5-774b-46f1-8dca-64bab545f716",
   "metadata": {},
   "outputs": [
    {
     "data": {
      "text/html": [
       "<div>\n",
       "<style scoped>\n",
       "    .dataframe tbody tr th:only-of-type {\n",
       "        vertical-align: middle;\n",
       "    }\n",
       "\n",
       "    .dataframe tbody tr th {\n",
       "        vertical-align: top;\n",
       "    }\n",
       "\n",
       "    .dataframe thead th {\n",
       "        text-align: right;\n",
       "    }\n",
       "</style>\n",
       "<table border=\"1\" class=\"dataframe\">\n",
       "  <thead>\n",
       "    <tr style=\"text-align: right;\">\n",
       "      <th></th>\n",
       "      <th>subject_id</th>\n",
       "      <th>hadm_id</th>\n",
       "      <th>text</th>\n",
       "      <th>labels</th>\n",
       "      <th>length</th>\n",
       "      <th>is_valid</th>\n",
       "    </tr>\n",
       "  </thead>\n",
       "  <tbody>\n",
       "    <tr>\n",
       "      <th>0</th>\n",
       "      <td>86006</td>\n",
       "      <td>111912</td>\n",
       "      <td>admission date discharge date date of birth sex f service surgery allergies patient recorded as having no known allergies to drugs attending first name3 lf chief complaint 60f on coumadin was found slightly drowsy tonight then fell down stairs paramedic found her unconscious and she was intubated w o any medication head ct shows multiple iph transferred to hospital1 for further eval major surgical or invasive procedure none past medical history her medical history is significant for hypertension osteoarthritis involving bilateral knee joints with a dependence on cane for ambulation chronic...</td>\n",
       "      <td>801.35;348.4;805.06;807.01;998.30;707.24;E880.9;427.31;414.01;401.9;V58.61;V43.64;707.00;E878.1;96.71</td>\n",
       "      <td>230</td>\n",
       "      <td>False</td>\n",
       "    </tr>\n",
       "    <tr>\n",
       "      <th>1</th>\n",
       "      <td>85950</td>\n",
       "      <td>189769</td>\n",
       "      <td>admission date discharge date service neurosurgery allergies sulfa sulfonamides attending first name3 lf chief complaint cc cc contact info major surgical or invasive procedure none history of present illness hpi 88m who lives with family had fall yesterday today had decline in mental status ems called pt was unresponsive on arrival went to osh head ct showed large r sdh pt was intubated at osh and transferred to hospital1 for further care past medical history cad s p mi in s p cabg in ventricular aneurysm at that time cath in with occluded rca unable to intervene chf reported ef 1st degre...</td>\n",
       "      <td>852.25;E888.9;403.90;585.9;250.00;414.00;V45.81;96.71</td>\n",
       "      <td>304</td>\n",
       "      <td>False</td>\n",
       "    </tr>\n",
       "    <tr>\n",
       "      <th>2</th>\n",
       "      <td>88025</td>\n",
       "      <td>180431</td>\n",
       "      <td>admission date discharge date date of birth sex f service surgery allergies no known allergies adverse drug reactions attending first name3 lf chief complaint s p fall major surgical or invasive procedure none history of present illness 45f etoh s p fall from window at feet found ambulating and slurring speech on scene intubated en route for declining mental status in the er the patient was found to be bradycardic to the s with bp of systolic she was given atropine dilantin and was started on saline past medical history unknown social history unknown family history unknown physical exam ex...</td>\n",
       "      <td>518.81;348.4;348.82;801.25;427.89;E882;V49.86;305.00;96.71;38.93</td>\n",
       "      <td>359</td>\n",
       "      <td>False</td>\n",
       "    </tr>\n",
       "  </tbody>\n",
       "</table>\n",
       "</div>"
      ],
      "text/plain": [
       "  subject_id hadm_id   \n",
       "0      86006  111912  \\\n",
       "1      85950  189769   \n",
       "2      88025  180431   \n",
       "\n",
       "                                                                                                                                                                                                                                                                                                                                                                                                                                                                                                                                                                                                                      text   \n",
       "0  admission date discharge date date of birth sex f service surgery allergies patient recorded as having no known allergies to drugs attending first name3 lf chief complaint 60f on coumadin was found slightly drowsy tonight then fell down stairs paramedic found her unconscious and she was intubated w o any medication head ct shows multiple iph transferred to hospital1 for further eval major surgical or invasive procedure none past medical history her medical history is significant for hypertension osteoarthritis involving bilateral knee joints with a dependence on cane for ambulation chronic...  \\\n",
       "1  admission date discharge date service neurosurgery allergies sulfa sulfonamides attending first name3 lf chief complaint cc cc contact info major surgical or invasive procedure none history of present illness hpi 88m who lives with family had fall yesterday today had decline in mental status ems called pt was unresponsive on arrival went to osh head ct showed large r sdh pt was intubated at osh and transferred to hospital1 for further care past medical history cad s p mi in s p cabg in ventricular aneurysm at that time cath in with occluded rca unable to intervene chf reported ef 1st degre...   \n",
       "2  admission date discharge date date of birth sex f service surgery allergies no known allergies adverse drug reactions attending first name3 lf chief complaint s p fall major surgical or invasive procedure none history of present illness 45f etoh s p fall from window at feet found ambulating and slurring speech on scene intubated en route for declining mental status in the er the patient was found to be bradycardic to the s with bp of systolic she was given atropine dilantin and was started on saline past medical history unknown social history unknown family history unknown physical exam ex...   \n",
       "\n",
       "                                                                                                  labels   \n",
       "0  801.35;348.4;805.06;807.01;998.30;707.24;E880.9;427.31;414.01;401.9;V58.61;V43.64;707.00;E878.1;96.71  \\\n",
       "1                                                  852.25;E888.9;403.90;585.9;250.00;414.00;V45.81;96.71   \n",
       "2                                       518.81;348.4;348.82;801.25;427.89;E882;V49.86;305.00;96.71;38.93   \n",
       "\n",
       "   length  is_valid  \n",
       "0     230     False  \n",
       "1     304     False  \n",
       "2     359     False  "
      ]
     },
     "execution_count": null,
     "metadata": {},
     "output_type": "execute_result"
    }
   ],
   "source": [
    "df.head(3)"
   ]
  },
  {
   "cell_type": "markdown",
   "id": "4e4b459b-c4f1-4357-afbe-b6b81b3b8cec",
   "metadata": {},
   "source": [
    "We will now create the `DataLoaders` using `DataBlock` API:"
   ]
  },
  {
   "cell_type": "code",
   "execution_count": null,
   "id": "a888ae1e-3c7e-4394-876d-ff79f8679411",
   "metadata": {},
   "outputs": [
    {
     "data": {
      "text/html": [
       "\n",
       "<style>\n",
       "    /* Turns off some styling */\n",
       "    progress {\n",
       "        /* gets rid of default border in Firefox and Opera. */\n",
       "        border: none;\n",
       "        /* Needs to be in here for Safari polyfill so background images work as expected. */\n",
       "        background-size: auto;\n",
       "    }\n",
       "    progress:not([value]), progress:not([value])::-webkit-progress-bar {\n",
       "        background: repeating-linear-gradient(45deg, #7e7e7e, #7e7e7e 10px, #5c5c5c 10px, #5c5c5c 20px);\n",
       "    }\n",
       "    .progress-bar-interrupted, .progress-bar-interrupted::-webkit-progress-bar {\n",
       "        background: #F44336;\n",
       "    }\n",
       "</style>\n"
      ],
      "text/plain": [
       "<IPython.core.display.HTML object>"
      ]
     },
     "metadata": {},
     "output_type": "display_data"
    },
    {
     "data": {
      "text/html": [],
      "text/plain": [
       "<IPython.core.display.HTML object>"
      ]
     },
     "metadata": {},
     "output_type": "display_data"
    }
   ],
   "source": [
    "dls_lm = DataBlock(\n",
    "    blocks   = TextBlock.from_df('text', is_lm=True),\n",
    "    get_x    = ColReader('text'),\n",
    "    splitter = RandomSplitter(0.1)\n",
    ").dataloaders(df, bs=384, seq_len=80)"
   ]
  },
  {
   "cell_type": "markdown",
   "id": "29e43541-0a47-4a18-940d-7473bf91a37e",
   "metadata": {},
   "source": [
    "For the backward LM:"
   ]
  },
  {
   "cell_type": "code",
   "execution_count": null,
   "id": "cb622cc4-1ec5-43a4-94d2-3a8b8b3bb8f1",
   "metadata": {},
   "outputs": [
    {
     "data": {
      "text/html": [
       "\n",
       "<style>\n",
       "    /* Turns off some styling */\n",
       "    progress {\n",
       "        /* gets rid of default border in Firefox and Opera. */\n",
       "        border: none;\n",
       "        /* Needs to be in here for Safari polyfill so background images work as expected. */\n",
       "        background-size: auto;\n",
       "    }\n",
       "    progress:not([value]), progress:not([value])::-webkit-progress-bar {\n",
       "        background: repeating-linear-gradient(45deg, #7e7e7e, #7e7e7e 10px, #5c5c5c 10px, #5c5c5c 20px);\n",
       "    }\n",
       "    .progress-bar-interrupted, .progress-bar-interrupted::-webkit-progress-bar {\n",
       "        background: #F44336;\n",
       "    }\n",
       "</style>\n"
      ],
      "text/plain": [
       "<IPython.core.display.HTML object>"
      ]
     },
     "metadata": {},
     "output_type": "display_data"
    },
    {
     "data": {
      "text/html": [],
      "text/plain": [
       "<IPython.core.display.HTML object>"
      ]
     },
     "metadata": {},
     "output_type": "display_data"
    }
   ],
   "source": [
    "dls_lm_r = DataBlock(\n",
    "    blocks   = TextBlock.from_df('text', is_lm=True, backwards=True),\n",
    "    get_x    = ColReader('text'),\n",
    "    splitter = RandomSplitter(0.1)\n",
    ").dataloaders(df, bs=384, seq_len=80)"
   ]
  },
  {
   "cell_type": "markdown",
   "id": "9360e9b7-968c-4d63-a7c8-47b894f9d368",
   "metadata": {},
   "source": [
    "Let's take a look at the batches:"
   ]
  },
  {
   "cell_type": "code",
   "execution_count": null,
   "id": "fb5eb28e-94a7-4448-a4e3-0151959e16ba",
   "metadata": {},
   "outputs": [
    {
     "data": {
      "text/html": [
       "<table border=\"1\" class=\"dataframe\">\n",
       "  <thead>\n",
       "    <tr style=\"text-align: right;\">\n",
       "      <th></th>\n",
       "      <th>text</th>\n",
       "      <th>text_</th>\n",
       "    </tr>\n",
       "  </thead>\n",
       "  <tbody>\n",
       "    <tr>\n",
       "      <th>0</th>\n",
       "      <td>xxbos admission date discharge date date of birth sex m history of present illness first name8 namepattern2 known lastname is the firstborn of triplets at week gestation born to a year old gravida para woman immune rpr non reactive hepatitis b surface antigen negative group beta strep status unknown this was an intrauterine insemination achieved pregnancy the pregnancy was uncomplicated until when mother was admitted for evaluation of pregnancy induced hypertension she was treated with betamethasone and discharged home she</td>\n",
       "      <td>admission date discharge date date of birth sex m history of present illness first name8 namepattern2 known lastname is the firstborn of triplets at week gestation born to a year old gravida para woman immune rpr non reactive hepatitis b surface antigen negative group beta strep status unknown this was an intrauterine insemination achieved pregnancy the pregnancy was uncomplicated until when mother was admitted for evaluation of pregnancy induced hypertension she was treated with betamethasone and discharged home she was</td>\n",
       "    </tr>\n",
       "    <tr>\n",
       "      <th>1</th>\n",
       "      <td>occluded rca with l to r collaterals the femoral sheath was sewn in started on heparin and transferred to hospital1 for surgical revascularization past medical history coronary artery diease s p myocardial infarction s p pci to rca subarachnoid hemorrhage secondary to streptokinase hypertension hyperlipidemia hiatal hernia gastritis depression reactive airway disease s p ppm placement for 2nd degree av block social history history of smoking having quit in with a pack year history family history strong family history of</td>\n",
       "      <td>rca with l to r collaterals the femoral sheath was sewn in started on heparin and transferred to hospital1 for surgical revascularization past medical history coronary artery diease s p myocardial infarction s p pci to rca subarachnoid hemorrhage secondary to streptokinase hypertension hyperlipidemia hiatal hernia gastritis depression reactive airway disease s p ppm placement for 2nd degree av block social history history of smoking having quit in with a pack year history family history strong family history of premature</td>\n",
       "    </tr>\n",
       "  </tbody>\n",
       "</table>"
      ],
      "text/plain": [
       "<IPython.core.display.HTML object>"
      ]
     },
     "metadata": {},
     "output_type": "display_data"
    }
   ],
   "source": [
    "dls_lm.show_batch(max_n=2)"
   ]
  },
  {
   "cell_type": "code",
   "execution_count": null,
   "id": "93b899f4-5914-4100-923f-2abb43b12272",
   "metadata": {},
   "outputs": [
    {
     "data": {
      "text/html": [
       "<table border=\"1\" class=\"dataframe\">\n",
       "  <thead>\n",
       "    <tr style=\"text-align: right;\">\n",
       "      <th></th>\n",
       "      <th>text</th>\n",
       "      <th>text_</th>\n",
       "    </tr>\n",
       "  </thead>\n",
       "  <tbody>\n",
       "    <tr>\n",
       "      <th>0</th>\n",
       "      <td>sb west d i basement name first doctor bldg name ward hospital lm lf name3 first lf name last name last doctor d i 30a visit fellow sb west d i name first doctor name last doctor d i 30p visit attending opat appointments up follow disease infectious garage name ward hospital parking best east campus un location ctr clinical name ward hospital sc building fax telephone md namepattern4 name last pattern1 name name11 first with am at wednesday when</td>\n",
       "      <td>west d i basement name first doctor bldg name ward hospital lm lf name3 first lf name last name last doctor d i 30a visit fellow sb west d i name first doctor name last doctor d i 30p visit attending opat appointments up follow disease infectious garage name ward hospital parking best east campus un location ctr clinical name ward hospital sc building fax telephone md namepattern4 name last pattern1 name name11 first with am at wednesday when services</td>\n",
       "    </tr>\n",
       "    <tr>\n",
       "      <th>1</th>\n",
       "      <td>bare and catheterization cardiac a for hospital1 to flown were you infarction myocardial or attack heart a and pain chest had you instructions discharge independent ambulatory status activity interactive and alert consciousness of level coherent and clear status mental condition discharge hyperglycemia hyperlipidemia hypertension infarction myocardial inferior acute diagnosis discharge home disposition discharge refills tablets disp pain chest for needed as year month of total a for minutes every sublingual tablet one sig sublingual tablet mg nitroglycerin day a once</td>\n",
       "      <td>and catheterization cardiac a for hospital1 to flown were you infarction myocardial or attack heart a and pain chest had you instructions discharge independent ambulatory status activity interactive and alert consciousness of level coherent and clear status mental condition discharge hyperglycemia hyperlipidemia hypertension infarction myocardial inferior acute diagnosis discharge home disposition discharge refills tablets disp pain chest for needed as year month of total a for minutes every sublingual tablet one sig sublingual tablet mg nitroglycerin day a once po</td>\n",
       "    </tr>\n",
       "  </tbody>\n",
       "</table>"
      ],
      "text/plain": [
       "<IPython.core.display.HTML object>"
      ]
     },
     "metadata": {},
     "output_type": "display_data"
    }
   ],
   "source": [
    "dls_lm_r.show_batch(max_n=2)"
   ]
  },
  {
   "cell_type": "markdown",
   "id": "756652a3-c791-4942-ba82-c95793229173",
   "metadata": {},
   "source": [
    "The length of our vocabulary is:"
   ]
  },
  {
   "cell_type": "code",
   "execution_count": null,
   "id": "ff8eff9f-2e0b-49bd-a831-98c1152ffbeb",
   "metadata": {},
   "outputs": [
    {
     "data": {
      "text/plain": [
       "57376"
      ]
     },
     "execution_count": null,
     "metadata": {},
     "output_type": "execute_result"
    }
   ],
   "source": [
    "len(dls_lm.vocab)"
   ]
  },
  {
   "cell_type": "markdown",
   "id": "506bf184-dca6-4b80-b61f-b8957a7da626",
   "metadata": {},
   "source": [
    "Let's take a look at some words of the vocab:"
   ]
  },
  {
   "cell_type": "code",
   "execution_count": null,
   "id": "6e968ac3-7892-44cd-a5cf-a393faed199f",
   "metadata": {},
   "outputs": [
    {
     "name": "stdout",
     "output_type": "stream",
     "text": [
      "(#57376) ['xxunk','xxpad','xxbos','xxeos','xxfld','xxrep','xxwrep','xxup','xxmaj','the','and','to','of','was','with','a','on','in','for','mg','no','tablet','patient','is','he','at','blood','name','po','she'...]\n"
     ]
    }
   ],
   "source": [
    "print(coll_repr(L(dls_lm.vocab), 30))"
   ]
  },
  {
   "cell_type": "markdown",
   "id": "f5020af3-ee21-463f-9b23-af8f975a12f7",
   "metadata": {},
   "source": [
    "Creating the `DataLaoders` takes some time, so smash that *save* button (also a good idea to save the `dls_lm.vocab` for later use) if you are working on your own dataset. In this case though `untar_xxx` has got it for you:"
   ]
  },
  {
   "cell_type": "code",
   "execution_count": null,
   "id": "6e2049d8-f68f-421d-bfb3-1c8a900f9fab",
   "metadata": {},
   "outputs": [
    {
     "name": "stdout",
     "output_type": "stream",
     "text": [
      "/home/deb/.xcube/data/mimic3/mimic3-9k_dls_lm.pkl\n",
      "/home/deb/.xcube/data/mimic3/mimic3-9k_dls_lm_vocab_r.pkl\n",
      "/home/deb/.xcube/data/mimic3/mimic3-9k_dls_lm_vocab.pkl\n",
      "/home/deb/.xcube/data/mimic3/mimic3-9k_dls_lm_r.pkl\n",
      "/home/deb/.xcube/data/mimic3/mimic3-9k_dls_lm_old.pkl\n"
     ]
    }
   ],
   "source": [
    "print(\"\\n\".join(L(source.glob(\"**/*dls*lm*.pkl\")).map(str))) # the ones with _r are for the reverse language model"
   ]
  },
  {
   "cell_type": "markdown",
   "id": "d134f443-6c45-4033-b1cd-77fad51716ac",
   "metadata": {},
   "source": [
    "To load back the `dls_lm` later on:"
   ]
  },
  {
   "cell_type": "code",
   "execution_count": null,
   "id": "aef4e101-6045-4ccb-8719-8bf6ccf2133c",
   "metadata": {},
   "outputs": [],
   "source": [
    "dls_lm = torch.load(source/'mimic3-9k_dls_lm.pkl')"
   ]
  },
  {
   "cell_type": "code",
   "execution_count": null,
   "id": "6007c555-6526-409e-a7b7-a004ac2dc859",
   "metadata": {},
   "outputs": [],
   "source": [
    "dls_lm_r = torch.load(source/'mimic3-9k_dls_lm_r.pkl')"
   ]
  },
  {
   "cell_type": "markdown",
   "id": "35fb57d8-c761-448e-ad94-1543100ea4d5",
   "metadata": {},
   "source": [
    "## `Learner` for the Language Model Fine-Tuning:"
   ]
  },
  {
   "cell_type": "code",
   "execution_count": null,
   "id": "066b8008-c451-488b-bcd5-c2c56e520fd7",
   "metadata": {},
   "outputs": [],
   "source": [
    "learn = language_model_learner(\n",
    "    dls_lm, AWD_LSTM, drop_mult=0.3,\n",
    "    metrics=[accuracy, Perplexity()]).to_fp16()"
   ]
  },
  {
   "cell_type": "markdown",
   "id": "cdc2c307-e617-4a2d-9d5b-f92742a04f61",
   "metadata": {},
   "source": [
    "And, one more for the reverse:"
   ]
  },
  {
   "cell_type": "code",
   "execution_count": null,
   "id": "0b87d7c8-14d7-4bdd-99bc-cb7537bbafe5",
   "metadata": {},
   "outputs": [],
   "source": [
    "learn_r = language_model_learner(\n",
    "    dls_lm_r, AWD_LSTM, drop_mult=0.3, backwards=True,\n",
    "    metrics=[accuracy, Perplexity()]).to_fp16()"
   ]
  },
  {
   "cell_type": "markdown",
   "id": "bd082375-1f59-4e9c-9f11-adb3b0fd444f",
   "metadata": {},
   "source": [
    "Training a language model on the full datset takes a lot of time. So you can train one on a tiny dataset for illustration. Or you can skip the training and just load up the one that's pretrained and downloaded by `untar_xxx` and just do the validation."
   ]
  },
  {
   "cell_type": "markdown",
   "id": "ee482e95-7900-43e2-a52f-060259ca4fcc",
   "metadata": {},
   "source": [
    "Let's compute the learning rate using the `lr_find`:"
   ]
  },
  {
   "cell_type": "code",
   "execution_count": null,
   "id": "8a6ce819-c842-4e63-bde1-0e4782e4ac2c",
   "metadata": {},
   "outputs": [],
   "source": [
    "lr_min, lr_steep, lr_valley, lr_slide = learn.lr_find(suggest_funcs=(minimum, steep, valley, slide))\n",
    "lr_min, lr_steep, lr_valley, lr_slide"
   ]
  },
  {
   "cell_type": "code",
   "execution_count": null,
   "id": "25870a9c-b75b-4f9b-a64a-6e761aba62d9",
   "metadata": {},
   "outputs": [
    {
     "data": {
      "text/html": [
       "\n",
       "<style>\n",
       "    /* Turns off some styling */\n",
       "    progress {\n",
       "        /* gets rid of default border in Firefox and Opera. */\n",
       "        border: none;\n",
       "        /* Needs to be in here for Safari polyfill so background images work as expected. */\n",
       "        background-size: auto;\n",
       "    }\n",
       "    .progress-bar-interrupted, .progress-bar-interrupted::-webkit-progress-bar {\n",
       "        background: #F44336;\n",
       "    }\n",
       "</style>\n"
      ],
      "text/plain": [
       "<IPython.core.display.HTML object>"
      ]
     },
     "metadata": {},
     "output_type": "display_data"
    },
    {
     "data": {
      "text/html": [
       "<table border=\"1\" class=\"dataframe\">\n",
       "  <thead>\n",
       "    <tr style=\"text-align: left;\">\n",
       "      <th>epoch</th>\n",
       "      <th>train_loss</th>\n",
       "      <th>valid_loss</th>\n",
       "      <th>accuracy</th>\n",
       "      <th>perplexity</th>\n",
       "      <th>time</th>\n",
       "    </tr>\n",
       "  </thead>\n",
       "  <tbody>\n",
       "    <tr>\n",
       "      <td>0</td>\n",
       "      <td>3.646323</td>\n",
       "      <td>3.512013</td>\n",
       "      <td>0.382642</td>\n",
       "      <td>33.515659</td>\n",
       "      <td>2:27:57</td>\n",
       "    </tr>\n",
       "  </tbody>\n",
       "</table>"
      ],
      "text/plain": [
       "<IPython.core.display.HTML object>"
      ]
     },
     "metadata": {},
     "output_type": "display_data"
    }
   ],
   "source": [
    "learn.fit_one_cycle(1, lr_min)"
   ]
  },
  {
   "cell_type": "markdown",
   "id": "4db84baa-0d8e-4942-90c0-2ff957e618e4",
   "metadata": {},
   "source": [
    "It takes quite a while to train each epoch, so we'll be saving the intermediate model results during the training process:"
   ]
  },
  {
   "cell_type": "markdown",
   "id": "15433f16-257e-4355-87dc-4862fb3d1159",
   "metadata": {},
   "source": [
    "Since we have completed the initial training, we will now continue fine-tuning the model after unfreezing:"
   ]
  },
  {
   "cell_type": "code",
   "execution_count": null,
   "id": "ba11c6fe-524a-4d72-bc37-dc3508e7f598",
   "metadata": {},
   "outputs": [],
   "source": [
    "learn.unfreeze()"
   ]
  },
  {
   "cell_type": "markdown",
   "id": "afe943cf-b563-4964-92e0-1a255ead2215",
   "metadata": {},
   "source": [
    "and run `lr_find` again, because we now have more layers to train, and the last layers weight have already been trained for one epoch:"
   ]
  },
  {
   "cell_type": "code",
   "execution_count": null,
   "id": "dd9d5c54-7199-4364-9aee-b5b9c0467108",
   "metadata": {},
   "outputs": [],
   "source": [
    "lr_min, lr_steep, lr_valley, lr_slide = learn.lr_find(suggest_funcs=(minimum, steep, valley, slide))\n",
    "lr_min, lr_steep, lr_valley, lr_slide"
   ]
  },
  {
   "cell_type": "markdown",
   "id": "7dbcc029-1fd3-43dd-adad-bfdcec531d7e",
   "metadata": {},
   "source": [
    "Let's now traing with a suitable learning rate:"
   ]
  },
  {
   "cell_type": "code",
   "execution_count": null,
   "id": "039fb4f9-0b5d-4a26-9330-6a72a2bc02a5",
   "metadata": {},
   "outputs": [
    {
     "data": {
      "text/html": [
       "\n",
       "<style>\n",
       "    /* Turns off some styling */\n",
       "    progress {\n",
       "        /* gets rid of default border in Firefox and Opera. */\n",
       "        border: none;\n",
       "        /* Needs to be in here for Safari polyfill so background images work as expected. */\n",
       "        background-size: auto;\n",
       "    }\n",
       "    progress:not([value]), progress:not([value])::-webkit-progress-bar {\n",
       "        background: repeating-linear-gradient(45deg, #7e7e7e, #7e7e7e 10px, #5c5c5c 10px, #5c5c5c 20px);\n",
       "    }\n",
       "    .progress-bar-interrupted, .progress-bar-interrupted::-webkit-progress-bar {\n",
       "        background: #F44336;\n",
       "    }\n",
       "</style>\n"
      ],
      "text/plain": [
       "<IPython.core.display.HTML object>"
      ]
     },
     "metadata": {},
     "output_type": "display_data"
    },
    {
     "data": {
      "text/html": [
       "<table border=\"1\" class=\"dataframe\">\n",
       "  <thead>\n",
       "    <tr style=\"text-align: left;\">\n",
       "      <th>epoch</th>\n",
       "      <th>train_loss</th>\n",
       "      <th>valid_loss</th>\n",
       "      <th>accuracy</th>\n",
       "      <th>perplexity</th>\n",
       "      <th>time</th>\n",
       "    </tr>\n",
       "  </thead>\n",
       "  <tbody>\n",
       "    <tr>\n",
       "      <td>0</td>\n",
       "      <td>2.146188</td>\n",
       "      <td>2.057686</td>\n",
       "      <td>0.567773</td>\n",
       "      <td>7.827838</td>\n",
       "      <td>50:52</td>\n",
       "    </tr>\n",
       "    <tr>\n",
       "      <td>1</td>\n",
       "      <td>2.128464</td>\n",
       "      <td>2.056832</td>\n",
       "      <td>0.567727</td>\n",
       "      <td>7.821152</td>\n",
       "      <td>50:22</td>\n",
       "    </tr>\n",
       "    <tr>\n",
       "      <td>2</td>\n",
       "      <td>2.130863</td>\n",
       "      <td>2.056411</td>\n",
       "      <td>0.567697</td>\n",
       "      <td>7.817858</td>\n",
       "      <td>50:45</td>\n",
       "    </tr>\n",
       "    <tr>\n",
       "      <td>3</td>\n",
       "      <td>2.145324</td>\n",
       "      <td>2.056166</td>\n",
       "      <td>0.567647</td>\n",
       "      <td>7.815949</td>\n",
       "      <td>48:14</td>\n",
       "    </tr>\n",
       "    <tr>\n",
       "      <td>4</td>\n",
       "      <td>2.150917</td>\n",
       "      <td>2.055998</td>\n",
       "      <td>0.567635</td>\n",
       "      <td>7.814632</td>\n",
       "      <td>48:28</td>\n",
       "    </tr>\n",
       "    <tr>\n",
       "      <td>5</td>\n",
       "      <td>2.140279</td>\n",
       "      <td>2.055952</td>\n",
       "      <td>0.567605</td>\n",
       "      <td>7.814274</td>\n",
       "      <td>50:48</td>\n",
       "    </tr>\n",
       "    <tr>\n",
       "      <td>6</td>\n",
       "      <td>2.142321</td>\n",
       "      <td>2.055915</td>\n",
       "      <td>0.567604</td>\n",
       "      <td>7.813985</td>\n",
       "      <td>49:01</td>\n",
       "    </tr>\n",
       "    <tr>\n",
       "      <td>7</td>\n",
       "      <td>2.134698</td>\n",
       "      <td>2.055936</td>\n",
       "      <td>0.567555</td>\n",
       "      <td>7.814146</td>\n",
       "      <td>48:28</td>\n",
       "    </tr>\n",
       "    <tr>\n",
       "      <td>8</td>\n",
       "      <td>2.128352</td>\n",
       "      <td>2.055983</td>\n",
       "      <td>0.567532</td>\n",
       "      <td>7.814515</td>\n",
       "      <td>49:07</td>\n",
       "    </tr>\n",
       "    <tr>\n",
       "      <td>9</td>\n",
       "      <td>2.139955</td>\n",
       "      <td>2.056035</td>\n",
       "      <td>0.567506</td>\n",
       "      <td>7.814924</td>\n",
       "      <td>47:08</td>\n",
       "    </tr>\n",
       "    <tr>\n",
       "      <td>10</td>\n",
       "      <td>2.142920</td>\n",
       "      <td>2.056096</td>\n",
       "      <td>0.567497</td>\n",
       "      <td>7.815400</td>\n",
       "      <td>49:17</td>\n",
       "    </tr>\n",
       "    <tr>\n",
       "      <td>11</td>\n",
       "      <td>2.134071</td>\n",
       "      <td>2.056163</td>\n",
       "      <td>0.567462</td>\n",
       "      <td>7.815919</td>\n",
       "      <td>49:10</td>\n",
       "    </tr>\n",
       "    <tr>\n",
       "      <td>12</td>\n",
       "      <td>2.133942</td>\n",
       "      <td>2.056265</td>\n",
       "      <td>0.567441</td>\n",
       "      <td>7.816717</td>\n",
       "      <td>49:55</td>\n",
       "    </tr>\n",
       "    <tr>\n",
       "      <td>13</td>\n",
       "      <td>2.152335</td>\n",
       "      <td>2.056378</td>\n",
       "      <td>0.567417</td>\n",
       "      <td>7.817600</td>\n",
       "      <td>50:05</td>\n",
       "    </tr>\n",
       "    <tr>\n",
       "      <td>14</td>\n",
       "      <td>2.148020</td>\n",
       "      <td>2.056501</td>\n",
       "      <td>0.567388</td>\n",
       "      <td>7.818562</td>\n",
       "      <td>48:47</td>\n",
       "    </tr>\n",
       "  </tbody>\n",
       "</table>"
      ],
      "text/plain": [
       "<IPython.core.display.HTML object>"
      ]
     },
     "metadata": {},
     "output_type": "display_data"
    },
    {
     "name": "stdout",
     "output_type": "stream",
     "text": [
      "Better model found at epoch 0 with valid_loss value: 2.0576863288879395.\n",
      "Better model found at epoch 1 with valid_loss value: 2.0568318367004395.\n",
      "Better model found at epoch 2 with valid_loss value: 2.056410551071167.\n",
      "Better model found at epoch 3 with valid_loss value: 2.056166410446167.\n",
      "Better model found at epoch 4 with valid_loss value: 2.055997848510742.\n",
      "Better model found at epoch 5 with valid_loss value: 2.0559520721435547.\n",
      "Better model found at epoch 6 with valid_loss value: 2.055915117263794.\n"
     ]
    }
   ],
   "source": [
    "learn.fit(15, lr=1e-5, cbs=SaveModelCallback(fname='lm_now'))"
   ]
  },
  {
   "cell_type": "markdown",
   "id": "0cf8f4fb-2d86-463e-98ee-528df99a1258",
   "metadata": {},
   "source": [
    "Reverse"
   ]
  },
  {
   "cell_type": "code",
   "execution_count": null,
   "id": "9961809c-b063-4f60-b4bd-aef0cd48de2b",
   "metadata": {},
   "outputs": [],
   "source": [
    "learn_r.unfreeze()"
   ]
  },
  {
   "cell_type": "code",
   "execution_count": null,
   "id": "db4ef33d-ad8c-460e-a9f9-aed4dc34ca7e",
   "metadata": {},
   "outputs": [
    {
     "data": {
      "text/html": [
       "\n",
       "<style>\n",
       "    /* Turns off some styling */\n",
       "    progress {\n",
       "        /* gets rid of default border in Firefox and Opera. */\n",
       "        border: none;\n",
       "        /* Needs to be in here for Safari polyfill so background images work as expected. */\n",
       "        background-size: auto;\n",
       "    }\n",
       "    progress:not([value]), progress:not([value])::-webkit-progress-bar {\n",
       "        background: repeating-linear-gradient(45deg, #7e7e7e, #7e7e7e 10px, #5c5c5c 10px, #5c5c5c 20px);\n",
       "    }\n",
       "    .progress-bar-interrupted, .progress-bar-interrupted::-webkit-progress-bar {\n",
       "        background: #F44336;\n",
       "    }\n",
       "</style>\n"
      ],
      "text/plain": [
       "<IPython.core.display.HTML object>"
      ]
     },
     "metadata": {},
     "output_type": "display_data"
    },
    {
     "data": {
      "text/html": [
       "<table border=\"1\" class=\"dataframe\">\n",
       "  <thead>\n",
       "    <tr style=\"text-align: left;\">\n",
       "      <th>epoch</th>\n",
       "      <th>train_loss</th>\n",
       "      <th>valid_loss</th>\n",
       "      <th>accuracy</th>\n",
       "      <th>perplexity</th>\n",
       "      <th>time</th>\n",
       "    </tr>\n",
       "  </thead>\n",
       "  <tbody>\n",
       "    <tr>\n",
       "      <td>0</td>\n",
       "      <td>2.212396</td>\n",
       "      <td>2.099074</td>\n",
       "      <td>0.569185</td>\n",
       "      <td>8.158612</td>\n",
       "      <td>51:08</td>\n",
       "    </tr>\n",
       "    <tr>\n",
       "      <td>1</td>\n",
       "      <td>2.212062</td>\n",
       "      <td>2.098635</td>\n",
       "      <td>0.569127</td>\n",
       "      <td>8.155032</td>\n",
       "      <td>50:51</td>\n",
       "    </tr>\n",
       "    <tr>\n",
       "      <td>2</td>\n",
       "      <td>2.199151</td>\n",
       "      <td>2.098516</td>\n",
       "      <td>0.569043</td>\n",
       "      <td>8.154062</td>\n",
       "      <td>48:13</td>\n",
       "    </tr>\n",
       "    <tr>\n",
       "      <td>3</td>\n",
       "      <td>2.204254</td>\n",
       "      <td>2.098572</td>\n",
       "      <td>0.568977</td>\n",
       "      <td>8.154521</td>\n",
       "      <td>51:45</td>\n",
       "    </tr>\n",
       "    <tr>\n",
       "      <td>4</td>\n",
       "      <td>2.194751</td>\n",
       "      <td>2.098720</td>\n",
       "      <td>0.568967</td>\n",
       "      <td>8.155726</td>\n",
       "      <td>51:58</td>\n",
       "    </tr>\n",
       "    <tr>\n",
       "      <td>5</td>\n",
       "      <td>2.191622</td>\n",
       "      <td>2.098872</td>\n",
       "      <td>0.568894</td>\n",
       "      <td>8.156965</td>\n",
       "      <td>51:55</td>\n",
       "    </tr>\n",
       "    <tr>\n",
       "      <td>6</td>\n",
       "      <td>2.193636</td>\n",
       "      <td>2.099078</td>\n",
       "      <td>0.568827</td>\n",
       "      <td>8.158648</td>\n",
       "      <td>50:18</td>\n",
       "    </tr>\n",
       "    <tr>\n",
       "      <td>7</td>\n",
       "      <td>2.187115</td>\n",
       "      <td>2.099302</td>\n",
       "      <td>0.568777</td>\n",
       "      <td>8.160474</td>\n",
       "      <td>50:20</td>\n",
       "    </tr>\n",
       "    <tr>\n",
       "      <td>8</td>\n",
       "      <td>2.196913</td>\n",
       "      <td>2.099486</td>\n",
       "      <td>0.568725</td>\n",
       "      <td>8.161975</td>\n",
       "      <td>50:25</td>\n",
       "    </tr>\n",
       "    <tr>\n",
       "      <td>9</td>\n",
       "      <td>2.197563</td>\n",
       "      <td>2.099737</td>\n",
       "      <td>0.568679</td>\n",
       "      <td>8.164021</td>\n",
       "      <td>49:59</td>\n",
       "    </tr>\n",
       "    <tr>\n",
       "      <td>10</td>\n",
       "      <td>2.183141</td>\n",
       "      <td>2.099951</td>\n",
       "      <td>0.568645</td>\n",
       "      <td>8.165768</td>\n",
       "      <td>51:00</td>\n",
       "    </tr>\n",
       "    <tr>\n",
       "      <td>11</td>\n",
       "      <td>2.175887</td>\n",
       "      <td>2.100214</td>\n",
       "      <td>0.568577</td>\n",
       "      <td>8.167919</td>\n",
       "      <td>51:17</td>\n",
       "    </tr>\n",
       "    <tr>\n",
       "      <td>12</td>\n",
       "      <td>2.217652</td>\n",
       "      <td>2.100463</td>\n",
       "      <td>0.568549</td>\n",
       "      <td>8.169953</td>\n",
       "      <td>50:06</td>\n",
       "    </tr>\n",
       "    <tr>\n",
       "      <td>13</td>\n",
       "      <td>2.194447</td>\n",
       "      <td>2.100658</td>\n",
       "      <td>0.568499</td>\n",
       "      <td>8.171542</td>\n",
       "      <td>51:24</td>\n",
       "    </tr>\n",
       "    <tr>\n",
       "      <td>14</td>\n",
       "      <td>2.171607</td>\n",
       "      <td>2.100830</td>\n",
       "      <td>0.568460</td>\n",
       "      <td>8.172949</td>\n",
       "      <td>51:26</td>\n",
       "    </tr>\n",
       "    <tr>\n",
       "      <td>15</td>\n",
       "      <td>2.205480</td>\n",
       "      <td>2.101112</td>\n",
       "      <td>0.568415</td>\n",
       "      <td>8.175253</td>\n",
       "      <td>50:02</td>\n",
       "    </tr>\n",
       "    <tr>\n",
       "      <td>16</td>\n",
       "      <td>2.162616</td>\n",
       "      <td>2.101351</td>\n",
       "      <td>0.568379</td>\n",
       "      <td>8.177206</td>\n",
       "      <td>51:09</td>\n",
       "    </tr>\n",
       "    <tr>\n",
       "      <td>17</td>\n",
       "      <td>2.187285</td>\n",
       "      <td>2.101540</td>\n",
       "      <td>0.568327</td>\n",
       "      <td>8.178754</td>\n",
       "      <td>50:51</td>\n",
       "    </tr>\n",
       "    <tr>\n",
       "      <td>18</td>\n",
       "      <td>2.179309</td>\n",
       "      <td>2.101739</td>\n",
       "      <td>0.568316</td>\n",
       "      <td>8.180385</td>\n",
       "      <td>52:42</td>\n",
       "    </tr>\n",
       "    <tr>\n",
       "      <td>19</td>\n",
       "      <td>2.195740</td>\n",
       "      <td>2.101952</td>\n",
       "      <td>0.568257</td>\n",
       "      <td>8.182122</td>\n",
       "      <td>54:18</td>\n",
       "    </tr>\n",
       "  </tbody>\n",
       "</table>"
      ],
      "text/plain": [
       "<IPython.core.display.HTML object>"
      ]
     },
     "metadata": {},
     "output_type": "display_data"
    },
    {
     "name": "stdout",
     "output_type": "stream",
     "text": [
      "Better model found at epoch 0 with valid_loss value: 2.099074125289917.\n",
      "Better model found at epoch 1 with valid_loss value: 2.098635196685791.\n",
      "Better model found at epoch 2 with valid_loss value: 2.0985162258148193.\n"
     ]
    }
   ],
   "source": [
    "learn_r.fit(20, lr=1e-5, cbs=SaveModelCallback(fname='lm_r_now'))"
   ]
  },
  {
   "cell_type": "markdown",
   "id": "a01da06f-fd61-4e5d-8124-703a5a06a6a4",
   "metadata": {},
   "source": [
    "Note: Make sure if you have trained the most recent language model `Learner` for more epochs (then you need to save that version)"
   ]
  },
  {
   "cell_type": "markdown",
   "id": "7afe37a6-dad4-4802-aebf-457003b70c28",
   "metadata": {},
   "source": [
    "Here you can load the pretrained language model which `untar_xxx` downloaded:"
   ]
  },
  {
   "cell_type": "code",
   "execution_count": null,
   "id": "f4a613dc-43fc-4604-b4e5-31575bc97e3c",
   "metadata": {},
   "outputs": [],
   "source": [
    "learn = learn.load(source/'mimic3-9k_lm')"
   ]
  },
  {
   "cell_type": "code",
   "execution_count": null,
   "id": "9d138c22-76ea-4e43-919f-3b739084cf39",
   "metadata": {},
   "outputs": [],
   "source": [
    "learn_r = learn_r.load(source/'mimic3-9k_lm_r')"
   ]
  },
  {
   "cell_type": "markdown",
   "id": "dd261c86-e337-483d-b4aa-c84abed27095",
   "metadata": {},
   "source": [
    "Let's validate the `Learner` to make sure we loaded the correct version:"
   ]
  },
  {
   "cell_type": "code",
   "execution_count": null,
   "id": "6c76a133-14b9-449e-b3e7-77bad2d38778",
   "metadata": {},
   "outputs": [
    {
     "data": {
      "text/html": [
       "\n",
       "<style>\n",
       "    /* Turns off some styling */\n",
       "    progress {\n",
       "        /* gets rid of default border in Firefox and Opera. */\n",
       "        border: none;\n",
       "        /* Needs to be in here for Safari polyfill so background images work as expected. */\n",
       "        background-size: auto;\n",
       "    }\n",
       "    progress:not([value]), progress:not([value])::-webkit-progress-bar {\n",
       "        background: repeating-linear-gradient(45deg, #7e7e7e, #7e7e7e 10px, #5c5c5c 10px, #5c5c5c 20px);\n",
       "    }\n",
       "    .progress-bar-interrupted, .progress-bar-interrupted::-webkit-progress-bar {\n",
       "        background: #F44336;\n",
       "    }\n",
       "</style>\n"
      ],
      "text/plain": [
       "<IPython.core.display.HTML object>"
      ]
     },
     "metadata": {},
     "output_type": "display_data"
    },
    {
     "data": {
      "text/html": [],
      "text/plain": [
       "<IPython.core.display.HTML object>"
      ]
     },
     "metadata": {},
     "output_type": "display_data"
    },
    {
     "data": {
      "text/plain": [
       "(#3) [2.060459852218628,0.5676611661911011,7.849578857421875]"
      ]
     },
     "execution_count": null,
     "metadata": {},
     "output_type": "execute_result"
    }
   ],
   "source": [
    "learn.validate()"
   ]
  },
  {
   "cell_type": "markdown",
   "id": "9b12edff-7dde-4d25-a27c-30c968ef58f0",
   "metadata": {},
   "source": [
    "and the reverse..."
   ]
  },
  {
   "cell_type": "code",
   "execution_count": null,
   "id": "13fdaa5e-3e8b-4afc-b739-cbe8502cb34f",
   "metadata": {},
   "outputs": [
    {
     "data": {
      "text/html": [
       "\n",
       "<style>\n",
       "    /* Turns off some styling */\n",
       "    progress {\n",
       "        /* gets rid of default border in Firefox and Opera. */\n",
       "        border: none;\n",
       "        /* Needs to be in here for Safari polyfill so background images work as expected. */\n",
       "        background-size: auto;\n",
       "    }\n",
       "    progress:not([value]), progress:not([value])::-webkit-progress-bar {\n",
       "        background: repeating-linear-gradient(45deg, #7e7e7e, #7e7e7e 10px, #5c5c5c 10px, #5c5c5c 20px);\n",
       "    }\n",
       "    .progress-bar-interrupted, .progress-bar-interrupted::-webkit-progress-bar {\n",
       "        background: #F44336;\n",
       "    }\n",
       "</style>\n"
      ],
      "text/plain": [
       "<IPython.core.display.HTML object>"
      ]
     },
     "metadata": {},
     "output_type": "display_data"
    },
    {
     "data": {
      "text/html": [],
      "text/plain": [
       "<IPython.core.display.HTML object>"
      ]
     },
     "metadata": {},
     "output_type": "display_data"
    },
    {
     "data": {
      "text/plain": [
       "(#3) [2.101907968521118,0.5691556334495544,8.18176555633545]"
      ]
     },
     "execution_count": null,
     "metadata": {},
     "output_type": "execute_result"
    }
   ],
   "source": [
    "learn_r.validate()"
   ]
  },
  {
   "cell_type": "markdown",
   "id": "32da5a8e-6051-4c95-9fcd-71afd2d9180d",
   "metadata": {},
   "source": [
    "### Saving the encoder of the Language Model"
   ]
  },
  {
   "cell_type": "markdown",
   "id": "988f8a01-8cab-4b86-aba1-e471ae2d37f0",
   "metadata": {},
   "source": [
    "**Crucial:** Once we have trained our LM we will save all of our model except the final layer that converts activation to probabilities of picking each token in our vocabulary. The model not including the final layer has a sexy name - *encoder*. We will save it using `save_encoder` method of the `Learner`:"
   ]
  },
  {
   "cell_type": "code",
   "execution_count": null,
   "id": "76595155-9573-459e-8372-a89657661122",
   "metadata": {},
   "outputs": [],
   "source": [
    "# learn.save_encoder('lm_finetuned')\n",
    "# learn_r.save_encoder('lm_finetuned_r')"
   ]
  },
  {
   "cell_type": "markdown",
   "id": "3640572f-6bb0-455c-800c-824934029815",
   "metadata": {},
   "source": [
    "### Saving the decoder of the Language Model"
   ]
  },
  {
   "cell_type": "code",
   "execution_count": null,
   "id": "1ee77e9f-5948-4276-bd93-f628f2cb7a07",
   "metadata": {},
   "outputs": [],
   "source": [
    "learn.save_decoder('mimic3-9k_lm_decoder')\n",
    "learn_r.save_decoder('mimic3-9k_lm_decoder_r')"
   ]
  },
  {
   "cell_type": "markdown",
   "id": "e1c5c24d-0296-4500-b0e7-951227ce6dc4",
   "metadata": {},
   "source": [
    "This completes the second stage of the text classification process - fine-tuning the Language Model pretrained on Wikipedia corpus. We will now use it to fine-tune a text multi-label text classifier."
   ]
  },
  {
   "cell_type": "markdown",
   "id": "8a52cca7-912c-4da4-9a7a-712869660003",
   "metadata": {},
   "source": [
    "## `DataLoaders` for the MIMIC3-Full Multi-Label Classifier (using fastai's Mid-Level Data API)"
   ]
  },
  {
   "cell_type": "markdown",
   "id": "dbfebb24-dd80-4ae5-8a44-e469a274b40e",
   "metadata": {},
   "source": [
    "Fastai's midlevel data api is the swiss army knife of data preprocessing. Detailed tutorials can be found here [intermediate](https://docs.fast.ai/tutorial.pets.html), [advanced](https://docs.fast.ai/tutorial.siamese.html). We will use it here to create our dataloaders for the classifier. "
   ]
  },
  {
   "cell_type": "markdown",
   "id": "7cadd63b-272e-48f4-b2bd-abd6a0f79d80",
   "metadata": {},
   "source": [
    "### Loading Raw Data"
   ]
  },
  {
   "cell_type": "code",
   "execution_count": null,
   "id": "0457ecb8-d66a-4b4f-bff4-76eeaaf746d0",
   "metadata": {},
   "outputs": [
    {
     "name": "stdout",
     "output_type": "stream",
     "text": [
      "subject_id,hadm_id,text,labels,length,is_valid\n"
     ]
    }
   ],
   "source": [
    "data = source/'mimic3-9k.csv'\n",
    "!head -n 1 {data}"
   ]
  },
  {
   "cell_type": "code",
   "execution_count": null,
   "id": "574f199b-8ed2-43ef-8c58-d2183e2d6d64",
   "metadata": {},
   "outputs": [],
   "source": [
    "# !shuf -n 200000 {data} > {data_sample} "
   ]
  },
  {
   "cell_type": "code",
   "execution_count": null,
   "id": "7ab9994b",
   "metadata": {},
   "outputs": [],
   "source": [
    "df = pd.read_csv(data,\n",
    "                 header=0,\n",
    "                 names=['subject_id', 'hadm_id', 'text', 'labels', 'length', 'is_valid'],\n",
    "                 dtype={'subject_id': str, 'hadm_id': str, 'text': str, 'labels': str, 'length': np.int64, 'is_valid': bool})"
   ]
  },
  {
   "cell_type": "code",
   "execution_count": null,
   "id": "e4cdde99",
   "metadata": {},
   "outputs": [],
   "source": [
    "df[['text', 'labels']] = df[['text', 'labels']].astype(str)"
   ]
  },
  {
   "cell_type": "code",
   "execution_count": null,
   "id": "9d4d9e9f-c915-487d-941d-4f65b2175c94",
   "metadata": {},
   "outputs": [
    {
     "data": {
      "text/html": [
       "<div>\n",
       "<style scoped>\n",
       "    .dataframe tbody tr th:only-of-type {\n",
       "        vertical-align: middle;\n",
       "    }\n",
       "\n",
       "    .dataframe tbody tr th {\n",
       "        vertical-align: top;\n",
       "    }\n",
       "\n",
       "    .dataframe thead th {\n",
       "        text-align: right;\n",
       "    }\n",
       "</style>\n",
       "<table border=\"1\" class=\"dataframe\">\n",
       "  <thead>\n",
       "    <tr style=\"text-align: right;\">\n",
       "      <th></th>\n",
       "      <th>subject_id</th>\n",
       "      <th>hadm_id</th>\n",
       "      <th>text</th>\n",
       "      <th>labels</th>\n",
       "      <th>length</th>\n",
       "      <th>is_valid</th>\n",
       "    </tr>\n",
       "  </thead>\n",
       "  <tbody>\n",
       "    <tr>\n",
       "      <th>0</th>\n",
       "      <td>86006</td>\n",
       "      <td>111912</td>\n",
       "      <td>admission date discharge date date of birth sex f service surgery allergies patient recorded as having no known allergies to drugs attending first name3 lf chief complaint 60f on coumadin was found slightly drowsy tonight then fell down stairs paramedic found her unconscious and she was intubated w o any medication head ct shows multiple iph transferred to hospital1 for further eval major surgical or invasive procedure none past medical history her medical history is significant for hypertension osteoarthritis involving bilateral knee joints with a dependence on cane for ambulation chronic...</td>\n",
       "      <td>801.35;348.4;805.06;807.01;998.30;707.24;E880.9;427.31;414.01;401.9;V58.61;V43.64;707.00;E878.1;96.71</td>\n",
       "      <td>230</td>\n",
       "      <td>False</td>\n",
       "    </tr>\n",
       "    <tr>\n",
       "      <th>1</th>\n",
       "      <td>85950</td>\n",
       "      <td>189769</td>\n",
       "      <td>admission date discharge date service neurosurgery allergies sulfa sulfonamides attending first name3 lf chief complaint cc cc contact info major surgical or invasive procedure none history of present illness hpi 88m who lives with family had fall yesterday today had decline in mental status ems called pt was unresponsive on arrival went to osh head ct showed large r sdh pt was intubated at osh and transferred to hospital1 for further care past medical history cad s p mi in s p cabg in ventricular aneurysm at that time cath in with occluded rca unable to intervene chf reported ef 1st degre...</td>\n",
       "      <td>852.25;E888.9;403.90;585.9;250.00;414.00;V45.81;96.71</td>\n",
       "      <td>304</td>\n",
       "      <td>False</td>\n",
       "    </tr>\n",
       "    <tr>\n",
       "      <th>2</th>\n",
       "      <td>88025</td>\n",
       "      <td>180431</td>\n",
       "      <td>admission date discharge date date of birth sex f service surgery allergies no known allergies adverse drug reactions attending first name3 lf chief complaint s p fall major surgical or invasive procedure none history of present illness 45f etoh s p fall from window at feet found ambulating and slurring speech on scene intubated en route for declining mental status in the er the patient was found to be bradycardic to the s with bp of systolic she was given atropine dilantin and was started on saline past medical history unknown social history unknown family history unknown physical exam ex...</td>\n",
       "      <td>518.81;348.4;348.82;801.25;427.89;E882;V49.86;305.00;96.71;38.93</td>\n",
       "      <td>359</td>\n",
       "      <td>False</td>\n",
       "    </tr>\n",
       "  </tbody>\n",
       "</table>\n",
       "</div>"
      ],
      "text/plain": [
       "  subject_id hadm_id   \n",
       "0      86006  111912  \\\n",
       "1      85950  189769   \n",
       "2      88025  180431   \n",
       "\n",
       "                                                                                                                                                                                                                                                                                                                                                                                                                                                                                                                                                                                                                      text   \n",
       "0  admission date discharge date date of birth sex f service surgery allergies patient recorded as having no known allergies to drugs attending first name3 lf chief complaint 60f on coumadin was found slightly drowsy tonight then fell down stairs paramedic found her unconscious and she was intubated w o any medication head ct shows multiple iph transferred to hospital1 for further eval major surgical or invasive procedure none past medical history her medical history is significant for hypertension osteoarthritis involving bilateral knee joints with a dependence on cane for ambulation chronic...  \\\n",
       "1  admission date discharge date service neurosurgery allergies sulfa sulfonamides attending first name3 lf chief complaint cc cc contact info major surgical or invasive procedure none history of present illness hpi 88m who lives with family had fall yesterday today had decline in mental status ems called pt was unresponsive on arrival went to osh head ct showed large r sdh pt was intubated at osh and transferred to hospital1 for further care past medical history cad s p mi in s p cabg in ventricular aneurysm at that time cath in with occluded rca unable to intervene chf reported ef 1st degre...   \n",
       "2  admission date discharge date date of birth sex f service surgery allergies no known allergies adverse drug reactions attending first name3 lf chief complaint s p fall major surgical or invasive procedure none history of present illness 45f etoh s p fall from window at feet found ambulating and slurring speech on scene intubated en route for declining mental status in the er the patient was found to be bradycardic to the s with bp of systolic she was given atropine dilantin and was started on saline past medical history unknown social history unknown family history unknown physical exam ex...   \n",
       "\n",
       "                                                                                                  labels   \n",
       "0  801.35;348.4;805.06;807.01;998.30;707.24;E880.9;427.31;414.01;401.9;V58.61;V43.64;707.00;E878.1;96.71  \\\n",
       "1                                                  852.25;E888.9;403.90;585.9;250.00;414.00;V45.81;96.71   \n",
       "2                                       518.81;348.4;348.82;801.25;427.89;E882;V49.86;305.00;96.71;38.93   \n",
       "\n",
       "   length  is_valid  \n",
       "0     230     False  \n",
       "1     304     False  \n",
       "2     359     False  "
      ]
     },
     "execution_count": null,
     "metadata": {},
     "output_type": "execute_result"
    }
   ],
   "source": [
    "df.head(3)"
   ]
  },
  {
   "cell_type": "markdown",
   "id": "2bf53109-8887-49e0-9c95-85f65f36353e",
   "metadata": {},
   "source": [
    "Sample a small fraction of the dataset to ensure quick iteration (Skip this if you want to do this on the full dataset)"
   ]
  },
  {
   "cell_type": "code",
   "execution_count": null,
   "id": "f47678ad-0888-44c8-9398-7f6e4ec5c57a",
   "metadata": {},
   "outputs": [
    {
     "data": {
      "text/plain": [
       "52726"
      ]
     },
     "execution_count": null,
     "metadata": {},
     "output_type": "execute_result"
    }
   ],
   "source": [
    "# df = df.sample(frac=0.3, random_state=89, ignore_index=True)\n",
    "# df = df.sample(frac=0.025, random_state=89, ignore_index=True)\n",
    "# df = df.sample(frac=0.005, random_state=89, ignore_index=True)\n",
    "len(df)"
   ]
  },
  {
   "cell_type": "markdown",
   "id": "43104d70-6c0e-4883-8225-6aba29d4a67a",
   "metadata": {},
   "source": [
    "Let's now gather the labels from the 'labels' columns of the df:"
   ]
  },
  {
   "cell_type": "code",
   "execution_count": null,
   "id": "f9740030-1cec-405b-939b-845a7b92b2fd",
   "metadata": {},
   "outputs": [],
   "source": [
    "lbl_freqs = Counter()\n",
    "for labels in df.labels: lbl_freqs.update(labels.split(';'))"
   ]
  },
  {
   "cell_type": "markdown",
   "id": "eb4e5ba6-ae1a-42ea-8baf-01fcb7fffd8c",
   "metadata": {},
   "source": [
    "The total number of labels are:"
   ]
  },
  {
   "cell_type": "code",
   "execution_count": null,
   "id": "0e816938-b66f-4565-9871-e9465f712d1e",
   "metadata": {},
   "outputs": [
    {
     "data": {
      "text/plain": [
       "8922"
      ]
     },
     "execution_count": null,
     "metadata": {},
     "output_type": "execute_result"
    }
   ],
   "source": [
    "len(lbl_freqs)"
   ]
  },
  {
   "cell_type": "markdown",
   "id": "738db2eb-71dd-4433-95bd-302ad5e02f37",
   "metadata": {},
   "source": [
    "Let's take a look at the most common labels:"
   ]
  },
  {
   "cell_type": "code",
   "execution_count": null,
   "id": "3b77e405-3f4c-46d2-a73f-ebce63fa2a15",
   "metadata": {},
   "outputs": [
    {
     "data": {
      "text/html": [
       "<div>\n",
       "<style scoped>\n",
       "    .dataframe tbody tr th:only-of-type {\n",
       "        vertical-align: middle;\n",
       "    }\n",
       "\n",
       "    .dataframe tbody tr th {\n",
       "        vertical-align: top;\n",
       "    }\n",
       "\n",
       "    .dataframe thead th {\n",
       "        text-align: right;\n",
       "    }\n",
       "</style>\n",
       "<table border=\"1\" class=\"dataframe\">\n",
       "  <thead>\n",
       "    <tr style=\"text-align: right;\">\n",
       "      <th></th>\n",
       "      <th>label</th>\n",
       "      <th>frequency</th>\n",
       "    </tr>\n",
       "  </thead>\n",
       "  <tbody>\n",
       "    <tr>\n",
       "      <th>0</th>\n",
       "      <td>401.9</td>\n",
       "      <td>20053</td>\n",
       "    </tr>\n",
       "    <tr>\n",
       "      <th>1</th>\n",
       "      <td>38.93</td>\n",
       "      <td>14444</td>\n",
       "    </tr>\n",
       "    <tr>\n",
       "      <th>2</th>\n",
       "      <td>428.0</td>\n",
       "      <td>12842</td>\n",
       "    </tr>\n",
       "    <tr>\n",
       "      <th>3</th>\n",
       "      <td>427.31</td>\n",
       "      <td>12594</td>\n",
       "    </tr>\n",
       "    <tr>\n",
       "      <th>4</th>\n",
       "      <td>414.01</td>\n",
       "      <td>12179</td>\n",
       "    </tr>\n",
       "  </tbody>\n",
       "</table>\n",
       "</div>"
      ],
      "text/plain": [
       "    label  frequency\n",
       "0   401.9      20053\n",
       "1   38.93      14444\n",
       "2   428.0      12842\n",
       "3  427.31      12594\n",
       "4  414.01      12179"
      ]
     },
     "execution_count": null,
     "metadata": {},
     "output_type": "execute_result"
    }
   ],
   "source": [
    "pd.DataFrame(lbl_freqs.most_common(50), columns=['label', 'frequency']).head()"
   ]
  },
  {
   "cell_type": "markdown",
   "id": "e477b55b-d597-4f72-acab-51ba0e8b3003",
   "metadata": {},
   "source": [
    "Let's make a list of all labels (We will use it later while creating the `DataLoader`)"
   ]
  },
  {
   "cell_type": "code",
   "execution_count": null,
   "id": "08fadbd0-f498-4dae-87b4-74129b48fa6b",
   "metadata": {},
   "outputs": [],
   "source": [
    "lbls = L(lbl_freqs.most_common(50)).itemgot(0)"
   ]
  },
  {
   "cell_type": "markdown",
   "id": "201b0f93-49f4-459e-8b06-3d48529f7e7f",
   "metadata": {},
   "source": [
    "### Dataset Statistics (Optional) \n",
    "> Let's try to understand what captures the hardness of an xml dataset"
   ]
  },
  {
   "cell_type": "markdown",
   "id": "997c284f-a09f-432b-8b5f-869a1acea032",
   "metadata": {},
   "source": [
    "#### Check #1: Number of instances (train/valid split)"
   ]
  },
  {
   "cell_type": "code",
   "execution_count": null,
   "id": "b383fe50-3a03-4fc1-a2ef-d0d410f068c6",
   "metadata": {},
   "outputs": [
    {
     "data": {
      "text/plain": [
       "(49354, 3372)"
      ]
     },
     "execution_count": null,
     "metadata": {},
     "output_type": "execute_result"
    }
   ],
   "source": [
    "train, valid = df.index[~df['is_valid']], df.index[df['is_valid']]\n",
    "len(train), len(valid)"
   ]
  },
  {
   "cell_type": "markdown",
   "id": "43c326e2-984a-4ba6-a44b-d3fd1601b6cf",
   "metadata": {},
   "source": [
    "#### Check #2: Avg number of instances per label"
   ]
  },
  {
   "cell_type": "code",
   "execution_count": null,
   "id": "6d98df47-4cc2-44a4-8ee9-b9b890c22f9b",
   "metadata": {},
   "outputs": [
    {
     "data": {
      "text/plain": [
       "95.12351490697154"
      ]
     },
     "execution_count": null,
     "metadata": {},
     "output_type": "execute_result"
    }
   ],
   "source": [
    "array(list(lbl_freqs.values())).mean()"
   ]
  },
  {
   "cell_type": "markdown",
   "id": "ffa74d1c-b7dd-4ae7-832f-cef10cfdd43d",
   "metadata": {},
   "source": [
    "#### Check #3: Plotting the label distribution"
   ]
  },
  {
   "cell_type": "code",
   "execution_count": null,
   "id": "278a4b53-2032-4d54-aa87-9c54f97cd741",
   "metadata": {},
   "outputs": [],
   "source": [
    "lbl_count = []\n",
    "for lbls in df.labels: lbl_count.append(len(lbls.split(';')))"
   ]
  },
  {
   "cell_type": "code",
   "execution_count": null,
   "id": "1bb0982e-9548-4321-9d16-de6b21f8daf7",
   "metadata": {},
   "outputs": [],
   "source": [
    "df_copy = df.copy()\n",
    "df_copy['label_count'] = lbl_count"
   ]
  },
  {
   "cell_type": "code",
   "execution_count": null,
   "id": "2b00d3bf-4102-4f19-afba-1e1079e9f36d",
   "metadata": {},
   "outputs": [
    {
     "data": {
      "text/html": [
       "<div>\n",
       "<style scoped>\n",
       "    .dataframe tbody tr th:only-of-type {\n",
       "        vertical-align: middle;\n",
       "    }\n",
       "\n",
       "    .dataframe tbody tr th {\n",
       "        vertical-align: top;\n",
       "    }\n",
       "\n",
       "    .dataframe thead th {\n",
       "        text-align: right;\n",
       "    }\n",
       "</style>\n",
       "<table border=\"1\" class=\"dataframe\">\n",
       "  <thead>\n",
       "    <tr style=\"text-align: right;\">\n",
       "      <th></th>\n",
       "      <th>subject_id</th>\n",
       "      <th>hadm_id</th>\n",
       "      <th>text</th>\n",
       "      <th>labels</th>\n",
       "      <th>length</th>\n",
       "      <th>is_valid</th>\n",
       "      <th>label_count</th>\n",
       "    </tr>\n",
       "  </thead>\n",
       "  <tbody>\n",
       "    <tr>\n",
       "      <th>0</th>\n",
       "      <td>86006</td>\n",
       "      <td>111912</td>\n",
       "      <td>admission date discharge date date of birth sex f service surgery allergies patient recorded as having no known allergies to drugs attending first name3 lf chief complaint 60f on coumadin was found slightly drowsy tonight then fell down stairs paramedic found her unconscious and she was intubated w o any medication head ct shows multiple iph transferred to hospital1 for further eval major surgical or invasive procedure none past medical history her medical history is significant for hypertension osteoarthritis involving bilateral knee joints with a dependence on cane for ambulation chronic...</td>\n",
       "      <td>801.35;348.4;805.06;807.01;998.30;707.24;E880.9;427.31;414.01;401.9;V58.61;V43.64;707.00;E878.1;96.71</td>\n",
       "      <td>230</td>\n",
       "      <td>False</td>\n",
       "      <td>15</td>\n",
       "    </tr>\n",
       "    <tr>\n",
       "      <th>1</th>\n",
       "      <td>85950</td>\n",
       "      <td>189769</td>\n",
       "      <td>admission date discharge date service neurosurgery allergies sulfa sulfonamides attending first name3 lf chief complaint cc cc contact info major surgical or invasive procedure none history of present illness hpi 88m who lives with family had fall yesterday today had decline in mental status ems called pt was unresponsive on arrival went to osh head ct showed large r sdh pt was intubated at osh and transferred to hospital1 for further care past medical history cad s p mi in s p cabg in ventricular aneurysm at that time cath in with occluded rca unable to intervene chf reported ef 1st degre...</td>\n",
       "      <td>852.25;E888.9;403.90;585.9;250.00;414.00;V45.81;96.71</td>\n",
       "      <td>304</td>\n",
       "      <td>False</td>\n",
       "      <td>8</td>\n",
       "    </tr>\n",
       "  </tbody>\n",
       "</table>\n",
       "</div>"
      ],
      "text/plain": [
       "  subject_id hadm_id   \n",
       "0      86006  111912  \\\n",
       "1      85950  189769   \n",
       "\n",
       "                                                                                                                                                                                                                                                                                                                                                                                                                                                                                                                                                                                                                      text   \n",
       "0  admission date discharge date date of birth sex f service surgery allergies patient recorded as having no known allergies to drugs attending first name3 lf chief complaint 60f on coumadin was found slightly drowsy tonight then fell down stairs paramedic found her unconscious and she was intubated w o any medication head ct shows multiple iph transferred to hospital1 for further eval major surgical or invasive procedure none past medical history her medical history is significant for hypertension osteoarthritis involving bilateral knee joints with a dependence on cane for ambulation chronic...  \\\n",
       "1  admission date discharge date service neurosurgery allergies sulfa sulfonamides attending first name3 lf chief complaint cc cc contact info major surgical or invasive procedure none history of present illness hpi 88m who lives with family had fall yesterday today had decline in mental status ems called pt was unresponsive on arrival went to osh head ct showed large r sdh pt was intubated at osh and transferred to hospital1 for further care past medical history cad s p mi in s p cabg in ventricular aneurysm at that time cath in with occluded rca unable to intervene chf reported ef 1st degre...   \n",
       "\n",
       "                                                                                                  labels   \n",
       "0  801.35;348.4;805.06;807.01;998.30;707.24;E880.9;427.31;414.01;401.9;V58.61;V43.64;707.00;E878.1;96.71  \\\n",
       "1                                                  852.25;E888.9;403.90;585.9;250.00;414.00;V45.81;96.71   \n",
       "\n",
       "   length  is_valid  label_count  \n",
       "0     230     False           15  \n",
       "1     304     False            8  "
      ]
     },
     "execution_count": null,
     "metadata": {},
     "output_type": "execute_result"
    }
   ],
   "source": [
    "df_copy.head(2)"
   ]
  },
  {
   "cell_type": "markdown",
   "id": "eea29cb1-e148-49ae-9755-fc20282eba34",
   "metadata": {},
   "source": [
    "The average number of labels per instance is:"
   ]
  },
  {
   "cell_type": "code",
   "execution_count": null,
   "id": "8b26ea81-4843-4ce9-bb73-b840968b0f27",
   "metadata": {},
   "outputs": [
    {
     "data": {
      "text/plain": [
       "16.096271289306983"
      ]
     },
     "execution_count": null,
     "metadata": {},
     "output_type": "execute_result"
    }
   ],
   "source": [
    "df_copy.label_count.mean()"
   ]
  },
  {
   "cell_type": "code",
   "execution_count": null,
   "id": "b06e5fc2-8107-47e3-9d2b-7564f42c08d9",
   "metadata": {},
   "outputs": [
    {
     "name": "stderr",
     "output_type": "stream",
     "text": [
      "/tmp/ipykernel_1132/31709751.py:2: UserWarning: \n",
      "\n",
      "`distplot` is a deprecated function and will be removed in seaborn v0.14.0.\n",
      "\n",
      "Please adapt your code to use either `displot` (a figure-level function with\n",
      "similar flexibility) or `histplot` (an axes-level function for histograms).\n",
      "\n",
      "For a guide to updating your code to use the new functions, please see\n",
      "https://gist.github.com/mwaskom/de44147ed2974457ad6372750bbe5751\n",
      "\n",
      "  sns.distplot(df_copy.label_count, bins=10, color='b');\n"
     ]
    },
    {
     "data": {
      "image/png": "[encoded data removed]",
      "text/plain": [
       "<Figure size 800x400 with 1 Axes>"
      ]
     },
     "metadata": {},
     "output_type": "display_data"
    }
   ],
   "source": [
    "import seaborn as sns\n",
    "sns.distplot(df_copy.label_count, bins=10, color='b');"
   ]
  },
  {
   "cell_type": "code",
   "execution_count": null,
   "id": "ff9fbd91-d26c-450a-9728-aca6bff42128",
   "metadata": {},
   "outputs": [],
   "source": [
    "lbls_sorted = sorted(lbl_freqs.items(), key=lambda item: item[1], reverse=True)"
   ]
  },
  {
   "cell_type": "code",
   "execution_count": null,
   "id": "d85de31d-f8cf-405d-95b6-eafa7df6f0fc",
   "metadata": {},
   "outputs": [
    {
     "data": {
      "text/plain": [
       "[('401.9', 20053),\n",
       " ('38.93', 14444),\n",
       " ('428.0', 12842),\n",
       " ('427.31', 12594),\n",
       " ('414.01', 12179),\n",
       " ('96.04', 9932),\n",
       " ('96.6', 9161),\n",
       " ('584.9', 8907),\n",
       " ('250.00', 8784),\n",
       " ('96.71', 8619),\n",
       " ('272.4', 8504),\n",
       " ('518.81', 7249),\n",
       " ('99.04', 7147),\n",
       " ('39.61', 6809),\n",
       " ('599.0', 6442),\n",
       " ('530.81', 6156),\n",
       " ('96.72', 5926),\n",
       " ('272.0', 5766),\n",
       " ('285.9', 5296),\n",
       " ('88.56', 5240)]"
      ]
     },
     "execution_count": null,
     "metadata": {},
     "output_type": "execute_result"
    }
   ],
   "source": [
    "lbls_sorted[:20]"
   ]
  },
  {
   "cell_type": "code",
   "execution_count": null,
   "id": "bd338026-7583-4cba-9519-fa7ed9626996",
   "metadata": {},
   "outputs": [
    {
     "data": {
      "text/plain": [
       "((#8922) ['401.9','38.93','428.0','427.31','414.01','96.04','96.6','584.9','250.00','96.71'...],\n",
       " (#8922) [20053,14444,12842,12594,12179,9932,9161,8907,8784,8619...])"
      ]
     },
     "execution_count": null,
     "metadata": {},
     "output_type": "execute_result"
    }
   ],
   "source": [
    "ranked_lbls = L(lbls_sorted).itemgot(0)\n",
    "ranked_freqs = L(lbls_sorted).itemgot(1)\n",
    "ranked_lbls, ranked_freqs"
   ]
  },
  {
   "cell_type": "code",
   "execution_count": null,
   "id": "ca4caa8d-9494-4923-be64-d1a54311c7f5",
   "metadata": {},
   "outputs": [
    {
     "data": {
      "image/png": "[encoded data removed]",
      "text/plain": [
       "<Figure size 1000x500 with 1 Axes>"
      ]
     },
     "metadata": {},
     "output_type": "display_data"
    }
   ],
   "source": [
    "fig = plt.figure(figsize=(10,5))\n",
    "ax = fig.add_subplot(1,1,1)\n",
    "ax.plot(ranked_freqs)\n",
    "ax.set_xlabel('Code IDs ranked by frequency')\n",
    "ax.set_ylabel('Code Frequency')\n",
    "ax.set_yscale('log');\n",
    "fig.savefig('icd9_lbs_skew.pdf')"
   ]
  },
  {
   "cell_type": "markdown",
   "id": "74280a9a-d9cf-4639-afa6-6c46a9bebaca",
   "metadata": {},
   "source": [
    "#### Check #4: Computing the min label freq for each text"
   ]
  },
  {
   "cell_type": "code",
   "execution_count": null,
   "id": "52d4ede1-b78f-4d80-961d-a247aa3bc609",
   "metadata": {},
   "outputs": [
    {
     "data": {
      "text/html": [
       "<div>\n",
       "<style scoped>\n",
       "    .dataframe tbody tr th:only-of-type {\n",
       "        vertical-align: middle;\n",
       "    }\n",
       "\n",
       "    .dataframe tbody tr th {\n",
       "        vertical-align: top;\n",
       "    }\n",
       "\n",
       "    .dataframe thead th {\n",
       "        text-align: right;\n",
       "    }\n",
       "</style>\n",
       "<table border=\"1\" class=\"dataframe\">\n",
       "  <thead>\n",
       "    <tr style=\"text-align: right;\">\n",
       "      <th></th>\n",
       "      <th>text</th>\n",
       "      <th>labels</th>\n",
       "      <th>is_valid</th>\n",
       "      <th>label_count</th>\n",
       "      <th>min_code_freq</th>\n",
       "      <th>max_code_freq</th>\n",
       "      <th>90pct_code_freq</th>\n",
       "    </tr>\n",
       "  </thead>\n",
       "  <tbody>\n",
       "    <tr>\n",
       "      <th>0</th>\n",
       "      <td>Methodical Bible study: A new approach to hermeneutics /SEP/ Methodical Bible study: A new approach to hermeneutics. Inductive study compares related Bible texts in order to let the Bible interpret itself, rather than approaching Scripture with predetermined notions of what it will say.  Dr. Trainas Methodical Bible Study was not intended to be the last word in inductive Bible study; but since its first publication in 1952, it has become a foundational text in this field.  Christian colleges and seminaries have made it required reading for beginning Bible students, while many churches have...</td>\n",
       "      <td>34141,119299,126600,128716,187372,218742</td>\n",
       "      <td>False</td>\n",
       "      <td>6</td>\n",
       "      <td>2</td>\n",
       "      <td>29</td>\n",
       "      <td>25.5</td>\n",
       "    </tr>\n",
       "    <tr>\n",
       "      <th>1</th>\n",
       "      <td>Southeastern Mills Roast Beef Gravy Mix, 4.5-Ounce Packages (Pack of 24) /SEP/ Southeastern Mills Roast Beef Gravy Mix, 4.5-Ounce Packages (Pack of 24). Makes 3-1/2 cups. Down home taste. Makes hearty beef stew base.</td>\n",
       "      <td>465536,465553,615429</td>\n",
       "      <td>False</td>\n",
       "      <td>3</td>\n",
       "      <td>2</td>\n",
       "      <td>3</td>\n",
       "      <td>3.0</td>\n",
       "    </tr>\n",
       "    <tr>\n",
       "      <th>2</th>\n",
       "      <td>MMF Industries 24-Key Portable Zippered Key Case (201502417) /SEP/ MMF Industries 24-Key Portable Zippered Key Case (201502417). The MMF Industries 201502417 24-Key Portable Zippered Key Case is an attractive burgundy-colored leather-like vinyl case with brass corners and looks like a portfolio. Its easy-slide zipper keeps keys enclosed, and a hook-and-loop fastener strips keep keys securely in place. Key tags are included.\\tZippered key case offers a portable alternative to metal wall key cabinets. Included key tags are backed by hook-and-loop closures. Easy slide zipper keeps keys enclos...</td>\n",
       "      <td>393828</td>\n",
       "      <td>False</td>\n",
       "      <td>1</td>\n",
       "      <td>2</td>\n",
       "      <td>2</td>\n",
       "      <td>2.0</td>\n",
       "    </tr>\n",
       "    <tr>\n",
       "      <th>3</th>\n",
       "      <td>Hoover the Fishing President /SEP/ Hoover the Fishing President. Hal Elliott Wert has spent years researching Herbert Hoover, Franklin Roosevelt, and Harry Truman. He holds a Ph.D. from the University of Kansas and currently teaches at the Kansas City Art Institute.</td>\n",
       "      <td>167614,223686</td>\n",
       "      <td>False</td>\n",
       "      <td>2</td>\n",
       "      <td>4</td>\n",
       "      <td>4</td>\n",
       "      <td>4.0</td>\n",
       "    </tr>\n",
       "    <tr>\n",
       "      <th>4</th>\n",
       "      <td>GeoPuzzle U.S.A. and Canada - Educational Geography Jigsaw Puzzle (69 pcs) /SEP/ GeoPuzzle U.S.A. and Canada - Educational Geography Jigsaw Puzzle (69 pcs). GeoPuzzles are jigsaw puzzles that make learning world geography fun. The pieces of a GeoPuzzle are shaped like individual countries, so children learn as they put the puzzle together. Award-winning Geopuzzles help to build fine motor, cognitive, language, and problem-solving skills, and are a great introduction to world geography for children 4 and up. Designed by an art professor, jumbo sized and brightly colored GeoPuzzles are avail...</td>\n",
       "      <td>480528,480530,480532,485144,485146,598793</td>\n",
       "      <td>False</td>\n",
       "      <td>6</td>\n",
       "      <td>5</td>\n",
       "      <td>10</td>\n",
       "      <td>8.5</td>\n",
       "    </tr>\n",
       "    <tr>\n",
       "      <th>5</th>\n",
       "      <td>Amazon.com: Paul Fredrick Men's Cotton Pinpoint Oxford Straight Collar Dress Shirt: Clothing /SEP/ Amazon.com: Paul Fredrick Men's Cotton Pinpoint Oxford Straight Collar Dress Shirt: Clothing. Pinpoint Oxford Cotton. Traditional Straight Collar, 1/4 Topstitched. Button Cuffs, 1/4 Topstitched. Embedded Collar Stay. Regular, Big and Tall. Top Center Placket. Split Yoke. Single Front Rounded Pocket. Machine Wash Or Dry Clean. Imported. * Big and Tall Sizes - addl $5.00</td>\n",
       "      <td>516790,567615,670034</td>\n",
       "      <td>False</td>\n",
       "      <td>3</td>\n",
       "      <td>256</td>\n",
       "      <td>1214</td>\n",
       "      <td>1141.2</td>\n",
       "    </tr>\n",
       "    <tr>\n",
       "      <th>6</th>\n",
       "      <td>Darkest Fear : A Myron Bolitar Novel /SEP/ Darkest Fear : A Myron Bolitar Novel. Myron Bolitar's father's recent heart attack brings Myron smack into a midlife encounter with issues of adulthood and mortality. And if that's not enough to turn his life upside down, the reappearance of his first serious girlfriend is. The basketball star turned sports agent, who does a little detecting when business is slow, is saddened by the news that Emily Downing's 13-year-old son is dying and desperately needs a bone marrow transplant; even if she did leave him for the man who destroyed his basketball c...</td>\n",
       "      <td>50442,50516,50647,50672,50680,662538</td>\n",
       "      <td>False</td>\n",
       "      <td>6</td>\n",
       "      <td>2</td>\n",
       "      <td>3</td>\n",
       "      <td>2.5</td>\n",
       "    </tr>\n",
       "    <tr>\n",
       "      <th>7</th>\n",
       "      <td>In Debt We Trust (2007) /SEP/ In Debt We Trust (2007). Just a few decades ago, owing more money than you had in your  bank account was the exception, not the rule.  Yet, in the last 10 years,  consumer debt has doubled and, for the first time, Americans are spending  more than they're saving -- or making.  This April, award-winning former  ABC News and CNN producer Danny Schechter investigates America's mounting  debt crisis in his latest hard-hitting expose, IN DEBT WE TRUST.   While many Americans are \"maxing out\" on credit cards, there is a  much deeper story: power is shifting into few...</td>\n",
       "      <td>493095,499382,560691,589867,591343,611615,619231</td>\n",
       "      <td>False</td>\n",
       "      <td>7</td>\n",
       "      <td>4</td>\n",
       "      <td>50</td>\n",
       "      <td>47.0</td>\n",
       "    </tr>\n",
       "    <tr>\n",
       "      <th>8</th>\n",
       "      <td>Craftsman 9-34740 32 Piece 1/4-3/8 Drive Standard/Metric Socket Wrench Set /SEP/ Craftsman 9-34740 32 Piece 1/4-3/8 Drive Standard/Metric Socket Wrench Set. Craftsman 9-34740 32 Pc. 1/4-3/8 Drive Standard/Metric Socket Wrench Set. The Craftsman 9-34740 32 Pc. 1/4-3/8 Drive Standard/Metric Socket Wrench Set includes 1/4 Inch Drive Sockets; 8 Six-Point Standard Sockets:9-43492 7/32-Inch, 9-43496 11/32,9-43493 1/4-Inch, 9-43497 3/8-Inch, 9-43494 9/32-Inch, 9-43498 7/16-Inch,9-43495 5/16-Inch, 9-43499 1/2-Inch; 7 Six-Point Metric Sockets:9-43505 4mm, 9-43504 8mm, 9-43501 5mm, 9-43507 9mm,9-435...</td>\n",
       "      <td>590298,609038</td>\n",
       "      <td>False</td>\n",
       "      <td>2</td>\n",
       "      <td>2</td>\n",
       "      <td>2</td>\n",
       "      <td>2.0</td>\n",
       "    </tr>\n",
       "    <tr>\n",
       "      <th>9</th>\n",
       "      <td>2013 Hammer Nutrition Complex Carbohydrate Energy Gel - 12-Pack /SEP/ 2013 Hammer Nutrition Complex Carbohydrate Energy Gel - 12-Pack. Hammer Nutrition made the Complex Carbohydrate Energy Gel with natural ingredients and real fruit, so you won't have those unhealthy insulin-spike sugar highs. Instead, you get prolonged energy levels from the complex carbohydrates and amino acids in this Hammer Gel. The syrup-like consistency makes it easy to drink straight or add to your water. Unlike nutrition bars that freeze on your winter treks or melt during hot adventure races, the Complex Carbohydr...</td>\n",
       "      <td>453268,453277,510450,516828,520780,542684,634756</td>\n",
       "      <td>False</td>\n",
       "      <td>7</td>\n",
       "      <td>3</td>\n",
       "      <td>11</td>\n",
       "      <td>9.2</td>\n",
       "    </tr>\n",
       "  </tbody>\n",
       "</table>\n",
       "</div>"
      ],
      "text/plain": [
       "                                                                                                                                                                                                                                                                                                                                                                                                                                                                                                                                                                                                                      text  \\\n",
       "0  Methodical Bible study: A new approach to hermeneutics /SEP/ Methodical Bible study: A new approach to hermeneutics. Inductive study compares related Bible texts in order to let the Bible interpret itself, rather than approaching Scripture with predetermined notions of what it will say.  Dr. Trainas Methodical Bible Study was not intended to be the last word in inductive Bible study; but since its first publication in 1952, it has become a foundational text in this field.  Christian colleges and seminaries have made it required reading for beginning Bible students, while many churches have...   \n",
       "1                                                                                                                                                                                                                                                                                                                                                                                                 Southeastern Mills Roast Beef Gravy Mix, 4.5-Ounce Packages (Pack of 24) /SEP/ Southeastern Mills Roast Beef Gravy Mix, 4.5-Ounce Packages (Pack of 24). Makes 3-1/2 cups. Down home taste. Makes hearty beef stew base.   \n",
       "2  MMF Industries 24-Key Portable Zippered Key Case (201502417) /SEP/ MMF Industries 24-Key Portable Zippered Key Case (201502417). The MMF Industries 201502417 24-Key Portable Zippered Key Case is an attractive burgundy-colored leather-like vinyl case with brass corners and looks like a portfolio. Its easy-slide zipper keeps keys enclosed, and a hook-and-loop fastener strips keep keys securely in place. Key tags are included.\\tZippered key case offers a portable alternative to metal wall key cabinets. Included key tags are backed by hook-and-loop closures. Easy slide zipper keeps keys enclos...   \n",
       "3                                                                                                                                                                                                                                                                                                                                               Hoover the Fishing President /SEP/ Hoover the Fishing President. Hal Elliott Wert has spent years researching Herbert Hoover, Franklin Roosevelt, and Harry Truman. He holds a Ph.D. from the University of Kansas and currently teaches at the Kansas City Art Institute.   \n",
       "4  GeoPuzzle U.S.A. and Canada - Educational Geography Jigsaw Puzzle (69 pcs) /SEP/ GeoPuzzle U.S.A. and Canada - Educational Geography Jigsaw Puzzle (69 pcs). GeoPuzzles are jigsaw puzzles that make learning world geography fun. The pieces of a GeoPuzzle are shaped like individual countries, so children learn as they put the puzzle together. Award-winning Geopuzzles help to build fine motor, cognitive, language, and problem-solving skills, and are a great introduction to world geography for children 4 and up. Designed by an art professor, jumbo sized and brightly colored GeoPuzzles are avail...   \n",
       "5                                                                                                                                   Amazon.com: Paul Fredrick Men's Cotton Pinpoint Oxford Straight Collar Dress Shirt: Clothing /SEP/ Amazon.com: Paul Fredrick Men's Cotton Pinpoint Oxford Straight Collar Dress Shirt: Clothing. Pinpoint Oxford Cotton. Traditional Straight Collar, 1/4 Topstitched. Button Cuffs, 1/4 Topstitched. Embedded Collar Stay. Regular, Big and Tall. Top Center Placket. Split Yoke. Single Front Rounded Pocket. Machine Wash Or Dry Clean. Imported. * Big and Tall Sizes - addl $5.00   \n",
       "6  Darkest Fear : A Myron Bolitar Novel /SEP/ Darkest Fear : A Myron Bolitar Novel. Myron Bolitar's father's recent heart attack brings Myron smack into a midlife encounter with issues of adulthood and mortality. And if that's not enough to turn his life upside down, the reappearance of his first serious girlfriend is. The basketball star turned sports agent, who does a little detecting when business is slow, is saddened by the news that Emily Downing's 13-year-old son is dying and desperately needs a bone marrow transplant; even if she did leave him for the man who destroyed his basketball c...   \n",
       "7  In Debt We Trust (2007) /SEP/ In Debt We Trust (2007). Just a few decades ago, owing more money than you had in your  bank account was the exception, not the rule.  Yet, in the last 10 years,  consumer debt has doubled and, for the first time, Americans are spending  more than they're saving -- or making.  This April, award-winning former  ABC News and CNN producer Danny Schechter investigates America's mounting  debt crisis in his latest hard-hitting expose, IN DEBT WE TRUST.   While many Americans are \"maxing out\" on credit cards, there is a  much deeper story: power is shifting into few...   \n",
       "8  Craftsman 9-34740 32 Piece 1/4-3/8 Drive Standard/Metric Socket Wrench Set /SEP/ Craftsman 9-34740 32 Piece 1/4-3/8 Drive Standard/Metric Socket Wrench Set. Craftsman 9-34740 32 Pc. 1/4-3/8 Drive Standard/Metric Socket Wrench Set. The Craftsman 9-34740 32 Pc. 1/4-3/8 Drive Standard/Metric Socket Wrench Set includes 1/4 Inch Drive Sockets; 8 Six-Point Standard Sockets:9-43492 7/32-Inch, 9-43496 11/32,9-43493 1/4-Inch, 9-43497 3/8-Inch, 9-43494 9/32-Inch, 9-43498 7/16-Inch,9-43495 5/16-Inch, 9-43499 1/2-Inch; 7 Six-Point Metric Sockets:9-43505 4mm, 9-43504 8mm, 9-43501 5mm, 9-43507 9mm,9-435...   \n",
       "9  2013 Hammer Nutrition Complex Carbohydrate Energy Gel - 12-Pack /SEP/ 2013 Hammer Nutrition Complex Carbohydrate Energy Gel - 12-Pack. Hammer Nutrition made the Complex Carbohydrate Energy Gel with natural ingredients and real fruit, so you won't have those unhealthy insulin-spike sugar highs. Instead, you get prolonged energy levels from the complex carbohydrates and amino acids in this Hammer Gel. The syrup-like consistency makes it easy to drink straight or add to your water. Unlike nutrition bars that freeze on your winter treks or melt during hot adventure races, the Complex Carbohydr...   \n",
       "\n",
       "                                             labels  is_valid  label_count  \\\n",
       "0          34141,119299,126600,128716,187372,218742     False            6   \n",
       "1                              465536,465553,615429     False            3   \n",
       "2                                            393828     False            1   \n",
       "3                                     167614,223686     False            2   \n",
       "4         480528,480530,480532,485144,485146,598793     False            6   \n",
       "5                              516790,567615,670034     False            3   \n",
       "6              50442,50516,50647,50672,50680,662538     False            6   \n",
       "7  493095,499382,560691,589867,591343,611615,619231     False            7   \n",
       "8                                     590298,609038     False            2   \n",
       "9  453268,453277,510450,516828,520780,542684,634756     False            7   \n",
       "\n",
       "   min_code_freq  max_code_freq  90pct_code_freq  \n",
       "0              2             29             25.5  \n",
       "1              2              3              3.0  \n",
       "2              2              2              2.0  \n",
       "3              4              4              4.0  \n",
       "4              5             10              8.5  \n",
       "5            256           1214           1141.2  \n",
       "6              2              3              2.5  \n",
       "7              4             50             47.0  \n",
       "8              2              2              2.0  \n",
       "9              3             11              9.2  "
      ]
     },
     "execution_count": null,
     "metadata": {},
     "output_type": "execute_result"
    }
   ],
   "source": [
    "df_copy.head(10)"
   ]
  },
  {
   "cell_type": "code",
   "execution_count": null,
   "id": "63b368d8-9b78-44b7-83b1-55b9350c30c1",
   "metadata": {},
   "outputs": [],
   "source": [
    "df_copy['min_code_freq'] = df_copy.apply(\n",
    "    lambda row: min([lbl_freqs[lbl] for lbl in row.labels.split(',')]), axis=1)"
   ]
  },
  {
   "cell_type": "code",
   "execution_count": null,
   "id": "5dfda215-baea-40f5-aaa6-365cc2c12816",
   "metadata": {},
   "outputs": [],
   "source": [
    "df_copy['max_code_freq'] = df_copy.apply(\n",
    "    lambda row: max([lbl_freqs[lbl] for lbl in row.labels.split(',')]), axis=1)"
   ]
  },
  {
   "cell_type": "code",
   "execution_count": null,
   "id": "59f37236-c1b0-459e-9fa4-23ab9a520ee0",
   "metadata": {},
   "outputs": [],
   "source": [
    "df_copy['90pct_code_freq'] = df_copy.apply(\n",
    "    lambda row: np.percentile([lbl_freqs[lbl] for lbl in row.labels.split(',')], 90), axis=1)"
   ]
  },
  {
   "cell_type": "code",
   "execution_count": null,
   "id": "8f0f2290-0a71-45ab-b378-019699a02a4e",
   "metadata": {},
   "outputs": [
    {
     "data": {
      "image/png": "[encoded data removed]",
      "text/plain": [
       "<Figure size 1440x1440 with 6 Axes>"
      ]
     },
     "metadata": {
      "needs_background": "light"
     },
     "output_type": "display_data"
    }
   ],
   "source": [
    "fig, axes = plt.subplots(nrows=3, ncols=2, figsize=(20,20))\n",
    "\n",
    "for freq, axis in zip(['min_code_freq', 'max_code_freq', '90pct_code_freq'], axes):\n",
    "    df_copy[freq].hist(ax=axis[0], bins=25)\n",
    "    axis[0].set_xlabel(freq)\n",
    "    axis[0].set_ylabel('Text Count')\n",
    "    df_copy[freq].plot.density(ax=axis[1])\n",
    "    axis[1].set_xlabel(freq)\n",
    "    "
   ]
  },
  {
   "cell_type": "code",
   "execution_count": null,
   "id": "56145d70-0f65-499f-ace7-36c1a8e21b32",
   "metadata": {},
   "outputs": [],
   "source": [
    "min_code_freqs = Counter(df_copy['min_code_freq'])\n",
    "max_code_freqs = Counter(df_copy['max_code_freq'])\n",
    "nintypct_code_freqs = Counter(df_copy['90pct_code_freq'])"
   ]
  },
  {
   "cell_type": "code",
   "execution_count": null,
   "id": "edafb421-df2e-48e2-a376-b20e5830143a",
   "metadata": {},
   "outputs": [
    {
     "data": {
      "text/plain": [
       "643474"
      ]
     },
     "execution_count": null,
     "metadata": {},
     "output_type": "execute_result"
    }
   ],
   "source": [
    "total_notes = L(min_code_freqs.values()).sum()\n",
    "total_notes"
   ]
  },
  {
   "cell_type": "code",
   "execution_count": null,
   "id": "8611757d-d58d-47a5-b9d7-166b09dadb89",
   "metadata": {},
   "outputs": [],
   "source": [
    "for kmin in min_code_freqs:\n",
    "    min_code_freqs[kmin] = (min_code_freqs[kmin]/total_notes) * 100\n",
    "    \n",
    "for kmax in max_code_freqs:\n",
    "    max_code_freqs[kmax] = (max_code_freqs[kmax]/total_notes) * 100\n",
    "    \n",
    "for k90pct in nintypct_code_freqs:\n",
    "    nintypct_code_freqs[k90pct] = (nintypct_code_freqs[k90pct]/total_notes) * 100"
   ]
  },
  {
   "cell_type": "code",
   "execution_count": null,
   "id": "76c88c72-faef-4579-915d-fda715410952",
   "metadata": {},
   "outputs": [],
   "source": [
    "min_code_freqs = dict(sorted(min_code_freqs.items(), key=lambda item: item[0]))\n",
    "max_code_freqs = dict(sorted(max_code_freqs.items(), key=lambda item: item[0]))\n",
    "nintypct_code_freqs = dict(sorted(nintypct_code_freqs.items(), key=lambda item: item[0]))"
   ]
  },
  {
   "cell_type": "code",
   "execution_count": null,
   "id": "d3642c3a-3e8a-4791-83b6-61d8a2dae5cf",
   "metadata": {},
   "outputs": [
    {
     "data": {
      "image/png": "[encoded data removed]",
      "text/plain": [
       "<Figure size 1440x1440 with 6 Axes>"
      ]
     },
     "metadata": {
      "needs_background": "light"
     },
     "output_type": "display_data"
    }
   ],
   "source": [
    "fig, axes = plt.subplots(nrows=3, ncols=2, figsize=(20,20))\n",
    "\n",
    "for axis, freq_dict, label in zip(axes, (min_code_freqs, max_code_freqs, nintypct_code_freqs), ('min', 'max', '90pct')):\n",
    "    axis[0].plot(freq_dict.keys(), freq_dict.values())\n",
    "    axis[0].set_xlabel(f\"{label} label freq (f)\")\n",
    "    axis[0].set_ylabel(\"% of texts (P[f])\");\n",
    "    \n",
    "    axis[1].plot(freq_dict.keys(), np.cumsum(list(freq_dict.values())))\n",
    "    axis[1].set_xlabel(f\"{label} code freq (f)\")\n",
    "    axis[1].set_ylabel(\"P[f<=t]\");"
   ]
  },
  {
   "cell_type": "markdown",
   "id": "e11b847f-867f-4e5f-9d20-7dc0a382b74e",
   "metadata": {},
   "source": [
    "### Steps for creating the classifier `DataLoaders` using fastai's `Transforms`:"
   ]
  },
  {
   "cell_type": "markdown",
   "id": "b49bf489-dd91-4ff0-973d-10e7fa3be0de",
   "metadata": {},
   "source": [
    "#### 1. train/valid `splitter`:"
   ]
  },
  {
   "cell_type": "markdown",
   "id": "6aa36a99-519b-4620-80c8-3001e8ac2b47",
   "metadata": {},
   "source": [
    "Okay, based on the `is_valid` column of our Dataframe, let's create a splitter:"
   ]
  },
  {
   "cell_type": "code",
   "execution_count": null,
   "id": "75d5f107-0dd9-488a-97ac-44fd174b4cae",
   "metadata": {},
   "outputs": [],
   "source": [
    "def splitter(df):\n",
    "    train = df.index[~df['is_valid']].tolist()\n",
    "    valid = df.index[df['is_valid']].to_list()\n",
    "    return train, valid"
   ]
  },
  {
   "cell_type": "markdown",
   "id": "e70d2775-134e-46c7-996b-80392db74ba4",
   "metadata": {},
   "source": [
    "Let's check the train/valid split"
   ]
  },
  {
   "cell_type": "code",
   "execution_count": null,
   "id": "2ae731a4-7874-46c4-a504-926fd6c3ca4d",
   "metadata": {},
   "outputs": [
    {
     "data": {
      "text/plain": [
       "((#49354) [0,1,2,3,4,5,6,7,8,9...],\n",
       " (#3372) [1631,1632,1633,1634,1635,1636,1637,1638,1639,1640...])"
      ]
     },
     "execution_count": null,
     "metadata": {},
     "output_type": "execute_result"
    }
   ],
   "source": [
    "splits = [train, valid] = splitter(df)\n",
    "L(splits[0]), L(splits[1])"
   ]
  },
  {
   "cell_type": "markdown",
   "id": "44e72a33-f165-4cb3-805a-9a94b0965334",
   "metadata": {},
   "source": [
    "#### 2. Making the `Datasets` object:"
   ]
  },
  {
   "cell_type": "markdown",
   "id": "e6b44d71-7cd9-464e-abbf-5ffb7432dcc6",
   "metadata": {},
   "source": [
    "**Crucial:** We need the vocab of the language model so that we can make sure we use the same correspondence of token to index. Otherwise, the embeddings we learned in our fine-tuned language model won't make any sense to our classifier model, and the fine-tuning won't be of any use. So we need to pass the `lm_vocab` to the `Numericalize` transform:"
   ]
  },
  {
   "cell_type": "markdown",
   "id": "fd3c99dd-b798-461c-8737-08e4293e4015",
   "metadata": {},
   "source": [
    "So let's load the vocab of the language model:"
   ]
  },
  {
   "cell_type": "code",
   "execution_count": null,
   "id": "e98ea891-3938-4144-b905-07e7154c4593",
   "metadata": {},
   "outputs": [],
   "source": [
    "lm_vocab = torch.load(source/'mimic3-9k_dls_lm_vocab.pkl')\n",
    "lm_vocab_r = torch.load(source/'mimic3-9k_dls_lm_vocab_r.pkl')"
   ]
  },
  {
   "cell_type": "code",
   "execution_count": null,
   "id": "1082cdb8-3e15-4d4f-bc9a-ebdb5324bfa2",
   "metadata": {},
   "outputs": [
    {
     "data": {
      "text/plain": [
       "(#57376) ['xxunk','xxpad','xxbos','xxeos','xxfld','xxrep','xxwrep','xxup','xxmaj','the'...]"
      ]
     },
     "execution_count": null,
     "metadata": {},
     "output_type": "execute_result"
    }
   ],
   "source": [
    "all_equal(lm_vocab, lm_vocab_r)\n",
    "L(lm_vocab)"
   ]
  },
  {
   "cell_type": "code",
   "execution_count": null,
   "id": "74eb28bc-bd5e-423f-b339-62a7e2c7caf9",
   "metadata": {},
   "outputs": [],
   "source": [
    "x_tfms = [Tokenizer.from_df('text'), attrgetter(\"text\"), Numericalize(vocab=lm_vocab)]\n",
    "x_tfms_r = [Tokenizer.from_df('text', ), attrgetter(\"text\"), Numericalize(vocab=lm_vocab), reverse_text]\n",
    "y_tfms = [ColReader('labels', label_delim=';'), MultiCategorize(vocab=lbls), OneHotEncode()]\n",
    "tfms = [x_tfms, y_tfms]\n",
    "tfms_r = [x_tfms_r, y_tfms]"
   ]
  },
  {
   "cell_type": "code",
   "execution_count": null,
   "id": "f5f6569a-29af-40a9-945c-d8bb94f569e4",
   "metadata": {},
   "outputs": [
    {
     "data": {
      "text/html": [
       "\n",
       "<style>\n",
       "    /* Turns off some styling */\n",
       "    progress {\n",
       "        /* gets rid of default border in Firefox and Opera. */\n",
       "        border: none;\n",
       "        /* Needs to be in here for Safari polyfill so background images work as expected. */\n",
       "        background-size: auto;\n",
       "    }\n",
       "    progress:not([value]), progress:not([value])::-webkit-progress-bar {\n",
       "        background: repeating-linear-gradient(45deg, #7e7e7e, #7e7e7e 10px, #5c5c5c 10px, #5c5c5c 20px);\n",
       "    }\n",
       "    .progress-bar-interrupted, .progress-bar-interrupted::-webkit-progress-bar {\n",
       "        background: #F44336;\n",
       "    }\n",
       "</style>\n"
      ],
      "text/plain": [
       "<IPython.core.display.HTML object>"
      ]
     },
     "metadata": {},
     "output_type": "display_data"
    },
    {
     "data": {
      "text/html": [],
      "text/plain": [
       "<IPython.core.display.HTML object>"
      ]
     },
     "metadata": {},
     "output_type": "display_data"
    },
    {
     "name": "stdout",
     "output_type": "stream",
     "text": [
      "CPU times: user 17.9 s, sys: 3.27 s, total: 21.2 s\n",
      "Wall time: 2min 38s\n"
     ]
    }
   ],
   "source": [
    "%%time\n",
    "dsets = Datasets(df, tfms, splits=splits)"
   ]
  },
  {
   "cell_type": "code",
   "execution_count": null,
   "id": "ae9c7377-af18-4a5b-b4b4-56ab5eb2eb64",
   "metadata": {},
   "outputs": [
    {
     "data": {
      "text/html": [
       "\n",
       "<style>\n",
       "    /* Turns off some styling */\n",
       "    progress {\n",
       "        /* gets rid of default border in Firefox and Opera. */\n",
       "        border: none;\n",
       "        /* Needs to be in here for Safari polyfill so background images work as expected. */\n",
       "        background-size: auto;\n",
       "    }\n",
       "    progress:not([value]), progress:not([value])::-webkit-progress-bar {\n",
       "        background: repeating-linear-gradient(45deg, #7e7e7e, #7e7e7e 10px, #5c5c5c 10px, #5c5c5c 20px);\n",
       "    }\n",
       "    .progress-bar-interrupted, .progress-bar-interrupted::-webkit-progress-bar {\n",
       "        background: #F44336;\n",
       "    }\n",
       "</style>\n"
      ],
      "text/plain": [
       "<IPython.core.display.HTML object>"
      ]
     },
     "metadata": {},
     "output_type": "display_data"
    },
    {
     "data": {
      "text/html": [],
      "text/plain": [
       "<IPython.core.display.HTML object>"
      ]
     },
     "metadata": {},
     "output_type": "display_data"
    },
    {
     "name": "stdout",
     "output_type": "stream",
     "text": [
      "CPU times: user 18.2 s, sys: 4.67 s, total: 22.9 s\n",
      "Wall time: 2min 54s\n"
     ]
    }
   ],
   "source": [
    "%%time\n",
    "dsets_r = Datasets(df, tfms_r, splits=splits)"
   ]
  },
  {
   "cell_type": "markdown",
   "id": "0c59d3c2-94b6-4df7-9d86-3c951073f211",
   "metadata": {},
   "source": [
    "Let's now check if our `Datasets` got created alright:"
   ]
  },
  {
   "cell_type": "code",
   "execution_count": null,
   "id": "e44ebc4e-6176-4020-aad5-c1124e86a901",
   "metadata": {},
   "outputs": [
    {
     "data": {
      "text/plain": [
       "(49354, 3372)"
      ]
     },
     "execution_count": null,
     "metadata": {},
     "output_type": "execute_result"
    }
   ],
   "source": [
    "len(dsets.train), len(dsets.valid)"
   ]
  },
  {
   "cell_type": "markdown",
   "id": "6880fbf8-f8ca-4ab0-83b2-ffff4bd3a564",
   "metadata": {},
   "source": [
    "Let's check a random data point:"
   ]
  },
  {
   "cell_type": "code",
   "execution_count": null,
   "id": "9c4aa877-eb40-46e2-9d42-3e465918f85d",
   "metadata": {},
   "outputs": [],
   "source": [
    "idx = random.randint(0, len(dsets))\n",
    "x = dsets.train[idx]\n",
    "assert isinstance(x, tuple) # tuple if independent and dependent variable\n",
    "x_r = dsets_r.train[idx]"
   ]
  },
  {
   "cell_type": "code",
   "execution_count": null,
   "id": "5a868865-af74-4f90-81dd-d9c8edf68783",
   "metadata": {},
   "outputs": [
    {
     "data": {
      "text/plain": [
       "('xxbos admission date discharge date date of birth sex f service medicine allergies nsaids aspirin influenza virus vaccine attending first name3 lf chief complaint hypotension resp distress major surgical or invasive procedure rij placement and removal last name un gastric tube placement and removal rectal tube placement and removal picc line placement and removal history of present illness ms known lastname is a 50f with cirrhosis of unproven etiology h o perforated duodenal ulcer who has had weakness and back pain with cough and shortness of breath for days she has chronic low back pain but this is in a different location she also reports fever and chills she reports increasing weakness and fatigue over the same amount of time she is followed by vna who saw her at home and secondary to hypotension and hypoxia requested she go to ed in the ed initial vs were afebrile and o2 sat unable to be read ct of torso showed pneumonia but no abdominal pathology she was seen by surgery she was found to be significantly hypoxic and started on nrb a right ij was placed she was started on levophed after a drop in her pressures in the micu she is conversant and able to tell her story past medical history asthma does not use inhalers htn off meds for several years rheumatoid arthritis seronegative chronic severe back pain s p c sections history of secondary syphilis treated polysubstance abuse notably cocaine but no drug or alcohol use for at least past months depression pulmonary hypertension severe on cardiac cath restrictive lung disease seizures in childhood cirrhosis by liver biopsy etiology as yet unknown duodenal ulcer s p surgical repair xxunk location un in summer social history lives with boyfriend who helps in her healthcare has children past h o cocaine abuse but not current denies any etoh drug or tobacco use since cirrhosis diagnosis in month only previously smoked up to pack per wk family history noncontributory physical exam on admission t hr bp r o2 sat on nrb general alert oriented moderate respiratory distress heent sclera anicteric drymm oropharynx clear neck supple jvp not elevated no lad lungs rhonchi and crackles in bases xxrep 3 l with egophany increased xxunk cv tachy rate and rhythm normal s1 s2 no murmurs rubs gallops abdomen soft diffusely tender non distended bowel sounds present healing midline ex lap wound dehiscence on caudal end but without erythema drainage ext warm well perfused pulses no clubbing cyanosis or edema pertinent results admission labs 13pm blood wbc rbc hgb hct mcv mch mchc rdw plt ct 13pm blood neuts bands lymphs monos eos baso 13pm blood pt ptt inr pt 13pm blood plt smr high plt ct 13pm blood glucose urean creat na k cl hco3 angap 13pm blood alt ast ld ldh alkphos amylase totbili 22am blood ck mb ctropnt 42pm blood probnp numeric identifier 13pm blood albumin calcium phos mg 22am blood cortsol 28pm blood type art o2 flow po2 pco2 ph caltco2 base xs intubat not intuba vent spontaneou comment non rebrea 20pm blood lactate discharge labs 58am blood wbc rbc hgb hct mcv mch mchc rdw plt ct 58am blood plt ct 58am blood pt ptt inr pt 58am blood glucose urean creat na k cl hco3 angap 58am blood alt ast ld ldh alkphos totbili 58am blood calcium phos mg imaging ct chest abd pelvis impression no etiology for abdominal pain identified no free air is noted within the abdomen interval increase in diffuse anasarca and bilateral pleural effusions small on the right and small to moderate on the left compressive atelectasis and new bilateral lower lobe pneumonias interval improvement in the degree of mediastinal lymphadenopathy interval development of small pericardial effusion no ct findings to suggest tamponade tte the left atrium is normal in size there is mild symmetric left ventricular hypertrophy with normal cavity size and regional global systolic function lvef the estimated cardiac index is borderline low 5l min m2 tissue doppler imaging suggests a normal left ventricular filling pressure pcwp 12mmhg the right ventricular free wall is hypertrophied the right ventricular cavity is markedly dilated with severe global free wall hypokinesis there is abnormal septal motion position consistent with right ventricular pressure volume overload the aortic valve leaflets appear structurally normal with good leaflet excursion and no aortic regurgitation the mitral valve leaflets are structurally normal mild mitral regurgitation is seen the tricuspid valve leaflets are mildly thickened there is mild moderate tricuspid xxunk there is severe pulmonary artery systolic hypertension there is a small circumferential pericardial effusion without echocardiographic signs of tamponade compared with the prior study images reviewed of the overall findings are similar ct abd pelvis impression anasarca increased bilateral pleural effusions small to moderate right greater than left trace pericardial fluid increased left lower lobe collapse consolidation right basilar atelectasis has also increased new ascites no free air dilated fluid filled colon and rectum no wall thickening to suggest colitis no evidence of small bowel obstruction bilat upper extremities venous ultrasound impression non occlusive right subclavian deep vein thrombosis cta chest impression no pulmonary embolism to the subsegmental level anasarca moderate to large left and moderate right pleural effusion small pericardial effusion unchanged right ventricle and right atrium enlargement since enlarged main pulmonary artery could be due to pulmonary hypertension complete collapse of the left lower lobe pneumonia can not be ruled out right basilar atelectasis kub impression unchanged borderline distended colon no evidence of small bowel obstruction or ileus brief hospital course this is a 50f with severe pulmonary hypertension h o duodenal perf s p surgical repair cirrhosis of unknown etiology and h o polysubstance abuse who presented with septic shock secondary pneumonia with respiratory distress septic shock pneumonia fever hypotension tachycardia hypoxia leukocytosis with xxrep 3 l infiltrate initially pt was treated for both health care associated pneumonia and possible c diff infection given wbc on admission however c diff treatment was stopped after patient tested negative x3 she completed a day course of vancomycin zosyn on for pneumonia she did initially require non rebreather in the icu but for the last week prior to discharge she has had stable o2 sats to mid s on nasal cannula she did also require pressors for the first several days of this hospitalization but was successfully weaned off pressors approximately wk prior to discharge at the time of discharge she is maintaining stable bp s 100s 110s doppler due to repeated ivf boluses for hypotension during this admission the pt developed anasarca and at the time of discharge is being slowly diuresed with lasix iv daily ogilvies pseudo obstruction the pt experience abd pain and distention with radiologic evidence of dilated loops of small bowel and large bowel during this hospitalization there was never any evidence of a transition point of stricture both a rectal and ngt were placed for decompression the pts symptoms and abd exam improved during the days prior to discharge and at the time of discharge she is tolerating a regular po diet and having normal bowel movements chronic back pain the pt has a long h o chronic back pain she was treated with iv morphine here for acute on chronic back pain likely exacerbated by bed rest and ileus at discharge she was transitioned to po morphine cirrhosis the etiology of this is unknown but the pt has biopsy proven cirrhosis from liver biopsy this likely explains her baseline coagulopathy and hypoalbuminemia here she needs to have outpt f u with hepatology she has no known complications of cirrhosis at this time rue dvt the pt has a rue dvt seen on u s associated with rij cvl which was placed in house she was started on a heparin gtt which was transitioned to coumadin prior to discharge at discharge her inr is she should have follow up lab work on friday of note at discharge the pt had several healing boils on her inner upper thighs thought to be trauma from her foley rubbing against the skin no further treatment was thought to be neccessary for these medications on admission clobetasol cream apply to affected area twice a day as needed gabapentin neurontin mg tablet tablet s by mouth three times a day metoprolol tartrate mg tablet tablet s by mouth twice a day omeprazole mg capsule delayed release e c capsule delayed release e c s by mouth once a day oxycodone mg capsule capsule s by mouth q hours physical therapy dx first name9 namepattern2 location un evaluation and management of motor skills tramadol mg tablet tablet s by mouth twice a day as needed for pain trazodone mg tablet tablet s by mouth hs medications otc docusate sodium mg ml liquid teaspoon by mouth twice a day as needed magnesium oxide mg tablet tablet s by mouth twice a day discharge medications ipratropium bromide solution sig one nebulizer inhalation q6h every hours clobetasol ointment sig one appl topical hospital1 times a day lidocaine mg patch adhesive patch medicated sig one adhesive patch medicated topical qday as needed for back pain please wear on skin hrs then have hrs with patch off hemorrhoidal suppository suppository sig one suppository rectal once a day as needed for pain pantoprazole mg tablet delayed release e c sig one tablet delayed release e c po twice a day outpatient lab work please have you inr checked saturday the results should be sent to your doctor at rehab multivitamin tablet sig one tablet po once a day morphine mg ml solution sig mg po every four hours as needed for pain warfarin mg tablet sig one tablet po once daily at pm discharge disposition extended care facility hospital3 hospital discharge diagnosis healthcare associated pneumonia colonic pseudo obstruction severe pulmonary hypertension cirrhosis htn chronic back pain right upper extremity dvt discharge condition good o2 sat high s on 3l nc bp stable 100s 110s doppler patient tolerating regular diet and having bowel movements not ambulatory discharge instructions you were admitted with a pneumonia which required a stay in our icu but did not require intubation or the use of a breathing tube you did need medications for a low blood pressure for the first several days of your hospitalization while you were here you also had problems with your intestines that caused them to stop working and food to get stuck in your intestines we treated you for this and you are now able to eat and move your bowels you got a blood clot in your arm while you were here we started you on iv medication for this initially but have now transitioned you to oral anticoagulants your doctor will need to monitor the levels of this medication at rehab you will likely need to remain on this medication for months please follow up as below you need to see a hepatologist liver doctor within the next month to follow up on your diagnosis of cirrhosis your list of medications is attached please call your doctor or return to the hospital if you have fevers shortness of breath chest pain abdominal pain vomitting inability to tolerate food or liquids by mouth dizziness or any other concerning symptoms followup instructions primary care first name11 name pattern1 last name namepattern4 md phone telephone fax date time dermatology name6 md name8 md md phone telephone fax date time you need to have your blood drawn to monitor your inr or coumadin level next on saturday the doctor at the rehab with change your coumadin dose accordingly please follow up with a hepatologist liver doctor within month if you would like to make an appointment at our liver center at hospital1 the number is telephone fax please follow up with a pulmonologist about your severe pulmonary hypertension within month if you do not have a pulmonologist and would like to follow up at hospital1 the number is telephone fax completed by',\n",
       " (#18) ['401.9','38.93','493.90','785.52','995.92','070.54','276.1','038.9','486','518.82'...])"
      ]
     },
     "execution_count": null,
     "metadata": {},
     "output_type": "execute_result"
    }
   ],
   "source": [
    "dsets.decode(x)"
   ]
  },
  {
   "cell_type": "code",
   "execution_count": null,
   "id": "a6e9d8e2-d506-44cd-860b-1b6f95dcce6c",
   "metadata": {},
   "outputs": [
    {
     "name": "stdout",
     "output_type": "stream",
     "text": [
      "xxbos admission date discharge date date of birth sex f service medicine allergies nsaids aspirin influenza virus vaccine attending first name3 lf chief complaint hypotension resp distress major surgical or invasive procedure rij placement and removal last name un gastric tube placement and removal rectal tube placement and removal picc line placement and removal history of present illness ms known lastname is a 50f with cirrhosis of unproven etiology h o perforated duodenal ulcer who has had weakness and back pain with cough and shortness of breath for days she has chronic low back pain but this is in a different location she also reports fever and chills she reports increasing weakness and fatigue over the same amount of time she is followed by vna who saw her at home and secondary to hypotension and hypoxia requested she go to ed in the ed initial vs were afebrile and o2 sat unable to be read ct of torso showed pneumonia but no abdominal pathology she was seen by surgery she was found to be significantly hypoxic and started on nrb a right ij was placed she was started on levophed after a drop in her pressures in the micu she is conversant and able to tell her story past medical history asthma does not use inhalers htn off meds for several years rheumatoid arthritis seronegative chronic severe back pain s p c sections history of secondary syphilis treated polysubstance abuse notably cocaine but no drug or alcohol use for at least past months depression pulmonary hypertension severe on cardiac cath restrictive lung disease seizures in childhood cirrhosis by liver biopsy etiology as yet unknown duodenal ulcer s p surgical repair xxunk location un in summer social history lives with boyfriend who helps in her healthcare has children past h o cocaine abuse but not current denies any etoh drug or tobacco use since cirrhosis diagnosis in month only previously smoked up to pack per wk family history noncontributory physical exam on admission t hr bp r o2 sat on nrb general alert oriented moderate respiratory distress heent sclera anicteric drymm oropharynx clear neck supple jvp not elevated no lad lungs rhonchi and crackles in bases xxrep 3 l with egophany increased xxunk cv tachy rate and rhythm normal s1 s2 no murmurs rubs gallops abdomen soft diffusely tender non distended bowel sounds present healing midline ex lap wound dehiscence on caudal end but without erythema drainage ext warm well perfused pulses no clubbing cyanosis or edema pertinent results admission labs 13pm blood wbc rbc hgb hct mcv mch mchc rdw plt ct 13pm blood neuts bands lymphs monos eos baso 13pm blood pt ptt inr pt 13pm blood plt smr high plt ct 13pm blood glucose urean creat na k cl hco3 angap 13pm blood alt ast ld ldh alkphos amylase totbili 22am blood ck mb ctropnt 42pm blood probnp numeric identifier 13pm blood albumin calcium phos mg 22am blood cortsol 28pm blood type art o2 flow po2 pco2 ph caltco2 base xs intubat not intuba vent spontaneou comment non rebrea 20pm blood lactate discharge labs 58am blood wbc rbc hgb hct mcv mch mchc rdw plt ct 58am blood plt ct 58am blood pt ptt inr pt 58am blood glucose urean creat na k cl hco3 angap 58am blood alt ast ld ldh alkphos totbili 58am blood calcium phos mg imaging ct chest abd pelvis impression no etiology for abdominal pain identified no free air is noted within the abdomen interval increase in diffuse anasarca and bilateral pleural effusions small on the right and small to moderate on the left compressive atelectasis and new bilateral lower lobe pneumonias interval improvement in the degree of mediastinal lymphadenopathy interval development of small pericardial effusion no ct findings to suggest tamponade tte the left atrium is normal in size there is mild symmetric left ventricular hypertrophy with normal cavity size and regional global systolic function lvef the estimated cardiac index is borderline low 5l min m2 tissue doppler imaging suggests a normal left ventricular filling pressure pcwp 12mmhg the right ventricular free wall is hypertrophied the right ventricular cavity is markedly dilated with severe global free wall hypokinesis there is abnormal septal motion position consistent with right ventricular pressure volume overload the aortic valve leaflets appear structurally normal with good leaflet excursion and no aortic regurgitation the mitral valve leaflets are structurally normal mild mitral regurgitation is seen the tricuspid valve leaflets are mildly thickened there is mild moderate tricuspid xxunk there is severe pulmonary artery systolic hypertension there is a small circumferential pericardial effusion without echocardiographic signs of tamponade compared with the prior study images reviewed of the overall findings are similar ct abd pelvis impression anasarca increased bilateral pleural effusions small to moderate right greater than left trace pericardial fluid increased left lower lobe collapse consolidation right basilar atelectasis has also increased new ascites no free air dilated fluid filled colon and rectum no wall thickening to suggest colitis no evidence of small bowel obstruction bilat upper extremities venous ultrasound impression non occlusive right subclavian deep vein thrombosis cta chest impression no pulmonary embolism to the subsegmental level anasarca moderate to large left and moderate right pleural effusion small pericardial effusion unchanged right ventricle and right atrium enlargement since enlarged main pulmonary artery could be due to pulmonary hypertension complete collapse of the left lower lobe pneumonia can not be ruled out right basilar atelectasis kub impression unchanged borderline distended colon no evidence of small bowel obstruction or ileus brief hospital course this is a 50f with severe pulmonary hypertension h o duodenal perf s p surgical repair cirrhosis of unknown etiology and h o polysubstance abuse who presented with septic shock secondary pneumonia with respiratory distress septic shock pneumonia fever hypotension tachycardia hypoxia leukocytosis with xxrep 3 l infiltrate initially pt was treated for both health care associated pneumonia and possible c diff infection given wbc on admission however c diff treatment was stopped after patient tested negative x3 she completed a day course of vancomycin zosyn on for pneumonia she did initially require non rebreather in the icu but for the last week prior to discharge she has had stable o2 sats to mid s on nasal cannula she did also require pressors for the first several days of this hospitalization but was successfully weaned off pressors approximately wk prior to discharge at the time of discharge she is maintaining stable bp s 100s 110s doppler due to repeated ivf boluses for hypotension during this admission the pt developed anasarca and at the time of discharge is being slowly diuresed with lasix iv daily ogilvies pseudo obstruction the pt experience abd pain and distention with radiologic evidence of dilated loops of small bowel and large bowel during this hospitalization there was never any evidence of a transition point of stricture both a rectal and ngt were placed for decompression the pts symptoms and abd exam improved during the days prior to discharge and at the time of discharge she is tolerating a regular po diet and having normal bowel movements chronic back pain the pt has a long h o chronic back pain she was treated with iv morphine here for acute on chronic back pain likely exacerbated by bed rest and ileus at discharge she was transitioned to po morphine cirrhosis the etiology of this is unknown but the pt has biopsy proven cirrhosis from liver biopsy this likely explains her baseline coagulopathy and hypoalbuminemia here she needs to have outpt f u with hepatology she has no known complications of cirrhosis at this time rue dvt the pt has a rue dvt seen on u s associated with rij cvl which was placed in house she was started on a heparin gtt which was transitioned to coumadin prior to discharge at discharge her inr is she should have follow up lab work on friday of note at discharge the pt had several healing boils on her inner upper thighs thought to be trauma from her foley rubbing against the skin no further treatment was thought to be neccessary for these medications on admission clobetasol cream apply to affected area twice a day as needed gabapentin neurontin mg tablet tablet s by mouth three times a day metoprolol tartrate mg tablet tablet s by mouth twice a day omeprazole mg capsule delayed release e c capsule delayed release e c s by mouth once a day oxycodone mg capsule capsule s by mouth q hours physical therapy dx first name9 namepattern2 location un evaluation and management of motor skills tramadol mg tablet tablet s by mouth twice a day as needed for pain trazodone mg tablet tablet s by mouth hs medications otc docusate sodium mg ml liquid teaspoon by mouth twice a day as needed magnesium oxide mg tablet tablet s by mouth twice a day discharge medications ipratropium bromide solution sig one nebulizer inhalation q6h every hours clobetasol ointment sig one appl topical hospital1 times a day lidocaine mg patch adhesive patch medicated sig one adhesive patch medicated topical qday as needed for back pain please wear on skin hrs then have hrs with patch off hemorrhoidal suppository suppository sig one suppository rectal once a day as needed for pain pantoprazole mg tablet delayed release e c sig one tablet delayed release e c po twice a day outpatient lab work please have you inr checked saturday the results should be sent to your doctor at rehab multivitamin tablet sig one tablet po once a day morphine mg ml solution sig mg po every four hours as needed for pain warfarin mg tablet sig one tablet po once daily at pm discharge disposition extended care facility hospital3 hospital discharge diagnosis healthcare associated pneumonia colonic pseudo obstruction severe pulmonary hypertension cirrhosis htn chronic back pain right upper extremity dvt discharge condition good o2 sat high s on 3l nc bp stable 100s 110s doppler patient tolerating regular diet and having bowel movements not ambulatory discharge instructions you were admitted with a pneumonia which required a stay in our icu but did not require intubation or the use of a breathing tube you did need medications for a low blood pressure for the first several days of your hospitalization while you were here you also had problems with your intestines that caused them to stop working and food to get stuck in your intestines we treated you for this and you are now able to eat and move your bowels you got a blood clot in your arm while you were here we started you on iv medication for this initially but have now transitioned you to oral anticoagulants your doctor will need to monitor the levels of this medication at rehab you will likely need to remain on this medication for months please follow up as below you need to see a hepatologist liver doctor within the next month to follow up on your diagnosis of cirrhosis your list of medications is attached please call your doctor or return to the hospital if you have fevers shortness of breath chest pain abdominal pain vomitting inability to tolerate food or liquids by mouth dizziness or any other concerning symptoms followup instructions primary care first name11 name pattern1 last name namepattern4 md phone telephone fax date time dermatology name6 md name8 md md phone telephone fax date time you need to have your blood drawn to monitor your inr or coumadin level next on saturday the doctor at the rehab with change your coumadin dose accordingly please follow up with a hepatologist liver doctor within month if you would like to make an appointment at our liver center at hospital1 the number is telephone fax please follow up with a pulmonologist about your severe pulmonary hypertension within month if you do not have a pulmonologist and would like to follow up at hospital1 the number is telephone fax completed by\n",
      "401.9;38.93;493.90;785.52;995.92;070.54;276.1;038.9;486;518.82;453.8;714.0;571.5;996.74;560.1;96.07;416.0;96.09\n"
     ]
    }
   ],
   "source": [
    "dsets.show(x)"
   ]
  },
  {
   "cell_type": "code",
   "execution_count": null,
   "id": "92bf6ef3-0597-4286-975f-11673a32546d",
   "metadata": {},
   "outputs": [],
   "source": [
    "assert isinstance(dsets.tfms[0], Pipeline) # `Pipeline` of the `x_tfms`\n",
    "assert isinstance(dsets.tfms[0][0], Tokenizer)\n",
    "assert isinstance(dsets.tfms[0][1], Transform)\n",
    "assert isinstance(dsets.tfms[0][2], Numericalize)"
   ]
  },
  {
   "cell_type": "markdown",
   "id": "c03e9104-f748-4110-a20f-5350671d4428",
   "metadata": {},
   "source": [
    "If we just want to decode the one-hot encoded dependent variable:"
   ]
  },
  {
   "cell_type": "code",
   "execution_count": null,
   "id": "261768e2-7e8b-44a7-868e-e453937a52ab",
   "metadata": {},
   "outputs": [],
   "source": [
    "_ind, _dep = x\n",
    "_lbl = dsets.tfms[1].decode(_dep)\n",
    "test_eq(_lbl, array(lbls)[_dep.nonzero().flatten().int().numpy()])"
   ]
  },
  {
   "cell_type": "markdown",
   "id": "47b4856b-249a-41db-9d73-8b0924e5adcb",
   "metadata": {},
   "source": [
    "Let's extract the `MultiCategorize` transform applied by `dsets` on the dependent variable so that we can apply it ourselves:"
   ]
  },
  {
   "cell_type": "code",
   "execution_count": null,
   "id": "d844625b-9773-4a02-87f2-cd828ba17d2a",
   "metadata": {},
   "outputs": [],
   "source": [
    "tfm_cat = dsets.tfms[1][1]\n",
    "test_eq(str(tfm_cat.__class__), \"<class 'fastai.data.transforms.MultiCategorize'>\")"
   ]
  },
  {
   "cell_type": "markdown",
   "id": "afade557-6b6c-4df5-b67b-c08edf7099e8",
   "metadata": {},
   "source": [
    "`vocab` attribute of the `MultiCategorize` transform stores the category vocabulary. If it was specified from outside (in this case it was) then the `MultiCategorize` transform will not sort the vocabulary otherwise it will."
   ]
  },
  {
   "cell_type": "code",
   "execution_count": null,
   "id": "22d95f34-fcd9-4bd0-8a6e-c28b190ff2de",
   "metadata": {},
   "outputs": [],
   "source": [
    "test_eq(lbls, tfm_cat.vocab)\n",
    "test_ne(lbls, sorted(tfm_cat.vocab))"
   ]
  },
  {
   "cell_type": "code",
   "execution_count": null,
   "id": "5a92ee55-edb5-48fc-a0eb-1a80975af18d",
   "metadata": {},
   "outputs": [],
   "source": [
    "test_eq(str(_lbl.__class__), \"<class 'fastai.data.transforms.MultiCategory'>\")\n",
    "test_eq(tfm_cat(_lbl), TensorMultiCategory([lbls.index(o) for o in _lbl]))\n",
    "test_eq(tfm_cat.decode(tfm_cat(_lbl)), _lbl)"
   ]
  },
  {
   "cell_type": "markdown",
   "id": "c1248674-a710-4608-80ff-7a39f0c47aea",
   "metadata": {},
   "source": [
    "Let's check the reverse:"
   ]
  },
  {
   "cell_type": "code",
   "execution_count": null,
   "id": "c0ea9ef3-4d2a-4869-82bc-9f1059cc169a",
   "metadata": {},
   "outputs": [],
   "source": [
    "# dsets_r.decode(x_r)"
   ]
  },
  {
   "cell_type": "code",
   "execution_count": null,
   "id": "e0b95ad3-6a2e-47f3-b3a1-3e71f4e15a13",
   "metadata": {},
   "outputs": [],
   "source": [
    "# dsets_r.show(x_r)"
   ]
  },
  {
   "cell_type": "markdown",
   "id": "1e29b520-6af2-4fea-b8bc-09fbab94fb41",
   "metadata": {},
   "source": [
    "Looks pretty good!"
   ]
  },
  {
   "cell_type": "markdown",
   "id": "63192242-d27e-4ac9-bc16-67e51f2f9adc",
   "metadata": {},
   "source": [
    "#### 3. Making the `DataLoaders` object:"
   ]
  },
  {
   "cell_type": "markdown",
   "id": "f39893db-a4d7-4c8f-8ba1-9d3cc9e8f5dd",
   "metadata": {},
   "source": [
    "We need to pick the sequence length and the batch size (you might have to adjust this depending on you GPU size)"
   ]
  },
  {
   "cell_type": "code",
   "execution_count": null,
   "id": "c35799df-306f-4378-9142-5bc088696b4b",
   "metadata": {},
   "outputs": [],
   "source": [
    "bs, sl = 16, 72"
   ]
  },
  {
   "cell_type": "markdown",
   "id": "5eb22f68-6975-4218-b609-2e48ff8034a6",
   "metadata": {},
   "source": [
    "We will use the `dl_type` argument of the `DataLoaders`. The purpose is to tell `DataLoaders` to use `SortedDL` class of the `DataLoader`, and not the usual one. `SortedDL` constructs batches by putting samples of roughly the same lengths into batches."
   ]
  },
  {
   "cell_type": "code",
   "execution_count": null,
   "id": "bb267f33-0791-4e92-a6f3-af010850a4d8",
   "metadata": {},
   "outputs": [],
   "source": [
    "dl_type = partial(SortedDL, shuffle=True)"
   ]
  },
  {
   "cell_type": "markdown",
   "id": "d1fcce95-769f-4866-aed7-c4b2fd30c6e9",
   "metadata": {},
   "source": [
    "**Crucial:** \n",
    "- We will use **`pad_input_chunk`** because our encoder `AWD_LSTM` will be wrapped inside `SentenceEncoder`. \n",
    "- A `SenetenceEncoder` expects that all the documents are padded, \n",
    "- with most of the padding at the beginning of the document, with each sequence beginning at a round multiple of bptt\n",
    "- and the rest of the padding at the end."
   ]
  },
  {
   "cell_type": "code",
   "execution_count": null,
   "id": "236e0d09-1b02-464b-9c73-b667ca1cda42",
   "metadata": {},
   "outputs": [],
   "source": [
    "dls_clas = dsets.dataloaders(bs=bs, seq_len=sl, \n",
    "                             dl_type=dl_type,\n",
    "                             before_batch=pad_input_chunk)"
   ]
  },
  {
   "cell_type": "markdown",
   "id": "caab3d1c-a62b-4fd2-8363-a18fa053e90b",
   "metadata": {},
   "source": [
    "For the reverse:"
   ]
  },
  {
   "cell_type": "code",
   "execution_count": null,
   "id": "5cb67c6a-bf02-4365-8d82-965cf8d50321",
   "metadata": {},
   "outputs": [],
   "source": [
    "dls_clas_r = dsets_r.dataloaders(bs=bs, seq_len=sl,\n",
    "                                 dl_type=dl_type,\n",
    "                                 before_batch=pad_input_chunk)"
   ]
  },
  {
   "cell_type": "markdown",
   "id": "5320ded3-4b24-43d1-9984-9a64cbc0aad7",
   "metadata": {},
   "source": [
    "Creating the `DataLoaders` object takes considerable amount of time, so do save it when working on your dataset. In this though, (as always) `untar_xxx` downloaded it for you:"
   ]
  },
  {
   "cell_type": "code",
   "execution_count": null,
   "id": "39626687-d254-4903-8aaa-8de03f5fe162",
   "metadata": {},
   "outputs": [
    {
     "name": "stdout",
     "output_type": "stream",
     "text": [
      "\u001b[01;34m/home/deb/.xcube/data/mimic3\u001b[00m\n",
      "├── [192M May  1  2022]  mimic3-9k_clas.pth\n",
      "├── [758K Mar 27 17:59]  mimic3-9k_clas_full_vocab.pkl\n",
      "├── [1.6G Apr 21 18:29]  mimic3-9k_dls_clas.pkl\n",
      "├── [1.6G Apr  5 17:17]  mimic3-9k_dls_clas_old_remove_later.pkl\n",
      "├── [1.6G Apr 21 18:30]  mimic3-9k_dls_clas_r.pkl\n",
      "└── [1.6G Apr  5 17:18]  mimic3-9k_dls_clas_r_old_remove_later.pkl\n",
      "\n",
      "0 directories, 6 files\n"
     ]
    }
   ],
   "source": [
    "!tree -shLD 1 {source} -P *clas*\n",
    "# or using glob\n",
    "# L(source.glob(\"**/*clas*\"))"
   ]
  },
  {
   "cell_type": "markdown",
   "id": "dc64f99e-6109-4a71-a048-f6f2c52f6fdf",
   "metadata": {},
   "source": [
    "Aside: Some handy linux find tricks:\n",
    "1. https://stackoverflow.com/questions/18312935/find-file-in-linux-then-report-the-size-of-file-searched\n",
    "2. https://stackoverflow.com/questions/4210042/how-to-exclude-a-directory-in-find-command"
   ]
  },
  {
   "cell_type": "code",
   "execution_count": null,
   "id": "9fe278c3-d9d2-45a4-afa8-bc95decf079c",
   "metadata": {},
   "outputs": [],
   "source": [
    "# !find -path ./models -prune -o -type f -name \"*caml*\" -exec du -sh {} \\;\n",
    "# !find -not -path \"./data/*\" -type f -name \"*caml*\" -exec du -sh {} \\;\n",
    "# !find {path_data} -type f -name \"*caml*\" | xargs du -sh"
   ]
  },
  {
   "cell_type": "markdown",
   "id": "27156ee7-1b7e-4f46-9149-fb664e0c2cc6",
   "metadata": {},
   "source": [
    "If you want to load the dls for the full dataset:"
   ]
  },
  {
   "cell_type": "code",
   "execution_count": null,
   "id": "8643f59c-199c-4534-a3d5-d90eef1a716f",
   "metadata": {},
   "outputs": [
    {
     "name": "stdout",
     "output_type": "stream",
     "text": [
      "CPU times: user 13.1 s, sys: 3.16 s, total: 16.2 s\n",
      "Wall time: 16.6 s\n"
     ]
    }
   ],
   "source": [
    "%%time\n",
    "dls_clas = torch.load(source/'mimic3-9k_dls_clas.pkl')\n",
    "dls_clas_r = torch.load(source/'mimic3-9k_dls_clas_r.pkl')"
   ]
  },
  {
   "cell_type": "markdown",
   "id": "1b563fa8-d3c6-4a17-85e9-6174e7562e60",
   "metadata": {},
   "source": [
    "Let's take a look at the data:"
   ]
  },
  {
   "cell_type": "code",
   "execution_count": null,
   "id": "9f8365e5-7b0f-461f-bc21-90014c81e3b7",
   "metadata": {},
   "outputs": [],
   "source": [
    "# dls_clas.show_batch(max_n=3)"
   ]
  },
  {
   "cell_type": "code",
   "execution_count": null,
   "id": "17128d9b-3795-4864-b13b-4e519b522f60",
   "metadata": {},
   "outputs": [],
   "source": [
    "# dls_clas_r.show_batch(max_n=3)"
   ]
  },
  {
   "cell_type": "markdown",
   "id": "523b68db-eae8-4785-9e31-763c73581d1b",
   "metadata": {},
   "source": [
    "#### 4. (Optional) Making the `DataLoaders` using fastai's `DataBlock` API:"
   ]
  },
  {
   "cell_type": "markdown",
   "id": "42c225d1-9c23-48d6-8ae6-ff876c101cf6",
   "metadata": {},
   "source": [
    "It's worth mentioning here that all the steps we performed to create the `DataLoaders` can be packaged together using fastai's `DataBlock` API. "
   ]
  },
  {
   "cell_type": "code",
   "execution_count": null,
   "id": "ed9d265a-0ca3-42d8-bcb5-21e26218a521",
   "metadata": {},
   "outputs": [],
   "source": [
    "dblock = DataBlock(\n",
    "        blocks = (TextBlock.from_df('text', seq_len=sl, vocab=lm_vocab), MultiCategoryBlock(vocab=lbls)),\n",
    "        get_x = ColReader('text'),\n",
    "        get_y = ColReader('labels', label_delim=';'),\n",
    "        splitter = splitter,\n",
    "        dl_type = dl_type,\n",
    ")"
   ]
  },
  {
   "cell_type": "code",
   "execution_count": null,
   "id": "21b31b12-c296-4725-9bbe-5a4882033b20",
   "metadata": {},
   "outputs": [
    {
     "data": {
      "text/html": [
       "\n",
       "<style>\n",
       "    /* Turns off some styling */\n",
       "    progress {\n",
       "        /* gets rid of default border in Firefox and Opera. */\n",
       "        border: none;\n",
       "        /* Needs to be in here for Safari polyfill so background images work as expected. */\n",
       "        background-size: auto;\n",
       "    }\n",
       "    .progress-bar-interrupted, .progress-bar-interrupted::-webkit-progress-bar {\n",
       "        background: #F44336;\n",
       "    }\n",
       "</style>\n"
      ],
      "text/plain": [
       "<IPython.core.display.HTML object>"
      ]
     },
     "metadata": {},
     "output_type": "display_data"
    },
    {
     "data": {
      "text/html": [],
      "text/plain": [
       "<IPython.core.display.HTML object>"
      ]
     },
     "metadata": {},
     "output_type": "display_data"
    }
   ],
   "source": [
    "dls_clas = dblock.dataloaders(df, bs=bs, before_batch=pad_input_chunk)"
   ]
  },
  {
   "cell_type": "code",
   "execution_count": null,
   "id": "b7edf132-e005-427a-8d9f-5bb211686d88",
   "metadata": {},
   "outputs": [],
   "source": [
    "dls_clas.show_batch(max_n=5)"
   ]
  },
  {
   "cell_type": "markdown",
   "id": "16a0fdc5-5ae9-4d60-98b6-ee3b82fb477d",
   "metadata": {},
   "source": [
    "## `DataLoaders` for the MIMIC3-Top50 Multi-Label Classifier (using fastai's Mid-Level Data API)"
   ]
  },
  {
   "cell_type": "markdown",
   "id": "3bf7e1f4-9ced-4dd4-ba6b-be0847d18347",
   "metadata": {},
   "source": [
    "### Preprocessing"
   ]
  },
  {
   "cell_type": "code",
   "execution_count": null,
   "id": "096f5b7e-eab2-4e88-901a-1f18d165f842",
   "metadata": {},
   "outputs": [
    {
     "name": "stdout",
     "output_type": "stream",
     "text": [
      "subject_id,hadm_id,text,labels,length,is_valid\n"
     ]
    }
   ],
   "source": [
    "data = source/'mimic3-9k.csv'\n",
    "!head -n 1 {data}"
   ]
  },
  {
   "cell_type": "code",
   "execution_count": null,
   "id": "72ff4ee0-cc52-49ac-a304-dc84372f1f2f",
   "metadata": {},
   "outputs": [],
   "source": [
    "df = pd.read_csv(data,\n",
    "                 header=0,\n",
    "                 names=['subject_id', 'hadm_id', 'text', 'labels', 'length', 'is_valid'],\n",
    "                 dtype={'subject_id': str, 'hadm_id': str, 'text': str, 'labels': str, 'length': np.int64, 'is_valid': bool})"
   ]
  },
  {
   "cell_type": "code",
   "execution_count": null,
   "id": "c78808f8-036c-42d9-a9b8-539055b7a329",
   "metadata": {},
   "outputs": [],
   "source": [
    "df[['text', 'labels']] = df[['text', 'labels']].astype(str)\n",
    "df[['hadm_id']] = df[['hadm_id']].astype('int64')"
   ]
  },
  {
   "cell_type": "code",
   "execution_count": null,
   "id": "89b6fb7b-926b-424f-ab66-18ffddda5df3",
   "metadata": {},
   "outputs": [
    {
     "data": {
      "text/html": [
       "<div>\n",
       "<style scoped>\n",
       "    .dataframe tbody tr th:only-of-type {\n",
       "        vertical-align: middle;\n",
       "    }\n",
       "\n",
       "    .dataframe tbody tr th {\n",
       "        vertical-align: top;\n",
       "    }\n",
       "\n",
       "    .dataframe thead th {\n",
       "        text-align: right;\n",
       "    }\n",
       "</style>\n",
       "<table border=\"1\" class=\"dataframe\">\n",
       "  <thead>\n",
       "    <tr style=\"text-align: right;\">\n",
       "      <th></th>\n",
       "      <th>subject_id</th>\n",
       "      <th>hadm_id</th>\n",
       "      <th>text</th>\n",
       "      <th>labels</th>\n",
       "      <th>length</th>\n",
       "      <th>is_valid</th>\n",
       "    </tr>\n",
       "  </thead>\n",
       "  <tbody>\n",
       "    <tr>\n",
       "      <th>0</th>\n",
       "      <td>86006</td>\n",
       "      <td>111912</td>\n",
       "      <td>admission date discharge date date of birth sex f service surgery allergies patient recorded as having no known allergies to drugs attending first name3 lf chief complaint 60f on coumadin was found slightly drowsy tonight then fell down stairs paramedic found her unconscious and she was intubated w o any medication head ct shows multiple iph transferred to hospital1 for further eval major surgical or invasive procedure none past medical history her medical history is significant for hypertension osteoarthritis involving bilateral knee joints with a dependence on cane for ambulation chronic...</td>\n",
       "      <td>801.35;348.4;805.06;807.01;998.30;707.24;E880.9;427.31;414.01;401.9;V58.61;V43.64;707.00;E878.1;96.71</td>\n",
       "      <td>230</td>\n",
       "      <td>False</td>\n",
       "    </tr>\n",
       "    <tr>\n",
       "      <th>1</th>\n",
       "      <td>85950</td>\n",
       "      <td>189769</td>\n",
       "      <td>admission date discharge date service neurosurgery allergies sulfa sulfonamides attending first name3 lf chief complaint cc cc contact info major surgical or invasive procedure none history of present illness hpi 88m who lives with family had fall yesterday today had decline in mental status ems called pt was unresponsive on arrival went to osh head ct showed large r sdh pt was intubated at osh and transferred to hospital1 for further care past medical history cad s p mi in s p cabg in ventricular aneurysm at that time cath in with occluded rca unable to intervene chf reported ef 1st degre...</td>\n",
       "      <td>852.25;E888.9;403.90;585.9;250.00;414.00;V45.81;96.71</td>\n",
       "      <td>304</td>\n",
       "      <td>False</td>\n",
       "    </tr>\n",
       "    <tr>\n",
       "      <th>2</th>\n",
       "      <td>88025</td>\n",
       "      <td>180431</td>\n",
       "      <td>admission date discharge date date of birth sex f service surgery allergies no known allergies adverse drug reactions attending first name3 lf chief complaint s p fall major surgical or invasive procedure none history of present illness 45f etoh s p fall from window at feet found ambulating and slurring speech on scene intubated en route for declining mental status in the er the patient was found to be bradycardic to the s with bp of systolic she was given atropine dilantin and was started on saline past medical history unknown social history unknown family history unknown physical exam ex...</td>\n",
       "      <td>518.81;348.4;348.82;801.25;427.89;E882;V49.86;305.00;96.71;38.93</td>\n",
       "      <td>359</td>\n",
       "      <td>False</td>\n",
       "    </tr>\n",
       "  </tbody>\n",
       "</table>\n",
       "</div>"
      ],
      "text/plain": [
       "  subject_id  hadm_id   \n",
       "0      86006   111912  \\\n",
       "1      85950   189769   \n",
       "2      88025   180431   \n",
       "\n",
       "                                                                                                                                                                                                                                                                                                                                                                                                                                                                                                                                                                                                                      text   \n",
       "0  admission date discharge date date of birth sex f service surgery allergies patient recorded as having no known allergies to drugs attending first name3 lf chief complaint 60f on coumadin was found slightly drowsy tonight then fell down stairs paramedic found her unconscious and she was intubated w o any medication head ct shows multiple iph transferred to hospital1 for further eval major surgical or invasive procedure none past medical history her medical history is significant for hypertension osteoarthritis involving bilateral knee joints with a dependence on cane for ambulation chronic...  \\\n",
       "1  admission date discharge date service neurosurgery allergies sulfa sulfonamides attending first name3 lf chief complaint cc cc contact info major surgical or invasive procedure none history of present illness hpi 88m who lives with family had fall yesterday today had decline in mental status ems called pt was unresponsive on arrival went to osh head ct showed large r sdh pt was intubated at osh and transferred to hospital1 for further care past medical history cad s p mi in s p cabg in ventricular aneurysm at that time cath in with occluded rca unable to intervene chf reported ef 1st degre...   \n",
       "2  admission date discharge date date of birth sex f service surgery allergies no known allergies adverse drug reactions attending first name3 lf chief complaint s p fall major surgical or invasive procedure none history of present illness 45f etoh s p fall from window at feet found ambulating and slurring speech on scene intubated en route for declining mental status in the er the patient was found to be bradycardic to the s with bp of systolic she was given atropine dilantin and was started on saline past medical history unknown social history unknown family history unknown physical exam ex...   \n",
       "\n",
       "                                                                                                  labels   \n",
       "0  801.35;348.4;805.06;807.01;998.30;707.24;E880.9;427.31;414.01;401.9;V58.61;V43.64;707.00;E878.1;96.71  \\\n",
       "1                                                  852.25;E888.9;403.90;585.9;250.00;414.00;V45.81;96.71   \n",
       "2                                       518.81;348.4;348.82;801.25;427.89;E882;V49.86;305.00;96.71;38.93   \n",
       "\n",
       "   length  is_valid  \n",
       "0     230     False  \n",
       "1     304     False  \n",
       "2     359     False  "
      ]
     },
     "execution_count": null,
     "metadata": {},
     "output_type": "execute_result"
    }
   ],
   "source": [
    "df.head(3)"
   ]
  },
  {
   "cell_type": "markdown",
   "id": "b7b8562d-0feb-4ad9-b368-ea33bd3f9219",
   "metadata": {},
   "source": [
    "Let's now gather the labels from the 'labels' columns of the df:"
   ]
  },
  {
   "cell_type": "code",
   "execution_count": null,
   "id": "86156fa7",
   "metadata": {},
   "outputs": [],
   "source": [
    "lbl_freqs = Counter()\n",
    "for labels in df.labels: lbl_freqs.update(labels.split(';'))"
   ]
  },
  {
   "cell_type": "markdown",
   "id": "a3afc446-f0d0-491a-bad9-bf4802200a07",
   "metadata": {},
   "source": [
    "The total number of labels are:"
   ]
  },
  {
   "cell_type": "code",
   "execution_count": null,
   "id": "1b9cbf09",
   "metadata": {},
   "outputs": [
    {
     "data": {
      "text/plain": [
       "8922"
      ]
     },
     "execution_count": null,
     "metadata": {},
     "output_type": "execute_result"
    }
   ],
   "source": [
    "len(lbl_freqs)"
   ]
  },
  {
   "cell_type": "markdown",
   "id": "97a42eb9-0b30-4767-b524-f86b680b947c",
   "metadata": {},
   "source": [
    "Let's take a look at the top50 most common labels:"
   ]
  },
  {
   "cell_type": "code",
   "execution_count": null,
   "id": "2130668f",
   "metadata": {},
   "outputs": [
    {
     "data": {
      "text/html": [
       "<div>\n",
       "<style scoped>\n",
       "    .dataframe tbody tr th:only-of-type {\n",
       "        vertical-align: middle;\n",
       "    }\n",
       "\n",
       "    .dataframe tbody tr th {\n",
       "        vertical-align: top;\n",
       "    }\n",
       "\n",
       "    .dataframe thead th {\n",
       "        text-align: right;\n",
       "    }\n",
       "</style>\n",
       "<table border=\"1\" class=\"dataframe\">\n",
       "  <thead>\n",
       "    <tr style=\"text-align: right;\">\n",
       "      <th></th>\n",
       "      <th>label</th>\n",
       "      <th>frequency</th>\n",
       "    </tr>\n",
       "  </thead>\n",
       "  <tbody>\n",
       "    <tr>\n",
       "      <th>0</th>\n",
       "      <td>401.9</td>\n",
       "      <td>20053</td>\n",
       "    </tr>\n",
       "    <tr>\n",
       "      <th>1</th>\n",
       "      <td>38.93</td>\n",
       "      <td>14444</td>\n",
       "    </tr>\n",
       "    <tr>\n",
       "      <th>2</th>\n",
       "      <td>428.0</td>\n",
       "      <td>12842</td>\n",
       "    </tr>\n",
       "    <tr>\n",
       "      <th>3</th>\n",
       "      <td>427.31</td>\n",
       "      <td>12594</td>\n",
       "    </tr>\n",
       "    <tr>\n",
       "      <th>4</th>\n",
       "      <td>414.01</td>\n",
       "      <td>12179</td>\n",
       "    </tr>\n",
       "  </tbody>\n",
       "</table>\n",
       "</div>"
      ],
      "text/plain": [
       "    label  frequency\n",
       "0   401.9      20053\n",
       "1   38.93      14444\n",
       "2   428.0      12842\n",
       "3  427.31      12594\n",
       "4  414.01      12179"
      ]
     },
     "execution_count": null,
     "metadata": {},
     "output_type": "execute_result"
    }
   ],
   "source": [
    "pd.DataFrame(lbl_freqs.most_common(50), columns=['label', 'frequency']).head()"
   ]
  },
  {
   "cell_type": "markdown",
   "id": "9bd45945-32ae-43e5-b0e8-20364cc21af9",
   "metadata": {},
   "source": [
    "Let's make a list of all the top 50 labels (We will use it later while creating the `DataLoader`)"
   ]
  },
  {
   "cell_type": "code",
   "execution_count": null,
   "id": "b4301e74",
   "metadata": {},
   "outputs": [],
   "source": [
    "lbls = L(lbl_freqs.most_common(50)).itemgot(0)"
   ]
  },
  {
   "cell_type": "markdown",
   "id": "b96b8017-ed87-47af-b915-85ebebd491ae",
   "metadata": {},
   "source": [
    "Let's create another dataframe where texts only top50 labels survive: "
   ]
  },
  {
   "cell_type": "code",
   "execution_count": null,
   "id": "8afc0137-b387-42aa-8ddf-1b6803b8b7f2",
   "metadata": {},
   "outputs": [],
   "source": [
    "df_copy = df.copy(deep=True)"
   ]
  },
  {
   "cell_type": "code",
   "execution_count": null,
   "id": "fc4c1f53-eb8a-4a59-bb98-c6253e7a5be4",
   "metadata": {},
   "outputs": [],
   "source": [
    "df_copy['labels'] = df_copy['labels'].str.split(';').apply(lambda o: ';'.join(set(o).intersection(set(lbls))))"
   ]
  },
  {
   "cell_type": "code",
   "execution_count": null,
   "id": "cd7bfd92-5f3a-4e18-9853-a7a6d68c879c",
   "metadata": {},
   "outputs": [
    {
     "data": {
      "text/html": [
       "<div>\n",
       "<style scoped>\n",
       "    .dataframe tbody tr th:only-of-type {\n",
       "        vertical-align: middle;\n",
       "    }\n",
       "\n",
       "    .dataframe tbody tr th {\n",
       "        vertical-align: top;\n",
       "    }\n",
       "\n",
       "    .dataframe thead th {\n",
       "        text-align: right;\n",
       "    }\n",
       "</style>\n",
       "<table border=\"1\" class=\"dataframe\">\n",
       "  <thead>\n",
       "    <tr style=\"text-align: right;\">\n",
       "      <th></th>\n",
       "      <th>subject_id</th>\n",
       "      <th>hadm_id</th>\n",
       "      <th>text</th>\n",
       "      <th>labels</th>\n",
       "      <th>length</th>\n",
       "      <th>is_valid</th>\n",
       "    </tr>\n",
       "  </thead>\n",
       "  <tbody>\n",
       "    <tr>\n",
       "      <th>0</th>\n",
       "      <td>86006</td>\n",
       "      <td>111912</td>\n",
       "      <td>admission date discharge date date of birth sex f service surgery allergies patient recorded as having no known allergies to drugs attending first name3 lf chief complaint 60f on coumadin was found slightly drowsy tonight then fell down stairs paramedic found her unconscious and she was intubated w o any medication head ct shows multiple iph transferred to hospital1 for further eval major surgical or invasive procedure none past medical history her medical history is significant for hypertension osteoarthritis involving bilateral knee joints with a dependence on cane for ambulation chronic...</td>\n",
       "      <td>414.01;96.71;427.31;401.9;V58.61</td>\n",
       "      <td>230</td>\n",
       "      <td>False</td>\n",
       "    </tr>\n",
       "    <tr>\n",
       "      <th>1</th>\n",
       "      <td>85950</td>\n",
       "      <td>189769</td>\n",
       "      <td>admission date discharge date service neurosurgery allergies sulfa sulfonamides attending first name3 lf chief complaint cc cc contact info major surgical or invasive procedure none history of present illness hpi 88m who lives with family had fall yesterday today had decline in mental status ems called pt was unresponsive on arrival went to osh head ct showed large r sdh pt was intubated at osh and transferred to hospital1 for further care past medical history cad s p mi in s p cabg in ventricular aneurysm at that time cath in with occluded rca unable to intervene chf reported ef 1st degre...</td>\n",
       "      <td>V45.81;403.90;585.9;96.71;250.00</td>\n",
       "      <td>304</td>\n",
       "      <td>False</td>\n",
       "    </tr>\n",
       "    <tr>\n",
       "      <th>2</th>\n",
       "      <td>88025</td>\n",
       "      <td>180431</td>\n",
       "      <td>admission date discharge date date of birth sex f service surgery allergies no known allergies adverse drug reactions attending first name3 lf chief complaint s p fall major surgical or invasive procedure none history of present illness 45f etoh s p fall from window at feet found ambulating and slurring speech on scene intubated en route for declining mental status in the er the patient was found to be bradycardic to the s with bp of systolic she was given atropine dilantin and was started on saline past medical history unknown social history unknown family history unknown physical exam ex...</td>\n",
       "      <td>96.71;38.93;518.81</td>\n",
       "      <td>359</td>\n",
       "      <td>False</td>\n",
       "    </tr>\n",
       "    <tr>\n",
       "      <th>3</th>\n",
       "      <td>83776</td>\n",
       "      <td>152868</td>\n",
       "      <td>admission date discharge date date of birth sex m service neurosurgery allergies no known allergies adverse drug reactions attending first name3 lf chief complaint l hypertensive hemorrhagic stroke major surgical or invasive procedure history of present illness this is a year old man found down by his wife next to a bottle of whiskey he was brought to hospital hospital and noted to have a r facial droop and r weakness he was intubated at the outside hospital for airway protection and a cth revealed a l basal ganglia iph with midline shift he was transferred to hospital1 for neurosurgical e...</td>\n",
       "      <td>96.71;518.81;272.4;401.9</td>\n",
       "      <td>408</td>\n",
       "      <td>False</td>\n",
       "    </tr>\n",
       "    <tr>\n",
       "      <th>4</th>\n",
       "      <td>85055</td>\n",
       "      <td>169373</td>\n",
       "      <td>admission date discharge date date of birth sex m service surgery allergies no drug allergy information on file attending first name3 lf chief complaint gun shot wound major surgical or invasive procedure placement of bilateral thoracostomy tubes left thoracotomy exploratory laparotomy left diaphragm repair left upper lobe lung resection washout of left wrist repair of right common iliac vein laceration history of present illness pt is y o m who presented to hospital1 via location un s p gun shot wound to chest and abdomen pt unresponsive at scene and intubated prior to arrival past medica...</td>\n",
       "      <td>96.71;99.04</td>\n",
       "      <td>409</td>\n",
       "      <td>False</td>\n",
       "    </tr>\n",
       "  </tbody>\n",
       "</table>\n",
       "</div>"
      ],
      "text/plain": [
       "  subject_id  hadm_id   \n",
       "0      86006   111912  \\\n",
       "1      85950   189769   \n",
       "2      88025   180431   \n",
       "3      83776   152868   \n",
       "4      85055   169373   \n",
       "\n",
       "                                                                                                                                                                                                                                                                                                                                                                                                                                                                                                                                                                                                                      text   \n",
       "0  admission date discharge date date of birth sex f service surgery allergies patient recorded as having no known allergies to drugs attending first name3 lf chief complaint 60f on coumadin was found slightly drowsy tonight then fell down stairs paramedic found her unconscious and she was intubated w o any medication head ct shows multiple iph transferred to hospital1 for further eval major surgical or invasive procedure none past medical history her medical history is significant for hypertension osteoarthritis involving bilateral knee joints with a dependence on cane for ambulation chronic...  \\\n",
       "1  admission date discharge date service neurosurgery allergies sulfa sulfonamides attending first name3 lf chief complaint cc cc contact info major surgical or invasive procedure none history of present illness hpi 88m who lives with family had fall yesterday today had decline in mental status ems called pt was unresponsive on arrival went to osh head ct showed large r sdh pt was intubated at osh and transferred to hospital1 for further care past medical history cad s p mi in s p cabg in ventricular aneurysm at that time cath in with occluded rca unable to intervene chf reported ef 1st degre...   \n",
       "2  admission date discharge date date of birth sex f service surgery allergies no known allergies adverse drug reactions attending first name3 lf chief complaint s p fall major surgical or invasive procedure none history of present illness 45f etoh s p fall from window at feet found ambulating and slurring speech on scene intubated en route for declining mental status in the er the patient was found to be bradycardic to the s with bp of systolic she was given atropine dilantin and was started on saline past medical history unknown social history unknown family history unknown physical exam ex...   \n",
       "3  admission date discharge date date of birth sex m service neurosurgery allergies no known allergies adverse drug reactions attending first name3 lf chief complaint l hypertensive hemorrhagic stroke major surgical or invasive procedure history of present illness this is a year old man found down by his wife next to a bottle of whiskey he was brought to hospital hospital and noted to have a r facial droop and r weakness he was intubated at the outside hospital for airway protection and a cth revealed a l basal ganglia iph with midline shift he was transferred to hospital1 for neurosurgical e...   \n",
       "4  admission date discharge date date of birth sex m service surgery allergies no drug allergy information on file attending first name3 lf chief complaint gun shot wound major surgical or invasive procedure placement of bilateral thoracostomy tubes left thoracotomy exploratory laparotomy left diaphragm repair left upper lobe lung resection washout of left wrist repair of right common iliac vein laceration history of present illness pt is y o m who presented to hospital1 via location un s p gun shot wound to chest and abdomen pt unresponsive at scene and intubated prior to arrival past medica...   \n",
       "\n",
       "                             labels  length  is_valid  \n",
       "0  414.01;96.71;427.31;401.9;V58.61     230     False  \n",
       "1  V45.81;403.90;585.9;96.71;250.00     304     False  \n",
       "2                96.71;38.93;518.81     359     False  \n",
       "3          96.71;518.81;272.4;401.9     408     False  \n",
       "4                       96.71;99.04     409     False  "
      ]
     },
     "execution_count": null,
     "metadata": {},
     "output_type": "execute_result"
    }
   ],
   "source": [
    "df_copy.head()"
   ]
  },
  {
   "cell_type": "code",
   "execution_count": null,
   "id": "e995d8ae-0a86-4088-bf23-3aebab0cbc2a",
   "metadata": {},
   "outputs": [
    {
     "data": {
      "text/plain": [
       "3312"
      ]
     },
     "execution_count": null,
     "metadata": {},
     "output_type": "execute_result"
    }
   ],
   "source": [
    "(df_copy['labels'] == '').sum()"
   ]
  },
  {
   "cell_type": "code",
   "execution_count": null,
   "id": "3a686969-91ab-4d0e-aa28-513533682399",
   "metadata": {},
   "outputs": [],
   "source": [
    "df_copy = df_copy[df_copy['labels'] != '']"
   ]
  },
  {
   "cell_type": "code",
   "execution_count": null,
   "id": "55d0221b-1148-45f8-977b-227427af9f54",
   "metadata": {},
   "outputs": [
    {
     "data": {
      "text/html": [
       "<div>\n",
       "<style scoped>\n",
       "    .dataframe tbody tr th:only-of-type {\n",
       "        vertical-align: middle;\n",
       "    }\n",
       "\n",
       "    .dataframe tbody tr th {\n",
       "        vertical-align: top;\n",
       "    }\n",
       "\n",
       "    .dataframe thead th {\n",
       "        text-align: right;\n",
       "    }\n",
       "</style>\n",
       "<table border=\"1\" class=\"dataframe\">\n",
       "  <thead>\n",
       "    <tr style=\"text-align: right;\">\n",
       "      <th></th>\n",
       "      <th>subject_id</th>\n",
       "      <th>hadm_id</th>\n",
       "      <th>text</th>\n",
       "      <th>labels</th>\n",
       "      <th>length</th>\n",
       "      <th>is_valid</th>\n",
       "    </tr>\n",
       "  </thead>\n",
       "  <tbody>\n",
       "    <tr>\n",
       "      <th>0</th>\n",
       "      <td>86006</td>\n",
       "      <td>111912</td>\n",
       "      <td>admission date discharge date date of birth sex f service surgery allergies patient recorded as having no known allergies to drugs attending first name3 lf chief complaint 60f on coumadin was found slightly drowsy tonight then fell down stairs paramedic found her unconscious and she was intubated w o any medication head ct shows multiple iph transferred to hospital1 for further eval major surgical or invasive procedure none past medical history her medical history is significant for hypertension osteoarthritis involving bilateral knee joints with a dependence on cane for ambulation chronic...</td>\n",
       "      <td>414.01;96.71;427.31;401.9;V58.61</td>\n",
       "      <td>230</td>\n",
       "      <td>False</td>\n",
       "    </tr>\n",
       "    <tr>\n",
       "      <th>1</th>\n",
       "      <td>85950</td>\n",
       "      <td>189769</td>\n",
       "      <td>admission date discharge date service neurosurgery allergies sulfa sulfonamides attending first name3 lf chief complaint cc cc contact info major surgical or invasive procedure none history of present illness hpi 88m who lives with family had fall yesterday today had decline in mental status ems called pt was unresponsive on arrival went to osh head ct showed large r sdh pt was intubated at osh and transferred to hospital1 for further care past medical history cad s p mi in s p cabg in ventricular aneurysm at that time cath in with occluded rca unable to intervene chf reported ef 1st degre...</td>\n",
       "      <td>V45.81;403.90;585.9;96.71;250.00</td>\n",
       "      <td>304</td>\n",
       "      <td>False</td>\n",
       "    </tr>\n",
       "    <tr>\n",
       "      <th>2</th>\n",
       "      <td>88025</td>\n",
       "      <td>180431</td>\n",
       "      <td>admission date discharge date date of birth sex f service surgery allergies no known allergies adverse drug reactions attending first name3 lf chief complaint s p fall major surgical or invasive procedure none history of present illness 45f etoh s p fall from window at feet found ambulating and slurring speech on scene intubated en route for declining mental status in the er the patient was found to be bradycardic to the s with bp of systolic she was given atropine dilantin and was started on saline past medical history unknown social history unknown family history unknown physical exam ex...</td>\n",
       "      <td>96.71;38.93;518.81</td>\n",
       "      <td>359</td>\n",
       "      <td>False</td>\n",
       "    </tr>\n",
       "    <tr>\n",
       "      <th>3</th>\n",
       "      <td>83776</td>\n",
       "      <td>152868</td>\n",
       "      <td>admission date discharge date date of birth sex m service neurosurgery allergies no known allergies adverse drug reactions attending first name3 lf chief complaint l hypertensive hemorrhagic stroke major surgical or invasive procedure history of present illness this is a year old man found down by his wife next to a bottle of whiskey he was brought to hospital hospital and noted to have a r facial droop and r weakness he was intubated at the outside hospital for airway protection and a cth revealed a l basal ganglia iph with midline shift he was transferred to hospital1 for neurosurgical e...</td>\n",
       "      <td>96.71;518.81;272.4;401.9</td>\n",
       "      <td>408</td>\n",
       "      <td>False</td>\n",
       "    </tr>\n",
       "    <tr>\n",
       "      <th>4</th>\n",
       "      <td>85055</td>\n",
       "      <td>169373</td>\n",
       "      <td>admission date discharge date date of birth sex m service surgery allergies no drug allergy information on file attending first name3 lf chief complaint gun shot wound major surgical or invasive procedure placement of bilateral thoracostomy tubes left thoracotomy exploratory laparotomy left diaphragm repair left upper lobe lung resection washout of left wrist repair of right common iliac vein laceration history of present illness pt is y o m who presented to hospital1 via location un s p gun shot wound to chest and abdomen pt unresponsive at scene and intubated prior to arrival past medica...</td>\n",
       "      <td>96.71;99.04</td>\n",
       "      <td>409</td>\n",
       "      <td>False</td>\n",
       "    </tr>\n",
       "  </tbody>\n",
       "</table>\n",
       "</div>"
      ],
      "text/plain": [
       "  subject_id  hadm_id   \n",
       "0      86006   111912  \\\n",
       "1      85950   189769   \n",
       "2      88025   180431   \n",
       "3      83776   152868   \n",
       "4      85055   169373   \n",
       "\n",
       "                                                                                                                                                                                                                                                                                                                                                                                                                                                                                                                                                                                                                      text   \n",
       "0  admission date discharge date date of birth sex f service surgery allergies patient recorded as having no known allergies to drugs attending first name3 lf chief complaint 60f on coumadin was found slightly drowsy tonight then fell down stairs paramedic found her unconscious and she was intubated w o any medication head ct shows multiple iph transferred to hospital1 for further eval major surgical or invasive procedure none past medical history her medical history is significant for hypertension osteoarthritis involving bilateral knee joints with a dependence on cane for ambulation chronic...  \\\n",
       "1  admission date discharge date service neurosurgery allergies sulfa sulfonamides attending first name3 lf chief complaint cc cc contact info major surgical or invasive procedure none history of present illness hpi 88m who lives with family had fall yesterday today had decline in mental status ems called pt was unresponsive on arrival went to osh head ct showed large r sdh pt was intubated at osh and transferred to hospital1 for further care past medical history cad s p mi in s p cabg in ventricular aneurysm at that time cath in with occluded rca unable to intervene chf reported ef 1st degre...   \n",
       "2  admission date discharge date date of birth sex f service surgery allergies no known allergies adverse drug reactions attending first name3 lf chief complaint s p fall major surgical or invasive procedure none history of present illness 45f etoh s p fall from window at feet found ambulating and slurring speech on scene intubated en route for declining mental status in the er the patient was found to be bradycardic to the s with bp of systolic she was given atropine dilantin and was started on saline past medical history unknown social history unknown family history unknown physical exam ex...   \n",
       "3  admission date discharge date date of birth sex m service neurosurgery allergies no known allergies adverse drug reactions attending first name3 lf chief complaint l hypertensive hemorrhagic stroke major surgical or invasive procedure history of present illness this is a year old man found down by his wife next to a bottle of whiskey he was brought to hospital hospital and noted to have a r facial droop and r weakness he was intubated at the outside hospital for airway protection and a cth revealed a l basal ganglia iph with midline shift he was transferred to hospital1 for neurosurgical e...   \n",
       "4  admission date discharge date date of birth sex m service surgery allergies no drug allergy information on file attending first name3 lf chief complaint gun shot wound major surgical or invasive procedure placement of bilateral thoracostomy tubes left thoracotomy exploratory laparotomy left diaphragm repair left upper lobe lung resection washout of left wrist repair of right common iliac vein laceration history of present illness pt is y o m who presented to hospital1 via location un s p gun shot wound to chest and abdomen pt unresponsive at scene and intubated prior to arrival past medica...   \n",
       "\n",
       "                             labels  length  is_valid  \n",
       "0  414.01;96.71;427.31;401.9;V58.61     230     False  \n",
       "1  V45.81;403.90;585.9;96.71;250.00     304     False  \n",
       "2                96.71;38.93;518.81     359     False  \n",
       "3          96.71;518.81;272.4;401.9     408     False  \n",
       "4                       96.71;99.04     409     False  "
      ]
     },
     "execution_count": null,
     "metadata": {},
     "output_type": "execute_result"
    }
   ],
   "source": [
    "df_copy.head()"
   ]
  },
  {
   "cell_type": "code",
   "execution_count": null,
   "id": "2712e1cf-90ce-4fc3-9aca-401dbd757060",
   "metadata": {},
   "outputs": [],
   "source": [
    "train_50_hadm_ids = pd.read_csv('~/caml-mimic/mimicdata/mimic3/train_50_hadm_ids.csv', header=None, names=['hadm_id'])\n",
    "dev_50_hadm_ids = pd.read_csv('~/caml-mimic/mimicdata/mimic3/dev_50_hadm_ids.csv', header=None, names=['hadm_id'])\n",
    "test_50_hadm_ids = pd.read_csv('~/caml-mimic/mimicdata/mimic3/test_50_hadm_ids.csv', header=None, names=['hadm_id'])"
   ]
  },
  {
   "cell_type": "code",
   "execution_count": null,
   "id": "34042ad5-f17a-48b5-86f0-a52b9677ab52",
   "metadata": {},
   "outputs": [
    {
     "data": {
      "text/plain": [
       "(8066, 1573, 1729)"
      ]
     },
     "execution_count": null,
     "metadata": {},
     "output_type": "execute_result"
    }
   ],
   "source": [
    "len(train_50_hadm_ids), len(dev_50_hadm_ids), len(test_50_hadm_ids)"
   ]
  },
  {
   "cell_type": "code",
   "execution_count": null,
   "id": "a492053d-128d-472e-b349-27c473dacd87",
   "metadata": {},
   "outputs": [
    {
     "data": {
      "text/html": [
       "<div>\n",
       "<style scoped>\n",
       "    .dataframe tbody tr th:only-of-type {\n",
       "        vertical-align: middle;\n",
       "    }\n",
       "\n",
       "    .dataframe tbody tr th {\n",
       "        vertical-align: top;\n",
       "    }\n",
       "\n",
       "    .dataframe thead th {\n",
       "        text-align: right;\n",
       "    }\n",
       "</style>\n",
       "<table border=\"1\" class=\"dataframe\">\n",
       "  <thead>\n",
       "    <tr style=\"text-align: right;\">\n",
       "      <th></th>\n",
       "      <th>hadm_id</th>\n",
       "    </tr>\n",
       "  </thead>\n",
       "  <tbody>\n",
       "    <tr>\n",
       "      <th>0</th>\n",
       "      <td>182396</td>\n",
       "    </tr>\n",
       "    <tr>\n",
       "      <th>1</th>\n",
       "      <td>183363</td>\n",
       "    </tr>\n",
       "    <tr>\n",
       "      <th>2</th>\n",
       "      <td>144347</td>\n",
       "    </tr>\n",
       "    <tr>\n",
       "      <th>3</th>\n",
       "      <td>177066</td>\n",
       "    </tr>\n",
       "    <tr>\n",
       "      <th>4</th>\n",
       "      <td>183373</td>\n",
       "    </tr>\n",
       "    <tr>\n",
       "      <th>...</th>\n",
       "      <td>...</td>\n",
       "    </tr>\n",
       "    <tr>\n",
       "      <th>1724</th>\n",
       "      <td>187232</td>\n",
       "    </tr>\n",
       "    <tr>\n",
       "      <th>1725</th>\n",
       "      <td>110058</td>\n",
       "    </tr>\n",
       "    <tr>\n",
       "      <th>1726</th>\n",
       "      <td>149837</td>\n",
       "    </tr>\n",
       "    <tr>\n",
       "      <th>1727</th>\n",
       "      <td>176399</td>\n",
       "    </tr>\n",
       "    <tr>\n",
       "      <th>1728</th>\n",
       "      <td>142423</td>\n",
       "    </tr>\n",
       "  </tbody>\n",
       "</table>\n",
       "<p>11368 rows × 1 columns</p>\n",
       "</div>"
      ],
      "text/plain": [
       "      hadm_id\n",
       "0      182396\n",
       "1      183363\n",
       "2      144347\n",
       "3      177066\n",
       "4      183373\n",
       "...       ...\n",
       "1724   187232\n",
       "1725   110058\n",
       "1726   149837\n",
       "1727   176399\n",
       "1728   142423\n",
       "\n",
       "[11368 rows x 1 columns]"
      ]
     },
     "execution_count": null,
     "metadata": {},
     "output_type": "execute_result"
    }
   ],
   "source": [
    "pd.concat((train_50_hadm_ids, dev_50_hadm_ids, test_50_hadm_ids))"
   ]
  },
  {
   "cell_type": "code",
   "execution_count": null,
   "id": "17da9aa9-ff7d-400c-bd7a-533fd2c6ce3b",
   "metadata": {},
   "outputs": [
    {
     "data": {
      "text/html": [
       "<div>\n",
       "<style scoped>\n",
       "    .dataframe tbody tr th:only-of-type {\n",
       "        vertical-align: middle;\n",
       "    }\n",
       "\n",
       "    .dataframe tbody tr th {\n",
       "        vertical-align: top;\n",
       "    }\n",
       "\n",
       "    .dataframe thead th {\n",
       "        text-align: right;\n",
       "    }\n",
       "</style>\n",
       "<table border=\"1\" class=\"dataframe\">\n",
       "  <thead>\n",
       "    <tr style=\"text-align: right;\">\n",
       "      <th></th>\n",
       "      <th>subject_id</th>\n",
       "      <th>hadm_id</th>\n",
       "      <th>text</th>\n",
       "      <th>labels</th>\n",
       "      <th>length</th>\n",
       "      <th>is_valid</th>\n",
       "    </tr>\n",
       "  </thead>\n",
       "  <tbody>\n",
       "    <tr>\n",
       "      <th>0</th>\n",
       "      <td>86006</td>\n",
       "      <td>111912</td>\n",
       "      <td>admission date discharge date date of birth sex f service surgery allergies patient recorded as having no known allergies to drugs attending first name3 lf chief complaint 60f on coumadin was found slightly drowsy tonight then fell down stairs paramedic found her unconscious and she was intubated w o any medication head ct shows multiple iph transferred to hospital1 for further eval major surgical or invasive procedure none past medical history her medical history is significant for hypertension osteoarthritis involving bilateral knee joints with a dependence on cane for ambulation chronic...</td>\n",
       "      <td>414.01;96.71;427.31;401.9;V58.61</td>\n",
       "      <td>230</td>\n",
       "      <td>False</td>\n",
       "    </tr>\n",
       "    <tr>\n",
       "      <th>1</th>\n",
       "      <td>85950</td>\n",
       "      <td>189769</td>\n",
       "      <td>admission date discharge date service neurosurgery allergies sulfa sulfonamides attending first name3 lf chief complaint cc cc contact info major surgical or invasive procedure none history of present illness hpi 88m who lives with family had fall yesterday today had decline in mental status ems called pt was unresponsive on arrival went to osh head ct showed large r sdh pt was intubated at osh and transferred to hospital1 for further care past medical history cad s p mi in s p cabg in ventricular aneurysm at that time cath in with occluded rca unable to intervene chf reported ef 1st degre...</td>\n",
       "      <td>V45.81;403.90;585.9;96.71;250.00</td>\n",
       "      <td>304</td>\n",
       "      <td>False</td>\n",
       "    </tr>\n",
       "    <tr>\n",
       "      <th>2</th>\n",
       "      <td>88025</td>\n",
       "      <td>180431</td>\n",
       "      <td>admission date discharge date date of birth sex f service surgery allergies no known allergies adverse drug reactions attending first name3 lf chief complaint s p fall major surgical or invasive procedure none history of present illness 45f etoh s p fall from window at feet found ambulating and slurring speech on scene intubated en route for declining mental status in the er the patient was found to be bradycardic to the s with bp of systolic she was given atropine dilantin and was started on saline past medical history unknown social history unknown family history unknown physical exam ex...</td>\n",
       "      <td>96.71;38.93;518.81</td>\n",
       "      <td>359</td>\n",
       "      <td>False</td>\n",
       "    </tr>\n",
       "    <tr>\n",
       "      <th>3</th>\n",
       "      <td>83776</td>\n",
       "      <td>152868</td>\n",
       "      <td>admission date discharge date date of birth sex m service neurosurgery allergies no known allergies adverse drug reactions attending first name3 lf chief complaint l hypertensive hemorrhagic stroke major surgical or invasive procedure history of present illness this is a year old man found down by his wife next to a bottle of whiskey he was brought to hospital hospital and noted to have a r facial droop and r weakness he was intubated at the outside hospital for airway protection and a cth revealed a l basal ganglia iph with midline shift he was transferred to hospital1 for neurosurgical e...</td>\n",
       "      <td>96.71;518.81;272.4;401.9</td>\n",
       "      <td>408</td>\n",
       "      <td>False</td>\n",
       "    </tr>\n",
       "    <tr>\n",
       "      <th>4</th>\n",
       "      <td>85055</td>\n",
       "      <td>169373</td>\n",
       "      <td>admission date discharge date date of birth sex m service surgery allergies no drug allergy information on file attending first name3 lf chief complaint gun shot wound major surgical or invasive procedure placement of bilateral thoracostomy tubes left thoracotomy exploratory laparotomy left diaphragm repair left upper lobe lung resection washout of left wrist repair of right common iliac vein laceration history of present illness pt is y o m who presented to hospital1 via location un s p gun shot wound to chest and abdomen pt unresponsive at scene and intubated prior to arrival past medica...</td>\n",
       "      <td>96.71;99.04</td>\n",
       "      <td>409</td>\n",
       "      <td>False</td>\n",
       "    </tr>\n",
       "  </tbody>\n",
       "</table>\n",
       "</div>"
      ],
      "text/plain": [
       "  subject_id  hadm_id   \n",
       "0      86006   111912  \\\n",
       "1      85950   189769   \n",
       "2      88025   180431   \n",
       "3      83776   152868   \n",
       "4      85055   169373   \n",
       "\n",
       "                                                                                                                                                                                                                                                                                                                                                                                                                                                                                                                                                                                                                      text   \n",
       "0  admission date discharge date date of birth sex f service surgery allergies patient recorded as having no known allergies to drugs attending first name3 lf chief complaint 60f on coumadin was found slightly drowsy tonight then fell down stairs paramedic found her unconscious and she was intubated w o any medication head ct shows multiple iph transferred to hospital1 for further eval major surgical or invasive procedure none past medical history her medical history is significant for hypertension osteoarthritis involving bilateral knee joints with a dependence on cane for ambulation chronic...  \\\n",
       "1  admission date discharge date service neurosurgery allergies sulfa sulfonamides attending first name3 lf chief complaint cc cc contact info major surgical or invasive procedure none history of present illness hpi 88m who lives with family had fall yesterday today had decline in mental status ems called pt was unresponsive on arrival went to osh head ct showed large r sdh pt was intubated at osh and transferred to hospital1 for further care past medical history cad s p mi in s p cabg in ventricular aneurysm at that time cath in with occluded rca unable to intervene chf reported ef 1st degre...   \n",
       "2  admission date discharge date date of birth sex f service surgery allergies no known allergies adverse drug reactions attending first name3 lf chief complaint s p fall major surgical or invasive procedure none history of present illness 45f etoh s p fall from window at feet found ambulating and slurring speech on scene intubated en route for declining mental status in the er the patient was found to be bradycardic to the s with bp of systolic she was given atropine dilantin and was started on saline past medical history unknown social history unknown family history unknown physical exam ex...   \n",
       "3  admission date discharge date date of birth sex m service neurosurgery allergies no known allergies adverse drug reactions attending first name3 lf chief complaint l hypertensive hemorrhagic stroke major surgical or invasive procedure history of present illness this is a year old man found down by his wife next to a bottle of whiskey he was brought to hospital hospital and noted to have a r facial droop and r weakness he was intubated at the outside hospital for airway protection and a cth revealed a l basal ganglia iph with midline shift he was transferred to hospital1 for neurosurgical e...   \n",
       "4  admission date discharge date date of birth sex m service surgery allergies no drug allergy information on file attending first name3 lf chief complaint gun shot wound major surgical or invasive procedure placement of bilateral thoracostomy tubes left thoracotomy exploratory laparotomy left diaphragm repair left upper lobe lung resection washout of left wrist repair of right common iliac vein laceration history of present illness pt is y o m who presented to hospital1 via location un s p gun shot wound to chest and abdomen pt unresponsive at scene and intubated prior to arrival past medica...   \n",
       "\n",
       "                             labels  length  is_valid  \n",
       "0  414.01;96.71;427.31;401.9;V58.61     230     False  \n",
       "1  V45.81;403.90;585.9;96.71;250.00     304     False  \n",
       "2                96.71;38.93;518.81     359     False  \n",
       "3          96.71;518.81;272.4;401.9     408     False  \n",
       "4                       96.71;99.04     409     False  "
      ]
     },
     "execution_count": null,
     "metadata": {},
     "output_type": "execute_result"
    }
   ],
   "source": [
    "df_copy = pd.merge(df_copy, pd.concat((train_50_hadm_ids, dev_50_hadm_ids, test_50_hadm_ids)), on='hadm_id')\n",
    "df_copy.head()"
   ]
  },
  {
   "cell_type": "code",
   "execution_count": null,
   "id": "0c4504aa-f44d-40cf-b051-dcad40d87722",
   "metadata": {},
   "outputs": [
    {
     "data": {
      "text/plain": [
       "11368"
      ]
     },
     "execution_count": null,
     "metadata": {},
     "output_type": "execute_result"
    }
   ],
   "source": [
    "len(df_copy)"
   ]
  },
  {
   "cell_type": "code",
   "execution_count": null,
   "id": "9cfe035f-ef14-4e62-8046-639910dac472",
   "metadata": {},
   "outputs": [
    {
     "data": {
      "text/plain": [
       "1729"
      ]
     },
     "execution_count": null,
     "metadata": {},
     "output_type": "execute_result"
    }
   ],
   "source": [
    "(df_copy.is_valid).sum()"
   ]
  },
  {
   "cell_type": "code",
   "execution_count": null,
   "id": "9ffc8c32-ed47-48f2-b96f-0335b1e5f93a",
   "metadata": {},
   "outputs": [],
   "source": [
    "df_copy.to_csv('tmp/mimic3-9k_top50.csv')"
   ]
  },
  {
   "cell_type": "markdown",
   "id": "7b836c76-12b2-4d70-a170-0f76bae9c714",
   "metadata": {},
   "source": [
    "### Loading raw data"
   ]
  },
  {
   "cell_type": "code",
   "execution_count": null,
   "id": "9f77aaee-61f1-4b3d-a1cc-65b1e8c8b990",
   "metadata": {},
   "outputs": [],
   "source": [
    "df = pd.read_csv('tmp/mimic3-9k_top50.csv',\n",
    "                 header=0,\n",
    "                 names=['subject_id', 'hadm_id', 'text', 'labels', 'length', 'is_valid'],\n",
    "                 dtype={'subject_id': str, 'hadm_id': str, 'text': str, 'labels': str, 'length': np.int64, 'is_valid': bool})"
   ]
  },
  {
   "cell_type": "code",
   "execution_count": null,
   "id": "4ff5e6bb-0614-4e52-8012-293551c937fa",
   "metadata": {},
   "outputs": [],
   "source": [
    "df[['text', 'labels']] = df[['text', 'labels']].astype(str)\n",
    "df[['hadm_id']] = df[['hadm_id']].astype('int64')"
   ]
  },
  {
   "cell_type": "code",
   "execution_count": null,
   "id": "8760cd7e-5f9e-4954-ba98-c30e9c602d1c",
   "metadata": {},
   "outputs": [
    {
     "name": "stdout",
     "output_type": "stream",
     "text": [
      "11368\n"
     ]
    },
    {
     "data": {
      "text/html": [
       "<div>\n",
       "<style scoped>\n",
       "    .dataframe tbody tr th:only-of-type {\n",
       "        vertical-align: middle;\n",
       "    }\n",
       "\n",
       "    .dataframe tbody tr th {\n",
       "        vertical-align: top;\n",
       "    }\n",
       "\n",
       "    .dataframe thead th {\n",
       "        text-align: right;\n",
       "    }\n",
       "</style>\n",
       "<table border=\"1\" class=\"dataframe\">\n",
       "  <thead>\n",
       "    <tr style=\"text-align: right;\">\n",
       "      <th></th>\n",
       "      <th>subject_id</th>\n",
       "      <th>hadm_id</th>\n",
       "      <th>text</th>\n",
       "      <th>labels</th>\n",
       "      <th>length</th>\n",
       "      <th>is_valid</th>\n",
       "    </tr>\n",
       "  </thead>\n",
       "  <tbody>\n",
       "    <tr>\n",
       "      <th>0</th>\n",
       "      <td>86006</td>\n",
       "      <td>111912</td>\n",
       "      <td>admission date discharge date date of birth sex f service surgery allergies patient recorded as having no known allergies to drugs attending first name3 lf chief complaint 60f on coumadin was found slightly drowsy tonight then fell down stairs paramedic found her unconscious and she was intubated w o any medication head ct shows multiple iph transferred to hospital1 for further eval major surgical or invasive procedure none past medical history her medical history is significant for hypertension osteoarthritis involving bilateral knee joints with a dependence on cane for ambulation chronic...</td>\n",
       "      <td>414.01;96.71;427.31;401.9;V58.61</td>\n",
       "      <td>230</td>\n",
       "      <td>False</td>\n",
       "    </tr>\n",
       "    <tr>\n",
       "      <th>1</th>\n",
       "      <td>85950</td>\n",
       "      <td>189769</td>\n",
       "      <td>admission date discharge date service neurosurgery allergies sulfa sulfonamides attending first name3 lf chief complaint cc cc contact info major surgical or invasive procedure none history of present illness hpi 88m who lives with family had fall yesterday today had decline in mental status ems called pt was unresponsive on arrival went to osh head ct showed large r sdh pt was intubated at osh and transferred to hospital1 for further care past medical history cad s p mi in s p cabg in ventricular aneurysm at that time cath in with occluded rca unable to intervene chf reported ef 1st degre...</td>\n",
       "      <td>V45.81;403.90;585.9;96.71;250.00</td>\n",
       "      <td>304</td>\n",
       "      <td>False</td>\n",
       "    </tr>\n",
       "    <tr>\n",
       "      <th>2</th>\n",
       "      <td>88025</td>\n",
       "      <td>180431</td>\n",
       "      <td>admission date discharge date date of birth sex f service surgery allergies no known allergies adverse drug reactions attending first name3 lf chief complaint s p fall major surgical or invasive procedure none history of present illness 45f etoh s p fall from window at feet found ambulating and slurring speech on scene intubated en route for declining mental status in the er the patient was found to be bradycardic to the s with bp of systolic she was given atropine dilantin and was started on saline past medical history unknown social history unknown family history unknown physical exam ex...</td>\n",
       "      <td>96.71;38.93;518.81</td>\n",
       "      <td>359</td>\n",
       "      <td>False</td>\n",
       "    </tr>\n",
       "    <tr>\n",
       "      <th>3</th>\n",
       "      <td>83776</td>\n",
       "      <td>152868</td>\n",
       "      <td>admission date discharge date date of birth sex m service neurosurgery allergies no known allergies adverse drug reactions attending first name3 lf chief complaint l hypertensive hemorrhagic stroke major surgical or invasive procedure history of present illness this is a year old man found down by his wife next to a bottle of whiskey he was brought to hospital hospital and noted to have a r facial droop and r weakness he was intubated at the outside hospital for airway protection and a cth revealed a l basal ganglia iph with midline shift he was transferred to hospital1 for neurosurgical e...</td>\n",
       "      <td>96.71;518.81;272.4;401.9</td>\n",
       "      <td>408</td>\n",
       "      <td>False</td>\n",
       "    </tr>\n",
       "    <tr>\n",
       "      <th>4</th>\n",
       "      <td>85055</td>\n",
       "      <td>169373</td>\n",
       "      <td>admission date discharge date date of birth sex m service surgery allergies no drug allergy information on file attending first name3 lf chief complaint gun shot wound major surgical or invasive procedure placement of bilateral thoracostomy tubes left thoracotomy exploratory laparotomy left diaphragm repair left upper lobe lung resection washout of left wrist repair of right common iliac vein laceration history of present illness pt is y o m who presented to hospital1 via location un s p gun shot wound to chest and abdomen pt unresponsive at scene and intubated prior to arrival past medica...</td>\n",
       "      <td>96.71;99.04</td>\n",
       "      <td>409</td>\n",
       "      <td>False</td>\n",
       "    </tr>\n",
       "  </tbody>\n",
       "</table>\n",
       "</div>"
      ],
      "text/plain": [
       "  subject_id  hadm_id   \n",
       "0      86006   111912  \\\n",
       "1      85950   189769   \n",
       "2      88025   180431   \n",
       "3      83776   152868   \n",
       "4      85055   169373   \n",
       "\n",
       "                                                                                                                                                                                                                                                                                                                                                                                                                                                                                                                                                                                                                      text   \n",
       "0  admission date discharge date date of birth sex f service surgery allergies patient recorded as having no known allergies to drugs attending first name3 lf chief complaint 60f on coumadin was found slightly drowsy tonight then fell down stairs paramedic found her unconscious and she was intubated w o any medication head ct shows multiple iph transferred to hospital1 for further eval major surgical or invasive procedure none past medical history her medical history is significant for hypertension osteoarthritis involving bilateral knee joints with a dependence on cane for ambulation chronic...  \\\n",
       "1  admission date discharge date service neurosurgery allergies sulfa sulfonamides attending first name3 lf chief complaint cc cc contact info major surgical or invasive procedure none history of present illness hpi 88m who lives with family had fall yesterday today had decline in mental status ems called pt was unresponsive on arrival went to osh head ct showed large r sdh pt was intubated at osh and transferred to hospital1 for further care past medical history cad s p mi in s p cabg in ventricular aneurysm at that time cath in with occluded rca unable to intervene chf reported ef 1st degre...   \n",
       "2  admission date discharge date date of birth sex f service surgery allergies no known allergies adverse drug reactions attending first name3 lf chief complaint s p fall major surgical or invasive procedure none history of present illness 45f etoh s p fall from window at feet found ambulating and slurring speech on scene intubated en route for declining mental status in the er the patient was found to be bradycardic to the s with bp of systolic she was given atropine dilantin and was started on saline past medical history unknown social history unknown family history unknown physical exam ex...   \n",
       "3  admission date discharge date date of birth sex m service neurosurgery allergies no known allergies adverse drug reactions attending first name3 lf chief complaint l hypertensive hemorrhagic stroke major surgical or invasive procedure history of present illness this is a year old man found down by his wife next to a bottle of whiskey he was brought to hospital hospital and noted to have a r facial droop and r weakness he was intubated at the outside hospital for airway protection and a cth revealed a l basal ganglia iph with midline shift he was transferred to hospital1 for neurosurgical e...   \n",
       "4  admission date discharge date date of birth sex m service surgery allergies no drug allergy information on file attending first name3 lf chief complaint gun shot wound major surgical or invasive procedure placement of bilateral thoracostomy tubes left thoracotomy exploratory laparotomy left diaphragm repair left upper lobe lung resection washout of left wrist repair of right common iliac vein laceration history of present illness pt is y o m who presented to hospital1 via location un s p gun shot wound to chest and abdomen pt unresponsive at scene and intubated prior to arrival past medica...   \n",
       "\n",
       "                             labels  length  is_valid  \n",
       "0  414.01;96.71;427.31;401.9;V58.61     230     False  \n",
       "1  V45.81;403.90;585.9;96.71;250.00     304     False  \n",
       "2                96.71;38.93;518.81     359     False  \n",
       "3          96.71;518.81;272.4;401.9     408     False  \n",
       "4                       96.71;99.04     409     False  "
      ]
     },
     "execution_count": null,
     "metadata": {},
     "output_type": "execute_result"
    }
   ],
   "source": [
    "print(len(df))\n",
    "df.head()"
   ]
  },
  {
   "cell_type": "markdown",
   "id": "3327d174-50c7-4a09-9627-bcbc841e8e13",
   "metadata": {},
   "source": [
    "Let's now gather the labels from the 'labels' columns of the df:"
   ]
  },
  {
   "cell_type": "code",
   "execution_count": null,
   "id": "fe76d996-f3d6-4d6b-b46f-0a5c9d8e3767",
   "metadata": {},
   "outputs": [],
   "source": [
    "lbl_freqs = Counter()\n",
    "for labels in df.labels: lbl_freqs.update(labels.split(';'))"
   ]
  },
  {
   "cell_type": "markdown",
   "id": "493ef951-a26b-451e-974f-dc50a04373c8",
   "metadata": {},
   "source": [
    "The total number of labels are:"
   ]
  },
  {
   "cell_type": "code",
   "execution_count": null,
   "id": "34a104da-237e-43e1-8eef-c04c757fe9c0",
   "metadata": {},
   "outputs": [
    {
     "data": {
      "text/plain": [
       "50"
      ]
     },
     "execution_count": null,
     "metadata": {},
     "output_type": "execute_result"
    }
   ],
   "source": [
    "len(lbl_freqs)"
   ]
  },
  {
   "cell_type": "markdown",
   "id": "55bd16d6-2fac-4df0-b340-b5b7af6adc38",
   "metadata": {},
   "source": [
    "Let's make a list of all labels (We will use it later while creating the `DataLoader`)"
   ]
  },
  {
   "cell_type": "code",
   "execution_count": null,
   "id": "daa467af",
   "metadata": {},
   "outputs": [],
   "source": [
    "lbls = L(lbl_freqs.most_common(50)).itemgot(0)"
   ]
  },
  {
   "cell_type": "code",
   "execution_count": null,
   "id": "25c38840-7516-4584-8f9d-2ed7a00fc7d9",
   "metadata": {},
   "outputs": [
    {
     "data": {
      "text/plain": [
       "(#50) ['401.9','38.93','428.0','427.31','414.01','272.4','584.9','250.00','96.04','96.6'...]"
      ]
     },
     "execution_count": null,
     "metadata": {},
     "output_type": "execute_result"
    }
   ],
   "source": [
    "lbls"
   ]
  },
  {
   "cell_type": "markdown",
   "id": "9bdd3e77-ddd2-4bfe-8e7c-eef5665fce86",
   "metadata": {},
   "source": [
    "### Steps for creating the classifier `DataLoaders` using fastai's `Transforms`:"
   ]
  },
  {
   "cell_type": "markdown",
   "id": "cac1a4b0-53c9-4cb4-a8c6-521d668d3ea8",
   "metadata": {},
   "source": [
    "#### 1. train/valid `splitter`:"
   ]
  },
  {
   "cell_type": "markdown",
   "id": "5fb8ab53-00a9-4978-a4ad-36279e94e4cc",
   "metadata": {},
   "source": [
    "Okay, based on the `is_valid` column of our Dataframe, let's create a splitter:"
   ]
  },
  {
   "cell_type": "code",
   "execution_count": null,
   "id": "e51ef2aa-ae3a-4878-a9c8-d00e56bafa0f",
   "metadata": {},
   "outputs": [],
   "source": [
    "def splitter(df):\n",
    "    train = df.index[~df['is_valid']].tolist()\n",
    "    valid = df.index[df['is_valid']].to_list()\n",
    "    return train, valid"
   ]
  },
  {
   "cell_type": "markdown",
   "id": "5f79ffa5-c7cc-482e-b7b1-6fccca8c4c94",
   "metadata": {},
   "source": [
    "Let's check the train/valid split"
   ]
  },
  {
   "cell_type": "code",
   "execution_count": null,
   "id": "b6a0ede7-11de-4bfe-9151-5f9d6150e68a",
   "metadata": {},
   "outputs": [
    {
     "data": {
      "text/plain": [
       "((#9639) [0,1,2,3,4,5,6,7,8,9...],\n",
       " (#1729) [1573,1574,1575,1576,1577,1578,1579,1580,1581,1582...])"
      ]
     },
     "execution_count": null,
     "metadata": {},
     "output_type": "execute_result"
    }
   ],
   "source": [
    "splits = [train, valid] = splitter(df)\n",
    "L(splits[0]), L(splits[1])"
   ]
  },
  {
   "cell_type": "markdown",
   "id": "8d5e592e-78f3-42dd-ac75-90773ec5c740",
   "metadata": {},
   "source": [
    "#### 2. Making the `Datasets` object:"
   ]
  },
  {
   "cell_type": "markdown",
   "id": "55e025f0-0c36-44af-adc6-661e9d61779e",
   "metadata": {},
   "source": [
    "**Crucial:** We need the vocab of the language model so that we can make sure we use the same correspondence of token to index. Otherwise, the embeddings we learned in our fine-tuned language model won't make any sense to our classifier model, and the fine-tuning won't be of any use. So we need to pass the `lm_vocab` to the `Numericalize` transform:"
   ]
  },
  {
   "cell_type": "markdown",
   "id": "a1581944-7466-492b-964a-69a52c7ce71a",
   "metadata": {},
   "source": [
    "So let's load the vocab of the language model:"
   ]
  },
  {
   "cell_type": "code",
   "execution_count": null,
   "id": "0b87b723-8f10-42d7-b918-aae62b9b36d9",
   "metadata": {},
   "outputs": [],
   "source": [
    "lm_vocab = torch.load(source/'mimic3-9k_dls_lm_vocab.pkl')\n",
    "lm_vocab_r = torch.load(source/'mimic3-9k_dls_lm_vocab_r.pkl')"
   ]
  },
  {
   "cell_type": "code",
   "execution_count": null,
   "id": "21f65795-3a59-4498-9b35-c04c3f97e543",
   "metadata": {},
   "outputs": [
    {
     "data": {
      "text/plain": [
       "(#57376) ['xxunk','xxpad','xxbos','xxeos','xxfld','xxrep','xxwrep','xxup','xxmaj','the'...]"
      ]
     },
     "execution_count": null,
     "metadata": {},
     "output_type": "execute_result"
    }
   ],
   "source": [
    "all_equal(lm_vocab, lm_vocab_r)\n",
    "L(lm_vocab)"
   ]
  },
  {
   "cell_type": "code",
   "execution_count": null,
   "id": "7c226691-5c16-432b-8cce-81b45441a672",
   "metadata": {},
   "outputs": [],
   "source": [
    "x_tfms = [Tokenizer.from_df('text'), attrgetter(\"text\"), Numericalize(vocab=lm_vocab)]\n",
    "x_tfms_r = [Tokenizer.from_df('text', ), attrgetter(\"text\"), Numericalize(vocab=lm_vocab), reverse_text]\n",
    "y_tfms = [ColReader('labels', label_delim=';'), MultiCategorize(vocab=lbls), OneHotEncode()]\n",
    "tfms = [x_tfms, y_tfms]\n",
    "tfms_r = [x_tfms_r, y_tfms]"
   ]
  },
  {
   "cell_type": "code",
   "execution_count": null,
   "id": "f5639637-7fee-4952-a71c-bcf6d2a2c2f8",
   "metadata": {},
   "outputs": [
    {
     "data": {
      "text/html": [
       "\n",
       "<style>\n",
       "    /* Turns off some styling */\n",
       "    progress {\n",
       "        /* gets rid of default border in Firefox and Opera. */\n",
       "        border: none;\n",
       "        /* Needs to be in here for Safari polyfill so background images work as expected. */\n",
       "        background-size: auto;\n",
       "    }\n",
       "    progress:not([value]), progress:not([value])::-webkit-progress-bar {\n",
       "        background: repeating-linear-gradient(45deg, #7e7e7e, #7e7e7e 10px, #5c5c5c 10px, #5c5c5c 20px);\n",
       "    }\n",
       "    .progress-bar-interrupted, .progress-bar-interrupted::-webkit-progress-bar {\n",
       "        background: #F44336;\n",
       "    }\n",
       "</style>\n"
      ],
      "text/plain": [
       "<IPython.core.display.HTML object>"
      ]
     },
     "metadata": {},
     "output_type": "display_data"
    },
    {
     "data": {
      "text/html": [],
      "text/plain": [
       "<IPython.core.display.HTML object>"
      ]
     },
     "metadata": {},
     "output_type": "display_data"
    },
    {
     "name": "stdout",
     "output_type": "stream",
     "text": [
      "CPU times: user 3.67 s, sys: 715 ms, total: 4.39 s\n",
      "Wall time: 32.9 s\n"
     ]
    }
   ],
   "source": [
    "%%time\n",
    "dsets = Datasets(df, tfms, splits=splits)"
   ]
  },
  {
   "cell_type": "code",
   "execution_count": null,
   "id": "8dc6e71e-7ffd-4e40-8690-bb04ef932b44",
   "metadata": {},
   "outputs": [
    {
     "data": {
      "text/html": [
       "\n",
       "<style>\n",
       "    /* Turns off some styling */\n",
       "    progress {\n",
       "        /* gets rid of default border in Firefox and Opera. */\n",
       "        border: none;\n",
       "        /* Needs to be in here for Safari polyfill so background images work as expected. */\n",
       "        background-size: auto;\n",
       "    }\n",
       "    progress:not([value]), progress:not([value])::-webkit-progress-bar {\n",
       "        background: repeating-linear-gradient(45deg, #7e7e7e, #7e7e7e 10px, #5c5c5c 10px, #5c5c5c 20px);\n",
       "    }\n",
       "    .progress-bar-interrupted, .progress-bar-interrupted::-webkit-progress-bar {\n",
       "        background: #F44336;\n",
       "    }\n",
       "</style>\n"
      ],
      "text/plain": [
       "<IPython.core.display.HTML object>"
      ]
     },
     "metadata": {},
     "output_type": "display_data"
    },
    {
     "data": {
      "text/html": [],
      "text/plain": [
       "<IPython.core.display.HTML object>"
      ]
     },
     "metadata": {},
     "output_type": "display_data"
    },
    {
     "name": "stdout",
     "output_type": "stream",
     "text": [
      "CPU times: user 4.25 s, sys: 937 ms, total: 5.18 s\n",
      "Wall time: 35.3 s\n"
     ]
    }
   ],
   "source": [
    "%%time\n",
    "dsets_r = Datasets(df, tfms_r, splits=splits)"
   ]
  },
  {
   "cell_type": "markdown",
   "id": "ec834d46-3118-4fd5-bf44-26ee1b7b4221",
   "metadata": {},
   "source": [
    "#### 3. Making the `DataLoaders` object:"
   ]
  },
  {
   "cell_type": "markdown",
   "id": "4dd91e60-2f5a-48b0-9ce4-2ec78d9099f2",
   "metadata": {},
   "source": [
    "We need to pick the sequence length and the batch size (you might have to adjust this depending on you GPU size)"
   ]
  },
  {
   "cell_type": "code",
   "execution_count": null,
   "id": "a2c0a405",
   "metadata": {},
   "outputs": [],
   "source": [
    "bs, sl = 16, 72"
   ]
  },
  {
   "cell_type": "markdown",
   "id": "697bf7de-2457-44a9-a307-cac2e29c0ab7",
   "metadata": {},
   "source": [
    "We will use the `dl_type` argument of the `DataLoaders`. The purpose is to tell `DataLoaders` to use `SortedDL` class of the `DataLoader`, and not the usual one. `SortedDL` constructs batches by putting samples of roughly the same lengths into batches."
   ]
  },
  {
   "cell_type": "code",
   "execution_count": null,
   "id": "db15b1f6",
   "metadata": {},
   "outputs": [],
   "source": [
    "dl_type = partial(SortedDL, shuffle=True)"
   ]
  },
  {
   "cell_type": "markdown",
   "id": "e481d3d9-6842-42ea-8d3d-f4a09a877f3b",
   "metadata": {},
   "source": [
    "**Crucial:** \n",
    "- We will use **`pad_input_chunk`** because our encoder `AWD_LSTM` will be wrapped inside `SentenceEncoder`. \n",
    "- A `SenetenceEncoder` expects that all the documents are padded, \n",
    "- with most of the padding at the beginning of the document, with each sequence beginning at a round multiple of bptt\n",
    "- and the rest of the padding at the end."
   ]
  },
  {
   "cell_type": "code",
   "execution_count": null,
   "id": "c235b686",
   "metadata": {},
   "outputs": [],
   "source": [
    "dls_clas = dsets.dataloaders(bs=bs, seq_len=sl, \n",
    "                             dl_type=dl_type,\n",
    "                             before_batch=pad_input_chunk)"
   ]
  },
  {
   "cell_type": "markdown",
   "id": "83782a75-94fb-4565-9d43-1b97cf2f4d6a",
   "metadata": {},
   "source": [
    "For the reverse:"
   ]
  },
  {
   "cell_type": "code",
   "execution_count": null,
   "id": "79c40abf",
   "metadata": {},
   "outputs": [],
   "source": [
    "dls_clas_r = dsets_r.dataloaders(bs=bs, seq_len=sl,\n",
    "                                 dl_type=dl_type,\n",
    "                                 before_batch=pad_input_chunk)"
   ]
  },
  {
   "cell_type": "code",
   "execution_count": null,
   "id": "1bc31a45-8c6d-45ce-9465-1c565ae591af",
   "metadata": {},
   "outputs": [],
   "source": [
    "torch.save(dls_clas, 'tmp/mimic3-9k_dls_clas_top50.pkl')\n",
    "torch.save(dls_clas_r, 'tmp/mimic3-9k_dls_clas_top50_r.pkl')"
   ]
  },
  {
   "cell_type": "code",
   "execution_count": null,
   "id": "3d1bca33-be30-4088-be40-ba11c2a6beaf",
   "metadata": {},
   "outputs": [],
   "source": [
    "# dls_clas.show_batch(max_n=3)\n",
    "# dls_clas_r.show_batch(max_n=3)"
   ]
  },
  {
   "cell_type": "markdown",
   "id": "6a929435-5a3d-457f-ada0-6214749fdd8c",
   "metadata": {},
   "source": [
    "## `Learner` for MIMIC3-Full Multi-Label Classifier Fine-Tuning "
   ]
  },
  {
   "cell_type": "code",
   "execution_count": null,
   "id": "be4a3f78-9284-4753-862a-4ceb10921eeb",
   "metadata": {},
   "outputs": [],
   "source": [
    "# set_seed(897997989, reproducible=True)\n",
    "# set_seed(67, reproducible=True)\n",
    "set_seed(1, reproducible=True)"
   ]
  },
  {
   "cell_type": "markdown",
   "id": "92d027d8-c031-4668-9a78-5cc3773272e2",
   "metadata": {},
   "source": [
    "This is where we have `dls_clas`(for the full dataset) we made in the previous section:"
   ]
  },
  {
   "cell_type": "code",
   "execution_count": null,
   "id": "e9ebec02-f429-4a0e-8274-94b5ea22cc8b",
   "metadata": {},
   "outputs": [
    {
     "name": "stdout",
     "output_type": "stream",
     "text": [
      "\u001b[01;34m/home/deb/.xcube/data/mimic3\u001b[00m\n",
      "├── [576M Jun  8 13:21]  mimic3-9k_clas_full.pth\n",
      "├── [576M May 26 12:00]  mimic3-9k_clas_full_r.pth\n",
      "├── [758K Mar 27 17:59]  mimic3-9k_clas_full_vocab.pkl\n",
      "├── [1.6G Apr 21 18:29]  mimic3-9k_dls_clas.pkl\n",
      "└── [1.6G Apr 21 18:30]  mimic3-9k_dls_clas_r.pkl\n",
      "\n",
      "0 directories, 5 files\n"
     ]
    }
   ],
   "source": [
    "!tree -shDL 1 {source} -P \"*clas*\"\n",
    "# or using glob\n",
    "# L(source.glob(\"**/*clas*\"))"
   ]
  },
  {
   "cell_type": "markdown",
   "id": "78f2d461-bad7-425c-815b-b10b5618a68b",
   "metadata": {},
   "source": [
    "And this is where we have the finetuned language model:"
   ]
  },
  {
   "cell_type": "code",
   "execution_count": null,
   "id": "67d1ca98-5434-4499-a3ba-75a279df892c",
   "metadata": {},
   "outputs": [
    {
     "name": "stdout",
     "output_type": "stream",
     "text": [
      "\u001b[01;34m/home/deb/.xcube/data/mimic3\u001b[00m\n",
      "├── [165M Apr 30  2022]  mimic3-9k_lm_finetuned.pth\n",
      "└── [165M May  7  2022]  mimic3-9k_lm_finetuned_r.pth\n",
      "\n",
      "0 directories, 2 files\n"
     ]
    }
   ],
   "source": [
    "!tree -shDL 1 {source} -P '*fine*'"
   ]
  },
  {
   "cell_type": "markdown",
   "id": "88587fc8-cb4c-4558-ab30-fb658fab9bf6",
   "metadata": {},
   "source": [
    "And this is where we have the bootstrapped brain and the label biases:"
   ]
  },
  {
   "cell_type": "code",
   "execution_count": null,
   "id": "08713e93-2338-4230-9c24-ffe135fce01b",
   "metadata": {},
   "outputs": [
    {
     "name": "stdout",
     "output_type": "stream",
     "text": [
      "\u001b[01;34m/home/deb/.xcube/data/mimic3_l2r\u001b[00m\n",
      "├── [3.8G Jun 24  2022]  mimic3-9k_tok_lbl_info.pkl\n",
      "└── [ 70K Apr  3 18:35]  p_L.pkl\n",
      "\n",
      "0 directories, 2 files\n"
     ]
    }
   ],
   "source": [
    "!tree -shDL 1 {source_l2r} -P \"*tok_lbl_info*|*p_L*\""
   ]
  },
  {
   "cell_type": "markdown",
   "id": "7255e48d-f5ac-4b95-a0c5-45e27d38db80",
   "metadata": {},
   "source": [
    "Next we'll create a tmp directory to store results. In order for our learner to have access to the finetuned language model we need to symlink to it."
   ]
  },
  {
   "cell_type": "code",
   "execution_count": null,
   "id": "29a1f833-c561-40c8-b017-683d9837129d",
   "metadata": {},
   "outputs": [
    {
     "name": "stdout",
     "output_type": "stream",
     "text": [
      "\u001b[01;34m/home/deb/xcube/nbs/tmp\u001b[00m\n",
      "├── [ 23G Feb 21 13:27]  dls_full.pkl\n",
      "├── [1.7M Feb 10 16:40]  dls_tiny.pkl\n",
      "├── [152M Mar  8 00:28]  lin_lambdarank_full.pth\n",
      "├── [1.0M Mar  7 16:52]  lin_lambdarank_tiny.pth\n",
      "├── [ 10M Apr 21 17:48]  mimic3-9k_dls_clas_tiny.pkl\n",
      "├── [ 10M Apr 21 17:48]  mimic3-9k_dls_clas_tiny_r.pkl\n",
      "├── [4.0K Jun 21 16:34]  \u001b[01;34mmodels\u001b[00m\n",
      "│   ├── [  56 Apr 17 17:29]  \u001b[01;36mlin_lambdarank_full.pth\u001b[00m -> /home/deb/.xcube/data/mimic3_l2r/lin_lambdarank_full.pth\n",
      "│   ├── [  45 Jun 21 16:34]  \u001b[01;36mlm_now_decoder.pth\u001b[00m -> /home/deb/xcube/nbs/models/lm_now_decoder.pth\n",
      "│   ├── [  47 Jun 21 16:33]  \u001b[01;36mlm_now_finetuned.pth\u001b[00m -> /home/deb/xcube/nbs/models/lm_now_finetuned.pth\n",
      "│   ├── [ 11K Apr 17 13:17]  log.csv\n",
      "│   ├── [576M Jun  8 02:04]  mimic3-9k_clas_full.pth\n",
      "│   ├── [5.4G May 10 18:21]  mimic3-9k_clas_full_predslog.pkl\n",
      "│   ├── [576M May 26 11:55]  mimic3-9k_clas_full_r.pth\n",
      "│   ├── [758K May 26 11:55]  mimic3-9k_clas_full_r_vocab.pkl\n",
      "│   ├── [264K May 10 18:35]  mimic3-9k_clas_full_rank.csv\n",
      "│   ├── [758K Jun  8 02:04]  mimic3-9k_clas_full_vocab.pkl\n",
      "│   ├── [279M Jun 14 18:39]  mimic3-9k_clas_tiny.pth\n",
      "│   ├── [273M Apr  3 13:19]  mimic3-9k_clas_tiny_r.pth\n",
      "│   ├── [635K Apr  3 13:19]  mimic3-9k_clas_tiny_r_vocab.pkl\n",
      "│   ├── [635K Jun 14 18:39]  mimic3-9k_clas_tiny_vocab.pkl\n",
      "│   ├── [  53 Jun  7 17:39]  \u001b[01;36mmimic3-9k_lm_decoder.pth\u001b[00m -> /home/deb/.xcube/data/mimic3/mimic3-9k_lm_decoder.pth\n",
      "│   ├── [  55 Jun  7 17:39]  \u001b[01;36mmimic3-9k_lm_decoder_r.pth\u001b[00m -> /home/deb/.xcube/data/mimic3/mimic3-9k_lm_decoder_r.pth\n",
      "│   ├── [  55 Mar  8 16:09]  \u001b[01;36mmimic3-9k_lm_finetuned.pth\u001b[00m -> /home/deb/.xcube/data/mimic3/mimic3-9k_lm_finetuned.pth\n",
      "│   ├── [  57 Mar 19 19:27]  \u001b[01;36mmimic3-9k_lm_finetuned_r.pth\u001b[00m -> /home/deb/.xcube/data/mimic3/mimic3-9k_lm_finetuned_r.pth\n",
      "│   ├── [334M Jun 17 03:41]  mimic3-9k_plant_full.pth\n",
      "│   ├── [758K Jun 17 03:41]  mimic3-9k_plant_full_vocab.pkl\n",
      "│   ├── [264M Jun 22 20:23]  mimic3-9k_plant_tiny.pth\n",
      "│   ├── [635K Jun 22 20:23]  mimic3-9k_plant_tiny_vocab.pkl\n",
      "│   ├── [  59 Mar 29 17:36]  \u001b[01;36mmimic3-9k_tok_lbl_info.pkl\u001b[00m -> /home/deb/.xcube/data/mimic3_l2r/mimic3-9k_tok_lbl_info.pkl\n",
      "│   ├── [758K Apr 15 14:29]  mimic5_tmp_vocab.pkl\n",
      "│   └── [  40 Apr  3 20:03]  \u001b[01;36mp_L.pkl\u001b[00m -> /home/deb/.xcube/data/mimic3_l2r/p_L.pkl\n",
      "└── [1.2M Mar  7 16:46]  nn_lambdarank_tiny.pth\n",
      "\n",
      "1 directory, 32 files\n"
     ]
    }
   ],
   "source": [
    "#| eval: false\n",
    "tmp = Path.cwd()/'tmp/models'\n",
    "tmp.mkdir(exist_ok=True, parents=True)\n",
    "tmp = tmp.parent\n",
    "# (tmp/'models'/'mimic3-9k_lm_decoder.pth').symlink_to(source/'mimic3-9k_lm_decoder.pth') # run this just once\n",
    "# (tmp/'models'/'mimic3-9k_lm_decoder_r.pth').symlink_to(source/'mimic3-9k_lm_decoder_r.pth') # run this just once\n",
    "# (tmp/'models'/'mimic3-9k_lm_finetuned.pth').symlink_to(source/'mimic3-9k_lm_finetuned.pth') # run this just once\n",
    "# (tmp/'models'/'mimic3-9k_lm_finetuned_r.pth').symlink_to(source/'mimic3-9k_lm_finetuned_r.pth') # run this just once\n",
    "# (tmp/'models'/'mimic3-9k_tok_lbl_info.pkl').symlink_to(join_path_file('mimic3-9k_tok_lbl_info', source_l2r, ext='.pkl')) #run this just once\n",
    "# (tmp/'models'/'p_L.pkl').symlink_to(join_path_file('p_L', source_l2r, ext='.pkl')) #run this just once\n",
    "# (tmp/'models'/'lin_lambdarank_full.pth').symlink_to(join_path_file('lin_lambdarank_full', source_l2r, ext='.pth')) #run this just once\n",
    "# list_files(tmp)\n",
    "!tree -shD {tmp}"
   ]
  },
  {
   "cell_type": "markdown",
   "id": "2020de11-498b-4823-853c-de076de8d093",
   "metadata": {},
   "source": [
    "Let's now get the dataloaders for the classifier. We'll also save classifier with `fname`."
   ]
  },
  {
   "cell_type": "code",
   "execution_count": null,
   "id": "7f20ef46-6ffe-4598-a2f0-9d0caecf078f",
   "metadata": {},
   "outputs": [],
   "source": [
    "fname = 'mimic3-9k_plant_full'"
   ]
  },
  {
   "cell_type": "code",
   "execution_count": null,
   "id": "b9989033-5531-41c1-bb77-a79eef433645",
   "metadata": {},
   "outputs": [],
   "source": [
    "dls_clas = torch.load(tmp/'mimic3-9k_dls_clas_top50.pkl', map_location=default_device())\n",
    "dls_clas_r = torch.load(tmp/'mimic3-9k_dls_clas_top50_r.pkl', map_location=default_device())"
   ]
  },
  {
   "cell_type": "markdown",
   "id": "fc360a01-6553-490d-8698-e63c0b979692",
   "metadata": {},
   "source": [
    "Let's create the saving callback upfront:"
   ]
  },
  {
   "cell_type": "code",
   "execution_count": null,
   "id": "c52235e5-0363-41ae-88e4-ffb73fb89b69",
   "metadata": {},
   "outputs": [],
   "source": [
    "fname_r = fname+'_r'\n",
    "cbs=SaveModelCallback(monitor='valid_precision_at_k', fname=fname, with_opt=True, reset_on_fit=True)\n",
    "cbs_r=SaveModelCallback(monitor='valid_precision_at_k', fname=fname_r, with_opt=True, reset_on_fit=True)"
   ]
  },
  {
   "cell_type": "markdown",
   "id": "f0a5b3fa-a043-46d4-b765-119543c3a79b",
   "metadata": {},
   "source": [
    "We will make the `TextLearner` (Here you can use `pretrained=False` to save time beacuse we are anyway going to `load_encoder` later which will replace the encoder wgts with the ones we that we have in the fine-tuned LM):"
   ]
  },
  {
   "cell_type": "markdown",
   "id": "b348ed10-576c-4e1d-be58-a0c56eb9c959",
   "metadata": {},
   "source": [
    "Todo(Deb): Implement TTA\n",
    "- make `max_len=None` during validation\n",
    "- magnify important tokens"
   ]
  },
  {
   "cell_type": "code",
   "execution_count": null,
   "id": "b364bdaa-c782-46b8-87e3-2d38f7773f38",
   "metadata": {},
   "outputs": [],
   "source": [
    "learn = xmltext_classifier_learner(dls_clas, AWD_LSTM, drop_mult=0.1, max_len=72*40, \n",
    "                                   metrics=partial(precision_at_k, k=15), path=tmp, cbs=cbs,\n",
    "                                   pretrained=False,\n",
    "                                   splitter=awd_lstm_xclas_split,\n",
    "                                   running_decoder=True,\n",
    "                                   # plant=0.4\n",
    "                                  ).to_fp16()\n",
    "learn_r = xmltext_classifier_learner(dls_clas_r, AWD_LSTM, drop_mult=0.1, max_len=72*40, \n",
    "                                     metrics=partial(precision_at_k, k=15), path=tmp, cbs=cbs_r,\n",
    "                                     pretrained=False,\n",
    "                                     splitter=awd_lstm_xclas_split,\n",
    "                                     running_decoder=True,\n",
    "                                     # plant=0.4\n",
    "                                    ).to_fp16()  "
   ]
  },
  {
   "cell_type": "code",
   "execution_count": null,
   "id": "0e589b6e-b901-4bae-950a-b2c88f9061a7",
   "metadata": {},
   "outputs": [],
   "source": [
    "# for i,g in enumerate(awd_lstm_xclas_split(learn.model)):\n",
    "    # print(f\"group: {i}, {g=}\")\n",
    "    # print(\"****\")"
   ]
  },
  {
   "cell_type": "markdown",
   "id": "3b24cdad-4e0b-4845-a15d-8662c286305e",
   "metadata": {},
   "source": [
    "Note: Don't forget to check k in inattention"
   ]
  },
  {
   "cell_type": "code",
   "execution_count": null,
   "id": "05c3492b-d986-48fe-aa3b-653fc2e6e2ce",
   "metadata": {},
   "outputs": [],
   "source": [
    "#| hide\n",
    "# learn.model[0].__class__??\n",
    "# learn.model[1].__class__??\n",
    "# learn.model[1].pay_attn.__class__??"
   ]
  },
  {
   "cell_type": "markdown",
   "id": "9dd001b0-3e68-40c6-8a9b-02ddba79fba8",
   "metadata": {},
   "source": [
    "A few customizations into fastai's callbacks:"
   ]
  },
  {
   "cell_type": "markdown",
   "id": "277d6340-4d7d-4a2e-9c1d-3a21979ed4ec",
   "metadata": {},
   "source": [
    "To tracks metrics on training bactches during an epoch:"
   ]
  },
  {
   "cell_type": "code",
   "execution_count": null,
   "id": "190c8850-4170-421a-92db-2e0c0ed760a0",
   "metadata": {},
   "outputs": [],
   "source": [
    "# tell `Recorder` to track `train_metrics`\n",
    "assert learn.cbs[1].__class__ is Recorder\n",
    "setattr(learn.cbs[1], 'train_metrics', True)\n",
    "assert learn_r.cbs[1].__class__ is Recorder\n",
    "setattr(learn_r.cbs[1], 'train_metrics', True)"
   ]
  },
  {
   "cell_type": "code",
   "execution_count": null,
   "id": "a3bea4cf-c656-452b-9730-e6eab2b2061e",
   "metadata": {},
   "outputs": [],
   "source": [
    "# import copy\n",
    "# mets = copy.deepcopy(learn.recorder._valid_mets)\n",
    "# # mets = L(AvgSmoothLoss(), AvgMetric(precision_at_k))\n",
    "# rv = RunvalCallback(mets)\n",
    "# learn.add_cbs(rv)\n",
    "# learn.cbs"
   ]
  },
  {
   "cell_type": "code",
   "execution_count": null,
   "id": "329a5a1c-3dbc-4d14-97b1-eb7512267041",
   "metadata": {},
   "outputs": [],
   "source": [
    "@patch\n",
    "def after_batch(self: ProgressCallback):\n",
    "        self.pbar.update(self.iter+1)\n",
    "        mets = ('_valid_mets', '_train_mets')[self.training]\n",
    "        self.pbar.comment = ' '.join([f'{met.name} = {met.value.item():.4f}' for met in getattr(self.recorder, mets)])"
   ]
  },
  {
   "cell_type": "markdown",
   "id": "0d2fb9ae-d59f-4089-9965-15ce56019fe3",
   "metadata": {},
   "source": [
    "The following line essentially captures the magic of [ULMFit's](https://arxiv.org/pdf/1801.06146.pdf) transfer learning:"
   ]
  },
  {
   "cell_type": "code",
   "execution_count": null,
   "id": "1e375d72-397a-450a-b1d4-6bf9de237bc0",
   "metadata": {},
   "outputs": [],
   "source": [
    "# most recent lm\n",
    "# learn = learn.load_encoder('lm_now_finetuned')"
   ]
  },
  {
   "cell_type": "code",
   "execution_count": null,
   "id": "a4b52a51-1f0a-480c-8b5a-bd516a9a9e46",
   "metadata": {},
   "outputs": [],
   "source": [
    "learn = learn.load_encoder('mimic3-9k_lm_finetuned')\n",
    "learn_r = learn_r.load_encoder('mimic3-9k_lm_finetuned_r')"
   ]
  },
  {
   "cell_type": "code",
   "execution_count": null,
   "id": "fcacff31-50cc-4131-ae82-562afa17ff37",
   "metadata": {},
   "outputs": [],
   "source": [
    "# learn = learn.load_brain('mimic3-9k_tok_lbl_info', 'p_L')\n",
    "# learn_r = learn_r.load_brain('mimic3-9k_tok_lbl_info', 'p_L')"
   ]
  },
  {
   "cell_type": "code",
   "execution_count": null,
   "id": "0b925b09-4aaa-4d09-b573-397e8661b23d",
   "metadata": {},
   "outputs": [],
   "source": [
    "# learn = learn.load_diffntble_brain('mimic3-9k_tok_lbl_info', 'lin_lambdarank_full', 'mimic3-9k_lm_decoder')"
   ]
  },
  {
   "cell_type": "code",
   "execution_count": null,
   "id": "4e01e8d9-c272-4719-a040-95b3cf339989",
   "metadata": {},
   "outputs": [],
   "source": [
    "# most recent lm\n",
    "# learn = learn.load_both('mimic3-9k_tok_lbl_info', 'p_L', 'lin_lambdarank_full', 'lm_now_decoder')"
   ]
  },
  {
   "cell_type": "code",
   "execution_count": null,
   "id": "0b2d8f72-fc9d-4be3-86fb-baff8ae2e510",
   "metadata": {},
   "outputs": [
    {
     "name": "stdout",
     "output_type": "stream",
     "text": [
      "Performing static brainsplant...\n"
     ]
    },
    {
     "data": {
      "text/html": [
       "\n",
       "<style>\n",
       "    /* Turns off some styling */\n",
       "    progress {\n",
       "        /* gets rid of default border in Firefox and Opera. */\n",
       "        border: none;\n",
       "        /* Needs to be in here for Safari polyfill so background images work as expected. */\n",
       "        background-size: auto;\n",
       "    }\n",
       "    progress:not([value]), progress:not([value])::-webkit-progress-bar {\n",
       "        background: repeating-linear-gradient(45deg, #7e7e7e, #7e7e7e 10px, #5c5c5c 10px, #5c5c5c 20px);\n",
       "    }\n",
       "    .progress-bar-interrupted, .progress-bar-interrupted::-webkit-progress-bar {\n",
       "        background: #F44336;\n",
       "    }\n",
       "</style>\n"
      ],
      "text/plain": [
       "<IPython.core.display.HTML object>"
      ]
     },
     "metadata": {},
     "output_type": "display_data"
    },
    {
     "data": {
      "text/html": [],
      "text/plain": [
       "<IPython.core.display.HTML object>"
      ]
     },
     "metadata": {},
     "output_type": "display_data"
    },
    {
     "name": "stdout",
     "output_type": "stream",
     "text": [
      "Successfull!\n",
      "Performing 'differentiable' brainsplant...\n"
     ]
    },
    {
     "data": {
      "text/html": [
       "\n",
       "<style>\n",
       "    /* Turns off some styling */\n",
       "    progress {\n",
       "        /* gets rid of default border in Firefox and Opera. */\n",
       "        border: none;\n",
       "        /* Needs to be in here for Safari polyfill so background images work as expected. */\n",
       "        background-size: auto;\n",
       "    }\n",
       "    progress:not([value]), progress:not([value])::-webkit-progress-bar {\n",
       "        background: repeating-linear-gradient(45deg, #7e7e7e, #7e7e7e 10px, #5c5c5c 10px, #5c5c5c 20px);\n",
       "    }\n",
       "    .progress-bar-interrupted, .progress-bar-interrupted::-webkit-progress-bar {\n",
       "        background: #F44336;\n",
       "    }\n",
       "</style>\n"
      ],
      "text/plain": [
       "<IPython.core.display.HTML object>"
      ]
     },
     "metadata": {},
     "output_type": "display_data"
    },
    {
     "data": {
      "text/html": [],
      "text/plain": [
       "<IPython.core.display.HTML object>"
      ]
     },
     "metadata": {},
     "output_type": "display_data"
    },
    {
     "name": "stdout",
     "output_type": "stream",
     "text": [
      "Successfull!\n"
     ]
    }
   ],
   "source": [
    "learn = learn.load_both('mimic3-9k_tok_lbl_info', 'p_L', 'lin_lambdarank_full', 'mimic3-9k_lm_decoder')"
   ]
  },
  {
   "cell_type": "code",
   "execution_count": null,
   "id": "292c8ae0-19f9-4796-94f6-dabcc10ae5b8",
   "metadata": {},
   "outputs": [],
   "source": [
    "learn.create_opt()"
   ]
  },
  {
   "cell_type": "markdown",
   "id": "1ba60ea0-469f-45ae-a7d1-60aab2e57b2e",
   "metadata": {},
   "source": [
    "---"
   ]
  },
  {
   "cell_type": "code",
   "execution_count": null,
   "id": "526eb9ce-52c4-4dba-be7a-d3b141983af8",
   "metadata": {},
   "outputs": [
    {
     "data": {
      "text/html": [
       "\n",
       "<style>\n",
       "    /* Turns off some styling */\n",
       "    progress {\n",
       "        /* gets rid of default border in Firefox and Opera. */\n",
       "        border: none;\n",
       "        /* Needs to be in here for Safari polyfill so background images work as expected. */\n",
       "        background-size: auto;\n",
       "    }\n",
       "    progress:not([value]), progress:not([value])::-webkit-progress-bar {\n",
       "        background: repeating-linear-gradient(45deg, #7e7e7e, #7e7e7e 10px, #5c5c5c 10px, #5c5c5c 20px);\n",
       "    }\n",
       "    .progress-bar-interrupted, .progress-bar-interrupted::-webkit-progress-bar {\n",
       "        background: #F44336;\n",
       "    }\n",
       "</style>\n"
      ],
      "text/plain": [
       "<IPython.core.display.HTML object>"
      ]
     },
     "metadata": {},
     "output_type": "display_data"
    },
    {
     "data": {
      "text/html": [
       "<table border=\"1\" class=\"dataframe\">\n",
       "  <thead>\n",
       "    <tr style=\"text-align: left;\">\n",
       "      <th>epoch</th>\n",
       "      <th>train_loss</th>\n",
       "      <th>train_precision_at_k</th>\n",
       "      <th>valid_loss</th>\n",
       "      <th>valid_precision_at_k</th>\n",
       "      <th>time</th>\n",
       "    </tr>\n",
       "  </thead>\n",
       "  <tbody>\n",
       "    <tr>\n",
       "      <td>0</td>\n",
       "      <td>0.012547</td>\n",
       "      <td>0.403337</td>\n",
       "      <td>0.013126</td>\n",
       "      <td>0.470087</td>\n",
       "      <td>41:55</td>\n",
       "    </tr>\n",
       "  </tbody>\n",
       "</table>"
      ],
      "text/plain": [
       "<IPython.core.display.HTML object>"
      ]
     },
     "metadata": {},
     "output_type": "display_data"
    }
   ],
   "source": [
    "sv_idx = learn.cbs.attrgot('__class__').index(SaveModelCallback)\n",
    "learn.cbs[sv_idx]\n",
    "with learn.removed_cbs(learn.cbs[sv_idx]):\n",
    "    learn.fit(1, lr=1e-2)"
   ]
  },
  {
   "cell_type": "code",
   "execution_count": null,
   "id": "fed6dbce-a00e-4e30-a178-76aa11614421",
   "metadata": {},
   "outputs": [
    {
     "data": {
      "text/html": [
       "\n",
       "<style>\n",
       "    /* Turns off some styling */\n",
       "    progress {\n",
       "        /* gets rid of default border in Firefox and Opera. */\n",
       "        border: none;\n",
       "        /* Needs to be in here for Safari polyfill so background images work as expected. */\n",
       "        background-size: auto;\n",
       "    }\n",
       "    progress:not([value]), progress:not([value])::-webkit-progress-bar {\n",
       "        background: repeating-linear-gradient(45deg, #7e7e7e, #7e7e7e 10px, #5c5c5c 10px, #5c5c5c 20px);\n",
       "    }\n",
       "    .progress-bar-interrupted, .progress-bar-interrupted::-webkit-progress-bar {\n",
       "        background: #F44336;\n",
       "    }\n",
       "</style>\n"
      ],
      "text/plain": [
       "<IPython.core.display.HTML object>"
      ]
     },
     "metadata": {},
     "output_type": "display_data"
    },
    {
     "data": {
      "text/html": [
       "\n",
       "    <div>\n",
       "      <progress value='2' class='' max='3' style='width:300px; height:20px; vertical-align: middle;'></progress>\n",
       "      66.67% [2/3 40:17&lt;20:08]\n",
       "    </div>\n",
       "    \n",
       "<table border=\"1\" class=\"dataframe\">\n",
       "  <thead>\n",
       "    <tr style=\"text-align: left;\">\n",
       "      <th>epoch</th>\n",
       "      <th>train_loss</th>\n",
       "      <th>train_precision_at_k</th>\n",
       "      <th>valid_loss</th>\n",
       "      <th>valid_precision_at_k</th>\n",
       "      <th>time</th>\n",
       "    </tr>\n",
       "  </thead>\n",
       "  <tbody>\n",
       "    <tr>\n",
       "      <td>0</td>\n",
       "      <td>0.010768</td>\n",
       "      <td>0.434745</td>\n",
       "      <td>0.011315</td>\n",
       "      <td>0.491044</td>\n",
       "      <td>20:15</td>\n",
       "    </tr>\n",
       "    <tr>\n",
       "      <td>1</td>\n",
       "      <td>0.010263</td>\n",
       "      <td>0.465117</td>\n",
       "      <td>0.011162</td>\n",
       "      <td>0.494939</td>\n",
       "      <td>20:01</td>\n",
       "    </tr>\n",
       "  </tbody>\n",
       "</table><p>\n",
       "\n",
       "    <div>\n",
       "      <progress value='108' class='' max='3084' style='width:300px; height:20px; vertical-align: middle;'></progress>\n",
       "      3.50% [108/3084 00:40&lt;18:25 avg_smooth_loss = 0.010285338386893272 precision_at_k = 0.46471962616822415 ]\n",
       "    </div>\n",
       "    "
      ],
      "text/plain": [
       "<IPython.core.display.HTML object>"
      ]
     },
     "metadata": {},
     "output_type": "display_data"
    },
    {
     "name": "stdout",
     "output_type": "stream",
     "text": [
      "Better model found at epoch 0 with valid_precision_at_k value: 0.4910438908659549.\n",
      "Better model found at epoch 1 with valid_precision_at_k value: 0.4949387109529458.\n"
     ]
    }
   ],
   "source": [
    "# os.getpid()\n",
    "# learn.fit(3, lr=3e-2)"
   ]
  },
  {
   "cell_type": "code",
   "execution_count": null,
   "id": "b9b42aed-283c-40bb-8ce0-8817aead6933",
   "metadata": {},
   "outputs": [],
   "source": [
    "learn = learn.load((learn.path/learn.model_dir)/fname)\n",
    "validate(learn)"
   ]
  },
  {
   "cell_type": "code",
   "execution_count": null,
   "id": "c175d9da-0974-4451-bc41-7ac735d5c775",
   "metadata": {},
   "outputs": [],
   "source": [
    "# os.getpid()\n",
    "# sorted(learn.cbs.zipwith(learn.cbs.attrgot('order')), key=lambda tup: tup[1] )"
   ]
  },
  {
   "cell_type": "markdown",
   "id": "92b21058-6404-44d3-a035-f23fed26ac51",
   "metadata": {},
   "source": [
    "---"
   ]
  },
  {
   "cell_type": "code",
   "execution_count": null,
   "id": "89d47495-8519-47dd-8f6f-78133e2118c9",
   "metadata": {},
   "outputs": [],
   "source": [
    "class _FakeLearner: \n",
    "    def to_detach(self,b,cpu=True,gather=True):\n",
    "        return to_detach(b,cpu,gather)\n",
    "_fake_l = _FakeLearner()\n",
    "\n",
    "def cpupy(t): return t.cpu().numpy() if isinstance(t, Tensor) else t\n",
    "learn.model = learn.model.to('cuda:0')"
   ]
  },
  {
   "cell_type": "markdown",
   "id": "077d36df-6adf-4070-81fa-2802a101a695",
   "metadata": {},
   "source": [
    "TODO:\n",
    "- Also print avg text lengths"
   ]
  },
  {
   "cell_type": "code",
   "execution_count": null,
   "id": "d78163aa-1be9-43e9-bade-fece65eefef6",
   "metadata": {},
   "outputs": [],
   "source": [
    "# import copy\n",
    "# mets = L(AvgLoss(), AvgMetric(partial(precision_at_k, k=15)))\n",
    "mets = L(F1ScoreMulti(thresh=0.14, average='macro'), F1ScoreMulti(thresh=0.14, average='micro'))  #(learn.recorder._valid_mets)\n",
    "learn.model.eval()\n",
    "mets.map(Self.reset())\n",
    "pbar = progress_bar(learn.dls.valid)\n",
    "log_file = join_path_file('log', learn.path/learn.model_dir, ext='.csv')\n",
    "with open(log_file, 'w', newline='') as csvfile:\n",
    "    writer = csv.writer(csvfile)\n",
    "    header = mets.attrgot('name') + L('bs', 'n_lbs', 'mean_nlbs')\n",
    "    writer.writerow(header)\n",
    "    for i, (xb, yb) in enumerate(pbar):\n",
    "        _fake_l.yb = (yb,)\n",
    "        _fake_l.y = yb\n",
    "        _fake_l.pred, *_ = learn.model(xb) \n",
    "        _fake_l.loss = Tensor(learn.loss_func(_fake_l.pred, yb))\n",
    "        for met in mets: met.accumulate(_fake_l)\n",
    "        pbar.comment = ' '.join(mets.attrgot('value').map(str))\n",
    "        yb_nlbs =  Tensor(yb.count_nonzero(dim=1)).float().cpu().numpy()\n",
    "        writer.writerow(mets.attrgot('value').map(cpupy) + L(find_bs(yb), yb_nlbs, yb_nlbs.mean()))"
   ]
  },
  {
   "cell_type": "code",
   "execution_count": null,
   "id": "f5bed4ea-f7b2-4ed4-97f7-9129311b4c2c",
   "metadata": {},
   "outputs": [],
   "source": [
    "pd.set_option('display.max_rows', 100)\n",
    "df = pd.read_csv(log_file)\n",
    "df"
   ]
  },
  {
   "cell_type": "code",
   "execution_count": null,
   "id": "f7585c36-87e9-42fc-a741-9c3cfff8cbd0",
   "metadata": {},
   "outputs": [],
   "source": [
    "# learn.model[1].label_bias.data.min(),  learn.model[1].label_bias.data.max()\n",
    "# nn.init.kaiming_normal_(learn.model[1].label_bias.data.unsqueeze(-1))\n",
    "# # init_default??\n",
    "# with torch.no_grad(): \n",
    "    # learn.model[1].label_bias.data = learn.lbsbias\n",
    "# learn.model[1].label_bias.data.min(),  learn.model[1].label_bias.data.max()\n",
    "# learn.model[1].pay_attn.attn.func.f#, learn_r.model[1].pay_attn.attn.func.f\n",
    "# set_seed(1, reproducible=True)"
   ]
  },
  {
   "cell_type": "markdown",
   "id": "e66d5549-3067-46b4-a3df-32a31bbc2036",
   "metadata": {},
   "source": [
    "## Learner for MIMIC3-Top50 Multi-Label Classifier Fine-Tuning"
   ]
  },
  {
   "cell_type": "code",
   "execution_count": null,
   "id": "6bfbce89-406e-4a3c-be79-c9699f89b6d9",
   "metadata": {},
   "outputs": [],
   "source": [
    "tmp = Path.cwd()/'tmp/models'\n",
    "tmp.mkdir(exist_ok=True, parents=True)\n",
    "tmp = tmp.parent\n",
    "# !tree -shD {tmp}"
   ]
  },
  {
   "cell_type": "code",
   "execution_count": null,
   "id": "4444cc56",
   "metadata": {},
   "outputs": [],
   "source": [
    "fname = 'mimic3-9k_top50'"
   ]
  },
  {
   "cell_type": "code",
   "execution_count": null,
   "id": "61a99fc4",
   "metadata": {},
   "outputs": [],
   "source": [
    "dls_clas = torch.load(tmp/'mimic3-9k_dls_clas_top50.pkl', map_location=default_device())\n",
    "dls_clas_r = torch.load(tmp/'mimic3-9k_dls_clas_top50_r.pkl', map_location=default_device())"
   ]
  },
  {
   "cell_type": "markdown",
   "id": "58f58f93-33b3-41cc-bf4d-35456960cc79",
   "metadata": {},
   "source": [
    "Let's create the saving callback upfront:"
   ]
  },
  {
   "cell_type": "code",
   "execution_count": null,
   "id": "ecf43526",
   "metadata": {},
   "outputs": [],
   "source": [
    "fname_r = fname+'_r'\n",
    "cbs=SaveModelCallback(monitor='valid_precision_at_k', fname=fname, with_opt=True, reset_on_fit=True)\n",
    "cbs_r=SaveModelCallback(monitor='valid_precision_at_k', fname=fname_r, with_opt=True, reset_on_fit=True)"
   ]
  },
  {
   "cell_type": "code",
   "execution_count": null,
   "id": "db375f81",
   "metadata": {},
   "outputs": [],
   "source": [
    "learn = xmltext_classifier_learner(dls_clas, AWD_LSTM, drop_mult=0.1, max_len=72*40, \n",
    "                                   metrics=partial(precision_at_k, k=15), path=tmp, cbs=cbs,\n",
    "                                   pretrained=False,\n",
    "                                   splitter=awd_lstm_xclas_split,\n",
    "                                   running_decoder=True,\n",
    "                                   # plant=0.4\n",
    "                                  ).to_fp16()\n",
    "learn_r = xmltext_classifier_learner(dls_clas_r, AWD_LSTM, drop_mult=0.1, max_len=72*40, \n",
    "                                     metrics=partial(precision_at_k, k=15), path=tmp, cbs=cbs_r,\n",
    "                                     pretrained=False,\n",
    "                                     splitter=awd_lstm_xclas_split,\n",
    "                                     running_decoder=True,\n",
    "                                     # plant=0.4\n",
    "                                    ).to_fp16()  "
   ]
  },
  {
   "cell_type": "markdown",
   "id": "17a5a415-3889-48b2-bfee-9df725ff14d6",
   "metadata": {},
   "source": [
    "A few customizations into fastai's callbacks:"
   ]
  },
  {
   "cell_type": "markdown",
   "id": "f9f13f28-06f4-4f78-989f-fa1437bf6ea7",
   "metadata": {},
   "source": [
    "To tracks metrics on training bactches during an epoch:"
   ]
  },
  {
   "cell_type": "code",
   "execution_count": null,
   "id": "2ba9950a-f7ba-4e0f-a2cc-719239f88e11",
   "metadata": {},
   "outputs": [],
   "source": [
    "# tell `Recorder` to track `train_metrics`\n",
    "assert learn.cbs[1].__class__ is Recorder\n",
    "setattr(learn.cbs[1], 'train_metrics', True)\n",
    "assert learn_r.cbs[1].__class__ is Recorder\n",
    "setattr(learn_r.cbs[1], 'train_metrics', True)"
   ]
  },
  {
   "cell_type": "code",
   "execution_count": null,
   "id": "75abb079-6350-46a3-9d8e-3131b78e84c1",
   "metadata": {},
   "outputs": [],
   "source": [
    "@patch\n",
    "def after_batch(self: ProgressCallback):\n",
    "        self.pbar.update(self.iter+1)\n",
    "        mets = ('_valid_mets', '_train_mets')[self.training]\n",
    "        self.pbar.comment = ' '.join([f'{met.name} = {met.value.item():.4f}' for met in getattr(self.recorder, mets)])"
   ]
  },
  {
   "cell_type": "markdown",
   "id": "6c510ac2-3011-4b3e-9566-5f6d379d04f0",
   "metadata": {},
   "source": [
    "The following line essentially captures the magic of [ULMFit's](https://arxiv.org/pdf/1801.06146.pdf) transfer learning:"
   ]
  },
  {
   "cell_type": "code",
   "execution_count": null,
   "id": "befcd5ea-81cd-463e-a8c5-9269f79a4731",
   "metadata": {},
   "outputs": [],
   "source": [
    "learn = learn.load_encoder('mimic3-9k_lm_finetuned')\n",
    "learn_r = learn_r.load_encoder('mimic3-9k_lm_finetuned_r')"
   ]
  },
  {
   "cell_type": "code",
   "execution_count": null,
   "id": "e46f51b6-fbfd-45ba-a678-b8eb83429e83",
   "metadata": {},
   "outputs": [],
   "source": []
  },
  {
   "cell_type": "markdown",
   "id": "0cfea4dd-aff2-425e-9f95-5b602f783ead",
   "metadata": {},
   "source": [
    "## Fine-Tuning the MIMIC3-Full Classifier "
   ]
  },
  {
   "cell_type": "code",
   "execution_count": null,
   "id": "bd896425-f1e8-45f5-8b47-d58b8e9dbf01",
   "metadata": {},
   "outputs": [
    {
     "data": {
      "text/html": [
       "\n",
       "<style>\n",
       "    /* Turns off some styling */\n",
       "    progress {\n",
       "        /* gets rid of default border in Firefox and Opera. */\n",
       "        border: none;\n",
       "        /* Needs to be in here for Safari polyfill so background images work as expected. */\n",
       "        background-size: auto;\n",
       "    }\n",
       "    progress:not([value]), progress:not([value])::-webkit-progress-bar {\n",
       "        background: repeating-linear-gradient(45deg, #7e7e7e, #7e7e7e 10px, #5c5c5c 10px, #5c5c5c 20px);\n",
       "    }\n",
       "    .progress-bar-interrupted, .progress-bar-interrupted::-webkit-progress-bar {\n",
       "        background: #F44336;\n",
       "    }\n",
       "</style>\n"
      ],
      "text/plain": [
       "<IPython.core.display.HTML object>"
      ]
     },
     "metadata": {},
     "output_type": "display_data"
    },
    {
     "data": {
      "text/html": [
       "<table border=\"1\" class=\"dataframe\">\n",
       "  <thead>\n",
       "    <tr style=\"text-align: left;\">\n",
       "      <th>epoch</th>\n",
       "      <th>train_loss</th>\n",
       "      <th>train_precision_at_k</th>\n",
       "      <th>valid_loss</th>\n",
       "      <th>valid_precision_at_k</th>\n",
       "      <th>time</th>\n",
       "    </tr>\n",
       "  </thead>\n",
       "  <tbody>\n",
       "    <tr>\n",
       "      <td>0</td>\n",
       "      <td>0.006671</td>\n",
       "      <td>0.427560</td>\n",
       "      <td>0.007373</td>\n",
       "      <td>0.501760</td>\n",
       "      <td>18:52</td>\n",
       "    </tr>\n",
       "    <tr>\n",
       "      <td>1</td>\n",
       "      <td>0.006010</td>\n",
       "      <td>0.486638</td>\n",
       "      <td>0.007033</td>\n",
       "      <td>0.518841</td>\n",
       "      <td>19:13</td>\n",
       "    </tr>\n",
       "  </tbody>\n",
       "</table>"
      ],
      "text/plain": [
       "<IPython.core.display.HTML object>"
      ]
     },
     "metadata": {},
     "output_type": "display_data"
    }
   ],
   "source": [
    "learn.fit(2, lr=3e-2)"
   ]
  },
  {
   "cell_type": "code",
   "execution_count": null,
   "id": "ab90dfaf-bb33-492a-b755-abac040ed4b3",
   "metadata": {},
   "outputs": [
    {
     "data": {
      "text/html": [
       "\n",
       "<style>\n",
       "    /* Turns off some styling */\n",
       "    progress {\n",
       "        /* gets rid of default border in Firefox and Opera. */\n",
       "        border: none;\n",
       "        /* Needs to be in here for Safari polyfill so background images work as expected. */\n",
       "        background-size: auto;\n",
       "    }\n",
       "    progress:not([value]), progress:not([value])::-webkit-progress-bar {\n",
       "        background: repeating-linear-gradient(45deg, #7e7e7e, #7e7e7e 10px, #5c5c5c 10px, #5c5c5c 20px);\n",
       "    }\n",
       "    .progress-bar-interrupted, .progress-bar-interrupted::-webkit-progress-bar {\n",
       "        background: #F44336;\n",
       "    }\n",
       "</style>\n"
      ],
      "text/plain": [
       "<IPython.core.display.HTML object>"
      ]
     },
     "metadata": {},
     "output_type": "display_data"
    },
    {
     "data": {
      "text/html": [
       "<table border=\"1\" class=\"dataframe\">\n",
       "  <thead>\n",
       "    <tr style=\"text-align: left;\">\n",
       "      <th>epoch</th>\n",
       "      <th>train_loss</th>\n",
       "      <th>train_precision_at_k</th>\n",
       "      <th>valid_loss</th>\n",
       "      <th>valid_precision_at_k</th>\n",
       "      <th>time</th>\n",
       "    </tr>\n",
       "  </thead>\n",
       "  <tbody>\n",
       "    <tr>\n",
       "      <td>0</td>\n",
       "      <td>0.006171</td>\n",
       "      <td>0.496154</td>\n",
       "      <td>0.006873</td>\n",
       "      <td>0.524792</td>\n",
       "      <td>19:04</td>\n",
       "    </tr>\n",
       "    <tr>\n",
       "      <td>1</td>\n",
       "      <td>0.006296</td>\n",
       "      <td>0.499897</td>\n",
       "      <td>0.006786</td>\n",
       "      <td>0.526097</td>\n",
       "      <td>19:07</td>\n",
       "    </tr>\n",
       "    <tr>\n",
       "      <td>2</td>\n",
       "      <td>0.006071</td>\n",
       "      <td>0.501944</td>\n",
       "      <td>0.006728</td>\n",
       "      <td>0.529656</td>\n",
       "      <td>21:40</td>\n",
       "    </tr>\n",
       "    <tr>\n",
       "      <td>3</td>\n",
       "      <td>0.005868</td>\n",
       "      <td>0.503599</td>\n",
       "      <td>0.006685</td>\n",
       "      <td>0.529261</td>\n",
       "      <td>19:53</td>\n",
       "    </tr>\n",
       "    <tr>\n",
       "      <td>4</td>\n",
       "      <td>0.005772</td>\n",
       "      <td>0.504341</td>\n",
       "      <td>0.006666</td>\n",
       "      <td>0.530565</td>\n",
       "      <td>18:51</td>\n",
       "    </tr>\n",
       "    <tr>\n",
       "      <td>5</td>\n",
       "      <td>0.005700</td>\n",
       "      <td>0.504796</td>\n",
       "      <td>0.006648</td>\n",
       "      <td>0.529201</td>\n",
       "      <td>19:29</td>\n",
       "    </tr>\n",
       "    <tr>\n",
       "      <td>6</td>\n",
       "      <td>0.005662</td>\n",
       "      <td>0.504856</td>\n",
       "      <td>0.006632</td>\n",
       "      <td>0.530625</td>\n",
       "      <td>18:40</td>\n",
       "    </tr>\n",
       "    <tr>\n",
       "      <td>7</td>\n",
       "      <td>0.006080</td>\n",
       "      <td>0.505080</td>\n",
       "      <td>0.006594</td>\n",
       "      <td>0.531870</td>\n",
       "      <td>19:07</td>\n",
       "    </tr>\n",
       "    <tr>\n",
       "      <td>8</td>\n",
       "      <td>0.005849</td>\n",
       "      <td>0.505091</td>\n",
       "      <td>0.006607</td>\n",
       "      <td>0.532543</td>\n",
       "      <td>18:40</td>\n",
       "    </tr>\n",
       "  </tbody>\n",
       "</table>"
      ],
      "text/plain": [
       "<IPython.core.display.HTML object>"
      ]
     },
     "metadata": {},
     "output_type": "display_data"
    },
    {
     "data": {
      "text/plain": [
       "Path('/home/deb/xcube/nbs/tmp/models/mimic_tmp.pth')"
      ]
     },
     "execution_count": null,
     "metadata": {},
     "output_type": "execute_result"
    }
   ],
   "source": [
    "learn.fit(9, lr=3e-2)"
   ]
  },
  {
   "cell_type": "code",
   "execution_count": null,
   "id": "abf9dc94-f86b-407c-8cbf-aca4968b62c1",
   "metadata": {},
   "outputs": [],
   "source": [
    "learn.freeze_to(-2)"
   ]
  },
  {
   "cell_type": "code",
   "execution_count": null,
   "id": "1236f663-6c1b-4d71-862b-54f524e9f8e6",
   "metadata": {},
   "outputs": [
    {
     "data": {
      "text/html": [
       "\n",
       "<style>\n",
       "    /* Turns off some styling */\n",
       "    progress {\n",
       "        /* gets rid of default border in Firefox and Opera. */\n",
       "        border: none;\n",
       "        /* Needs to be in here for Safari polyfill so background images work as expected. */\n",
       "        background-size: auto;\n",
       "    }\n",
       "    progress:not([value]), progress:not([value])::-webkit-progress-bar {\n",
       "        background: repeating-linear-gradient(45deg, #7e7e7e, #7e7e7e 10px, #5c5c5c 10px, #5c5c5c 20px);\n",
       "    }\n",
       "    .progress-bar-interrupted, .progress-bar-interrupted::-webkit-progress-bar {\n",
       "        background: #F44336;\n",
       "    }\n",
       "</style>\n"
      ],
      "text/plain": [
       "<IPython.core.display.HTML object>"
      ]
     },
     "metadata": {},
     "output_type": "display_data"
    },
    {
     "data": {
      "text/html": [
       "<table border=\"1\" class=\"dataframe\">\n",
       "  <thead>\n",
       "    <tr style=\"text-align: left;\">\n",
       "      <th>epoch</th>\n",
       "      <th>train_loss</th>\n",
       "      <th>train_precision_at_k</th>\n",
       "      <th>valid_loss</th>\n",
       "      <th>valid_precision_at_k</th>\n",
       "      <th>time</th>\n",
       "    </tr>\n",
       "  </thead>\n",
       "  <tbody>\n",
       "    <tr>\n",
       "      <td>0</td>\n",
       "      <td>0.004908</td>\n",
       "      <td>0.520075</td>\n",
       "      <td>0.005996</td>\n",
       "      <td>0.554903</td>\n",
       "      <td>22:30</td>\n",
       "    </tr>\n",
       "    <tr>\n",
       "      <td>1</td>\n",
       "      <td>0.005100</td>\n",
       "      <td>0.524777</td>\n",
       "      <td>0.005895</td>\n",
       "      <td>0.557651</td>\n",
       "      <td>22:42</td>\n",
       "    </tr>\n",
       "    <tr>\n",
       "      <td>2</td>\n",
       "      <td>0.004864</td>\n",
       "      <td>0.525998</td>\n",
       "      <td>0.005869</td>\n",
       "      <td>0.555219</td>\n",
       "      <td>23:00</td>\n",
       "    </tr>\n",
       "    <tr>\n",
       "      <td>3</td>\n",
       "      <td>0.004873</td>\n",
       "      <td>0.527586</td>\n",
       "      <td>0.005766</td>\n",
       "      <td>0.561507</td>\n",
       "      <td>22:30</td>\n",
       "    </tr>\n",
       "    <tr>\n",
       "      <td>4</td>\n",
       "      <td>0.004755</td>\n",
       "      <td>0.530503</td>\n",
       "      <td>0.005780</td>\n",
       "      <td>0.558323</td>\n",
       "      <td>22:37</td>\n",
       "    </tr>\n",
       "    <tr>\n",
       "      <td>5</td>\n",
       "      <td>0.004760</td>\n",
       "      <td>0.532162</td>\n",
       "      <td>0.005718</td>\n",
       "      <td>0.562060</td>\n",
       "      <td>22:37</td>\n",
       "    </tr>\n",
       "    <tr>\n",
       "      <td>6</td>\n",
       "      <td>0.004906</td>\n",
       "      <td>0.533651</td>\n",
       "      <td>0.005617</td>\n",
       "      <td>0.569632</td>\n",
       "      <td>22:28</td>\n",
       "    </tr>\n",
       "    <tr>\n",
       "      <td>7</td>\n",
       "      <td>0.004725</td>\n",
       "      <td>0.535399</td>\n",
       "      <td>0.005622</td>\n",
       "      <td>0.569553</td>\n",
       "      <td>23:41</td>\n",
       "    </tr>\n",
       "    <tr>\n",
       "      <td>8</td>\n",
       "      <td>0.004727</td>\n",
       "      <td>0.536854</td>\n",
       "      <td>0.005613</td>\n",
       "      <td>0.569968</td>\n",
       "      <td>22:40</td>\n",
       "    </tr>\n",
       "    <tr>\n",
       "      <td>9</td>\n",
       "      <td>0.004670</td>\n",
       "      <td>0.538211</td>\n",
       "      <td>0.005558</td>\n",
       "      <td>0.571372</td>\n",
       "      <td>23:04</td>\n",
       "    </tr>\n",
       "  </tbody>\n",
       "</table>"
      ],
      "text/plain": [
       "<IPython.core.display.HTML object>"
      ]
     },
     "metadata": {},
     "output_type": "display_data"
    },
    {
     "data": {
      "text/plain": [
       "Path('/home/deb/xcube/nbs/tmp/models/mimic2_tmp.pth')"
      ]
     },
     "execution_count": null,
     "metadata": {},
     "output_type": "execute_result"
    }
   ],
   "source": [
    "learn.fit(10, lr=1e-2)"
   ]
  },
  {
   "cell_type": "code",
   "execution_count": null,
   "id": "ee07d1ed-916e-4c52-b72f-fb488f5e8e47",
   "metadata": {},
   "outputs": [
    {
     "data": {
      "text/html": [
       "\n",
       "<style>\n",
       "    /* Turns off some styling */\n",
       "    progress {\n",
       "        /* gets rid of default border in Firefox and Opera. */\n",
       "        border: none;\n",
       "        /* Needs to be in here for Safari polyfill so background images work as expected. */\n",
       "        background-size: auto;\n",
       "    }\n",
       "    progress:not([value]), progress:not([value])::-webkit-progress-bar {\n",
       "        background: repeating-linear-gradient(45deg, #7e7e7e, #7e7e7e 10px, #5c5c5c 10px, #5c5c5c 20px);\n",
       "    }\n",
       "    .progress-bar-interrupted, .progress-bar-interrupted::-webkit-progress-bar {\n",
       "        background: #F44336;\n",
       "    }\n",
       "</style>\n"
      ],
      "text/plain": [
       "<IPython.core.display.HTML object>"
      ]
     },
     "metadata": {},
     "output_type": "display_data"
    },
    {
     "data": {
      "text/html": [
       "<table border=\"1\" class=\"dataframe\">\n",
       "  <thead>\n",
       "    <tr style=\"text-align: left;\">\n",
       "      <th>epoch</th>\n",
       "      <th>train_loss</th>\n",
       "      <th>train_precision_at_k</th>\n",
       "      <th>valid_loss</th>\n",
       "      <th>valid_precision_at_k</th>\n",
       "      <th>time</th>\n",
       "    </tr>\n",
       "  </thead>\n",
       "  <tbody>\n",
       "    <tr>\n",
       "      <td>0</td>\n",
       "      <td>0.004632</td>\n",
       "      <td>0.539177</td>\n",
       "      <td>0.005528</td>\n",
       "      <td>0.571847</td>\n",
       "      <td>22:36</td>\n",
       "    </tr>\n",
       "    <tr>\n",
       "      <td>1</td>\n",
       "      <td>0.004653</td>\n",
       "      <td>0.540667</td>\n",
       "      <td>0.005551</td>\n",
       "      <td>0.568802</td>\n",
       "      <td>22:27</td>\n",
       "    </tr>\n",
       "    <tr>\n",
       "      <td>2</td>\n",
       "      <td>0.004833</td>\n",
       "      <td>0.541256</td>\n",
       "      <td>0.005607</td>\n",
       "      <td>0.566588</td>\n",
       "      <td>24:31</td>\n",
       "    </tr>\n",
       "    <tr>\n",
       "      <td>3</td>\n",
       "      <td>0.004460</td>\n",
       "      <td>0.541850</td>\n",
       "      <td>0.005555</td>\n",
       "      <td>0.573665</td>\n",
       "      <td>26:17</td>\n",
       "    </tr>\n",
       "    <tr>\n",
       "      <td>4</td>\n",
       "      <td>0.004692</td>\n",
       "      <td>0.540970</td>\n",
       "      <td>0.005530</td>\n",
       "      <td>0.570522</td>\n",
       "      <td>23:43</td>\n",
       "    </tr>\n",
       "    <tr>\n",
       "      <td>5</td>\n",
       "      <td>0.004859</td>\n",
       "      <td>0.541696</td>\n",
       "      <td>0.005493</td>\n",
       "      <td>0.574812</td>\n",
       "      <td>22:50</td>\n",
       "    </tr>\n",
       "    <tr>\n",
       "      <td>6</td>\n",
       "      <td>0.004495</td>\n",
       "      <td>0.543965</td>\n",
       "      <td>0.005538</td>\n",
       "      <td>0.570364</td>\n",
       "      <td>22:46</td>\n",
       "    </tr>\n",
       "    <tr>\n",
       "      <td>7</td>\n",
       "      <td>0.004517</td>\n",
       "      <td>0.544347</td>\n",
       "      <td>0.005493</td>\n",
       "      <td>0.572875</td>\n",
       "      <td>23:18</td>\n",
       "    </tr>\n",
       "    <tr>\n",
       "      <td>8</td>\n",
       "      <td>0.004755</td>\n",
       "      <td>0.543222</td>\n",
       "      <td>0.005501</td>\n",
       "      <td>0.572578</td>\n",
       "      <td>23:29</td>\n",
       "    </tr>\n",
       "    <tr>\n",
       "      <td>9</td>\n",
       "      <td>0.004687</td>\n",
       "      <td>0.544784</td>\n",
       "      <td>0.005483</td>\n",
       "      <td>0.571076</td>\n",
       "      <td>22:44</td>\n",
       "    </tr>\n",
       "  </tbody>\n",
       "</table>"
      ],
      "text/plain": [
       "<IPython.core.display.HTML object>"
      ]
     },
     "metadata": {},
     "output_type": "display_data"
    },
    {
     "data": {
      "text/plain": [
       "Path('/home/deb/xcube/nbs/tmp/models/mimic3_tmp.pth')"
      ]
     },
     "execution_count": null,
     "metadata": {},
     "output_type": "execute_result"
    }
   ],
   "source": [
    "learn.fit(10, lr=1e-2)"
   ]
  },
  {
   "cell_type": "code",
   "execution_count": null,
   "id": "7d3d5003-e01a-4a14-813a-1194c21874b3",
   "metadata": {},
   "outputs": [],
   "source": [
    "learn.freeze_to(-3)"
   ]
  },
  {
   "cell_type": "code",
   "execution_count": null,
   "id": "dfd43579-77c0-4437-a44f-d500ef769098",
   "metadata": {},
   "outputs": [
    {
     "data": {
      "text/html": [
       "\n",
       "<style>\n",
       "    /* Turns off some styling */\n",
       "    progress {\n",
       "        /* gets rid of default border in Firefox and Opera. */\n",
       "        border: none;\n",
       "        /* Needs to be in here for Safari polyfill so background images work as expected. */\n",
       "        background-size: auto;\n",
       "    }\n",
       "    progress:not([value]), progress:not([value])::-webkit-progress-bar {\n",
       "        background: repeating-linear-gradient(45deg, #7e7e7e, #7e7e7e 10px, #5c5c5c 10px, #5c5c5c 20px);\n",
       "    }\n",
       "    .progress-bar-interrupted, .progress-bar-interrupted::-webkit-progress-bar {\n",
       "        background: #F44336;\n",
       "    }\n",
       "</style>\n"
      ],
      "text/plain": [
       "<IPython.core.display.HTML object>"
      ]
     },
     "metadata": {},
     "output_type": "display_data"
    },
    {
     "data": {
      "text/html": [
       "<table border=\"1\" class=\"dataframe\">\n",
       "  <thead>\n",
       "    <tr style=\"text-align: left;\">\n",
       "      <th>epoch</th>\n",
       "      <th>train_loss</th>\n",
       "      <th>train_precision_at_k</th>\n",
       "      <th>valid_loss</th>\n",
       "      <th>valid_precision_at_k</th>\n",
       "      <th>time</th>\n",
       "    </tr>\n",
       "  </thead>\n",
       "  <tbody>\n",
       "    <tr>\n",
       "      <td>0</td>\n",
       "      <td>0.004854</td>\n",
       "      <td>0.550886</td>\n",
       "      <td>0.005433</td>\n",
       "      <td>0.578094</td>\n",
       "      <td>1:09:40</td>\n",
       "    </tr>\n",
       "    <tr>\n",
       "      <td>1</td>\n",
       "      <td>0.004290</td>\n",
       "      <td>0.554642</td>\n",
       "      <td>0.005335</td>\n",
       "      <td>0.582720</td>\n",
       "      <td>1:13:00</td>\n",
       "    </tr>\n",
       "  </tbody>\n",
       "</table>"
      ],
      "text/plain": [
       "<IPython.core.display.HTML object>"
      ]
     },
     "metadata": {},
     "output_type": "display_data"
    },
    {
     "data": {
      "text/plain": [
       "Path('/home/deb/xcube/nbs/tmp/models/mimic4_tmp.pth')"
      ]
     },
     "execution_count": null,
     "metadata": {},
     "output_type": "execute_result"
    }
   ],
   "source": [
    "learn.fit(2, lr=1e-2)"
   ]
  },
  {
   "cell_type": "code",
   "execution_count": null,
   "id": "1f3edf97-2532-42ec-9f42-5dfab5d3b6da",
   "metadata": {},
   "outputs": [],
   "source": [
    "learn.freeze_to(-3)"
   ]
  },
  {
   "cell_type": "code",
   "execution_count": null,
   "id": "d4fb9811-65fb-4eef-8905-c2378ad63ec7",
   "metadata": {},
   "outputs": [
    {
     "data": {
      "text/html": [
       "\n",
       "<style>\n",
       "    /* Turns off some styling */\n",
       "    progress {\n",
       "        /* gets rid of default border in Firefox and Opera. */\n",
       "        border: none;\n",
       "        /* Needs to be in here for Safari polyfill so background images work as expected. */\n",
       "        background-size: auto;\n",
       "    }\n",
       "    progress:not([value]), progress:not([value])::-webkit-progress-bar {\n",
       "        background: repeating-linear-gradient(45deg, #7e7e7e, #7e7e7e 10px, #5c5c5c 10px, #5c5c5c 20px);\n",
       "    }\n",
       "    .progress-bar-interrupted, .progress-bar-interrupted::-webkit-progress-bar {\n",
       "        background: #F44336;\n",
       "    }\n",
       "</style>\n"
      ],
      "text/plain": [
       "<IPython.core.display.HTML object>"
      ]
     },
     "metadata": {},
     "output_type": "display_data"
    },
    {
     "data": {
      "text/html": [
       "<table border=\"1\" class=\"dataframe\">\n",
       "  <thead>\n",
       "    <tr style=\"text-align: left;\">\n",
       "      <th>epoch</th>\n",
       "      <th>train_loss</th>\n",
       "      <th>train_precision_at_k</th>\n",
       "      <th>valid_loss</th>\n",
       "      <th>valid_precision_at_k</th>\n",
       "      <th>time</th>\n",
       "    </tr>\n",
       "  </thead>\n",
       "  <tbody>\n",
       "    <tr>\n",
       "      <td>0</td>\n",
       "      <td>0.004555</td>\n",
       "      <td>0.558910</td>\n",
       "      <td>0.005358</td>\n",
       "      <td>0.583887</td>\n",
       "      <td>1:08:32</td>\n",
       "    </tr>\n",
       "    <tr>\n",
       "      <td>1</td>\n",
       "      <td>0.004249</td>\n",
       "      <td>0.559825</td>\n",
       "      <td>0.005338</td>\n",
       "      <td>0.582068</td>\n",
       "      <td>1:06:38</td>\n",
       "    </tr>\n",
       "    <tr>\n",
       "      <td>2</td>\n",
       "      <td>0.004497</td>\n",
       "      <td>0.557554</td>\n",
       "      <td>0.005273</td>\n",
       "      <td>0.588711</td>\n",
       "      <td>1:08:03</td>\n",
       "    </tr>\n",
       "    <tr>\n",
       "      <td>3</td>\n",
       "      <td>0.004690</td>\n",
       "      <td>0.557821</td>\n",
       "      <td>0.005338</td>\n",
       "      <td>0.582444</td>\n",
       "      <td>1:04:41</td>\n",
       "    </tr>\n",
       "    <tr>\n",
       "      <td>4</td>\n",
       "      <td>0.004420</td>\n",
       "      <td>0.559116</td>\n",
       "      <td>0.005297</td>\n",
       "      <td>0.585923</td>\n",
       "      <td>1:04:19</td>\n",
       "    </tr>\n",
       "  </tbody>\n",
       "</table>"
      ],
      "text/plain": [
       "<IPython.core.display.HTML object>"
      ]
     },
     "metadata": {},
     "output_type": "display_data"
    },
    {
     "name": "stdout",
     "output_type": "stream",
     "text": [
      "Better model found at epoch 0 with valid_precision_at_k value: 0.5838869118228547.\n",
      "Better model found at epoch 2 with valid_precision_at_k value: 0.5887109529458283.\n"
     ]
    }
   ],
   "source": [
    "learn.fit(5, lr=1e-2)"
   ]
  },
  {
   "cell_type": "code",
   "execution_count": null,
   "id": "c88b59b2-4eb4-4b7e-82d1-3b21078f145c",
   "metadata": {},
   "outputs": [],
   "source": [
    "learn.unfreeze()"
   ]
  },
  {
   "cell_type": "code",
   "execution_count": null,
   "id": "dbed9a43-8645-40d7-bbf3-df96ba02b33c",
   "metadata": {},
   "outputs": [
    {
     "data": {
      "text/html": [
       "\n",
       "<style>\n",
       "    /* Turns off some styling */\n",
       "    progress {\n",
       "        /* gets rid of default border in Firefox and Opera. */\n",
       "        border: none;\n",
       "        /* Needs to be in here for Safari polyfill so background images work as expected. */\n",
       "        background-size: auto;\n",
       "    }\n",
       "    progress:not([value]), progress:not([value])::-webkit-progress-bar {\n",
       "        background: repeating-linear-gradient(45deg, #7e7e7e, #7e7e7e 10px, #5c5c5c 10px, #5c5c5c 20px);\n",
       "    }\n",
       "    .progress-bar-interrupted, .progress-bar-interrupted::-webkit-progress-bar {\n",
       "        background: #F44336;\n",
       "    }\n",
       "</style>\n"
      ],
      "text/plain": [
       "<IPython.core.display.HTML object>"
      ]
     },
     "metadata": {},
     "output_type": "display_data"
    },
    {
     "data": {
      "text/html": [
       "<table border=\"1\" class=\"dataframe\">\n",
       "  <thead>\n",
       "    <tr style=\"text-align: left;\">\n",
       "      <th>epoch</th>\n",
       "      <th>train_loss</th>\n",
       "      <th>train_precision_at_k</th>\n",
       "      <th>valid_loss</th>\n",
       "      <th>valid_precision_at_k</th>\n",
       "      <th>time</th>\n",
       "    </tr>\n",
       "  </thead>\n",
       "  <tbody>\n",
       "    <tr>\n",
       "      <td>0</td>\n",
       "      <td>0.004274</td>\n",
       "      <td>0.571029</td>\n",
       "      <td>0.005253</td>\n",
       "      <td>0.589897</td>\n",
       "      <td>1:22:37</td>\n",
       "    </tr>\n",
       "    <tr>\n",
       "      <td>1</td>\n",
       "      <td>0.003970</td>\n",
       "      <td>0.573214</td>\n",
       "      <td>0.005237</td>\n",
       "      <td>0.590826</td>\n",
       "      <td>1:35:24</td>\n",
       "    </tr>\n",
       "    <tr>\n",
       "      <td>2</td>\n",
       "      <td>0.003580</td>\n",
       "      <td>0.576061</td>\n",
       "      <td>0.005224</td>\n",
       "      <td>0.592210</td>\n",
       "      <td>1:28:15</td>\n",
       "    </tr>\n",
       "    <tr>\n",
       "      <td>3</td>\n",
       "      <td>0.004398</td>\n",
       "      <td>0.573131</td>\n",
       "      <td>0.005213</td>\n",
       "      <td>0.592764</td>\n",
       "      <td>1:21:15</td>\n",
       "    </tr>\n",
       "    <tr>\n",
       "      <td>4</td>\n",
       "      <td>0.004146</td>\n",
       "      <td>0.573926</td>\n",
       "      <td>0.005203</td>\n",
       "      <td>0.593634</td>\n",
       "      <td>1:21:23</td>\n",
       "    </tr>\n",
       "    <tr>\n",
       "      <td>5</td>\n",
       "      <td>0.004096</td>\n",
       "      <td>0.575295</td>\n",
       "      <td>0.005194</td>\n",
       "      <td>0.594227</td>\n",
       "      <td>1:20:27</td>\n",
       "    </tr>\n",
       "    <tr>\n",
       "      <td>6</td>\n",
       "      <td>0.004011</td>\n",
       "      <td>0.575432</td>\n",
       "      <td>0.005185</td>\n",
       "      <td>0.594879</td>\n",
       "      <td>1:20:34</td>\n",
       "    </tr>\n",
       "    <tr>\n",
       "      <td>7</td>\n",
       "      <td>0.003997</td>\n",
       "      <td>0.576225</td>\n",
       "      <td>0.005178</td>\n",
       "      <td>0.595789</td>\n",
       "      <td>1:23:31</td>\n",
       "    </tr>\n",
       "    <tr>\n",
       "      <td>8</td>\n",
       "      <td>0.003942</td>\n",
       "      <td>0.577274</td>\n",
       "      <td>0.005171</td>\n",
       "      <td>0.596362</td>\n",
       "      <td>1:21:20</td>\n",
       "    </tr>\n",
       "    <tr>\n",
       "      <td>9</td>\n",
       "      <td>0.004266</td>\n",
       "      <td>0.577674</td>\n",
       "      <td>0.005164</td>\n",
       "      <td>0.596659</td>\n",
       "      <td>1:21:25</td>\n",
       "    </tr>\n",
       "    <tr>\n",
       "      <td>10</td>\n",
       "      <td>0.004115</td>\n",
       "      <td>0.578049</td>\n",
       "      <td>0.005158</td>\n",
       "      <td>0.597113</td>\n",
       "      <td>1:21:17</td>\n",
       "    </tr>\n",
       "    <tr>\n",
       "      <td>11</td>\n",
       "      <td>0.003978</td>\n",
       "      <td>0.578710</td>\n",
       "      <td>0.005152</td>\n",
       "      <td>0.597232</td>\n",
       "      <td>1:21:51</td>\n",
       "    </tr>\n",
       "  </tbody>\n",
       "</table>"
      ],
      "text/plain": [
       "<IPython.core.display.HTML object>"
      ]
     },
     "metadata": {},
     "output_type": "display_data"
    },
    {
     "name": "stdout",
     "output_type": "stream",
     "text": [
      "Better model found at epoch 0 with valid_precision_at_k value: 0.5898971925662319.\n",
      "Better model found at epoch 1 with valid_precision_at_k value: 0.5908264136022148.\n",
      "Better model found at epoch 2 with valid_precision_at_k value: 0.5922103598260184.\n",
      "Better model found at epoch 3 with valid_precision_at_k value: 0.59276393831554.\n",
      "Better model found at epoch 4 with valid_precision_at_k value: 0.5936338473705026.\n",
      "Better model found at epoch 5 with valid_precision_at_k value: 0.594226967180704.\n",
      "Better model found at epoch 6 with valid_precision_at_k value: 0.5948793989719259.\n",
      "Better model found at epoch 7 with valid_precision_at_k value: 0.5957888493475683.\n",
      "Better model found at epoch 8 with valid_precision_at_k value: 0.59636219849743.\n",
      "Better model found at epoch 9 with valid_precision_at_k value: 0.5966587584025307.\n",
      "Better model found at epoch 10 with valid_precision_at_k value: 0.5971134835903521.\n",
      "Better model found at epoch 11 with valid_precision_at_k value: 0.5972321075523922.\n"
     ]
    }
   ],
   "source": [
    "learn.fit(12, lr=1e-6, wd=0.3)"
   ]
  },
  {
   "cell_type": "code",
   "execution_count": null,
   "id": "b18d3735-961c-4037-a480-6d8c98ca4d02",
   "metadata": {},
   "outputs": [
    {
     "data": {
      "text/html": [
       "\n",
       "<style>\n",
       "    /* Turns off some styling */\n",
       "    progress {\n",
       "        /* gets rid of default border in Firefox and Opera. */\n",
       "        border: none;\n",
       "        /* Needs to be in here for Safari polyfill so background images work as expected. */\n",
       "        background-size: auto;\n",
       "    }\n",
       "    progress:not([value]), progress:not([value])::-webkit-progress-bar {\n",
       "        background: repeating-linear-gradient(45deg, #7e7e7e, #7e7e7e 10px, #5c5c5c 10px, #5c5c5c 20px);\n",
       "    }\n",
       "    .progress-bar-interrupted, .progress-bar-interrupted::-webkit-progress-bar {\n",
       "        background: #F44336;\n",
       "    }\n",
       "</style>\n"
      ],
      "text/plain": [
       "<IPython.core.display.HTML object>"
      ]
     },
     "metadata": {},
     "output_type": "display_data"
    },
    {
     "data": {
      "text/html": [
       "<table border=\"1\" class=\"dataframe\">\n",
       "  <thead>\n",
       "    <tr style=\"text-align: left;\">\n",
       "      <th>epoch</th>\n",
       "      <th>train_loss</th>\n",
       "      <th>train_precision_at_k</th>\n",
       "      <th>valid_loss</th>\n",
       "      <th>valid_precision_at_k</th>\n",
       "      <th>time</th>\n",
       "    </tr>\n",
       "  </thead>\n",
       "  <tbody>\n",
       "    <tr>\n",
       "      <td>0</td>\n",
       "      <td>0.004173</td>\n",
       "      <td>0.580595</td>\n",
       "      <td>0.005147</td>\n",
       "      <td>0.597628</td>\n",
       "      <td>1:27:59</td>\n",
       "    </tr>\n",
       "    <tr>\n",
       "      <td>1</td>\n",
       "      <td>0.003887</td>\n",
       "      <td>0.581874</td>\n",
       "      <td>0.005142</td>\n",
       "      <td>0.598082</td>\n",
       "      <td>1:26:58</td>\n",
       "    </tr>\n",
       "    <tr>\n",
       "      <td>2</td>\n",
       "      <td>0.003538</td>\n",
       "      <td>0.584128</td>\n",
       "      <td>0.005137</td>\n",
       "      <td>0.598280</td>\n",
       "      <td>1:25:40</td>\n",
       "    </tr>\n",
       "    <tr>\n",
       "      <td>3</td>\n",
       "      <td>0.004319</td>\n",
       "      <td>0.580220</td>\n",
       "      <td>0.005133</td>\n",
       "      <td>0.598557</td>\n",
       "      <td>1:22:04</td>\n",
       "    </tr>\n",
       "    <tr>\n",
       "      <td>4</td>\n",
       "      <td>0.004077</td>\n",
       "      <td>0.580681</td>\n",
       "      <td>0.005128</td>\n",
       "      <td>0.598754</td>\n",
       "      <td>1:29:05</td>\n",
       "    </tr>\n",
       "    <tr>\n",
       "      <td>5</td>\n",
       "      <td>0.004035</td>\n",
       "      <td>0.581153</td>\n",
       "      <td>0.005124</td>\n",
       "      <td>0.599229</td>\n",
       "      <td>1:23:48</td>\n",
       "    </tr>\n",
       "    <tr>\n",
       "      <td>6</td>\n",
       "      <td>0.003955</td>\n",
       "      <td>0.581074</td>\n",
       "      <td>0.005120</td>\n",
       "      <td>0.599644</td>\n",
       "      <td>1:27:02</td>\n",
       "    </tr>\n",
       "    <tr>\n",
       "      <td>7</td>\n",
       "      <td>0.003943</td>\n",
       "      <td>0.581586</td>\n",
       "      <td>0.005117</td>\n",
       "      <td>0.599960</td>\n",
       "      <td>1:25:09</td>\n",
       "    </tr>\n",
       "    <tr>\n",
       "      <td>8</td>\n",
       "      <td>0.003891</td>\n",
       "      <td>0.582050</td>\n",
       "      <td>0.005113</td>\n",
       "      <td>0.600138</td>\n",
       "      <td>1:25:04</td>\n",
       "    </tr>\n",
       "    <tr>\n",
       "      <td>9</td>\n",
       "      <td>0.004217</td>\n",
       "      <td>0.582461</td>\n",
       "      <td>0.005110</td>\n",
       "      <td>0.600178</td>\n",
       "      <td>1:32:48</td>\n",
       "    </tr>\n",
       "    <tr>\n",
       "      <td>10</td>\n",
       "      <td>0.004067</td>\n",
       "      <td>0.582578</td>\n",
       "      <td>0.005106</td>\n",
       "      <td>0.600811</td>\n",
       "      <td>1:34:01</td>\n",
       "    </tr>\n",
       "    <tr>\n",
       "      <td>11</td>\n",
       "      <td>0.003936</td>\n",
       "      <td>0.583004</td>\n",
       "      <td>0.005103</td>\n",
       "      <td>0.601008</td>\n",
       "      <td>1:27:10</td>\n",
       "    </tr>\n",
       "  </tbody>\n",
       "</table>"
      ],
      "text/plain": [
       "<IPython.core.display.HTML object>"
      ]
     },
     "metadata": {},
     "output_type": "display_data"
    },
    {
     "name": "stdout",
     "output_type": "stream",
     "text": [
      "Better model found at epoch 0 with valid_precision_at_k value: 0.5976275207591935.\n",
      "Better model found at epoch 1 with valid_precision_at_k value: 0.5980822459470149.\n",
      "Better model found at epoch 2 with valid_precision_at_k value: 0.5982799525504153.\n",
      "Better model found at epoch 3 with valid_precision_at_k value: 0.5985567417951758.\n",
      "Better model found at epoch 4 with valid_precision_at_k value: 0.5987544483985765.\n",
      "Better model found at epoch 5 with valid_precision_at_k value: 0.5992289442467379.\n",
      "Better model found at epoch 6 with valid_precision_at_k value: 0.5996441281138793.\n",
      "Better model found at epoch 7 with valid_precision_at_k value: 0.5999604586793202.\n",
      "Better model found at epoch 8 with valid_precision_at_k value: 0.6001383946223807.\n",
      "Better model found at epoch 9 with valid_precision_at_k value: 0.6001779359430608.\n",
      "Better model found at epoch 10 with valid_precision_at_k value: 0.6008105970739425.\n",
      "Better model found at epoch 11 with valid_precision_at_k value: 0.601008303677343.\n"
     ]
    }
   ],
   "source": [
    "learn.fit(12, lr=1e-6, wd=0.3)"
   ]
  },
  {
   "cell_type": "code",
   "execution_count": null,
   "id": "2b238ffe-2b95-452e-8b3a-ab7027ce1bcb",
   "metadata": {},
   "outputs": [
    {
     "data": {
      "text/html": [
       "\n",
       "<style>\n",
       "    /* Turns off some styling */\n",
       "    progress {\n",
       "        /* gets rid of default border in Firefox and Opera. */\n",
       "        border: none;\n",
       "        /* Needs to be in here for Safari polyfill so background images work as expected. */\n",
       "        background-size: auto;\n",
       "    }\n",
       "    progress:not([value]), progress:not([value])::-webkit-progress-bar {\n",
       "        background: repeating-linear-gradient(45deg, #7e7e7e, #7e7e7e 10px, #5c5c5c 10px, #5c5c5c 20px);\n",
       "    }\n",
       "    .progress-bar-interrupted, .progress-bar-interrupted::-webkit-progress-bar {\n",
       "        background: #F44336;\n",
       "    }\n",
       "</style>\n"
      ],
      "text/plain": [
       "<IPython.core.display.HTML object>"
      ]
     },
     "metadata": {},
     "output_type": "display_data"
    },
    {
     "data": {
      "text/html": [
       "<table border=\"1\" class=\"dataframe\">\n",
       "  <thead>\n",
       "    <tr style=\"text-align: left;\">\n",
       "      <th>epoch</th>\n",
       "      <th>train_loss</th>\n",
       "      <th>train_precision_at_k</th>\n",
       "      <th>valid_loss</th>\n",
       "      <th>valid_precision_at_k</th>\n",
       "      <th>time</th>\n",
       "    </tr>\n",
       "  </thead>\n",
       "  <tbody>\n",
       "    <tr>\n",
       "      <td>0</td>\n",
       "      <td>0.004131</td>\n",
       "      <td>0.584655</td>\n",
       "      <td>0.005100</td>\n",
       "      <td>0.601364</td>\n",
       "      <td>1:27:13</td>\n",
       "    </tr>\n",
       "    <tr>\n",
       "      <td>1</td>\n",
       "      <td>0.003851</td>\n",
       "      <td>0.585673</td>\n",
       "      <td>0.005098</td>\n",
       "      <td>0.601522</td>\n",
       "      <td>1:27:38</td>\n",
       "    </tr>\n",
       "    <tr>\n",
       "      <td>2</td>\n",
       "      <td>0.003534</td>\n",
       "      <td>0.587853</td>\n",
       "      <td>0.005095</td>\n",
       "      <td>0.601839</td>\n",
       "      <td>1:27:55</td>\n",
       "    </tr>\n",
       "    <tr>\n",
       "      <td>3</td>\n",
       "      <td>0.004281</td>\n",
       "      <td>0.583691</td>\n",
       "      <td>0.005092</td>\n",
       "      <td>0.602096</td>\n",
       "      <td>1:26:51</td>\n",
       "    </tr>\n",
       "    <tr>\n",
       "      <td>4</td>\n",
       "      <td>0.004044</td>\n",
       "      <td>0.584044</td>\n",
       "      <td>0.005090</td>\n",
       "      <td>0.602135</td>\n",
       "      <td>1:23:44</td>\n",
       "    </tr>\n",
       "    <tr>\n",
       "      <td>5</td>\n",
       "      <td>0.004004</td>\n",
       "      <td>0.584326</td>\n",
       "      <td>0.005088</td>\n",
       "      <td>0.602550</td>\n",
       "      <td>1:25:08</td>\n",
       "    </tr>\n",
       "    <tr>\n",
       "      <td>6</td>\n",
       "      <td>0.003927</td>\n",
       "      <td>0.584212</td>\n",
       "      <td>0.005085</td>\n",
       "      <td>0.602669</td>\n",
       "      <td>1:28:46</td>\n",
       "    </tr>\n",
       "    <tr>\n",
       "      <td>7</td>\n",
       "      <td>0.003916</td>\n",
       "      <td>0.584371</td>\n",
       "      <td>0.005083</td>\n",
       "      <td>0.602748</td>\n",
       "      <td>1:35:59</td>\n",
       "    </tr>\n",
       "    <tr>\n",
       "      <td>8</td>\n",
       "      <td>0.003863</td>\n",
       "      <td>0.584690</td>\n",
       "      <td>0.005081</td>\n",
       "      <td>0.603005</td>\n",
       "      <td>1:32:43</td>\n",
       "    </tr>\n",
       "    <tr>\n",
       "      <td>9</td>\n",
       "      <td>0.004190</td>\n",
       "      <td>0.585073</td>\n",
       "      <td>0.005079</td>\n",
       "      <td>0.603203</td>\n",
       "      <td>1:35:33</td>\n",
       "    </tr>\n",
       "    <tr>\n",
       "      <td>10</td>\n",
       "      <td>0.004041</td>\n",
       "      <td>0.584967</td>\n",
       "      <td>0.005077</td>\n",
       "      <td>0.603401</td>\n",
       "      <td>1:27:33</td>\n",
       "    </tr>\n",
       "    <tr>\n",
       "      <td>11</td>\n",
       "      <td>0.003914</td>\n",
       "      <td>0.585363</td>\n",
       "      <td>0.005075</td>\n",
       "      <td>0.603816</td>\n",
       "      <td>1:29:02</td>\n",
       "    </tr>\n",
       "  </tbody>\n",
       "</table>"
      ],
      "text/plain": [
       "<IPython.core.display.HTML object>"
      ]
     },
     "metadata": {},
     "output_type": "display_data"
    },
    {
     "name": "stdout",
     "output_type": "stream",
     "text": [
      "Better model found at epoch 0 with valid_precision_at_k value: 0.601364175563464.\n",
      "Better model found at epoch 1 with valid_precision_at_k value: 0.6015223408461846.\n",
      "Better model found at epoch 2 with valid_precision_at_k value: 0.6018386714116253.\n",
      "Better model found at epoch 3 with valid_precision_at_k value: 0.6020956899960457.\n",
      "Better model found at epoch 4 with valid_precision_at_k value: 0.6021352313167257.\n",
      "Better model found at epoch 5 with valid_precision_at_k value: 0.6025504151838669.\n",
      "Better model found at epoch 6 with valid_precision_at_k value: 0.6026690391459072.\n",
      "Better model found at epoch 7 with valid_precision_at_k value: 0.6027481217872676.\n",
      "Better model found at epoch 8 with valid_precision_at_k value: 0.6030051403716885.\n",
      "Better model found at epoch 9 with valid_precision_at_k value: 0.603202846975089.\n",
      "Better model found at epoch 10 with valid_precision_at_k value: 0.6034005535784894.\n",
      "Better model found at epoch 11 with valid_precision_at_k value: 0.6038157374456307.\n"
     ]
    }
   ],
   "source": [
    "learn.fit(12, lr=1e-6, wd=0.3)"
   ]
  },
  {
   "cell_type": "code",
   "execution_count": null,
   "id": "693a0c79-4f3a-4710-bd04-195647a08dd3",
   "metadata": {},
   "outputs": [
    {
     "data": {
      "text/html": [
       "\n",
       "<style>\n",
       "    /* Turns off some styling */\n",
       "    progress {\n",
       "        /* gets rid of default border in Firefox and Opera. */\n",
       "        border: none;\n",
       "        /* Needs to be in here for Safari polyfill so background images work as expected. */\n",
       "        background-size: auto;\n",
       "    }\n",
       "    progress:not([value]), progress:not([value])::-webkit-progress-bar {\n",
       "        background: repeating-linear-gradient(45deg, #7e7e7e, #7e7e7e 10px, #5c5c5c 10px, #5c5c5c 20px);\n",
       "    }\n",
       "    .progress-bar-interrupted, .progress-bar-interrupted::-webkit-progress-bar {\n",
       "        background: #F44336;\n",
       "    }\n",
       "</style>\n"
      ],
      "text/plain": [
       "<IPython.core.display.HTML object>"
      ]
     },
     "metadata": {},
     "output_type": "display_data"
    },
    {
     "data": {
      "text/html": [
       "<table border=\"1\" class=\"dataframe\">\n",
       "  <thead>\n",
       "    <tr style=\"text-align: left;\">\n",
       "      <th>epoch</th>\n",
       "      <th>train_loss</th>\n",
       "      <th>train_precision_at_k</th>\n",
       "      <th>valid_loss</th>\n",
       "      <th>valid_precision_at_k</th>\n",
       "      <th>time</th>\n",
       "    </tr>\n",
       "  </thead>\n",
       "  <tbody>\n",
       "    <tr>\n",
       "      <td>0</td>\n",
       "      <td>0.004109</td>\n",
       "      <td>0.586924</td>\n",
       "      <td>0.005073</td>\n",
       "      <td>0.603934</td>\n",
       "      <td>1:30:05</td>\n",
       "    </tr>\n",
       "    <tr>\n",
       "      <td>1</td>\n",
       "      <td>0.003831</td>\n",
       "      <td>0.587917</td>\n",
       "      <td>0.005072</td>\n",
       "      <td>0.604053</td>\n",
       "      <td>1:27:47</td>\n",
       "    </tr>\n",
       "    <tr>\n",
       "      <td>2</td>\n",
       "      <td>0.003542</td>\n",
       "      <td>0.589895</td>\n",
       "      <td>0.005070</td>\n",
       "      <td>0.604013</td>\n",
       "      <td>1:27:51</td>\n",
       "    </tr>\n",
       "    <tr>\n",
       "      <td>3</td>\n",
       "      <td>0.004260</td>\n",
       "      <td>0.585822</td>\n",
       "      <td>0.005069</td>\n",
       "      <td>0.603895</td>\n",
       "      <td>1:28:24</td>\n",
       "    </tr>\n",
       "    <tr>\n",
       "      <td>4</td>\n",
       "      <td>0.004025</td>\n",
       "      <td>0.586037</td>\n",
       "      <td>0.005067</td>\n",
       "      <td>0.603855</td>\n",
       "      <td>1:28:43</td>\n",
       "    </tr>\n",
       "    <tr>\n",
       "      <td>5</td>\n",
       "      <td>0.003987</td>\n",
       "      <td>0.586026</td>\n",
       "      <td>0.005066</td>\n",
       "      <td>0.604172</td>\n",
       "      <td>1:27:41</td>\n",
       "    </tr>\n",
       "    <tr>\n",
       "      <td>6</td>\n",
       "      <td>0.003912</td>\n",
       "      <td>0.586035</td>\n",
       "      <td>0.005064</td>\n",
       "      <td>0.604290</td>\n",
       "      <td>1:25:56</td>\n",
       "    </tr>\n",
       "    <tr>\n",
       "      <td>7</td>\n",
       "      <td>0.003901</td>\n",
       "      <td>0.586076</td>\n",
       "      <td>0.005063</td>\n",
       "      <td>0.604409</td>\n",
       "      <td>1:27:44</td>\n",
       "    </tr>\n",
       "    <tr>\n",
       "      <td>8</td>\n",
       "      <td>0.003848</td>\n",
       "      <td>0.586360</td>\n",
       "      <td>0.005061</td>\n",
       "      <td>0.604389</td>\n",
       "      <td>1:25:51</td>\n",
       "    </tr>\n",
       "    <tr>\n",
       "      <td>9</td>\n",
       "      <td>0.004176</td>\n",
       "      <td>0.586516</td>\n",
       "      <td>0.005060</td>\n",
       "      <td>0.604350</td>\n",
       "      <td>1:25:42</td>\n",
       "    </tr>\n",
       "    <tr>\n",
       "      <td>10</td>\n",
       "      <td>0.004026</td>\n",
       "      <td>0.586483</td>\n",
       "      <td>0.005059</td>\n",
       "      <td>0.604369</td>\n",
       "      <td>1:33:33</td>\n",
       "    </tr>\n",
       "    <tr>\n",
       "      <td>11</td>\n",
       "      <td>0.003901</td>\n",
       "      <td>0.586768</td>\n",
       "      <td>0.005058</td>\n",
       "      <td>0.604508</td>\n",
       "      <td>1:24:20</td>\n",
       "    </tr>\n",
       "    <tr>\n",
       "      <td>12</td>\n",
       "      <td>0.004077</td>\n",
       "      <td>0.586777</td>\n",
       "      <td>0.005057</td>\n",
       "      <td>0.604745</td>\n",
       "      <td>1:26:26</td>\n",
       "    </tr>\n",
       "    <tr>\n",
       "      <td>13</td>\n",
       "      <td>0.003919</td>\n",
       "      <td>0.586842</td>\n",
       "      <td>0.005056</td>\n",
       "      <td>0.604923</td>\n",
       "      <td>1:25:43</td>\n",
       "    </tr>\n",
       "    <tr>\n",
       "      <td>14</td>\n",
       "      <td>0.003948</td>\n",
       "      <td>0.586588</td>\n",
       "      <td>0.005055</td>\n",
       "      <td>0.605081</td>\n",
       "      <td>1:23:59</td>\n",
       "    </tr>\n",
       "    <tr>\n",
       "      <td>15</td>\n",
       "      <td>0.003915</td>\n",
       "      <td>0.586954</td>\n",
       "      <td>0.005054</td>\n",
       "      <td>0.605042</td>\n",
       "      <td>1:28:20</td>\n",
       "    </tr>\n",
       "    <tr>\n",
       "      <td>16</td>\n",
       "      <td>0.003949</td>\n",
       "      <td>0.587083</td>\n",
       "      <td>0.005053</td>\n",
       "      <td>0.605042</td>\n",
       "      <td>1:32:08</td>\n",
       "    </tr>\n",
       "  </tbody>\n",
       "</table>"
      ],
      "text/plain": [
       "<IPython.core.display.HTML object>"
      ]
     },
     "metadata": {},
     "output_type": "display_data"
    },
    {
     "name": "stdout",
     "output_type": "stream",
     "text": [
      "Better model found at epoch 0 with valid_precision_at_k value: 0.603934361407671.\n",
      "Better model found at epoch 1 with valid_precision_at_k value: 0.6040529853697115.\n",
      "Better model found at epoch 5 with valid_precision_at_k value: 0.6041716093317517.\n",
      "Better model found at epoch 6 with valid_precision_at_k value: 0.6042902332937922.\n",
      "Better model found at epoch 7 with valid_precision_at_k value: 0.6044088572558325.\n",
      "Better model found at epoch 11 with valid_precision_at_k value: 0.6045077105575327.\n",
      "Better model found at epoch 12 with valid_precision_at_k value: 0.6047449584816134.\n",
      "Better model found at epoch 13 with valid_precision_at_k value: 0.6049228944246741.\n",
      "Better model found at epoch 14 with valid_precision_at_k value: 0.6050810597073943.\n"
     ]
    }
   ],
   "source": [
    "learn.fit(17, lr=1e-6, wd=0.3)"
   ]
  },
  {
   "cell_type": "code",
   "execution_count": null,
   "id": "beea7b03-684f-4f2c-a30d-fef402a6d7b3",
   "metadata": {},
   "outputs": [
    {
     "data": {
      "text/html": [
       "\n",
       "<style>\n",
       "    /* Turns off some styling */\n",
       "    progress {\n",
       "        /* gets rid of default border in Firefox and Opera. */\n",
       "        border: none;\n",
       "        /* Needs to be in here for Safari polyfill so background images work as expected. */\n",
       "        background-size: auto;\n",
       "    }\n",
       "    progress:not([value]), progress:not([value])::-webkit-progress-bar {\n",
       "        background: repeating-linear-gradient(45deg, #7e7e7e, #7e7e7e 10px, #5c5c5c 10px, #5c5c5c 20px);\n",
       "    }\n",
       "    .progress-bar-interrupted, .progress-bar-interrupted::-webkit-progress-bar {\n",
       "        background: #F44336;\n",
       "    }\n",
       "</style>\n"
      ],
      "text/plain": [
       "<IPython.core.display.HTML object>"
      ]
     },
     "metadata": {},
     "output_type": "display_data"
    },
    {
     "data": {
      "text/html": [
       "<table border=\"1\" class=\"dataframe\">\n",
       "  <thead>\n",
       "    <tr style=\"text-align: left;\">\n",
       "      <th>epoch</th>\n",
       "      <th>train_loss</th>\n",
       "      <th>train_precision_at_k</th>\n",
       "      <th>valid_loss</th>\n",
       "      <th>valid_precision_at_k</th>\n",
       "      <th>time</th>\n",
       "    </tr>\n",
       "  </thead>\n",
       "  <tbody>\n",
       "    <tr>\n",
       "      <td>0</td>\n",
       "      <td>0.004095</td>\n",
       "      <td>0.588552</td>\n",
       "      <td>0.005054</td>\n",
       "      <td>0.604982</td>\n",
       "      <td>1:27:02</td>\n",
       "    </tr>\n",
       "    <tr>\n",
       "      <td>1</td>\n",
       "      <td>0.003819</td>\n",
       "      <td>0.589632</td>\n",
       "      <td>0.005053</td>\n",
       "      <td>0.605081</td>\n",
       "      <td>1:23:54</td>\n",
       "    </tr>\n",
       "    <tr>\n",
       "      <td>2</td>\n",
       "      <td>0.003560</td>\n",
       "      <td>0.591372</td>\n",
       "      <td>0.005052</td>\n",
       "      <td>0.605397</td>\n",
       "      <td>1:23:37</td>\n",
       "    </tr>\n",
       "    <tr>\n",
       "      <td>3</td>\n",
       "      <td>0.004247</td>\n",
       "      <td>0.587154</td>\n",
       "      <td>0.005051</td>\n",
       "      <td>0.605417</td>\n",
       "      <td>1:24:47</td>\n",
       "    </tr>\n",
       "    <tr>\n",
       "      <td>4</td>\n",
       "      <td>0.004014</td>\n",
       "      <td>0.587362</td>\n",
       "      <td>0.005050</td>\n",
       "      <td>0.605575</td>\n",
       "      <td>1:25:40</td>\n",
       "    </tr>\n",
       "    <tr>\n",
       "      <td>5</td>\n",
       "      <td>0.003976</td>\n",
       "      <td>0.587346</td>\n",
       "      <td>0.005050</td>\n",
       "      <td>0.605595</td>\n",
       "      <td>1:25:16</td>\n",
       "    </tr>\n",
       "    <tr>\n",
       "      <td>6</td>\n",
       "      <td>0.003904</td>\n",
       "      <td>0.587354</td>\n",
       "      <td>0.005049</td>\n",
       "      <td>0.605516</td>\n",
       "      <td>1:30:16</td>\n",
       "    </tr>\n",
       "    <tr>\n",
       "      <td>7</td>\n",
       "      <td>0.003893</td>\n",
       "      <td>0.587376</td>\n",
       "      <td>0.005048</td>\n",
       "      <td>0.605575</td>\n",
       "      <td>1:23:22</td>\n",
       "    </tr>\n",
       "    <tr>\n",
       "      <td>8</td>\n",
       "      <td>0.003840</td>\n",
       "      <td>0.587661</td>\n",
       "      <td>0.005048</td>\n",
       "      <td>0.605556</td>\n",
       "      <td>1:27:31</td>\n",
       "    </tr>\n",
       "    <tr>\n",
       "      <td>9</td>\n",
       "      <td>0.004168</td>\n",
       "      <td>0.587554</td>\n",
       "      <td>0.005047</td>\n",
       "      <td>0.605753</td>\n",
       "      <td>1:27:43</td>\n",
       "    </tr>\n",
       "    <tr>\n",
       "      <td>10</td>\n",
       "      <td>0.004018</td>\n",
       "      <td>0.587563</td>\n",
       "      <td>0.005046</td>\n",
       "      <td>0.605793</td>\n",
       "      <td>1:27:50</td>\n",
       "    </tr>\n",
       "    <tr>\n",
       "      <td>11</td>\n",
       "      <td>0.003895</td>\n",
       "      <td>0.587731</td>\n",
       "      <td>0.005046</td>\n",
       "      <td>0.605931</td>\n",
       "      <td>1:22:51</td>\n",
       "    </tr>\n",
       "  </tbody>\n",
       "</table>"
      ],
      "text/plain": [
       "<IPython.core.display.HTML object>"
      ]
     },
     "metadata": {},
     "output_type": "display_data"
    },
    {
     "name": "stdout",
     "output_type": "stream",
     "text": [
      "Better model found at epoch 1 with valid_precision_at_k value: 0.6050810597073941.\n",
      "Better model found at epoch 2 with valid_precision_at_k value: 0.6053973902728351.\n",
      "Better model found at epoch 3 with valid_precision_at_k value: 0.6054171609331752.\n",
      "Better model found at epoch 4 with valid_precision_at_k value: 0.6055753262158957.\n",
      "Better model found at epoch 5 with valid_precision_at_k value: 0.6055950968762357.\n",
      "Better model found at epoch 9 with valid_precision_at_k value: 0.6057532621589561.\n",
      "Better model found at epoch 10 with valid_precision_at_k value: 0.6057928034796363.\n",
      "Better model found at epoch 11 with valid_precision_at_k value: 0.6059311981020166.\n"
     ]
    }
   ],
   "source": [
    "learn.fit(12, lr=1e-6, wd=0.3)"
   ]
  },
  {
   "cell_type": "markdown",
   "id": "421d6b30-fb6f-4a2a-9378-78360603f2e4",
   "metadata": {},
   "source": [
    "start here:"
   ]
  },
  {
   "cell_type": "code",
   "execution_count": null,
   "id": "f772eb63-ee26-49c9-bff6-8333944678bc",
   "metadata": {},
   "outputs": [
    {
     "name": "stdout",
     "output_type": "stream",
     "text": [
      "mimic3-9k_clas_full\n",
      "best so far = None\n"
     ]
    },
    {
     "data": {
      "text/html": [
       "\n",
       "<style>\n",
       "    /* Turns off some styling */\n",
       "    progress {\n",
       "        /* gets rid of default border in Firefox and Opera. */\n",
       "        border: none;\n",
       "        /* Needs to be in here for Safari polyfill so background images work as expected. */\n",
       "        background-size: auto;\n",
       "    }\n",
       "    progress:not([value]), progress:not([value])::-webkit-progress-bar {\n",
       "        background: repeating-linear-gradient(45deg, #7e7e7e, #7e7e7e 10px, #5c5c5c 10px, #5c5c5c 20px);\n",
       "    }\n",
       "    .progress-bar-interrupted, .progress-bar-interrupted::-webkit-progress-bar {\n",
       "        background: #F44336;\n",
       "    }\n",
       "</style>\n"
      ],
      "text/plain": [
       "<IPython.core.display.HTML object>"
      ]
     },
     "metadata": {},
     "output_type": "display_data"
    },
    {
     "data": {
      "text/html": [],
      "text/plain": [
       "<IPython.core.display.HTML object>"
      ]
     },
     "metadata": {},
     "output_type": "display_data"
    },
    {
     "name": "stdout",
     "output_type": "stream",
     "text": [
      "[0.00504577299579978, 0.6059311981020166]\n",
      "best so far = None\n"
     ]
    }
   ],
   "source": [
    "print(learn.save_model.fname)\n",
    "learn.save_model.reset_on_fit=False\n",
    "assert not learn.save_model.reset_on_fit\n",
    "learn = learn.load(learn.save_model.fname)\n",
    "validate(learn)"
   ]
  },
  {
   "cell_type": "code",
   "execution_count": null,
   "id": "208b84b1-7a5b-4cbc-8b7b-9e866dbf6f60",
   "metadata": {},
   "outputs": [],
   "source": [
    "learn.save_model.best = 0.605931198"
   ]
  },
  {
   "cell_type": "markdown",
   "id": "295a4c34-a256-45c5-b7d2-1e6a8b40dc73",
   "metadata": {},
   "source": [
    "Now unfreeze and train more if you want:"
   ]
  },
  {
   "cell_type": "code",
   "execution_count": null,
   "id": "1271c9be-42d2-4766-9b31-4a7318f3f769",
   "metadata": {},
   "outputs": [],
   "source": [
    "learn.unfreeze()"
   ]
  },
  {
   "cell_type": "code",
   "execution_count": null,
   "id": "0921c10f-c9f4-4fd5-b4c6-610d22c4c58f",
   "metadata": {},
   "outputs": [
    {
     "data": {
      "text/html": [
       "\n",
       "<style>\n",
       "    /* Turns off some styling */\n",
       "    progress {\n",
       "        /* gets rid of default border in Firefox and Opera. */\n",
       "        border: none;\n",
       "        /* Needs to be in here for Safari polyfill so background images work as expected. */\n",
       "        background-size: auto;\n",
       "    }\n",
       "    progress:not([value]), progress:not([value])::-webkit-progress-bar {\n",
       "        background: repeating-linear-gradient(45deg, #7e7e7e, #7e7e7e 10px, #5c5c5c 10px, #5c5c5c 20px);\n",
       "    }\n",
       "    .progress-bar-interrupted, .progress-bar-interrupted::-webkit-progress-bar {\n",
       "        background: #F44336;\n",
       "    }\n",
       "</style>\n"
      ],
      "text/plain": [
       "<IPython.core.display.HTML object>"
      ]
     },
     "metadata": {},
     "output_type": "display_data"
    },
    {
     "data": {
      "text/html": [
       "<table border=\"1\" class=\"dataframe\">\n",
       "  <thead>\n",
       "    <tr style=\"text-align: left;\">\n",
       "      <th>epoch</th>\n",
       "      <th>train_loss</th>\n",
       "      <th>train_precision_at_k</th>\n",
       "      <th>valid_loss</th>\n",
       "      <th>valid_precision_at_k</th>\n",
       "      <th>time</th>\n",
       "    </tr>\n",
       "  </thead>\n",
       "  <tbody>\n",
       "    <tr>\n",
       "      <td>0</td>\n",
       "      <td>0.004091</td>\n",
       "      <td>0.589346</td>\n",
       "      <td>0.005045</td>\n",
       "      <td>0.605832</td>\n",
       "      <td>1:26:58</td>\n",
       "    </tr>\n",
       "    <tr>\n",
       "      <td>1</td>\n",
       "      <td>0.003816</td>\n",
       "      <td>0.590275</td>\n",
       "      <td>0.005045</td>\n",
       "      <td>0.605872</td>\n",
       "      <td>1:39:14</td>\n",
       "    </tr>\n",
       "    <tr>\n",
       "      <td>2</td>\n",
       "      <td>0.003580</td>\n",
       "      <td>0.591960</td>\n",
       "      <td>0.005044</td>\n",
       "      <td>0.605971</td>\n",
       "      <td>1:24:25</td>\n",
       "    </tr>\n",
       "    <tr>\n",
       "      <td>3</td>\n",
       "      <td>0.004243</td>\n",
       "      <td>0.587718</td>\n",
       "      <td>0.005044</td>\n",
       "      <td>0.606030</td>\n",
       "      <td>1:29:50</td>\n",
       "    </tr>\n",
       "    <tr>\n",
       "      <td>4</td>\n",
       "      <td>0.004012</td>\n",
       "      <td>0.587808</td>\n",
       "      <td>0.005044</td>\n",
       "      <td>0.606168</td>\n",
       "      <td>1:26:04</td>\n",
       "    </tr>\n",
       "    <tr>\n",
       "      <td>5</td>\n",
       "      <td>0.003974</td>\n",
       "      <td>0.587973</td>\n",
       "      <td>0.005043</td>\n",
       "      <td>0.606070</td>\n",
       "      <td>1:25:14</td>\n",
       "    </tr>\n",
       "    <tr>\n",
       "      <td>6</td>\n",
       "      <td>0.003903</td>\n",
       "      <td>0.587727</td>\n",
       "      <td>0.005043</td>\n",
       "      <td>0.605991</td>\n",
       "      <td>1:25:52</td>\n",
       "    </tr>\n",
       "    <tr>\n",
       "      <td>7</td>\n",
       "      <td>0.003892</td>\n",
       "      <td>0.587734</td>\n",
       "      <td>0.005043</td>\n",
       "      <td>0.606010</td>\n",
       "      <td>1:30:01</td>\n",
       "    </tr>\n",
       "    <tr>\n",
       "      <td>8</td>\n",
       "      <td>0.003839</td>\n",
       "      <td>0.588023</td>\n",
       "      <td>0.005042</td>\n",
       "      <td>0.606010</td>\n",
       "      <td>1:27:09</td>\n",
       "    </tr>\n",
       "    <tr>\n",
       "      <td>9</td>\n",
       "      <td>0.004167</td>\n",
       "      <td>0.588038</td>\n",
       "      <td>0.005042</td>\n",
       "      <td>0.606070</td>\n",
       "      <td>1:27:05</td>\n",
       "    </tr>\n",
       "    <tr>\n",
       "      <td>10</td>\n",
       "      <td>0.004016</td>\n",
       "      <td>0.587855</td>\n",
       "      <td>0.005042</td>\n",
       "      <td>0.606070</td>\n",
       "      <td>1:33:34</td>\n",
       "    </tr>\n",
       "    <tr>\n",
       "      <td>11</td>\n",
       "      <td>0.003895</td>\n",
       "      <td>0.588136</td>\n",
       "      <td>0.005041</td>\n",
       "      <td>0.606089</td>\n",
       "      <td>1:35:38</td>\n",
       "    </tr>\n",
       "  </tbody>\n",
       "</table>"
      ],
      "text/plain": [
       "<IPython.core.display.HTML object>"
      ]
     },
     "metadata": {},
     "output_type": "display_data"
    },
    {
     "name": "stdout",
     "output_type": "stream",
     "text": [
      "Better model found at epoch 2 with valid_precision_at_k value: 0.6059707394226967.\n",
      "Better model found at epoch 3 with valid_precision_at_k value: 0.6060300514037169.\n",
      "Better model found at epoch 4 with valid_precision_at_k value: 0.6061684460260972.\n"
     ]
    }
   ],
   "source": [
    "learn.fit(12, lr=1e-6, wd=0.3)"
   ]
  },
  {
   "cell_type": "markdown",
   "id": "bba01272-8b06-4cbc-a929-9d059e612dba",
   "metadata": {},
   "source": [
    "## Fine-Tuning the MIMIC3-Top50 Classifier "
   ]
  },
  {
   "cell_type": "code",
   "execution_count": null,
   "id": "8c421e94-a09c-4275-9e8e-07c21ca0a36a",
   "metadata": {},
   "outputs": [
    {
     "data": {
      "text/html": [
       "\n",
       "<style>\n",
       "    /* Turns off some styling */\n",
       "    progress {\n",
       "        /* gets rid of default border in Firefox and Opera. */\n",
       "        border: none;\n",
       "        /* Needs to be in here for Safari polyfill so background images work as expected. */\n",
       "        background-size: auto;\n",
       "    }\n",
       "    progress:not([value]), progress:not([value])::-webkit-progress-bar {\n",
       "        background: repeating-linear-gradient(45deg, #7e7e7e, #7e7e7e 10px, #5c5c5c 10px, #5c5c5c 20px);\n",
       "    }\n",
       "    .progress-bar-interrupted, .progress-bar-interrupted::-webkit-progress-bar {\n",
       "        background: #F44336;\n",
       "    }\n",
       "</style>\n"
      ],
      "text/plain": [
       "<IPython.core.display.HTML object>"
      ]
     },
     "metadata": {},
     "output_type": "display_data"
    },
    {
     "data": {
      "text/html": [
       "<table border=\"1\" class=\"dataframe\">\n",
       "  <thead>\n",
       "    <tr style=\"text-align: left;\">\n",
       "      <th>epoch</th>\n",
       "      <th>train_loss</th>\n",
       "      <th>train_precision_at_k</th>\n",
       "      <th>valid_loss</th>\n",
       "      <th>valid_precision_at_k</th>\n",
       "      <th>time</th>\n",
       "    </tr>\n",
       "  </thead>\n",
       "  <tbody>\n",
       "    <tr>\n",
       "      <td>0</td>\n",
       "      <td>0.250869</td>\n",
       "      <td>0.278945</td>\n",
       "      <td>0.272412</td>\n",
       "      <td>0.293503</td>\n",
       "      <td>07:48</td>\n",
       "    </tr>\n",
       "    <tr>\n",
       "      <td>1</td>\n",
       "      <td>0.248264</td>\n",
       "      <td>0.290642</td>\n",
       "      <td>0.269777</td>\n",
       "      <td>0.295007</td>\n",
       "      <td>07:52</td>\n",
       "    </tr>\n",
       "    <tr>\n",
       "      <td>2</td>\n",
       "      <td>0.255823</td>\n",
       "      <td>0.292643</td>\n",
       "      <td>0.270970</td>\n",
       "      <td>0.294621</td>\n",
       "      <td>07:42</td>\n",
       "    </tr>\n",
       "    <tr>\n",
       "      <td>3</td>\n",
       "      <td>0.250543</td>\n",
       "      <td>0.293888</td>\n",
       "      <td>0.268915</td>\n",
       "      <td>0.294158</td>\n",
       "      <td>08:09</td>\n",
       "    </tr>\n",
       "    <tr>\n",
       "      <td>4</td>\n",
       "      <td>0.246562</td>\n",
       "      <td>0.294719</td>\n",
       "      <td>0.270428</td>\n",
       "      <td>0.293619</td>\n",
       "      <td>07:47</td>\n",
       "    </tr>\n",
       "  </tbody>\n",
       "</table>"
      ],
      "text/plain": [
       "<IPython.core.display.HTML object>"
      ]
     },
     "metadata": {},
     "output_type": "display_data"
    },
    {
     "name": "stdout",
     "output_type": "stream",
     "text": [
      "Better model found at epoch 0 with valid_precision_at_k value: 0.2935029882398302.\n",
      "Better model found at epoch 1 with valid_precision_at_k value: 0.2950067476383264.\n"
     ]
    }
   ],
   "source": [
    "learn.fit(5, lr=3e-2)"
   ]
  },
  {
   "cell_type": "code",
   "execution_count": null,
   "id": "03971f61-30b1-45ac-8c3c-eba5b6c55984",
   "metadata": {},
   "outputs": [],
   "source": [
    "learn.freeze_to(-2)"
   ]
  },
  {
   "cell_type": "code",
   "execution_count": null,
   "id": "a212c04e-97b7-450e-b8fa-19f07f51a321",
   "metadata": {},
   "outputs": [
    {
     "data": {
      "text/html": [
       "\n",
       "<style>\n",
       "    /* Turns off some styling */\n",
       "    progress {\n",
       "        /* gets rid of default border in Firefox and Opera. */\n",
       "        border: none;\n",
       "        /* Needs to be in here for Safari polyfill so background images work as expected. */\n",
       "        background-size: auto;\n",
       "    }\n",
       "    progress:not([value]), progress:not([value])::-webkit-progress-bar {\n",
       "        background: repeating-linear-gradient(45deg, #7e7e7e, #7e7e7e 10px, #5c5c5c 10px, #5c5c5c 20px);\n",
       "    }\n",
       "    .progress-bar-interrupted, .progress-bar-interrupted::-webkit-progress-bar {\n",
       "        background: #F44336;\n",
       "    }\n",
       "</style>\n"
      ],
      "text/plain": [
       "<IPython.core.display.HTML object>"
      ]
     },
     "metadata": {},
     "output_type": "display_data"
    },
    {
     "data": {
      "text/html": [
       "<table border=\"1\" class=\"dataframe\">\n",
       "  <thead>\n",
       "    <tr style=\"text-align: left;\">\n",
       "      <th>epoch</th>\n",
       "      <th>train_loss</th>\n",
       "      <th>train_precision_at_k</th>\n",
       "      <th>valid_loss</th>\n",
       "      <th>valid_precision_at_k</th>\n",
       "      <th>time</th>\n",
       "    </tr>\n",
       "  </thead>\n",
       "  <tbody>\n",
       "    <tr>\n",
       "      <td>0</td>\n",
       "      <td>0.234202</td>\n",
       "      <td>0.301627</td>\n",
       "      <td>0.259524</td>\n",
       "      <td>0.301986</td>\n",
       "      <td>07:45</td>\n",
       "    </tr>\n",
       "    <tr>\n",
       "      <td>1</td>\n",
       "      <td>0.232362</td>\n",
       "      <td>0.303523</td>\n",
       "      <td>0.259079</td>\n",
       "      <td>0.304029</td>\n",
       "      <td>07:44</td>\n",
       "    </tr>\n",
       "    <tr>\n",
       "      <td>2</td>\n",
       "      <td>0.233226</td>\n",
       "      <td>0.303391</td>\n",
       "      <td>0.258975</td>\n",
       "      <td>0.301446</td>\n",
       "      <td>07:41</td>\n",
       "    </tr>\n",
       "    <tr>\n",
       "      <td>3</td>\n",
       "      <td>0.235122</td>\n",
       "      <td>0.303599</td>\n",
       "      <td>0.258104</td>\n",
       "      <td>0.302333</td>\n",
       "      <td>07:53</td>\n",
       "    </tr>\n",
       "    <tr>\n",
       "      <td>4</td>\n",
       "      <td>0.233196</td>\n",
       "      <td>0.303807</td>\n",
       "      <td>0.258550</td>\n",
       "      <td>0.304453</td>\n",
       "      <td>07:50</td>\n",
       "    </tr>\n",
       "  </tbody>\n",
       "</table>"
      ],
      "text/plain": [
       "<IPython.core.display.HTML object>"
      ]
     },
     "metadata": {},
     "output_type": "display_data"
    },
    {
     "name": "stdout",
     "output_type": "stream",
     "text": [
      "Better model found at epoch 0 with valid_precision_at_k value: 0.30198573356468095.\n",
      "Better model found at epoch 1 with valid_precision_at_k value: 0.3040293040293041.\n",
      "Better model found at epoch 4 with valid_precision_at_k value: 0.3044534412955467.\n"
     ]
    }
   ],
   "source": [
    "learn.fit(5, lr=1e-2)"
   ]
  },
  {
   "cell_type": "code",
   "execution_count": null,
   "id": "397dde94-060e-4edc-812e-1ce504e571a1",
   "metadata": {},
   "outputs": [],
   "source": [
    "learn.freeze_to(-3)"
   ]
  },
  {
   "cell_type": "code",
   "execution_count": null,
   "id": "2165f986-edd2-451d-92ed-08a39ef439f1",
   "metadata": {},
   "outputs": [
    {
     "data": {
      "text/html": [
       "\n",
       "<style>\n",
       "    /* Turns off some styling */\n",
       "    progress {\n",
       "        /* gets rid of default border in Firefox and Opera. */\n",
       "        border: none;\n",
       "        /* Needs to be in here for Safari polyfill so background images work as expected. */\n",
       "        background-size: auto;\n",
       "    }\n",
       "    progress:not([value]), progress:not([value])::-webkit-progress-bar {\n",
       "        background: repeating-linear-gradient(45deg, #7e7e7e, #7e7e7e 10px, #5c5c5c 10px, #5c5c5c 20px);\n",
       "    }\n",
       "    .progress-bar-interrupted, .progress-bar-interrupted::-webkit-progress-bar {\n",
       "        background: #F44336;\n",
       "    }\n",
       "</style>\n"
      ],
      "text/plain": [
       "<IPython.core.display.HTML object>"
      ]
     },
     "metadata": {},
     "output_type": "display_data"
    },
    {
     "data": {
      "text/html": [
       "<table border=\"1\" class=\"dataframe\">\n",
       "  <thead>\n",
       "    <tr style=\"text-align: left;\">\n",
       "      <th>epoch</th>\n",
       "      <th>train_loss</th>\n",
       "      <th>train_precision_at_k</th>\n",
       "      <th>valid_loss</th>\n",
       "      <th>valid_precision_at_k</th>\n",
       "      <th>time</th>\n",
       "    </tr>\n",
       "  </thead>\n",
       "  <tbody>\n",
       "    <tr>\n",
       "      <td>0</td>\n",
       "      <td>0.215768</td>\n",
       "      <td>0.316985</td>\n",
       "      <td>0.215016</td>\n",
       "      <td>0.342009</td>\n",
       "      <td>08:00</td>\n",
       "    </tr>\n",
       "    <tr>\n",
       "      <td>1</td>\n",
       "      <td>0.196379</td>\n",
       "      <td>0.330717</td>\n",
       "      <td>0.204793</td>\n",
       "      <td>0.347021</td>\n",
       "      <td>07:49</td>\n",
       "    </tr>\n",
       "    <tr>\n",
       "      <td>2</td>\n",
       "      <td>0.182303</td>\n",
       "      <td>0.335624</td>\n",
       "      <td>0.205073</td>\n",
       "      <td>0.345518</td>\n",
       "      <td>09:48</td>\n",
       "    </tr>\n",
       "    <tr>\n",
       "      <td>3</td>\n",
       "      <td>0.182593</td>\n",
       "      <td>0.336330</td>\n",
       "      <td>0.199707</td>\n",
       "      <td>0.347985</td>\n",
       "      <td>07:42</td>\n",
       "    </tr>\n",
       "    <tr>\n",
       "      <td>4</td>\n",
       "      <td>0.178378</td>\n",
       "      <td>0.338151</td>\n",
       "      <td>0.199014</td>\n",
       "      <td>0.349142</td>\n",
       "      <td>07:49</td>\n",
       "    </tr>\n",
       "  </tbody>\n",
       "</table>"
      ],
      "text/plain": [
       "<IPython.core.display.HTML object>"
      ]
     },
     "metadata": {},
     "output_type": "display_data"
    },
    {
     "name": "stdout",
     "output_type": "stream",
     "text": [
      "Better model found at epoch 0 with valid_precision_at_k value: 0.3420088683246578.\n",
      "Better model found at epoch 1 with valid_precision_at_k value: 0.3470213996529786.\n",
      "Better model found at epoch 3 with valid_precision_at_k value: 0.3479853479853479.\n",
      "Better model found at epoch 4 with valid_precision_at_k value: 0.34914208598419116.\n"
     ]
    }
   ],
   "source": [
    "learn.fit(5, lr=1e-2)"
   ]
  },
  {
   "cell_type": "code",
   "execution_count": null,
   "id": "aa04d6aa-b573-439b-bc22-d5eb59c25f8e",
   "metadata": {},
   "outputs": [
    {
     "name": "stdout",
     "output_type": "stream",
     "text": [
      "mimic3-9k_top50\n",
      "best so far = -inf\n"
     ]
    },
    {
     "data": {
      "text/html": [
       "\n",
       "<style>\n",
       "    /* Turns off some styling */\n",
       "    progress {\n",
       "        /* gets rid of default border in Firefox and Opera. */\n",
       "        border: none;\n",
       "        /* Needs to be in here for Safari polyfill so background images work as expected. */\n",
       "        background-size: auto;\n",
       "    }\n",
       "    progress:not([value]), progress:not([value])::-webkit-progress-bar {\n",
       "        background: repeating-linear-gradient(45deg, #7e7e7e, #7e7e7e 10px, #5c5c5c 10px, #5c5c5c 20px);\n",
       "    }\n",
       "    .progress-bar-interrupted, .progress-bar-interrupted::-webkit-progress-bar {\n",
       "        background: #F44336;\n",
       "    }\n",
       "</style>\n"
      ],
      "text/plain": [
       "<IPython.core.display.HTML object>"
      ]
     },
     "metadata": {},
     "output_type": "display_data"
    },
    {
     "data": {
      "text/html": [],
      "text/plain": [
       "<IPython.core.display.HTML object>"
      ]
     },
     "metadata": {},
     "output_type": "display_data"
    },
    {
     "name": "stdout",
     "output_type": "stream",
     "text": [
      "[0.1749049723148346, 0.36016965490649694]\n",
      "best so far = -inf\n"
     ]
    }
   ],
   "source": [
    "print(learn.save_model.fname)\n",
    "learn.save_model.reset_on_fit=False\n",
    "assert not learn.save_model.reset_on_fit\n",
    "learn = learn.load(learn.save_model.fname)\n",
    "validate(learn)"
   ]
  },
  {
   "cell_type": "code",
   "execution_count": null,
   "id": "6a6ca857-62fb-4fe4-be61-ef09ac61ee86",
   "metadata": {},
   "outputs": [],
   "source": [
    "learn.save_model.best = 0.360169"
   ]
  },
  {
   "cell_type": "markdown",
   "id": "eff2c068-64e0-494c-a684-856eef2e778d",
   "metadata": {},
   "source": [
    "Now unfreeze and train more if you want:"
   ]
  },
  {
   "cell_type": "code",
   "execution_count": null,
   "id": "905777ce-ca10-402c-bcce-bdf733a7ba48",
   "metadata": {},
   "outputs": [],
   "source": [
    "learn.unfreeze()"
   ]
  },
  {
   "cell_type": "code",
   "execution_count": null,
   "id": "1e7c476b-6389-45c1-b4a0-cad00266ced2",
   "metadata": {},
   "outputs": [
    {
     "data": {
      "text/html": [
       "\n",
       "<style>\n",
       "    /* Turns off some styling */\n",
       "    progress {\n",
       "        /* gets rid of default border in Firefox and Opera. */\n",
       "        border: none;\n",
       "        /* Needs to be in here for Safari polyfill so background images work as expected. */\n",
       "        background-size: auto;\n",
       "    }\n",
       "    progress:not([value]), progress:not([value])::-webkit-progress-bar {\n",
       "        background: repeating-linear-gradient(45deg, #7e7e7e, #7e7e7e 10px, #5c5c5c 10px, #5c5c5c 20px);\n",
       "    }\n",
       "    .progress-bar-interrupted, .progress-bar-interrupted::-webkit-progress-bar {\n",
       "        background: #F44336;\n",
       "    }\n",
       "</style>\n"
      ],
      "text/plain": [
       "<IPython.core.display.HTML object>"
      ]
     },
     "metadata": {},
     "output_type": "display_data"
    },
    {
     "data": {
      "text/html": [
       "<table border=\"1\" class=\"dataframe\">\n",
       "  <thead>\n",
       "    <tr style=\"text-align: left;\">\n",
       "      <th>epoch</th>\n",
       "      <th>train_loss</th>\n",
       "      <th>train_precision_at_k</th>\n",
       "      <th>valid_loss</th>\n",
       "      <th>valid_precision_at_k</th>\n",
       "      <th>time</th>\n",
       "    </tr>\n",
       "  </thead>\n",
       "  <tbody>\n",
       "    <tr>\n",
       "      <td>0</td>\n",
       "      <td>0.135149</td>\n",
       "      <td>0.356575</td>\n",
       "      <td>0.174460</td>\n",
       "      <td>0.360015</td>\n",
       "      <td>18:06</td>\n",
       "    </tr>\n",
       "    <tr>\n",
       "      <td>1</td>\n",
       "      <td>0.134014</td>\n",
       "      <td>0.356956</td>\n",
       "      <td>0.174312</td>\n",
       "      <td>0.359823</td>\n",
       "      <td>17:44</td>\n",
       "    </tr>\n",
       "    <tr>\n",
       "      <td>2</td>\n",
       "      <td>0.133684</td>\n",
       "      <td>0.356506</td>\n",
       "      <td>0.174259</td>\n",
       "      <td>0.360015</td>\n",
       "      <td>17:39</td>\n",
       "    </tr>\n",
       "  </tbody>\n",
       "</table>"
      ],
      "text/plain": [
       "<IPython.core.display.HTML object>"
      ]
     },
     "metadata": {},
     "output_type": "display_data"
    }
   ],
   "source": [
    "learn.fit(3, lr=1e-6, wd=0.3)"
   ]
  },
  {
   "cell_type": "code",
   "execution_count": null,
   "id": "080d8899-2f9c-4469-911a-1318e51fd113",
   "metadata": {},
   "outputs": [],
   "source": [
    "# learn.metrics += [partial(precision_at_k, k=5), partial(precision_at_k, k=8)]\n",
    "learn.metrics = partial(precision_at_k, k=15)"
   ]
  },
  {
   "cell_type": "code",
   "execution_count": null,
   "id": "c90dae4e-f46e-49b2-b1f5-8b1b65c7cf3d",
   "metadata": {},
   "outputs": [
    {
     "data": {
      "text/html": [
       "\n",
       "<style>\n",
       "    /* Turns off some styling */\n",
       "    progress {\n",
       "        /* gets rid of default border in Firefox and Opera. */\n",
       "        border: none;\n",
       "        /* Needs to be in here for Safari polyfill so background images work as expected. */\n",
       "        background-size: auto;\n",
       "    }\n",
       "    progress:not([value]), progress:not([value])::-webkit-progress-bar {\n",
       "        background: repeating-linear-gradient(45deg, #7e7e7e, #7e7e7e 10px, #5c5c5c 10px, #5c5c5c 20px);\n",
       "    }\n",
       "    .progress-bar-interrupted, .progress-bar-interrupted::-webkit-progress-bar {\n",
       "        background: #F44336;\n",
       "    }\n",
       "</style>\n"
      ],
      "text/plain": [
       "<IPython.core.display.HTML object>"
      ]
     },
     "metadata": {},
     "output_type": "display_data"
    },
    {
     "data": {
      "text/html": [
       "<table border=\"1\" class=\"dataframe\">\n",
       "  <thead>\n",
       "    <tr style=\"text-align: left;\">\n",
       "      <th>epoch</th>\n",
       "      <th>train_loss</th>\n",
       "      <th>train_precision_at_k</th>\n",
       "      <th>valid_loss</th>\n",
       "      <th>valid_precision_at_k</th>\n",
       "      <th>time</th>\n",
       "    </tr>\n",
       "  </thead>\n",
       "  <tbody>\n",
       "    <tr>\n",
       "      <td>0</td>\n",
       "      <td>0.134082</td>\n",
       "      <td>0.356319</td>\n",
       "      <td>0.174437</td>\n",
       "      <td>0.359977</td>\n",
       "      <td>18:16</td>\n",
       "    </tr>\n",
       "    <tr>\n",
       "      <td>1</td>\n",
       "      <td>0.129000</td>\n",
       "      <td>0.356465</td>\n",
       "      <td>0.174289</td>\n",
       "      <td>0.359861</td>\n",
       "      <td>17:38</td>\n",
       "    </tr>\n",
       "  </tbody>\n",
       "</table>"
      ],
      "text/plain": [
       "<IPython.core.display.HTML object>"
      ]
     },
     "metadata": {},
     "output_type": "display_data"
    }
   ],
   "source": [
    "learn.fit(2, lr=1e-6, wd=0.3)"
   ]
  },
  {
   "cell_type": "code",
   "execution_count": null,
   "id": "2358aa4d-8291-4a33-ba4b-d5cdc8f06e49",
   "metadata": {},
   "outputs": [
    {
     "name": "stdout",
     "output_type": "stream",
     "text": [
      "best so far = 0.360169\n"
     ]
    },
    {
     "data": {
      "text/html": [
       "\n",
       "<style>\n",
       "    /* Turns off some styling */\n",
       "    progress {\n",
       "        /* gets rid of default border in Firefox and Opera. */\n",
       "        border: none;\n",
       "        /* Needs to be in here for Safari polyfill so background images work as expected. */\n",
       "        background-size: auto;\n",
       "    }\n",
       "    progress:not([value]), progress:not([value])::-webkit-progress-bar {\n",
       "        background: repeating-linear-gradient(45deg, #7e7e7e, #7e7e7e 10px, #5c5c5c 10px, #5c5c5c 20px);\n",
       "    }\n",
       "    .progress-bar-interrupted, .progress-bar-interrupted::-webkit-progress-bar {\n",
       "        background: #F44336;\n",
       "    }\n",
       "</style>\n"
      ],
      "text/plain": [
       "<IPython.core.display.HTML object>"
      ]
     },
     "metadata": {},
     "output_type": "display_data"
    },
    {
     "data": {
      "text/html": [],
      "text/plain": [
       "<IPython.core.display.HTML object>"
      ]
     },
     "metadata": {},
     "output_type": "display_data"
    },
    {
     "name": "stdout",
     "output_type": "stream",
     "text": [
      "[0.1749049723148346, 0.36016965490649694, 0.6718334297281664, 0.5495951417004049]\n",
      "best so far = 0.360169\n"
     ]
    }
   ],
   "source": [
    "validate(learn)"
   ]
  },
  {
   "cell_type": "code",
   "execution_count": null,
   "id": "c2bc85e6-f042-483d-9982-f26b9e91f8c3",
   "metadata": {},
   "outputs": [],
   "source": []
  },
  {
   "cell_type": "markdown",
   "id": "2ed92bee-837c-4601-b49e-41a5664b359d",
   "metadata": {},
   "source": [
    "## Fine-Tuning the MIMIC3-Full Bwd Classifier "
   ]
  },
  {
   "cell_type": "code",
   "execution_count": null,
   "id": "740ff740-2e31-4e6b-9ecb-3ccd5a7ff235",
   "metadata": {},
   "outputs": [],
   "source": [
    "# learn_r.opt.hypers#.map(lambda d: d['lr'])\n",
    "# L(apply(d.get, ['wd', 'lr']))"
   ]
  },
  {
   "cell_type": "code",
   "execution_count": null,
   "id": "a30a331d-5654-486d-a195-e1bd0ad364b7",
   "metadata": {},
   "outputs": [
    {
     "data": {
      "text/html": [
       "\n",
       "<style>\n",
       "    /* Turns off some styling */\n",
       "    progress {\n",
       "        /* gets rid of default border in Firefox and Opera. */\n",
       "        border: none;\n",
       "        /* Needs to be in here for Safari polyfill so background images work as expected. */\n",
       "        background-size: auto;\n",
       "    }\n",
       "    progress:not([value]), progress:not([value])::-webkit-progress-bar {\n",
       "        background: repeating-linear-gradient(45deg, #7e7e7e, #7e7e7e 10px, #5c5c5c 10px, #5c5c5c 20px);\n",
       "    }\n",
       "    .progress-bar-interrupted, .progress-bar-interrupted::-webkit-progress-bar {\n",
       "        background: #F44336;\n",
       "    }\n",
       "</style>\n"
      ],
      "text/plain": [
       "<IPython.core.display.HTML object>"
      ]
     },
     "metadata": {},
     "output_type": "display_data"
    },
    {
     "data": {
      "text/html": [
       "<table border=\"1\" class=\"dataframe\">\n",
       "  <thead>\n",
       "    <tr style=\"text-align: left;\">\n",
       "      <th>epoch</th>\n",
       "      <th>train_loss</th>\n",
       "      <th>train_precision_at_k</th>\n",
       "      <th>valid_loss</th>\n",
       "      <th>valid_precision_at_k</th>\n",
       "      <th>time</th>\n",
       "    </tr>\n",
       "  </thead>\n",
       "  <tbody>\n",
       "    <tr>\n",
       "      <td>0</td>\n",
       "      <td>0.007564</td>\n",
       "      <td>0.384488</td>\n",
       "      <td>0.008315</td>\n",
       "      <td>0.454982</td>\n",
       "      <td>39:42</td>\n",
       "    </tr>\n",
       "    <tr>\n",
       "      <td>1</td>\n",
       "      <td>0.006742</td>\n",
       "      <td>0.458227</td>\n",
       "      <td>0.007797</td>\n",
       "      <td>0.481930</td>\n",
       "      <td>38:37</td>\n",
       "    </tr>\n",
       "  </tbody>\n",
       "</table>"
      ],
      "text/plain": [
       "<IPython.core.display.HTML object>"
      ]
     },
     "metadata": {},
     "output_type": "display_data"
    },
    {
     "name": "stdout",
     "output_type": "stream",
     "text": [
      "Better model found at epoch 0 with valid_precision_at_k value: 0.45498220640569376.\n",
      "Better model found at epoch 1 with valid_precision_at_k value: 0.48192961644918897.\n"
     ]
    }
   ],
   "source": [
    "learn_r.fit(2, lr=3e-2)"
   ]
  },
  {
   "cell_type": "code",
   "execution_count": null,
   "id": "f8328c7a-7883-49be-a2a7-1dcf8bcaa7dc",
   "metadata": {},
   "outputs": [
    {
     "data": {
      "text/html": [
       "\n",
       "<style>\n",
       "    /* Turns off some styling */\n",
       "    progress {\n",
       "        /* gets rid of default border in Firefox and Opera. */\n",
       "        border: none;\n",
       "        /* Needs to be in here for Safari polyfill so background images work as expected. */\n",
       "        background-size: auto;\n",
       "    }\n",
       "    progress:not([value]), progress:not([value])::-webkit-progress-bar {\n",
       "        background: repeating-linear-gradient(45deg, #7e7e7e, #7e7e7e 10px, #5c5c5c 10px, #5c5c5c 20px);\n",
       "    }\n",
       "    .progress-bar-interrupted, .progress-bar-interrupted::-webkit-progress-bar {\n",
       "        background: #F44336;\n",
       "    }\n",
       "</style>\n"
      ],
      "text/plain": [
       "<IPython.core.display.HTML object>"
      ]
     },
     "metadata": {},
     "output_type": "display_data"
    },
    {
     "data": {
      "text/html": [
       "<table border=\"1\" class=\"dataframe\">\n",
       "  <thead>\n",
       "    <tr style=\"text-align: left;\">\n",
       "      <th>epoch</th>\n",
       "      <th>train_loss</th>\n",
       "      <th>train_precision_at_k</th>\n",
       "      <th>valid_loss</th>\n",
       "      <th>valid_precision_at_k</th>\n",
       "      <th>time</th>\n",
       "    </tr>\n",
       "  </thead>\n",
       "  <tbody>\n",
       "    <tr>\n",
       "      <td>0</td>\n",
       "      <td>0.006838</td>\n",
       "      <td>0.473014</td>\n",
       "      <td>0.007535</td>\n",
       "      <td>0.494899</td>\n",
       "      <td>39:47</td>\n",
       "    </tr>\n",
       "    <tr>\n",
       "      <td>1</td>\n",
       "      <td>0.007002</td>\n",
       "      <td>0.479700</td>\n",
       "      <td>0.007376</td>\n",
       "      <td>0.503084</td>\n",
       "      <td>40:23</td>\n",
       "    </tr>\n",
       "    <tr>\n",
       "      <td>2</td>\n",
       "      <td>0.006739</td>\n",
       "      <td>0.482954</td>\n",
       "      <td>0.007317</td>\n",
       "      <td>0.506702</td>\n",
       "      <td>40:47</td>\n",
       "    </tr>\n",
       "    <tr>\n",
       "      <td>3</td>\n",
       "      <td>0.006478</td>\n",
       "      <td>0.485122</td>\n",
       "      <td>0.007257</td>\n",
       "      <td>0.506445</td>\n",
       "      <td>40:42</td>\n",
       "    </tr>\n",
       "    <tr>\n",
       "      <td>4</td>\n",
       "      <td>0.006433</td>\n",
       "      <td>0.486549</td>\n",
       "      <td>0.007218</td>\n",
       "      <td>0.511052</td>\n",
       "      <td>39:54</td>\n",
       "    </tr>\n",
       "    <tr>\n",
       "      <td>5</td>\n",
       "      <td>0.006414</td>\n",
       "      <td>0.487762</td>\n",
       "      <td>0.007178</td>\n",
       "      <td>0.510320</td>\n",
       "      <td>40:14</td>\n",
       "    </tr>\n",
       "    <tr>\n",
       "      <td>6</td>\n",
       "      <td>0.006309</td>\n",
       "      <td>0.489128</td>\n",
       "      <td>0.007146</td>\n",
       "      <td>0.514353</td>\n",
       "      <td>40:14</td>\n",
       "    </tr>\n",
       "    <tr>\n",
       "      <td>7</td>\n",
       "      <td>0.006853</td>\n",
       "      <td>0.489367</td>\n",
       "      <td>0.007107</td>\n",
       "      <td>0.514334</td>\n",
       "      <td>40:19</td>\n",
       "    </tr>\n",
       "    <tr>\n",
       "      <td>8</td>\n",
       "      <td>0.006412</td>\n",
       "      <td>0.489717</td>\n",
       "      <td>0.007141</td>\n",
       "      <td>0.513741</td>\n",
       "      <td>39:47</td>\n",
       "    </tr>\n",
       "  </tbody>\n",
       "</table>"
      ],
      "text/plain": [
       "<IPython.core.display.HTML object>"
      ]
     },
     "metadata": {},
     "output_type": "display_data"
    },
    {
     "name": "stdout",
     "output_type": "stream",
     "text": [
      "Better model found at epoch 0 with valid_precision_at_k value: 0.49489916963226593.\n",
      "Better model found at epoch 1 with valid_precision_at_k value: 0.5030842230130488.\n",
      "Better model found at epoch 2 with valid_precision_at_k value: 0.506702253855279.\n",
      "Better model found at epoch 4 with valid_precision_at_k value: 0.511051799130091.\n",
      "Better model found at epoch 6 with valid_precision_at_k value: 0.5143534994068806.\n"
     ]
    }
   ],
   "source": [
    "learn_r.fit(9, lr=3e-2)"
   ]
  },
  {
   "cell_type": "code",
   "execution_count": null,
   "id": "80b1d077-ca55-4998-95b8-a1eabcde145f",
   "metadata": {},
   "outputs": [],
   "source": [
    "learn_r.freeze_to(-2)"
   ]
  },
  {
   "cell_type": "code",
   "execution_count": null,
   "id": "d1afca85-d7a9-4a44-b6cd-47508f4d831e",
   "metadata": {},
   "outputs": [
    {
     "data": {
      "text/html": [
       "\n",
       "<style>\n",
       "    /* Turns off some styling */\n",
       "    progress {\n",
       "        /* gets rid of default border in Firefox and Opera. */\n",
       "        border: none;\n",
       "        /* Needs to be in here for Safari polyfill so background images work as expected. */\n",
       "        background-size: auto;\n",
       "    }\n",
       "    progress:not([value]), progress:not([value])::-webkit-progress-bar {\n",
       "        background: repeating-linear-gradient(45deg, #7e7e7e, #7e7e7e 10px, #5c5c5c 10px, #5c5c5c 20px);\n",
       "    }\n",
       "    .progress-bar-interrupted, .progress-bar-interrupted::-webkit-progress-bar {\n",
       "        background: #F44336;\n",
       "    }\n",
       "</style>\n"
      ],
      "text/plain": [
       "<IPython.core.display.HTML object>"
      ]
     },
     "metadata": {},
     "output_type": "display_data"
    },
    {
     "data": {
      "text/html": [
       "\n",
       "    <div>\n",
       "      <progress value='9' class='' max='14' style='width:300px; height:20px; vertical-align: middle;'></progress>\n",
       "      64.29% [9/14 7:53:40&lt;4:23:09]\n",
       "    </div>\n",
       "    \n",
       "<table border=\"1\" class=\"dataframe\">\n",
       "  <thead>\n",
       "    <tr style=\"text-align: left;\">\n",
       "      <th>epoch</th>\n",
       "      <th>train_loss</th>\n",
       "      <th>train_precision_at_k</th>\n",
       "      <th>valid_loss</th>\n",
       "      <th>valid_precision_at_k</th>\n",
       "      <th>time</th>\n",
       "    </tr>\n",
       "  </thead>\n",
       "  <tbody>\n",
       "    <tr>\n",
       "      <td>0</td>\n",
       "      <td>0.005077</td>\n",
       "      <td>0.504411</td>\n",
       "      <td>0.006206</td>\n",
       "      <td>0.537722</td>\n",
       "      <td>52:54</td>\n",
       "    </tr>\n",
       "    <tr>\n",
       "      <td>1</td>\n",
       "      <td>0.005185</td>\n",
       "      <td>0.512415</td>\n",
       "      <td>0.006007</td>\n",
       "      <td>0.545275</td>\n",
       "      <td>50:30</td>\n",
       "    </tr>\n",
       "    <tr>\n",
       "      <td>2</td>\n",
       "      <td>0.004890</td>\n",
       "      <td>0.516533</td>\n",
       "      <td>0.005913</td>\n",
       "      <td>0.547687</td>\n",
       "      <td>52:12</td>\n",
       "    </tr>\n",
       "    <tr>\n",
       "      <td>3</td>\n",
       "      <td>0.004909</td>\n",
       "      <td>0.520331</td>\n",
       "      <td>0.005819</td>\n",
       "      <td>0.553341</td>\n",
       "      <td>51:44</td>\n",
       "    </tr>\n",
       "    <tr>\n",
       "      <td>4</td>\n",
       "      <td>0.004789</td>\n",
       "      <td>0.522809</td>\n",
       "      <td>0.005807</td>\n",
       "      <td>0.551839</td>\n",
       "      <td>52:14</td>\n",
       "    </tr>\n",
       "    <tr>\n",
       "      <td>5</td>\n",
       "      <td>0.004796</td>\n",
       "      <td>0.526800</td>\n",
       "      <td>0.005746</td>\n",
       "      <td>0.557750</td>\n",
       "      <td>54:06</td>\n",
       "    </tr>\n",
       "    <tr>\n",
       "      <td>6</td>\n",
       "      <td>0.004978</td>\n",
       "      <td>0.529563</td>\n",
       "      <td>0.005712</td>\n",
       "      <td>0.562772</td>\n",
       "      <td>51:44</td>\n",
       "    </tr>\n",
       "    <tr>\n",
       "      <td>7</td>\n",
       "      <td>0.004752</td>\n",
       "      <td>0.531859</td>\n",
       "      <td>0.005678</td>\n",
       "      <td>0.562060</td>\n",
       "      <td>54:39</td>\n",
       "    </tr>\n",
       "    <tr>\n",
       "      <td>8</td>\n",
       "      <td>0.004784</td>\n",
       "      <td>0.533404</td>\n",
       "      <td>0.005707</td>\n",
       "      <td>0.559035</td>\n",
       "      <td>53:30</td>\n",
       "    </tr>\n",
       "  </tbody>\n",
       "</table><p>\n",
       "\n",
       "    <div>\n",
       "      <progress value='478' class='' max='3084' style='width:300px; height:20px; vertical-align: middle;'></progress>\n",
       "      15.50% [478/3084 08:43&lt;47:31 avg_smooth_loss = 0.0045 precision_at_k = 0.5358]\n",
       "    </div>\n",
       "    "
      ],
      "text/plain": [
       "<IPython.core.display.HTML object>"
      ]
     },
     "metadata": {},
     "output_type": "display_data"
    },
    {
     "name": "stdout",
     "output_type": "stream",
     "text": [
      "Better model found at epoch 0 with valid_precision_at_k value: 0.5377224199288257.\n",
      "Better model found at epoch 1 with valid_precision_at_k value: 0.5452748121787271.\n",
      "Better model found at epoch 2 with valid_precision_at_k value: 0.5476868327402139.\n",
      "Better model found at epoch 3 with valid_precision_at_k value: 0.5533412415974692.\n",
      "Better model found at epoch 5 with valid_precision_at_k value: 0.5577500988533018.\n",
      "Better model found at epoch 6 with valid_precision_at_k value: 0.5627718465796757.\n"
     ]
    }
   ],
   "source": [
    "learn_r.fit(14, lr=1e-2)"
   ]
  },
  {
   "cell_type": "code",
   "execution_count": null,
   "id": "d01518f6-2501-410b-b2d5-994a11eef92b",
   "metadata": {},
   "outputs": [
    {
     "data": {
      "text/html": [
       "\n",
       "<style>\n",
       "    /* Turns off some styling */\n",
       "    progress {\n",
       "        /* gets rid of default border in Firefox and Opera. */\n",
       "        border: none;\n",
       "        /* Needs to be in here for Safari polyfill so background images work as expected. */\n",
       "        background-size: auto;\n",
       "    }\n",
       "    progress:not([value]), progress:not([value])::-webkit-progress-bar {\n",
       "        background: repeating-linear-gradient(45deg, #7e7e7e, #7e7e7e 10px, #5c5c5c 10px, #5c5c5c 20px);\n",
       "    }\n",
       "    .progress-bar-interrupted, .progress-bar-interrupted::-webkit-progress-bar {\n",
       "        background: #F44336;\n",
       "    }\n",
       "</style>\n"
      ],
      "text/plain": [
       "<IPython.core.display.HTML object>"
      ]
     },
     "metadata": {},
     "output_type": "display_data"
    },
    {
     "data": {
      "text/html": [
       "<table border=\"1\" class=\"dataframe\">\n",
       "  <thead>\n",
       "    <tr style=\"text-align: left;\">\n",
       "      <th>epoch</th>\n",
       "      <th>train_loss</th>\n",
       "      <th>train_precision_at_k</th>\n",
       "      <th>valid_loss</th>\n",
       "      <th>valid_precision_at_k</th>\n",
       "      <th>time</th>\n",
       "    </tr>\n",
       "  </thead>\n",
       "  <tbody>\n",
       "    <tr>\n",
       "      <td>0</td>\n",
       "      <td>0.004934</td>\n",
       "      <td>0.530920</td>\n",
       "      <td>0.005644</td>\n",
       "      <td>0.562396</td>\n",
       "      <td>53:13</td>\n",
       "    </tr>\n",
       "    <tr>\n",
       "      <td>1</td>\n",
       "      <td>0.004600</td>\n",
       "      <td>0.533206</td>\n",
       "      <td>0.005640</td>\n",
       "      <td>0.562119</td>\n",
       "      <td>53:24</td>\n",
       "    </tr>\n",
       "    <tr>\n",
       "      <td>2</td>\n",
       "      <td>0.004838</td>\n",
       "      <td>0.534152</td>\n",
       "      <td>0.005616</td>\n",
       "      <td>0.564591</td>\n",
       "      <td>53:26</td>\n",
       "    </tr>\n",
       "    <tr>\n",
       "      <td>3</td>\n",
       "      <td>0.004992</td>\n",
       "      <td>0.535571</td>\n",
       "      <td>0.005625</td>\n",
       "      <td>0.563721</td>\n",
       "      <td>56:08</td>\n",
       "    </tr>\n",
       "    <tr>\n",
       "      <td>4</td>\n",
       "      <td>0.004729</td>\n",
       "      <td>0.537246</td>\n",
       "      <td>0.005623</td>\n",
       "      <td>0.564690</td>\n",
       "      <td>52:13</td>\n",
       "    </tr>\n",
       "  </tbody>\n",
       "</table>"
      ],
      "text/plain": [
       "<IPython.core.display.HTML object>"
      ]
     },
     "metadata": {},
     "output_type": "display_data"
    },
    {
     "name": "stdout",
     "output_type": "stream",
     "text": [
      "Better model found at epoch 2 with valid_precision_at_k value: 0.5645907473309606.\n",
      "Better model found at epoch 4 with valid_precision_at_k value: 0.5646896006326609.\n"
     ]
    }
   ],
   "source": [
    "learn_r.fit(5, lr=1e-2)"
   ]
  },
  {
   "cell_type": "code",
   "execution_count": null,
   "id": "49c2b2d4-62be-42a2-a13b-6bf7b7cf2859",
   "metadata": {},
   "outputs": [],
   "source": [
    "learn_r.freeze_to(-3)"
   ]
  },
  {
   "cell_type": "code",
   "execution_count": null,
   "id": "005f9d25-74a5-4ea7-b7ee-72dc89e2f946",
   "metadata": {},
   "outputs": [
    {
     "data": {
      "text/html": [
       "\n",
       "<style>\n",
       "    /* Turns off some styling */\n",
       "    progress {\n",
       "        /* gets rid of default border in Firefox and Opera. */\n",
       "        border: none;\n",
       "        /* Needs to be in here for Safari polyfill so background images work as expected. */\n",
       "        background-size: auto;\n",
       "    }\n",
       "    progress:not([value]), progress:not([value])::-webkit-progress-bar {\n",
       "        background: repeating-linear-gradient(45deg, #7e7e7e, #7e7e7e 10px, #5c5c5c 10px, #5c5c5c 20px);\n",
       "    }\n",
       "    .progress-bar-interrupted, .progress-bar-interrupted::-webkit-progress-bar {\n",
       "        background: #F44336;\n",
       "    }\n",
       "</style>\n"
      ],
      "text/plain": [
       "<IPython.core.display.HTML object>"
      ]
     },
     "metadata": {},
     "output_type": "display_data"
    },
    {
     "data": {
      "text/html": [
       "<table border=\"1\" class=\"dataframe\">\n",
       "  <thead>\n",
       "    <tr style=\"text-align: left;\">\n",
       "      <th>epoch</th>\n",
       "      <th>train_loss</th>\n",
       "      <th>train_precision_at_k</th>\n",
       "      <th>valid_loss</th>\n",
       "      <th>valid_precision_at_k</th>\n",
       "      <th>time</th>\n",
       "    </tr>\n",
       "  </thead>\n",
       "  <tbody>\n",
       "    <tr>\n",
       "      <td>0</td>\n",
       "      <td>0.004512</td>\n",
       "      <td>0.542960</td>\n",
       "      <td>0.005425</td>\n",
       "      <td>0.574812</td>\n",
       "      <td>1:08:34</td>\n",
       "    </tr>\n",
       "    <tr>\n",
       "      <td>1</td>\n",
       "      <td>0.004399</td>\n",
       "      <td>0.549391</td>\n",
       "      <td>0.005388</td>\n",
       "      <td>0.580803</td>\n",
       "      <td>1:07:03</td>\n",
       "    </tr>\n",
       "    <tr>\n",
       "      <td>2</td>\n",
       "      <td>0.004393</td>\n",
       "      <td>0.551346</td>\n",
       "      <td>0.005378</td>\n",
       "      <td>0.580269</td>\n",
       "      <td>1:11:35</td>\n",
       "    </tr>\n",
       "    <tr>\n",
       "      <td>3</td>\n",
       "      <td>0.004305</td>\n",
       "      <td>0.552264</td>\n",
       "      <td>0.005399</td>\n",
       "      <td>0.580249</td>\n",
       "      <td>1:07:49</td>\n",
       "    </tr>\n",
       "    <tr>\n",
       "      <td>4</td>\n",
       "      <td>0.004638</td>\n",
       "      <td>0.552713</td>\n",
       "      <td>0.005320</td>\n",
       "      <td>0.582780</td>\n",
       "      <td>1:10:15</td>\n",
       "    </tr>\n",
       "  </tbody>\n",
       "</table>"
      ],
      "text/plain": [
       "<IPython.core.display.HTML object>"
      ]
     },
     "metadata": {},
     "output_type": "display_data"
    },
    {
     "name": "stdout",
     "output_type": "stream",
     "text": [
      "Better model found at epoch 0 with valid_precision_at_k value: 0.5748121787267698.\n",
      "Better model found at epoch 1 with valid_precision_at_k value: 0.5808026888098061.\n",
      "Better model found at epoch 4 with valid_precision_at_k value: 0.5827797548438116.\n"
     ]
    }
   ],
   "source": [
    "learn_r.fit(5, lr=1e-2)"
   ]
  },
  {
   "cell_type": "code",
   "execution_count": null,
   "id": "c7d2a3b9-3a8b-472a-bfe6-e55a39274a6c",
   "metadata": {},
   "outputs": [],
   "source": [
    "learn_r.unfreeze()"
   ]
  },
  {
   "cell_type": "code",
   "execution_count": null,
   "id": "bdcb1cb3-73e5-4557-8745-80128ffe5a20",
   "metadata": {},
   "outputs": [
    {
     "data": {
      "text/html": [
       "\n",
       "<style>\n",
       "    /* Turns off some styling */\n",
       "    progress {\n",
       "        /* gets rid of default border in Firefox and Opera. */\n",
       "        border: none;\n",
       "        /* Needs to be in here for Safari polyfill so background images work as expected. */\n",
       "        background-size: auto;\n",
       "    }\n",
       "    progress:not([value]), progress:not([value])::-webkit-progress-bar {\n",
       "        background: repeating-linear-gradient(45deg, #7e7e7e, #7e7e7e 10px, #5c5c5c 10px, #5c5c5c 20px);\n",
       "    }\n",
       "    .progress-bar-interrupted, .progress-bar-interrupted::-webkit-progress-bar {\n",
       "        background: #F44336;\n",
       "    }\n",
       "</style>\n"
      ],
      "text/plain": [
       "<IPython.core.display.HTML object>"
      ]
     },
     "metadata": {},
     "output_type": "display_data"
    },
    {
     "data": {
      "text/html": [
       "<table border=\"1\" class=\"dataframe\">\n",
       "  <thead>\n",
       "    <tr style=\"text-align: left;\">\n",
       "      <th>epoch</th>\n",
       "      <th>train_loss</th>\n",
       "      <th>train_precision_at_k</th>\n",
       "      <th>valid_loss</th>\n",
       "      <th>valid_precision_at_k</th>\n",
       "      <th>time</th>\n",
       "    </tr>\n",
       "  </thead>\n",
       "  <tbody>\n",
       "    <tr>\n",
       "      <td>0</td>\n",
       "      <td>0.004360</td>\n",
       "      <td>0.564825</td>\n",
       "      <td>0.005301</td>\n",
       "      <td>0.584322</td>\n",
       "      <td>1:21:00</td>\n",
       "    </tr>\n",
       "    <tr>\n",
       "      <td>1</td>\n",
       "      <td>0.004090</td>\n",
       "      <td>0.566434</td>\n",
       "      <td>0.005286</td>\n",
       "      <td>0.585765</td>\n",
       "      <td>1:23:50</td>\n",
       "    </tr>\n",
       "    <tr>\n",
       "      <td>2</td>\n",
       "      <td>0.004282</td>\n",
       "      <td>0.567989</td>\n",
       "      <td>0.005273</td>\n",
       "      <td>0.587050</td>\n",
       "      <td>1:22:50</td>\n",
       "    </tr>\n",
       "    <tr>\n",
       "      <td>3</td>\n",
       "      <td>0.004444</td>\n",
       "      <td>0.569103</td>\n",
       "      <td>0.005261</td>\n",
       "      <td>0.588078</td>\n",
       "      <td>1:23:37</td>\n",
       "    </tr>\n",
       "    <tr>\n",
       "      <td>4</td>\n",
       "      <td>0.004214</td>\n",
       "      <td>0.570427</td>\n",
       "      <td>0.005251</td>\n",
       "      <td>0.588790</td>\n",
       "      <td>1:22:28</td>\n",
       "    </tr>\n",
       "    <tr>\n",
       "      <td>5</td>\n",
       "      <td>0.004118</td>\n",
       "      <td>0.571420</td>\n",
       "      <td>0.005242</td>\n",
       "      <td>0.589522</td>\n",
       "      <td>1:21:29</td>\n",
       "    </tr>\n",
       "    <tr>\n",
       "      <td>6</td>\n",
       "      <td>0.004051</td>\n",
       "      <td>0.572369</td>\n",
       "      <td>0.005234</td>\n",
       "      <td>0.590134</td>\n",
       "      <td>1:39:58</td>\n",
       "    </tr>\n",
       "    <tr>\n",
       "      <td>7</td>\n",
       "      <td>0.004023</td>\n",
       "      <td>0.573819</td>\n",
       "      <td>0.005226</td>\n",
       "      <td>0.590589</td>\n",
       "      <td>1:23:11</td>\n",
       "    </tr>\n",
       "  </tbody>\n",
       "</table>"
      ],
      "text/plain": [
       "<IPython.core.display.HTML object>"
      ]
     },
     "metadata": {},
     "output_type": "display_data"
    },
    {
     "name": "stdout",
     "output_type": "stream",
     "text": [
      "Better model found at epoch 0 with valid_precision_at_k value: 0.5843218663503366.\n",
      "Better model found at epoch 1 with valid_precision_at_k value: 0.58576512455516.\n",
      "Better model found at epoch 2 with valid_precision_at_k value: 0.5870502174772637.\n",
      "Better model found at epoch 3 with valid_precision_at_k value: 0.5880782918149465.\n",
      "Better model found at epoch 4 with valid_precision_at_k value: 0.5887900355871885.\n",
      "Better model found at epoch 5 with valid_precision_at_k value: 0.5895215500197706.\n",
      "Better model found at epoch 6 with valid_precision_at_k value: 0.5901344404903124.\n",
      "Better model found at epoch 7 with valid_precision_at_k value: 0.5905891656781339.\n"
     ]
    }
   ],
   "source": [
    "learn_r.fit(8, lr=1e-6, wd=0.3)"
   ]
  },
  {
   "cell_type": "code",
   "execution_count": null,
   "id": "68e35334-dfc5-474c-a083-d67aba6f6f95",
   "metadata": {},
   "outputs": [
    {
     "data": {
      "text/html": [
       "\n",
       "<style>\n",
       "    /* Turns off some styling */\n",
       "    progress {\n",
       "        /* gets rid of default border in Firefox and Opera. */\n",
       "        border: none;\n",
       "        /* Needs to be in here for Safari polyfill so background images work as expected. */\n",
       "        background-size: auto;\n",
       "    }\n",
       "    progress:not([value]), progress:not([value])::-webkit-progress-bar {\n",
       "        background: repeating-linear-gradient(45deg, #7e7e7e, #7e7e7e 10px, #5c5c5c 10px, #5c5c5c 20px);\n",
       "    }\n",
       "    .progress-bar-interrupted, .progress-bar-interrupted::-webkit-progress-bar {\n",
       "        background: #F44336;\n",
       "    }\n",
       "</style>\n"
      ],
      "text/plain": [
       "<IPython.core.display.HTML object>"
      ]
     },
     "metadata": {},
     "output_type": "display_data"
    },
    {
     "data": {
      "text/html": [
       "<table border=\"1\" class=\"dataframe\">\n",
       "  <thead>\n",
       "    <tr style=\"text-align: left;\">\n",
       "      <th>epoch</th>\n",
       "      <th>train_loss</th>\n",
       "      <th>train_precision_at_k</th>\n",
       "      <th>valid_loss</th>\n",
       "      <th>valid_precision_at_k</th>\n",
       "      <th>time</th>\n",
       "    </tr>\n",
       "  </thead>\n",
       "  <tbody>\n",
       "    <tr>\n",
       "      <td>0</td>\n",
       "      <td>0.003961</td>\n",
       "      <td>0.575112</td>\n",
       "      <td>0.005219</td>\n",
       "      <td>0.591182</td>\n",
       "      <td>1:21:12</td>\n",
       "    </tr>\n",
       "    <tr>\n",
       "      <td>1</td>\n",
       "      <td>0.003683</td>\n",
       "      <td>0.577906</td>\n",
       "      <td>0.005213</td>\n",
       "      <td>0.591894</td>\n",
       "      <td>1:20:49</td>\n",
       "    </tr>\n",
       "  </tbody>\n",
       "</table>"
      ],
      "text/plain": [
       "<IPython.core.display.HTML object>"
      ]
     },
     "metadata": {},
     "output_type": "display_data"
    },
    {
     "name": "stdout",
     "output_type": "stream",
     "text": [
      "Better model found at epoch 0 with valid_precision_at_k value: 0.5911822854883352.\n",
      "Better model found at epoch 1 with valid_precision_at_k value: 0.591894029260577.\n"
     ]
    }
   ],
   "source": [
    "learn_r.fit(2, lr=1e-6, wd=0.3)"
   ]
  },
  {
   "cell_type": "code",
   "execution_count": null,
   "id": "4401f31a-1bfb-46cb-985f-4deb48f14b54",
   "metadata": {},
   "outputs": [
    {
     "data": {
      "text/html": [
       "\n",
       "<style>\n",
       "    /* Turns off some styling */\n",
       "    progress {\n",
       "        /* gets rid of default border in Firefox and Opera. */\n",
       "        border: none;\n",
       "        /* Needs to be in here for Safari polyfill so background images work as expected. */\n",
       "        background-size: auto;\n",
       "    }\n",
       "    progress:not([value]), progress:not([value])::-webkit-progress-bar {\n",
       "        background: repeating-linear-gradient(45deg, #7e7e7e, #7e7e7e 10px, #5c5c5c 10px, #5c5c5c 20px);\n",
       "    }\n",
       "    .progress-bar-interrupted, .progress-bar-interrupted::-webkit-progress-bar {\n",
       "        background: #F44336;\n",
       "    }\n",
       "</style>\n"
      ],
      "text/plain": [
       "<IPython.core.display.HTML object>"
      ]
     },
     "metadata": {},
     "output_type": "display_data"
    },
    {
     "data": {
      "text/html": [
       "<table border=\"1\" class=\"dataframe\">\n",
       "  <thead>\n",
       "    <tr style=\"text-align: left;\">\n",
       "      <th>epoch</th>\n",
       "      <th>train_loss</th>\n",
       "      <th>train_precision_at_k</th>\n",
       "      <th>valid_loss</th>\n",
       "      <th>valid_precision_at_k</th>\n",
       "      <th>time</th>\n",
       "    </tr>\n",
       "  </thead>\n",
       "  <tbody>\n",
       "    <tr>\n",
       "      <td>0</td>\n",
       "      <td>0.004261</td>\n",
       "      <td>0.574649</td>\n",
       "      <td>0.005207</td>\n",
       "      <td>0.592329</td>\n",
       "      <td>1:24:13</td>\n",
       "    </tr>\n",
       "    <tr>\n",
       "      <td>1</td>\n",
       "      <td>0.004006</td>\n",
       "      <td>0.575258</td>\n",
       "      <td>0.005201</td>\n",
       "      <td>0.592724</td>\n",
       "      <td>1:21:54</td>\n",
       "    </tr>\n",
       "    <tr>\n",
       "      <td>2</td>\n",
       "      <td>0.004200</td>\n",
       "      <td>0.575567</td>\n",
       "      <td>0.005196</td>\n",
       "      <td>0.592803</td>\n",
       "      <td>1:24:06</td>\n",
       "    </tr>\n",
       "    <tr>\n",
       "      <td>3</td>\n",
       "      <td>0.004367</td>\n",
       "      <td>0.576012</td>\n",
       "      <td>0.005191</td>\n",
       "      <td>0.593041</td>\n",
       "      <td>1:25:26</td>\n",
       "    </tr>\n",
       "    <tr>\n",
       "      <td>4</td>\n",
       "      <td>0.004151</td>\n",
       "      <td>0.576616</td>\n",
       "      <td>0.005186</td>\n",
       "      <td>0.593575</td>\n",
       "      <td>1:27:14</td>\n",
       "    </tr>\n",
       "    <tr>\n",
       "      <td>5</td>\n",
       "      <td>0.004059</td>\n",
       "      <td>0.577233</td>\n",
       "      <td>0.005182</td>\n",
       "      <td>0.594089</td>\n",
       "      <td>1:26:12</td>\n",
       "    </tr>\n",
       "    <tr>\n",
       "      <td>6</td>\n",
       "      <td>0.003996</td>\n",
       "      <td>0.577824</td>\n",
       "      <td>0.005178</td>\n",
       "      <td>0.594365</td>\n",
       "      <td>1:28:34</td>\n",
       "    </tr>\n",
       "    <tr>\n",
       "      <td>7</td>\n",
       "      <td>0.003973</td>\n",
       "      <td>0.578928</td>\n",
       "      <td>0.005174</td>\n",
       "      <td>0.594504</td>\n",
       "      <td>1:24:08</td>\n",
       "    </tr>\n",
       "    <tr>\n",
       "      <td>8</td>\n",
       "      <td>0.003915</td>\n",
       "      <td>0.579819</td>\n",
       "      <td>0.005170</td>\n",
       "      <td>0.594919</td>\n",
       "      <td>1:25:19</td>\n",
       "    </tr>\n",
       "    <tr>\n",
       "      <td>9</td>\n",
       "      <td>0.003663</td>\n",
       "      <td>0.582147</td>\n",
       "      <td>0.005166</td>\n",
       "      <td>0.595275</td>\n",
       "      <td>1:24:36</td>\n",
       "    </tr>\n",
       "  </tbody>\n",
       "</table>"
      ],
      "text/plain": [
       "<IPython.core.display.HTML object>"
      ]
     },
     "metadata": {},
     "output_type": "display_data"
    },
    {
     "name": "stdout",
     "output_type": "stream",
     "text": [
      "Better model found at epoch 0 with valid_precision_at_k value: 0.5923289837880584.\n",
      "Better model found at epoch 1 with valid_precision_at_k value: 0.5927243969948597.\n",
      "Better model found at epoch 2 with valid_precision_at_k value: 0.5928034796362198.\n",
      "Better model found at epoch 3 with valid_precision_at_k value: 0.593040727560301.\n",
      "Better model found at epoch 4 with valid_precision_at_k value: 0.5935745353894823.\n",
      "Better model found at epoch 5 with valid_precision_at_k value: 0.5940885725583238.\n",
      "Better model found at epoch 6 with valid_precision_at_k value: 0.5943653618030844.\n",
      "Better model found at epoch 7 with valid_precision_at_k value: 0.5945037564254647.\n",
      "Better model found at epoch 8 with valid_precision_at_k value: 0.5949189402926058.\n",
      "Better model found at epoch 9 with valid_precision_at_k value: 0.5952748121787272.\n"
     ]
    }
   ],
   "source": [
    "learn_r.fit(10, lr=1e-6, wd=0.3)"
   ]
  },
  {
   "cell_type": "code",
   "execution_count": null,
   "id": "b3fee137-43eb-4b4c-8b29-5d7a67487199",
   "metadata": {},
   "outputs": [
    {
     "data": {
      "text/html": [
       "\n",
       "<style>\n",
       "    /* Turns off some styling */\n",
       "    progress {\n",
       "        /* gets rid of default border in Firefox and Opera. */\n",
       "        border: none;\n",
       "        /* Needs to be in here for Safari polyfill so background images work as expected. */\n",
       "        background-size: auto;\n",
       "    }\n",
       "    progress:not([value]), progress:not([value])::-webkit-progress-bar {\n",
       "        background: repeating-linear-gradient(45deg, #7e7e7e, #7e7e7e 10px, #5c5c5c 10px, #5c5c5c 20px);\n",
       "    }\n",
       "    .progress-bar-interrupted, .progress-bar-interrupted::-webkit-progress-bar {\n",
       "        background: #F44336;\n",
       "    }\n",
       "</style>\n"
      ],
      "text/plain": [
       "<IPython.core.display.HTML object>"
      ]
     },
     "metadata": {},
     "output_type": "display_data"
    },
    {
     "data": {
      "text/html": [
       "<table border=\"1\" class=\"dataframe\">\n",
       "  <thead>\n",
       "    <tr style=\"text-align: left;\">\n",
       "      <th>epoch</th>\n",
       "      <th>train_loss</th>\n",
       "      <th>train_precision_at_k</th>\n",
       "      <th>valid_loss</th>\n",
       "      <th>valid_precision_at_k</th>\n",
       "      <th>time</th>\n",
       "    </tr>\n",
       "  </thead>\n",
       "  <tbody>\n",
       "    <tr>\n",
       "      <td>0</td>\n",
       "      <td>0.004219</td>\n",
       "      <td>0.578651</td>\n",
       "      <td>0.005163</td>\n",
       "      <td>0.595888</td>\n",
       "      <td>1:29:03</td>\n",
       "    </tr>\n",
       "    <tr>\n",
       "      <td>1</td>\n",
       "      <td>0.003969</td>\n",
       "      <td>0.578949</td>\n",
       "      <td>0.005159</td>\n",
       "      <td>0.596303</td>\n",
       "      <td>1:33:03</td>\n",
       "    </tr>\n",
       "    <tr>\n",
       "      <td>2</td>\n",
       "      <td>0.004162</td>\n",
       "      <td>0.579253</td>\n",
       "      <td>0.005156</td>\n",
       "      <td>0.596718</td>\n",
       "      <td>1:28:22</td>\n",
       "    </tr>\n",
       "    <tr>\n",
       "      <td>3</td>\n",
       "      <td>0.004331</td>\n",
       "      <td>0.579554</td>\n",
       "      <td>0.005153</td>\n",
       "      <td>0.596758</td>\n",
       "      <td>1:25:06</td>\n",
       "    </tr>\n",
       "    <tr>\n",
       "      <td>4</td>\n",
       "      <td>0.004119</td>\n",
       "      <td>0.580130</td>\n",
       "      <td>0.005150</td>\n",
       "      <td>0.597133</td>\n",
       "      <td>1:27:07</td>\n",
       "    </tr>\n",
       "    <tr>\n",
       "      <td>5</td>\n",
       "      <td>0.004029</td>\n",
       "      <td>0.580469</td>\n",
       "      <td>0.005148</td>\n",
       "      <td>0.597351</td>\n",
       "      <td>1:25:24</td>\n",
       "    </tr>\n",
       "    <tr>\n",
       "      <td>6</td>\n",
       "      <td>0.003968</td>\n",
       "      <td>0.580746</td>\n",
       "      <td>0.005145</td>\n",
       "      <td>0.597568</td>\n",
       "      <td>1:28:07</td>\n",
       "    </tr>\n",
       "    <tr>\n",
       "      <td>7</td>\n",
       "      <td>0.003946</td>\n",
       "      <td>0.581680</td>\n",
       "      <td>0.005142</td>\n",
       "      <td>0.597786</td>\n",
       "      <td>1:24:29</td>\n",
       "    </tr>\n",
       "    <tr>\n",
       "      <td>8</td>\n",
       "      <td>0.003890</td>\n",
       "      <td>0.582365</td>\n",
       "      <td>0.005140</td>\n",
       "      <td>0.597924</td>\n",
       "      <td>1:25:56</td>\n",
       "    </tr>\n",
       "    <tr>\n",
       "      <td>9</td>\n",
       "      <td>0.003661</td>\n",
       "      <td>0.584672</td>\n",
       "      <td>0.005138</td>\n",
       "      <td>0.598062</td>\n",
       "      <td>1:24:18</td>\n",
       "    </tr>\n",
       "    <tr>\n",
       "      <td>10</td>\n",
       "      <td>0.004071</td>\n",
       "      <td>0.581008</td>\n",
       "      <td>0.005135</td>\n",
       "      <td>0.598181</td>\n",
       "      <td>1:30:41</td>\n",
       "    </tr>\n",
       "    <tr>\n",
       "      <td>11</td>\n",
       "      <td>0.003967</td>\n",
       "      <td>0.581212</td>\n",
       "      <td>0.005133</td>\n",
       "      <td>0.598399</td>\n",
       "      <td>1:26:47</td>\n",
       "    </tr>\n",
       "  </tbody>\n",
       "</table>"
      ],
      "text/plain": [
       "<IPython.core.display.HTML object>"
      ]
     },
     "metadata": {},
     "output_type": "display_data"
    },
    {
     "name": "stdout",
     "output_type": "stream",
     "text": [
      "Better model found at epoch 0 with valid_precision_at_k value: 0.5958877026492689.\n",
      "Better model found at epoch 1 with valid_precision_at_k value: 0.5963028865164102.\n",
      "Better model found at epoch 2 with valid_precision_at_k value: 0.5967180703835511.\n",
      "Better model found at epoch 3 with valid_precision_at_k value: 0.5967576117042313.\n",
      "Better model found at epoch 4 with valid_precision_at_k value: 0.5971332542506922.\n",
      "Better model found at epoch 5 with valid_precision_at_k value: 0.597350731514433.\n",
      "Better model found at epoch 6 with valid_precision_at_k value: 0.5975682087781735.\n",
      "Better model found at epoch 7 with valid_precision_at_k value: 0.5977856860419142.\n",
      "Better model found at epoch 8 with valid_precision_at_k value: 0.5979240806642946.\n",
      "Better model found at epoch 9 with valid_precision_at_k value: 0.598062475286675.\n",
      "Better model found at epoch 10 with valid_precision_at_k value: 0.5981810992487153.\n",
      "Better model found at epoch 11 with valid_precision_at_k value: 0.5983985765124561.\n"
     ]
    }
   ],
   "source": [
    "learn_r.fit(12, lr=1e-6, wd=0.3)"
   ]
  },
  {
   "cell_type": "code",
   "execution_count": null,
   "id": "cccd745e-c7bf-4dbe-a717-db30f8186840",
   "metadata": {},
   "outputs": [
    {
     "data": {
      "text/html": [
       "\n",
       "<style>\n",
       "    /* Turns off some styling */\n",
       "    progress {\n",
       "        /* gets rid of default border in Firefox and Opera. */\n",
       "        border: none;\n",
       "        /* Needs to be in here for Safari polyfill so background images work as expected. */\n",
       "        background-size: auto;\n",
       "    }\n",
       "    progress:not([value]), progress:not([value])::-webkit-progress-bar {\n",
       "        background: repeating-linear-gradient(45deg, #7e7e7e, #7e7e7e 10px, #5c5c5c 10px, #5c5c5c 20px);\n",
       "    }\n",
       "    .progress-bar-interrupted, .progress-bar-interrupted::-webkit-progress-bar {\n",
       "        background: #F44336;\n",
       "    }\n",
       "</style>\n"
      ],
      "text/plain": [
       "<IPython.core.display.HTML object>"
      ]
     },
     "metadata": {},
     "output_type": "display_data"
    },
    {
     "data": {
      "text/html": [
       "<table border=\"1\" class=\"dataframe\">\n",
       "  <thead>\n",
       "    <tr style=\"text-align: left;\">\n",
       "      <th>epoch</th>\n",
       "      <th>train_loss</th>\n",
       "      <th>train_precision_at_k</th>\n",
       "      <th>valid_loss</th>\n",
       "      <th>valid_precision_at_k</th>\n",
       "      <th>time</th>\n",
       "    </tr>\n",
       "  </thead>\n",
       "  <tbody>\n",
       "    <tr>\n",
       "      <td>0</td>\n",
       "      <td>0.004192</td>\n",
       "      <td>0.581391</td>\n",
       "      <td>0.005131</td>\n",
       "      <td>0.598517</td>\n",
       "      <td>1:29:22</td>\n",
       "    </tr>\n",
       "    <tr>\n",
       "      <td>1</td>\n",
       "      <td>0.003944</td>\n",
       "      <td>0.581576</td>\n",
       "      <td>0.005129</td>\n",
       "      <td>0.598715</td>\n",
       "      <td>1:25:02</td>\n",
       "    </tr>\n",
       "    <tr>\n",
       "      <td>2</td>\n",
       "      <td>0.004137</td>\n",
       "      <td>0.581732</td>\n",
       "      <td>0.005127</td>\n",
       "      <td>0.598952</td>\n",
       "      <td>1:25:53</td>\n",
       "    </tr>\n",
       "    <tr>\n",
       "      <td>3</td>\n",
       "      <td>0.004306</td>\n",
       "      <td>0.581890</td>\n",
       "      <td>0.005125</td>\n",
       "      <td>0.599091</td>\n",
       "      <td>1:26:09</td>\n",
       "    </tr>\n",
       "    <tr>\n",
       "      <td>4</td>\n",
       "      <td>0.004097</td>\n",
       "      <td>0.582328</td>\n",
       "      <td>0.005123</td>\n",
       "      <td>0.599308</td>\n",
       "      <td>1:25:22</td>\n",
       "    </tr>\n",
       "    <tr>\n",
       "      <td>5</td>\n",
       "      <td>0.004008</td>\n",
       "      <td>0.582727</td>\n",
       "      <td>0.005122</td>\n",
       "      <td>0.599387</td>\n",
       "      <td>1:25:37</td>\n",
       "    </tr>\n",
       "    <tr>\n",
       "      <td>6</td>\n",
       "      <td>0.003949</td>\n",
       "      <td>0.582932</td>\n",
       "      <td>0.005120</td>\n",
       "      <td>0.599249</td>\n",
       "      <td>1:27:32</td>\n",
       "    </tr>\n",
       "    <tr>\n",
       "      <td>7</td>\n",
       "      <td>0.003927</td>\n",
       "      <td>0.583663</td>\n",
       "      <td>0.005119</td>\n",
       "      <td>0.599585</td>\n",
       "      <td>1:30:06</td>\n",
       "    </tr>\n",
       "    <tr>\n",
       "      <td>8</td>\n",
       "      <td>0.003872</td>\n",
       "      <td>0.584260</td>\n",
       "      <td>0.005117</td>\n",
       "      <td>0.599703</td>\n",
       "      <td>1:26:04</td>\n",
       "    </tr>\n",
       "    <tr>\n",
       "      <td>9</td>\n",
       "      <td>0.003669</td>\n",
       "      <td>0.586653</td>\n",
       "      <td>0.005116</td>\n",
       "      <td>0.599941</td>\n",
       "      <td>1:28:20</td>\n",
       "    </tr>\n",
       "    <tr>\n",
       "      <td>10</td>\n",
       "      <td>0.004054</td>\n",
       "      <td>0.582681</td>\n",
       "      <td>0.005114</td>\n",
       "      <td>0.599901</td>\n",
       "      <td>1:25:49</td>\n",
       "    </tr>\n",
       "    <tr>\n",
       "      <td>11</td>\n",
       "      <td>0.003952</td>\n",
       "      <td>0.583013</td>\n",
       "      <td>0.005113</td>\n",
       "      <td>0.600217</td>\n",
       "      <td>1:30:22</td>\n",
       "    </tr>\n",
       "  </tbody>\n",
       "</table>"
      ],
      "text/plain": [
       "<IPython.core.display.HTML object>"
      ]
     },
     "metadata": {},
     "output_type": "display_data"
    },
    {
     "name": "stdout",
     "output_type": "stream",
     "text": [
      "Better model found at epoch 0 with valid_precision_at_k value: 0.5985172004744963.\n",
      "Better model found at epoch 1 with valid_precision_at_k value: 0.5987149070778969.\n",
      "Better model found at epoch 2 with valid_precision_at_k value: 0.5989521550019774.\n",
      "Better model found at epoch 3 with valid_precision_at_k value: 0.5990905496243577.\n",
      "Better model found at epoch 4 with valid_precision_at_k value: 0.5993080268880984.\n",
      "Better model found at epoch 5 with valid_precision_at_k value: 0.5993871095294585.\n",
      "Better model found at epoch 7 with valid_precision_at_k value: 0.5995848161328591.\n",
      "Better model found at epoch 8 with valid_precision_at_k value: 0.5997034400948994.\n",
      "Better model found at epoch 9 with valid_precision_at_k value: 0.5999406880189802.\n",
      "Better model found at epoch 11 with valid_precision_at_k value: 0.600217477263741.\n"
     ]
    }
   ],
   "source": [
    "learn_r.fit(12, lr=1e-6, wd=0.3)"
   ]
  },
  {
   "cell_type": "code",
   "execution_count": null,
   "id": "4cfa83d2-9ba2-43e2-88fb-2ad6aea1b0a0",
   "metadata": {},
   "outputs": [
    {
     "data": {
      "text/html": [
       "\n",
       "<style>\n",
       "    /* Turns off some styling */\n",
       "    progress {\n",
       "        /* gets rid of default border in Firefox and Opera. */\n",
       "        border: none;\n",
       "        /* Needs to be in here for Safari polyfill so background images work as expected. */\n",
       "        background-size: auto;\n",
       "    }\n",
       "    progress:not([value]), progress:not([value])::-webkit-progress-bar {\n",
       "        background: repeating-linear-gradient(45deg, #7e7e7e, #7e7e7e 10px, #5c5c5c 10px, #5c5c5c 20px);\n",
       "    }\n",
       "    .progress-bar-interrupted, .progress-bar-interrupted::-webkit-progress-bar {\n",
       "        background: #F44336;\n",
       "    }\n",
       "</style>\n"
      ],
      "text/plain": [
       "<IPython.core.display.HTML object>"
      ]
     },
     "metadata": {},
     "output_type": "display_data"
    },
    {
     "data": {
      "text/html": [
       "<table border=\"1\" class=\"dataframe\">\n",
       "  <thead>\n",
       "    <tr style=\"text-align: left;\">\n",
       "      <th>epoch</th>\n",
       "      <th>train_loss</th>\n",
       "      <th>train_precision_at_k</th>\n",
       "      <th>valid_loss</th>\n",
       "      <th>valid_precision_at_k</th>\n",
       "      <th>time</th>\n",
       "    </tr>\n",
       "  </thead>\n",
       "  <tbody>\n",
       "    <tr>\n",
       "      <td>0</td>\n",
       "      <td>0.004177</td>\n",
       "      <td>0.583113</td>\n",
       "      <td>0.005111</td>\n",
       "      <td>0.600356</td>\n",
       "      <td>1:25:28</td>\n",
       "    </tr>\n",
       "    <tr>\n",
       "      <td>1</td>\n",
       "      <td>0.003931</td>\n",
       "      <td>0.583075</td>\n",
       "      <td>0.005110</td>\n",
       "      <td>0.600336</td>\n",
       "      <td>1:29:16</td>\n",
       "    </tr>\n",
       "    <tr>\n",
       "      <td>2</td>\n",
       "      <td>0.004125</td>\n",
       "      <td>0.583175</td>\n",
       "      <td>0.005109</td>\n",
       "      <td>0.600395</td>\n",
       "      <td>1:25:16</td>\n",
       "    </tr>\n",
       "    <tr>\n",
       "      <td>3</td>\n",
       "      <td>0.004296</td>\n",
       "      <td>0.583358</td>\n",
       "      <td>0.005109</td>\n",
       "      <td>0.600455</td>\n",
       "      <td>1:29:21</td>\n",
       "    </tr>\n",
       "    <tr>\n",
       "      <td>4</td>\n",
       "      <td>0.004089</td>\n",
       "      <td>0.583721</td>\n",
       "      <td>0.005108</td>\n",
       "      <td>0.600316</td>\n",
       "      <td>1:31:31</td>\n",
       "    </tr>\n",
       "    <tr>\n",
       "      <td>5</td>\n",
       "      <td>0.004001</td>\n",
       "      <td>0.583767</td>\n",
       "      <td>0.005107</td>\n",
       "      <td>0.600435</td>\n",
       "      <td>1:21:54</td>\n",
       "    </tr>\n",
       "    <tr>\n",
       "      <td>6</td>\n",
       "      <td>0.003945</td>\n",
       "      <td>0.583991</td>\n",
       "      <td>0.005107</td>\n",
       "      <td>0.600593</td>\n",
       "      <td>1:25:02</td>\n",
       "    </tr>\n",
       "    <tr>\n",
       "      <td>7</td>\n",
       "      <td>0.003924</td>\n",
       "      <td>0.584695</td>\n",
       "      <td>0.005107</td>\n",
       "      <td>0.600672</td>\n",
       "      <td>1:26:36</td>\n",
       "    </tr>\n",
       "    <tr>\n",
       "      <td>8</td>\n",
       "      <td>0.003871</td>\n",
       "      <td>0.585206</td>\n",
       "      <td>0.005106</td>\n",
       "      <td>0.601008</td>\n",
       "      <td>1:24:04</td>\n",
       "    </tr>\n",
       "    <tr>\n",
       "      <td>9</td>\n",
       "      <td>0.003696</td>\n",
       "      <td>0.587589</td>\n",
       "      <td>0.005106</td>\n",
       "      <td>0.600989</td>\n",
       "      <td>1:30:52</td>\n",
       "    </tr>\n",
       "    <tr>\n",
       "      <td>10</td>\n",
       "      <td>0.004054</td>\n",
       "      <td>0.583418</td>\n",
       "      <td>0.005106</td>\n",
       "      <td>0.601186</td>\n",
       "      <td>1:30:08</td>\n",
       "    </tr>\n",
       "    <tr>\n",
       "      <td>11</td>\n",
       "      <td>0.003954</td>\n",
       "      <td>0.583651</td>\n",
       "      <td>0.005105</td>\n",
       "      <td>0.601147</td>\n",
       "      <td>1:26:53</td>\n",
       "    </tr>\n",
       "  </tbody>\n",
       "</table>"
      ],
      "text/plain": [
       "<IPython.core.display.HTML object>"
      ]
     },
     "metadata": {},
     "output_type": "display_data"
    },
    {
     "name": "stdout",
     "output_type": "stream",
     "text": [
      "Better model found at epoch 2 with valid_precision_at_k value: 0.6003954132068013.\n",
      "Better model found at epoch 3 with valid_precision_at_k value: 0.6004547251878214.\n",
      "Better model found at epoch 6 with valid_precision_at_k value: 0.6005931198102016.\n",
      "Better model found at epoch 7 with valid_precision_at_k value: 0.6006722024515617.\n",
      "Better model found at epoch 8 with valid_precision_at_k value: 0.6010083036773427.\n",
      "Better model found at epoch 10 with valid_precision_at_k value: 0.6011862396204035.\n"
     ]
    }
   ],
   "source": [
    "learn_r.fit(12, lr=1e-6, wd=0.4)"
   ]
  },
  {
   "cell_type": "code",
   "execution_count": null,
   "id": "b6ec16bf-2a77-41b9-9242-423d2b2edac7",
   "metadata": {},
   "outputs": [
    {
     "data": {
      "text/html": [
       "\n",
       "<style>\n",
       "    /* Turns off some styling */\n",
       "    progress {\n",
       "        /* gets rid of default border in Firefox and Opera. */\n",
       "        border: none;\n",
       "        /* Needs to be in here for Safari polyfill so background images work as expected. */\n",
       "        background-size: auto;\n",
       "    }\n",
       "    progress:not([value]), progress:not([value])::-webkit-progress-bar {\n",
       "        background: repeating-linear-gradient(45deg, #7e7e7e, #7e7e7e 10px, #5c5c5c 10px, #5c5c5c 20px);\n",
       "    }\n",
       "    .progress-bar-interrupted, .progress-bar-interrupted::-webkit-progress-bar {\n",
       "        background: #F44336;\n",
       "    }\n",
       "</style>\n"
      ],
      "text/plain": [
       "<IPython.core.display.HTML object>"
      ]
     },
     "metadata": {},
     "output_type": "display_data"
    },
    {
     "data": {
      "text/html": [
       "<table border=\"1\" class=\"dataframe\">\n",
       "  <thead>\n",
       "    <tr style=\"text-align: left;\">\n",
       "      <th>epoch</th>\n",
       "      <th>train_loss</th>\n",
       "      <th>train_precision_at_k</th>\n",
       "      <th>valid_loss</th>\n",
       "      <th>valid_precision_at_k</th>\n",
       "      <th>time</th>\n",
       "    </tr>\n",
       "  </thead>\n",
       "  <tbody>\n",
       "    <tr>\n",
       "      <td>0</td>\n",
       "      <td>0.004128</td>\n",
       "      <td>0.583594</td>\n",
       "      <td>0.005105</td>\n",
       "      <td>0.601186</td>\n",
       "      <td>1:24:23</td>\n",
       "    </tr>\n",
       "    <tr>\n",
       "      <td>1</td>\n",
       "      <td>0.004299</td>\n",
       "      <td>0.583698</td>\n",
       "      <td>0.005105</td>\n",
       "      <td>0.601305</td>\n",
       "      <td>1:25:33</td>\n",
       "    </tr>\n",
       "    <tr>\n",
       "      <td>2</td>\n",
       "      <td>0.004092</td>\n",
       "      <td>0.584118</td>\n",
       "      <td>0.005105</td>\n",
       "      <td>0.601423</td>\n",
       "      <td>1:27:00</td>\n",
       "    </tr>\n",
       "    <tr>\n",
       "      <td>3</td>\n",
       "      <td>0.004005</td>\n",
       "      <td>0.584058</td>\n",
       "      <td>0.005105</td>\n",
       "      <td>0.601463</td>\n",
       "      <td>1:25:26</td>\n",
       "    </tr>\n",
       "    <tr>\n",
       "      <td>4</td>\n",
       "      <td>0.003949</td>\n",
       "      <td>0.584217</td>\n",
       "      <td>0.005105</td>\n",
       "      <td>0.601522</td>\n",
       "      <td>1:24:53</td>\n",
       "    </tr>\n",
       "    <tr>\n",
       "      <td>5</td>\n",
       "      <td>0.003928</td>\n",
       "      <td>0.584968</td>\n",
       "      <td>0.005105</td>\n",
       "      <td>0.601404</td>\n",
       "      <td>1:27:26</td>\n",
       "    </tr>\n",
       "    <tr>\n",
       "      <td>6</td>\n",
       "      <td>0.003875</td>\n",
       "      <td>0.585415</td>\n",
       "      <td>0.005105</td>\n",
       "      <td>0.601661</td>\n",
       "      <td>1:22:49</td>\n",
       "    </tr>\n",
       "    <tr>\n",
       "      <td>7</td>\n",
       "      <td>0.003719</td>\n",
       "      <td>0.587758</td>\n",
       "      <td>0.005105</td>\n",
       "      <td>0.601779</td>\n",
       "      <td>1:24:33</td>\n",
       "    </tr>\n",
       "    <tr>\n",
       "      <td>8</td>\n",
       "      <td>0.004059</td>\n",
       "      <td>0.583728</td>\n",
       "      <td>0.005105</td>\n",
       "      <td>0.601700</td>\n",
       "      <td>1:23:08</td>\n",
       "    </tr>\n",
       "    <tr>\n",
       "      <td>9</td>\n",
       "      <td>0.003960</td>\n",
       "      <td>0.583779</td>\n",
       "      <td>0.005105</td>\n",
       "      <td>0.601799</td>\n",
       "      <td>1:26:34</td>\n",
       "    </tr>\n",
       "  </tbody>\n",
       "</table>"
      ],
      "text/plain": [
       "<IPython.core.display.HTML object>"
      ]
     },
     "metadata": {},
     "output_type": "display_data"
    },
    {
     "name": "stdout",
     "output_type": "stream",
     "text": [
      "Better model found at epoch 0 with valid_precision_at_k value: 0.6011862396204033.\n",
      "Better model found at epoch 1 with valid_precision_at_k value: 0.6013048635824436.\n",
      "Better model found at epoch 2 with valid_precision_at_k value: 0.6014234875444842.\n",
      "Better model found at epoch 3 with valid_precision_at_k value: 0.6014630288651643.\n",
      "Better model found at epoch 4 with valid_precision_at_k value: 0.6015223408461846.\n",
      "Better model found at epoch 6 with valid_precision_at_k value: 0.6016607354685648.\n",
      "Better model found at epoch 7 with valid_precision_at_k value: 0.6017793594306049.\n",
      "Better model found at epoch 9 with valid_precision_at_k value: 0.6017991300909451.\n"
     ]
    }
   ],
   "source": [
    "learn_r.fit(10, lr=1e-6, wd=0.4)"
   ]
  },
  {
   "cell_type": "markdown",
   "id": "1b76b727-17a3-4a4a-86ed-06fbe2b81cc7",
   "metadata": {},
   "source": [
    "Start here:"
   ]
  },
  {
   "cell_type": "code",
   "execution_count": null,
   "id": "887f9d19-1390-4238-b9e8-d900ee703040",
   "metadata": {},
   "outputs": [
    {
     "name": "stdout",
     "output_type": "stream",
     "text": [
      "mimic3-9k_clas_full_r\n",
      "best so far = None\n"
     ]
    },
    {
     "data": {
      "text/html": [
       "\n",
       "<style>\n",
       "    /* Turns off some styling */\n",
       "    progress {\n",
       "        /* gets rid of default border in Firefox and Opera. */\n",
       "        border: none;\n",
       "        /* Needs to be in here for Safari polyfill so background images work as expected. */\n",
       "        background-size: auto;\n",
       "    }\n",
       "    progress:not([value]), progress:not([value])::-webkit-progress-bar {\n",
       "        background: repeating-linear-gradient(45deg, #7e7e7e, #7e7e7e 10px, #5c5c5c 10px, #5c5c5c 20px);\n",
       "    }\n",
       "    .progress-bar-interrupted, .progress-bar-interrupted::-webkit-progress-bar {\n",
       "        background: #F44336;\n",
       "    }\n",
       "</style>\n"
      ],
      "text/plain": [
       "<IPython.core.display.HTML object>"
      ]
     },
     "metadata": {},
     "output_type": "display_data"
    },
    {
     "data": {
      "text/html": [],
      "text/plain": [
       "<IPython.core.display.HTML object>"
      ]
     },
     "metadata": {},
     "output_type": "display_data"
    },
    {
     "name": "stdout",
     "output_type": "stream",
     "text": [
      "[0.005104772746562958, 0.6017991300909451]\n",
      "best so far = None\n"
     ]
    }
   ],
   "source": [
    "print(learn_r.save_model.fname)\n",
    "learn_r.save_model.reset_on_fit = False\n",
    "assert learn_r.save_model.reset_on_fit is False\n",
    "learn_r = learn_r.load(learn_r.save_model.fname)\n",
    "validate(learn_r)"
   ]
  },
  {
   "cell_type": "code",
   "execution_count": null,
   "id": "24b99b13-08f7-4bd6-be05-79129bf3dd3a",
   "metadata": {},
   "outputs": [],
   "source": [
    "learn_r.save_model.best = 0.60179913"
   ]
  },
  {
   "cell_type": "markdown",
   "id": "f22e437b-7640-473b-bf52-17e807c55c1d",
   "metadata": {},
   "source": [
    "Now you can unfreeze and train more if you want:"
   ]
  },
  {
   "cell_type": "code",
   "execution_count": null,
   "id": "9db32357-ba6b-42e5-a917-7d5d1407b86f",
   "metadata": {},
   "outputs": [],
   "source": [
    "learn_r.unfreeze()"
   ]
  },
  {
   "cell_type": "code",
   "execution_count": null,
   "id": "f3301527-b892-4143-9990-cadfe38d6c25",
   "metadata": {},
   "outputs": [],
   "source": []
  },
  {
   "cell_type": "markdown",
   "id": "9f355fc6-228b-46b5-89a9-ff2ffb194678",
   "metadata": {},
   "source": [
    "Ensemble:"
   ]
  },
  {
   "cell_type": "code",
   "execution_count": null,
   "id": "93f7fca1-92e1-4561-a794-51a95e46356e",
   "metadata": {},
   "outputs": [
    {
     "data": {
      "text/html": [
       "\n",
       "<style>\n",
       "    /* Turns off some styling */\n",
       "    progress {\n",
       "        /* gets rid of default border in Firefox and Opera. */\n",
       "        border: none;\n",
       "        /* Needs to be in here for Safari polyfill so background images work as expected. */\n",
       "        background-size: auto;\n",
       "    }\n",
       "    progress:not([value]), progress:not([value])::-webkit-progress-bar {\n",
       "        background: repeating-linear-gradient(45deg, #7e7e7e, #7e7e7e 10px, #5c5c5c 10px, #5c5c5c 20px);\n",
       "    }\n",
       "    .progress-bar-interrupted, .progress-bar-interrupted::-webkit-progress-bar {\n",
       "        background: #F44336;\n",
       "    }\n",
       "</style>\n"
      ],
      "text/plain": [
       "<IPython.core.display.HTML object>"
      ]
     },
     "metadata": {},
     "output_type": "display_data"
    },
    {
     "data": {
      "text/html": [],
      "text/plain": [
       "<IPython.core.display.HTML object>"
      ]
     },
     "metadata": {},
     "output_type": "display_data"
    },
    {
     "data": {
      "text/html": [
       "\n",
       "<style>\n",
       "    /* Turns off some styling */\n",
       "    progress {\n",
       "        /* gets rid of default border in Firefox and Opera. */\n",
       "        border: none;\n",
       "        /* Needs to be in here for Safari polyfill so background images work as expected. */\n",
       "        background-size: auto;\n",
       "    }\n",
       "    progress:not([value]), progress:not([value])::-webkit-progress-bar {\n",
       "        background: repeating-linear-gradient(45deg, #7e7e7e, #7e7e7e 10px, #5c5c5c 10px, #5c5c5c 20px);\n",
       "    }\n",
       "    .progress-bar-interrupted, .progress-bar-interrupted::-webkit-progress-bar {\n",
       "        background: #F44336;\n",
       "    }\n",
       "</style>\n"
      ],
      "text/plain": [
       "<IPython.core.display.HTML object>"
      ]
     },
     "metadata": {},
     "output_type": "display_data"
    },
    {
     "data": {
      "text/html": [],
      "text/plain": [
       "<IPython.core.display.HTML object>"
      ]
     },
     "metadata": {},
     "output_type": "display_data"
    }
   ],
   "source": [
    "learn = learn.load(learn.save_model.fname)\n",
    "learn_r = learn_r.load(learn_r.save_model.fname)\n",
    "preds, targs = learn.get_preds()\n",
    "preds_r, targs = learn_r.get_preds()"
   ]
  },
  {
   "cell_type": "code",
   "execution_count": null,
   "id": "15e47d38-77b1-4291-86f7-2388e910285b",
   "metadata": {},
   "outputs": [
    {
     "data": {
      "text/plain": [
       "0.6167457493080268"
      ]
     },
     "execution_count": null,
     "metadata": {},
     "output_type": "execute_result"
    }
   ],
   "source": [
    "precision_at_k(preds.add(preds_r), targs, k=15)"
   ]
  },
  {
   "cell_type": "markdown",
   "id": "5d4c5f7e-3d79-4a16-942f-ede450b80bb6",
   "metadata": {},
   "source": [
    "## Fine-Tuning the MIMIC3-Top50 Bwd Classifier "
   ]
  },
  {
   "cell_type": "code",
   "execution_count": null,
   "id": "7cff0879-9a06-4300-a64f-8fde151f5346",
   "metadata": {},
   "outputs": [
    {
     "data": {
      "text/html": [
       "\n",
       "<style>\n",
       "    /* Turns off some styling */\n",
       "    progress {\n",
       "        /* gets rid of default border in Firefox and Opera. */\n",
       "        border: none;\n",
       "        /* Needs to be in here for Safari polyfill so background images work as expected. */\n",
       "        background-size: auto;\n",
       "    }\n",
       "    progress:not([value]), progress:not([value])::-webkit-progress-bar {\n",
       "        background: repeating-linear-gradient(45deg, #7e7e7e, #7e7e7e 10px, #5c5c5c 10px, #5c5c5c 20px);\n",
       "    }\n",
       "    .progress-bar-interrupted, .progress-bar-interrupted::-webkit-progress-bar {\n",
       "        background: #F44336;\n",
       "    }\n",
       "</style>\n"
      ],
      "text/plain": [
       "<IPython.core.display.HTML object>"
      ]
     },
     "metadata": {},
     "output_type": "display_data"
    },
    {
     "data": {
      "text/html": [
       "<table border=\"1\" class=\"dataframe\">\n",
       "  <thead>\n",
       "    <tr style=\"text-align: left;\">\n",
       "      <th>epoch</th>\n",
       "      <th>train_loss</th>\n",
       "      <th>train_precision_at_k</th>\n",
       "      <th>valid_loss</th>\n",
       "      <th>valid_precision_at_k</th>\n",
       "      <th>time</th>\n",
       "    </tr>\n",
       "  </thead>\n",
       "  <tbody>\n",
       "    <tr>\n",
       "      <td>0</td>\n",
       "      <td>0.255956</td>\n",
       "      <td>0.274197</td>\n",
       "      <td>0.283012</td>\n",
       "      <td>0.283324</td>\n",
       "      <td>08:03</td>\n",
       "    </tr>\n",
       "    <tr>\n",
       "      <td>1</td>\n",
       "      <td>0.255479</td>\n",
       "      <td>0.285894</td>\n",
       "      <td>0.275318</td>\n",
       "      <td>0.289223</td>\n",
       "      <td>07:57</td>\n",
       "    </tr>\n",
       "    <tr>\n",
       "      <td>2</td>\n",
       "      <td>0.249552</td>\n",
       "      <td>0.288995</td>\n",
       "      <td>0.277577</td>\n",
       "      <td>0.286524</td>\n",
       "      <td>07:57</td>\n",
       "    </tr>\n",
       "  </tbody>\n",
       "</table>"
      ],
      "text/plain": [
       "<IPython.core.display.HTML object>"
      ]
     },
     "metadata": {},
     "output_type": "display_data"
    },
    {
     "name": "stdout",
     "output_type": "stream",
     "text": [
      "Better model found at epoch 0 with valid_precision_at_k value: 0.2833236938500096.\n",
      "Better model found at epoch 1 with valid_precision_at_k value: 0.28922305764411016.\n"
     ]
    }
   ],
   "source": [
    "learn_r.fit(3, lr=3e-2)"
   ]
  },
  {
   "cell_type": "code",
   "execution_count": null,
   "id": "74aa7c1d-179d-435a-af3f-78c7c42c595b",
   "metadata": {},
   "outputs": [],
   "source": [
    "learn_r.freeze_to(-2)"
   ]
  },
  {
   "cell_type": "code",
   "execution_count": null,
   "id": "a857d31a-e159-4b33-a418-3e4003c0c37e",
   "metadata": {},
   "outputs": [
    {
     "data": {
      "text/html": [
       "\n",
       "<style>\n",
       "    /* Turns off some styling */\n",
       "    progress {\n",
       "        /* gets rid of default border in Firefox and Opera. */\n",
       "        border: none;\n",
       "        /* Needs to be in here for Safari polyfill so background images work as expected. */\n",
       "        background-size: auto;\n",
       "    }\n",
       "    progress:not([value]), progress:not([value])::-webkit-progress-bar {\n",
       "        background: repeating-linear-gradient(45deg, #7e7e7e, #7e7e7e 10px, #5c5c5c 10px, #5c5c5c 20px);\n",
       "    }\n",
       "    .progress-bar-interrupted, .progress-bar-interrupted::-webkit-progress-bar {\n",
       "        background: #F44336;\n",
       "    }\n",
       "</style>\n"
      ],
      "text/plain": [
       "<IPython.core.display.HTML object>"
      ]
     },
     "metadata": {},
     "output_type": "display_data"
    },
    {
     "data": {
      "text/html": [
       "<table border=\"1\" class=\"dataframe\">\n",
       "  <thead>\n",
       "    <tr style=\"text-align: left;\">\n",
       "      <th>epoch</th>\n",
       "      <th>train_loss</th>\n",
       "      <th>train_precision_at_k</th>\n",
       "      <th>valid_loss</th>\n",
       "      <th>valid_precision_at_k</th>\n",
       "      <th>time</th>\n",
       "    </tr>\n",
       "  </thead>\n",
       "  <tbody>\n",
       "    <tr>\n",
       "      <td>0</td>\n",
       "      <td>0.245347</td>\n",
       "      <td>0.295743</td>\n",
       "      <td>0.265502</td>\n",
       "      <td>0.298361</td>\n",
       "      <td>07:52</td>\n",
       "    </tr>\n",
       "    <tr>\n",
       "      <td>1</td>\n",
       "      <td>0.244414</td>\n",
       "      <td>0.296865</td>\n",
       "      <td>0.265360</td>\n",
       "      <td>0.296549</td>\n",
       "      <td>08:10</td>\n",
       "    </tr>\n",
       "    <tr>\n",
       "      <td>2</td>\n",
       "      <td>0.249085</td>\n",
       "      <td>0.297931</td>\n",
       "      <td>0.266448</td>\n",
       "      <td>0.296163</td>\n",
       "      <td>08:18</td>\n",
       "    </tr>\n",
       "    <tr>\n",
       "      <td>3</td>\n",
       "      <td>0.230464</td>\n",
       "      <td>0.298014</td>\n",
       "      <td>0.264372</td>\n",
       "      <td>0.298785</td>\n",
       "      <td>07:52</td>\n",
       "    </tr>\n",
       "    <tr>\n",
       "      <td>4</td>\n",
       "      <td>0.243653</td>\n",
       "      <td>0.298014</td>\n",
       "      <td>0.264823</td>\n",
       "      <td>0.296395</td>\n",
       "      <td>07:58</td>\n",
       "    </tr>\n",
       "  </tbody>\n",
       "</table>"
      ],
      "text/plain": [
       "<IPython.core.display.HTML object>"
      ]
     },
     "metadata": {},
     "output_type": "display_data"
    },
    {
     "name": "stdout",
     "output_type": "stream",
     "text": [
      "Better model found at epoch 0 with valid_precision_at_k value: 0.2983612878349721.\n",
      "Better model found at epoch 3 with valid_precision_at_k value: 0.29878542510121464.\n"
     ]
    }
   ],
   "source": [
    "learn_r.fit(5, lr=1e-2)"
   ]
  },
  {
   "cell_type": "code",
   "execution_count": null,
   "id": "4364db32-a989-474b-8de9-540fccec21ad",
   "metadata": {},
   "outputs": [],
   "source": [
    "learn_r.freeze_to(-3)"
   ]
  },
  {
   "cell_type": "code",
   "execution_count": null,
   "id": "18b7f3bb-399b-405a-9ef2-b7e674dc6385",
   "metadata": {},
   "outputs": [
    {
     "data": {
      "text/html": [
       "\n",
       "<style>\n",
       "    /* Turns off some styling */\n",
       "    progress {\n",
       "        /* gets rid of default border in Firefox and Opera. */\n",
       "        border: none;\n",
       "        /* Needs to be in here for Safari polyfill so background images work as expected. */\n",
       "        background-size: auto;\n",
       "    }\n",
       "    progress:not([value]), progress:not([value])::-webkit-progress-bar {\n",
       "        background: repeating-linear-gradient(45deg, #7e7e7e, #7e7e7e 10px, #5c5c5c 10px, #5c5c5c 20px);\n",
       "    }\n",
       "    .progress-bar-interrupted, .progress-bar-interrupted::-webkit-progress-bar {\n",
       "        background: #F44336;\n",
       "    }\n",
       "</style>\n"
      ],
      "text/plain": [
       "<IPython.core.display.HTML object>"
      ]
     },
     "metadata": {},
     "output_type": "display_data"
    },
    {
     "data": {
      "text/html": [
       "<table border=\"1\" class=\"dataframe\">\n",
       "  <thead>\n",
       "    <tr style=\"text-align: left;\">\n",
       "      <th>epoch</th>\n",
       "      <th>train_loss</th>\n",
       "      <th>train_precision_at_k</th>\n",
       "      <th>valid_loss</th>\n",
       "      <th>valid_precision_at_k</th>\n",
       "      <th>time</th>\n",
       "    </tr>\n",
       "  </thead>\n",
       "  <tbody>\n",
       "    <tr>\n",
       "      <td>0</td>\n",
       "      <td>0.206233</td>\n",
       "      <td>0.317193</td>\n",
       "      <td>0.212443</td>\n",
       "      <td>0.342934</td>\n",
       "      <td>09:54</td>\n",
       "    </tr>\n",
       "    <tr>\n",
       "      <td>1</td>\n",
       "      <td>0.188074</td>\n",
       "      <td>0.333714</td>\n",
       "      <td>0.198878</td>\n",
       "      <td>0.350877</td>\n",
       "      <td>07:58</td>\n",
       "    </tr>\n",
       "    <tr>\n",
       "      <td>2</td>\n",
       "      <td>0.175423</td>\n",
       "      <td>0.336344</td>\n",
       "      <td>0.195155</td>\n",
       "      <td>0.350029</td>\n",
       "      <td>07:51</td>\n",
       "    </tr>\n",
       "    <tr>\n",
       "      <td>3</td>\n",
       "      <td>0.182289</td>\n",
       "      <td>0.338462</td>\n",
       "      <td>0.198468</td>\n",
       "      <td>0.349875</td>\n",
       "      <td>08:15</td>\n",
       "    </tr>\n",
       "    <tr>\n",
       "      <td>4</td>\n",
       "      <td>0.180066</td>\n",
       "      <td>0.339120</td>\n",
       "      <td>0.195734</td>\n",
       "      <td>0.351224</td>\n",
       "      <td>07:46</td>\n",
       "    </tr>\n",
       "    <tr>\n",
       "      <td>5</td>\n",
       "      <td>0.174872</td>\n",
       "      <td>0.340698</td>\n",
       "      <td>0.191145</td>\n",
       "      <td>0.353499</td>\n",
       "      <td>07:45</td>\n",
       "    </tr>\n",
       "  </tbody>\n",
       "</table>"
      ],
      "text/plain": [
       "<IPython.core.display.HTML object>"
      ]
     },
     "metadata": {},
     "output_type": "display_data"
    },
    {
     "name": "stdout",
     "output_type": "stream",
     "text": [
      "Better model found at epoch 0 with valid_precision_at_k value: 0.3429342587237322.\n",
      "Better model found at epoch 1 with valid_precision_at_k value: 0.35087719298245607.\n",
      "Better model found at epoch 4 with valid_precision_at_k value: 0.35122421438210893.\n",
      "Better model found at epoch 5 with valid_precision_at_k value: 0.35349913244650083.\n"
     ]
    }
   ],
   "source": [
    "learn_r.fit(6, lr=1e-2)"
   ]
  },
  {
   "cell_type": "markdown",
   "id": "887f48b7-1687-42a1-8b7b-f147cf7cbedd",
   "metadata": {},
   "source": [
    "Now unfreeze and train more if you want:"
   ]
  },
  {
   "cell_type": "code",
   "execution_count": null,
   "id": "848471bb-e58b-4f47-9b6a-2e459ad6f1b8",
   "metadata": {},
   "outputs": [],
   "source": [
    "learn_r.unfreeze()"
   ]
  },
  {
   "cell_type": "code",
   "execution_count": null,
   "id": "0033f10c-55a7-4714-a4f8-4ad652613ef6",
   "metadata": {},
   "outputs": [],
   "source": [
    "learn_r.save_model.reset_on_fit=False\n",
    "assert not learn_r.save_model.reset_on_fit"
   ]
  },
  {
   "cell_type": "code",
   "execution_count": null,
   "id": "40f94538-998e-413a-966e-3e5c82961034",
   "metadata": {},
   "outputs": [
    {
     "data": {
      "text/html": [
       "\n",
       "<style>\n",
       "    /* Turns off some styling */\n",
       "    progress {\n",
       "        /* gets rid of default border in Firefox and Opera. */\n",
       "        border: none;\n",
       "        /* Needs to be in here for Safari polyfill so background images work as expected. */\n",
       "        background-size: auto;\n",
       "    }\n",
       "    progress:not([value]), progress:not([value])::-webkit-progress-bar {\n",
       "        background: repeating-linear-gradient(45deg, #7e7e7e, #7e7e7e 10px, #5c5c5c 10px, #5c5c5c 20px);\n",
       "    }\n",
       "    .progress-bar-interrupted, .progress-bar-interrupted::-webkit-progress-bar {\n",
       "        background: #F44336;\n",
       "    }\n",
       "</style>\n"
      ],
      "text/plain": [
       "<IPython.core.display.HTML object>"
      ]
     },
     "metadata": {},
     "output_type": "display_data"
    },
    {
     "data": {
      "text/html": [
       "<table border=\"1\" class=\"dataframe\">\n",
       "  <thead>\n",
       "    <tr style=\"text-align: left;\">\n",
       "      <th>epoch</th>\n",
       "      <th>train_loss</th>\n",
       "      <th>train_precision_at_k</th>\n",
       "      <th>valid_loss</th>\n",
       "      <th>valid_precision_at_k</th>\n",
       "      <th>time</th>\n",
       "    </tr>\n",
       "  </thead>\n",
       "  <tbody>\n",
       "    <tr>\n",
       "      <td>0</td>\n",
       "      <td>0.171123</td>\n",
       "      <td>0.344906</td>\n",
       "      <td>0.188852</td>\n",
       "      <td>0.354039</td>\n",
       "      <td>16:42</td>\n",
       "    </tr>\n",
       "    <tr>\n",
       "      <td>1</td>\n",
       "      <td>0.166571</td>\n",
       "      <td>0.345432</td>\n",
       "      <td>0.187395</td>\n",
       "      <td>0.354887</td>\n",
       "      <td>16:55</td>\n",
       "    </tr>\n",
       "    <tr>\n",
       "      <td>2</td>\n",
       "      <td>0.161902</td>\n",
       "      <td>0.345813</td>\n",
       "      <td>0.186358</td>\n",
       "      <td>0.355311</td>\n",
       "      <td>17:18</td>\n",
       "    </tr>\n",
       "  </tbody>\n",
       "</table>"
      ],
      "text/plain": [
       "<IPython.core.display.HTML object>"
      ]
     },
     "metadata": {},
     "output_type": "display_data"
    },
    {
     "name": "stdout",
     "output_type": "stream",
     "text": [
      "Better model found at epoch 0 with valid_precision_at_k value: 0.3540389435126277.\n",
      "Better model found at epoch 1 with valid_precision_at_k value: 0.35488721804511275.\n",
      "Better model found at epoch 2 with valid_precision_at_k value: 0.3553113553113553.\n"
     ]
    }
   ],
   "source": [
    "learn_r.fit(3, lr=1e-6, wd=0.3)"
   ]
  },
  {
   "cell_type": "markdown",
   "id": "d694f122-3b03-4b2c-99ee-c0dd2274e842",
   "metadata": {},
   "source": [
    "## Metrics MIMIC3-Full"
   ]
  },
  {
   "cell_type": "markdown",
   "id": "700fe3f5-1b0c-4e9d-937f-270ce28d6476",
   "metadata": {},
   "source": [
    "### Loading Raw Data"
   ]
  },
  {
   "cell_type": "code",
   "execution_count": null,
   "id": "cf5201ff-30bb-4170-ad5d-1f1ac0b0b9c5",
   "metadata": {},
   "outputs": [
    {
     "name": "stdout",
     "output_type": "stream",
     "text": [
      "subject_id,hadm_id,text,labels,length,is_valid\n"
     ]
    }
   ],
   "source": [
    "data = source/'mimic3-9k.csv'\n",
    "!head -n 1 {data}"
   ]
  },
  {
   "cell_type": "code",
   "execution_count": null,
   "id": "7faaf7ab-61a3-4dd0-bfee-e2b31b368ad4",
   "metadata": {},
   "outputs": [],
   "source": [
    "df = pd.read_csv(data,\n",
    "                 header=0,\n",
    "                 names=['subject_id', 'hadm_id', 'text', 'labels', 'length', 'is_valid'],\n",
    "                 dtype={'subject_id': str, 'hadm_id': str, 'text': str, 'labels': str, 'length': np.int64, 'is_valid': bool})\n",
    "df[['text', 'labels']] = df[['text', 'labels']].astype(str)\n",
    "df[['hadm_id']] = df[['hadm_id']].astype(int)\n",
    "df_dev = pd.read_csv('~/caml-mimic/mimicdata/mimic3/dev_full.csv')\n",
    "dev_hadm_id = df_dev.HADM_ID.values\n",
    "df['is_dev'] = df['hadm_id'].isin(dev_hadm_id)"
   ]
  },
  {
   "cell_type": "code",
   "execution_count": null,
   "id": "674e2d47-7895-4fe5-9156-12a809c82fac",
   "metadata": {},
   "outputs": [
    {
     "data": {
      "text/html": [
       "<div>\n",
       "<style scoped>\n",
       "    .dataframe tbody tr th:only-of-type {\n",
       "        vertical-align: middle;\n",
       "    }\n",
       "\n",
       "    .dataframe tbody tr th {\n",
       "        vertical-align: top;\n",
       "    }\n",
       "\n",
       "    .dataframe thead th {\n",
       "        text-align: right;\n",
       "    }\n",
       "</style>\n",
       "<table border=\"1\" class=\"dataframe\">\n",
       "  <thead>\n",
       "    <tr style=\"text-align: right;\">\n",
       "      <th></th>\n",
       "      <th>subject_id</th>\n",
       "      <th>hadm_id</th>\n",
       "      <th>text</th>\n",
       "      <th>labels</th>\n",
       "      <th>length</th>\n",
       "      <th>is_valid</th>\n",
       "      <th>is_dev</th>\n",
       "    </tr>\n",
       "  </thead>\n",
       "  <tbody>\n",
       "    <tr>\n",
       "      <th>0</th>\n",
       "      <td>86006</td>\n",
       "      <td>111912</td>\n",
       "      <td>admission date discharge date date of birth sex f service surgery allergies patient recorded as having no known allergies to drugs attending first name3 lf chief complaint 60f on coumadin was found slightly drowsy tonight then fell down stairs paramedic found her unconscious and she was intubated w o any medication head ct shows multiple iph transferred to hospital1 for further eval major surgical or invasive procedure none past medical history her medical history is significant for hypertension osteoarthritis involving bilateral knee joints with a dependence on cane for ambulation chronic...</td>\n",
       "      <td>801.35;348.4;805.06;807.01;998.30;707.24;E880.9;427.31;414.01;401.9;V58.61;V43.64;707.00;E878.1;96.71</td>\n",
       "      <td>230</td>\n",
       "      <td>False</td>\n",
       "      <td>True</td>\n",
       "    </tr>\n",
       "    <tr>\n",
       "      <th>1</th>\n",
       "      <td>85950</td>\n",
       "      <td>189769</td>\n",
       "      <td>admission date discharge date service neurosurgery allergies sulfa sulfonamides attending first name3 lf chief complaint cc cc contact info major surgical or invasive procedure none history of present illness hpi 88m who lives with family had fall yesterday today had decline in mental status ems called pt was unresponsive on arrival went to osh head ct showed large r sdh pt was intubated at osh and transferred to hospital1 for further care past medical history cad s p mi in s p cabg in ventricular aneurysm at that time cath in with occluded rca unable to intervene chf reported ef 1st degre...</td>\n",
       "      <td>852.25;E888.9;403.90;585.9;250.00;414.00;V45.81;96.71</td>\n",
       "      <td>304</td>\n",
       "      <td>False</td>\n",
       "      <td>True</td>\n",
       "    </tr>\n",
       "    <tr>\n",
       "      <th>2</th>\n",
       "      <td>88025</td>\n",
       "      <td>180431</td>\n",
       "      <td>admission date discharge date date of birth sex f service surgery allergies no known allergies adverse drug reactions attending first name3 lf chief complaint s p fall major surgical or invasive procedure none history of present illness 45f etoh s p fall from window at feet found ambulating and slurring speech on scene intubated en route for declining mental status in the er the patient was found to be bradycardic to the s with bp of systolic she was given atropine dilantin and was started on saline past medical history unknown social history unknown family history unknown physical exam ex...</td>\n",
       "      <td>518.81;348.4;348.82;801.25;427.89;E882;V49.86;305.00;96.71;38.93</td>\n",
       "      <td>359</td>\n",
       "      <td>False</td>\n",
       "      <td>True</td>\n",
       "    </tr>\n",
       "  </tbody>\n",
       "</table>\n",
       "</div>"
      ],
      "text/plain": [
       "  subject_id  hadm_id   \n",
       "0      86006   111912  \\\n",
       "1      85950   189769   \n",
       "2      88025   180431   \n",
       "\n",
       "                                                                                                                                                                                                                                                                                                                                                                                                                                                                                                                                                                                                                      text   \n",
       "0  admission date discharge date date of birth sex f service surgery allergies patient recorded as having no known allergies to drugs attending first name3 lf chief complaint 60f on coumadin was found slightly drowsy tonight then fell down stairs paramedic found her unconscious and she was intubated w o any medication head ct shows multiple iph transferred to hospital1 for further eval major surgical or invasive procedure none past medical history her medical history is significant for hypertension osteoarthritis involving bilateral knee joints with a dependence on cane for ambulation chronic...  \\\n",
       "1  admission date discharge date service neurosurgery allergies sulfa sulfonamides attending first name3 lf chief complaint cc cc contact info major surgical or invasive procedure none history of present illness hpi 88m who lives with family had fall yesterday today had decline in mental status ems called pt was unresponsive on arrival went to osh head ct showed large r sdh pt was intubated at osh and transferred to hospital1 for further care past medical history cad s p mi in s p cabg in ventricular aneurysm at that time cath in with occluded rca unable to intervene chf reported ef 1st degre...   \n",
       "2  admission date discharge date date of birth sex f service surgery allergies no known allergies adverse drug reactions attending first name3 lf chief complaint s p fall major surgical or invasive procedure none history of present illness 45f etoh s p fall from window at feet found ambulating and slurring speech on scene intubated en route for declining mental status in the er the patient was found to be bradycardic to the s with bp of systolic she was given atropine dilantin and was started on saline past medical history unknown social history unknown family history unknown physical exam ex...   \n",
       "\n",
       "                                                                                                  labels   \n",
       "0  801.35;348.4;805.06;807.01;998.30;707.24;E880.9;427.31;414.01;401.9;V58.61;V43.64;707.00;E878.1;96.71  \\\n",
       "1                                                  852.25;E888.9;403.90;585.9;250.00;414.00;V45.81;96.71   \n",
       "2                                       518.81;348.4;348.82;801.25;427.89;E882;V49.86;305.00;96.71;38.93   \n",
       "\n",
       "   length  is_valid  is_dev  \n",
       "0     230     False    True  \n",
       "1     304     False    True  \n",
       "2     359     False    True  "
      ]
     },
     "execution_count": null,
     "metadata": {},
     "output_type": "execute_result"
    }
   ],
   "source": [
    "df.head(3)"
   ]
  },
  {
   "cell_type": "markdown",
   "id": "e876b38b-7be6-48ef-86fb-1361ffa3bfbb",
   "metadata": {},
   "source": [
    "Let's now gather the labels from the 'labels' columns of the df:"
   ]
  },
  {
   "cell_type": "code",
   "execution_count": null,
   "id": "797b3e06-2ef9-4a4e-a87d-98f9f3d4b33d",
   "metadata": {},
   "outputs": [],
   "source": [
    "lbl_freqs = Counter()\n",
    "for labels in df.labels: lbl_freqs.update(labels.split(';'))"
   ]
  },
  {
   "cell_type": "markdown",
   "id": "81a41fc2-eaae-4a82-bf99-7449ecd4011f",
   "metadata": {},
   "source": [
    "The total number of labels are:"
   ]
  },
  {
   "cell_type": "code",
   "execution_count": null,
   "id": "effcb008-0cf5-4d3f-9938-bd373016203d",
   "metadata": {},
   "outputs": [
    {
     "data": {
      "text/plain": [
       "8922"
      ]
     },
     "execution_count": null,
     "metadata": {},
     "output_type": "execute_result"
    }
   ],
   "source": [
    "len(lbl_freqs)"
   ]
  },
  {
   "cell_type": "markdown",
   "id": "d6e76082-b2b5-460c-a0f3-b6682684a290",
   "metadata": {},
   "source": [
    "Let's make a list of all labels (We will use it later while creating the `DataLoader`)"
   ]
  },
  {
   "cell_type": "code",
   "execution_count": null,
   "id": "66350869-407e-4815-b188-54f5274ab96f",
   "metadata": {},
   "outputs": [],
   "source": [
    "lbls = list(lbl_freqs.keys())"
   ]
  },
  {
   "cell_type": "markdown",
   "id": "7020920f-2435-4e73-ab20-2a3bd542f6de",
   "metadata": {},
   "source": [
    "### Steps for creating the classifier `DataLoaders` using fastai's `Transforms`:"
   ]
  },
  {
   "cell_type": "markdown",
   "id": "50a34080-78ed-4d87-abec-95ecc59838a2",
   "metadata": {},
   "source": [
    "#### 1. train/valid `splitter`:"
   ]
  },
  {
   "cell_type": "markdown",
   "id": "3a8a1f28-0960-4f49-873b-3a782044872b",
   "metadata": {},
   "source": [
    "Okay, based on the `is_valid` column of our Dataframe, let's create a splitter:"
   ]
  },
  {
   "cell_type": "code",
   "execution_count": null,
   "id": "afea0006-180c-43d5-9d25-dce2e31f63a9",
   "metadata": {},
   "outputs": [],
   "source": [
    "def splitter(df):\n",
    "    train = df.index[~df['is_valid']].tolist()\n",
    "    valid = df.index[df['is_valid']].to_list()\n",
    "    return train, valid "
   ]
  },
  {
   "cell_type": "markdown",
   "id": "ee2457b4-2de2-4022-9833-d301b07245f8",
   "metadata": {},
   "source": [
    "Let's check the train/valid split"
   ]
  },
  {
   "cell_type": "code",
   "execution_count": null,
   "id": "85108bb3-e441-43c0-af80-0134d2a4815f",
   "metadata": {},
   "outputs": [
    {
     "data": {
      "text/plain": [
       "((#49354) [0,1,2,3,4,5,6,7,8,9...],\n",
       " (#3372) [1631,1632,1633,1634,1635,1636,1637,1638,1639,1640...])"
      ]
     },
     "execution_count": null,
     "metadata": {},
     "output_type": "execute_result"
    }
   ],
   "source": [
    "splits = [train, valid] = splitter(df)\n",
    "L(splits[0]), L(splits[1])"
   ]
  },
  {
   "cell_type": "markdown",
   "id": "b37087fe-fb74-443c-8ed6-723bf0672b6e",
   "metadata": {},
   "source": [
    "#### 2. Making the `Datasets` object:"
   ]
  },
  {
   "cell_type": "markdown",
   "id": "9bd1c61b-e5a4-4727-a45c-8662f861b099",
   "metadata": {},
   "source": [
    "**Crucial:** We need the vocab of the language model so that we can make sure we use the same correspondence of token to index. Otherwise, the embeddings we learned in our fine-tuned language model won't make any sense to our classifier model, and the fine-tuning won't be of any use. So we need to pass the `lm_vocab` to the `Numericalize` transform:"
   ]
  },
  {
   "cell_type": "markdown",
   "id": "a0b744dc-68b2-450f-a6a8-7f863813a2b3",
   "metadata": {},
   "source": [
    "So let's load the vocab of the language model:"
   ]
  },
  {
   "cell_type": "code",
   "execution_count": null,
   "id": "2bf11662-7d37-4ccc-83f6-15a02d239577",
   "metadata": {},
   "outputs": [],
   "source": [
    "lm_vocab = torch.load(source/'mimic3-9k_dls_lm_vocab.pkl')\n",
    "lm_vocab_r = torch.load(source/'mimic3-9k_dls_lm_vocab_r.pkl')"
   ]
  },
  {
   "cell_type": "code",
   "execution_count": null,
   "id": "177b3a65-12eb-4f22-8bde-f50778129b57",
   "metadata": {},
   "outputs": [
    {
     "data": {
      "text/plain": [
       "(#57376) ['xxunk','xxpad','xxbos','xxeos','xxfld','xxrep','xxwrep','xxup','xxmaj','the'...]"
      ]
     },
     "execution_count": null,
     "metadata": {},
     "output_type": "execute_result"
    }
   ],
   "source": [
    "all_equal(lm_vocab, lm_vocab_r)\n",
    "L(lm_vocab)"
   ]
  },
  {
   "cell_type": "code",
   "execution_count": null,
   "id": "b6a5cdc2-de42-402e-b4ea-553aee69850a",
   "metadata": {},
   "outputs": [],
   "source": [
    "x_tfms = [Tokenizer.from_df('text'), attrgetter(\"text\"), Numericalize(vocab=lm_vocab)]\n",
    "x_tfms_r = [Tokenizer.from_df('text', ), attrgetter(\"text\"), Numericalize(vocab=lm_vocab), reverse_text]\n",
    "y_tfms = [ColReader('labels', label_delim=';'), MultiCategorize(vocab=lbls), OneHotEncode()]\n",
    "tfms = [x_tfms, y_tfms]\n",
    "tfms_r = [x_tfms_r, y_tfms]"
   ]
  },
  {
   "cell_type": "code",
   "execution_count": null,
   "id": "1685c226-52d3-42a6-aa46-906f1f0b088d",
   "metadata": {},
   "outputs": [
    {
     "data": {
      "text/html": [
       "\n",
       "<style>\n",
       "    /* Turns off some styling */\n",
       "    progress {\n",
       "        /* gets rid of default border in Firefox and Opera. */\n",
       "        border: none;\n",
       "        /* Needs to be in here for Safari polyfill so background images work as expected. */\n",
       "        background-size: auto;\n",
       "    }\n",
       "    progress:not([value]), progress:not([value])::-webkit-progress-bar {\n",
       "        background: repeating-linear-gradient(45deg, #7e7e7e, #7e7e7e 10px, #5c5c5c 10px, #5c5c5c 20px);\n",
       "    }\n",
       "    .progress-bar-interrupted, .progress-bar-interrupted::-webkit-progress-bar {\n",
       "        background: #F44336;\n",
       "    }\n",
       "</style>\n"
      ],
      "text/plain": [
       "<IPython.core.display.HTML object>"
      ]
     },
     "metadata": {},
     "output_type": "display_data"
    },
    {
     "data": {
      "text/html": [],
      "text/plain": [
       "<IPython.core.display.HTML object>"
      ]
     },
     "metadata": {},
     "output_type": "display_data"
    },
    {
     "name": "stdout",
     "output_type": "stream",
     "text": [
      "CPU times: user 17.2 s, sys: 3.22 s, total: 20.4 s\n",
      "Wall time: 2min 38s\n"
     ]
    }
   ],
   "source": [
    "%%time\n",
    "dsets = Datasets(df, tfms, splits=splits)"
   ]
  },
  {
   "cell_type": "code",
   "execution_count": null,
   "id": "c8ea35f6-7bfb-4c2b-b90f-28ac81a33450",
   "metadata": {},
   "outputs": [
    {
     "data": {
      "text/html": [
       "\n",
       "<style>\n",
       "    /* Turns off some styling */\n",
       "    progress {\n",
       "        /* gets rid of default border in Firefox and Opera. */\n",
       "        border: none;\n",
       "        /* Needs to be in here for Safari polyfill so background images work as expected. */\n",
       "        background-size: auto;\n",
       "    }\n",
       "    progress:not([value]), progress:not([value])::-webkit-progress-bar {\n",
       "        background: repeating-linear-gradient(45deg, #7e7e7e, #7e7e7e 10px, #5c5c5c 10px, #5c5c5c 20px);\n",
       "    }\n",
       "    .progress-bar-interrupted, .progress-bar-interrupted::-webkit-progress-bar {\n",
       "        background: #F44336;\n",
       "    }\n",
       "</style>\n"
      ],
      "text/plain": [
       "<IPython.core.display.HTML object>"
      ]
     },
     "metadata": {},
     "output_type": "display_data"
    },
    {
     "data": {
      "text/html": [],
      "text/plain": [
       "<IPython.core.display.HTML object>"
      ]
     },
     "metadata": {},
     "output_type": "display_data"
    },
    {
     "name": "stdout",
     "output_type": "stream",
     "text": [
      "CPU times: user 17.8 s, sys: 4.15 s, total: 22 s\n",
      "Wall time: 2min 52s\n"
     ]
    }
   ],
   "source": [
    "%%time\n",
    "dsets_r = Datasets(df, tfms_r, splits=splits)"
   ]
  },
  {
   "cell_type": "markdown",
   "id": "a210dd50-4dfd-45d7-8e21-68710889a742",
   "metadata": {},
   "source": [
    "Save these:"
   ]
  },
  {
   "cell_type": "code",
   "execution_count": null,
   "id": "cfe35aec-e43e-418e-90d8-b427c575e30b",
   "metadata": {},
   "outputs": [],
   "source": [
    "torch.save(dsets, 'tmp/mimic3-9k_dsets_full.pkl')\n",
    "torch.save(dsets_r, 'tmp/mimic3-9k_dsets_full_r.pkl')"
   ]
  },
  {
   "cell_type": "markdown",
   "id": "b1995f53-c56a-49e3-b31a-6aa9801fed76",
   "metadata": {},
   "source": [
    "Load later:"
   ]
  },
  {
   "cell_type": "code",
   "execution_count": null,
   "id": "25ab892a-3dc8-464b-93ef-3cfc00f388b5",
   "metadata": {},
   "outputs": [],
   "source": [
    "dsets = torch.load('tmp/mimic3-9k_dsets_full.pkl')\n",
    "dsets_r = torch.load('tmp/mimic3-9k_dsets_full_r.pkl')"
   ]
  },
  {
   "cell_type": "markdown",
   "id": "c882b3c5-5b7d-464b-8e37-d76ea916c1ae",
   "metadata": {},
   "source": [
    "Creating a dev set:"
   ]
  },
  {
   "cell_type": "code",
   "execution_count": null,
   "id": "41d63a02-66e4-43d0-adcc-0b4be1d36efc",
   "metadata": {},
   "outputs": [],
   "source": [
    "dev_idxs = df.index[df['is_dev']].to_list()\n",
    "dset_dev = test_set(dsets, df.loc[dev_idxs], with_labels=True)\n",
    "dset_r_dev = test_set(dsets_r, df.loc[dev_idxs], with_labels=True)"
   ]
  },
  {
   "cell_type": "code",
   "execution_count": null,
   "id": "80e86a03-73c6-4e54-b691-8534e4fc4a4f",
   "metadata": {},
   "outputs": [
    {
     "data": {
      "text/plain": [
       "(49354, 3372, 1631)"
      ]
     },
     "execution_count": null,
     "metadata": {},
     "output_type": "execute_result"
    }
   ],
   "source": [
    "len(dsets.train), len(dsets.valid), len(dset_dev)\n",
    "len(dsets_r.train), len(dsets_r.valid), len(dset_r_dev)"
   ]
  },
  {
   "cell_type": "markdown",
   "id": "123a75cf-d257-4986-a9e1-a7530e7e7fea",
   "metadata": {},
   "source": [
    "#### 3. Making the `DataLoaders` object:"
   ]
  },
  {
   "cell_type": "markdown",
   "id": "9e395f71-47fa-4a6a-ad7e-e9ac43b28de5",
   "metadata": {},
   "source": [
    "We need to pick the sequence length and the batch size (you might have to adjust this depending on you GPU size)"
   ]
  },
  {
   "cell_type": "code",
   "execution_count": null,
   "id": "363cdf79-d62a-4676-906a-63256bd84ddc",
   "metadata": {},
   "outputs": [],
   "source": [
    "bs, sl = 16, 72"
   ]
  },
  {
   "cell_type": "markdown",
   "id": "ece61388-0aea-491c-92d4-344bbe352007",
   "metadata": {},
   "source": [
    "We will use the `dl_type` argument of the `DataLoaders`. The purpose is to tell `DataLoaders` to use `SortedDL` class of the `DataLoader`, and not the usual one. `SortedDL` constructs batches by putting samples of roughly the same lengths into batches."
   ]
  },
  {
   "cell_type": "code",
   "execution_count": null,
   "id": "a938a558-fff4-41f1-923b-71e2ae0a908f",
   "metadata": {},
   "outputs": [],
   "source": [
    "dl_type = partial(SortedDL, shuffle=True)"
   ]
  },
  {
   "cell_type": "markdown",
   "id": "2caf90b6-c115-41b9-87f8-ea334cfe28af",
   "metadata": {},
   "source": [
    "**Crucial:** \n",
    "- We will use **`pad_input_chunk`** because our encoder `AWD_LSTM` will be wrapped inside `SentenceEncoder`. \n",
    "- A `SenetenceEncoder` expects that all the documents are padded, \n",
    "- with most of the padding at the beginning of the document, with each sequence beginning at a round multiple of bptt\n",
    "- and the rest of the padding at the end."
   ]
  },
  {
   "cell_type": "code",
   "execution_count": null,
   "id": "cbc91b7e-18ba-48d1-b556-d2812639e744",
   "metadata": {},
   "outputs": [],
   "source": [
    "dls_clas = dsets.dataloaders(bs=bs, seq_len=sl, \n",
    "                             dl_type=dl_type,\n",
    "                             before_batch=pad_input_chunk)"
   ]
  },
  {
   "cell_type": "markdown",
   "id": "2439f2ce-b197-4f73-b614-d0eaebcd4533",
   "metadata": {},
   "source": [
    "For the reverse:"
   ]
  },
  {
   "cell_type": "code",
   "execution_count": null,
   "id": "17b45d6e-9eaa-4816-a73f-57081c720fb9",
   "metadata": {},
   "outputs": [],
   "source": [
    "dls_clas_r = dsets_r.dataloaders(bs=bs, seq_len=sl,\n",
    "                                 dl_type=dl_type,\n",
    "                                 before_batch=pad_input_chunk)"
   ]
  },
  {
   "cell_type": "markdown",
   "id": "750bcd16-2838-4866-b5df-d67bff165a80",
   "metadata": {},
   "source": [
    "Creating the dev dataloaders:"
   ]
  },
  {
   "cell_type": "code",
   "execution_count": null,
   "id": "81612591-bc47-4d7c-b7af-9669e13a7d67",
   "metadata": {},
   "outputs": [],
   "source": [
    "dl_dev = TfmdDL(dset_dev, bs=8, before_batch=pad_input_chunk, seq_len=sl, device=default_device()) \n",
    "dl_dev_r = TfmdDL(dset_r_dev, bs=8, before_batch=pad_input_chunk, seq_len=sl, device=default_device()) "
   ]
  },
  {
   "cell_type": "code",
   "execution_count": null,
   "id": "229b8569-ffba-4b7e-b795-b9a02255c09d",
   "metadata": {},
   "outputs": [],
   "source": [
    "# dls_dev = dls_clas.test_dl(df.loc[dev_idxs], with_labels=True, bs=bs)\n",
    "# dls_dev_r = dls_clas_r.test_dl(df.loc[dev_idxs], with_labels=True, bs=bs)"
   ]
  },
  {
   "cell_type": "markdown",
   "id": "25e426f5-4d06-49f3-af53-d50fa078cbe8",
   "metadata": {},
   "source": [
    "Save these:"
   ]
  },
  {
   "cell_type": "code",
   "execution_count": null,
   "id": "353095f2-0c86-4a52-95f8-9f8e9af8fadc",
   "metadata": {},
   "outputs": [],
   "source": [
    "torch.save(dl_dev, 'tmp/mimic3-9k_dl_clas_dev.pkl')\n",
    "torch.save(dl_dev_r, 'tmp/mimic3-9k_dl_clas_dev_r.pkl')"
   ]
  },
  {
   "cell_type": "markdown",
   "id": "31765f0a-8d43-464d-92a0-965accb442ba",
   "metadata": {},
   "source": [
    "If just want to load instead of building from scratch:"
   ]
  },
  {
   "cell_type": "code",
   "execution_count": null,
   "id": "786b3506-2b7c-40ff-afa5-d8717ad32910",
   "metadata": {},
   "outputs": [],
   "source": [
    "dls_clas = torch.load(source/'mimic3-9k_dls_clas.pkl')\n",
    "dls_clas_r = torch.load(source/'mimic3-9k_dls_clas_r.pkl')"
   ]
  },
  {
   "cell_type": "code",
   "execution_count": null,
   "id": "77ce1ab3-e4b2-40fb-8289-655d9c8d14e4",
   "metadata": {},
   "outputs": [],
   "source": [
    "dl_dev = torch.load('tmp/mimic3-9k_dl_clas_dev.pkl')\n",
    "dl_dev_r = torch.load('tmp/mimic3-9k_dl_clas_dev_r.pkl')"
   ]
  },
  {
   "cell_type": "markdown",
   "id": "d059b2d1-be94-4770-8f5c-dc41a03df49a",
   "metadata": {},
   "source": [
    "### Metrics"
   ]
  },
  {
   "cell_type": "markdown",
   "id": "f5cf3a80-fa08-46d0-8300-94d73c106514",
   "metadata": {},
   "source": [
    "Load the dataloaders:"
   ]
  },
  {
   "cell_type": "code",
   "execution_count": null,
   "id": "c5821080-760c-4707-a81c-3cf401ed9267",
   "metadata": {},
   "outputs": [],
   "source": [
    "dls_clas = torch.load(source/'mimic3-9k_dls_clas.pkl')\n",
    "dls_clas_r = torch.load(source/'mimic3-9k_dls_clas_r.pkl')"
   ]
  },
  {
   "cell_type": "code",
   "execution_count": null,
   "id": "3760cf0b-cecf-4d93-8f59-ea2e316f0150",
   "metadata": {},
   "outputs": [],
   "source": [
    "fname = 'mimic3-9k_clas_full'\n",
    "fname_r = fname+'_r'\n",
    "tmp = Path.cwd()/'tmp'"
   ]
  },
  {
   "cell_type": "markdown",
   "id": "5e521697-6e5e-4062-ad7a-2d73e236a148",
   "metadata": {},
   "source": [
    "- make `max_len=None` during testing"
   ]
  },
  {
   "cell_type": "code",
   "execution_count": null,
   "id": "58b88931-fa12-47d9-9a5a-695f05354198",
   "metadata": {},
   "outputs": [],
   "source": [
    "learn = xmltext_classifier_learner(dls_clas, AWD_LSTM, drop_mult=0.1, max_len=None, \n",
    "                                   metrics=partial(precision_at_k, k=15), path=tmp, cbs=None,\n",
    "                                   pretrained=False,\n",
    "                                   splitter=awd_lstm_xclas_split,\n",
    "                                   running_decoder=True,\n",
    "                                   plant=0.4).to_fp16()\n",
    "learn_r = xmltext_classifier_learner(dls_clas_r, AWD_LSTM, drop_mult=0.1, max_len=None, \n",
    "                                     metrics=partial(precision_at_k, k=15), path=tmp, cbs=None,\n",
    "                                     pretrained=False,\n",
    "                                     splitter=awd_lstm_xclas_split,\n",
    "                                     running_decoder=True,\n",
    "                                     plant=0.4).to_fp16()  "
   ]
  },
  {
   "cell_type": "markdown",
   "id": "abb8fb65-ff0d-4749-b8ee-8c4dd8adacf8",
   "metadata": {},
   "source": [
    "Ensemble:"
   ]
  },
  {
   "cell_type": "code",
   "execution_count": null,
   "id": "4808769d-04df-430d-baa7-d4c64a9fef7b",
   "metadata": {},
   "outputs": [
    {
     "data": {
      "text/html": [
       "\n",
       "<style>\n",
       "    /* Turns off some styling */\n",
       "    progress {\n",
       "        /* gets rid of default border in Firefox and Opera. */\n",
       "        border: none;\n",
       "        /* Needs to be in here for Safari polyfill so background images work as expected. */\n",
       "        background-size: auto;\n",
       "    }\n",
       "    progress:not([value]), progress:not([value])::-webkit-progress-bar {\n",
       "        background: repeating-linear-gradient(45deg, #7e7e7e, #7e7e7e 10px, #5c5c5c 10px, #5c5c5c 20px);\n",
       "    }\n",
       "    .progress-bar-interrupted, .progress-bar-interrupted::-webkit-progress-bar {\n",
       "        background: #F44336;\n",
       "    }\n",
       "</style>\n"
      ],
      "text/plain": [
       "<IPython.core.display.HTML object>"
      ]
     },
     "metadata": {},
     "output_type": "display_data"
    },
    {
     "data": {
      "text/html": [],
      "text/plain": [
       "<IPython.core.display.HTML object>"
      ]
     },
     "metadata": {},
     "output_type": "display_data"
    },
    {
     "data": {
      "text/html": [
       "\n",
       "<style>\n",
       "    /* Turns off some styling */\n",
       "    progress {\n",
       "        /* gets rid of default border in Firefox and Opera. */\n",
       "        border: none;\n",
       "        /* Needs to be in here for Safari polyfill so background images work as expected. */\n",
       "        background-size: auto;\n",
       "    }\n",
       "    progress:not([value]), progress:not([value])::-webkit-progress-bar {\n",
       "        background: repeating-linear-gradient(45deg, #7e7e7e, #7e7e7e 10px, #5c5c5c 10px, #5c5c5c 20px);\n",
       "    }\n",
       "    .progress-bar-interrupted, .progress-bar-interrupted::-webkit-progress-bar {\n",
       "        background: #F44336;\n",
       "    }\n",
       "</style>\n"
      ],
      "text/plain": [
       "<IPython.core.display.HTML object>"
      ]
     },
     "metadata": {},
     "output_type": "display_data"
    },
    {
     "data": {
      "text/html": [],
      "text/plain": [
       "<IPython.core.display.HTML object>"
      ]
     },
     "metadata": {},
     "output_type": "display_data"
    }
   ],
   "source": [
    "learn = learn.load(fname)\n",
    "learn_r = learn_r.load(fname_r)\n",
    "preds, targs = learn.get_preds()\n",
    "preds_r, targs = learn_r.get_preds()"
   ]
  },
  {
   "cell_type": "code",
   "execution_count": null,
   "id": "57ffe07f-d9ac-4694-b15c-4e2dc22ff4a1",
   "metadata": {},
   "outputs": [],
   "source": [
    "class _FakeLearner: \n",
    "    def to_detach(self,b,cpu=True,gather=True):\n",
    "        return to_detach(b,cpu,gather)\n",
    "_fake_l = _FakeLearner()\n",
    "\n",
    "def cpupy(t): return t.cpu().numpy() if isinstance(t, Tensor) else t\n",
    "learn.model = learn.model.to('cuda:0')"
   ]
  },
  {
   "cell_type": "code",
   "execution_count": null,
   "id": "14d7863e-a7ec-4675-b51c-6227e4a230ee",
   "metadata": {},
   "outputs": [],
   "source": [
    "import warnings; warnings.filterwarnings(\"ignore\")\n",
    "def compute_met(met, learn):\n",
    "    learn.model.eval()\n",
    "    met.reset()\n",
    "    pbar = progress_bar(learn.dls.valid)\n",
    "    for i, (xb, yb) in enumerate(pbar):\n",
    "        _fake_l.yb = (yb,)\n",
    "        _fake_l.y = yb\n",
    "        _fake_l.pred, *_ = learn.model(xb)\n",
    "        _fake_l.loss = Tensor(learn.loss_func(_fake_l.pred, yb))\n",
    "        met.accumulate(_fake_l)\n",
    "        pbar.comment = str(met.value)\n",
    "    return met.value"
   ]
  },
  {
   "cell_type": "markdown",
   "id": "c81b524c-203c-4468-9a2b-e7d5de589d7b",
   "metadata": {},
   "source": [
    "F1 macro "
   ]
  },
  {
   "cell_type": "markdown",
   "id": "29122185-e5f3-47c7-82df-e95ae1d76fca",
   "metadata": {},
   "source": [
    "value(threshold): 9.0 (0.037), 9.4(0.048), 9.5(0.05)"
   ]
  },
  {
   "cell_type": "code",
   "execution_count": null,
   "id": "fc70bfa4-b531-4da2-8b64-3edbb21626ba",
   "metadata": {},
   "outputs": [],
   "source": [
    "xs = torch.linspace(0.05, 0.95, 29)\n",
    "f1_macros = [compute_met(F1ScoreMulti(thresh=i, average='macro'), learn) for i in xs] \n",
    "plt.plot(xs, f1_macros)"
   ]
  },
  {
   "cell_type": "code",
   "execution_count": null,
   "id": "10e5f79a-7635-446d-b1ac-9d67118a8859",
   "metadata": {},
   "outputs": [],
   "source": [
    "xs = torch.linspace(0.08, 0.13, 12)\n",
    "f1_macros2 = [compute_met(F1ScoreMulti(thresh=i, average='macro'), learn) for i in xs] \n",
    "plt.plot(xs, f1_macros)"
   ]
  },
  {
   "cell_type": "code",
   "execution_count": null,
   "id": "92bb556f-abf7-4e60-a5a0-6967adebdf8f",
   "metadata": {},
   "outputs": [],
   "source": [
    "torch.save((f1_macros2, xs), 'tmp/f1_macros2.pkl')"
   ]
  },
  {
   "cell_type": "code",
   "execution_count": null,
   "id": "a3d84e08-d467-49aa-98ed-dd77fb4dd332",
   "metadata": {},
   "outputs": [],
   "source": [
    "f1_macros2, xs = torch.load('tmp/f1_macros2.pkl')"
   ]
  },
  {
   "cell_type": "code",
   "execution_count": null,
   "id": "761812f9-2d40-4ffd-9def-5dd024fa5172",
   "metadata": {},
   "outputs": [
    {
     "data": {
      "text/plain": [
       "0.1013387262044932"
      ]
     },
     "execution_count": null,
     "metadata": {},
     "output_type": "execute_result"
    }
   ],
   "source": [
    "max(f1_macros2)"
   ]
  },
  {
   "cell_type": "code",
   "execution_count": null,
   "id": "81e29a67-f547-49e5-a4b1-e18d7f3f39f4",
   "metadata": {},
   "outputs": [
    {
     "data": {
      "text/plain": [
       "(0.1013387262044932, tensor(0.1073))"
      ]
     },
     "execution_count": null,
     "metadata": {},
     "output_type": "execute_result"
    }
   ],
   "source": [
    "max(list(zip(f1_macros2, xs)))"
   ]
  },
  {
   "cell_type": "code",
   "execution_count": null,
   "id": "3a0b742d-5aa9-462d-bd61-87188740846b",
   "metadata": {},
   "outputs": [
    {
     "data": {
      "image/png": "[encoded data removed]",
      "text/plain": [
       "<Figure size 800x400 with 1 Axes>"
      ]
     },
     "metadata": {},
     "output_type": "display_data"
    }
   ],
   "source": [
    "plt.plot(xs, f1_macros2);"
   ]
  },
  {
   "cell_type": "markdown",
   "id": "0333e35a-a76f-48eb-b2b7-fd0874047830",
   "metadata": {},
   "source": [
    "F1-micro"
   ]
  },
  {
   "cell_type": "code",
   "execution_count": null,
   "id": "b674e422-2818-4701-963e-25c2b53cd0e6",
   "metadata": {},
   "outputs": [],
   "source": [
    "xs = torch.linspace(0.05, 0.95, 30)\n",
    "f1_micros = [compute_met(F1ScoreMulti(thresh=i, average='micro'), learn) for i in xs] \n",
    "plt.plot(xs, f1_micros)"
   ]
  },
  {
   "cell_type": "code",
   "execution_count": null,
   "id": "ddcd87b4-27a1-462f-9fb4-04d895902ad7",
   "metadata": {},
   "outputs": [],
   "source": [
    "torch.save((f1_micros, xs), 'tmp/f1_micros.pkl')"
   ]
  },
  {
   "cell_type": "code",
   "execution_count": null,
   "id": "4ae5ab08-5a72-4b4e-bab1-05527e82384e",
   "metadata": {},
   "outputs": [],
   "source": [
    "f1_micros, xs = torch.load('tmp/f1_micros.pkl')"
   ]
  },
  {
   "cell_type": "code",
   "execution_count": null,
   "id": "ee9abc3f-60e4-47e6-b0a1-05aac2e96ad1",
   "metadata": {},
   "outputs": [
    {
     "data": {
      "text/plain": [
       "0.5942085351624651"
      ]
     },
     "execution_count": null,
     "metadata": {},
     "output_type": "execute_result"
    }
   ],
   "source": [
    "max(f1_micros)"
   ]
  },
  {
   "cell_type": "code",
   "execution_count": null,
   "id": "b3465c67-4591-437f-ada3-dfef581fe370",
   "metadata": {},
   "outputs": [
    {
     "data": {
      "text/plain": [
       "(0.5942085351624651, tensor(0.2983))"
      ]
     },
     "execution_count": null,
     "metadata": {},
     "output_type": "execute_result"
    }
   ],
   "source": [
    "max(list(zip(f1_micros, xs)))"
   ]
  },
  {
   "cell_type": "code",
   "execution_count": null,
   "id": "1015c366-6f34-45fe-9261-546332a331c1",
   "metadata": {},
   "outputs": [
    {
     "data": {
      "image/png": "[encoded data removed]",
      "text/plain": [
       "<Figure size 800x400 with 1 Axes>"
      ]
     },
     "metadata": {},
     "output_type": "display_data"
    }
   ],
   "source": [
    "plt.plot(xs, f1_micros);"
   ]
  },
  {
   "cell_type": "markdown",
   "id": "f2fe698e-0100-42b7-b44a-03b261826efc",
   "metadata": {},
   "source": [
    "ROC:"
   ]
  },
  {
   "cell_type": "code",
   "execution_count": null,
   "id": "74c35e70-8add-4be5-b4ff-56cc146f2198",
   "metadata": {},
   "outputs": [],
   "source": [
    "from sklearn.metrics import roc_curve, auc\n",
    "def auc_metrics(yhat_raw, y):\n",
    "    if yhat_raw.shape[0] <= 1:\n",
    "        return\n",
    "    fpr = {}\n",
    "    tpr = {}\n",
    "    roc_auc = {}\n",
    "    #get AUC for each label individually\n",
    "    relevant_labels = []\n",
    "    auc_labels = {}\n",
    "    for i in range(y.shape[1]):\n",
    "        #only if there are true positives for this label\n",
    "        if y[:,i].sum() > 0:\n",
    "            fpr[i], tpr[i], _ = roc_curve(y[:,i], yhat_raw[:,i])\n",
    "            if len(fpr[i]) > 1 and len(tpr[i]) > 1:\n",
    "                auc_score = auc(fpr[i], tpr[i])\n",
    "                if not np.isnan(auc_score): \n",
    "                    auc_labels[\"auc_%d\" % i] = auc_score\n",
    "                    relevant_labels.append(i)\n",
    "\n",
    "    #macro-AUC: just average the auc scores\n",
    "    aucs = []\n",
    "    for i in relevant_labels:\n",
    "        aucs.append(auc_labels['auc_%d' % i])\n",
    "    roc_auc['auc_macro'] = np.mean(aucs)\n",
    "\n",
    "    #micro-AUC: just look at each individual prediction\n",
    "    ymic = y.ravel()\n",
    "    yhatmic = yhat_raw.ravel()\n",
    "    fpr[\"micro\"], tpr[\"micro\"], _ = roc_curve(ymic, yhatmic) \n",
    "    roc_auc[\"auc_micro\"] = auc(fpr[\"micro\"], tpr[\"micro\"])\n",
    "\n",
    "    return roc_auc"
   ]
  },
  {
   "cell_type": "code",
   "execution_count": null,
   "id": "dd1a77c8-e8c8-4b20-af5a-d4b9c987f3d1",
   "metadata": {},
   "outputs": [
    {
     "data": {
      "text/plain": [
       "{'auc_macro': 0.9007762488228775, 'auc_micro': 0.9870810261597994}"
      ]
     },
     "execution_count": null,
     "metadata": {},
     "output_type": "execute_result"
    }
   ],
   "source": [
    "auc_metrics(preds.numpy(), targs.numpy())"
   ]
  },
  {
   "cell_type": "code",
   "execution_count": null,
   "id": "16b24483-6835-4b49-aa11-281f42411bc3",
   "metadata": {},
   "outputs": [
    {
     "data": {
      "text/plain": [
       "{'auc_macro': 0.8902260027903973, 'auc_micro': 0.9859859346244685}"
      ]
     },
     "execution_count": null,
     "metadata": {},
     "output_type": "execute_result"
    }
   ],
   "source": [
    "auc_metrics(preds_r.numpy(), targs.numpy())"
   ]
  },
  {
   "cell_type": "code",
   "execution_count": null,
   "id": "31ef6203-4ef4-42a6-a01c-e1642925eb78",
   "metadata": {},
   "outputs": [
    {
     "data": {
      "text/plain": [
       "{'auc_macro': 0.9036246766669686, 'auc_micro': 0.9880094959665954}"
      ]
     },
     "execution_count": null,
     "metadata": {},
     "output_type": "execute_result"
    }
   ],
   "source": [
    "auc_metrics(np.add(preds.numpy(),preds_r.numpy()), targs.numpy())"
   ]
  },
  {
   "cell_type": "code",
   "execution_count": null,
   "id": "3ea5971b-aa77-4fa8-826a-fdc6e51be813",
   "metadata": {},
   "outputs": [
    {
     "data": {
      "text/plain": [
       "{'auc_macro': 0.9036246766669686, 'auc_micro': 0.9880094959665954}"
      ]
     },
     "execution_count": null,
     "metadata": {},
     "output_type": "execute_result"
    }
   ],
   "source": [
    "auc_metrics(np.add(preds.numpy(),preds_r.numpy()), targs.numpy())"
   ]
  },
  {
   "cell_type": "markdown",
   "id": "7e86983f-1983-48d7-87d2-f4e31263fa7a",
   "metadata": {},
   "source": [
    "Precision@k"
   ]
  },
  {
   "cell_type": "code",
   "execution_count": null,
   "id": "a684efcb-81de-4038-9554-52edb3e5072c",
   "metadata": {},
   "outputs": [
    {
     "data": {
      "text/plain": [
       "(0.8403914590747331, 0.7707221233689205, 0.6167457493080268)"
      ]
     },
     "execution_count": null,
     "metadata": {},
     "output_type": "execute_result"
    }
   ],
   "source": [
    "precision_at_k(preds+preds_r, targs,k=5), precision_at_k(preds+preds_r, targs,k=8), precision_at_k(preds+preds_r, targs,k=15)"
   ]
  },
  {
   "cell_type": "markdown",
   "id": "74bd8e82-8fb9-4ba4-852d-2746cbc173f5",
   "metadata": {},
   "source": [
    "## Metrics MIMIC3-Top50"
   ]
  },
  {
   "cell_type": "markdown",
   "id": "689d695a-f131-4e36-b2a6-176f74646d59",
   "metadata": {},
   "source": [
    "Load the dataloaders:"
   ]
  },
  {
   "cell_type": "code",
   "execution_count": null,
   "id": "c722f5d7-4be4-4235-aaaf-650dc48282e9",
   "metadata": {},
   "outputs": [],
   "source": [
    "dls_clas = torch.load(tmp/'mimic3-9k_dls_clas_top50.pkl', map_location=default_device())\n",
    "dls_clas_r = torch.load(tmp/'mimic3-9k_dls_clas_top50_r.pkl', map_location=default_device())"
   ]
  },
  {
   "cell_type": "code",
   "execution_count": null,
   "id": "1a72114a-eed9-41e2-a8a6-24dbe61bba0f",
   "metadata": {},
   "outputs": [],
   "source": [
    "fname = 'mimic3-9k_top50'\n",
    "fname_r = fname+'_r'\n",
    "tmp = Path.cwd()/'tmp'"
   ]
  },
  {
   "cell_type": "markdown",
   "id": "c7231599-a023-45ea-9d75-bcd42f340eb7",
   "metadata": {},
   "source": [
    "- make `max_len=None` during testing"
   ]
  },
  {
   "cell_type": "code",
   "execution_count": null,
   "id": "5cb220b5-3aca-4332-b6e9-ed46356981d7",
   "metadata": {},
   "outputs": [],
   "source": [
    "learn = xmltext_classifier_learner(dls_clas, AWD_LSTM, drop_mult=0.1, max_len=None, \n",
    "                                   metrics=partial(precision_at_k, k=15), path=tmp, cbs=None,\n",
    "                                   pretrained=False,\n",
    "                                   splitter=awd_lstm_xclas_split,\n",
    "                                   running_decoder=True,\n",
    "                                   plant=0.4).to_fp16()\n",
    "learn_r = xmltext_classifier_learner(dls_clas_r, AWD_LSTM, drop_mult=0.1, max_len=None, \n",
    "                                     metrics=partial(precision_at_k, k=15), path=tmp, cbs=None,\n",
    "                                     pretrained=False,\n",
    "                                     splitter=awd_lstm_xclas_split,\n",
    "                                     running_decoder=True,\n",
    "                                     plant=0.4).to_fp16()  "
   ]
  },
  {
   "cell_type": "code",
   "execution_count": null,
   "id": "ffc71ad2-8522-447a-8094-13f5843f571b",
   "metadata": {},
   "outputs": [
    {
     "data": {
      "text/html": [
       "\n",
       "<style>\n",
       "    /* Turns off some styling */\n",
       "    progress {\n",
       "        /* gets rid of default border in Firefox and Opera. */\n",
       "        border: none;\n",
       "        /* Needs to be in here for Safari polyfill so background images work as expected. */\n",
       "        background-size: auto;\n",
       "    }\n",
       "    progress:not([value]), progress:not([value])::-webkit-progress-bar {\n",
       "        background: repeating-linear-gradient(45deg, #7e7e7e, #7e7e7e 10px, #5c5c5c 10px, #5c5c5c 20px);\n",
       "    }\n",
       "    .progress-bar-interrupted, .progress-bar-interrupted::-webkit-progress-bar {\n",
       "        background: #F44336;\n",
       "    }\n",
       "</style>\n"
      ],
      "text/plain": [
       "<IPython.core.display.HTML object>"
      ]
     },
     "metadata": {},
     "output_type": "display_data"
    },
    {
     "data": {
      "text/html": [],
      "text/plain": [
       "<IPython.core.display.HTML object>"
      ]
     },
     "metadata": {},
     "output_type": "display_data"
    },
    {
     "data": {
      "text/html": [
       "\n",
       "<style>\n",
       "    /* Turns off some styling */\n",
       "    progress {\n",
       "        /* gets rid of default border in Firefox and Opera. */\n",
       "        border: none;\n",
       "        /* Needs to be in here for Safari polyfill so background images work as expected. */\n",
       "        background-size: auto;\n",
       "    }\n",
       "    progress:not([value]), progress:not([value])::-webkit-progress-bar {\n",
       "        background: repeating-linear-gradient(45deg, #7e7e7e, #7e7e7e 10px, #5c5c5c 10px, #5c5c5c 20px);\n",
       "    }\n",
       "    .progress-bar-interrupted, .progress-bar-interrupted::-webkit-progress-bar {\n",
       "        background: #F44336;\n",
       "    }\n",
       "</style>\n"
      ],
      "text/plain": [
       "<IPython.core.display.HTML object>"
      ]
     },
     "metadata": {},
     "output_type": "display_data"
    },
    {
     "data": {
      "text/html": [],
      "text/plain": [
       "<IPython.core.display.HTML object>"
      ]
     },
     "metadata": {},
     "output_type": "display_data"
    }
   ],
   "source": [
    "learn = learn.load(fname)\n",
    "learn_r = learn_r.load(fname_r)\n",
    "preds, targs = learn.get_preds()\n",
    "preds_r, targs = learn_r.get_preds()"
   ]
  },
  {
   "cell_type": "code",
   "execution_count": null,
   "id": "449acb64-be75-4ee1-9aa1-0944947de7a1",
   "metadata": {},
   "outputs": [],
   "source": [
    "class _FakeLearner: \n",
    "    def to_detach(self,b,cpu=True,gather=True):\n",
    "        return to_detach(b,cpu,gather)\n",
    "_fake_l = _FakeLearner()\n",
    "\n",
    "def cpupy(t): return t.cpu().numpy() if isinstance(t, Tensor) else t\n",
    "learn.model = learn.model.to('cuda:0')"
   ]
  },
  {
   "cell_type": "code",
   "execution_count": null,
   "id": "02ef487c-4e82-4f43-860c-80f76d99901d",
   "metadata": {},
   "outputs": [],
   "source": [
    "import warnings; warnings.filterwarnings(\"ignore\")\n",
    "def compute_met(met, learn):\n",
    "    learn.model.eval()\n",
    "    met.reset()\n",
    "    pbar = progress_bar(learn.dls.valid)\n",
    "    for i, (xb, yb) in enumerate(pbar):\n",
    "        _fake_l.yb = (yb,)\n",
    "        _fake_l.y = yb\n",
    "        _fake_l.pred, *_ = learn.model(xb)\n",
    "        _fake_l.loss = Tensor(learn.loss_func(_fake_l.pred, yb))\n",
    "        met.accumulate(_fake_l)\n",
    "        pbar.comment = str(met.value)\n",
    "    return met.value"
   ]
  },
  {
   "cell_type": "markdown",
   "id": "470b6987-23f3-40e6-9b48-6b27c792a010",
   "metadata": {},
   "source": [
    "f1 score macro:"
   ]
  },
  {
   "cell_type": "code",
   "execution_count": null,
   "id": "7cdb83f1-1367-4ad7-898a-33cfb210b0c0",
   "metadata": {},
   "outputs": [],
   "source": [
    "xs = torch.linspace(0.05, 0.95, 29)\n",
    "f1_macros = [compute_met(F1ScoreMulti(thresh=i, average='macro'), learn) for i in xs] \n",
    "plt.plot(xs, f1_macros)"
   ]
  },
  {
   "cell_type": "code",
   "execution_count": null,
   "id": "a4b7fca5-acb8-4ccd-bab1-ba4915f4d06f",
   "metadata": {},
   "outputs": [
    {
     "data": {
      "text/html": [
       "\n",
       "<style>\n",
       "    /* Turns off some styling */\n",
       "    progress {\n",
       "        /* gets rid of default border in Firefox and Opera. */\n",
       "        border: none;\n",
       "        /* Needs to be in here for Safari polyfill so background images work as expected. */\n",
       "        background-size: auto;\n",
       "    }\n",
       "    progress:not([value]), progress:not([value])::-webkit-progress-bar {\n",
       "        background: repeating-linear-gradient(45deg, #7e7e7e, #7e7e7e 10px, #5c5c5c 10px, #5c5c5c 20px);\n",
       "    }\n",
       "    .progress-bar-interrupted, .progress-bar-interrupted::-webkit-progress-bar {\n",
       "        background: #F44336;\n",
       "    }\n",
       "</style>\n"
      ],
      "text/plain": [
       "<IPython.core.display.HTML object>"
      ]
     },
     "metadata": {},
     "output_type": "display_data"
    },
    {
     "data": {
      "text/html": [
       "\n",
       "    <div>\n",
       "      <progress value='109' class='' max='109' style='width:300px; height:20px; vertical-align: middle;'></progress>\n",
       "      100.00% [109/109 01:51&lt;00:00 0.6843802499273407]\n",
       "    </div>\n",
       "    "
      ],
      "text/plain": [
       "<IPython.core.display.HTML object>"
      ]
     },
     "metadata": {},
     "output_type": "display_data"
    },
    {
     "data": {
      "text/plain": [
       "0.6843802499273407"
      ]
     },
     "execution_count": null,
     "metadata": {},
     "output_type": "execute_result"
    }
   ],
   "source": [
    "compute_met(F1ScoreMulti(thresh=0.26, average='macro'), learn)"
   ]
  },
  {
   "cell_type": "code",
   "execution_count": null,
   "id": "41050401-c496-49cf-ba3b-a814fd22bb22",
   "metadata": {},
   "outputs": [
    {
     "data": {
      "text/html": [
       "\n",
       "<style>\n",
       "    /* Turns off some styling */\n",
       "    progress {\n",
       "        /* gets rid of default border in Firefox and Opera. */\n",
       "        border: none;\n",
       "        /* Needs to be in here for Safari polyfill so background images work as expected. */\n",
       "        background-size: auto;\n",
       "    }\n",
       "    progress:not([value]), progress:not([value])::-webkit-progress-bar {\n",
       "        background: repeating-linear-gradient(45deg, #7e7e7e, #7e7e7e 10px, #5c5c5c 10px, #5c5c5c 20px);\n",
       "    }\n",
       "    .progress-bar-interrupted, .progress-bar-interrupted::-webkit-progress-bar {\n",
       "        background: #F44336;\n",
       "    }\n",
       "</style>\n"
      ],
      "text/plain": [
       "<IPython.core.display.HTML object>"
      ]
     },
     "metadata": {},
     "output_type": "display_data"
    },
    {
     "data": {
      "text/html": [
       "\n",
       "    <div>\n",
       "      <progress value='109' class='' max='109' style='width:300px; height:20px; vertical-align: middle;'></progress>\n",
       "      100.00% [109/109 01:51&lt;00:00 0.6849821106145282]\n",
       "    </div>\n",
       "    "
      ],
      "text/plain": [
       "<IPython.core.display.HTML object>"
      ]
     },
     "metadata": {},
     "output_type": "display_data"
    },
    {
     "data": {
      "text/plain": [
       "0.6849821106145282"
      ]
     },
     "execution_count": null,
     "metadata": {},
     "output_type": "execute_result"
    }
   ],
   "source": [
    "compute_met(F1ScoreMulti(thresh=0.29, average='macro'), learn)"
   ]
  },
  {
   "cell_type": "markdown",
   "id": "848c0b93-bb4a-464b-afcb-1a3eb4350913",
   "metadata": {},
   "source": [
    "f1 score micro:"
   ]
  },
  {
   "cell_type": "code",
   "execution_count": null,
   "id": "27aa8105-b8ed-477e-9aec-19a0fae6ce56",
   "metadata": {},
   "outputs": [
    {
     "data": {
      "text/html": [
       "\n",
       "<style>\n",
       "    /* Turns off some styling */\n",
       "    progress {\n",
       "        /* gets rid of default border in Firefox and Opera. */\n",
       "        border: none;\n",
       "        /* Needs to be in here for Safari polyfill so background images work as expected. */\n",
       "        background-size: auto;\n",
       "    }\n",
       "    progress:not([value]), progress:not([value])::-webkit-progress-bar {\n",
       "        background: repeating-linear-gradient(45deg, #7e7e7e, #7e7e7e 10px, #5c5c5c 10px, #5c5c5c 20px);\n",
       "    }\n",
       "    .progress-bar-interrupted, .progress-bar-interrupted::-webkit-progress-bar {\n",
       "        background: #F44336;\n",
       "    }\n",
       "</style>\n"
      ],
      "text/plain": [
       "<IPython.core.display.HTML object>"
      ]
     },
     "metadata": {},
     "output_type": "display_data"
    },
    {
     "data": {
      "text/html": [
       "\n",
       "    <div>\n",
       "      <progress value='109' class='' max='109' style='width:300px; height:20px; vertical-align: middle;'></progress>\n",
       "      100.00% [109/109 01:50&lt;00:00 0.725605645197537]\n",
       "    </div>\n",
       "    "
      ],
      "text/plain": [
       "<IPython.core.display.HTML object>"
      ]
     },
     "metadata": {},
     "output_type": "display_data"
    },
    {
     "data": {
      "text/plain": [
       "0.725605645197537"
      ]
     },
     "execution_count": null,
     "metadata": {},
     "output_type": "execute_result"
    }
   ],
   "source": [
    "compute_met(F1ScoreMulti(thresh=0.2983, average='micro'), learn)"
   ]
  },
  {
   "cell_type": "code",
   "execution_count": null,
   "id": "ca26eadf-47c4-4ef0-a6c3-ce22d678ce4c",
   "metadata": {},
   "outputs": [
    {
     "data": {
      "text/html": [
       "\n",
       "<style>\n",
       "    /* Turns off some styling */\n",
       "    progress {\n",
       "        /* gets rid of default border in Firefox and Opera. */\n",
       "        border: none;\n",
       "        /* Needs to be in here for Safari polyfill so background images work as expected. */\n",
       "        background-size: auto;\n",
       "    }\n",
       "    progress:not([value]), progress:not([value])::-webkit-progress-bar {\n",
       "        background: repeating-linear-gradient(45deg, #7e7e7e, #7e7e7e 10px, #5c5c5c 10px, #5c5c5c 20px);\n",
       "    }\n",
       "    .progress-bar-interrupted, .progress-bar-interrupted::-webkit-progress-bar {\n",
       "        background: #F44336;\n",
       "    }\n",
       "</style>\n"
      ],
      "text/plain": [
       "<IPython.core.display.HTML object>"
      ]
     },
     "metadata": {},
     "output_type": "display_data"
    },
    {
     "data": {
      "text/html": [
       "\n",
       "    <div>\n",
       "      <progress value='109' class='' max='109' style='width:300px; height:20px; vertical-align: middle;'></progress>\n",
       "      100.00% [109/109 01:55&lt;00:00 0.7273896467778237]\n",
       "    </div>\n",
       "    "
      ],
      "text/plain": [
       "<IPython.core.display.HTML object>"
      ]
     },
     "metadata": {},
     "output_type": "display_data"
    },
    {
     "data": {
      "text/plain": [
       "0.7273896467778237"
      ]
     },
     "execution_count": null,
     "metadata": {},
     "output_type": "execute_result"
    }
   ],
   "source": [
    "compute_met(F1ScoreMulti(thresh=0.33, average='micro'), learn)"
   ]
  },
  {
   "cell_type": "code",
   "execution_count": null,
   "id": "b3c36fce-2c3d-4062-9900-20a7cf883b19",
   "metadata": {},
   "outputs": [
    {
     "data": {
      "text/html": [
       "\n",
       "<style>\n",
       "    /* Turns off some styling */\n",
       "    progress {\n",
       "        /* gets rid of default border in Firefox and Opera. */\n",
       "        border: none;\n",
       "        /* Needs to be in here for Safari polyfill so background images work as expected. */\n",
       "        background-size: auto;\n",
       "    }\n",
       "    progress:not([value]), progress:not([value])::-webkit-progress-bar {\n",
       "        background: repeating-linear-gradient(45deg, #7e7e7e, #7e7e7e 10px, #5c5c5c 10px, #5c5c5c 20px);\n",
       "    }\n",
       "    .progress-bar-interrupted, .progress-bar-interrupted::-webkit-progress-bar {\n",
       "        background: #F44336;\n",
       "    }\n",
       "</style>\n"
      ],
      "text/plain": [
       "<IPython.core.display.HTML object>"
      ]
     },
     "metadata": {},
     "output_type": "display_data"
    },
    {
     "data": {
      "text/html": [
       "\n",
       "    <div>\n",
       "      <progress value='109' class='' max='109' style='width:300px; height:20px; vertical-align: middle;'></progress>\n",
       "      100.00% [109/109 01:50&lt;00:00 0.7278988583828663]\n",
       "    </div>\n",
       "    "
      ],
      "text/plain": [
       "<IPython.core.display.HTML object>"
      ]
     },
     "metadata": {},
     "output_type": "display_data"
    },
    {
     "data": {
      "text/plain": [
       "0.7278988583828663"
      ]
     },
     "execution_count": null,
     "metadata": {},
     "output_type": "execute_result"
    }
   ],
   "source": [
    "compute_met(F1ScoreMulti(thresh=0.37, average='micro'), learn)"
   ]
  },
  {
   "cell_type": "code",
   "execution_count": null,
   "id": "64a336fe-feaa-43c6-a95d-c3bc97f89f21",
   "metadata": {},
   "outputs": [
    {
     "data": {
      "text/html": [
       "\n",
       "<style>\n",
       "    /* Turns off some styling */\n",
       "    progress {\n",
       "        /* gets rid of default border in Firefox and Opera. */\n",
       "        border: none;\n",
       "        /* Needs to be in here for Safari polyfill so background images work as expected. */\n",
       "        background-size: auto;\n",
       "    }\n",
       "    progress:not([value]), progress:not([value])::-webkit-progress-bar {\n",
       "        background: repeating-linear-gradient(45deg, #7e7e7e, #7e7e7e 10px, #5c5c5c 10px, #5c5c5c 20px);\n",
       "    }\n",
       "    .progress-bar-interrupted, .progress-bar-interrupted::-webkit-progress-bar {\n",
       "        background: #F44336;\n",
       "    }\n",
       "</style>\n"
      ],
      "text/plain": [
       "<IPython.core.display.HTML object>"
      ]
     },
     "metadata": {},
     "output_type": "display_data"
    },
    {
     "data": {
      "text/html": [
       "\n",
       "    <div>\n",
       "      <progress value='109' class='' max='109' style='width:300px; height:20px; vertical-align: middle;'></progress>\n",
       "      100.00% [109/109 01:51&lt;00:00 0.7271513070024805]\n",
       "    </div>\n",
       "    "
      ],
      "text/plain": [
       "<IPython.core.display.HTML object>"
      ]
     },
     "metadata": {},
     "output_type": "display_data"
    },
    {
     "data": {
      "text/plain": [
       "0.7271513070024805"
      ]
     },
     "execution_count": null,
     "metadata": {},
     "output_type": "execute_result"
    }
   ],
   "source": [
    "compute_met(F1ScoreMulti(thresh=0.39, average='micro'), learn)"
   ]
  },
  {
   "cell_type": "code",
   "execution_count": null,
   "id": "26402c4b-81f4-431b-beb2-3018f2748f3c",
   "metadata": {},
   "outputs": [],
   "source": []
  },
  {
   "cell_type": "code",
   "execution_count": null,
   "id": "2682b518-e75f-426a-94fe-e1d6fe7e85d5",
   "metadata": {},
   "outputs": [],
   "source": []
  },
  {
   "cell_type": "markdown",
   "id": "31768643-5749-4566-8cf6-c122a243d33b",
   "metadata": {},
   "source": [
    "AUC Metrics:"
   ]
  },
  {
   "cell_type": "code",
   "execution_count": null,
   "id": "265bf901-71c4-49d6-a585-450c7a160fa8",
   "metadata": {},
   "outputs": [],
   "source": [
    "from sklearn.metrics import roc_curve, auc\n",
    "def auc_metrics(yhat_raw, y):\n",
    "    if yhat_raw.shape[0] <= 1:\n",
    "        return\n",
    "    fpr = {}\n",
    "    tpr = {}\n",
    "    roc_auc = {}\n",
    "    #get AUC for each label individually\n",
    "    relevant_labels = []\n",
    "    auc_labels = {}\n",
    "    for i in range(y.shape[1]):\n",
    "        #only if there are true positives for this label\n",
    "        if y[:,i].sum() > 0:\n",
    "            fpr[i], tpr[i], _ = roc_curve(y[:,i], yhat_raw[:,i])\n",
    "            if len(fpr[i]) > 1 and len(tpr[i]) > 1:\n",
    "                auc_score = auc(fpr[i], tpr[i])\n",
    "                if not np.isnan(auc_score): \n",
    "                    auc_labels[\"auc_%d\" % i] = auc_score\n",
    "                    relevant_labels.append(i)\n",
    "\n",
    "    #macro-AUC: just average the auc scores\n",
    "    aucs = []\n",
    "    for i in relevant_labels:\n",
    "        aucs.append(auc_labels['auc_%d' % i])\n",
    "    roc_auc['auc_macro'] = np.mean(aucs)\n",
    "\n",
    "    #micro-AUC: just look at each individual prediction\n",
    "    ymic = y.ravel()\n",
    "    yhatmic = yhat_raw.ravel()\n",
    "    fpr[\"micro\"], tpr[\"micro\"], _ = roc_curve(ymic, yhatmic) \n",
    "    roc_auc[\"auc_micro\"] = auc(fpr[\"micro\"], tpr[\"micro\"])\n",
    "\n",
    "    return roc_auc"
   ]
  },
  {
   "cell_type": "code",
   "execution_count": null,
   "id": "83ba1d03-301a-4e3e-8f52-c6e4b438c9e1",
   "metadata": {},
   "outputs": [
    {
     "data": {
      "text/plain": [
       "{'auc_macro': 0.9246863848548884, 'auc_micro': 0.9466225882649537}"
      ]
     },
     "execution_count": null,
     "metadata": {},
     "output_type": "execute_result"
    }
   ],
   "source": [
    "auc_metrics(preds.numpy(), targs.numpy())"
   ]
  },
  {
   "cell_type": "code",
   "execution_count": null,
   "id": "281790a5-ec18-42fd-ae65-82b10ef6927e",
   "metadata": {},
   "outputs": [
    {
     "data": {
      "text/plain": [
       "{'auc_macro': 0.9306174885742357, 'auc_micro': 0.9501452437625404}"
      ]
     },
     "execution_count": null,
     "metadata": {},
     "output_type": "execute_result"
    }
   ],
   "source": [
    "auc_metrics(preds.numpy()+preds_r.numpy(), targs.numpy())"
   ]
  },
  {
   "cell_type": "markdown",
   "id": "5647cc8e-7dd3-4947-b981-326f77f5fd2b",
   "metadata": {},
   "source": [
    "precision@k"
   ]
  },
  {
   "cell_type": "code",
   "execution_count": null,
   "id": "ae105b20-e2cf-4371-9fa9-5b5bc453c0df",
   "metadata": {},
   "outputs": [
    {
     "data": {
      "text/plain": [
       "(0.6736842105263159, 0.5508964719491035, 0.36124927703875076)"
      ]
     },
     "execution_count": null,
     "metadata": {},
     "output_type": "execute_result"
    }
   ],
   "source": [
    "precision_at_k(preds, targs, k=5), precision_at_k(preds, targs, k=8), precision_at_k(preds, targs, k=15)"
   ]
  },
  {
   "cell_type": "code",
   "execution_count": null,
   "id": "7ee2b94a-b94a-4402-ae40-34f3f434cd1f",
   "metadata": {},
   "outputs": [
    {
     "data": {
      "text/plain": [
       "(0.6781954887218045, 0.5545112781954887, 0.36333140543666864)"
      ]
     },
     "execution_count": null,
     "metadata": {},
     "output_type": "execute_result"
    }
   ],
   "source": [
    "precision_at_k(preds+preds_r, targs, k=5), precision_at_k(preds+preds_r, targs, k=8), precision_at_k(preds+preds_r, targs, k=15)"
   ]
  }
 ],
 "metadata": {
  "kernelspec": {
   "display_name": "deepk",
   "language": "python",
   "name": "deepk"
  }
 },
 "nbformat": 4,
 "nbformat_minor": 5
}
