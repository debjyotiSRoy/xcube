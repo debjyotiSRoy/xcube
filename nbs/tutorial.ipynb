{
 "cells": [
  {
   "cell_type": "code",
   "execution_count": null,
   "id": "e118575b-ed05-485a-855b-ad0cbd1b00e5",
   "metadata": {},
   "outputs": [],
   "source": [
    "#| eval: false\n",
    "! [ -e /content ] && pip install -Uqq xcube # upgrade xcube on colab"
   ]
  },
  {
   "cell_type": "markdown",
   "id": "f56ed720-1385-46c9-a052-61d1697cdbae",
   "metadata": {},
   "source": [
    "# Tutorials\n",
    "\n",
    "> To help you get started"
   ]
  },
  {
   "cell_type": "markdown",
   "id": "27ea5243-f550-4c93-927a-1c14e1dcab48",
   "metadata": {},
   "source": [
    "- [booting L2R](14_tutorial.boot_l2r.ipynb)\n",
    "- [training L2R](17_tutorial.train_l2r.ipynb)"
   ]
  },
  {
   "cell_type": "code",
   "execution_count": null,
   "id": "7afd84a2-f6d8-4f10-8798-1fe9afb0a5c9",
   "metadata": {},
   "outputs": [],
   "source": []
  }
 ],
 "metadata": {
  "kernelspec": {
   "display_name": "deepK",
   "language": "python",
   "name": "deepk"
  }
 },
 "nbformat": 4,
 "nbformat_minor": 5
}
